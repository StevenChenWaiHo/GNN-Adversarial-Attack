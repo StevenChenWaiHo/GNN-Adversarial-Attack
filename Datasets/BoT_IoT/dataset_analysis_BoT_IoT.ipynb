{
 "cells": [
  {
   "cell_type": "code",
   "execution_count": 1,
   "id": "819099a1",
   "metadata": {},
   "outputs": [],
   "source": [
    "from collections import defaultdict\n",
    "import pandas as pd\n",
    "import networkx as nx\n",
    "import matplotlib.pyplot as plt\n",
    "from BoT_IoT_config import BoT_IoT_Config\n",
    "\n",
    "SOURCE_COL = BoT_IoT_Config.SOURCE_IP_COL_NAME\n",
    "DESTINATION_COL = BoT_IoT_Config.DESTINATION_IP_COL_NAME\n",
    "LABEL_COL = BoT_IoT_Config.IS_ATTACK_COL_NAME\n",
    "CATEGORY_COL = BoT_IoT_Config.ATTACK_CLASS_COL_NAME\n",
    "\n",
    "BENIGN_CLASS_NAME = BoT_IoT_Config.BENIGN_CLASS_NAME\n",
    "TIME_COL = BoT_IoT_Config.TIME_COL_NAMES\n"
   ]
  },
  {
   "cell_type": "code",
   "execution_count": null,
   "id": "2657d728",
   "metadata": {},
   "outputs": [
    {
     "ename": "FileNotFoundError",
     "evalue": "[Errno 2] No such file or directory: './All/all_downsampled.csv'",
     "output_type": "error",
     "traceback": [
      "\u001b[31m---------------------------------------------------------------------------\u001b[39m",
      "\u001b[31mFileNotFoundError\u001b[39m                         Traceback (most recent call last)",
      "\u001b[36mCell\u001b[39m\u001b[36m \u001b[39m\u001b[32mIn[3]\u001b[39m\u001b[32m, line 1\u001b[39m\n\u001b[32m----> \u001b[39m\u001b[32m1\u001b[39m df = \u001b[43mpd\u001b[49m\u001b[43m.\u001b[49m\u001b[43mread_csv\u001b[49m\u001b[43m(\u001b[49m\u001b[33;43m'\u001b[39;49m\u001b[33;43m./All/all_downsampled.csv\u001b[39;49m\u001b[33;43m'\u001b[39;49m\u001b[43m)\u001b[49m\n\u001b[32m      3\u001b[39m G = nx.MultiDiGraph()\n\u001b[32m      5\u001b[39m \u001b[38;5;66;03m# G.add_nodes_from(df[SOURCE_COL].unique())\u001b[39;00m\n\u001b[32m      6\u001b[39m \u001b[38;5;66;03m# G.add_nodes_from(df[DESTINATION_COL].unique())\u001b[39;00m\n",
      "\u001b[36mFile \u001b[39m\u001b[32m/vol/bitbucket/shc20/FYP/GNN-Adversarial-Attack/.venv/lib/python3.12/site-packages/pandas/io/parsers/readers.py:1026\u001b[39m, in \u001b[36mread_csv\u001b[39m\u001b[34m(filepath_or_buffer, sep, delimiter, header, names, index_col, usecols, dtype, engine, converters, true_values, false_values, skipinitialspace, skiprows, skipfooter, nrows, na_values, keep_default_na, na_filter, verbose, skip_blank_lines, parse_dates, infer_datetime_format, keep_date_col, date_parser, date_format, dayfirst, cache_dates, iterator, chunksize, compression, thousands, decimal, lineterminator, quotechar, quoting, doublequote, escapechar, comment, encoding, encoding_errors, dialect, on_bad_lines, delim_whitespace, low_memory, memory_map, float_precision, storage_options, dtype_backend)\u001b[39m\n\u001b[32m   1013\u001b[39m kwds_defaults = _refine_defaults_read(\n\u001b[32m   1014\u001b[39m     dialect,\n\u001b[32m   1015\u001b[39m     delimiter,\n\u001b[32m   (...)\u001b[39m\u001b[32m   1022\u001b[39m     dtype_backend=dtype_backend,\n\u001b[32m   1023\u001b[39m )\n\u001b[32m   1024\u001b[39m kwds.update(kwds_defaults)\n\u001b[32m-> \u001b[39m\u001b[32m1026\u001b[39m \u001b[38;5;28;01mreturn\u001b[39;00m \u001b[43m_read\u001b[49m\u001b[43m(\u001b[49m\u001b[43mfilepath_or_buffer\u001b[49m\u001b[43m,\u001b[49m\u001b[43m \u001b[49m\u001b[43mkwds\u001b[49m\u001b[43m)\u001b[49m\n",
      "\u001b[36mFile \u001b[39m\u001b[32m/vol/bitbucket/shc20/FYP/GNN-Adversarial-Attack/.venv/lib/python3.12/site-packages/pandas/io/parsers/readers.py:620\u001b[39m, in \u001b[36m_read\u001b[39m\u001b[34m(filepath_or_buffer, kwds)\u001b[39m\n\u001b[32m    617\u001b[39m _validate_names(kwds.get(\u001b[33m\"\u001b[39m\u001b[33mnames\u001b[39m\u001b[33m\"\u001b[39m, \u001b[38;5;28;01mNone\u001b[39;00m))\n\u001b[32m    619\u001b[39m \u001b[38;5;66;03m# Create the parser.\u001b[39;00m\n\u001b[32m--> \u001b[39m\u001b[32m620\u001b[39m parser = \u001b[43mTextFileReader\u001b[49m\u001b[43m(\u001b[49m\u001b[43mfilepath_or_buffer\u001b[49m\u001b[43m,\u001b[49m\u001b[43m \u001b[49m\u001b[43m*\u001b[49m\u001b[43m*\u001b[49m\u001b[43mkwds\u001b[49m\u001b[43m)\u001b[49m\n\u001b[32m    622\u001b[39m \u001b[38;5;28;01mif\u001b[39;00m chunksize \u001b[38;5;129;01mor\u001b[39;00m iterator:\n\u001b[32m    623\u001b[39m     \u001b[38;5;28;01mreturn\u001b[39;00m parser\n",
      "\u001b[36mFile \u001b[39m\u001b[32m/vol/bitbucket/shc20/FYP/GNN-Adversarial-Attack/.venv/lib/python3.12/site-packages/pandas/io/parsers/readers.py:1620\u001b[39m, in \u001b[36mTextFileReader.__init__\u001b[39m\u001b[34m(self, f, engine, **kwds)\u001b[39m\n\u001b[32m   1617\u001b[39m     \u001b[38;5;28mself\u001b[39m.options[\u001b[33m\"\u001b[39m\u001b[33mhas_index_names\u001b[39m\u001b[33m\"\u001b[39m] = kwds[\u001b[33m\"\u001b[39m\u001b[33mhas_index_names\u001b[39m\u001b[33m\"\u001b[39m]\n\u001b[32m   1619\u001b[39m \u001b[38;5;28mself\u001b[39m.handles: IOHandles | \u001b[38;5;28;01mNone\u001b[39;00m = \u001b[38;5;28;01mNone\u001b[39;00m\n\u001b[32m-> \u001b[39m\u001b[32m1620\u001b[39m \u001b[38;5;28mself\u001b[39m._engine = \u001b[38;5;28;43mself\u001b[39;49m\u001b[43m.\u001b[49m\u001b[43m_make_engine\u001b[49m\u001b[43m(\u001b[49m\u001b[43mf\u001b[49m\u001b[43m,\u001b[49m\u001b[43m \u001b[49m\u001b[38;5;28;43mself\u001b[39;49m\u001b[43m.\u001b[49m\u001b[43mengine\u001b[49m\u001b[43m)\u001b[49m\n",
      "\u001b[36mFile \u001b[39m\u001b[32m/vol/bitbucket/shc20/FYP/GNN-Adversarial-Attack/.venv/lib/python3.12/site-packages/pandas/io/parsers/readers.py:1880\u001b[39m, in \u001b[36mTextFileReader._make_engine\u001b[39m\u001b[34m(self, f, engine)\u001b[39m\n\u001b[32m   1878\u001b[39m     \u001b[38;5;28;01mif\u001b[39;00m \u001b[33m\"\u001b[39m\u001b[33mb\u001b[39m\u001b[33m\"\u001b[39m \u001b[38;5;129;01mnot\u001b[39;00m \u001b[38;5;129;01min\u001b[39;00m mode:\n\u001b[32m   1879\u001b[39m         mode += \u001b[33m\"\u001b[39m\u001b[33mb\u001b[39m\u001b[33m\"\u001b[39m\n\u001b[32m-> \u001b[39m\u001b[32m1880\u001b[39m \u001b[38;5;28mself\u001b[39m.handles = \u001b[43mget_handle\u001b[49m\u001b[43m(\u001b[49m\n\u001b[32m   1881\u001b[39m \u001b[43m    \u001b[49m\u001b[43mf\u001b[49m\u001b[43m,\u001b[49m\n\u001b[32m   1882\u001b[39m \u001b[43m    \u001b[49m\u001b[43mmode\u001b[49m\u001b[43m,\u001b[49m\n\u001b[32m   1883\u001b[39m \u001b[43m    \u001b[49m\u001b[43mencoding\u001b[49m\u001b[43m=\u001b[49m\u001b[38;5;28;43mself\u001b[39;49m\u001b[43m.\u001b[49m\u001b[43moptions\u001b[49m\u001b[43m.\u001b[49m\u001b[43mget\u001b[49m\u001b[43m(\u001b[49m\u001b[33;43m\"\u001b[39;49m\u001b[33;43mencoding\u001b[39;49m\u001b[33;43m\"\u001b[39;49m\u001b[43m,\u001b[49m\u001b[43m \u001b[49m\u001b[38;5;28;43;01mNone\u001b[39;49;00m\u001b[43m)\u001b[49m\u001b[43m,\u001b[49m\n\u001b[32m   1884\u001b[39m \u001b[43m    \u001b[49m\u001b[43mcompression\u001b[49m\u001b[43m=\u001b[49m\u001b[38;5;28;43mself\u001b[39;49m\u001b[43m.\u001b[49m\u001b[43moptions\u001b[49m\u001b[43m.\u001b[49m\u001b[43mget\u001b[49m\u001b[43m(\u001b[49m\u001b[33;43m\"\u001b[39;49m\u001b[33;43mcompression\u001b[39;49m\u001b[33;43m\"\u001b[39;49m\u001b[43m,\u001b[49m\u001b[43m \u001b[49m\u001b[38;5;28;43;01mNone\u001b[39;49;00m\u001b[43m)\u001b[49m\u001b[43m,\u001b[49m\n\u001b[32m   1885\u001b[39m \u001b[43m    \u001b[49m\u001b[43mmemory_map\u001b[49m\u001b[43m=\u001b[49m\u001b[38;5;28;43mself\u001b[39;49m\u001b[43m.\u001b[49m\u001b[43moptions\u001b[49m\u001b[43m.\u001b[49m\u001b[43mget\u001b[49m\u001b[43m(\u001b[49m\u001b[33;43m\"\u001b[39;49m\u001b[33;43mmemory_map\u001b[39;49m\u001b[33;43m\"\u001b[39;49m\u001b[43m,\u001b[49m\u001b[43m \u001b[49m\u001b[38;5;28;43;01mFalse\u001b[39;49;00m\u001b[43m)\u001b[49m\u001b[43m,\u001b[49m\n\u001b[32m   1886\u001b[39m \u001b[43m    \u001b[49m\u001b[43mis_text\u001b[49m\u001b[43m=\u001b[49m\u001b[43mis_text\u001b[49m\u001b[43m,\u001b[49m\n\u001b[32m   1887\u001b[39m \u001b[43m    \u001b[49m\u001b[43merrors\u001b[49m\u001b[43m=\u001b[49m\u001b[38;5;28;43mself\u001b[39;49m\u001b[43m.\u001b[49m\u001b[43moptions\u001b[49m\u001b[43m.\u001b[49m\u001b[43mget\u001b[49m\u001b[43m(\u001b[49m\u001b[33;43m\"\u001b[39;49m\u001b[33;43mencoding_errors\u001b[39;49m\u001b[33;43m\"\u001b[39;49m\u001b[43m,\u001b[49m\u001b[43m \u001b[49m\u001b[33;43m\"\u001b[39;49m\u001b[33;43mstrict\u001b[39;49m\u001b[33;43m\"\u001b[39;49m\u001b[43m)\u001b[49m\u001b[43m,\u001b[49m\n\u001b[32m   1888\u001b[39m \u001b[43m    \u001b[49m\u001b[43mstorage_options\u001b[49m\u001b[43m=\u001b[49m\u001b[38;5;28;43mself\u001b[39;49m\u001b[43m.\u001b[49m\u001b[43moptions\u001b[49m\u001b[43m.\u001b[49m\u001b[43mget\u001b[49m\u001b[43m(\u001b[49m\u001b[33;43m\"\u001b[39;49m\u001b[33;43mstorage_options\u001b[39;49m\u001b[33;43m\"\u001b[39;49m\u001b[43m,\u001b[49m\u001b[43m \u001b[49m\u001b[38;5;28;43;01mNone\u001b[39;49;00m\u001b[43m)\u001b[49m\u001b[43m,\u001b[49m\n\u001b[32m   1889\u001b[39m \u001b[43m\u001b[49m\u001b[43m)\u001b[49m\n\u001b[32m   1890\u001b[39m \u001b[38;5;28;01massert\u001b[39;00m \u001b[38;5;28mself\u001b[39m.handles \u001b[38;5;129;01mis\u001b[39;00m \u001b[38;5;129;01mnot\u001b[39;00m \u001b[38;5;28;01mNone\u001b[39;00m\n\u001b[32m   1891\u001b[39m f = \u001b[38;5;28mself\u001b[39m.handles.handle\n",
      "\u001b[36mFile \u001b[39m\u001b[32m/vol/bitbucket/shc20/FYP/GNN-Adversarial-Attack/.venv/lib/python3.12/site-packages/pandas/io/common.py:873\u001b[39m, in \u001b[36mget_handle\u001b[39m\u001b[34m(path_or_buf, mode, encoding, compression, memory_map, is_text, errors, storage_options)\u001b[39m\n\u001b[32m    868\u001b[39m \u001b[38;5;28;01melif\u001b[39;00m \u001b[38;5;28misinstance\u001b[39m(handle, \u001b[38;5;28mstr\u001b[39m):\n\u001b[32m    869\u001b[39m     \u001b[38;5;66;03m# Check whether the filename is to be opened in binary mode.\u001b[39;00m\n\u001b[32m    870\u001b[39m     \u001b[38;5;66;03m# Binary mode does not support 'encoding' and 'newline'.\u001b[39;00m\n\u001b[32m    871\u001b[39m     \u001b[38;5;28;01mif\u001b[39;00m ioargs.encoding \u001b[38;5;129;01mand\u001b[39;00m \u001b[33m\"\u001b[39m\u001b[33mb\u001b[39m\u001b[33m\"\u001b[39m \u001b[38;5;129;01mnot\u001b[39;00m \u001b[38;5;129;01min\u001b[39;00m ioargs.mode:\n\u001b[32m    872\u001b[39m         \u001b[38;5;66;03m# Encoding\u001b[39;00m\n\u001b[32m--> \u001b[39m\u001b[32m873\u001b[39m         handle = \u001b[38;5;28;43mopen\u001b[39;49m\u001b[43m(\u001b[49m\n\u001b[32m    874\u001b[39m \u001b[43m            \u001b[49m\u001b[43mhandle\u001b[49m\u001b[43m,\u001b[49m\n\u001b[32m    875\u001b[39m \u001b[43m            \u001b[49m\u001b[43mioargs\u001b[49m\u001b[43m.\u001b[49m\u001b[43mmode\u001b[49m\u001b[43m,\u001b[49m\n\u001b[32m    876\u001b[39m \u001b[43m            \u001b[49m\u001b[43mencoding\u001b[49m\u001b[43m=\u001b[49m\u001b[43mioargs\u001b[49m\u001b[43m.\u001b[49m\u001b[43mencoding\u001b[49m\u001b[43m,\u001b[49m\n\u001b[32m    877\u001b[39m \u001b[43m            \u001b[49m\u001b[43merrors\u001b[49m\u001b[43m=\u001b[49m\u001b[43merrors\u001b[49m\u001b[43m,\u001b[49m\n\u001b[32m    878\u001b[39m \u001b[43m            \u001b[49m\u001b[43mnewline\u001b[49m\u001b[43m=\u001b[49m\u001b[33;43m\"\u001b[39;49m\u001b[33;43m\"\u001b[39;49m\u001b[43m,\u001b[49m\n\u001b[32m    879\u001b[39m \u001b[43m        \u001b[49m\u001b[43m)\u001b[49m\n\u001b[32m    880\u001b[39m     \u001b[38;5;28;01melse\u001b[39;00m:\n\u001b[32m    881\u001b[39m         \u001b[38;5;66;03m# Binary mode\u001b[39;00m\n\u001b[32m    882\u001b[39m         handle = \u001b[38;5;28mopen\u001b[39m(handle, ioargs.mode)\n",
      "\u001b[31mFileNotFoundError\u001b[39m: [Errno 2] No such file or directory: './All/all_downsampled.csv'"
     ]
    }
   ],
   "source": [
    "\n",
    "df = pd.read_csv('./All/all_raw.csv')\n",
    "\n",
    "G = nx.MultiDiGraph()\n",
    "\n",
    "# G.add_nodes_from(df[SOURCE_COL].unique())\n",
    "# G.add_nodes_from(df[DESTINATION_COL].unique())\n",
    "\n",
    "G.add_edges_from(\n",
    "    (row[SOURCE_COL], row[DESTINATION_COL], {'attack_category': row[CATEGORY_COL], 'label': row[LABEL_COL]})\n",
    "    for _, row in df.iterrows()\n",
    ")\n",
    "\n",
    "category_in_degrees = defaultdict(list)\n",
    "\n",
    "for node in G.nodes:\n",
    "    in_edges = G.in_edges(node, data=True)\n",
    "    out_edges = G.out_edges(node, data=True)\n",
    "\n",
    "    attacker = False\n",
    "    for _, _, data in out_edges:\n",
    "        if data.get('label') == 1:  # Check if the edge is labeled as an attack\n",
    "            attacker = True\n",
    "            category = data.get('attack_category', 'Unknown')\n",
    "            category_in_degrees[category].append(len(in_edges))\n",
    "            break\n",
    "\n",
    "    if not attacker:\n",
    "        category_in_degrees[BENIGN_CLASS_NAME].append(len(in_edges))\n",
    "\n",
    "plt.figure(figsize=(10, 6))\n",
    "\n",
    "print(len(G.nodes))\n",
    "print(category_in_degrees)\n",
    "\n",
    "# Prepare data for scatter plot\n",
    "categories = []\n",
    "in_degrees = []\n",
    "\n",
    "for category, degrees in category_in_degrees.items():\n",
    "    categories.extend([category] * len(degrees))\n",
    "    in_degrees.extend(degrees)\n",
    "\n",
    "plt.scatter(categories, in_degrees, color='skyblue', s=100, alpha=0.6)\n",
    "plt.xlabel('Attack Categories')\n",
    "plt.ylabel('In-Degree')\n",
    "plt.title('In-Degree Distribution by Attack Category')\n",
    "plt.xticks(rotation=90)\n",
    "plt.tight_layout()\n",
    "plt.show()"
   ]
  },
  {
   "cell_type": "code",
   "execution_count": null,
   "id": "fd9c6515",
   "metadata": {},
   "outputs": [
    {
     "name": "stderr",
     "output_type": "stream",
     "text": [
      "/tmp/ipykernel_2235746/1409605082.py:6: FutureWarning: DataFrame.applymap has been deprecated. Use DataFrame.map instead.\n",
      "  df = df.applymap(lambda x: x.strip() if isinstance(x, str) else x)\n"
     ]
    },
    {
     "name": "stdout",
     "output_type": "stream",
     "text": [
      "Attacker Nodes: ['sport' '0' '2142' ... 9819 24203 24975]\n",
      "Source Node to Attacker: ['0' '2142' '13284' ... 24203 24975 60876]\n",
      "Example Attacks on Attacker Nodes:                 srcip             sport  dstip dsport proto      state    dur  \\\n",
      "10.40.85.1_0        0       224.0.0.5_0      0   ospf   INT  50.004341    384   \n",
      "59.166.0.6_0     2142   149.171.126.4_0     53    udp   CON   0.001134    132   \n",
      "175.45.176.0_0  13284  149.171.126.16_0     80    tcp   FIN    2.39039   1362   \n",
      "59.166.0.1_0    21270   149.171.126.9_0    111    udp   CON   0.005153    568   \n",
      "59.166.0.1_0    48847   149.171.126.5_0     53    udp   CON   0.001093    132   \n",
      "...               ...               ...    ...    ...   ...        ...    ...   \n",
      "59.166.0.9_3     9819   149.171.126.0_3    143    tcp   FIN   1.643158   7810   \n",
      "59.166.0.9_3    20545   149.171.126.4_3  34428    tcp   FIN   0.023955   2542   \n",
      "59.166.0.2_3    24203   149.171.126.4_3     25    tcp   FIN   0.042211  37812   \n",
      "59.166.0.4_3    24975   149.171.126.3_3     80    tcp   FIN   1.029959   1580   \n",
      "59.166.0.1_3    60876   149.171.126.9_3  11680    tcp   FIN   0.002796    320   \n",
      "\n",
      "               sbytes dbytes sttl  ... ct_ftp_cmd ct_srv_src ct_srv_dst  \\\n",
      "10.40.85.1_0        0      1    0  ...          2          4          4   \n",
      "59.166.0.6_0      164     31   29  ...         12          7          1   \n",
      "175.45.176.0_0    268    254  252  ...          5          2          2   \n",
      "59.166.0.1_0      312     31   29  ...          8          4          2   \n",
      "59.166.0.1_0      164     31   29  ...          6          9          2   \n",
      "...               ...    ...  ...  ...        ...        ...        ...   \n",
      "59.166.0.9_3    15108     31   29  ...          1          7          1   \n",
      "59.166.0.9_3    22128     31   29  ...          4          9          6   \n",
      "59.166.0.2_3     3380     31   29  ...          1          2          2   \n",
      "59.166.0.4_3    10168     31   29  ...          3          1          6   \n",
      "59.166.0.1_3     1938     31   29  ...          3          3          7   \n",
      "\n",
      "               ct_dst_ltm ct_src_ltm ct_src_dport_ltm ct_dst_sport_ltm  \\\n",
      "10.40.85.1_0            2          2                4                2   \n",
      "59.166.0.6_0            2          2                1                1   \n",
      "175.45.176.0_0          1          1                1                1   \n",
      "59.166.0.1_0            5          2                1                2   \n",
      "59.166.0.1_0            5          1                1                1   \n",
      "...                   ...        ...              ...              ...   \n",
      "59.166.0.9_3            1          1                1                1   \n",
      "59.166.0.9_3            5          1                1                2   \n",
      "59.166.0.2_3            1          1                1                1   \n",
      "59.166.0.4_3            2          1                1                1   \n",
      "59.166.0.1_3            8          1                1                5   \n",
      "\n",
      "                ct_dst_src_ltm attack_cat label  \n",
      "10.40.85.1_0            Normal          0     0  \n",
      "59.166.0.6_0            Normal          0     0  \n",
      "175.45.176.0_0  Reconnaissance          1     0  \n",
      "59.166.0.1_0            Normal          0     0  \n",
      "59.166.0.1_0            Normal          0     0  \n",
      "...                        ...        ...   ...  \n",
      "59.166.0.9_3            Normal          0     3  \n",
      "59.166.0.9_3            Normal          0     3  \n",
      "59.166.0.2_3            Normal          0     3  \n",
      "59.166.0.4_3            Normal          0     3  \n",
      "59.166.0.1_3            Normal          0     3  \n",
      "\n",
      "[68370 rows x 49 columns]\n",
      "Source Node to Attacker with Attack Traffic: ['0' '2142' '13284' ... 24203 24975 60876]\n",
      "No of Attacks on Attacker Nodes: 512093\n",
      "Traffic to Attacker Nodes Attack Type: ['0' '1' 1 0]\n"
     ]
    }
   ],
   "source": [
    "def print_attack_node_and_their_in_traffic(df):\n",
    "\n",
    "    # Strip whitespaces \n",
    "    df.columns = df.columns.str.strip()\n",
    "    \n",
    "    df = df.applymap(lambda x: x.strip() if isinstance(x, str) else x)\n",
    "\n",
    "    # Find all attacker nodes\n",
    "    attacker_nodes = df[df[CATEGORY_COL] != BENIGN_CLASS_NAME][SOURCE_COL].unique()\n",
    "    print(\"Attacker Nodes:\", attacker_nodes)\n",
    "\n",
    "    # Find all traffic where attacker node is the destination\n",
    "    directed_to_attacker_traffic = df[df[DESTINATION_COL].isin(attacker_nodes)]\n",
    "\n",
    "    # Find all nodes that have directed traffic to attacker nodes\n",
    "    source_node_to_attacker = directed_to_attacker_traffic[SOURCE_COL].unique()\n",
    "    print(\"Source Node to Attacker:\", source_node_to_attacker)\n",
    "\n",
    "    attack_directed_to_attacker_traffic = directed_to_attacker_traffic[directed_to_attacker_traffic[CATEGORY_COL] != BENIGN_CLASS_NAME]\n",
    "    \n",
    "    print(\"Example Attacks on Attacker Nodes:\", attack_directed_to_attacker_traffic.groupby(SOURCE_COL).head(1))\n",
    "\n",
    "    print(\"Source Node to Attacker with Attack Traffic:\", attack_directed_to_attacker_traffic[SOURCE_COL].unique())\n",
    "\n",
    "    print(\"No of Attacks on Attacker Nodes:\", len(attack_directed_to_attacker_traffic))\n",
    "\n",
    "    directed_to_attacker_traffic_attack_type = directed_to_attacker_traffic[CATEGORY_COL].unique()\n",
    "    print(\"Traffic to Attacker Nodes Attack Type:\", directed_to_attacker_traffic_attack_type)\n",
    "\n",
    "print_attack_node_and_their_in_traffic(df)"
   ]
  },
  {
   "cell_type": "code",
   "execution_count": null,
   "id": "ba046926",
   "metadata": {},
   "outputs": [
    {
     "name": "stdout",
     "output_type": "stream",
     "text": [
      "dstip             attack_cat    \n",
      "149.171.126.10_0  Backdoors           1\n",
      "                  DoS                67\n",
      "                  Exploits          437\n",
      "                  Fuzzers           460\n",
      "                  Generic            54\n",
      "                                   ... \n",
      "149.171.126.19_3  Fuzzers           751\n",
      "                  Generic           152\n",
      "                  Reconnaissance    436\n",
      "                  Shellcode          63\n",
      "                  Worms               4\n",
      "Length: 347, dtype: int64\n"
     ]
    }
   ],
   "source": [
    "attack_traffic = df[df[LABEL_COL] == 1]\n",
    "\n",
    "# Group attack traffic by destination IP and attack category, and count occurrences\n",
    "attack_traffic_grouped = attack_traffic.groupby([DESTINATION_COL, CATEGORY_COL])\n",
    "\n",
    "# Print the number of rows in the grouped DataFrame\n",
    "print(attack_traffic_grouped.size())"
   ]
  },
  {
   "cell_type": "code",
   "execution_count": 3,
   "id": "77fab396",
   "metadata": {},
   "outputs": [
    {
     "name": "stderr",
     "output_type": "stream",
     "text": [
      "/tmp/ipykernel_1766846/3490017877.py:3: DtypeWarning: Columns (7,9) have mixed types. Specify dtype option on import or set low_memory=False.\n",
      "  df = pd.read_csv('./All/all_raw.csv', header=0)\n"
     ]
    },
    {
     "name": "stdout",
     "output_type": "stream",
     "text": [
      "Processing file: UNSW_2018_IoT_Botnet_Full5pc_1.csv\n"
     ]
    },
    {
     "name": "stderr",
     "output_type": "stream",
     "text": [
      "/tmp/ipykernel_1766846/3490017877.py:37: DtypeWarning: Columns (7,9) have mixed types. Specify dtype option on import or set low_memory=False.\n",
      "  file_df = pd.read_csv(file_path, header=0)\n"
     ]
    },
    {
     "name": "stdout",
     "output_type": "stream",
     "text": [
      "Min/Max Start Timestamp in UNSW_2018_IoT_Botnet_Full5pc_1.csv: 1528081321.63668/1528088552.0746\n",
      "Min/Max End Timestamp in UNSW_2018_IoT_Botnet_Full5pc_1.csv: 1528081321.75066/1528090077.70659\n",
      "Processing file: UNSW_2018_IoT_Botnet_Full5pc_3.csv\n"
     ]
    },
    {
     "name": "stderr",
     "output_type": "stream",
     "text": [
      "/tmp/ipykernel_1766846/3490017877.py:37: DtypeWarning: Columns (7,9) have mixed types. Specify dtype option on import or set low_memory=False.\n",
      "  file_df = pd.read_csv(file_path, header=0)\n"
     ]
    },
    {
     "name": "stdout",
     "output_type": "stream",
     "text": [
      "Min/Max Start Timestamp in UNSW_2018_IoT_Botnet_Full5pc_3.csv: 1528095746.13175/1528099338.28798\n",
      "Min/Max End Timestamp in UNSW_2018_IoT_Botnet_Full5pc_3.csv: 1528095756.4446/1528099352.32019\n",
      "Processing file: UNSW_2018_IoT_Botnet_Full5pc_4.csv\n"
     ]
    },
    {
     "name": "stderr",
     "output_type": "stream",
     "text": [
      "/tmp/ipykernel_1766846/3490017877.py:37: DtypeWarning: Columns (7,9) have mixed types. Specify dtype option on import or set low_memory=False.\n",
      "  file_df = pd.read_csv(file_path, header=0)\n"
     ]
    },
    {
     "name": "stdout",
     "output_type": "stream",
     "text": [
      "Min/Max Start Timestamp in UNSW_2018_IoT_Botnet_Full5pc_4.csv: 1526344031.66514/1529380791.13583\n",
      "Min/Max End Timestamp in UNSW_2018_IoT_Botnet_Full5pc_4.csv: 1526344227.07794/1529381808.18636\n",
      "Processing file: UNSW_2018_IoT_Botnet_Full5pc_2.csv\n"
     ]
    },
    {
     "name": "stderr",
     "output_type": "stream",
     "text": [
      "/tmp/ipykernel_1766846/3490017877.py:37: DtypeWarning: Columns (7,9) have mixed types. Specify dtype option on import or set low_memory=False.\n",
      "  file_df = pd.read_csv(file_path, header=0)\n"
     ]
    },
    {
     "name": "stdout",
     "output_type": "stream",
     "text": [
      "Min/Max Start Timestamp in UNSW_2018_IoT_Botnet_Full5pc_2.csv: 1528084952.58206/1528102962.8547\n",
      "Min/Max End Timestamp in UNSW_2018_IoT_Botnet_Full5pc_2.csv: 1528084954.67975/1528103076.41209\n",
      "Attacker:  ['192.168.100.150' '192.168.100.149' '192.168.100.148' '192.168.100.147'\n",
      " '192.168.100.3' '192.168.100.5' '192.168.100.6' '192.168.100.7']\n",
      "Victim:  ['192.168.100.3' '192.168.100.150' '192.168.100.149' '192.168.100.148'\n",
      " '192.168.100.147' '192.168.100.5' '192.168.100.6' '192.168.100.7']\n",
      "Nodes that are both attackers and victims: {'192.168.100.6', '192.168.100.147', '192.168.100.148', '192.168.100.150', '192.168.100.7', '192.168.100.3', '192.168.100.149', '192.168.100.5'}\n"
     ]
    },
    {
     "data": {
      "text/plain": [
       "(array(['192.168.100.150', '192.168.100.149', '192.168.100.148',\n",
       "        '192.168.100.147', '192.168.100.3', '192.168.100.5',\n",
       "        '192.168.100.6', '192.168.100.7'], dtype=object),\n",
       " array(['192.168.100.3', '192.168.100.150', '192.168.100.149',\n",
       "        '192.168.100.148', '192.168.100.147', '192.168.100.5',\n",
       "        '192.168.100.6', '192.168.100.7'], dtype=object))"
      ]
     },
     "execution_count": 3,
     "metadata": {},
     "output_type": "execute_result"
    }
   ],
   "source": [
    "import os\n",
    "\n",
    "df = pd.read_csv('./All/all_raw.csv', header=0)\n",
    "\n",
    "# Get nodes that are both attackers and victims\n",
    "def get_attacker_and_victim_nodes(df):\n",
    "    # Strip whitespaces from column names\n",
    "    df.columns = df.columns.str.strip()\n",
    "\n",
    "    attack_traffic = df[df[CATEGORY_COL] != BoT_IoT_Config.BENIGN_CLASS_NAME]\n",
    "    \n",
    "    # Get unique attacker nodes\n",
    "    attacker_nodes = attack_traffic[BoT_IoT_Config.SOURCE_IP_COL_NAME].unique()\n",
    "    \n",
    "    # Get unique victim nodes (nodes that are destinations)\n",
    "    victim_nodes = attack_traffic[BoT_IoT_Config.DESTINATION_IP_COL_NAME].unique()\n",
    "    \n",
    "    # Find intersection of attacker and victim nodes\n",
    "    both_attacker_and_victim = set(attacker_nodes) & set(victim_nodes)\n",
    "    \n",
    "    print(\"Attacker: \", attacker_nodes)\n",
    "    print(\"Victim: \", victim_nodes)\n",
    "    print(\"Nodes that are both attackers and victims:\", both_attacker_and_victim)\n",
    "\n",
    "    return (attacker_nodes, victim_nodes)\n",
    "\n",
    "# Directory containing the CSV files\n",
    "directory = './Raw'\n",
    "\n",
    "# Iterate through all CSV files in the directory\n",
    "for filename in os.listdir(directory):\n",
    "    if filename.endswith('.csv'):\n",
    "        file_path = os.path.join(directory, filename)\n",
    "        print(f\"Processing file: {filename}\")\n",
    "        \n",
    "        # Read the CSV file\n",
    "        file_df = pd.read_csv(file_path, header=0)\n",
    "        \n",
    "        # Run the function\n",
    "        # get_attacker_and_victim_nodes(file_df)\n",
    "        min_time = file_df[TIME_COL[0]].min()\n",
    "        max_time = file_df[TIME_COL[0]].max()\n",
    "        print(f\"Min/Max Start Timestamp in {filename}: {min_time}/{max_time}\")\n",
    "        \n",
    "        min_time = file_df[TIME_COL[1]].min()\n",
    "        max_time = file_df[TIME_COL[1]].max()\n",
    "        print(f\"Min/Max End Timestamp in {filename}: {min_time}/{max_time}\")\n",
    "\n",
    "get_attacker_and_victim_nodes(df)"
   ]
  }
 ],
 "metadata": {
  "kernelspec": {
   "display_name": ".venv",
   "language": "python",
   "name": "python3"
  },
  "language_info": {
   "codemirror_mode": {
    "name": "ipython",
    "version": 3
   },
   "file_extension": ".py",
   "mimetype": "text/x-python",
   "name": "python",
   "nbconvert_exporter": "python",
   "pygments_lexer": "ipython3",
   "version": "3.12.3"
  }
 },
 "nbformat": 4,
 "nbformat_minor": 5
}
