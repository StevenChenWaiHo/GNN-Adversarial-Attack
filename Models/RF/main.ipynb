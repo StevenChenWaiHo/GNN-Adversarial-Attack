{
 "cells": [
  {
   "cell_type": "code",
   "execution_count": null,
   "id": "efc9518a",
   "metadata": {},
   "outputs": [
    {
     "name": "stdout",
     "output_type": "stream",
     "text": [
      "Fitting 3 folds for each of 12 candidates, totalling 36 fits\n",
      "[CV] END ......................max_depth=10, n_estimators=50; total time=  18.6s\n",
      "[CV] END ......................max_depth=10, n_estimators=50; total time=  19.5s\n",
      "[CV] END ......................max_depth=10, n_estimators=50; total time=  19.6s\n",
      "[CV] END ....................max_depth=None, n_estimators=50; total time=  23.2s\n",
      "[CV] END ....................max_depth=None, n_estimators=50; total time=  23.4s\n",
      "[CV] END ....................max_depth=None, n_estimators=50; total time=  24.5s\n",
      "[CV] END .....................max_depth=10, n_estimators=100; total time=  42.7s\n",
      "[CV] END .....................max_depth=10, n_estimators=100; total time=  43.9s\n",
      "[CV] END .....................max_depth=10, n_estimators=100; total time=  44.6s\n",
      "[CV] END ......................max_depth=20, n_estimators=50; total time=  26.9s\n",
      "[CV] END ...................max_depth=None, n_estimators=100; total time=  50.8s\n",
      "[CV] END ...................max_depth=None, n_estimators=100; total time=  51.4s\n",
      "[CV] END ......................max_depth=20, n_estimators=50; total time=  31.6s\n",
      "[CV] END ...................max_depth=None, n_estimators=100; total time=  53.0s\n",
      "[CV] END ......................max_depth=20, n_estimators=50; total time=  34.7s\n",
      "[CV] END ......................max_depth=30, n_estimators=50; total time=  29.1s\n",
      "[CV] END ......................max_depth=30, n_estimators=50; total time=  29.9s\n",
      "[CV] END ......................max_depth=30, n_estimators=50; total time=  32.1s\n",
      "[CV] END .....................max_depth=20, n_estimators=100; total time=  59.5s\n",
      "[CV] END .....................max_depth=10, n_estimators=200; total time= 1.5min\n",
      "[CV] END .....................max_depth=20, n_estimators=100; total time=  56.0s\n",
      "[CV] END .....................max_depth=20, n_estimators=100; total time=  58.0s\n",
      "[CV] END ...................max_depth=None, n_estimators=200; total time= 1.8min\n",
      "[CV] END ...................max_depth=None, n_estimators=200; total time= 1.8min\n",
      "[CV] END ...................max_depth=None, n_estimators=200; total time= 1.8min\n",
      "[CV] END .....................max_depth=10, n_estimators=200; total time= 1.6min\n",
      "[CV] END .....................max_depth=10, n_estimators=200; total time= 1.6min\n",
      "[CV] END .....................max_depth=30, n_estimators=100; total time=  57.2s\n",
      "[CV] END .....................max_depth=30, n_estimators=100; total time=  46.7s\n",
      "[CV] END .....................max_depth=30, n_estimators=100; total time=  47.8s\n",
      "[CV] END .....................max_depth=20, n_estimators=200; total time= 1.5min\n",
      "[CV] END .....................max_depth=20, n_estimators=200; total time= 1.5min\n",
      "[CV] END .....................max_depth=20, n_estimators=200; total time= 1.5min\n",
      "[CV] END .....................max_depth=30, n_estimators=200; total time= 1.2min\n",
      "[CV] END .....................max_depth=30, n_estimators=200; total time= 1.3min\n",
      "[CV] END .....................max_depth=30, n_estimators=200; total time= 1.2min\n",
      "Best Parameters: {'max_depth': 20, 'n_estimators': 200}\n",
      "Test Classification Report:\n"
     ]
    },
    {
     "name": "stderr",
     "output_type": "stream",
     "text": [
      "/vol/bitbucket/shc20/FYP/.venv/lib/python3.12/site-packages/sklearn/metrics/_classification.py:1565: UndefinedMetricWarning: Precision is ill-defined and being set to 0.0 in labels with no predicted samples. Use `zero_division` parameter to control this behavior.\n",
      "  _warn_prf(average, modifier, f\"{metric.capitalize()} is\", len(result))\n"
     ]
    },
    {
     "name": "stdout",
     "output_type": "stream",
     "text": [
      "                precision    recall  f1-score   support\n",
      "\n",
      "      Analysis       0.55      0.15      0.24       818\n",
      "      Backdoor       0.71      0.09      0.16       526\n",
      "     Backdoors       0.00      0.00      0.00       157\n",
      "           DoS       0.39      0.16      0.22      4945\n",
      "      Exploits       0.62      0.89      0.73     13374\n",
      "       Fuzzers       0.81      0.87      0.84      7317\n",
      "       Generic       1.00      0.99      0.99     64420\n",
      "        Normal       1.00      0.99      0.99     66713\n",
      "Reconnaissance       0.92      0.76      0.83      4181\n",
      "     Shellcode       0.61      0.61      0.61       451\n",
      "         Worms       0.47      0.15      0.23        46\n",
      "\n",
      "      accuracy                           0.93    162948\n",
      "     macro avg       0.64      0.51      0.53    162948\n",
      "  weighted avg       0.93      0.93      0.93    162948\n",
      "\n"
     ]
    },
    {
     "name": "stderr",
     "output_type": "stream",
     "text": [
      "/vol/bitbucket/shc20/FYP/.venv/lib/python3.12/site-packages/sklearn/metrics/_classification.py:1565: UndefinedMetricWarning: Precision is ill-defined and being set to 0.0 in labels with no predicted samples. Use `zero_division` parameter to control this behavior.\n",
      "  _warn_prf(average, modifier, f\"{metric.capitalize()} is\", len(result))\n",
      "/vol/bitbucket/shc20/FYP/.venv/lib/python3.12/site-packages/sklearn/metrics/_classification.py:1565: UndefinedMetricWarning: Precision is ill-defined and being set to 0.0 in labels with no predicted samples. Use `zero_division` parameter to control this behavior.\n",
      "  _warn_prf(average, modifier, f\"{metric.capitalize()} is\", len(result))\n"
     ]
    }
   ],
   "source": [
    "from sklearn.ensemble import RandomForestClassifier\n",
    "from sklearn.model_selection import train_test_split\n",
    "from sklearn.metrics import classification_report\n",
    "import pandas as pd\n",
    "import os\n",
    "import sys\n",
    "from sklearn.model_selection import GridSearchCV\n",
    "\n",
    "# Load the UNSW-NB15 dataset\n",
    "# Assuming the dataset is in a CSV file named 'UNSW_NB15.csv'\n",
    "# Replace 'UNSW_NB15.csv' with the actual path to your dataset\n",
    "\n",
    "project_root = os.path.abspath(os.path.join(os.getcwd(), '..', '..'))\n",
    "sys.path.append(project_root)\n",
    "\n",
    "csv_file_name = \"all_preprocessed_downsampled\"\n",
    "\n",
    "data = pd.read_csv(os.path.join(project_root, \"Datasets\", f\"UNSW_NB15/All/{csv_file_name}.csv\"))\n",
    "\n",
    "# Preprocess the dataset\n",
    "# Assuming the target column is named 'label' and features are all other columns\n",
    "X = data.drop(columns=[\"srcip\", \"dstip\", \"attack_cat\", \"label\", \"Stime\", \"Ltime\"])\n",
    "y = data['attack_cat']\n",
    "\n",
    "# Split the dataset into train, validation, and test sets\n",
    "X_train, X_test, y_train, y_test = train_test_split(X, y, test_size=0.15, random_state=42)\n",
    "\n",
    "# Define the parameter grid for Random Forest\n",
    "param_grid = {\n",
    "    'n_estimators': [50, 100, 200],\n",
    "    'max_depth': [None, 10, 20, 30],\n",
    "}\n",
    "\n",
    "# Perform Grid Search with cross-validation\n",
    "grid_search = GridSearchCV(estimator=RandomForestClassifier(random_state=42),\n",
    "                           param_grid=param_grid,\n",
    "                           scoring='accuracy',\n",
    "                           cv=3,\n",
    "                           n_jobs=-1,\n",
    "                           verbose=2)\n",
    "\n",
    "grid_search.fit(X_train, y_train)\n",
    "\n",
    "# Get the best parameters and train the model with them\n",
    "best_params = grid_search.best_params_\n",
    "print(\"Best Parameters:\", best_params)\n",
    "\n",
    "rf = RandomForestClassifier(random_state=42, **best_params)\n",
    "rf.fit(X_train, y_train)\n",
    "\n",
    "# Test the model\n",
    "y_test_pred = rf.predict(X_test)\n",
    "print(\"Test Classification Report:\")\n",
    "print(classification_report(y_test, y_test_pred))"
   ]
  },
  {
   "cell_type": "code",
   "execution_count": null,
   "id": "0b77c3c6",
   "metadata": {},
   "outputs": [],
   "source": [
    "import numpy as np\n",
    "\n",
    "\n",
    "\n",
    "# Perturb the test set by adding noise\n",
    "def perturb_data(X, noise_level=0.01):\n",
    "    noise = noise_level * np.random.randn(*X.shape)\n",
    "    return X + noise\n",
    "perturb_data(X_test.copy(), noise_level=0.01)\n",
    "X_test_perturbed = "
   ]
  }
 ],
 "metadata": {
  "kernelspec": {
   "display_name": ".venv",
   "language": "python",
   "name": "python3"
  },
  "language_info": {
   "codemirror_mode": {
    "name": "ipython",
    "version": 3
   },
   "file_extension": ".py",
   "mimetype": "text/x-python",
   "name": "python",
   "nbconvert_exporter": "python",
   "pygments_lexer": "ipython3",
   "version": "3.12.3"
  }
 },
 "nbformat": 4,
 "nbformat_minor": 5
}
