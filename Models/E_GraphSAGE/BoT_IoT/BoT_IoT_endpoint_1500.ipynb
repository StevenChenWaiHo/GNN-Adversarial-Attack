{
 "cells": [
  {
   "cell_type": "code",
   "execution_count": null,
   "id": "ec16c7ab",
   "metadata": {},
   "outputs": [],
   "source": [
    "'''\n",
    "=====Experiment=====\n",
    "Dataset: BoT-IoT dataset\n",
    "\n",
    "Host-Level Graph Construction\n",
    "'''\n",
    "DATASET_NAME = \"BoT_IoT\"\n",
    "\n",
    "GRAPH_CONSTRUCTION = 'endpoint'\n",
    "WINDOW_SIZE = 1500\n",
    "\n",
    "MULTICLASS = True\n",
    "\n",
    "from torch_geometric.utils import from_networkx, add_self_loops, degree\n",
    "from torch_geometric.nn import MessagePassing\n",
    "import torch_geometric.transforms as T\n",
    "from torch_geometric.data import DataLoader\n",
    "import torch.nn as nn\n",
    "import torch as th\n",
    "import torch.nn.functional as F\n",
    "# import dgl.function as fn\n",
    "import networkx as nx\n",
    "import pandas as pd\n",
    "import matplotlib.pyplot as plt\n",
    "import random\n",
    "from sklearn.preprocessing import LabelEncoder\n",
    "from sklearn.preprocessing import StandardScaler\n",
    "from sklearn.model_selection import train_test_split\n",
    "from sklearn.utils import class_weight\n",
    "import numpy as np\n",
    "import os\n",
    "import sys\n",
    "from iterstrat.ml_stratifiers import MultilabelStratifiedShuffleSplit\n",
    "from torch_geometric.loader import DataLoader\n",
    "\n",
    "project_root = os.path.abspath(os.path.join(os.getcwd(), '..', '..', '..'))\n",
    "sys.path.append(project_root)\n",
    "\n",
    "from Datasets.BoT_IoT.BoT_IoT_config import BoT_IoT_Config as Dataset_Config\n"
   ]
  },
  {
   "cell_type": "code",
   "execution_count": null,
   "id": "9d9ef09a-d405-43b8-971e-fe9e6a592c9b",
   "metadata": {},
   "outputs": [],
   "source": [
    "csv_file_name = \"all_raw\"\n",
    "\n",
    "data = pd.read_csv(os.path.join(project_root, \"Datasets\", f\"{DATASET_NAME}/All/{csv_file_name}.csv\"))"
   ]
  },
  {
   "cell_type": "code",
   "execution_count": null,
   "id": "7e7f687e",
   "metadata": {},
   "outputs": [
    {
     "name": "stdout",
     "output_type": "stream",
     "text": [
      "category\n",
      "DDoS              1926624\n",
      "DoS               1650260\n",
      "Reconnaissance      91082\n",
      "Normal                477\n",
      "Theft                  79\n",
      "Name: count, dtype: int64\n",
      "attack\n",
      "1    3668045\n",
      "0        477\n",
      "Name: count, dtype: int64\n"
     ]
    }
   ],
   "source": [
    "EXPERIMENT_NAME = f\"strat_window_{GRAPH_CONSTRUCTION}_{WINDOW_SIZE}\"\n",
    "\n",
    "SOURCE_IP_COL_NAME = Dataset_Config.SOURCE_IP_COL_NAME\n",
    "DESTINATION_IP_COL_NAME = Dataset_Config.DESTINATION_IP_COL_NAME\n",
    "SOURCE_PORT_COL_NAME = Dataset_Config.SOURCE_PORT_COL_NAME\n",
    "DESTINATION_PORT_COL_NAME = Dataset_Config.DESTINATION_PORT_COL_NAME\n",
    "\n",
    "ATTACK_CLASS_COL_NAME = Dataset_Config.ATTACK_CLASS_COL_NAME\n",
    "IS_ATTACK_COL_NAME = Dataset_Config.IS_ATTACK_COL_NAME\n",
    "\n",
    "BENIGN_CLASS_NAME = Dataset_Config.BENIGN_CLASS_NAME\n",
    "\n",
    "TIME_COLS = Dataset_Config.TIME_COL_NAMES\n",
    "\n",
    "DROP_COLS = Dataset_Config.DROP_COLS\n",
    "\n",
    "COLS_TO_NORM = Dataset_Config.COLS_TO_NORM\n",
    "CATEGORICAL_COLS = Dataset_Config.CATEGORICAL_COLS\n",
    "\n",
    "print(data[ATTACK_CLASS_COL_NAME].value_counts())\n",
    "print(data[IS_ATTACK_COL_NAME].value_counts())\n",
    "\n",
    "if MULTICLASS:\n",
    "    label_col = ATTACK_CLASS_COL_NAME\n",
    "    data.drop(columns=[IS_ATTACK_COL_NAME], inplace=True)\n",
    "else:\n",
    "    label_col = IS_ATTACK_COL_NAME\n",
    "    data.drop(columns=[ATTACK_CLASS_COL_NAME], inplace=True)\n",
    "\n",
    "save_path = os.path.join(project_root, \"Models/E_GraphSAGE/saved\", EXPERIMENT_NAME)\n",
    "\n",
    "checkpoint_path = os.path.join(save_path, f\"checkpoints_{csv_file_name}.pth\")\n",
    "best_model_path = os.path.join(save_path, f\"best_model_{csv_file_name}.pth\")\n",
    "\n",
    "graph_datasets_path = os.path.join(save_path, GRAPH_CONSTRUCTION, str(WINDOW_SIZE))\n",
    "\n",
    "os.makedirs(save_path, exist_ok=True)\n",
    "os.makedirs(graph_datasets_path, exist_ok=True)"
   ]
  },
  {
   "cell_type": "code",
   "execution_count": null,
   "id": "449a1af1-1d3d-4179-9628-7c2ec551ce0c",
   "metadata": {},
   "outputs": [
    {
     "name": "stdout",
     "output_type": "stream",
     "text": [
      "Index(['pkSeqID', 'stime', 'flgs_number', 'proto_number', 'saddr', 'sport',\n",
      "       'daddr', 'dport', 'pkts', 'bytes', 'state_number', 'ltime', 'dur',\n",
      "       'mean', 'stddev', 'sum', 'min', 'max', 'spkts', 'dpkts', 'sbytes',\n",
      "       'dbytes', 'rate', 'srate', 'drate', 'TnBPSrcIP', 'TnBPDstIP',\n",
      "       'TnP_PSrcIP', 'TnP_PDstIP', 'TnP_PerProto', 'TnP_Per_Dport',\n",
      "       'AR_P_Proto_P_SrcIP', 'AR_P_Proto_P_DstIP', 'N_IN_Conn_P_DstIP',\n",
      "       'N_IN_Conn_P_SrcIP', 'AR_P_Proto_P_Sport', 'AR_P_Proto_P_Dport',\n",
      "       'Pkts_P_State_P_Protocol_P_DestIP', 'Pkts_P_State_P_Protocol_P_SrcIP',\n",
      "       'category'],\n",
      "      dtype='object')\n"
     ]
    }
   ],
   "source": [
    "data.drop(columns=DROP_COLS,inplace=True)\n",
    "print(data.columns)"
   ]
  },
  {
   "cell_type": "code",
   "execution_count": null,
   "id": "2a2c690c-86a4-49f7-aa9c-58f94529547d",
   "metadata": {},
   "outputs": [],
   "source": [
    "if GRAPH_CONSTRUCTION == 'host':\n",
    "    data[SOURCE_IP_COL_NAME] = data[SOURCE_IP_COL_NAME].apply(str)\n",
    "    data[DESTINATION_IP_COL_NAME] = data[DESTINATION_IP_COL_NAME].apply(str)\n",
    "\n",
    "    # # Combine Port and IP\n",
    "    data[SOURCE_PORT_COL_NAME] = data[SOURCE_PORT_COL_NAME].apply(str)\n",
    "    data[DESTINATION_PORT_COL_NAME] = data[DESTINATION_PORT_COL_NAME].apply(str)\n",
    "\n",
    "    data[SOURCE_IP_COL_NAME] = data[SOURCE_IP_COL_NAME] + ':' + data[SOURCE_PORT_COL_NAME]\n",
    "    data[DESTINATION_IP_COL_NAME] = data[DESTINATION_IP_COL_NAME] + ':' + data[DESTINATION_PORT_COL_NAME]\n",
    "    data.drop(columns=[SOURCE_PORT_COL_NAME,DESTINATION_PORT_COL_NAME],inplace=True)\n",
    "\n",
    "    data = pd.get_dummies(data, columns = CATEGORICAL_COLS) # One Hot Encoding for categorical data\n",
    "    converted_categorical_cols = [col for col in data.columns if col.startswith(tuple(CATEGORICAL_COLS))]\n",
    "\n",
    "elif GRAPH_CONSTRUCTION == 'endpoint':\n",
    "    data = pd.get_dummies(data, columns = CATEGORICAL_COLS) # One Hot Encoding for categorical data\n",
    "    converted_categorical_cols = [col for col in data.columns if col.startswith(tuple(CATEGORICAL_COLS))]\n",
    "    COLS_TO_NORM = COLS_TO_NORM + [SOURCE_PORT_COL_NAME, DESTINATION_PORT_COL_NAME]\n",
    "else:\n",
    "    raise ValueError(\"Invalid GRAPH_CONSTRUCTION value. Use 'host' or 'endpoint'.\")\n",
    "    "
   ]
  },
  {
   "cell_type": "code",
   "execution_count": null,
   "id": "e2d96115-31f9-48cb-b3e6-7853d2d253cf",
   "metadata": {},
   "outputs": [],
   "source": [
    "# Clean NaN values\n",
    "data.reset_index(drop=True, inplace=True)\n",
    "data.replace([np.inf, -np.inf], np.nan,inplace = True)\n",
    "data.fillna(0,inplace = True)"
   ]
  },
  {
   "cell_type": "code",
   "execution_count": null,
   "id": "9ea95177",
   "metadata": {},
   "outputs": [
    {
     "name": "stdout",
     "output_type": "stream",
     "text": [
      "               pkts         bytes           dur          mean        stddev  \\\n",
      "count  3.668522e+06  3.668522e+06  3.668522e+06  3.668522e+06  3.668522e+06   \n",
      "mean   7.725963e+00  8.690501e+02  2.033479e+01  2.231063e+00  8.871499e-01   \n",
      "std    1.155876e+02  1.122667e+05  2.148764e+01  1.517728e+00  8.037139e-01   \n",
      "min    1.000000e+00  6.000000e+01  0.000000e+00  0.000000e+00  0.000000e+00   \n",
      "25%    5.000000e+00  4.200000e+02  1.256256e+01  1.819670e-01  3.001900e-02   \n",
      "50%    7.000000e+00  6.000000e+02  1.550852e+01  2.690125e+00  7.938960e-01   \n",
      "75%    9.000000e+00  7.700000e+02  2.709986e+01  3.565203e+00  1.745296e+00   \n",
      "max    7.005700e+04  7.183334e+07  2.771485e+03  4.981882e+00  2.496763e+00   \n",
      "\n",
      "                sum           min           max         spkts         dpkts  \\\n",
      "count  3.668522e+06  3.668522e+06  3.668522e+06  3.668522e+06  3.668522e+06   \n",
      "mean   7.721635e+00  1.017540e+00  3.020015e+00  7.314146e+00  4.118173e-01   \n",
      "std    7.616199e+00  1.483688e+00  1.860877e+00  7.725836e+01  4.965001e+01   \n",
      "min    0.000000e+00  0.000000e+00  0.000000e+00  1.000000e+00  0.000000e+00   \n",
      "25%    3.445982e-01  0.000000e+00  2.806072e-01  5.000000e+00  0.000000e+00   \n",
      "50%    8.269959e+00  0.000000e+00  4.009111e+00  6.000000e+00  0.000000e+00   \n",
      "75%    1.171040e+01  2.151138e+00  4.293582e+00  8.000000e+00  0.000000e+00   \n",
      "max    1.913194e+03  4.980471e+00  4.999999e+00  3.502900e+04  3.502900e+04   \n",
      "\n",
      "       ...  TnP_PerProto  TnP_Per_Dport  AR_P_Proto_P_SrcIP  \\\n",
      "count  ...  3.668522e+06   3.668522e+06        3.668522e+06   \n",
      "mean   ...  7.535659e+02   7.369070e+02        3.327439e+02   \n",
      "std    ...  1.434385e+03   6.527134e+02        8.466031e+03   \n",
      "min    ...  1.000000e+00   1.000000e+00        0.000000e+00   \n",
      "25%    ...  5.020000e+02   5.000000e+02        2.359950e-01   \n",
      "50%    ...  7.000000e+02   7.000000e+02        3.900890e-01   \n",
      "75%    ...  9.240000e+02   9.200000e+02        5.725580e-01   \n",
      "max    ...  2.283730e+05   2.444250e+05        2.714290e+06   \n",
      "\n",
      "       AR_P_Proto_P_DstIP  N_IN_Conn_P_DstIP  N_IN_Conn_P_SrcIP  \\\n",
      "count        3.668522e+06       3.668522e+06       3.668522e+06   \n",
      "mean         2.851832e+02       9.245168e+01       8.253848e+01   \n",
      "std          4.096943e+03       1.817643e+01       2.439739e+01   \n",
      "min          0.000000e+00       1.000000e+00       1.000000e+00   \n",
      "25%          2.436680e-01       1.000000e+02       6.900000e+01   \n",
      "50%          3.986290e-01       1.000000e+02       1.000000e+02   \n",
      "75%          5.796390e-01       1.000000e+02       1.000000e+02   \n",
      "max          1.000000e+06       1.000000e+02       1.000000e+02   \n",
      "\n",
      "       AR_P_Proto_P_Sport  AR_P_Proto_P_Dport  \\\n",
      "count        3.668522e+06        3.668522e+06   \n",
      "mean         4.564945e+02        5.385196e+02   \n",
      "std          1.432917e+04        1.569824e+04   \n",
      "min          0.000000e+00        0.000000e+00   \n",
      "25%          2.314810e-01        2.457730e-01   \n",
      "50%          3.785910e-01        3.943060e-01   \n",
      "75%          5.725550e-01        5.769710e-01   \n",
      "max          3.000000e+06        2.000000e+06   \n",
      "\n",
      "       Pkts_P_State_P_Protocol_P_DestIP  Pkts_P_State_P_Protocol_P_SrcIP  \n",
      "count                      3.668522e+06                     3.668522e+06  \n",
      "mean                       6.422897e+02                     5.859984e+02  \n",
      "std                        4.533432e+02                     4.332619e+02  \n",
      "min                        1.000000e+00                     1.000000e+00  \n",
      "25%                        3.240000e+02                     2.940000e+02  \n",
      "50%                        6.000000e+02                     5.000000e+02  \n",
      "75%                        8.280000e+02                     8.000000e+02  \n",
      "max                        1.125440e+05                     1.179390e+05  \n",
      "\n",
      "[8 rows x 29 columns]\n",
      "\n",
      "✅ All other columns processed successfully.\n"
     ]
    }
   ],
   "source": [
    "# Normalize numerical columns\n",
    "scaler = StandardScaler()\n",
    "print(data[COLS_TO_NORM].describe()) # Check if there's any too large value\n",
    "\n",
    "# Check for numeric issues in the columns before normalization\n",
    "def check_numeric_issues(df, cols_to_norm):\n",
    "    for col in cols_to_norm:\n",
    "        try:\n",
    "            # Try to coerce to numeric\n",
    "            df[col] = pd.to_numeric(df[col], errors='coerce')\n",
    "            \n",
    "        except Exception as e:\n",
    "            print(f\"❌ Column '{col}' failed with error: {e}\")\n",
    "            print(f\"  - Sample values: {df[col].dropna().unique()[:5]}\")\n",
    "            print(f\"  - Data type: {df[col].dtype}\")\n",
    "            continue\n",
    "\n",
    "    print(\"\\n✅ All other columns processed successfully.\")\n",
    "\n",
    "check_numeric_issues(data, COLS_TO_NORM)\n",
    "\n",
    "data[COLS_TO_NORM] = scaler.fit_transform(data[COLS_TO_NORM])"
   ]
  },
  {
   "cell_type": "code",
   "execution_count": null,
   "id": "61c6e17f",
   "metadata": {},
   "outputs": [
    {
     "name": "stdout",
     "output_type": "stream",
     "text": [
      "['DDoS' 'DoS' 'Normal' 'Reconnaissance' 'Theft']\n",
      "Attack label mapping: {'DDoS': 0, 'DoS': 1, 'Normal': 2, 'Reconnaissance': 3, 'Theft': 4}\n"
     ]
    }
   ],
   "source": [
    "num_classes = 2\n",
    "class_map = [0, 1]\n",
    "if MULTICLASS:\n",
    "    le = LabelEncoder()\n",
    "    attack_labels = le.fit_transform(data[ATTACK_CLASS_COL_NAME])\n",
    "    class_map = le.classes_\n",
    "    print(class_map)\n",
    "    print(\"Attack label mapping:\", dict(zip(class_map, range(len(class_map)))))\n",
    "    data[ATTACK_CLASS_COL_NAME] = attack_labels\n",
    "    num_classes = len(class_map)\n",
    "    class_dict = {le.inverse_transform([i])[0]: i for i in range(len(le.classes_))}\n",
    "\n",
    "BENIGN_CLASS_LABEL = le.transform([BENIGN_CLASS_NAME])[0] if MULTICLASS else 0\n",
    "ADVERSARIAL_CLASS_LABEL = len(class_map)"
   ]
  },
  {
   "cell_type": "code",
   "execution_count": null,
   "id": "d35f4cdd-2716-431f-af50-b34cc3d2d535",
   "metadata": {},
   "outputs": [
    {
     "name": "stdout",
     "output_type": "stream",
     "text": [
      "Feature Columns: ['pkts', 'bytes', 'dur', 'mean', 'stddev', 'sum', 'min', 'max', 'spkts', 'dpkts', 'sbytes', 'dbytes', 'rate', 'srate', 'drate', 'TnBPSrcIP', 'TnBPDstIP', 'TnP_PSrcIP', 'TnP_PDstIP', 'TnP_PerProto', 'TnP_Per_Dport', 'AR_P_Proto_P_SrcIP', 'AR_P_Proto_P_DstIP', 'N_IN_Conn_P_DstIP', 'N_IN_Conn_P_SrcIP', 'AR_P_Proto_P_Sport', 'AR_P_Proto_P_Dport', 'Pkts_P_State_P_Protocol_P_DestIP', 'Pkts_P_State_P_Protocol_P_SrcIP', 'flgs_number_1', 'flgs_number_2', 'flgs_number_3', 'flgs_number_4', 'flgs_number_5', 'flgs_number_6', 'flgs_number_7', 'flgs_number_8', 'flgs_number_9', 'state_number_1', 'state_number_2', 'state_number_3', 'state_number_4', 'state_number_5', 'state_number_6', 'state_number_7', 'state_number_8', 'state_number_9', 'state_number_10', 'state_number_11', 'proto_number_1', 'proto_number_2', 'proto_number_3', 'proto_number_4', 'proto_number_5']\n",
      "Number of Features: 54\n"
     ]
    }
   ],
   "source": [
    "# # Maintain the order of the rows in the original dataframe\n",
    "feature_cols = COLS_TO_NORM + converted_categorical_cols\n",
    "\n",
    "print('Feature Columns:', feature_cols)\n",
    "num_features = len(feature_cols)\n",
    "print('Number of Features:', num_features)\n",
    "\n",
    "data['h'] = data[ feature_cols ].values.tolist()"
   ]
  },
  {
   "cell_type": "code",
   "execution_count": null,
   "id": "652cb2f0",
   "metadata": {},
   "outputs": [
    {
     "name": "stdout",
     "output_type": "stream",
     "text": [
      "   pkSeqID         stime                saddr                daddr  \\\n",
      "0  3576925  1.526344e+09     192.168.100.3:80  192.168.100.55:8080   \n",
      "1  3576926  1.526344e+09  192.168.100.46:3456     192.168.100.5:80   \n",
      "2  3576919  1.526344e+09    192.168.100.46:80     192.168.100.5:80   \n",
      "3  3576920  1.526344e+09    192.168.100.46:80     192.168.100.5:80   \n",
      "4  3576922  1.526344e+09    192.168.100.7:365    192.168.100.3:565   \n",
      "\n",
      "         pkts       bytes         ltime        dur      mean    stddev  ...  \\\n",
      "0  514.287519  542.313009  1.526346e+09  77.503750  1.790079 -0.819516  ...   \n",
      "1  514.278867  526.543278  1.526346e+09  77.503750  1.789861 -0.815632  ...   \n",
      "2  257.106013  254.240221  1.526346e+09  77.503750  1.789697 -0.815753  ...   \n",
      "3  260.834786  257.403476  1.526346e+09  77.503750  1.789704 -0.815673  ...   \n",
      "4  141.176650    8.717557  1.526346e+09  77.516146  1.754480 -0.815219  ...   \n",
      "\n",
      "   state_number_8  state_number_9  state_number_10  state_number_11  \\\n",
      "0           False           False            False            False   \n",
      "1           False           False            False            False   \n",
      "2           False           False            False            False   \n",
      "3           False           False            False            False   \n",
      "4           False           False            False            False   \n",
      "\n",
      "   proto_number_1  proto_number_2  proto_number_3  proto_number_4  \\\n",
      "0            True           False           False           False   \n",
      "1           False           False            True           False   \n",
      "2           False           False            True           False   \n",
      "3            True           False           False           False   \n",
      "4           False           False            True           False   \n",
      "\n",
      "   proto_number_5                                                  h  \n",
      "0           False  [514.287518890639, 542.3130091791619, 77.50374...  \n",
      "1           False  [514.2788674456382, 526.5432775870196, 77.5037...  \n",
      "2           False  [257.1060133499324, 254.2402212791131, 77.5037...  \n",
      "3           False  [260.8347861453051, 257.4034757933678, 77.5037...  \n",
      "4           False  [141.17665033834467, 8.717556952576851, 77.516...  \n",
      "\n",
      "[5 rows x 61 columns]\n"
     ]
    }
   ],
   "source": [
    "print(data.head(5))"
   ]
  },
  {
   "cell_type": "code",
   "execution_count": null,
   "id": "743e7faa",
   "metadata": {},
   "outputs": [],
   "source": [
    "def create_graph(df):\n",
    "\n",
    "    G_nx = nx.from_pandas_edgelist(df, SOURCE_IP_COL_NAME, DESTINATION_IP_COL_NAME, ['h', label_col], create_using=nx.MultiDiGraph())\n",
    "    \n",
    "    G_pyg = from_networkx(G_nx)\n",
    "\n",
    "    num_nodes = G_pyg.num_nodes\n",
    "    num_edges = G_pyg.num_edges\n",
    "\n",
    "    assert num_edges == G_nx.number_of_edges(), \"Number of edges in PyG graph does not match NetworkX graph.\"\n",
    "\n",
    "    G_pyg.x = th.ones(num_nodes, len(df['h'].iloc[0])) \n",
    "\n",
    "    edge_attr_list = []\n",
    "    edge_label_list = []\n",
    "\n",
    "    for u, v, key, data in G_nx.edges(keys=True, data=True):\n",
    "        edge_attr_list.append(data['h']) \n",
    "        edge_label_list.append(data[label_col]) \n",
    "\n",
    "    G_pyg.edge_attr = th.tensor(edge_attr_list, dtype=th.float32)\n",
    "    G_pyg.edge_label = th.tensor(edge_label_list, dtype=th.long)\n",
    "\n",
    "    return G_pyg"
   ]
  },
  {
   "cell_type": "code",
   "execution_count": null,
   "id": "4e650028",
   "metadata": {},
   "outputs": [],
   "source": [
    "from collections import defaultdict\n",
    "from typing import Counter\n",
    "from sklearn.preprocessing import MultiLabelBinarizer\n",
    "\n",
    "from tqdm import tqdm\n",
    "\n",
    "class StratifiedGraphDataset:\n",
    "\n",
    "    def __init__(self, X, y):\n",
    "        self.X = X\n",
    "        self.y = y\n",
    "        self.total_count = len(self.y)\n",
    "\n",
    "        # Compute class weights\n",
    "        labels = []\n",
    "\n",
    "        for graph in self.X:\n",
    "            labels.append(graph.edge_label.tolist())\n",
    "\n",
    "        labels = np.concatenate(labels)\n",
    "\n",
    "        self.class_counts = Counter(labels)\n",
    "\n",
    "        # Compute the class weights\n",
    "        self.class_weights = class_weight.compute_class_weight(\n",
    "            class_weight='balanced',\n",
    "            classes=np.unique(labels),\n",
    "            y=labels\n",
    "        )\n",
    "\n",
    "    def k_fold_split(self, k: int = 5, test_ratio: float = 0.15, random_state: int = 42):\n",
    "        cv = MultilabelStratifiedShuffleSplit(test_size=test_ratio, random_state=random_state, n_splits=k)\n",
    "\n",
    "        mlb = MultiLabelBinarizer()\n",
    "\n",
    "        y_binary = mlb.fit_transform(self.y)\n",
    "\n",
    "        return cv.split(np.zeros(len(self.X)), y_binary)\n",
    "\n",
    "    def graph_train_test_split(self, test_ratio: float = 0.15, random_state: int = 42):\n",
    "        train_idx, test_idx = next(self.k_fold_split(k = 1, test_ratio = test_ratio, random_state = random_state))\n",
    "        \n",
    "        X_train = [self.X[i] for i in train_idx]\n",
    "        X_test = [self.X[i] for i in test_idx]\n",
    "\n",
    "        y_train = [self.y[i] for i in train_idx]\n",
    "        y_test = [self.y[i] for i in test_idx]\n",
    "\n",
    "        return StratifiedGraphDataset(X_train, y_train), StratifiedGraphDataset(X_test, y_test)\n",
    "    \n",
    "    def print_class_distribution_and_weights(self):\n",
    "        # Use the label encoder to inverse transform the class labels\n",
    "        class_counts_named = {cls: count for cls, count in self.class_counts.items()}\n",
    "        class_weights_named = {cls: weight for cls, weight in enumerate(self.class_weights)}\n",
    "        print(\"Class Counts and Weights:\")\n",
    "        for cls_label in class_counts_named.keys():\n",
    "            count = class_counts_named[cls_label]\n",
    "            weight = class_weights_named[cls_label]\n",
    "            print(f\"{cls_label:<2}  {le.inverse_transform([cls_label])[0]:<15}: Count = {count:<10}, Weight = {weight:<10.4f}\")\n",
    "    \n",
    "    def __len__(self):\n",
    "        return self.total_count\n",
    "\n",
    "    def __iter__(self):\n",
    "        for g in self.X:\n",
    "            yield g\n",
    "            \n",
    "    def __getitem__(self, idx):\n",
    "        if isinstance(idx, int):\n",
    "            return self.X[idx], self.y[idx]\n",
    "        elif isinstance(idx, slice):\n",
    "            return [self.X[i] for i in range(len(self.X))][idx], [self.y[i] for i in range(len(self.y))][idx]\n",
    "        else:\n",
    "            raise TypeError(\"Index must be an integer or a slice.\")\n",
    "\n",
    "def generate_graph_datasets(\n",
    "    df: pd.DataFrame, \n",
    "    window_size: int = WINDOW_SIZE, \n",
    "    feature_cols=feature_cols,\n",
    "    ordering_cols= TIME_COLS, \n",
    "    label_col=label_col,\n",
    "    build_graph_func=create_graph,\n",
    "    ):\n",
    "\n",
    "    print(\"All Columns: \", df.columns)\n",
    "    print(\"Ordering Columns: \", ordering_cols)\n",
    "    assert all(col in df.columns for col in ordering_cols), \"All timestamp columns are required\"\n",
    "    assert label_col in df.columns, \"Edge label column 'label' is required\"\n",
    "    \n",
    "    df = df.sort_values(ordering_cols).reset_index(drop=True)\n",
    "    window_size = int(window_size)\n",
    "    \n",
    "    df.drop(columns=set(df.columns) - set(feature_cols) - set(label_col))\n",
    "\n",
    "    print(\"Final Columns: \", df.columns)\n",
    "    \n",
    "    label_counts_list = []\n",
    "    X = []\n",
    "    y = []\n",
    "\n",
    "    progress_bar = tqdm(range(0, len(df), window_size), desc=f\"Generating graphs\")\n",
    "    for start in progress_bar:\n",
    "        window_df = df[start: min(start + window_size, len(df))]\n",
    "        contains_label = window_df[label_col].unique()\n",
    "\n",
    "        G_pyg = build_graph_func(window_df)\n",
    "\n",
    "        label_counts = window_df[label_col].value_counts()\n",
    "\n",
    "        label_counts_list.append(label_counts)\n",
    "        X.append(G_pyg)\n",
    "        y.append(contains_label.tolist())\n",
    "\n",
    "    return StratifiedGraphDataset(X, y)"
   ]
  },
  {
   "cell_type": "code",
   "execution_count": null,
   "id": "491e7421",
   "metadata": {},
   "outputs": [
    {
     "name": "stdout",
     "output_type": "stream",
     "text": [
      "All Columns:  Index(['pkSeqID', 'stime', 'saddr', 'daddr', 'pkts', 'bytes', 'ltime', 'dur',\n",
      "       'mean', 'stddev', 'sum', 'min', 'max', 'spkts', 'dpkts', 'sbytes',\n",
      "       'dbytes', 'rate', 'srate', 'drate', 'TnBPSrcIP', 'TnBPDstIP',\n",
      "       'TnP_PSrcIP', 'TnP_PDstIP', 'TnP_PerProto', 'TnP_Per_Dport',\n",
      "       'AR_P_Proto_P_SrcIP', 'AR_P_Proto_P_DstIP', 'N_IN_Conn_P_DstIP',\n",
      "       'N_IN_Conn_P_SrcIP', 'AR_P_Proto_P_Sport', 'AR_P_Proto_P_Dport',\n",
      "       'Pkts_P_State_P_Protocol_P_DestIP', 'Pkts_P_State_P_Protocol_P_SrcIP',\n",
      "       'category', 'flgs_number_1', 'flgs_number_2', 'flgs_number_3',\n",
      "       'flgs_number_4', 'flgs_number_5', 'flgs_number_6', 'flgs_number_7',\n",
      "       'flgs_number_8', 'flgs_number_9', 'state_number_1', 'state_number_2',\n",
      "       'state_number_3', 'state_number_4', 'state_number_5', 'state_number_6',\n",
      "       'state_number_7', 'state_number_8', 'state_number_9', 'state_number_10',\n",
      "       'state_number_11', 'proto_number_1', 'proto_number_2', 'proto_number_3',\n",
      "       'proto_number_4', 'proto_number_5', 'h'],\n",
      "      dtype='object')\n",
      "Ordering Columns:  ['stime', 'ltime']\n",
      "Final Columns:  Index(['pkSeqID', 'stime', 'saddr', 'daddr', 'pkts', 'bytes', 'ltime', 'dur',\n",
      "       'mean', 'stddev', 'sum', 'min', 'max', 'spkts', 'dpkts', 'sbytes',\n",
      "       'dbytes', 'rate', 'srate', 'drate', 'TnBPSrcIP', 'TnBPDstIP',\n",
      "       'TnP_PSrcIP', 'TnP_PDstIP', 'TnP_PerProto', 'TnP_Per_Dport',\n",
      "       'AR_P_Proto_P_SrcIP', 'AR_P_Proto_P_DstIP', 'N_IN_Conn_P_DstIP',\n",
      "       'N_IN_Conn_P_SrcIP', 'AR_P_Proto_P_Sport', 'AR_P_Proto_P_Dport',\n",
      "       'Pkts_P_State_P_Protocol_P_DestIP', 'Pkts_P_State_P_Protocol_P_SrcIP',\n",
      "       'category', 'flgs_number_1', 'flgs_number_2', 'flgs_number_3',\n",
      "       'flgs_number_4', 'flgs_number_5', 'flgs_number_6', 'flgs_number_7',\n",
      "       'flgs_number_8', 'flgs_number_9', 'state_number_1', 'state_number_2',\n",
      "       'state_number_3', 'state_number_4', 'state_number_5', 'state_number_6',\n",
      "       'state_number_7', 'state_number_8', 'state_number_9', 'state_number_10',\n",
      "       'state_number_11', 'proto_number_1', 'proto_number_2', 'proto_number_3',\n",
      "       'proto_number_4', 'proto_number_5', 'h'],\n",
      "      dtype='object')\n"
     ]
    },
    {
     "name": "stderr",
     "output_type": "stream",
     "text": [
      "Generating graphs: 100%|██████████| 2446/2446 [03:03<00:00, 13.32it/s]\n"
     ]
    }
   ],
   "source": [
    "graph_dataset = generate_graph_datasets(data)\n",
    "full_train_graph_dataset, test_graph_dataset = graph_dataset.graph_train_test_split(test_ratio=0.15, random_state=42)\n"
   ]
  },
  {
   "cell_type": "code",
   "execution_count": null,
   "id": "365fd330",
   "metadata": {},
   "outputs": [
    {
     "name": "stdout",
     "output_type": "stream",
     "text": [
      "Class Distrubution: category\n",
      "0    1926624\n",
      "1    1650260\n",
      "3      91082\n",
      "2        477\n",
      "4         79\n",
      "Name: count, dtype: int64\n",
      "Number of graphs after downsampling: 2446\n",
      "Class Counts and Weights:\n",
      "2   Normal         : Count = 477       , Weight = 1538.1644 \n",
      "3   Reconnaissance : Count = 91082     , Weight = 8.0554    \n",
      "1   DoS            : Count = 1650260   , Weight = 0.4446    \n",
      "0   DDoS           : Count = 1926624   , Weight = 0.3808    \n",
      "4   Theft          : Count = 79        , Weight = 9287.3975 \n",
      "Number of training graphs: 2080\n",
      "Class Counts and Weights:\n",
      "2   Normal         : Count = 449       , Weight = 1389.5421 \n",
      "3   Reconnaissance : Count = 79051     , Weight = 7.8924    \n",
      "1   DoS            : Count = 1402819   , Weight = 0.4448    \n",
      "0   DDoS           : Count = 1637124   , Weight = 0.3811    \n",
      "4   Theft          : Count = 79        , Weight = 7897.5241 \n",
      "Number of testing graphs: 366\n",
      "Class Counts and Weights:\n",
      "3   Reconnaissance : Count = 12031     , Weight = 11.4080   \n",
      "2   Normal         : Count = 28        , Weight = 4901.7857 \n",
      "1   DoS            : Count = 247441    , Weight = 0.5547    \n",
      "0   DDoS           : Count = 289500    , Weight = 0.4741    \n"
     ]
    }
   ],
   "source": [
    "print(\"Class Distrubution:\", data[label_col].value_counts())\n",
    "\n",
    "print(\"Number of graphs after downsampling:\", len(graph_dataset))\n",
    "graph_dataset.print_class_distribution_and_weights()\n",
    "\n",
    "print(\"Number of training graphs:\", len(full_train_graph_dataset))\n",
    "full_train_graph_dataset.print_class_distribution_and_weights()\n",
    "\n",
    "print(\"Number of testing graphs:\", len(test_graph_dataset))\n",
    "test_graph_dataset.print_class_distribution_and_weights()"
   ]
  },
  {
   "cell_type": "code",
   "execution_count": null,
   "id": "41795339-6036-468f-9b9d-2bb68d78ed7d",
   "metadata": {},
   "outputs": [],
   "source": [
    "class SAGELayerPyG(MessagePassing):\n",
    "    def __init__(self, in_channels, edge_dim, out_channels, activation=F.relu):\n",
    "        super().__init__(aggr='mean')  # mean aggregation\n",
    "        self.W_msg = nn.Linear(in_channels + edge_dim, out_channels)\n",
    "        self.W_apply = nn.Linear(in_channels + out_channels, out_channels)\n",
    "        self.activation = activation\n",
    "\n",
    "    def forward(self, x, edge_index, edge_attr):\n",
    "        # x: [num_nodes, in_channels]\n",
    "        # edge_attr: [num_edges, edge_dim]\n",
    "        return self.propagate(edge_index, x=x, edge_attr=edge_attr)\n",
    "\n",
    "    def message(self, x_j, edge_attr):\n",
    "        # x_j: features of source nodes (neighbours)\n",
    "        msg_input = th.cat([x_j, edge_attr], dim=1)\n",
    "        return self.W_msg(msg_input)\n",
    "\n",
    "    def update(self, aggr_out, x):\n",
    "        # aggr_out: [num_nodes, out_channels]\n",
    "        combined = th.cat([x, aggr_out], dim=1)\n",
    "        out = self.W_apply(combined)\n",
    "        return self.activation(out)\n",
    "    \n",
    "class MLPPredictor(nn.Module):\n",
    "    def __init__(self, in_channels, out_channels):\n",
    "        super(MLPPredictor, self).__init__()\n",
    "        self.lin = nn.Linear(in_channels * 2, out_channels)\n",
    "\n",
    "    def forward(self, data, z):\n",
    "        row, col = data.edge_index\n",
    "        # Concatenate the features of source and target nodes for each edge\n",
    "        edge_feat = th.cat([z[row], z[col]], dim=1)\n",
    "        return self.lin(edge_feat)\n",
    "\n",
    "class EGraphSAGE(nn.Module):\n",
    "    def __init__(self, node_in_channels, edge_in_channels, hidden_channels, out_channels, dropout=0.2):\n",
    "        super(EGraphSAGE, self).__init__()\n",
    "        self.dropout = dropout\n",
    "        self.conv1 = SAGELayerPyG(node_in_channels, edge_in_channels, hidden_channels)\n",
    "        self.conv2 = SAGELayerPyG(hidden_channels, edge_in_channels, hidden_channels)\n",
    "        self.mlp_predictor = MLPPredictor(hidden_channels, out_channels)\n",
    "\n",
    "    def forward(self, data):\n",
    "        x, edge_index, edge_attr = data.x, data.edge_index, data.edge_attr\n",
    "        x = F.relu(self.conv1(x, edge_index, edge_attr))\n",
    "        x = F.dropout(x, p=self.dropout, training=self.training)\n",
    "        x = self.conv2(x, edge_index, edge_attr)\n",
    "        return self.mlp_predictor(data, x)"
   ]
  },
  {
   "cell_type": "code",
   "execution_count": null,
   "id": "bca25fef-29d9-40cf-8910-16b24d530693",
   "metadata": {},
   "outputs": [
    {
     "name": "stdout",
     "output_type": "stream",
     "text": [
      "cuda:0\n"
     ]
    }
   ],
   "source": [
    "device = th.device(\"cuda:0\" if th.cuda.is_available() else \"cpu\")\n",
    "print(device)"
   ]
  },
  {
   "cell_type": "code",
   "execution_count": null,
   "id": "cccdc850-b98d-4836-b82b-67aa4b9e1e02",
   "metadata": {},
   "outputs": [],
   "source": [
    "th.cuda.empty_cache()"
   ]
  },
  {
   "cell_type": "code",
   "execution_count": null,
   "id": "89157faf-e24b-49d6-9c90-6f71dae515b2",
   "metadata": {},
   "outputs": [],
   "source": [
    "def init_weights(m):\n",
    "    if isinstance(m, nn.Linear):\n",
    "        nn.init.xavier_uniform_(m.weight)\n",
    "        nn.init.constant_(m.bias, 0)"
   ]
  },
  {
   "cell_type": "code",
   "execution_count": null,
   "id": "385d37f0-713b-4abc-8d7a-3e768ae9a2b2",
   "metadata": {},
   "outputs": [
    {
     "name": "stdout",
     "output_type": "stream",
     "text": [
      "Testing with learning rate: 0.001, hidden_dim: 128, drop_out: 0.2\n",
      "Fold 1\n",
      "Class weights: tensor([3.8121e-01, 4.4458e-01, 1.9641e+03, 7.8879e+00, 6.7127e+03],\n",
      "       device='cuda:0')\n"
     ]
    },
    {
     "name": "stderr",
     "output_type": "stream",
     "text": [
      "                                                              \r"
     ]
    },
    {
     "name": "stdout",
     "output_type": "stream",
     "text": [
      "Epoch 1/200, Train Loss: 0.0717, Val Loss: 8.1863, Val F1 (weighted): 0.3623, Micro: 0.5257, Macro: 0.1917 (Best Weighted F1 so far: 0.3623)\n"
     ]
    },
    {
     "name": "stderr",
     "output_type": "stream",
     "text": [
      "                                                               \r"
     ]
    },
    {
     "name": "stdout",
     "output_type": "stream",
     "text": [
      "Epoch 2/200, Train Loss: 0.0710, Val Loss: 10.4915, Val F1 (weighted): 0.3673, Micro: 0.5281, Macro: 0.2739 (Best Weighted F1 so far: 0.3673)\n"
     ]
    },
    {
     "name": "stderr",
     "output_type": "stream",
     "text": [
      "                                                               \r"
     ]
    },
    {
     "name": "stdout",
     "output_type": "stream",
     "text": [
      "Epoch 3/200, Train Loss: 0.0626, Val Loss: 6.8126, Val F1 (weighted): 0.3679, Micro: 0.5285, Macro: 0.3972 (Best Weighted F1 so far: 0.3679)\n"
     ]
    },
    {
     "name": "stderr",
     "output_type": "stream",
     "text": [
      "                                                               \r"
     ]
    },
    {
     "name": "stdout",
     "output_type": "stream",
     "text": [
      "Epoch 5/200, Train Loss: 0.0948, Val Loss: 7.2049, Val F1 (weighted): 0.3686, Micro: 0.5289, Macro: 0.3325 (Best Weighted F1 so far: 0.3686)\n"
     ]
    },
    {
     "name": "stderr",
     "output_type": "stream",
     "text": [
      "                                                               \r"
     ]
    },
    {
     "name": "stdout",
     "output_type": "stream",
     "text": [
      "Epoch 6/200, Train Loss: 0.0871, Val Loss: 11.7522, Val F1 (weighted): 0.3696, Micro: 0.5291, Macro: 0.3330 (Best Weighted F1 so far: 0.3696)\n"
     ]
    },
    {
     "name": "stderr",
     "output_type": "stream",
     "text": [
      "                                                               \r"
     ]
    },
    {
     "name": "stdout",
     "output_type": "stream",
     "text": [
      "Epoch 7/200, Train Loss: 0.0895, Val Loss: 7.3584, Val F1 (weighted): 0.3718, Micro: 0.5306, Macro: 0.3210 (Best Weighted F1 so far: 0.3718)\n"
     ]
    },
    {
     "name": "stderr",
     "output_type": "stream",
     "text": [
      "                                                               \r"
     ]
    },
    {
     "name": "stdout",
     "output_type": "stream",
     "text": [
      "Epoch 8/200, Train Loss: 0.0655, Val Loss: 7.5776, Val F1 (weighted): 0.3751, Micro: 0.5328, Macro: 0.3232 (Best Weighted F1 so far: 0.3751)\n"
     ]
    },
    {
     "name": "stderr",
     "output_type": "stream",
     "text": [
      "                                                               \r"
     ]
    },
    {
     "name": "stdout",
     "output_type": "stream",
     "text": [
      "Epoch 10/200, Train Loss: 0.0948, Val Loss: 6.9493, Val F1 (weighted): 0.3770, Micro: 0.5341, Macro: 0.3253 (Best Weighted F1 so far: 0.3770)\n"
     ]
    },
    {
     "name": "stderr",
     "output_type": "stream",
     "text": [
      "                                                               \r"
     ]
    },
    {
     "name": "stdout",
     "output_type": "stream",
     "text": [
      "Epoch 11/200, Train Loss: 0.1386, Val Loss: 7.1581, Val F1 (weighted): 0.3777, Micro: 0.5345, Macro: 0.3939 (Best Weighted F1 so far: 0.3777)\n"
     ]
    },
    {
     "name": "stderr",
     "output_type": "stream",
     "text": [
      "                                                               \r"
     ]
    },
    {
     "name": "stdout",
     "output_type": "stream",
     "text": [
      "Epoch 12/200, Train Loss: 0.0819, Val Loss: 4.8119, Val F1 (weighted): 0.3792, Micro: 0.5355, Macro: 0.4000 (Best Weighted F1 so far: 0.3792)\n"
     ]
    },
    {
     "name": "stderr",
     "output_type": "stream",
     "text": [
      "                                                               \r"
     ]
    },
    {
     "name": "stdout",
     "output_type": "stream",
     "text": [
      "Epoch 13/200, Train Loss: 0.1149, Val Loss: 3.3922, Val F1 (weighted): 0.3848, Micro: 0.5394, Macro: 0.4078 (Best Weighted F1 so far: 0.3848)\n"
     ]
    },
    {
     "name": "stderr",
     "output_type": "stream",
     "text": [
      "                                                               \r"
     ]
    },
    {
     "name": "stdout",
     "output_type": "stream",
     "text": [
      "Epoch 23/200, Train Loss: 0.0330, Val Loss: 3.0852, Val F1 (weighted): 0.3997, Micro: 0.5484, Macro: 0.4588 (Best Weighted F1 so far: 0.3997)\n"
     ]
    },
    {
     "name": "stderr",
     "output_type": "stream",
     "text": [
      "                                                               \r"
     ]
    },
    {
     "name": "stdout",
     "output_type": "stream",
     "text": [
      "Epoch 24/200, Train Loss: 0.0308, Val Loss: 2.0661, Val F1 (weighted): 0.5078, Micro: 0.6035, Macro: 0.5482 (Best Weighted F1 so far: 0.5078)\n"
     ]
    },
    {
     "name": "stderr",
     "output_type": "stream",
     "text": [
      "                                                               \r"
     ]
    },
    {
     "name": "stdout",
     "output_type": "stream",
     "text": [
      "Epoch 28/200, Train Loss: 0.0233, Val Loss: 1.4392, Val F1 (weighted): 0.6304, Micro: 0.6771, Macro: 0.5407 (Best Weighted F1 so far: 0.6304)\n"
     ]
    },
    {
     "name": "stderr",
     "output_type": "stream",
     "text": [
      "                                                               \r"
     ]
    },
    {
     "name": "stdout",
     "output_type": "stream",
     "text": [
      "Epoch 31/200, Train Loss: 0.0174, Val Loss: 1.1901, Val F1 (weighted): 0.7595, Micro: 0.7754, Macro: 0.6412 (Best Weighted F1 so far: 0.7595)\n"
     ]
    },
    {
     "name": "stderr",
     "output_type": "stream",
     "text": [
      "                                                               \r"
     ]
    },
    {
     "name": "stdout",
     "output_type": "stream",
     "text": [
      "Epoch 33/200, Train Loss: 0.0125, Val Loss: 0.8678, Val F1 (weighted): 0.8301, Micro: 0.8370, Macro: 0.6697 (Best Weighted F1 so far: 0.8301)\n"
     ]
    },
    {
     "name": "stderr",
     "output_type": "stream",
     "text": [
      "                                                               \r"
     ]
    },
    {
     "name": "stdout",
     "output_type": "stream",
     "text": [
      "Epoch 37/200, Train Loss: 0.0194, Val Loss: 0.6534, Val F1 (weighted): 0.8743, Micro: 0.8776, Macro: 0.6942 (Best Weighted F1 so far: 0.8743)\n"
     ]
    },
    {
     "name": "stderr",
     "output_type": "stream",
     "text": [
      "                                                               \r"
     ]
    },
    {
     "name": "stdout",
     "output_type": "stream",
     "text": [
      "Epoch 45/200, Train Loss: 0.0120, Val Loss: 0.7201, Val F1 (weighted): 0.8914, Micro: 0.8937, Macro: 0.7108 (Best Weighted F1 so far: 0.8914)\n"
     ]
    },
    {
     "name": "stderr",
     "output_type": "stream",
     "text": [
      "                                                               \r"
     ]
    },
    {
     "name": "stdout",
     "output_type": "stream",
     "text": [
      "Epoch 46/200, Train Loss: 0.0103, Val Loss: 0.7028, Val F1 (weighted): 0.8961, Micro: 0.8979, Macro: 0.7346 (Best Weighted F1 so far: 0.8961)\n"
     ]
    },
    {
     "name": "stderr",
     "output_type": "stream",
     "text": [
      "                                                               \r"
     ]
    },
    {
     "name": "stdout",
     "output_type": "stream",
     "text": [
      "Epoch 47/200, Train Loss: 0.0108, Val Loss: 0.7684, Val F1 (weighted): 0.8966, Micro: 0.8985, Macro: 0.7264 (Best Weighted F1 so far: 0.8966)\n",
      "\n",
      "🛑 Early stopping triggered at epoch 46.\n",
      "Fold 2\n",
      "Class weights: tensor([3.8133e-01, 4.4439e-01, 2.0408e+03, 7.8912e+00, 6.7165e+03],\n",
      "       device='cuda:0')\n"
     ]
    },
    {
     "name": "stderr",
     "output_type": "stream",
     "text": [
      "                                                               \r"
     ]
    },
    {
     "name": "stdout",
     "output_type": "stream",
     "text": [
      "Epoch 1/200, Train Loss: 0.0725, Val Loss: 7.9024, Val F1 (weighted): 0.3635, Micro: 0.5267, Macro: 0.2276 (Best Weighted F1 so far: 0.3635)\n"
     ]
    },
    {
     "name": "stderr",
     "output_type": "stream",
     "text": [
      "                                                               \r"
     ]
    },
    {
     "name": "stdout",
     "output_type": "stream",
     "text": [
      "Epoch 2/200, Train Loss: 0.0905, Val Loss: 7.2324, Val F1 (weighted): 0.3637, Micro: 0.5269, Macro: 0.3345 (Best Weighted F1 so far: 0.3637)\n"
     ]
    },
    {
     "name": "stderr",
     "output_type": "stream",
     "text": [
      "                                                               \r"
     ]
    },
    {
     "name": "stdout",
     "output_type": "stream",
     "text": [
      "Epoch 3/200, Train Loss: 0.1069, Val Loss: 6.4211, Val F1 (weighted): 0.3681, Micro: 0.5290, Macro: 0.3610 (Best Weighted F1 so far: 0.3681)\n"
     ]
    },
    {
     "name": "stderr",
     "output_type": "stream",
     "text": [
      "                                                               \r"
     ]
    },
    {
     "name": "stdout",
     "output_type": "stream",
     "text": [
      "Epoch 4/200, Train Loss: 0.0979, Val Loss: 9.5921, Val F1 (weighted): 0.3683, Micro: 0.5291, Macro: 0.3941 (Best Weighted F1 so far: 0.3683)\n"
     ]
    },
    {
     "name": "stderr",
     "output_type": "stream",
     "text": [
      "                                                               \r"
     ]
    },
    {
     "name": "stdout",
     "output_type": "stream",
     "text": [
      "Epoch 5/200, Train Loss: 0.0900, Val Loss: 7.9985, Val F1 (weighted): 0.3698, Micro: 0.5299, Macro: 0.4069 (Best Weighted F1 so far: 0.3698)\n"
     ]
    },
    {
     "name": "stderr",
     "output_type": "stream",
     "text": [
      "                                                               \r"
     ]
    },
    {
     "name": "stdout",
     "output_type": "stream",
     "text": [
      "Epoch 7/200, Train Loss: 0.0680, Val Loss: 13.3746, Val F1 (weighted): 0.3703, Micro: 0.5301, Macro: 0.4113 (Best Weighted F1 so far: 0.3703)\n"
     ]
    },
    {
     "name": "stderr",
     "output_type": "stream",
     "text": [
      "                                                               \r"
     ]
    },
    {
     "name": "stdout",
     "output_type": "stream",
     "text": [
      "Epoch 8/200, Train Loss: 0.0708, Val Loss: 8.4185, Val F1 (weighted): 0.3720, Micro: 0.5311, Macro: 0.3413 (Best Weighted F1 so far: 0.3720)\n"
     ]
    },
    {
     "name": "stderr",
     "output_type": "stream",
     "text": [
      "                                                               \r"
     ]
    },
    {
     "name": "stdout",
     "output_type": "stream",
     "text": [
      "Epoch 10/200, Train Loss: 0.1776, Val Loss: 6.3546, Val F1 (weighted): 0.3746, Micro: 0.5324, Macro: 0.3594 (Best Weighted F1 so far: 0.3746)\n"
     ]
    },
    {
     "name": "stderr",
     "output_type": "stream",
     "text": [
      "                                                               \r"
     ]
    },
    {
     "name": "stdout",
     "output_type": "stream",
     "text": [
      "Epoch 11/200, Train Loss: 0.0869, Val Loss: 8.0784, Val F1 (weighted): 0.3864, Micro: 0.5417, Macro: 0.3434 (Best Weighted F1 so far: 0.3864)\n"
     ]
    },
    {
     "name": "stderr",
     "output_type": "stream",
     "text": [
      "                                                               \r"
     ]
    },
    {
     "name": "stdout",
     "output_type": "stream",
     "text": [
      "Epoch 13/200, Train Loss: 0.0821, Val Loss: 3.1740, Val F1 (weighted): 0.4360, Micro: 0.5648, Macro: 0.4842 (Best Weighted F1 so far: 0.4360)\n"
     ]
    },
    {
     "name": "stderr",
     "output_type": "stream",
     "text": [
      "                                                               \r"
     ]
    },
    {
     "name": "stdout",
     "output_type": "stream",
     "text": [
      "Epoch 19/200, Train Loss: 0.0410, Val Loss: 3.2273, Val F1 (weighted): 0.6409, Micro: 0.6858, Macro: 0.5912 (Best Weighted F1 so far: 0.6409)\n"
     ]
    },
    {
     "name": "stderr",
     "output_type": "stream",
     "text": [
      "                                                               \r"
     ]
    },
    {
     "name": "stdout",
     "output_type": "stream",
     "text": [
      "Epoch 28/200, Train Loss: 0.0159, Val Loss: 2.9334, Val F1 (weighted): 0.7203, Micro: 0.7441, Macro: 0.6381 (Best Weighted F1 so far: 0.7203)\n"
     ]
    },
    {
     "name": "stderr",
     "output_type": "stream",
     "text": [
      "                                                               \r"
     ]
    },
    {
     "name": "stdout",
     "output_type": "stream",
     "text": [
      "Epoch 30/200, Train Loss: 0.0315, Val Loss: 3.4498, Val F1 (weighted): 0.7298, Micro: 0.7529, Macro: 0.6654 (Best Weighted F1 so far: 0.7298)\n"
     ]
    },
    {
     "name": "stderr",
     "output_type": "stream",
     "text": [
      "                                                               \r"
     ]
    },
    {
     "name": "stdout",
     "output_type": "stream",
     "text": [
      "Epoch 31/200, Train Loss: 0.0148, Val Loss: 2.9972, Val F1 (weighted): 0.8095, Micro: 0.8185, Macro: 0.6768 (Best Weighted F1 so far: 0.8095)\n"
     ]
    },
    {
     "name": "stderr",
     "output_type": "stream",
     "text": [
      "                                                               \r"
     ]
    },
    {
     "name": "stdout",
     "output_type": "stream",
     "text": [
      "Epoch 32/200, Train Loss: 0.0103, Val Loss: 2.8099, Val F1 (weighted): 0.8453, Micro: 0.8506, Macro: 0.6939 (Best Weighted F1 so far: 0.8453)\n"
     ]
    },
    {
     "name": "stderr",
     "output_type": "stream",
     "text": [
      "                                                               \r"
     ]
    },
    {
     "name": "stdout",
     "output_type": "stream",
     "text": [
      "Epoch 33/200, Train Loss: 0.0071, Val Loss: 2.7586, Val F1 (weighted): 0.8872, Micro: 0.8897, Macro: 0.7100 (Best Weighted F1 so far: 0.8872)\n",
      "\n",
      "🛑 Early stopping triggered at epoch 32.\n",
      "Fold 3\n",
      "Class weights: tensor([3.8121e-01, 4.4458e-01, 1.3703e+03, 7.9017e+00, 6.7127e+03],\n",
      "       device='cuda:0')\n"
     ]
    },
    {
     "name": "stderr",
     "output_type": "stream",
     "text": [
      "                                                               \r"
     ]
    },
    {
     "name": "stdout",
     "output_type": "stream",
     "text": [
      "Epoch 1/200, Train Loss: 0.0793, Val Loss: 6.3731, Val F1 (weighted): 0.3624, Micro: 0.5258, Macro: 0.4105 (Best Weighted F1 so far: 0.3624)\n"
     ]
    },
    {
     "name": "stderr",
     "output_type": "stream",
     "text": [
      "                                                               \r"
     ]
    },
    {
     "name": "stdout",
     "output_type": "stream",
     "text": [
      "Epoch 2/200, Train Loss: 0.1081, Val Loss: 7.0049, Val F1 (weighted): 0.3628, Micro: 0.5259, Macro: 0.4013 (Best Weighted F1 so far: 0.3628)\n"
     ]
    },
    {
     "name": "stderr",
     "output_type": "stream",
     "text": [
      "                                                               \r"
     ]
    },
    {
     "name": "stdout",
     "output_type": "stream",
     "text": [
      "Epoch 3/200, Train Loss: 0.0795, Val Loss: 8.0798, Val F1 (weighted): 0.3646, Micro: 0.5268, Macro: 0.4282 (Best Weighted F1 so far: 0.3646)\n"
     ]
    },
    {
     "name": "stderr",
     "output_type": "stream",
     "text": [
      "                                                               \r"
     ]
    },
    {
     "name": "stdout",
     "output_type": "stream",
     "text": [
      "Epoch 6/200, Train Loss: 0.0787, Val Loss: 10.6805, Val F1 (weighted): 0.3652, Micro: 0.5271, Macro: 0.4312 (Best Weighted F1 so far: 0.3652)\n"
     ]
    },
    {
     "name": "stderr",
     "output_type": "stream",
     "text": [
      "                                                               \r"
     ]
    },
    {
     "name": "stdout",
     "output_type": "stream",
     "text": [
      "Epoch 7/200, Train Loss: 0.0841, Val Loss: 12.3572, Val F1 (weighted): 0.3720, Micro: 0.5308, Macro: 0.4724 (Best Weighted F1 so far: 0.3720)\n"
     ]
    },
    {
     "name": "stderr",
     "output_type": "stream",
     "text": [
      "                                                               \r"
     ]
    },
    {
     "name": "stdout",
     "output_type": "stream",
     "text": [
      "Epoch 9/200, Train Loss: 0.0849, Val Loss: 3.9290, Val F1 (weighted): 0.4389, Micro: 0.5665, Macro: 0.4325 (Best Weighted F1 so far: 0.4389)\n"
     ]
    },
    {
     "name": "stderr",
     "output_type": "stream",
     "text": [
      "                                                               \r"
     ]
    },
    {
     "name": "stdout",
     "output_type": "stream",
     "text": [
      "Epoch 11/200, Train Loss: 0.0442, Val Loss: 2.8471, Val F1 (weighted): 0.4581, Micro: 0.5728, Macro: 0.4237 (Best Weighted F1 so far: 0.4581)\n"
     ]
    },
    {
     "name": "stderr",
     "output_type": "stream",
     "text": [
      "                                                               \r"
     ]
    },
    {
     "name": "stdout",
     "output_type": "stream",
     "text": [
      "Epoch 18/200, Train Loss: 0.1148, Val Loss: 4.7209, Val F1 (weighted): 0.4874, Micro: 0.5958, Macro: 0.4086 (Best Weighted F1 so far: 0.4874)\n"
     ]
    },
    {
     "name": "stderr",
     "output_type": "stream",
     "text": [
      "                                                               \r"
     ]
    },
    {
     "name": "stdout",
     "output_type": "stream",
     "text": [
      "Epoch 21/200, Train Loss: 0.0669, Val Loss: 1.8539, Val F1 (weighted): 0.4907, Micro: 0.5962, Macro: 0.5229 (Best Weighted F1 so far: 0.4907)\n"
     ]
    },
    {
     "name": "stderr",
     "output_type": "stream",
     "text": [
      "                                                               \r"
     ]
    },
    {
     "name": "stdout",
     "output_type": "stream",
     "text": [
      "Epoch 27/200, Train Loss: 0.0543, Val Loss: 1.7194, Val F1 (weighted): 0.6094, Micro: 0.6653, Macro: 0.5370 (Best Weighted F1 so far: 0.6094)\n"
     ]
    },
    {
     "name": "stderr",
     "output_type": "stream",
     "text": [
      "                                                               \r"
     ]
    },
    {
     "name": "stdout",
     "output_type": "stream",
     "text": [
      "Epoch 28/200, Train Loss: 0.0402, Val Loss: 1.3168, Val F1 (weighted): 0.7412, Micro: 0.7607, Macro: 0.6120 (Best Weighted F1 so far: 0.7412)\n"
     ]
    },
    {
     "name": "stderr",
     "output_type": "stream",
     "text": [
      "                                                               \r"
     ]
    },
    {
     "name": "stdout",
     "output_type": "stream",
     "text": [
      "Epoch 32/200, Train Loss: 0.0176, Val Loss: 0.8651, Val F1 (weighted): 0.8265, Micro: 0.8335, Macro: 0.6464 (Best Weighted F1 so far: 0.8265)\n"
     ]
    },
    {
     "name": "stderr",
     "output_type": "stream",
     "text": [
      "                                                               \r"
     ]
    },
    {
     "name": "stdout",
     "output_type": "stream",
     "text": [
      "Epoch 35/200, Train Loss: 0.0128, Val Loss: 0.9468, Val F1 (weighted): 0.8350, Micro: 0.8412, Macro: 0.6731 (Best Weighted F1 so far: 0.8350)\n"
     ]
    },
    {
     "name": "stderr",
     "output_type": "stream",
     "text": [
      "                                                               \r"
     ]
    },
    {
     "name": "stdout",
     "output_type": "stream",
     "text": [
      "Epoch 39/200, Train Loss: 0.0318, Val Loss: 0.5413, Val F1 (weighted): 0.8951, Micro: 0.8971, Macro: 0.6582 (Best Weighted F1 so far: 0.8951)\n"
     ]
    },
    {
     "name": "stderr",
     "output_type": "stream",
     "text": [
      "                                                               \r"
     ]
    },
    {
     "name": "stdout",
     "output_type": "stream",
     "text": [
      "Epoch 40/200, Train Loss: 0.0312, Val Loss: 0.4336, Val F1 (weighted): 0.9125, Micro: 0.9137, Macro: 0.6694 (Best Weighted F1 so far: 0.9125)\n"
     ]
    },
    {
     "name": "stderr",
     "output_type": "stream",
     "text": [
      "                                                               \r"
     ]
    },
    {
     "name": "stdout",
     "output_type": "stream",
     "text": [
      "Epoch 47/200, Train Loss: 0.0567, Val Loss: 0.3061, Val F1 (weighted): 0.9194, Micro: 0.9204, Macro: 0.7070 (Best Weighted F1 so far: 0.9194)\n"
     ]
    },
    {
     "name": "stderr",
     "output_type": "stream",
     "text": [
      "                                                               \r"
     ]
    },
    {
     "name": "stdout",
     "output_type": "stream",
     "text": [
      "Epoch 48/200, Train Loss: 0.0131, Val Loss: 0.2256, Val F1 (weighted): 0.9275, Micro: 0.9283, Macro: 0.7141 (Best Weighted F1 so far: 0.9275)\n"
     ]
    },
    {
     "name": "stderr",
     "output_type": "stream",
     "text": [
      "                                                               \r"
     ]
    },
    {
     "name": "stdout",
     "output_type": "stream",
     "text": [
      "Epoch 49/200, Train Loss: 0.0102, Val Loss: 0.1827, Val F1 (weighted): 0.9463, Micro: 0.9467, Macro: 0.7114 (Best Weighted F1 so far: 0.9463)\n"
     ]
    },
    {
     "name": "stderr",
     "output_type": "stream",
     "text": [
      "                                                               \r"
     ]
    },
    {
     "name": "stdout",
     "output_type": "stream",
     "text": [
      "Epoch 50/200, Train Loss: 0.0094, Val Loss: 0.1417, Val F1 (weighted): 0.9539, Micro: 0.9542, Macro: 0.7091 (Best Weighted F1 so far: 0.9539)\n"
     ]
    },
    {
     "name": "stderr",
     "output_type": "stream",
     "text": [
      "                                                               \r"
     ]
    },
    {
     "name": "stdout",
     "output_type": "stream",
     "text": [
      "Epoch 51/200, Train Loss: 0.0078, Val Loss: 0.1122, Val F1 (weighted): 0.9662, Micro: 0.9663, Macro: 0.7231 (Best Weighted F1 so far: 0.9662)\n"
     ]
    },
    {
     "name": "stderr",
     "output_type": "stream",
     "text": [
      "                                                               \r"
     ]
    },
    {
     "name": "stdout",
     "output_type": "stream",
     "text": [
      "Epoch 52/200, Train Loss: 0.0064, Val Loss: 0.1029, Val F1 (weighted): 0.9713, Micro: 0.9714, Macro: 0.7309 (Best Weighted F1 so far: 0.9713)\n"
     ]
    },
    {
     "name": "stderr",
     "output_type": "stream",
     "text": [
      "                                                               \r"
     ]
    },
    {
     "name": "stdout",
     "output_type": "stream",
     "text": [
      "Epoch 53/200, Train Loss: 0.0050, Val Loss: 0.0716, Val F1 (weighted): 0.9791, Micro: 0.9791, Macro: 0.7246 (Best Weighted F1 so far: 0.9791)\n"
     ]
    },
    {
     "name": "stderr",
     "output_type": "stream",
     "text": [
      "                                                               \r"
     ]
    },
    {
     "name": "stdout",
     "output_type": "stream",
     "text": [
      "Epoch 55/200, Train Loss: 0.0168, Val Loss: 0.0604, Val F1 (weighted): 0.9823, Micro: 0.9822, Macro: 0.7116 (Best Weighted F1 so far: 0.9823)\n"
     ]
    },
    {
     "name": "stderr",
     "output_type": "stream",
     "text": [
      "                                                               \r"
     ]
    },
    {
     "name": "stdout",
     "output_type": "stream",
     "text": [
      "Epoch 56/200, Train Loss: 0.0030, Val Loss: 0.0248, Val F1 (weighted): 0.9890, Micro: 0.9890, Macro: 0.7477 (Best Weighted F1 so far: 0.9890)\n"
     ]
    },
    {
     "name": "stderr",
     "output_type": "stream",
     "text": [
      "                                                               \r"
     ]
    },
    {
     "name": "stdout",
     "output_type": "stream",
     "text": [
      "Epoch 60/200, Train Loss: 0.0023, Val Loss: 0.0058, Val F1 (weighted): 0.9973, Micro: 0.9973, Macro: 0.7430 (Best Weighted F1 so far: 0.9973)\n"
     ]
    },
    {
     "name": "stderr",
     "output_type": "stream",
     "text": [
      "                                                               \r"
     ]
    },
    {
     "name": "stdout",
     "output_type": "stream",
     "text": [
      "Epoch 67/200, Train Loss: 0.0011, Val Loss: 0.0030, Val F1 (weighted): 0.9996, Micro: 0.9996, Macro: 0.7541 (Best Weighted F1 so far: 0.9996)\n"
     ]
    },
    {
     "name": "stderr",
     "output_type": "stream",
     "text": [
      "                                                               \r"
     ]
    },
    {
     "name": "stdout",
     "output_type": "stream",
     "text": [
      "Epoch 69/200, Train Loss: 0.0015, Val Loss: 0.0033, Val F1 (weighted): 0.9997, Micro: 0.9997, Macro: 0.7518 (Best Weighted F1 so far: 0.9997)\n"
     ]
    },
    {
     "name": "stderr",
     "output_type": "stream",
     "text": [
      "                                                               \r"
     ]
    },
    {
     "name": "stdout",
     "output_type": "stream",
     "text": [
      "Epoch 72/200, Train Loss: 0.0288, Val Loss: 0.0037, Val F1 (weighted): 0.9998, Micro: 0.9997, Macro: 0.7570 (Best Weighted F1 so far: 0.9998)\n"
     ]
    },
    {
     "name": "stderr",
     "output_type": "stream",
     "text": [
      "                                                               \r"
     ]
    },
    {
     "name": "stdout",
     "output_type": "stream",
     "text": [
      "Epoch 73/200, Train Loss: 0.0009, Val Loss: 0.0032, Val F1 (weighted): 0.9998, Micro: 0.9998, Macro: 0.7603 (Best Weighted F1 so far: 0.9998)\n"
     ]
    },
    {
     "name": "stderr",
     "output_type": "stream",
     "text": [
      "                                                               \r"
     ]
    },
    {
     "name": "stdout",
     "output_type": "stream",
     "text": [
      "Epoch 74/200, Train Loss: 0.0007, Val Loss: 0.0026, Val F1 (weighted): 0.9998, Micro: 0.9998, Macro: 0.7765 (Best Weighted F1 so far: 0.9998)\n"
     ]
    },
    {
     "name": "stderr",
     "output_type": "stream",
     "text": [
      "                                                               \r"
     ]
    },
    {
     "name": "stdout",
     "output_type": "stream",
     "text": [
      "Epoch 82/200, Train Loss: 0.0007, Val Loss: 0.0021, Val F1 (weighted): 0.9999, Micro: 0.9998, Macro: 0.7594 (Best Weighted F1 so far: 0.9999)\n"
     ]
    },
    {
     "name": "stderr",
     "output_type": "stream",
     "text": [
      "                                                               \r"
     ]
    },
    {
     "name": "stdout",
     "output_type": "stream",
     "text": [
      "Epoch 83/200, Train Loss: 0.0006, Val Loss: 0.0021, Val F1 (weighted): 0.9999, Micro: 0.9999, Macro: 0.7780 (Best Weighted F1 so far: 0.9999)\n"
     ]
    },
    {
     "name": "stderr",
     "output_type": "stream",
     "text": [
      "                                                               \r"
     ]
    },
    {
     "name": "stdout",
     "output_type": "stream",
     "text": [
      "Epoch 91/200, Train Loss: 0.0006, Val Loss: 0.0019, Val F1 (weighted): 0.9999, Micro: 0.9999, Macro: 0.7780 (Best Weighted F1 so far: 0.9999)\n"
     ]
    },
    {
     "name": "stderr",
     "output_type": "stream",
     "text": [
      "                                                               \r"
     ]
    },
    {
     "name": "stdout",
     "output_type": "stream",
     "text": [
      "Epoch 94/200, Train Loss: 0.0005, Val Loss: 0.0019, Val F1 (weighted): 0.9999, Micro: 0.9999, Macro: 0.7890 (Best Weighted F1 so far: 0.9999)\n"
     ]
    },
    {
     "name": "stderr",
     "output_type": "stream",
     "text": [
      "                                                               \r"
     ]
    },
    {
     "name": "stdout",
     "output_type": "stream",
     "text": [
      "Epoch 102/200, Train Loss: 0.0006, Val Loss: 0.0019, Val F1 (weighted): 0.9999, Micro: 0.9999, Macro: 0.7781 (Best Weighted F1 so far: 0.9999)\n"
     ]
    },
    {
     "name": "stderr",
     "output_type": "stream",
     "text": [
      "                                                               \r"
     ]
    },
    {
     "name": "stdout",
     "output_type": "stream",
     "text": [
      "Epoch 106/200, Train Loss: 0.0006, Val Loss: 0.0018, Val F1 (weighted): 0.9999, Micro: 0.9999, Macro: 0.7794 (Best Weighted F1 so far: 0.9999)\n"
     ]
    },
    {
     "name": "stderr",
     "output_type": "stream",
     "text": [
      "                                                               \r"
     ]
    },
    {
     "name": "stdout",
     "output_type": "stream",
     "text": [
      "Epoch 108/200, Train Loss: 0.0005, Val Loss: 0.0018, Val F1 (weighted): 0.9999, Micro: 0.9999, Macro: 0.7905 (Best Weighted F1 so far: 0.9999)\n"
     ]
    },
    {
     "name": "stderr",
     "output_type": "stream",
     "text": [
      "                                                               \r"
     ]
    },
    {
     "name": "stdout",
     "output_type": "stream",
     "text": [
      "\n",
      "🛑 Early stopping triggered at epoch 116.\n",
      "Average F1 Score for drop_out 0.2, learning rate 0.001, hidden_dim 128: 0.9279\n",
      "Testing with learning rate: 0.001, hidden_dim: 128, drop_out: 0.3\n",
      "Fold 1\n",
      "Class weights: tensor([3.8121e-01, 4.4458e-01, 1.9641e+03, 7.8879e+00, 6.7127e+03],\n",
      "       device='cuda:0')\n"
     ]
    },
    {
     "name": "stderr",
     "output_type": "stream",
     "text": [
      "                                                               \r"
     ]
    },
    {
     "name": "stdout",
     "output_type": "stream",
     "text": [
      "Epoch 1/200, Train Loss: 0.0805, Val Loss: 6.3809, Val F1 (weighted): 0.3628, Micro: 0.5260, Macro: 0.3491 (Best Weighted F1 so far: 0.3628)\n"
     ]
    },
    {
     "name": "stderr",
     "output_type": "stream",
     "text": [
      "                                                               \r"
     ]
    },
    {
     "name": "stdout",
     "output_type": "stream",
     "text": [
      "Epoch 2/200, Train Loss: 0.0744, Val Loss: 7.6952, Val F1 (weighted): 0.3674, Micro: 0.5282, Macro: 0.3049 (Best Weighted F1 so far: 0.3674)\n"
     ]
    },
    {
     "name": "stderr",
     "output_type": "stream",
     "text": [
      "                                                               \r"
     ]
    },
    {
     "name": "stdout",
     "output_type": "stream",
     "text": [
      "Epoch 3/200, Train Loss: 0.0761, Val Loss: 6.9674, Val F1 (weighted): 0.3678, Micro: 0.5284, Macro: 0.2947 (Best Weighted F1 so far: 0.3678)\n"
     ]
    },
    {
     "name": "stderr",
     "output_type": "stream",
     "text": [
      "                                                               \r"
     ]
    },
    {
     "name": "stdout",
     "output_type": "stream",
     "text": [
      "Epoch 6/200, Train Loss: 0.0768, Val Loss: 6.3919, Val F1 (weighted): 0.3743, Micro: 0.5323, Macro: 0.2832 (Best Weighted F1 so far: 0.3743)\n"
     ]
    },
    {
     "name": "stderr",
     "output_type": "stream",
     "text": [
      "                                                               \r"
     ]
    },
    {
     "name": "stdout",
     "output_type": "stream",
     "text": [
      "Epoch 9/200, Train Loss: 0.0840, Val Loss: 4.4419, Val F1 (weighted): 0.3828, Micro: 0.5375, Macro: 0.3805 (Best Weighted F1 so far: 0.3828)\n"
     ]
    },
    {
     "name": "stderr",
     "output_type": "stream",
     "text": [
      "                                                               \r"
     ]
    },
    {
     "name": "stdout",
     "output_type": "stream",
     "text": [
      "Epoch 14/200, Train Loss: 0.1004, Val Loss: 3.8870, Val F1 (weighted): 0.3833, Micro: 0.5391, Macro: 0.4316 (Best Weighted F1 so far: 0.3833)\n"
     ]
    },
    {
     "name": "stderr",
     "output_type": "stream",
     "text": [
      "                                                               \r"
     ]
    },
    {
     "name": "stdout",
     "output_type": "stream",
     "text": [
      "Epoch 19/200, Train Loss: 0.0531, Val Loss: 3.2379, Val F1 (weighted): 0.3842, Micro: 0.5399, Macro: 0.5449 (Best Weighted F1 so far: 0.3842)\n"
     ]
    },
    {
     "name": "stderr",
     "output_type": "stream",
     "text": [
      "                                                               \r"
     ]
    },
    {
     "name": "stdout",
     "output_type": "stream",
     "text": [
      "Epoch 20/200, Train Loss: 0.0423, Val Loss: 3.2177, Val F1 (weighted): 0.3936, Micro: 0.5460, Macro: 0.4914 (Best Weighted F1 so far: 0.3936)\n"
     ]
    },
    {
     "name": "stderr",
     "output_type": "stream",
     "text": [
      "                                                               \r"
     ]
    },
    {
     "name": "stdout",
     "output_type": "stream",
     "text": [
      "Epoch 22/200, Train Loss: 0.0294, Val Loss: 4.0476, Val F1 (weighted): 0.4075, Micro: 0.5515, Macro: 0.4677 (Best Weighted F1 so far: 0.4075)\n"
     ]
    },
    {
     "name": "stderr",
     "output_type": "stream",
     "text": [
      "                                                               \r"
     ]
    },
    {
     "name": "stdout",
     "output_type": "stream",
     "text": [
      "Epoch 25/200, Train Loss: 0.0705, Val Loss: 1.2761, Val F1 (weighted): 0.7031, Micro: 0.7305, Macro: 0.5702 (Best Weighted F1 so far: 0.7031)\n"
     ]
    },
    {
     "name": "stderr",
     "output_type": "stream",
     "text": [
      "                                                               \r"
     ]
    },
    {
     "name": "stdout",
     "output_type": "stream",
     "text": [
      "Epoch 35/200, Train Loss: 0.0374, Val Loss: 1.5034, Val F1 (weighted): 0.7341, Micro: 0.7552, Macro: 0.5126 (Best Weighted F1 so far: 0.7341)\n"
     ]
    },
    {
     "name": "stderr",
     "output_type": "stream",
     "text": [
      "                                                               \r"
     ]
    },
    {
     "name": "stdout",
     "output_type": "stream",
     "text": [
      "Epoch 38/200, Train Loss: 0.0449, Val Loss: 0.7879, Val F1 (weighted): 0.8805, Micro: 0.8831, Macro: 0.6405 (Best Weighted F1 so far: 0.8805)\n"
     ]
    },
    {
     "name": "stderr",
     "output_type": "stream",
     "text": [
      "                                                               \r"
     ]
    },
    {
     "name": "stdout",
     "output_type": "stream",
     "text": [
      "Epoch 41/200, Train Loss: 0.0203, Val Loss: 0.7181, Val F1 (weighted): 0.9073, Micro: 0.9087, Macro: 0.7493 (Best Weighted F1 so far: 0.9073)\n"
     ]
    },
    {
     "name": "stderr",
     "output_type": "stream",
     "text": [
      "                                                               \r"
     ]
    },
    {
     "name": "stdout",
     "output_type": "stream",
     "text": [
      "Epoch 42/200, Train Loss: 0.0105, Val Loss: 0.4558, Val F1 (weighted): 0.9415, Micro: 0.9419, Macro: 0.7578 (Best Weighted F1 so far: 0.9415)\n"
     ]
    },
    {
     "name": "stderr",
     "output_type": "stream",
     "text": [
      "                                                               \r"
     ]
    },
    {
     "name": "stdout",
     "output_type": "stream",
     "text": [
      "Epoch 47/200, Train Loss: 0.0645, Val Loss: 0.4102, Val F1 (weighted): 0.9579, Micro: 0.9580, Macro: 0.7660 (Best Weighted F1 so far: 0.9579)\n"
     ]
    },
    {
     "name": "stderr",
     "output_type": "stream",
     "text": [
      "                                                               \r"
     ]
    },
    {
     "name": "stdout",
     "output_type": "stream",
     "text": [
      "Epoch 51/200, Train Loss: 0.0207, Val Loss: 0.4702, Val F1 (weighted): 0.9619, Micro: 0.9620, Macro: 0.9597 (Best Weighted F1 so far: 0.9619)\n"
     ]
    },
    {
     "name": "stderr",
     "output_type": "stream",
     "text": [
      "                                                               \r"
     ]
    },
    {
     "name": "stdout",
     "output_type": "stream",
     "text": [
      "Epoch 52/200, Train Loss: 0.2149, Val Loss: 0.3910, Val F1 (weighted): 0.9736, Micro: 0.9737, Macro: 0.9370 (Best Weighted F1 so far: 0.9736)\n"
     ]
    },
    {
     "name": "stderr",
     "output_type": "stream",
     "text": [
      "                                                               \r"
     ]
    },
    {
     "name": "stdout",
     "output_type": "stream",
     "text": [
      "Epoch 60/200, Train Loss: 0.0063, Val Loss: 0.4277, Val F1 (weighted): 0.9969, Micro: 0.9969, Macro: 0.7839 (Best Weighted F1 so far: 0.9969)\n"
     ]
    },
    {
     "name": "stderr",
     "output_type": "stream",
     "text": [
      "                                                               \r"
     ]
    },
    {
     "name": "stdout",
     "output_type": "stream",
     "text": [
      "\n",
      "🛑 Early stopping triggered at epoch 61.\n",
      "Fold 2\n",
      "Class weights: tensor([3.8133e-01, 4.4439e-01, 2.0408e+03, 7.8912e+00, 6.7165e+03],\n",
      "       device='cuda:0')\n"
     ]
    },
    {
     "name": "stderr",
     "output_type": "stream",
     "text": [
      "                                                               \r"
     ]
    },
    {
     "name": "stdout",
     "output_type": "stream",
     "text": [
      "Epoch 1/200, Train Loss: 0.0964, Val Loss: 8.4223, Val F1 (weighted): 0.3635, Micro: 0.5267, Macro: 0.2507 (Best Weighted F1 so far: 0.3635)\n"
     ]
    },
    {
     "name": "stderr",
     "output_type": "stream",
     "text": [
      "                                                               \r"
     ]
    },
    {
     "name": "stdout",
     "output_type": "stream",
     "text": [
      "Epoch 2/200, Train Loss: 0.0719, Val Loss: 7.4429, Val F1 (weighted): 0.3638, Micro: 0.5269, Macro: 0.3473 (Best Weighted F1 so far: 0.3638)\n"
     ]
    },
    {
     "name": "stderr",
     "output_type": "stream",
     "text": [
      "                                                               \r"
     ]
    },
    {
     "name": "stdout",
     "output_type": "stream",
     "text": [
      "Epoch 3/200, Train Loss: 0.0926, Val Loss: 11.6666, Val F1 (weighted): 0.3681, Micro: 0.5290, Macro: 0.3770 (Best Weighted F1 so far: 0.3681)\n"
     ]
    },
    {
     "name": "stderr",
     "output_type": "stream",
     "text": [
      "                                                               \r"
     ]
    },
    {
     "name": "stdout",
     "output_type": "stream",
     "text": [
      "Epoch 4/200, Train Loss: 0.0999, Val Loss: 7.1529, Val F1 (weighted): 0.3681, Micro: 0.5290, Macro: 0.3826 (Best Weighted F1 so far: 0.3681)\n"
     ]
    },
    {
     "name": "stderr",
     "output_type": "stream",
     "text": [
      "                                                               \r"
     ]
    },
    {
     "name": "stdout",
     "output_type": "stream",
     "text": [
      "Epoch 5/200, Train Loss: 0.1028, Val Loss: 7.1365, Val F1 (weighted): 0.3681, Micro: 0.5290, Macro: 0.2993 (Best Weighted F1 so far: 0.3681)\n"
     ]
    },
    {
     "name": "stderr",
     "output_type": "stream",
     "text": [
      "                                                               \r"
     ]
    },
    {
     "name": "stdout",
     "output_type": "stream",
     "text": [
      "Epoch 7/200, Train Loss: 0.0803, Val Loss: 6.5888, Val F1 (weighted): 0.3692, Micro: 0.5294, Macro: 0.2117 (Best Weighted F1 so far: 0.3692)\n"
     ]
    },
    {
     "name": "stderr",
     "output_type": "stream",
     "text": [
      "                                                               \r"
     ]
    },
    {
     "name": "stdout",
     "output_type": "stream",
     "text": [
      "Epoch 8/200, Train Loss: 0.0700, Val Loss: 11.3142, Val F1 (weighted): 0.3728, Micro: 0.5316, Macro: 0.3497 (Best Weighted F1 so far: 0.3728)\n"
     ]
    },
    {
     "name": "stderr",
     "output_type": "stream",
     "text": [
      "                                                               \r"
     ]
    },
    {
     "name": "stdout",
     "output_type": "stream",
     "text": [
      "Epoch 11/200, Train Loss: 0.0815, Val Loss: 11.0003, Val F1 (weighted): 0.3747, Micro: 0.5328, Macro: 0.3591 (Best Weighted F1 so far: 0.3747)\n"
     ]
    },
    {
     "name": "stderr",
     "output_type": "stream",
     "text": [
      "                                                               \r"
     ]
    },
    {
     "name": "stdout",
     "output_type": "stream",
     "text": [
      "Epoch 14/200, Train Loss: 0.1388, Val Loss: 7.5851, Val F1 (weighted): 0.3784, Micro: 0.5351, Macro: 0.4013 (Best Weighted F1 so far: 0.3784)\n"
     ]
    },
    {
     "name": "stderr",
     "output_type": "stream",
     "text": [
      "                                                               \r"
     ]
    },
    {
     "name": "stdout",
     "output_type": "stream",
     "text": [
      "Epoch 15/200, Train Loss: 0.0586, Val Loss: 4.3429, Val F1 (weighted): 0.4710, Micro: 0.5801, Macro: 0.4467 (Best Weighted F1 so far: 0.4710)\n"
     ]
    },
    {
     "name": "stderr",
     "output_type": "stream",
     "text": [
      "                                                               \r"
     ]
    },
    {
     "name": "stdout",
     "output_type": "stream",
     "text": [
      "Epoch 23/200, Train Loss: 0.0477, Val Loss: 3.4342, Val F1 (weighted): 0.5094, Micro: 0.6030, Macro: 0.5216 (Best Weighted F1 so far: 0.5094)\n"
     ]
    },
    {
     "name": "stderr",
     "output_type": "stream",
     "text": [
      "                                                               \r"
     ]
    },
    {
     "name": "stdout",
     "output_type": "stream",
     "text": [
      "Epoch 26/200, Train Loss: 0.0320, Val Loss: 3.9861, Val F1 (weighted): 0.6400, Micro: 0.6841, Macro: 0.5783 (Best Weighted F1 so far: 0.6400)\n"
     ]
    },
    {
     "name": "stderr",
     "output_type": "stream",
     "text": [
      "                                                               \r"
     ]
    },
    {
     "name": "stdout",
     "output_type": "stream",
     "text": [
      "Epoch 28/200, Train Loss: 0.0527, Val Loss: 3.0734, Val F1 (weighted): 0.7164, Micro: 0.7403, Macro: 0.5743 (Best Weighted F1 so far: 0.7164)\n"
     ]
    },
    {
     "name": "stderr",
     "output_type": "stream",
     "text": [
      "                                                               \r"
     ]
    },
    {
     "name": "stdout",
     "output_type": "stream",
     "text": [
      "Epoch 30/200, Train Loss: 0.0315, Val Loss: 1.7236, Val F1 (weighted): 0.7671, Micro: 0.7817, Macro: 0.6340 (Best Weighted F1 so far: 0.7671)\n"
     ]
    },
    {
     "name": "stderr",
     "output_type": "stream",
     "text": [
      "                                                               \r"
     ]
    },
    {
     "name": "stdout",
     "output_type": "stream",
     "text": [
      "Epoch 35/200, Train Loss: 0.0844, Val Loss: 2.4014, Val F1 (weighted): 0.8125, Micro: 0.8211, Macro: 0.6631 (Best Weighted F1 so far: 0.8125)\n"
     ]
    },
    {
     "name": "stderr",
     "output_type": "stream",
     "text": [
      "                                                              \r"
     ]
    },
    {
     "name": "stdout",
     "output_type": "stream",
     "text": [
      "Epoch 36/200, Train Loss: 0.0133, Val Loss: 1.7574, Val F1 (weighted): 0.8819, Micro: 0.8852, Macro: 0.6841 (Best Weighted F1 so far: 0.8819)\n"
     ]
    },
    {
     "name": "stderr",
     "output_type": "stream",
     "text": [
      "                                                               \r"
     ]
    },
    {
     "name": "stdout",
     "output_type": "stream",
     "text": [
      "Epoch 37/200, Train Loss: 0.0172, Val Loss: 1.8068, Val F1 (weighted): 0.9079, Micro: 0.9099, Macro: 0.7036 (Best Weighted F1 so far: 0.9079)\n"
     ]
    },
    {
     "name": "stderr",
     "output_type": "stream",
     "text": [
      "                                                               \r"
     ]
    },
    {
     "name": "stdout",
     "output_type": "stream",
     "text": [
      "Epoch 40/200, Train Loss: 0.0088, Val Loss: 1.7986, Val F1 (weighted): 0.9330, Micro: 0.9341, Macro: 0.7035 (Best Weighted F1 so far: 0.9330)\n",
      "\n",
      "🛑 Early stopping triggered at epoch 39.\n",
      "Fold 3\n",
      "Class weights: tensor([3.8121e-01, 4.4458e-01, 1.3703e+03, 7.9017e+00, 6.7127e+03],\n",
      "       device='cuda:0')\n"
     ]
    },
    {
     "name": "stderr",
     "output_type": "stream",
     "text": [
      "                                                               \r"
     ]
    },
    {
     "name": "stdout",
     "output_type": "stream",
     "text": [
      "Epoch 1/200, Train Loss: 0.0800, Val Loss: 9.5246, Val F1 (weighted): 0.3624, Micro: 0.5258, Macro: 0.4056 (Best Weighted F1 so far: 0.3624)\n"
     ]
    },
    {
     "name": "stderr",
     "output_type": "stream",
     "text": [
      "                                                               \r"
     ]
    },
    {
     "name": "stdout",
     "output_type": "stream",
     "text": [
      "Epoch 2/200, Train Loss: 0.1191, Val Loss: 11.1366, Val F1 (weighted): 0.3626, Micro: 0.5259, Macro: 0.4164 (Best Weighted F1 so far: 0.3626)\n"
     ]
    },
    {
     "name": "stderr",
     "output_type": "stream",
     "text": [
      "                                                               \r"
     ]
    },
    {
     "name": "stdout",
     "output_type": "stream",
     "text": [
      "Epoch 3/200, Train Loss: 0.1189, Val Loss: 8.8940, Val F1 (weighted): 0.3637, Micro: 0.5264, Macro: 0.3061 (Best Weighted F1 so far: 0.3637)\n"
     ]
    },
    {
     "name": "stderr",
     "output_type": "stream",
     "text": [
      "                                                              \r"
     ]
    },
    {
     "name": "stdout",
     "output_type": "stream",
     "text": [
      "Epoch 4/200, Train Loss: 0.0835, Val Loss: 11.0944, Val F1 (weighted): 0.3640, Micro: 0.5265, Macro: 0.4175 (Best Weighted F1 so far: 0.3640)\n"
     ]
    },
    {
     "name": "stderr",
     "output_type": "stream",
     "text": [
      "                                                               \r"
     ]
    },
    {
     "name": "stdout",
     "output_type": "stream",
     "text": [
      "Epoch 5/200, Train Loss: 0.0816, Val Loss: 10.4342, Val F1 (weighted): 0.3666, Micro: 0.5278, Macro: 0.3862 (Best Weighted F1 so far: 0.3666)\n"
     ]
    },
    {
     "name": "stderr",
     "output_type": "stream",
     "text": [
      "                                                               \r"
     ]
    },
    {
     "name": "stdout",
     "output_type": "stream",
     "text": [
      "Epoch 6/200, Train Loss: 0.0698, Val Loss: 6.8510, Val F1 (weighted): 0.3773, Micro: 0.5331, Macro: 0.4130 (Best Weighted F1 so far: 0.3773)\n"
     ]
    },
    {
     "name": "stderr",
     "output_type": "stream",
     "text": [
      "                                                               \r"
     ]
    },
    {
     "name": "stdout",
     "output_type": "stream",
     "text": [
      "Epoch 9/200, Train Loss: 0.0839, Val Loss: 5.0850, Val F1 (weighted): 0.3841, Micro: 0.5388, Macro: 0.3977 (Best Weighted F1 so far: 0.3841)\n"
     ]
    },
    {
     "name": "stderr",
     "output_type": "stream",
     "text": [
      "                                                               \r"
     ]
    },
    {
     "name": "stdout",
     "output_type": "stream",
     "text": [
      "Epoch 10/200, Train Loss: 0.0666, Val Loss: 5.0141, Val F1 (weighted): 0.3871, Micro: 0.5418, Macro: 0.4561 (Best Weighted F1 so far: 0.3871)\n"
     ]
    },
    {
     "name": "stderr",
     "output_type": "stream",
     "text": [
      "                                                               \r"
     ]
    },
    {
     "name": "stdout",
     "output_type": "stream",
     "text": [
      "Epoch 12/200, Train Loss: 0.0603, Val Loss: 4.2244, Val F1 (weighted): 0.3898, Micro: 0.5442, Macro: 0.5249 (Best Weighted F1 so far: 0.3898)\n"
     ]
    },
    {
     "name": "stderr",
     "output_type": "stream",
     "text": [
      "                                                               \r"
     ]
    },
    {
     "name": "stdout",
     "output_type": "stream",
     "text": [
      "Epoch 14/200, Train Loss: 0.0866, Val Loss: 3.6812, Val F1 (weighted): 0.4639, Micro: 0.5801, Macro: 0.4587 (Best Weighted F1 so far: 0.4639)\n"
     ]
    },
    {
     "name": "stderr",
     "output_type": "stream",
     "text": [
      "                                                               \r"
     ]
    },
    {
     "name": "stdout",
     "output_type": "stream",
     "text": [
      "Epoch 30/200, Train Loss: 0.1024, Val Loss: 0.6954, Val F1 (weighted): 0.8040, Micro: 0.8116, Macro: 0.5131 (Best Weighted F1 so far: 0.8040)\n"
     ]
    },
    {
     "name": "stderr",
     "output_type": "stream",
     "text": [
      "                                                               \r"
     ]
    },
    {
     "name": "stdout",
     "output_type": "stream",
     "text": [
      "Epoch 31/200, Train Loss: 0.0378, Val Loss: 0.8340, Val F1 (weighted): 0.8072, Micro: 0.8154, Macro: 0.5202 (Best Weighted F1 so far: 0.8072)\n"
     ]
    },
    {
     "name": "stderr",
     "output_type": "stream",
     "text": [
      "                                                               \r"
     ]
    },
    {
     "name": "stdout",
     "output_type": "stream",
     "text": [
      "Epoch 33/200, Train Loss: 0.1657, Val Loss: 0.3678, Val F1 (weighted): 0.9491, Micro: 0.9493, Macro: 0.7598 (Best Weighted F1 so far: 0.9491)\n"
     ]
    },
    {
     "name": "stderr",
     "output_type": "stream",
     "text": [
      "                                                               \r"
     ]
    },
    {
     "name": "stdout",
     "output_type": "stream",
     "text": [
      "Epoch 38/200, Train Loss: 0.0802, Val Loss: 0.2715, Val F1 (weighted): 0.9497, Micro: 0.9500, Macro: 0.7279 (Best Weighted F1 so far: 0.9497)\n"
     ]
    },
    {
     "name": "stderr",
     "output_type": "stream",
     "text": [
      "                                                               \r"
     ]
    },
    {
     "name": "stdout",
     "output_type": "stream",
     "text": [
      "Epoch 39/200, Train Loss: 0.0155, Val Loss: 0.1656, Val F1 (weighted): 0.9596, Micro: 0.9598, Macro: 0.7362 (Best Weighted F1 so far: 0.9596)\n"
     ]
    },
    {
     "name": "stderr",
     "output_type": "stream",
     "text": [
      "                                                               \r"
     ]
    },
    {
     "name": "stdout",
     "output_type": "stream",
     "text": [
      "Epoch 44/200, Train Loss: 0.0408, Val Loss: 0.2160, Val F1 (weighted): 0.9639, Micro: 0.9643, Macro: 0.7382 (Best Weighted F1 so far: 0.9639)\n"
     ]
    },
    {
     "name": "stderr",
     "output_type": "stream",
     "text": [
      "                                                               \r"
     ]
    },
    {
     "name": "stdout",
     "output_type": "stream",
     "text": [
      "Epoch 49/200, Train Loss: 0.0159, Val Loss: 0.0559, Val F1 (weighted): 0.9818, Micro: 0.9819, Macro: 0.7577 (Best Weighted F1 so far: 0.9818)\n"
     ]
    },
    {
     "name": "stderr",
     "output_type": "stream",
     "text": [
      "                                                               \r"
     ]
    },
    {
     "name": "stdout",
     "output_type": "stream",
     "text": [
      "Epoch 59/200, Train Loss: 0.0068, Val Loss: 0.0425, Val F1 (weighted): 0.9914, Micro: 0.9914, Macro: 0.7339 (Best Weighted F1 so far: 0.9914)\n"
     ]
    },
    {
     "name": "stderr",
     "output_type": "stream",
     "text": [
      "                                                               \r"
     ]
    },
    {
     "name": "stdout",
     "output_type": "stream",
     "text": [
      "Epoch 61/200, Train Loss: 0.0035, Val Loss: 0.0420, Val F1 (weighted): 0.9930, Micro: 0.9930, Macro: 0.7328 (Best Weighted F1 so far: 0.9930)\n"
     ]
    },
    {
     "name": "stderr",
     "output_type": "stream",
     "text": [
      "                                                               \r"
     ]
    },
    {
     "name": "stdout",
     "output_type": "stream",
     "text": [
      "Epoch 62/200, Train Loss: 0.0029, Val Loss: 0.0198, Val F1 (weighted): 0.9959, Micro: 0.9959, Macro: 0.7500 (Best Weighted F1 so far: 0.9959)\n"
     ]
    },
    {
     "name": "stderr",
     "output_type": "stream",
     "text": [
      "                                                               \r"
     ]
    },
    {
     "name": "stdout",
     "output_type": "stream",
     "text": [
      "Epoch 69/200, Train Loss: 0.0201, Val Loss: 0.0151, Val F1 (weighted): 0.9972, Micro: 0.9972, Macro: 0.7842 (Best Weighted F1 so far: 0.9972)\n"
     ]
    },
    {
     "name": "stderr",
     "output_type": "stream",
     "text": [
      "                                                               \r"
     ]
    },
    {
     "name": "stdout",
     "output_type": "stream",
     "text": [
      "Epoch 77/200, Train Loss: 0.0029, Val Loss: 0.0083, Val F1 (weighted): 0.9973, Micro: 0.9973, Macro: 0.7581 (Best Weighted F1 so far: 0.9973)\n"
     ]
    },
    {
     "name": "stderr",
     "output_type": "stream",
     "text": [
      "                                                               \r"
     ]
    },
    {
     "name": "stdout",
     "output_type": "stream",
     "text": [
      "Epoch 83/200, Train Loss: 0.0010, Val Loss: 0.0037, Val F1 (weighted): 0.9984, Micro: 0.9983, Macro: 0.7589 (Best Weighted F1 so far: 0.9984)\n"
     ]
    },
    {
     "name": "stderr",
     "output_type": "stream",
     "text": [
      "                                                               \r"
     ]
    },
    {
     "name": "stdout",
     "output_type": "stream",
     "text": [
      "Epoch 90/200, Train Loss: 0.0066, Val Loss: 0.0029, Val F1 (weighted): 0.9998, Micro: 0.9998, Macro: 0.7515 (Best Weighted F1 so far: 0.9998)\n"
     ]
    },
    {
     "name": "stderr",
     "output_type": "stream",
     "text": [
      "                                                               \r"
     ]
    },
    {
     "name": "stdout",
     "output_type": "stream",
     "text": [
      "Epoch 94/200, Train Loss: 0.0012, Val Loss: 0.0025, Val F1 (weighted): 0.9999, Micro: 0.9998, Macro: 0.7890 (Best Weighted F1 so far: 0.9999)\n"
     ]
    },
    {
     "name": "stderr",
     "output_type": "stream",
     "text": [
      "                                                               \r"
     ]
    },
    {
     "name": "stdout",
     "output_type": "stream",
     "text": [
      "Epoch 97/200, Train Loss: 0.0011, Val Loss: 0.0018, Val F1 (weighted): 0.9999, Micro: 0.9999, Macro: 0.7892 (Best Weighted F1 so far: 0.9999)\n"
     ]
    },
    {
     "name": "stderr",
     "output_type": "stream",
     "text": [
      "                                                               \r"
     ]
    },
    {
     "name": "stdout",
     "output_type": "stream",
     "text": [
      "\n",
      "🛑 Early stopping triggered at epoch 112.\n",
      "Average F1 Score for drop_out 0.3, learning rate 0.001, hidden_dim 128: 0.9766\n",
      "Testing with learning rate: 0.001, hidden_dim: 128, drop_out: 0.4\n",
      "Fold 1\n",
      "Class weights: tensor([3.8121e-01, 4.4458e-01, 1.9641e+03, 7.8879e+00, 6.7127e+03],\n",
      "       device='cuda:0')\n"
     ]
    },
    {
     "name": "stderr",
     "output_type": "stream",
     "text": [
      "                                                              \r"
     ]
    },
    {
     "name": "stdout",
     "output_type": "stream",
     "text": [
      "Epoch 1/200, Train Loss: 0.0725, Val Loss: 7.8303, Val F1 (weighted): 0.3628, Micro: 0.5260, Macro: 0.3504 (Best Weighted F1 so far: 0.3628)\n"
     ]
    },
    {
     "name": "stderr",
     "output_type": "stream",
     "text": [
      "                                                               \r"
     ]
    },
    {
     "name": "stdout",
     "output_type": "stream",
     "text": [
      "Epoch 2/200, Train Loss: 0.1021, Val Loss: 9.0508, Val F1 (weighted): 0.3644, Micro: 0.5267, Macro: 0.2950 (Best Weighted F1 so far: 0.3644)\n"
     ]
    },
    {
     "name": "stderr",
     "output_type": "stream",
     "text": [
      "                                                               \r"
     ]
    },
    {
     "name": "stdout",
     "output_type": "stream",
     "text": [
      "Epoch 3/200, Train Loss: 0.0895, Val Loss: 7.1913, Val F1 (weighted): 0.3674, Micro: 0.5282, Macro: 0.3493 (Best Weighted F1 so far: 0.3674)\n"
     ]
    },
    {
     "name": "stderr",
     "output_type": "stream",
     "text": [
      "                                                               \r"
     ]
    },
    {
     "name": "stdout",
     "output_type": "stream",
     "text": [
      "Epoch 4/200, Train Loss: 0.0968, Val Loss: 5.5726, Val F1 (weighted): 0.3688, Micro: 0.5289, Macro: 0.3959 (Best Weighted F1 so far: 0.3688)\n"
     ]
    },
    {
     "name": "stderr",
     "output_type": "stream",
     "text": [
      "                                                               \r"
     ]
    },
    {
     "name": "stdout",
     "output_type": "stream",
     "text": [
      "Epoch 6/200, Train Loss: 0.0867, Val Loss: 13.9469, Val F1 (weighted): 0.3690, Micro: 0.5291, Macro: 0.2830 (Best Weighted F1 so far: 0.3690)\n"
     ]
    },
    {
     "name": "stderr",
     "output_type": "stream",
     "text": [
      "                                                               \r"
     ]
    },
    {
     "name": "stdout",
     "output_type": "stream",
     "text": [
      "Epoch 7/200, Train Loss: 0.1008, Val Loss: 7.6943, Val F1 (weighted): 0.3797, Micro: 0.5357, Macro: 0.5300 (Best Weighted F1 so far: 0.3797)\n"
     ]
    },
    {
     "name": "stderr",
     "output_type": "stream",
     "text": [
      "                                                               \r"
     ]
    },
    {
     "name": "stdout",
     "output_type": "stream",
     "text": [
      "Epoch 12/200, Train Loss: 0.0596, Val Loss: 4.8548, Val F1 (weighted): 0.3823, Micro: 0.5382, Macro: 0.4121 (Best Weighted F1 so far: 0.3823)\n"
     ]
    },
    {
     "name": "stderr",
     "output_type": "stream",
     "text": [
      "                                                               \r"
     ]
    },
    {
     "name": "stdout",
     "output_type": "stream",
     "text": [
      "Epoch 15/200, Train Loss: 0.0640, Val Loss: 3.1411, Val F1 (weighted): 0.3880, Micro: 0.5417, Macro: 0.4674 (Best Weighted F1 so far: 0.3880)\n"
     ]
    },
    {
     "name": "stderr",
     "output_type": "stream",
     "text": [
      "                                                               \r"
     ]
    },
    {
     "name": "stdout",
     "output_type": "stream",
     "text": [
      "Epoch 17/200, Train Loss: 0.0436, Val Loss: 2.3934, Val F1 (weighted): 0.4417, Micro: 0.5682, Macro: 0.4715 (Best Weighted F1 so far: 0.4417)\n"
     ]
    },
    {
     "name": "stderr",
     "output_type": "stream",
     "text": [
      "                                                               \r"
     ]
    },
    {
     "name": "stdout",
     "output_type": "stream",
     "text": [
      "Epoch 22/200, Train Loss: 0.0540, Val Loss: 5.9991, Val F1 (weighted): 0.5427, Micro: 0.6196, Macro: 0.4302 (Best Weighted F1 so far: 0.5427)\n"
     ]
    },
    {
     "name": "stderr",
     "output_type": "stream",
     "text": [
      "                                                               \r"
     ]
    },
    {
     "name": "stdout",
     "output_type": "stream",
     "text": [
      "Epoch 25/200, Train Loss: 0.0283, Val Loss: 1.0581, Val F1 (weighted): 0.7071, Micro: 0.7335, Macro: 0.5891 (Best Weighted F1 so far: 0.7071)\n"
     ]
    },
    {
     "name": "stderr",
     "output_type": "stream",
     "text": [
      "                                                               \r"
     ]
    },
    {
     "name": "stdout",
     "output_type": "stream",
     "text": [
      "Epoch 28/200, Train Loss: 0.0256, Val Loss: 0.7611, Val F1 (weighted): 0.8162, Micro: 0.8242, Macro: 0.6792 (Best Weighted F1 so far: 0.8162)\n"
     ]
    },
    {
     "name": "stderr",
     "output_type": "stream",
     "text": [
      "                                                               \r"
     ]
    },
    {
     "name": "stdout",
     "output_type": "stream",
     "text": [
      "Epoch 33/200, Train Loss: 0.0153, Val Loss: 0.7217, Val F1 (weighted): 0.8591, Micro: 0.8634, Macro: 0.6564 (Best Weighted F1 so far: 0.8591)\n"
     ]
    },
    {
     "name": "stderr",
     "output_type": "stream",
     "text": [
      "                                                               \r"
     ]
    },
    {
     "name": "stdout",
     "output_type": "stream",
     "text": [
      "Epoch 40/200, Train Loss: 0.0308, Val Loss: 0.6799, Val F1 (weighted): 0.8922, Micro: 0.8943, Macro: 0.7402 (Best Weighted F1 so far: 0.8922)\n"
     ]
    },
    {
     "name": "stderr",
     "output_type": "stream",
     "text": [
      "                                                               \r"
     ]
    },
    {
     "name": "stdout",
     "output_type": "stream",
     "text": [
      "Epoch 41/200, Train Loss: 0.0166, Val Loss: 0.4141, Val F1 (weighted): 0.9498, Micro: 0.9500, Macro: 0.7648 (Best Weighted F1 so far: 0.9498)\n"
     ]
    },
    {
     "name": "stderr",
     "output_type": "stream",
     "text": [
      "                                                               \r"
     ]
    },
    {
     "name": "stdout",
     "output_type": "stream",
     "text": [
      "Epoch 47/200, Train Loss: 0.0344, Val Loss: 0.3830, Val F1 (weighted): 0.9526, Micro: 0.9528, Macro: 0.7561 (Best Weighted F1 so far: 0.9526)\n"
     ]
    },
    {
     "name": "stderr",
     "output_type": "stream",
     "text": [
      "                                                               \r"
     ]
    },
    {
     "name": "stdout",
     "output_type": "stream",
     "text": [
      "Epoch 52/200, Train Loss: 0.0359, Val Loss: 0.3599, Val F1 (weighted): 0.9677, Micro: 0.9677, Macro: 0.7652 (Best Weighted F1 so far: 0.9677)\n"
     ]
    },
    {
     "name": "stderr",
     "output_type": "stream",
     "text": [
      "                                                               \r"
     ]
    },
    {
     "name": "stdout",
     "output_type": "stream",
     "text": [
      "Epoch 57/200, Train Loss: 0.0029, Val Loss: 0.3215, Val F1 (weighted): 0.9911, Micro: 0.9912, Macro: 0.7679 (Best Weighted F1 so far: 0.9911)\n"
     ]
    },
    {
     "name": "stderr",
     "output_type": "stream",
     "text": [
      "                                                               \r"
     ]
    },
    {
     "name": "stdout",
     "output_type": "stream",
     "text": [
      "Epoch 61/200, Train Loss: 0.0048, Val Loss: 0.2836, Val F1 (weighted): 0.9922, Micro: 0.9921, Macro: 0.7765 (Best Weighted F1 so far: 0.9922)\n"
     ]
    },
    {
     "name": "stderr",
     "output_type": "stream",
     "text": [
      "                                                               \r"
     ]
    },
    {
     "name": "stdout",
     "output_type": "stream",
     "text": [
      "Epoch 62/200, Train Loss: 0.0024, Val Loss: 0.2962, Val F1 (weighted): 0.9934, Micro: 0.9934, Macro: 0.7812 (Best Weighted F1 so far: 0.9934)\n"
     ]
    },
    {
     "name": "stderr",
     "output_type": "stream",
     "text": [
      "                                                               \r"
     ]
    },
    {
     "name": "stdout",
     "output_type": "stream",
     "text": [
      "Epoch 63/200, Train Loss: 0.0020, Val Loss: 0.2940, Val F1 (weighted): 0.9936, Micro: 0.9936, Macro: 0.7767 (Best Weighted F1 so far: 0.9936)\n"
     ]
    },
    {
     "name": "stderr",
     "output_type": "stream",
     "text": [
      "                                                               \r"
     ]
    },
    {
     "name": "stdout",
     "output_type": "stream",
     "text": [
      "Epoch 65/200, Train Loss: 0.0027, Val Loss: 0.2582, Val F1 (weighted): 0.9975, Micro: 0.9974, Macro: 0.7836 (Best Weighted F1 so far: 0.9975)\n"
     ]
    },
    {
     "name": "stderr",
     "output_type": "stream",
     "text": [
      "                                                               \r"
     ]
    },
    {
     "name": "stdout",
     "output_type": "stream",
     "text": [
      "Epoch 67/200, Train Loss: 0.0015, Val Loss: 0.2597, Val F1 (weighted): 0.9976, Micro: 0.9975, Macro: 0.7848 (Best Weighted F1 so far: 0.9976)\n"
     ]
    },
    {
     "name": "stderr",
     "output_type": "stream",
     "text": [
      "                                                               \r"
     ]
    },
    {
     "name": "stdout",
     "output_type": "stream",
     "text": [
      "Epoch 70/200, Train Loss: 0.0464, Val Loss: 0.2922, Val F1 (weighted): 0.9977, Micro: 0.9977, Macro: 0.9739 (Best Weighted F1 so far: 0.9977)\n"
     ]
    },
    {
     "name": "stderr",
     "output_type": "stream",
     "text": [
      "                                                               \r"
     ]
    },
    {
     "name": "stdout",
     "output_type": "stream",
     "text": [
      "Epoch 73/200, Train Loss: 0.0022, Val Loss: 0.2717, Val F1 (weighted): 0.9998, Micro: 0.9998, Macro: 0.9760 (Best Weighted F1 so far: 0.9998)\n"
     ]
    },
    {
     "name": "stderr",
     "output_type": "stream",
     "text": [
      "                                                               \r"
     ]
    },
    {
     "name": "stdout",
     "output_type": "stream",
     "text": [
      "Epoch 75/200, Train Loss: 0.0012, Val Loss: 0.2724, Val F1 (weighted): 0.9998, Micro: 0.9998, Macro: 0.9830 (Best Weighted F1 so far: 0.9998)\n",
      "\n",
      "🛑 Early stopping triggered at epoch 74.\n",
      "Fold 2\n",
      "Class weights: tensor([3.8133e-01, 4.4439e-01, 2.0408e+03, 7.8912e+00, 6.7165e+03],\n",
      "       device='cuda:0')\n"
     ]
    },
    {
     "name": "stderr",
     "output_type": "stream",
     "text": [
      "                                                               \r"
     ]
    },
    {
     "name": "stdout",
     "output_type": "stream",
     "text": [
      "Epoch 1/200, Train Loss: 0.0989, Val Loss: 8.5779, Val F1 (weighted): 0.3637, Micro: 0.5269, Macro: 0.3449 (Best Weighted F1 so far: 0.3637)\n"
     ]
    },
    {
     "name": "stderr",
     "output_type": "stream",
     "text": [
      "                                                               \r"
     ]
    },
    {
     "name": "stdout",
     "output_type": "stream",
     "text": [
      "Epoch 2/200, Train Loss: 0.0877, Val Loss: 8.1178, Val F1 (weighted): 0.3655, Micro: 0.5277, Macro: 0.2446 (Best Weighted F1 so far: 0.3655)\n"
     ]
    },
    {
     "name": "stderr",
     "output_type": "stream",
     "text": [
      "                                                               \r"
     ]
    },
    {
     "name": "stdout",
     "output_type": "stream",
     "text": [
      "Epoch 4/200, Train Loss: 0.0984, Val Loss: 9.8003, Val F1 (weighted): 0.3683, Micro: 0.5291, Macro: 0.3872 (Best Weighted F1 so far: 0.3683)\n"
     ]
    },
    {
     "name": "stderr",
     "output_type": "stream",
     "text": [
      "                                                               \r"
     ]
    },
    {
     "name": "stdout",
     "output_type": "stream",
     "text": [
      "Epoch 5/200, Train Loss: 0.0791, Val Loss: 11.9740, Val F1 (weighted): 0.3717, Micro: 0.5310, Macro: 0.4309 (Best Weighted F1 so far: 0.3717)\n"
     ]
    },
    {
     "name": "stderr",
     "output_type": "stream",
     "text": [
      "                                                               \r"
     ]
    },
    {
     "name": "stdout",
     "output_type": "stream",
     "text": [
      "Epoch 8/200, Train Loss: 0.0902, Val Loss: 8.3113, Val F1 (weighted): 0.3730, Micro: 0.5318, Macro: 0.3556 (Best Weighted F1 so far: 0.3730)\n"
     ]
    },
    {
     "name": "stderr",
     "output_type": "stream",
     "text": [
      "                                                               \r"
     ]
    },
    {
     "name": "stdout",
     "output_type": "stream",
     "text": [
      "Epoch 10/200, Train Loss: 0.1236, Val Loss: 3.5983, Val F1 (weighted): 0.5491, Micro: 0.6238, Macro: 0.5295 (Best Weighted F1 so far: 0.5491)\n"
     ]
    },
    {
     "name": "stderr",
     "output_type": "stream",
     "text": [
      "                                                               \r"
     ]
    },
    {
     "name": "stdout",
     "output_type": "stream",
     "text": [
      "Epoch 24/200, Train Loss: 0.0734, Val Loss: 2.3890, Val F1 (weighted): 0.8116, Micro: 0.8197, Macro: 0.6623 (Best Weighted F1 so far: 0.8116)\n"
     ]
    },
    {
     "name": "stderr",
     "output_type": "stream",
     "text": [
      "                                                               \r"
     ]
    },
    {
     "name": "stdout",
     "output_type": "stream",
     "text": [
      "Epoch 25/200, Train Loss: 0.0266, Val Loss: 3.5343, Val F1 (weighted): 0.8375, Micro: 0.8433, Macro: 0.6905 (Best Weighted F1 so far: 0.8375)\n"
     ]
    },
    {
     "name": "stderr",
     "output_type": "stream",
     "text": [
      "                                                               \r"
     ]
    },
    {
     "name": "stdout",
     "output_type": "stream",
     "text": [
      "Epoch 34/200, Train Loss: 0.0331, Val Loss: 3.9227, Val F1 (weighted): 0.8541, Micro: 0.8588, Macro: 0.6908 (Best Weighted F1 so far: 0.8541)\n",
      "\n",
      "🛑 Early stopping triggered at epoch 33.\n",
      "Fold 3\n",
      "Class weights: tensor([3.8121e-01, 4.4458e-01, 1.3703e+03, 7.9017e+00, 6.7127e+03],\n",
      "       device='cuda:0')\n"
     ]
    },
    {
     "name": "stderr",
     "output_type": "stream",
     "text": [
      "                                                               \r"
     ]
    },
    {
     "name": "stdout",
     "output_type": "stream",
     "text": [
      "Epoch 1/200, Train Loss: 0.0740, Val Loss: 7.4259, Val F1 (weighted): 0.3624, Micro: 0.5258, Macro: 0.4079 (Best Weighted F1 so far: 0.3624)\n"
     ]
    },
    {
     "name": "stderr",
     "output_type": "stream",
     "text": [
      "                                                               \r"
     ]
    },
    {
     "name": "stdout",
     "output_type": "stream",
     "text": [
      "Epoch 2/200, Train Loss: 0.1106, Val Loss: 7.9148, Val F1 (weighted): 0.3627, Micro: 0.5259, Macro: 0.4094 (Best Weighted F1 so far: 0.3627)\n"
     ]
    },
    {
     "name": "stderr",
     "output_type": "stream",
     "text": [
      "                                                              \r"
     ]
    },
    {
     "name": "stdout",
     "output_type": "stream",
     "text": [
      "Epoch 3/200, Train Loss: 0.1002, Val Loss: 13.3753, Val F1 (weighted): 0.3644, Micro: 0.5266, Macro: 0.2776 (Best Weighted F1 so far: 0.3644)\n"
     ]
    },
    {
     "name": "stderr",
     "output_type": "stream",
     "text": [
      "                                                               \r"
     ]
    },
    {
     "name": "stdout",
     "output_type": "stream",
     "text": [
      "Epoch 6/200, Train Loss: 0.0506, Val Loss: 7.2185, Val F1 (weighted): 0.3709, Micro: 0.5301, Macro: 0.4694 (Best Weighted F1 so far: 0.3709)\n"
     ]
    },
    {
     "name": "stderr",
     "output_type": "stream",
     "text": [
      "                                                               \r"
     ]
    },
    {
     "name": "stdout",
     "output_type": "stream",
     "text": [
      "Epoch 7/200, Train Loss: 0.0941, Val Loss: 6.5058, Val F1 (weighted): 0.3725, Micro: 0.5311, Macro: 0.4605 (Best Weighted F1 so far: 0.3725)\n"
     ]
    },
    {
     "name": "stderr",
     "output_type": "stream",
     "text": [
      "                                                               \r"
     ]
    },
    {
     "name": "stdout",
     "output_type": "stream",
     "text": [
      "Epoch 8/200, Train Loss: 0.0672, Val Loss: 9.9955, Val F1 (weighted): 0.3784, Micro: 0.5352, Macro: 0.4049 (Best Weighted F1 so far: 0.3784)\n"
     ]
    },
    {
     "name": "stderr",
     "output_type": "stream",
     "text": [
      "                                                               \r"
     ]
    },
    {
     "name": "stdout",
     "output_type": "stream",
     "text": [
      "Epoch 10/200, Train Loss: 0.1017, Val Loss: 9.6225, Val F1 (weighted): 0.3810, Micro: 0.5371, Macro: 0.2905 (Best Weighted F1 so far: 0.3810)\n"
     ]
    },
    {
     "name": "stderr",
     "output_type": "stream",
     "text": [
      "                                                               \r"
     ]
    },
    {
     "name": "stdout",
     "output_type": "stream",
     "text": [
      "Epoch 12/200, Train Loss: 0.1147, Val Loss: 4.6009, Val F1 (weighted): 0.5241, Micro: 0.6095, Macro: 0.4546 (Best Weighted F1 so far: 0.5241)\n"
     ]
    },
    {
     "name": "stderr",
     "output_type": "stream",
     "text": [
      "                                                               \r"
     ]
    },
    {
     "name": "stdout",
     "output_type": "stream",
     "text": [
      "Epoch 29/200, Train Loss: 0.0489, Val Loss: 1.4898, Val F1 (weighted): 0.5495, Micro: 0.6288, Macro: 0.5611 (Best Weighted F1 so far: 0.5495)\n"
     ]
    },
    {
     "name": "stderr",
     "output_type": "stream",
     "text": [
      "                                                               \r"
     ]
    },
    {
     "name": "stdout",
     "output_type": "stream",
     "text": [
      "Epoch 31/200, Train Loss: 0.0436, Val Loss: 2.4289, Val F1 (weighted): 0.6141, Micro: 0.6675, Macro: 0.5728 (Best Weighted F1 so far: 0.6141)\n"
     ]
    },
    {
     "name": "stderr",
     "output_type": "stream",
     "text": [
      "                                                               \r"
     ]
    },
    {
     "name": "stdout",
     "output_type": "stream",
     "text": [
      "Epoch 32/200, Train Loss: 0.0485, Val Loss: 1.8740, Val F1 (weighted): 0.7661, Micro: 0.7809, Macro: 0.6442 (Best Weighted F1 so far: 0.7661)\n"
     ]
    },
    {
     "name": "stderr",
     "output_type": "stream",
     "text": [
      "                                                               \r"
     ]
    },
    {
     "name": "stdout",
     "output_type": "stream",
     "text": [
      "Epoch 33/200, Train Loss: 0.0265, Val Loss: 1.6126, Val F1 (weighted): 0.8029, Micro: 0.8118, Macro: 0.5223 (Best Weighted F1 so far: 0.8029)\n"
     ]
    },
    {
     "name": "stderr",
     "output_type": "stream",
     "text": [
      "                                                               \r"
     ]
    },
    {
     "name": "stdout",
     "output_type": "stream",
     "text": [
      "Epoch 34/200, Train Loss: 0.0387, Val Loss: 1.2900, Val F1 (weighted): 0.8440, Micro: 0.8496, Macro: 0.7054 (Best Weighted F1 so far: 0.8440)\n"
     ]
    },
    {
     "name": "stderr",
     "output_type": "stream",
     "text": [
      "                                                               \r"
     ]
    },
    {
     "name": "stdout",
     "output_type": "stream",
     "text": [
      "Epoch 40/200, Train Loss: 0.0260, Val Loss: 0.2606, Val F1 (weighted): 0.9381, Micro: 0.9387, Macro: 0.7369 (Best Weighted F1 so far: 0.9381)\n"
     ]
    },
    {
     "name": "stderr",
     "output_type": "stream",
     "text": [
      "                                                               \r"
     ]
    },
    {
     "name": "stdout",
     "output_type": "stream",
     "text": [
      "Epoch 43/200, Train Loss: 0.0124, Val Loss: 0.3140, Val F1 (weighted): 0.9424, Micro: 0.9429, Macro: 0.7530 (Best Weighted F1 so far: 0.9424)\n"
     ]
    },
    {
     "name": "stderr",
     "output_type": "stream",
     "text": [
      "                                                               \r"
     ]
    },
    {
     "name": "stdout",
     "output_type": "stream",
     "text": [
      "Epoch 48/200, Train Loss: 0.0422, Val Loss: 0.1129, Val F1 (weighted): 0.9575, Micro: 0.9577, Macro: 0.6911 (Best Weighted F1 so far: 0.9575)\n"
     ]
    },
    {
     "name": "stderr",
     "output_type": "stream",
     "text": [
      "                                                               \r"
     ]
    },
    {
     "name": "stdout",
     "output_type": "stream",
     "text": [
      "Epoch 51/200, Train Loss: 0.0064, Val Loss: 0.1201, Val F1 (weighted): 0.9647, Micro: 0.9649, Macro: 0.7129 (Best Weighted F1 so far: 0.9647)\n"
     ]
    },
    {
     "name": "stderr",
     "output_type": "stream",
     "text": [
      "                                                               \r"
     ]
    },
    {
     "name": "stdout",
     "output_type": "stream",
     "text": [
      "Epoch 53/200, Train Loss: 0.0185, Val Loss: 0.0568, Val F1 (weighted): 0.9924, Micro: 0.9924, Macro: 0.7695 (Best Weighted F1 so far: 0.9924)\n"
     ]
    },
    {
     "name": "stderr",
     "output_type": "stream",
     "text": [
      "                                                               \r"
     ]
    },
    {
     "name": "stdout",
     "output_type": "stream",
     "text": [
      "Epoch 59/200, Train Loss: 0.0121, Val Loss: 0.0087, Val F1 (weighted): 0.9951, Micro: 0.9950, Macro: 0.7439 (Best Weighted F1 so far: 0.9951)\n"
     ]
    },
    {
     "name": "stderr",
     "output_type": "stream",
     "text": [
      "                                                               \r"
     ]
    },
    {
     "name": "stdout",
     "output_type": "stream",
     "text": [
      "Epoch 60/200, Train Loss: 0.0026, Val Loss: 0.0050, Val F1 (weighted): 0.9997, Micro: 0.9996, Macro: 0.7697 (Best Weighted F1 so far: 0.9997)\n"
     ]
    },
    {
     "name": "stderr",
     "output_type": "stream",
     "text": [
      "                                                               \r"
     ]
    },
    {
     "name": "stdout",
     "output_type": "stream",
     "text": [
      "Epoch 69/200, Train Loss: 0.0018, Val Loss: 0.0029, Val F1 (weighted): 0.9999, Micro: 0.9999, Macro: 0.7794 (Best Weighted F1 so far: 0.9999)\n"
     ]
    },
    {
     "name": "stderr",
     "output_type": "stream",
     "text": [
      "                                                               \r"
     ]
    },
    {
     "name": "stdout",
     "output_type": "stream",
     "text": [
      "Epoch 83/200, Train Loss: 0.0019, Val Loss: 0.0022, Val F1 (weighted): 0.9999, Micro: 0.9999, Macro: 0.7794 (Best Weighted F1 so far: 0.9999)\n"
     ]
    },
    {
     "name": "stderr",
     "output_type": "stream",
     "text": [
      "                                                               \r"
     ]
    },
    {
     "name": "stdout",
     "output_type": "stream",
     "text": [
      "Epoch 85/200, Train Loss: 0.0013, Val Loss: 0.0016, Val F1 (weighted): 1.0000, Micro: 0.9999, Macro: 0.7796 (Best Weighted F1 so far: 1.0000)\n"
     ]
    },
    {
     "name": "stderr",
     "output_type": "stream",
     "text": [
      "                                                               \r"
     ]
    },
    {
     "name": "stdout",
     "output_type": "stream",
     "text": [
      "\n",
      "🛑 Early stopping triggered at epoch 94.\n",
      "Average F1 Score for drop_out 0.4, learning rate 0.001, hidden_dim 128: 0.9513\n",
      "Testing with learning rate: 0.001, hidden_dim: 256, drop_out: 0.2\n",
      "Fold 1\n",
      "Class weights: tensor([3.8121e-01, 4.4458e-01, 1.9641e+03, 7.8879e+00, 6.7127e+03],\n",
      "       device='cuda:0')\n"
     ]
    },
    {
     "name": "stderr",
     "output_type": "stream",
     "text": [
      "                                                              \r"
     ]
    },
    {
     "name": "stdout",
     "output_type": "stream",
     "text": [
      "Epoch 1/200, Train Loss: 0.0746, Val Loss: 10.1395, Val F1 (weighted): 0.3628, Micro: 0.5260, Macro: 0.3490 (Best Weighted F1 so far: 0.3628)\n"
     ]
    },
    {
     "name": "stderr",
     "output_type": "stream",
     "text": [
      "                                                              \r"
     ]
    },
    {
     "name": "stdout",
     "output_type": "stream",
     "text": [
      "Epoch 2/200, Train Loss: 0.1109, Val Loss: 10.3683, Val F1 (weighted): 0.3676, Micro: 0.5283, Macro: 0.3908 (Best Weighted F1 so far: 0.3676)\n"
     ]
    },
    {
     "name": "stderr",
     "output_type": "stream",
     "text": [
      "                                                              \r"
     ]
    },
    {
     "name": "stdout",
     "output_type": "stream",
     "text": [
      "Epoch 4/200, Train Loss: 0.1143, Val Loss: 9.2022, Val F1 (weighted): 0.3678, Micro: 0.5284, Macro: 0.3418 (Best Weighted F1 so far: 0.3678)\n"
     ]
    },
    {
     "name": "stderr",
     "output_type": "stream",
     "text": [
      "                                                              \r"
     ]
    },
    {
     "name": "stdout",
     "output_type": "stream",
     "text": [
      "Epoch 6/200, Train Loss: 0.1895, Val Loss: 12.8389, Val F1 (weighted): 0.3682, Micro: 0.5286, Macro: 0.4072 (Best Weighted F1 so far: 0.3682)\n"
     ]
    },
    {
     "name": "stderr",
     "output_type": "stream",
     "text": [
      "                                                              \r"
     ]
    },
    {
     "name": "stdout",
     "output_type": "stream",
     "text": [
      "Epoch 8/200, Train Loss: 0.1527, Val Loss: 35.6165, Val F1 (weighted): 0.3685, Micro: 0.5285, Macro: 0.2729 (Best Weighted F1 so far: 0.3685)\n"
     ]
    },
    {
     "name": "stderr",
     "output_type": "stream",
     "text": [
      "                                                              \r"
     ]
    },
    {
     "name": "stdout",
     "output_type": "stream",
     "text": [
      "Epoch 9/200, Train Loss: 0.1773, Val Loss: 11.8581, Val F1 (weighted): 0.3690, Micro: 0.5291, Macro: 0.3379 (Best Weighted F1 so far: 0.3690)\n"
     ]
    },
    {
     "name": "stderr",
     "output_type": "stream",
     "text": [
      "                                                              \r"
     ]
    },
    {
     "name": "stdout",
     "output_type": "stream",
     "text": [
      "Epoch 10/200, Train Loss: 0.0794, Val Loss: 8.9217, Val F1 (weighted): 0.3732, Micro: 0.5315, Macro: 0.4554 (Best Weighted F1 so far: 0.3732)\n"
     ]
    },
    {
     "name": "stderr",
     "output_type": "stream",
     "text": [
      "                                                              \r"
     ]
    },
    {
     "name": "stdout",
     "output_type": "stream",
     "text": [
      "Epoch 15/200, Train Loss: 0.1574, Val Loss: 6.3948, Val F1 (weighted): 0.3826, Micro: 0.5385, Macro: 0.4227 (Best Weighted F1 so far: 0.3826)\n"
     ]
    },
    {
     "name": "stderr",
     "output_type": "stream",
     "text": [
      "                                                              \r"
     ]
    },
    {
     "name": "stdout",
     "output_type": "stream",
     "text": [
      "Epoch 17/200, Train Loss: 0.0668, Val Loss: 5.1803, Val F1 (weighted): 0.3943, Micro: 0.5416, Macro: 0.3483 (Best Weighted F1 so far: 0.3943)\n"
     ]
    },
    {
     "name": "stderr",
     "output_type": "stream",
     "text": [
      "                                                              \r"
     ]
    },
    {
     "name": "stdout",
     "output_type": "stream",
     "text": [
      "Epoch 22/200, Train Loss: 0.1196, Val Loss: 4.6802, Val F1 (weighted): 0.4229, Micro: 0.5574, Macro: 0.4785 (Best Weighted F1 so far: 0.4229)\n"
     ]
    },
    {
     "name": "stderr",
     "output_type": "stream",
     "text": [
      "                                                              \r"
     ]
    },
    {
     "name": "stdout",
     "output_type": "stream",
     "text": [
      "Epoch 28/200, Train Loss: 0.1300, Val Loss: 2.2353, Val F1 (weighted): 0.6998, Micro: 0.7270, Macro: 0.5856 (Best Weighted F1 so far: 0.6998)\n"
     ]
    },
    {
     "name": "stderr",
     "output_type": "stream",
     "text": [
      "                                                              \r"
     ]
    },
    {
     "name": "stdout",
     "output_type": "stream",
     "text": [
      "\n",
      "🛑 Early stopping triggered at epoch 37.\n",
      "Fold 2\n",
      "Class weights: tensor([3.8133e-01, 4.4439e-01, 2.0408e+03, 7.8912e+00, 6.7165e+03],\n",
      "       device='cuda:0')\n"
     ]
    },
    {
     "name": "stderr",
     "output_type": "stream",
     "text": [
      "                                                              \r"
     ]
    },
    {
     "name": "stdout",
     "output_type": "stream",
     "text": [
      "Epoch 1/200, Train Loss: 0.0782, Val Loss: 7.8201, Val F1 (weighted): 0.3638, Micro: 0.5269, Macro: 0.3407 (Best Weighted F1 so far: 0.3638)\n"
     ]
    },
    {
     "name": "stderr",
     "output_type": "stream",
     "text": [
      "                                                              \r"
     ]
    },
    {
     "name": "stdout",
     "output_type": "stream",
     "text": [
      "Epoch 3/200, Train Loss: 0.1177, Val Loss: 11.6657, Val F1 (weighted): 0.3681, Micro: 0.5290, Macro: 0.3726 (Best Weighted F1 so far: 0.3681)\n"
     ]
    },
    {
     "name": "stderr",
     "output_type": "stream",
     "text": [
      "                                                              \r"
     ]
    },
    {
     "name": "stdout",
     "output_type": "stream",
     "text": [
      "Epoch 4/200, Train Loss: 0.0871, Val Loss: 5.9098, Val F1 (weighted): 0.3697, Micro: 0.5298, Macro: 0.2865 (Best Weighted F1 so far: 0.3697)\n"
     ]
    },
    {
     "name": "stderr",
     "output_type": "stream",
     "text": [
      "                                                              \r"
     ]
    },
    {
     "name": "stdout",
     "output_type": "stream",
     "text": [
      "Epoch 7/200, Train Loss: 0.1633, Val Loss: 11.7766, Val F1 (weighted): 0.3710, Micro: 0.5306, Macro: 0.4221 (Best Weighted F1 so far: 0.3710)\n"
     ]
    },
    {
     "name": "stderr",
     "output_type": "stream",
     "text": [
      "                                                              \r"
     ]
    },
    {
     "name": "stdout",
     "output_type": "stream",
     "text": [
      "Epoch 11/200, Train Loss: 0.1001, Val Loss: 12.1059, Val F1 (weighted): 0.3771, Micro: 0.5343, Macro: 0.3693 (Best Weighted F1 so far: 0.3771)\n"
     ]
    },
    {
     "name": "stderr",
     "output_type": "stream",
     "text": [
      "                                                              \r"
     ]
    },
    {
     "name": "stdout",
     "output_type": "stream",
     "text": [
      "Epoch 13/200, Train Loss: 0.0541, Val Loss: 7.2757, Val F1 (weighted): 0.3832, Micro: 0.5373, Macro: 0.3668 (Best Weighted F1 so far: 0.3832)\n"
     ]
    },
    {
     "name": "stderr",
     "output_type": "stream",
     "text": [
      "                                                              \r"
     ]
    },
    {
     "name": "stdout",
     "output_type": "stream",
     "text": [
      "\n",
      "🛑 Early stopping triggered at epoch 13.\n",
      "Fold 3\n",
      "Class weights: tensor([3.8121e-01, 4.4458e-01, 1.3703e+03, 7.9017e+00, 6.7127e+03],\n",
      "       device='cuda:0')\n"
     ]
    },
    {
     "name": "stderr",
     "output_type": "stream",
     "text": [
      "                                                              \r"
     ]
    },
    {
     "name": "stdout",
     "output_type": "stream",
     "text": [
      "Epoch 1/200, Train Loss: 0.0764, Val Loss: 8.2221, Val F1 (weighted): 0.3624, Micro: 0.5258, Macro: 0.4006 (Best Weighted F1 so far: 0.3624)\n"
     ]
    },
    {
     "name": "stderr",
     "output_type": "stream",
     "text": [
      "                                                              \r"
     ]
    },
    {
     "name": "stdout",
     "output_type": "stream",
     "text": [
      "Epoch 2/200, Train Loss: 0.0939, Val Loss: 7.2798, Val F1 (weighted): 0.3624, Micro: 0.5258, Macro: 0.4010 (Best Weighted F1 so far: 0.3624)\n"
     ]
    },
    {
     "name": "stderr",
     "output_type": "stream",
     "text": [
      "                                                              \r"
     ]
    },
    {
     "name": "stdout",
     "output_type": "stream",
     "text": [
      "Epoch 3/200, Train Loss: 0.1422, Val Loss: 9.6025, Val F1 (weighted): 0.3628, Micro: 0.5260, Macro: 0.4081 (Best Weighted F1 so far: 0.3628)\n"
     ]
    },
    {
     "name": "stderr",
     "output_type": "stream",
     "text": [
      "                                                              \r"
     ]
    },
    {
     "name": "stdout",
     "output_type": "stream",
     "text": [
      "Epoch 4/200, Train Loss: 0.1361, Val Loss: 7.4962, Val F1 (weighted): 0.3634, Micro: 0.5262, Macro: 0.3166 (Best Weighted F1 so far: 0.3634)\n"
     ]
    },
    {
     "name": "stderr",
     "output_type": "stream",
     "text": [
      "                                                              \r"
     ]
    },
    {
     "name": "stdout",
     "output_type": "stream",
     "text": [
      "Epoch 5/200, Train Loss: 0.1854, Val Loss: 10.9752, Val F1 (weighted): 0.3651, Micro: 0.5271, Macro: 0.3086 (Best Weighted F1 so far: 0.3651)\n"
     ]
    },
    {
     "name": "stderr",
     "output_type": "stream",
     "text": [
      "                                                              \r"
     ]
    },
    {
     "name": "stdout",
     "output_type": "stream",
     "text": [
      "Epoch 6/200, Train Loss: 0.1115, Val Loss: 14.6118, Val F1 (weighted): 0.3721, Micro: 0.5309, Macro: 0.4882 (Best Weighted F1 so far: 0.3721)\n"
     ]
    },
    {
     "name": "stderr",
     "output_type": "stream",
     "text": [
      "                                                              \r"
     ]
    },
    {
     "name": "stdout",
     "output_type": "stream",
     "text": [
      "Epoch 9/200, Train Loss: 0.0712, Val Loss: 5.6908, Val F1 (weighted): 0.3754, Micro: 0.5330, Macro: 0.3978 (Best Weighted F1 so far: 0.3754)\n"
     ]
    },
    {
     "name": "stderr",
     "output_type": "stream",
     "text": [
      "                                                              \r"
     ]
    },
    {
     "name": "stdout",
     "output_type": "stream",
     "text": [
      "Epoch 10/200, Train Loss: 0.1069, Val Loss: 4.9608, Val F1 (weighted): 0.4889, Micro: 0.5899, Macro: 0.4930 (Best Weighted F1 so far: 0.4889)\n"
     ]
    },
    {
     "name": "stderr",
     "output_type": "stream",
     "text": [
      "                                                              \r"
     ]
    },
    {
     "name": "stdout",
     "output_type": "stream",
     "text": [
      "Epoch 19/200, Train Loss: 0.0736, Val Loss: 2.1771, Val F1 (weighted): 0.5572, Micro: 0.6317, Macro: 0.5652 (Best Weighted F1 so far: 0.5572)\n"
     ]
    },
    {
     "name": "stderr",
     "output_type": "stream",
     "text": [
      "                                                              \r"
     ]
    },
    {
     "name": "stdout",
     "output_type": "stream",
     "text": [
      "Epoch 24/200, Train Loss: 0.0726, Val Loss: 1.5927, Val F1 (weighted): 0.5945, Micro: 0.6564, Macro: 0.5929 (Best Weighted F1 so far: 0.5945)\n"
     ]
    },
    {
     "name": "stderr",
     "output_type": "stream",
     "text": [
      "                                                              \r"
     ]
    },
    {
     "name": "stdout",
     "output_type": "stream",
     "text": [
      "Epoch 26/200, Train Loss: 0.0265, Val Loss: 1.1032, Val F1 (weighted): 0.6066, Micro: 0.6631, Macro: 0.4390 (Best Weighted F1 so far: 0.6066)\n"
     ]
    },
    {
     "name": "stderr",
     "output_type": "stream",
     "text": [
      "                                                              \r"
     ]
    },
    {
     "name": "stdout",
     "output_type": "stream",
     "text": [
      "Epoch 29/200, Train Loss: 0.0261, Val Loss: 1.7609, Val F1 (weighted): 0.6124, Micro: 0.6678, Macro: 0.6011 (Best Weighted F1 so far: 0.6124)\n"
     ]
    },
    {
     "name": "stderr",
     "output_type": "stream",
     "text": [
      "                                                              \r"
     ]
    },
    {
     "name": "stdout",
     "output_type": "stream",
     "text": [
      "Epoch 32/200, Train Loss: 0.0270, Val Loss: 1.0511, Val F1 (weighted): 0.7153, Micro: 0.7401, Macro: 0.6143 (Best Weighted F1 so far: 0.7153)\n"
     ]
    },
    {
     "name": "stderr",
     "output_type": "stream",
     "text": [
      "                                                              \r"
     ]
    },
    {
     "name": "stdout",
     "output_type": "stream",
     "text": [
      "Epoch 38/200, Train Loss: 0.0194, Val Loss: 1.1647, Val F1 (weighted): 0.8193, Micro: 0.8266, Macro: 0.6727 (Best Weighted F1 so far: 0.8193)\n"
     ]
    },
    {
     "name": "stderr",
     "output_type": "stream",
     "text": [
      "                                                              \r"
     ]
    },
    {
     "name": "stdout",
     "output_type": "stream",
     "text": [
      "Epoch 40/200, Train Loss: 0.0167, Val Loss: 0.5026, Val F1 (weighted): 0.9138, Micro: 0.9150, Macro: 0.6955 (Best Weighted F1 so far: 0.9138)\n"
     ]
    },
    {
     "name": "stderr",
     "output_type": "stream",
     "text": [
      "                                                              \r"
     ]
    },
    {
     "name": "stdout",
     "output_type": "stream",
     "text": [
      "Epoch 46/200, Train Loss: 0.0127, Val Loss: 0.2805, Val F1 (weighted): 0.9233, Micro: 0.9242, Macro: 0.7324 (Best Weighted F1 so far: 0.9233)\n"
     ]
    },
    {
     "name": "stderr",
     "output_type": "stream",
     "text": [
      "                                                              \r"
     ]
    },
    {
     "name": "stdout",
     "output_type": "stream",
     "text": [
      "Epoch 47/200, Train Loss: 0.0078, Val Loss: 0.1577, Val F1 (weighted): 0.9584, Micro: 0.9586, Macro: 0.7616 (Best Weighted F1 so far: 0.9584)\n"
     ]
    },
    {
     "name": "stderr",
     "output_type": "stream",
     "text": [
      "                                                              \r"
     ]
    },
    {
     "name": "stdout",
     "output_type": "stream",
     "text": [
      "Epoch 49/200, Train Loss: 0.0086, Val Loss: 0.1222, Val F1 (weighted): 0.9614, Micro: 0.9617, Macro: 0.7341 (Best Weighted F1 so far: 0.9614)\n"
     ]
    },
    {
     "name": "stderr",
     "output_type": "stream",
     "text": [
      "                                                              \r"
     ]
    },
    {
     "name": "stdout",
     "output_type": "stream",
     "text": [
      "Epoch 52/200, Train Loss: 0.0110, Val Loss: 0.1613, Val F1 (weighted): 0.9657, Micro: 0.9657, Macro: 0.7148 (Best Weighted F1 so far: 0.9657)\n"
     ]
    },
    {
     "name": "stderr",
     "output_type": "stream",
     "text": [
      "Training:  59%|█████▉    | 1042/1768 [00:05<00:03, 200.93it/s]"
     ]
    }
   ],
   "source": [
    "from sklearn.metrics import f1_score\n",
    "\n",
    "def compute_accuracy(pred, labels):\n",
    "    return (pred.argmax(1) == labels).float().mean().item()\n",
    "\n",
    "def grid_search(graph_dataset, patience, max_epochs, learning_rates, hidden_dims, drop_outs, folds=3):\n",
    "    global num_features\n",
    "    \n",
    "    best_params = {}\n",
    "    best_f1 = 0\n",
    "    params_results = {}\n",
    "\n",
    "    # Precompute the train and validation graphs for all folds\n",
    "    folds_list = []\n",
    "    for i in range(folds):\n",
    "        train_graph_dataset, val_graph_dataset = graph_dataset.graph_train_test_split(test_ratio=0.15, random_state=i)\n",
    "        folds_list.append((train_graph_dataset, val_graph_dataset))\n",
    "\n",
    "    for lr in learning_rates:\n",
    "        for hidden_dim in hidden_dims:\n",
    "            for drop_out in drop_outs:\n",
    "                print(f\"Testing with learning rate: {lr}, hidden_dim: {hidden_dim}, drop_out: {drop_out}\")\n",
    "                fold_f1_scores = []\n",
    "\n",
    "                for fold, (train_graph_dataset, val_graph_dataset) in enumerate(folds_list):\n",
    "                    print(f\"Fold {fold + 1}\")\n",
    "\n",
    "                    model = EGraphSAGE(node_in_channels=num_features,\n",
    "                                    edge_in_channels=num_features,\n",
    "                                    hidden_channels=hidden_dim,\n",
    "                                    dropout = drop_out,\n",
    "                                    out_channels=num_classes).to(device)\n",
    "\n",
    "                    model.apply(init_weights)\n",
    "\n",
    "                    # Normalize to stabilize training\n",
    "                    class_weights = th.FloatTensor(train_graph_dataset.class_weights).to(device)\n",
    "                    print(\"Class weights:\", class_weights)\n",
    "\n",
    "                    criterion = nn.CrossEntropyLoss(weight=class_weights)\n",
    "                    optimizer = th.optim.Adam(model.parameters(), lr=lr)\n",
    "                    scheduler = th.optim.lr_scheduler.ReduceLROnPlateau(\n",
    "                        optimizer,\n",
    "                        mode='min',\n",
    "                        factor=0.6,\n",
    "                        patience=5,\n",
    "                        min_lr=1e-6,\n",
    "                    )\n",
    "\n",
    "                    best_epoch_f1 = 0  # Track the best F1 score for this fold\n",
    "                    best_val_loss = float('inf')  # Track the best val_loss for this fold\n",
    "                    patience_counter = 0\n",
    "\n",
    "                    for epoch in range(max_epochs):\n",
    "                        try:\n",
    "                            train_loss = 0\n",
    "                            val_loss = 0\n",
    "                            num_train_graphs = len(train_graph_dataset)\n",
    "                            num_val_graphs = len(val_graph_dataset)\n",
    "\n",
    "                            model.train()\n",
    "                            for G_pyg_train in tqdm(train_graph_dataset, desc=\"Training\", leave=False):\n",
    "                                optimizer.zero_grad()\n",
    "\n",
    "                                G_pyg_train = G_pyg_train.to(device)\n",
    "                                G_pyg_train.edge_label = G_pyg_train.edge_label.to(device)\n",
    "                                G_pyg_train.edge_attr = G_pyg_train.edge_attr.to(device)\n",
    "                                \n",
    "                                out = model(G_pyg_train)\n",
    "                                loss = criterion(out, G_pyg_train.edge_label) / num_train_graphs\n",
    "                                train_loss += loss.item()\n",
    "\n",
    "                                loss.backward()\n",
    "\n",
    "                                optimizer.step()\n",
    "                            \n",
    "\n",
    "                            test_label_list = []\n",
    "                            pred_label_list = []\n",
    "\n",
    "                            model.eval()\n",
    "                            with th.no_grad():\n",
    "                                for G_pyg_val in tqdm(val_graph_dataset, desc=\"Validation\", leave=False):\n",
    "\n",
    "                                    G_pyg_val = G_pyg_val.to(device)\n",
    "                                    G_pyg_val.edge_label = G_pyg_val.edge_label.to(device)\n",
    "                                    G_pyg_val.edge_attr = G_pyg_val.edge_attr.to(device)\n",
    "\n",
    "                                    out = model(G_pyg_val)\n",
    "                                    loss = criterion(out, G_pyg_val.edge_label) / num_val_graphs\n",
    "                                    val_loss += loss.item()\n",
    "\n",
    "                                    test_label_list.append(G_pyg_val.edge_label.cpu())\n",
    "                                    pred_label_list.append(out.argmax(dim=1).cpu())\n",
    "\n",
    "                            test_label = th.cat(test_label_list)\n",
    "                            pred_label = th.cat(pred_label_list)\n",
    "\n",
    "                            val_f1 = f1_score(test_label, pred_label, average='weighted')\n",
    "                            val_f1_micro = f1_score(test_label, pred_label, average='micro')\n",
    "                            val_f1_macro = f1_score(test_label, pred_label, average='macro')\n",
    "\n",
    "                            # Schedule step\n",
    "                            scheduler.step(val_loss)\n",
    "\n",
    "                            if val_f1 > best_epoch_f1:\n",
    "                                best_epoch_f1 = val_f1\n",
    "                                print(f\"Epoch {epoch}/{max_epochs}, Train Loss: {train_loss:.4f}, Val Loss: {val_loss:.4f}, \"\n",
    "                                f\"Val F1 (weighted): {val_f1:.4f}, Micro: {val_f1_micro:.4f}, Macro: {val_f1_macro:.4f} \"\n",
    "                                f\"(Best Weighted F1 so far: {best_epoch_f1:.4f})\")\n",
    "\n",
    "                            # Early stopping condition\n",
    "                            if val_loss < best_val_loss:\n",
    "                                best_val_loss = val_loss\n",
    "                                patience_counter = 0\n",
    "                            else:\n",
    "                                patience_counter += 1\n",
    "\n",
    "                            if patience_counter >= patience:\n",
    "                                print(f\"\\n🛑 Early stopping triggered at epoch {epoch}.\")\n",
    "                                break\n",
    "\n",
    "                        except Exception as e:\n",
    "                            print(f\"An error occurred at epoch {epoch}: {str(e)}\")\n",
    "                            break\n",
    "\n",
    "                    fold_f1_scores.append(best_epoch_f1)  # Append the best F1 score for this fold\n",
    "                \n",
    "                avg_f1 = sum(fold_f1_scores) / len(fold_f1_scores)\n",
    "                params_results[(drop_out, lr, hidden_dim)] = {'folds': fold_f1_scores, 'avg_f1': avg_f1}\n",
    "                print(f\"Average F1 Score for drop_out {drop_out}, learning rate {lr}, hidden_dim {hidden_dim}: {avg_f1:.4f}\")\n",
    "\n",
    "                if avg_f1 > best_f1:\n",
    "                    best_f1 = avg_f1\n",
    "                    best_params = {'learning_rate': lr, 'hidden_dim': hidden_dim, 'drop_out': drop_out}\n",
    "\n",
    "    print(f\"Best Parameters: {best_params}, Best F1 Score: {best_f1:.4f}\")\n",
    "    print(\"All results:\", params_results)\n",
    "\n",
    "# grid_search(\n",
    "#     full_train_graph_dataset, \n",
    "#     patience=10,\n",
    "#     max_epochs=200,\n",
    "#     learning_rates=[0.001, 0.005, 0.01, 0.05], \n",
    "#     hidden_dims=[128, 256, 512], \n",
    "#     drop_outs=[0.2, 0.3, 0.4],\n",
    "#     folds=3)\n"
   ]
  },
  {
   "cell_type": "code",
   "execution_count": null,
   "id": "b158d936",
   "metadata": {},
   "outputs": [],
   "source": [
    "train_graph_dataset, val_graph_dataset = full_train_graph_dataset.graph_train_test_split(test_ratio=0.15, random_state=42)"
   ]
  },
  {
   "cell_type": "code",
   "execution_count": null,
   "id": "c6ec4a82",
   "metadata": {},
   "outputs": [],
   "source": [
    "def save_checkpoint():\n",
    "    global epoch, model, optimizer, scheduler, train_loss_history, val_loss_history, val_f1_history, saved_model_epochs, best_f1, patience_counter, best_val_loss, train_ended, max_epochs, patience\n",
    "    \n",
    "    checkpoint = {\n",
    "        'epoch': epoch,\n",
    "        'model_state_dict': model.state_dict(),\n",
    "        'optimizer_state_dict': optimizer.state_dict(),\n",
    "        'scheduler_state_dict': scheduler.state_dict(),\n",
    "        'train_loss_history': train_loss_history,\n",
    "        'val_loss_history': val_loss_history,\n",
    "        'val_f1_history': val_f1_history,\n",
    "        'saved_model_epochs': saved_model_epochs,\n",
    "        'best_f1': best_f1,\n",
    "        'patience_counter': patience_counter,\n",
    "        'best_val_loss': best_val_loss,\n",
    "        'train_ended': train_ended,\n",
    "        'max_epochs': max_epochs,\n",
    "        'patience': patience\n",
    "    }\n",
    "    \n",
    "    th.save(checkpoint, checkpoint_path)"
   ]
  },
  {
   "cell_type": "code",
   "execution_count": null,
   "id": "f52b2fbf",
   "metadata": {},
   "outputs": [
    {
     "ename": "NameError",
     "evalue": "name 'train_graph_dataset' is not defined",
     "output_type": "error",
     "traceback": [
      "\u001b[31m---------------------------------------------------------------------------\u001b[39m",
      "\u001b[31mNameError\u001b[39m                                 Traceback (most recent call last)",
      "\u001b[36mCell\u001b[39m\u001b[36m \u001b[39m\u001b[32mIn[3]\u001b[39m\u001b[32m, line 11\u001b[39m\n\u001b[32m      8\u001b[39m max_epochs = \u001b[32m200\u001b[39m\n\u001b[32m      9\u001b[39m patience = \u001b[32m20\u001b[39m\n\u001b[32m---> \u001b[39m\u001b[32m11\u001b[39m \u001b[38;5;28mprint\u001b[39m(\u001b[33m\"\u001b[39m\u001b[33mNumber of train graphs: \u001b[39m\u001b[33m\"\u001b[39m, \u001b[38;5;28mlen\u001b[39m(\u001b[43mtrain_graph_dataset\u001b[49m))\n\u001b[32m     13\u001b[39m \u001b[38;5;66;03m# Initialize the model with the best parameters\u001b[39;00m\n\u001b[32m     14\u001b[39m model = EGraphSAGE(node_in_channels=num_features, \n\u001b[32m     15\u001b[39m                    edge_in_channels=num_features,\n\u001b[32m     16\u001b[39m                    hidden_channels=best_hidden_dim,\n\u001b[32m     17\u001b[39m                    dropout = best_drop_out,\n\u001b[32m     18\u001b[39m                    out_channels=num_classes).to(device)\n",
      "\u001b[31mNameError\u001b[39m: name 'train_graph_dataset' is not defined"
     ]
    }
   ],
   "source": [
    "# Best parameters from the grid search\n",
    "best_hidden_dim = 256  # Replace with the best hidden_dim found\n",
    "best_learning_rate = 0.01  # Replace with the best learning_rate found\n",
    "best_drop_out = 0.3  # Replace with the best drop_out found\n",
    "\n",
    "max_epochs = 200\n",
    "patience = 10\n",
    "\n",
    "print(\"Number of train graphs: \", len(train_graph_dataset))\n",
    "\n",
    "# Initialize the model with the best parameters\n",
    "model = EGraphSAGE(node_in_channels=num_features, \n",
    "                   edge_in_channels=num_features,\n",
    "                   hidden_channels=best_hidden_dim,\n",
    "                   dropout = best_drop_out,\n",
    "                   out_channels=num_classes).to(device)\n",
    "\n",
    "model.apply(init_weights)\n",
    "\n",
    "# Normalize class weights\n",
    "class_weights = th.FloatTensor(train_graph_dataset.class_weights).to(device)\n",
    "print(\"Class weights:\", class_weights)\n",
    "\n",
    "# Define the loss function and optimizer\n",
    "criterion = nn.CrossEntropyLoss(weight=class_weights)\n",
    "optimizer = th.optim.Adam(model.parameters(), lr=best_learning_rate)\n",
    "scheduler = th.optim.lr_scheduler.ReduceLROnPlateau(\n",
    "    optimizer,\n",
    "    mode='min',\n",
    "    factor=0.6,\n",
    "    patience=5,\n",
    "    min_lr=1e-6,\n",
    ")\n",
    "\n",
    "# ===== Load checkpoint if exists =====\n",
    "start_epoch = 0\n",
    "best_f1 = 0\n",
    "\n",
    "patience_counter = 0\n",
    "best_val_loss = float('inf')\n",
    "train_ended = False\n",
    "\n",
    "train_loss_history = []\n",
    "val_loss_history = []\n",
    "val_f1_history = []\n",
    "saved_model_epochs = []\n",
    "\n",
    "if os.path.exists(checkpoint_path):\n",
    "    checkpoint = th.load(checkpoint_path)\n",
    "    model.load_state_dict(checkpoint['model_state_dict'])\n",
    "    optimizer.load_state_dict(checkpoint['optimizer_state_dict'])\n",
    "    scheduler.load_state_dict(checkpoint['scheduler_state_dict'])\n",
    "\n",
    "    train_ended = checkpoint['train_ended']\n",
    "    best_f1 = checkpoint['best_f1']\n",
    "\n",
    "    assert max_epochs == checkpoint['max_epochs'], \"Checkpoint max_epochs does not match the current setting.\"\n",
    "    assert patience == checkpoint['patience'], \"Checkpoint patience does not match the current setting.\"\n",
    "\n",
    "    patience_counter = checkpoint['patience_counter']\n",
    "    best_val_loss = checkpoint['best_val_loss']\n",
    "\n",
    "    start_epoch = checkpoint['epoch'] + 1\n",
    "\n",
    "    train_loss_history = checkpoint['train_loss_history']\n",
    "    val_loss_history = checkpoint['val_loss_history']\n",
    "    val_f1_history = checkpoint['val_f1_history']\n",
    "    saved_model_epochs = checkpoint['saved_model_epochs']\n",
    "    print(f\"Resumed training from epoch {start_epoch}\")\n",
    "\n",
    "if train_ended:\n",
    "    model.load_state_dict(th.load(best_model_path))\n",
    "    print(\"Training has already ended. Loaded the best model state.\")\n",
    "    print(\"Training history loaded successfully.\")\n",
    "\n",
    "else:\n",
    "    # ===== Start Training =====\n",
    "    num_train_graphs = len(train_graph_dataset)\n",
    "    num_val_graphs = len(val_graph_dataset)\n",
    "\n",
    "    for epoch in range(start_epoch, max_epochs):\n",
    "\n",
    "        model.train()\n",
    "\n",
    "        train_loss = 0\n",
    "        val_loss = 0\n",
    "\n",
    "        for G_pyg_train in tqdm(train_graph_dataset, desc=\"Training\", leave=False):\n",
    "            optimizer.zero_grad()\n",
    "\n",
    "            # Move the graph data to the device\n",
    "            G_pyg_train = G_pyg_train.to(device)\n",
    "            G_pyg_train.edge_label = G_pyg_train.edge_label.to(device)\n",
    "            G_pyg_train.edge_attr = G_pyg_train.edge_attr.to(device)\n",
    "\n",
    "            out = model(G_pyg_train)\n",
    "            loss = criterion(out, G_pyg_train.edge_label) / num_train_graphs\n",
    "            \n",
    "            train_loss += loss.item()\n",
    "            loss.backward()\n",
    "\n",
    "            optimizer.step()\n",
    "        \n",
    "        test_label_list = []\n",
    "        pred_label_list = []\n",
    "\n",
    "        model.eval()\n",
    "        with th.no_grad():\n",
    "            for G_pyg_val in tqdm(val_graph_dataset, desc=\"Evaluation\", leave=False):\n",
    "                G_pyg_val = G_pyg_val.to(device)\n",
    "                G_pyg_val.edge_label = G_pyg_val.edge_label.to(device)\n",
    "                G_pyg_val.edge_attr = G_pyg_val.edge_attr.to(device)\n",
    "\n",
    "                out = model(G_pyg_val)\n",
    "                loss = criterion(out, G_pyg_val.edge_label) / num_val_graphs\n",
    "                val_loss += loss.item()\n",
    "\n",
    "                test_label_list.append(G_pyg_val.edge_label.cpu())\n",
    "                pred_label_list.append(out.argmax(dim=1).cpu())\n",
    "\n",
    "        test_label = th.cat(test_label_list)\n",
    "        pred_label = th.cat(pred_label_list)\n",
    "\n",
    "        val_f1 = f1_score(test_label, pred_label, average='weighted')\n",
    "        val_f1_micro = f1_score(test_label, pred_label, average='micro')\n",
    "        val_f1_macro = f1_score(test_label, pred_label, average='macro')\n",
    "        \n",
    "        train_loss_history.append(train_loss)\n",
    "        val_loss_history.append(val_loss)\n",
    "        val_f1_history.append((val_f1, val_f1_micro, val_f1_macro))\n",
    "\n",
    "        # Schedule step\n",
    "        scheduler.step(val_loss)\n",
    "\n",
    "        if val_f1 > best_f1:\n",
    "            best_f1 = val_f1  # Update the best F1 score for this fold\n",
    "            best_model_state = model.state_dict()\n",
    "            saved_model_epochs.append(epoch)\n",
    "\n",
    "            save_checkpoint()\n",
    "            th.save(best_model_state, best_model_path)\n",
    "            print(f\"Epoch {epoch} Saved best model. Best F1:\", best_f1)\n",
    "\n",
    "        print(f'Epoch {epoch}, Train Loss: {train_loss:.4f}, Validation Loss: {val_loss:.4f}, Validation F1: {val_f1:.4f}, Validation F1 Micro: {val_f1_micro:.4f}, Validation F1 Macro: {val_f1_macro:.4f}')\n",
    "        \n",
    "        if epoch % 10 == 0:\n",
    "            save_checkpoint()\n",
    "\n",
    "        # Early stopping condition\n",
    "        if val_loss < best_val_loss:\n",
    "            best_val_loss = val_loss\n",
    "            patience_counter = 0\n",
    "        else:\n",
    "            patience_counter += 1\n",
    "\n",
    "        if patience_counter >= patience:\n",
    "            print(f\"\\n🛑 Early stopping triggered at epoch {epoch}.\")\n",
    "            train_ended = True\n",
    "            break\n",
    "\n",
    "    # Save the trained model\n",
    "    train_ended = True\n",
    "    save_checkpoint()\n",
    "    print(\"Model training completed and saved.\")"
   ]
  },
  {
   "cell_type": "code",
   "execution_count": null,
   "id": "f64c2932",
   "metadata": {},
   "outputs": [],
   "source": [
    "def plot_training_process(train_losses, val_losses, val_f1, saved_model_epochs):\n",
    "    fig, axs = plt.subplots(2, 1, figsize=(10, 8), sharex=True)\n",
    "\n",
    "    # Plot Train Loss\n",
    "    axs[0].plot(train_losses, label='Train Loss', color='blue')\n",
    "    axs[0].plot(val_losses, label='Validation Loss', color='red')\n",
    "    axs[0].set_ylabel('Train Loss')\n",
    "    axs[0].set_title('Training Loss')\n",
    "    axs[0].legend()\n",
    "    axs[0].grid()\n",
    "\n",
    "    val_f1_weighted_history = []\n",
    "    val_f1_micro_history = []\n",
    "    val_f1_macro_history = []\n",
    "\n",
    "    for val_f1_weighted, val_f1_micro, val_f1_macro in val_f1:\n",
    "        val_f1_weighted_history.append(val_f1_weighted)\n",
    "        val_f1_micro_history.append(val_f1_micro)\n",
    "        val_f1_macro_history.append(val_f1_macro)\n",
    "    \n",
    "    # Plot Validation F1\n",
    "\n",
    "    axs[1].plot(val_f1_weighted_history, label='Validation F1 Weighted', color='green')\n",
    "    axs[1].plot(val_f1_micro_history, label='Validation F1 Micro', color='blue')\n",
    "    axs[1].plot(val_f1_macro_history, label='Validation F1 Macro', color='red')\n",
    "    axs[1].set_xlabel('Epochs')\n",
    "    axs[1].set_ylabel('Validation F1')\n",
    "    axs[1].set_title('Validation F1 Score')\n",
    "    axs[1].legend()\n",
    "    axs[1].grid()\n",
    "\n",
    "    # Add scatter for saved model epochs (e.g., F1 weighted here)\n",
    "    axs[1].scatter(saved_model_epochs, [val_f1_weighted_history[i] for i in saved_model_epochs],\n",
    "                   color='black', marker='o', label='Saved Model')\n",
    "    axs[1].legend()\n",
    "\n",
    "    print(len(train_losses))\n",
    "\n",
    "    plt.tight_layout()\n",
    "    plt.show()"
   ]
  },
  {
   "cell_type": "code",
   "execution_count": null,
   "id": "2572f236",
   "metadata": {},
   "outputs": [
    {
     "name": "stdout",
     "output_type": "stream",
     "text": [
      "200\n"
     ]
    },
    {
     "data": {
      "image/png": "[encoded data removed]",
      "text/plain": [
       "<Figure size 1000x800 with 2 Axes>"
      ]
     },
     "metadata": {},
     "output_type": "display_data"
    }
   ],
   "source": [
    "plot_training_process(train_loss_history, val_loss_history, val_f1_history, saved_model_epochs)"
   ]
  },
  {
   "cell_type": "code",
   "execution_count": null,
   "id": "549d0aa6",
   "metadata": {},
   "outputs": [],
   "source": [
    "# Save or Load test_graph_dataset\n",
    "if os.path.exists(os.path.join(graph_datasets_path, \"test_graph_dataset.pth\")):  \n",
    "    test_graph_dataset = th.load(os.path.join(graph_datasets_path, \"test_graph_dataset.pth\"))\n",
    "else:       \n",
    "    th.save(test_graph_dataset, os.path.join(graph_datasets_path, \"test_graph_dataset.pth\"))"
   ]
  },
  {
   "cell_type": "code",
   "execution_count": null,
   "id": "f060684d",
   "metadata": {},
   "outputs": [
    {
     "name": "stdout",
     "output_type": "stream",
     "text": [
      "Average, Min, and Max Degrees Across All Graphs:\n",
      "  Attack Class ['DDoS']:\n",
      "    Avg Out-Degree (src): 1.0018 | Min: 1 | Max: 244\n",
      "    Avg In-Degree (dst): 402.3860 | Min: 1 | Max: 1500\n",
      "  Attack Class ['DoS']:\n",
      "    Avg Out-Degree (src): 1.0003 | Min: 1 | Max: 192\n",
      "    Avg In-Degree (dst): 385.4847 | Min: 1 | Max: 1500\n",
      "  Attack Class ['Normal']:\n",
      "    Avg Out-Degree (src): 1.0370 | Min: 1 | Max: 4\n",
      "    Avg In-Degree (dst): 1.7732 | Min: 1 | Max: 20\n",
      "  Attack Class ['Reconnaissance']:\n",
      "    Avg Out-Degree (src): 4.2623 | Min: 1 | Max: 1025\n",
      "    Avg In-Degree (dst): 1.6132 | Min: 1 | Max: 1495\n",
      "  Attack Class ['Theft']:\n",
      "    Avg Out-Degree (src): 1.0128 | Min: 1 | Max: 2\n",
      "    Avg In-Degree (dst): 11.2857 | Min: 1 | Max: 26\n"
     ]
    }
   ],
   "source": [
    "import torch\n",
    "from torch_geometric.utils import degree\n",
    "from collections import defaultdict\n",
    "\n",
    "def check_global_avg_degrees_per_class(graph_dataset):\n",
    "    # Dictionaries to hold total degree sums and counts per class\n",
    "    total_out_deg = defaultdict(float)\n",
    "    total_in_deg = defaultdict(float)\n",
    "    count_out_nodes = defaultdict(int)\n",
    "    count_in_nodes = defaultdict(int)\n",
    "    min_out_deg = defaultdict(lambda: float('inf'))\n",
    "    max_out_deg = defaultdict(lambda: float('-inf'))\n",
    "    min_in_deg = defaultdict(lambda: float('inf'))\n",
    "    max_in_deg = defaultdict(lambda: float('-inf'))\n",
    "\n",
    "    for graph in graph_dataset:\n",
    "        edge_index = graph.edge_index\n",
    "        edge_label = graph.edge_label\n",
    "        num_nodes = graph.num_nodes\n",
    "\n",
    "        unique_classes = torch.unique(edge_label)\n",
    "\n",
    "        for cls in unique_classes:\n",
    "            cls = int(cls)\n",
    "            mask = (edge_label == cls)\n",
    "\n",
    "            src_nodes = edge_index[0][mask]\n",
    "            dst_nodes = edge_index[1][mask]\n",
    "\n",
    "            out_deg = degree(src_nodes, num_nodes=num_nodes)\n",
    "            in_deg = degree(dst_nodes, num_nodes=num_nodes)\n",
    "\n",
    "            involved_src = out_deg > 0\n",
    "            involved_dst = in_deg > 0\n",
    "\n",
    "            total_out_deg[cls] += out_deg[involved_src].sum().item()\n",
    "            total_in_deg[cls] += in_deg[involved_dst].sum().item()\n",
    "            count_out_nodes[cls] += involved_src.sum().item()\n",
    "            count_in_nodes[cls] += involved_dst.sum().item()\n",
    "\n",
    "            if involved_src.any():\n",
    "                min_out_deg[cls] = min(min_out_deg[cls], out_deg[involved_src].min().item())\n",
    "                max_out_deg[cls] = max(max_out_deg[cls], out_deg[involved_src].max().item())\n",
    "            if involved_dst.any():\n",
    "                min_in_deg[cls] = min(min_in_deg[cls], in_deg[involved_dst].min().item())\n",
    "                max_in_deg[cls] = max(max_in_deg[cls], in_deg[involved_dst].max().item())\n",
    "\n",
    "    print(\"Average, Min, and Max Degrees Across All Graphs:\")\n",
    "    class_degree_report = {}\n",
    "    for cls in sorted(total_out_deg.keys()):\n",
    "        avg_out = total_out_deg[cls] / count_out_nodes[cls] if count_out_nodes[cls] > 0 else 0.0\n",
    "        avg_in = total_in_deg[cls] / count_in_nodes[cls] if count_in_nodes[cls] > 0 else 0.0\n",
    "        min_out = min_out_deg[cls] if min_out_deg[cls] != float('inf') else 0.0\n",
    "        max_out = max_out_deg[cls] if max_out_deg[cls] != float('-inf') else 0.0\n",
    "        min_in = min_in_deg[cls] if min_in_deg[cls] != float('inf') else 0.0\n",
    "        max_in = max_in_deg[cls] if max_in_deg[cls] != float('-inf') else 0.0\n",
    "\n",
    "        print(f\"  Attack Class {le.inverse_transform([cls])}:\")\n",
    "        print(f\"    Avg Out-Degree (src): {avg_out:.4f} | Min: {min_out:.0f} | Max: {max_out:.0f}\")\n",
    "        print(f\"    Avg In-Degree (dst): {avg_in:.4f} | Min: {min_in:.0f} | Max: {max_in:.0f}\")\n",
    "\n",
    "        class_degree_report[le.inverse_transform([cls])[0]] = {\n",
    "            \"avg_out\": avg_out,\n",
    "            \"min_out\": min_out,\n",
    "            \"max_out\": max_out,\n",
    "            \"avg_in\": avg_in,\n",
    "            \"min_in\": min_in,\n",
    "            \"max_in\": max_in\n",
    "        }\n",
    "\n",
    "    # \n",
    "    return class_degree_report\n",
    "\n",
    "class_degree_report = check_global_avg_degrees_per_class(test_graph_dataset)"
   ]
  },
  {
   "cell_type": "code",
   "execution_count": null,
   "id": "857f271a-612b-4cd6-a85a-e4236dec9d80",
   "metadata": {},
   "outputs": [
    {
     "name": "stdout",
     "output_type": "stream",
     "text": [
      "Number of test graphs:  366\n",
      "Loading model from /vol/bitbucket/shc20/FYP/GNN-Adversarial-Attack/Models/E_GraphSAGE/logs/BoT_IoT/strat_window_combined_port/best_model_all_raw.pth\n",
      "inference start\n"
     ]
    },
    {
     "name": "stderr",
     "output_type": "stream",
     "text": [
      "Evaluation:  15%|█▍        | 54/366 [00:00<00:00, 535.92it/s]"
     ]
    },
    {
     "name": "stderr",
     "output_type": "stream",
     "text": [
      "                                                              \r"
     ]
    },
    {
     "name": "stdout",
     "output_type": "stream",
     "text": [
      "Test Accuracy: 0.9968\n",
      "class_map ['DDoS' 'DoS' 'Normal' 'Reconnaissance' 'Theft']\n",
      "[[287994   1500      3      3      0]\n",
      " [     0 247436      2      3      0]\n",
      " [     0      0     28      0      0]\n",
      " [    79    156     25  11764      7]\n",
      " [     0      0      0      0      0]]\n",
      "                precision    recall  f1-score   support\n",
      "\n",
      "          DDoS     0.9997    0.9948    0.9973    289500\n",
      "           DoS     0.9934    1.0000    0.9967    247441\n",
      "        Normal     0.4828    1.0000    0.6512        28\n",
      "Reconnaissance     0.9995    0.9778    0.9885     12031\n",
      "         Theft     0.0000    0.0000    0.0000         0\n",
      "\n",
      "      accuracy                         0.9968    549000\n",
      "     macro avg     0.6951    0.7945    0.7267    549000\n",
      "  weighted avg     0.9968    0.9968    0.9968    549000\n",
      "\n"
     ]
    },
    {
     "name": "stderr",
     "output_type": "stream",
     "text": [
      "/vol/bitbucket/shc20/FYP/GNN-Adversarial-Attack/.venv/lib/python3.12/site-packages/sklearn/metrics/_classification.py:1565: UndefinedMetricWarning: Recall is ill-defined and being set to 0.0 in labels with no true samples. Use `zero_division` parameter to control this behavior.\n",
      "  _warn_prf(average, modifier, f\"{metric.capitalize()} is\", len(result))\n",
      "/vol/bitbucket/shc20/FYP/GNN-Adversarial-Attack/.venv/lib/python3.12/site-packages/sklearn/metrics/_classification.py:1565: UndefinedMetricWarning: Recall is ill-defined and being set to 0.0 in labels with no true samples. Use `zero_division` parameter to control this behavior.\n",
      "  _warn_prf(average, modifier, f\"{metric.capitalize()} is\", len(result))\n",
      "/vol/bitbucket/shc20/FYP/GNN-Adversarial-Attack/.venv/lib/python3.12/site-packages/sklearn/metrics/_classification.py:1565: UndefinedMetricWarning: Recall is ill-defined and being set to 0.0 in labels with no true samples. Use `zero_division` parameter to control this behavior.\n",
      "  _warn_prf(average, modifier, f\"{metric.capitalize()} is\", len(result))\n"
     ]
    }
   ],
   "source": [
    "from torch_geometric.utils import subgraph\n",
    "from torch_geometric.data import Data\n",
    "from sklearn.metrics import confusion_matrix\n",
    "from sklearn.metrics import classification_report\n",
    "\n",
    "def compute_accuracy(pred, labels):\n",
    "    return (pred.argmax(1) == labels).float().mean().item()\n",
    "\n",
    "def eval(dataset, adversarial=False):\n",
    "\n",
    "    best_model = EGraphSAGE(node_in_channels=num_features, \n",
    "                       edge_in_channels=num_features,\n",
    "                       hidden_channels=best_hidden_dim, \n",
    "                       out_channels=num_classes).to(device)\n",
    "\n",
    "    print(\"Loading model from\", best_model_path)\n",
    "    best_model.load_state_dict(th.load(best_model_path))\n",
    "\n",
    "    best_model.eval()\n",
    "\n",
    "    print(\"inference start\")\n",
    "    with th.no_grad():\n",
    "        all_pred_logits = []\n",
    "        all_test_labels = []\n",
    "        for G_pyg in tqdm(dataset, desc=\"Evaluation\", leave=False):\n",
    "            try:\n",
    "                # Move the graph data to the device\n",
    "                G_pyg = G_pyg.to(device)\n",
    "                G_pyg.edge_label = G_pyg.edge_label.to(device)\n",
    "                G_pyg.edge_attr = G_pyg.edge_attr.to(device)\n",
    "                out = best_model(G_pyg)\n",
    "                \n",
    "            except Exception as forward_error:\n",
    "                print(f\"Error during forward/backward pass at {forward_error}\")\n",
    "\n",
    "            all_pred_logits.append(out.cpu())\n",
    "            all_test_labels.append(G_pyg.edge_label.cpu())\n",
    "\n",
    "        all_pred_logits = th.cat(all_pred_logits).to(device)\n",
    "        all_test_labels = th.cat(all_test_labels).to(device)\n",
    "        test_accuracy = compute_accuracy(all_pred_logits, all_test_labels)\n",
    "        print(f'Test Accuracy: {test_accuracy:.4f}')\n",
    "\n",
    "        pred_labels = all_pred_logits.argmax(dim=1).cpu()\n",
    "        all_test_labels = all_test_labels.cpu()\n",
    "    \n",
    "    if adversarial:\n",
    "\n",
    "        # Create a boolean mask where the label is NOT equal to the adversarial class\n",
    "        adversarial_mask = all_test_labels == ADVERSARIAL_CLASS_LABEL\n",
    "\n",
    "        # Print the class that the adversarial samples are classified as\n",
    "        cm_adversarial = confusion_matrix(all_test_labels[adversarial_mask], pred_labels[adversarial_mask], labels=range(len(class_map) + 1))\n",
    "        print(\"Adversarial confusion matrix:\", cm_adversarial)\n",
    "\n",
    "        # Apply the mask to both labels and predictions\n",
    "        all_test_labels = all_test_labels[~adversarial_mask]\n",
    "        pred_labels = pred_labels[~adversarial_mask]\n",
    "\n",
    "    print(\"class_map\", class_map)\n",
    "    # Generate a report\n",
    "    cm = confusion_matrix(all_test_labels, pred_labels, labels=range(len(class_map)))\n",
    "    print(cm)\n",
    "\n",
    "    report = classification_report(all_test_labels, pred_labels, target_names=class_map, digits=4)\n",
    "    print(report)\n",
    "    \n",
    "    return classification_report(all_test_labels, pred_labels, target_names=class_map, digits=4, output_dict=True)\n",
    "\n",
    "\n",
    "print(\"Number of test graphs: \", len(test_graph_dataset))\n",
    "normal_report = eval(test_graph_dataset)\n"
   ]
  },
  {
   "cell_type": "code",
   "execution_count": null,
   "id": "cff736d0",
   "metadata": {},
   "outputs": [],
   "source": [
    "def inject_traffic_to_node(graph, ratio=0.1, num_injected_nodes=1, to_node_type='both', random_seed=42):\n",
    "    edge_index = graph.edge_index.clone()\n",
    "    edge_attr = graph.edge_attr.clone()\n",
    "    edge_label = graph.edge_label.clone()\n",
    "    x = graph.x.clone()\n",
    "\n",
    "    num_edges = edge_index.size(1)\n",
    "    feature_dim = graph.x.size(1)\n",
    "\n",
    "    # Get all src nodes\n",
    "    if to_node_type == 'src':\n",
    "         to_nodes = edge_index[0]\n",
    "\n",
    "    elif to_node_type == 'dst':\n",
    "         to_nodes = edge_index[1]\n",
    "\n",
    "    elif to_node_type == 'both':\n",
    "         to_nodes = th.cat([edge_index[0], edge_index[1]])\n",
    "\n",
    "    else:\n",
    "        raise ValueError(\"to_node_type must be 'src', 'dst', or 'both'.\")\n",
    "\n",
    "    original_num_nodes = x.size(0)\n",
    "\n",
    "    new_node_feats = th.ones((num_injected_nodes, feature_dim))\n",
    "    x = th.cat([x, new_node_feats], dim=0)\n",
    "\n",
    "    # 4. Inject edges from injected nodes to attacker nodes\n",
    "    num_to_inject = max(1, int(ratio * num_edges))\n",
    "    new_edges = []\n",
    "    new_attrs = []\n",
    "    new_labels = []\n",
    "    \n",
    "    for i in range(num_to_inject):\n",
    "        rng = random.Random(random_seed + i)  # ensure different seed per iteration\n",
    "        src = rng.randint(original_num_nodes, original_num_nodes + num_injected_nodes - 1)  # from injected nodes\n",
    "        dst = rng.choice(to_nodes.tolist())  # to existing nodes\n",
    "\n",
    "        new_edges.append([src, dst])\n",
    "        attr = th.rand(feature_dim)  # random feature for the new edge\n",
    "        new_attrs.append(attr)\n",
    "        new_labels.append(ADVERSARIAL_CLASS_LABEL)\n",
    "\n",
    "    # Create a new empty graph to store the injected edges\n",
    "    new_graph = Data()\n",
    "\n",
    "    # 5. Merge into graph\n",
    "    if new_edges:\n",
    "        new_edges = th.tensor(new_edges, dtype=th.long).t().contiguous()\n",
    "        new_attrs = th.stack(new_attrs)\n",
    "        new_labels = th.tensor(new_labels, dtype=th.long)\n",
    "\n",
    "        new_graph.edge_index = th.cat([edge_index, new_edges], dim=1)\n",
    "        new_graph.edge_attr = th.cat([edge_attr, new_attrs], dim=0)\n",
    "        new_graph.edge_label = th.cat([edge_label, new_labels], dim=0)\n",
    "        new_graph.x = x\n",
    "\n",
    "    return new_graph\n",
    "\n"
   ]
  },
  {
   "cell_type": "code",
   "execution_count": null,
   "id": "c0a4cf4a",
   "metadata": {},
   "outputs": [
    {
     "name": "stdout",
     "output_type": "stream",
     "text": [
      "Loading model from /vol/bitbucket/shc20/FYP/GNN-Adversarial-Attack/Models/E_GraphSAGE/logs/BoT_IoT/strat_window_combined_port/best_model_all_raw.pth\n",
      "inference start\n"
     ]
    },
    {
     "name": "stderr",
     "output_type": "stream",
     "text": [
      "/vol/bitbucket/shc20/FYP/GNN-Adversarial-Attack/.venv/lib/python3.12/site-packages/sklearn/metrics/_classification.py:1565: UndefinedMetricWarning: Recall is ill-defined and being set to 0.0 in labels with no true samples. Use `zero_division` parameter to control this behavior.\n",
      "  _warn_prf(average, modifier, f\"{metric.capitalize()} is\", len(result))\n"
     ]
    },
    {
     "name": "stdout",
     "output_type": "stream",
     "text": [
      "Test Accuracy: 0.6709\n",
      "Adversarial confusion matrix: [[    0     0     0     0     0     0]\n",
      " [    0     0     0     0     0     0]\n",
      " [    0     0     0     0     0     0]\n",
      " [    0     0     0     0     0     0]\n",
      " [    0     0     0     0     0     0]\n",
      " [  361     4    83 54452     0     0]]\n",
      "class_map ['DDoS' 'DoS' 'Normal' 'Reconnaissance' 'Theft']\n",
      "[[287837      0      2   1661      0]\n",
      " [126851 111718    146   8726      0]\n",
      " [     0      0     28      0      0]\n",
      " [  6350    117     12   5545      7]\n",
      " [     0      0      0      0      0]]\n",
      "                precision    recall  f1-score   support\n",
      "\n",
      "          DDoS     0.6836    0.9943    0.8102    289500\n",
      "           DoS     0.9990    0.4515    0.6219    247441\n",
      "        Normal     0.1489    1.0000    0.2593        28\n",
      "Reconnaissance     0.3480    0.4609    0.3966     12031\n",
      "         Theft     0.0000    0.0000    0.0000         0\n",
      "\n",
      "      accuracy                         0.7379    549000\n",
      "     macro avg     0.4359    0.5813    0.4176    549000\n",
      "  weighted avg     0.8184    0.7379    0.7162    549000\n",
      "\n"
     ]
    },
    {
     "name": "stderr",
     "output_type": "stream",
     "text": [
      "/vol/bitbucket/shc20/FYP/GNN-Adversarial-Attack/.venv/lib/python3.12/site-packages/sklearn/metrics/_classification.py:1565: UndefinedMetricWarning: Recall is ill-defined and being set to 0.0 in labels with no true samples. Use `zero_division` parameter to control this behavior.\n",
      "  _warn_prf(average, modifier, f\"{metric.capitalize()} is\", len(result))\n",
      "/vol/bitbucket/shc20/FYP/GNN-Adversarial-Attack/.venv/lib/python3.12/site-packages/sklearn/metrics/_classification.py:1565: UndefinedMetricWarning: Recall is ill-defined and being set to 0.0 in labels with no true samples. Use `zero_division` parameter to control this behavior.\n",
      "  _warn_prf(average, modifier, f\"{metric.capitalize()} is\", len(result))\n"
     ]
    }
   ],
   "source": [
    "# Inject Attack Traffic to Attacker Nodes\n",
    "inject_both_graph_dataset = [inject_traffic_to_node(g.cpu(), 0.1, num_injected_nodes=1, to_node_type='both') for g in test_graph_dataset]\n",
    "inject_both_report = eval(inject_both_graph_dataset, adversarial=True)"
   ]
  },
  {
   "cell_type": "code",
   "execution_count": null,
   "id": "90b60cd6",
   "metadata": {},
   "outputs": [
    {
     "name": "stdout",
     "output_type": "stream",
     "text": [
      "Loading model from /vol/bitbucket/shc20/FYP/GNN-Adversarial-Attack/Models/E_GraphSAGE/logs/BoT_IoT/strat_window_combined_port/best_model_all_raw.pth\n",
      "inference start\n"
     ]
    },
    {
     "name": "stderr",
     "output_type": "stream",
     "text": [
      "/vol/bitbucket/shc20/FYP/GNN-Adversarial-Attack/.venv/lib/python3.12/site-packages/sklearn/metrics/_classification.py:1565: UndefinedMetricWarning: Recall is ill-defined and being set to 0.0 in labels with no true samples. Use `zero_division` parameter to control this behavior.\n",
      "  _warn_prf(average, modifier, f\"{metric.capitalize()} is\", len(result))\n"
     ]
    },
    {
     "name": "stdout",
     "output_type": "stream",
     "text": [
      "Test Accuracy: 0.8794\n",
      "Adversarial confusion matrix: [[    0     0     0     0     0     0]\n",
      " [    0     0     0     0     0     0]\n",
      " [    0     0     0     0     0     0]\n",
      " [    0     0     0     0     0     0]\n",
      " [    0     0     0     0     0     0]\n",
      " [29480 22970     2  2448     0     0]]\n",
      "class_map ['DDoS' 'DoS' 'Normal' 'Reconnaissance' 'Theft']\n",
      "[[289488      0      3      9      0]\n",
      " [  5646 229779     13  12003      0]\n",
      " [     0      0     28      0      0]\n",
      " [    73    140     14  11797      7]\n",
      " [     0      0      0      0      0]]\n",
      "                precision    recall  f1-score   support\n",
      "\n",
      "          DDoS     0.9806    1.0000    0.9902    289500\n",
      "           DoS     0.9994    0.9286    0.9627    247441\n",
      "        Normal     0.4828    1.0000    0.6512        28\n",
      "Reconnaissance     0.4955    0.9806    0.6583     12031\n",
      "         Theft     0.0000    0.0000    0.0000         0\n",
      "\n",
      "      accuracy                         0.9674    549000\n",
      "     macro avg     0.5917    0.7818    0.6525    549000\n",
      "  weighted avg     0.9784    0.9674    0.9705    549000\n",
      "\n"
     ]
    },
    {
     "name": "stderr",
     "output_type": "stream",
     "text": [
      "/vol/bitbucket/shc20/FYP/GNN-Adversarial-Attack/.venv/lib/python3.12/site-packages/sklearn/metrics/_classification.py:1565: UndefinedMetricWarning: Recall is ill-defined and being set to 0.0 in labels with no true samples. Use `zero_division` parameter to control this behavior.\n",
      "  _warn_prf(average, modifier, f\"{metric.capitalize()} is\", len(result))\n",
      "/vol/bitbucket/shc20/FYP/GNN-Adversarial-Attack/.venv/lib/python3.12/site-packages/sklearn/metrics/_classification.py:1565: UndefinedMetricWarning: Recall is ill-defined and being set to 0.0 in labels with no true samples. Use `zero_division` parameter to control this behavior.\n",
      "  _warn_prf(average, modifier, f\"{metric.capitalize()} is\", len(result))\n"
     ]
    }
   ],
   "source": [
    "# Inject Attack Traffic to Attacker Nodes\n",
    "inject_src_graph_dataset = [inject_traffic_to_node(g.cpu(), 0.1, num_injected_nodes=1, to_node_type='src') for g in test_graph_dataset]\n",
    "inject_src_report = eval(inject_src_graph_dataset, adversarial=True)"
   ]
  },
  {
   "cell_type": "code",
   "execution_count": null,
   "id": "70287333",
   "metadata": {},
   "outputs": [],
   "source": [
    "# Inject Attack Traffic to Attacker Nodes\n",
    "inject_dst_graph_dataset = [inject_traffic_to_node(g.cpu(), 0.1, num_injected_nodes=1, to_node_type='dst') for g in test_graph_dataset]\n",
    "inject_dst_report = eval(inject_dst_graph_dataset, adversarial=True)"
   ]
  },
  {
   "cell_type": "code",
   "execution_count": null,
   "id": "579e0eb1",
   "metadata": {},
   "outputs": [],
   "source": [
    "# Edge Attribute Perturbation\n",
    "def perturb_edge_attributes(graph, affected_edge_ratio=0.1, perturbation_ratio=0.1, random_seed=42):\n",
    "    edge_index = graph.edge_index.clone()\n",
    "    edge_attr = graph.edge_attr.clone()\n",
    "    edge_label = graph.edge_label.clone()\n",
    "\n",
    "    num_edges = edge_index.size(1)\n",
    "    feature_dim = edge_attr.size(1)\n",
    "\n",
    "    # Randomly select edges to perturb\n",
    "    num_to_perturb = max(1, int(affected_edge_ratio * num_edges))\n",
    "    rng = random.Random(random_seed)\n",
    "    indices_to_perturb = rng.sample(range(num_edges), num_to_perturb)\n",
    "\n",
    "    for idx in indices_to_perturb:\n",
    "        # Perturb the edge attributes by adding noise\n",
    "        noise = th.randn(feature_dim) * perturbation_ratio  # Adjust the scale of noise as needed\n",
    "        edge_attr[idx] += noise\n",
    "\n",
    "    # Create a new graph with perturbed attributes\n",
    "    perturbed_graph = Data(edge_index=edge_index, edge_attr=edge_attr, edge_label=edge_label, x=graph.x)\n",
    "\n",
    "    return perturbed_graph"
   ]
  },
  {
   "cell_type": "code",
   "execution_count": null,
   "id": "eb68c7fe",
   "metadata": {},
   "outputs": [],
   "source": [
    "# Edge Attribute Perturbation\n",
    "edge_perturb_graph_dataset = [perturb_edge_attributes(g.cpu(), affected_edge_ratio=1, perturbation_ratio=10) for g in test_graph_dataset]\n",
    "edge_perturb_report = eval(edge_perturb_graph_dataset, adversarial=True)"
   ]
  },
  {
   "cell_type": "code",
   "execution_count": null,
   "id": "dc04f5a9",
   "metadata": {},
   "outputs": [],
   "source": [
    "# Inject Random Edges\n",
    "def inject_random_edges(graph, ratio=0.1, random_seed=42):\n",
    "    edge_index = graph.edge_index.clone()\n",
    "    edge_attr = graph.edge_attr.clone()\n",
    "    edge_label = graph.edge_label.clone()\n",
    "    x = graph.x.clone()\n",
    "\n",
    "    num_nodes = x.size(0)\n",
    "    feature_dim = graph.x.size(1)\n",
    "\n",
    "    new_edge_indices = []\n",
    "    new_edge_attrs = []\n",
    "    new_edge_labels = []\n",
    "\n",
    "    num_edges = edge_index.size(1)\n",
    "    num_injected_edges = max(1, int(ratio * num_edges))\n",
    "\n",
    "    for i in range(num_injected_edges):\n",
    "        rng = random.Random(random_seed + i)  # ensure different seed per edge\n",
    "        src = rng.randint(0, num_nodes - 1)  # Random source node\n",
    "        dst = rng.randint(0, num_nodes - 1)  # Random destination node\n",
    "\n",
    "        new_edge_indices.append([src, dst])\n",
    "        new_edge_attrs.append(th.rand(feature_dim))  # Random feature for the new edge\n",
    "        new_edge_labels.append(ADVERSARIAL_CLASS_LABEL)\n",
    "\n",
    "    if new_edge_indices:\n",
    "        new_edge_indices = th.tensor(new_edge_indices, dtype=th.long).t().contiguous()\n",
    "        new_edge_attrs = th.stack(new_edge_attrs)\n",
    "        new_edge_labels = th.tensor(new_edge_labels, dtype=th.long)\n",
    "\n",
    "        edge_index = th.cat([edge_index, new_edge_indices], dim=1)\n",
    "        edge_attr = th.cat([edge_attr, new_edge_attrs], dim=0)\n",
    "        edge_label = th.cat([edge_label, new_edge_labels], dim=0)\n",
    "\n",
    "    return Data(x=x, edge_index=edge_index, edge_attr=edge_attr, edge_label=edge_label)"
   ]
  },
  {
   "cell_type": "code",
   "execution_count": null,
   "id": "b25073bf",
   "metadata": {},
   "outputs": [
    {
     "name": "stdout",
     "output_type": "stream",
     "text": [
      "Loading model from /vol/bitbucket/shc20/FYP/GNN-Adversarial-Attack/Models/E_GraphSAGE/logs/BoT_IoT/strat_window_combined_port/best_model_all_raw.pth\n",
      "inference start\n"
     ]
    },
    {
     "name": "stderr",
     "output_type": "stream",
     "text": [
      "/vol/bitbucket/shc20/FYP/GNN-Adversarial-Attack/.venv/lib/python3.12/site-packages/sklearn/metrics/_classification.py:1565: UndefinedMetricWarning: Recall is ill-defined and being set to 0.0 in labels with no true samples. Use `zero_division` parameter to control this behavior.\n",
      "  _warn_prf(average, modifier, f\"{metric.capitalize()} is\", len(result))\n"
     ]
    },
    {
     "name": "stdout",
     "output_type": "stream",
     "text": [
      "Test Accuracy: 0.6809\n",
      "Adversarial confusion matrix: [[    0     0     0     0     0     0]\n",
      " [    0     0     0     0     0     0]\n",
      " [    0     0     0     0     0     0]\n",
      " [    0     0     0     0     0     0]\n",
      " [    0     0     0     0     0     0]\n",
      " [ 2269    33    96 52501     1     0]]\n",
      "class_map ['DDoS' 'DoS' 'Normal' 'Reconnaissance' 'Theft']\n",
      "[[288001      0      3   1496      0]\n",
      " [127293 111563    154   8431      0]\n",
      " [     0      0     24      3      1]\n",
      " [   248    128     13  11635      7]\n",
      " [     0      0      0      0      0]]\n",
      "                precision    recall  f1-score   support\n",
      "\n",
      "          DDoS     0.6931    0.9948    0.8170    289500\n",
      "           DoS     0.9989    0.4509    0.6213    247441\n",
      "        Normal     0.1237    0.8571    0.2162        28\n",
      "Reconnaissance     0.5395    0.9671    0.6926     12031\n",
      "         Theft     0.0000    0.0000    0.0000         0\n",
      "\n",
      "      accuracy                         0.7490    549000\n",
      "     macro avg     0.4710    0.6540    0.4694    549000\n",
      "  weighted avg     0.8275    0.7490    0.7260    549000\n",
      "\n"
     ]
    },
    {
     "name": "stderr",
     "output_type": "stream",
     "text": [
      "/vol/bitbucket/shc20/FYP/GNN-Adversarial-Attack/.venv/lib/python3.12/site-packages/sklearn/metrics/_classification.py:1565: UndefinedMetricWarning: Recall is ill-defined and being set to 0.0 in labels with no true samples. Use `zero_division` parameter to control this behavior.\n",
      "  _warn_prf(average, modifier, f\"{metric.capitalize()} is\", len(result))\n",
      "/vol/bitbucket/shc20/FYP/GNN-Adversarial-Attack/.venv/lib/python3.12/site-packages/sklearn/metrics/_classification.py:1565: UndefinedMetricWarning: Recall is ill-defined and being set to 0.0 in labels with no true samples. Use `zero_division` parameter to control this behavior.\n",
      "  _warn_prf(average, modifier, f\"{metric.capitalize()} is\", len(result))\n"
     ]
    }
   ],
   "source": [
    "# Inject Random Edges\n",
    "random_edge_graph_dataset = [inject_random_edges(g.cpu(), 0.1) for g in test_graph_dataset]\n",
    "random_edge_report = eval(random_edge_graph_dataset, adversarial=True)"
   ]
  },
  {
   "cell_type": "code",
   "execution_count": null,
   "id": "e8c66190",
   "metadata": {},
   "outputs": [],
   "source": [
    "def compare_overall_metrics(baseline_report, adversarial_reports):\n",
    "    rows = []   \n",
    "    metrics = ['precision', 'recall', 'f1-score']\n",
    "\n",
    "    for label in class_map + ['macro avg', 'weighted avg',]:\n",
    "        row = {\"Class\": label}\n",
    "        row['support'] = baseline_report[label]['support']\n",
    "        for metric in metrics:\n",
    "            baseline_val = baseline_report[label][metric]\n",
    "            row[f\"Normal_{metric}\"] = baseline_val\n",
    "            for name, report in adversarial_reports.items():\n",
    "                adv_val = report[label][metric]\n",
    "                row[f\"{name}_{metric}\"] = adv_val\n",
    "                row[f\"{name}_{metric}_drop(%)\"] = ((baseline_val - adv_val) / baseline_val) * 100\n",
    "        rows.append(row)\n",
    "\n",
    "    return pd.DataFrame(rows)\n",
    "\n",
    "adversarial_reports = {\n",
    "    \"Injected Both\": inject_both_report,\n",
    "    \"Injected Src\": inject_src_report,\n",
    "    \"Injected Dst\": inject_dst_report,\n",
    "    \"Edge Perturbation\": edge_perturb_report,\n",
    "    \"Random Edge\": random_edge_report,\n",
    "}\n",
    "\n",
    "comparison_df = compare_overall_metrics(normal_report, adversarial_reports)\n",
    "\n",
    "normal_cols = [col for col in comparison_df.columns if col.startswith('Normal_')] \n",
    "percentage_drop_cols = [col for col in comparison_df.columns if col.endswith('_drop(%)')]\n",
    "\n",
    "percentage_drop_df = pd.concat([comparison_df[normal_cols], comparison_df[percentage_drop_cols]], axis=1)\n",
    "\n",
    "print(\"Comparison of Overall Metrics:\")\n",
    "print(percentage_drop_df)"
   ]
  }
 ],
 "metadata": {
  "kernelspec": {
   "display_name": ".venv",
   "language": "python",
   "name": "python3"
  },
  "language_info": {
   "codemirror_mode": {
    "name": "ipython",
    "version": 3
   },
   "file_extension": ".py",
   "mimetype": "text/x-python",
   "name": "python",
   "nbconvert_exporter": "python",
   "pygments_lexer": "ipython3",
   "version": "3.12.3"
  }
 },
 "nbformat": 4,
 "nbformat_minor": 5
}
