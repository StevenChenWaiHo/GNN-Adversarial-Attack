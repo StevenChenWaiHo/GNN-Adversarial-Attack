{
 "cells": [
  {
   "cell_type": "code",
   "execution_count": 1,
   "id": "9fb9e1b2-1c5f-49e3-82b4-3bfe52cabad8",
   "metadata": {},
   "outputs": [],
   "source": [
    "'''\n",
    "=====Experiment=====\n",
    "Dataset: BoT-IoT dataset\n",
    "\n",
    "Split train and test subgraph randomly\n",
    "Training in chronological window subgraph\n",
    "\n",
    "IP + Port number as node\n",
    "'''\n",
    "\n",
    "from torch_geometric.utils import from_networkx, add_self_loops, degree\n",
    "from torch_geometric.nn import MessagePassing\n",
    "import torch_geometric.transforms as T\n",
    "from torch_geometric.data import DataLoader\n",
    "from torch_geometric.loader import NeighborSampler\n",
    "import torch.nn as nn\n",
    "import torch as th\n",
    "import torch.nn.functional as F\n",
    "# import dgl.function as fn\n",
    "import networkx as nx\n",
    "import pandas as pd\n",
    "import socket\n",
    "import struct\n",
    "import matplotlib.pyplot as plt\n",
    "import random\n",
    "from sklearn.preprocessing import LabelEncoder\n",
    "from sklearn.preprocessing import StandardScaler\n",
    "from sklearn.model_selection import train_test_split\n",
    "from sklearn.utils import class_weight\n",
    "# import seaborn as sns\n",
    "# import matplotlib.pyplot as plt\n",
    "import numpy as np\n",
    "import os\n",
    "import sys\n",
    "from iterstrat.ml_stratifiers import MultilabelStratifiedShuffleSplit\n",
    "from torch_geometric.loader import DataLoader\n",
    "\n",
    "\n",
    "project_root = os.path.abspath(os.path.join(os.getcwd(), '..', '..'))\n",
    "sys.path.append(project_root)\n",
    "\n",
    "from Datasets.BoT_IoT.BoT_IoT_config import BoT_IoT_Config"
   ]
  },
  {
   "cell_type": "code",
   "execution_count": 2,
   "id": "9d9ef09a-d405-43b8-971e-fe9e6a592c9b",
   "metadata": {},
   "outputs": [
    {
     "name": "stderr",
     "output_type": "stream",
     "text": [
      "/tmp/ipykernel_1772924/4235481822.py:3: DtypeWarning: Columns (7,9) have mixed types. Specify dtype option on import or set low_memory=False.\n",
      "  data = pd.read_csv(os.path.join(project_root, \"Datasets\", f\"BoT_IoT/All/{csv_file_name}.csv\"))\n"
     ]
    },
    {
     "name": "stdout",
     "output_type": "stream",
     "text": [
      "category\n",
      "DDoS              1926624\n",
      "DoS               1650260\n",
      "Reconnaissance      91082\n",
      "Normal                477\n",
      "Theft                  79\n",
      "Name: count, dtype: int64\n",
      "attack\n",
      "1    3668045\n",
      "0        477\n",
      "Name: count, dtype: int64\n"
     ]
    }
   ],
   "source": [
    "csv_file_name = \"all_raw\"\n",
    "\n",
    "data = pd.read_csv(os.path.join(project_root, \"Datasets\", f\"BoT_IoT/All/{csv_file_name}.csv\"))\n",
    "\n",
    "DATASET_NAME = \"BoT_IoT\"\n",
    "EXPERIMENT_NAME = \"split_random_window_combined_port\"\n",
    "\n",
    "SOURCE_IP_COL_NAME = BoT_IoT_Config.SOURCE_IP_COL_NAME\n",
    "DESTINATION_IP_COL_NAME = BoT_IoT_Config.DESTINATION_IP_COL_NAME\n",
    "SOURCE_PORT_COL_NAME = BoT_IoT_Config.SOURCE_PORT_COL_NAME\n",
    "DESTINATION_PORT_COL_NAME = BoT_IoT_Config.DESTINATION_PORT_COL_NAME\n",
    "\n",
    "ATTACK_CLASS_COL_NAME = BoT_IoT_Config.ATTACK_CLASS_COL_NAME\n",
    "IS_ATTACK_COL_NAME = BoT_IoT_Config.IS_ATTACK_COL_NAME\n",
    "\n",
    "BENIGN_CLASS_NAME = BoT_IoT_Config.BENIGN_CLASS_NAME\n",
    "\n",
    "TIME_COLS = BoT_IoT_Config.TIME_COL_NAMES\n",
    "\n",
    "print(data[ATTACK_CLASS_COL_NAME].value_counts())\n",
    "print(data[IS_ATTACK_COL_NAME].value_counts())\n",
    "\n",
    "MULTICLASS = True\n",
    "\n",
    "if MULTICLASS:\n",
    "    label_col = ATTACK_CLASS_COL_NAME\n",
    "    data.drop(columns=[IS_ATTACK_COL_NAME], inplace=True)\n",
    "else:\n",
    "    label_col = IS_ATTACK_COL_NAME\n",
    "    data.drop(columns=[ATTACK_CLASS_COL_NAME], inplace=True)\n",
    "\n",
    "\n",
    "saves_path = os.path.join(project_root, \"Models/E_GraphSAGE/logs\", DATASET_NAME, EXPERIMENT_NAME)\n",
    "\n",
    "checkpoint_path = os.path.join(saves_path, f\"checkpoints_{csv_file_name}.pth\")\n",
    "best_model_path = os.path.join(saves_path, f\"best_model_{csv_file_name}.pth\")\n",
    "\n",
    "os.makedirs(saves_path, exist_ok=True)"
   ]
  },
  {
   "cell_type": "code",
   "execution_count": 3,
   "id": "449a1af1-1d3d-4179-9628-7c2ec551ce0c",
   "metadata": {},
   "outputs": [
    {
     "name": "stdout",
     "output_type": "stream",
     "text": [
      "Index(['pkSeqID', 'stime', 'flgs_number', 'proto_number', 'saddr', 'sport',\n",
      "       'daddr', 'dport', 'pkts', 'bytes', 'state_number', 'ltime', 'dur',\n",
      "       'mean', 'stddev', 'sum', 'min', 'max', 'spkts', 'dpkts', 'sbytes',\n",
      "       'dbytes', 'rate', 'srate', 'drate', 'TnBPSrcIP', 'TnBPDstIP',\n",
      "       'TnP_PSrcIP', 'TnP_PDstIP', 'TnP_PerProto', 'TnP_Per_Dport',\n",
      "       'AR_P_Proto_P_SrcIP', 'AR_P_Proto_P_DstIP', 'N_IN_Conn_P_DstIP',\n",
      "       'N_IN_Conn_P_SrcIP', 'AR_P_Proto_P_Sport', 'AR_P_Proto_P_Dport',\n",
      "       'Pkts_P_State_P_Protocol_P_DestIP', 'Pkts_P_State_P_Protocol_P_SrcIP',\n",
      "       'category'],\n",
      "      dtype='object')\n"
     ]
    }
   ],
   "source": [
    "data.drop(columns=BoT_IoT_Config.DROP_COLS,inplace=True)\n",
    "print(data.columns)"
   ]
  },
  {
   "cell_type": "code",
   "execution_count": 4,
   "id": "2a2c690c-86a4-49f7-aa9c-58f94529547d",
   "metadata": {},
   "outputs": [],
   "source": [
    "data[SOURCE_IP_COL_NAME] = data[SOURCE_IP_COL_NAME].apply(str)\n",
    "data[DESTINATION_IP_COL_NAME] = data[DESTINATION_IP_COL_NAME].apply(str)\n",
    "\n",
    "# # Combine Port and IP\n",
    "data[SOURCE_PORT_COL_NAME] = data[SOURCE_PORT_COL_NAME].apply(str)\n",
    "data[DESTINATION_PORT_COL_NAME] = data[DESTINATION_PORT_COL_NAME].apply(str)\n",
    "\n",
    "data[SOURCE_IP_COL_NAME] = data[SOURCE_IP_COL_NAME] + ':' + data[SOURCE_PORT_COL_NAME]\n",
    "data[DESTINATION_IP_COL_NAME] = data[DESTINATION_IP_COL_NAME] + ':' + data[DESTINATION_PORT_COL_NAME]\n",
    "data.drop(columns=[SOURCE_PORT_COL_NAME,DESTINATION_PORT_COL_NAME],inplace=True)\n",
    "\n",
    "data = pd.get_dummies(data, columns = BoT_IoT_Config.CATEGORICAL_COLS) # One Hot Encoding for categorical data\n",
    "converted_categorical_cols = [col for col in data.columns if col.startswith(tuple(BoT_IoT_Config.CATEGORICAL_COLS))]"
   ]
  },
  {
   "cell_type": "code",
   "execution_count": 5,
   "id": "5651ef5b-0a9d-4641-aad7-5738092c46ce",
   "metadata": {},
   "outputs": [
    {
     "name": "stdout",
     "output_type": "stream",
     "text": [
      "<bound method NDFrame.head of          pkSeqID         stime                  saddr                 daddr  \\\n",
      "0        3576925  1.526344e+09       192.168.100.3:80   192.168.100.55:8080   \n",
      "1        3576926  1.526344e+09    192.168.100.46:3456      192.168.100.5:80   \n",
      "2        3576919  1.526344e+09      192.168.100.46:80      192.168.100.5:80   \n",
      "3        3576920  1.526344e+09      192.168.100.46:80      192.168.100.5:80   \n",
      "4        3576922  1.526344e+09      192.168.100.7:365     192.168.100.3:565   \n",
      "...          ...           ...                    ...                   ...   \n",
      "3668517  3668517  1.529381e+09  192.168.100.150:35062      192.168.100.3:22   \n",
      "3668518  3668518  1.529381e+09  192.168.100.150:35064      192.168.100.3:22   \n",
      "3668519  3668519  1.529381e+09  192.168.100.150:35066      192.168.100.3:22   \n",
      "3668520  3668520  1.529381e+09  192.168.100.150:35070      192.168.100.3:22   \n",
      "3668521  3668521  1.529381e+09    192.168.100.3:43001  192.168.100.150:4433   \n",
      "\n",
      "          pkts     bytes         ltime          dur      mean    stddev  ...  \\\n",
      "0        59453  60884536  1.526346e+09  1685.706909  4.947914  0.228494  ...   \n",
      "1        59452  59114121  1.526346e+09  1685.706909  4.947584  0.231615  ...   \n",
      "2        29726  28543568  1.526346e+09  1685.706909  4.947334  0.231518  ...   \n",
      "3        30157  28898696  1.526346e+09  1685.706909  4.947345  0.231582  ...   \n",
      "4        16326    979560  1.526346e+09  1685.973267  4.893885  0.231947  ...   \n",
      "...        ...       ...           ...          ...       ...       ...  ...   \n",
      "3668517      6       434  1.529381e+09     0.023737  0.023737  0.000000  ...   \n",
      "3668518      6       434  1.529381e+09     0.013165  0.013165  0.000000  ...   \n",
      "3668519      6       434  1.529381e+09     0.000574  0.000574  0.000000  ...   \n",
      "3668520     31      5472  1.529381e+09     2.874302  2.874302  0.000000  ...   \n",
      "3668521      2       134  1.529381e+09     0.000003  0.000003  0.000000  ...   \n",
      "\n",
      "         state_number_7  state_number_8  state_number_9  state_number_10  \\\n",
      "0                 False           False           False            False   \n",
      "1                 False           False           False            False   \n",
      "2                 False           False           False            False   \n",
      "3                 False           False           False            False   \n",
      "4                 False           False           False            False   \n",
      "...                 ...             ...             ...              ...   \n",
      "3668517           False           False           False            False   \n",
      "3668518           False           False           False            False   \n",
      "3668519           False           False           False            False   \n",
      "3668520           False           False           False            False   \n",
      "3668521           False           False           False            False   \n",
      "\n",
      "         state_number_11  proto_number_1  proto_number_2  proto_number_3  \\\n",
      "0                  False            True           False           False   \n",
      "1                  False           False           False            True   \n",
      "2                  False           False           False            True   \n",
      "3                  False            True           False           False   \n",
      "4                  False           False           False            True   \n",
      "...                  ...             ...             ...             ...   \n",
      "3668517            False            True           False           False   \n",
      "3668518            False            True           False           False   \n",
      "3668519            False            True           False           False   \n",
      "3668520            False            True           False           False   \n",
      "3668521            False            True           False           False   \n",
      "\n",
      "         proto_number_4  proto_number_5  \n",
      "0                 False           False  \n",
      "1                 False           False  \n",
      "2                 False           False  \n",
      "3                 False           False  \n",
      "4                 False           False  \n",
      "...                 ...             ...  \n",
      "3668517           False           False  \n",
      "3668518           False           False  \n",
      "3668519           False           False  \n",
      "3668520           False           False  \n",
      "3668521           False           False  \n",
      "\n",
      "[3668522 rows x 60 columns]>\n"
     ]
    }
   ],
   "source": [
    "print(data.head)"
   ]
  },
  {
   "cell_type": "code",
   "execution_count": 6,
   "id": "e2d96115-31f9-48cb-b3e6-7853d2d253cf",
   "metadata": {},
   "outputs": [
    {
     "name": "stdout",
     "output_type": "stream",
     "text": [
      "<bound method NDFrame.head of          pkSeqID         stime                  saddr                 daddr  \\\n",
      "0        3576925  1.526344e+09       192.168.100.3:80   192.168.100.55:8080   \n",
      "1        3576926  1.526344e+09    192.168.100.46:3456      192.168.100.5:80   \n",
      "2        3576919  1.526344e+09      192.168.100.46:80      192.168.100.5:80   \n",
      "3        3576920  1.526344e+09      192.168.100.46:80      192.168.100.5:80   \n",
      "4        3576922  1.526344e+09      192.168.100.7:365     192.168.100.3:565   \n",
      "...          ...           ...                    ...                   ...   \n",
      "3668517  3668517  1.529381e+09  192.168.100.150:35062      192.168.100.3:22   \n",
      "3668518  3668518  1.529381e+09  192.168.100.150:35064      192.168.100.3:22   \n",
      "3668519  3668519  1.529381e+09  192.168.100.150:35066      192.168.100.3:22   \n",
      "3668520  3668520  1.529381e+09  192.168.100.150:35070      192.168.100.3:22   \n",
      "3668521  3668521  1.529381e+09    192.168.100.3:43001  192.168.100.150:4433   \n",
      "\n",
      "          pkts     bytes         ltime          dur      mean    stddev  ...  \\\n",
      "0        59453  60884536  1.526346e+09  1685.706909  4.947914  0.228494  ...   \n",
      "1        59452  59114121  1.526346e+09  1685.706909  4.947584  0.231615  ...   \n",
      "2        29726  28543568  1.526346e+09  1685.706909  4.947334  0.231518  ...   \n",
      "3        30157  28898696  1.526346e+09  1685.706909  4.947345  0.231582  ...   \n",
      "4        16326    979560  1.526346e+09  1685.973267  4.893885  0.231947  ...   \n",
      "...        ...       ...           ...          ...       ...       ...  ...   \n",
      "3668517      6       434  1.529381e+09     0.023737  0.023737  0.000000  ...   \n",
      "3668518      6       434  1.529381e+09     0.013165  0.013165  0.000000  ...   \n",
      "3668519      6       434  1.529381e+09     0.000574  0.000574  0.000000  ...   \n",
      "3668520     31      5472  1.529381e+09     2.874302  2.874302  0.000000  ...   \n",
      "3668521      2       134  1.529381e+09     0.000003  0.000003  0.000000  ...   \n",
      "\n",
      "         state_number_7  state_number_8  state_number_9  state_number_10  \\\n",
      "0                 False           False           False            False   \n",
      "1                 False           False           False            False   \n",
      "2                 False           False           False            False   \n",
      "3                 False           False           False            False   \n",
      "4                 False           False           False            False   \n",
      "...                 ...             ...             ...              ...   \n",
      "3668517           False           False           False            False   \n",
      "3668518           False           False           False            False   \n",
      "3668519           False           False           False            False   \n",
      "3668520           False           False           False            False   \n",
      "3668521           False           False           False            False   \n",
      "\n",
      "         state_number_11  proto_number_1  proto_number_2  proto_number_3  \\\n",
      "0                  False            True           False           False   \n",
      "1                  False           False           False            True   \n",
      "2                  False           False           False            True   \n",
      "3                  False            True           False           False   \n",
      "4                  False           False           False            True   \n",
      "...                  ...             ...             ...             ...   \n",
      "3668517            False            True           False           False   \n",
      "3668518            False            True           False           False   \n",
      "3668519            False            True           False           False   \n",
      "3668520            False            True           False           False   \n",
      "3668521            False            True           False           False   \n",
      "\n",
      "         proto_number_4  proto_number_5  \n",
      "0                 False           False  \n",
      "1                 False           False  \n",
      "2                 False           False  \n",
      "3                 False           False  \n",
      "4                 False           False  \n",
      "...                 ...             ...  \n",
      "3668517           False           False  \n",
      "3668518           False           False  \n",
      "3668519           False           False  \n",
      "3668520           False           False  \n",
      "3668521           False           False  \n",
      "\n",
      "[3668522 rows x 60 columns]>\n"
     ]
    }
   ],
   "source": [
    "data = data.reset_index()\n",
    "data.replace([np.inf, -np.inf], np.nan,inplace = True)\n",
    "data.fillna(0,inplace = True)\n",
    "data.drop(columns=['index'],inplace=True)\n",
    "print(data.head)"
   ]
  },
  {
   "cell_type": "code",
   "execution_count": 7,
   "id": "b1df5c4c-70a2-4566-ae5e-ee3dcc6037a5",
   "metadata": {},
   "outputs": [
    {
     "name": "stdout",
     "output_type": "stream",
     "text": [
      "               pkts         bytes           dur          mean        stddev  \\\n",
      "count  3.668522e+06  3.668522e+06  3.668522e+06  3.668522e+06  3.668522e+06   \n",
      "mean   7.725963e+00  8.690501e+02  2.033479e+01  2.231063e+00  8.871499e-01   \n",
      "std    1.155876e+02  1.122667e+05  2.148764e+01  1.517728e+00  8.037139e-01   \n",
      "min    1.000000e+00  6.000000e+01  0.000000e+00  0.000000e+00  0.000000e+00   \n",
      "25%    5.000000e+00  4.200000e+02  1.256256e+01  1.819670e-01  3.001900e-02   \n",
      "50%    7.000000e+00  6.000000e+02  1.550852e+01  2.690125e+00  7.938960e-01   \n",
      "75%    9.000000e+00  7.700000e+02  2.709986e+01  3.565203e+00  1.745296e+00   \n",
      "max    7.005700e+04  7.183334e+07  2.771485e+03  4.981882e+00  2.496763e+00   \n",
      "\n",
      "                sum           min           max         spkts         dpkts  \\\n",
      "count  3.668522e+06  3.668522e+06  3.668522e+06  3.668522e+06  3.668522e+06   \n",
      "mean   7.721635e+00  1.017540e+00  3.020015e+00  7.314146e+00  4.118173e-01   \n",
      "std    7.616199e+00  1.483688e+00  1.860877e+00  7.725836e+01  4.965001e+01   \n",
      "min    0.000000e+00  0.000000e+00  0.000000e+00  1.000000e+00  0.000000e+00   \n",
      "25%    3.445982e-01  0.000000e+00  2.806072e-01  5.000000e+00  0.000000e+00   \n",
      "50%    8.269959e+00  0.000000e+00  4.009111e+00  6.000000e+00  0.000000e+00   \n",
      "75%    1.171040e+01  2.151138e+00  4.293582e+00  8.000000e+00  0.000000e+00   \n",
      "max    1.913194e+03  4.980471e+00  4.999999e+00  3.502900e+04  3.502900e+04   \n",
      "\n",
      "       ...  TnP_PerProto  TnP_Per_Dport  AR_P_Proto_P_SrcIP  \\\n",
      "count  ...  3.668522e+06   3.668522e+06        3.668522e+06   \n",
      "mean   ...  7.535659e+02   7.369070e+02        3.327439e+02   \n",
      "std    ...  1.434385e+03   6.527134e+02        8.466031e+03   \n",
      "min    ...  1.000000e+00   1.000000e+00        0.000000e+00   \n",
      "25%    ...  5.020000e+02   5.000000e+02        2.359950e-01   \n",
      "50%    ...  7.000000e+02   7.000000e+02        3.900890e-01   \n",
      "75%    ...  9.240000e+02   9.200000e+02        5.725580e-01   \n",
      "max    ...  2.283730e+05   2.444250e+05        2.714290e+06   \n",
      "\n",
      "       AR_P_Proto_P_DstIP  N_IN_Conn_P_DstIP  N_IN_Conn_P_SrcIP  \\\n",
      "count        3.668522e+06       3.668522e+06       3.668522e+06   \n",
      "mean         2.851832e+02       9.245168e+01       8.253848e+01   \n",
      "std          4.096943e+03       1.817643e+01       2.439739e+01   \n",
      "min          0.000000e+00       1.000000e+00       1.000000e+00   \n",
      "25%          2.436680e-01       1.000000e+02       6.900000e+01   \n",
      "50%          3.986290e-01       1.000000e+02       1.000000e+02   \n",
      "75%          5.796390e-01       1.000000e+02       1.000000e+02   \n",
      "max          1.000000e+06       1.000000e+02       1.000000e+02   \n",
      "\n",
      "       AR_P_Proto_P_Sport  AR_P_Proto_P_Dport  \\\n",
      "count        3.668522e+06        3.668522e+06   \n",
      "mean         4.564945e+02        5.385196e+02   \n",
      "std          1.432917e+04        1.569824e+04   \n",
      "min          0.000000e+00        0.000000e+00   \n",
      "25%          2.314810e-01        2.457730e-01   \n",
      "50%          3.785910e-01        3.943060e-01   \n",
      "75%          5.725550e-01        5.769710e-01   \n",
      "max          3.000000e+06        2.000000e+06   \n",
      "\n",
      "       Pkts_P_State_P_Protocol_P_DestIP  Pkts_P_State_P_Protocol_P_SrcIP  \n",
      "count                      3.668522e+06                     3.668522e+06  \n",
      "mean                       6.422897e+02                     5.859984e+02  \n",
      "std                        4.533432e+02                     4.332619e+02  \n",
      "min                        1.000000e+00                     1.000000e+00  \n",
      "25%                        3.240000e+02                     2.940000e+02  \n",
      "50%                        6.000000e+02                     5.000000e+02  \n",
      "75%                        8.280000e+02                     8.000000e+02  \n",
      "max                        1.125440e+05                     1.179390e+05  \n",
      "\n",
      "[8 rows x 29 columns]\n"
     ]
    }
   ],
   "source": [
    "scaler = StandardScaler()\n",
    "cols_to_norm = BoT_IoT_Config.COLS_TO_NORM\n",
    "print(data[cols_to_norm].describe()) # Check if there's any too large value"
   ]
  },
  {
   "cell_type": "code",
   "execution_count": 8,
   "id": "9ea95177",
   "metadata": {},
   "outputs": [
    {
     "name": "stdout",
     "output_type": "stream",
     "text": [
      "\n",
      "✅ All other columns processed successfully.\n"
     ]
    }
   ],
   "source": [
    "def check_numeric_issues(df, cols_to_norm):\n",
    "    for col in cols_to_norm:\n",
    "        try:\n",
    "            # Try to coerce to numeric\n",
    "            df[col] = pd.to_numeric(df[col], errors='coerce')\n",
    "            \n",
    "            # Try to clip the column\n",
    "            df[col] = df[col].clip(lower=-1e9, upper=1e9)\n",
    "            \n",
    "        except Exception as e:\n",
    "            print(f\"❌ Column '{col}' failed with error: {e}\")\n",
    "            print(f\"  - Sample values: {df[col].dropna().unique()[:5]}\")\n",
    "            print(f\"  - Data type: {df[col].dtype}\")\n",
    "            continue\n",
    "\n",
    "    print(\"\\n✅ All other columns processed successfully.\")\n",
    "\n",
    "check_numeric_issues(data, BoT_IoT_Config.COLS_TO_NORM)"
   ]
  },
  {
   "cell_type": "code",
   "execution_count": 9,
   "id": "37256006-abc1-44aa-8e74-46d05dc6ad84",
   "metadata": {},
   "outputs": [],
   "source": [
    "data[cols_to_norm] = scaler.fit_transform(data[cols_to_norm])"
   ]
  },
  {
   "cell_type": "code",
   "execution_count": 10,
   "id": "61c6e17f",
   "metadata": {},
   "outputs": [
    {
     "name": "stdout",
     "output_type": "stream",
     "text": [
      "['DDoS' 'DoS' 'Normal' 'Reconnaissance' 'Theft']\n",
      "Attack label mapping: {'DDoS': 0, 'DoS': 1, 'Normal': 2, 'Reconnaissance': 3, 'Theft': 4}\n"
     ]
    }
   ],
   "source": [
    "from sklearn.preprocessing import LabelEncoder\n",
    "\n",
    "num_classes = 2\n",
    "class_map = [0, 1]\n",
    "if MULTICLASS:\n",
    "    le = LabelEncoder()\n",
    "    attack_labels = le.fit_transform(data[ATTACK_CLASS_COL_NAME])\n",
    "    class_map = le.classes_\n",
    "    print(class_map)\n",
    "    print(\"Attack label mapping:\", dict(zip(class_map, range(len(class_map)))))\n",
    "    data[ATTACK_CLASS_COL_NAME] = attack_labels\n",
    "    num_classes = len(class_map)\n",
    "    class_dict = {le.inverse_transform([i])[0]: i for i in range(len(le.classes_))}\n",
    "\n",
    "BENIGN_CLASS_LABEL = le.transform([BENIGN_CLASS_NAME])[0] if MULTICLASS else 0\n",
    "ADVERSARIAL_CLASS_LABEL = len(class_map)"
   ]
  },
  {
   "cell_type": "code",
   "execution_count": 11,
   "id": "d35f4cdd-2716-431f-af50-b34cc3d2d535",
   "metadata": {},
   "outputs": [
    {
     "name": "stdout",
     "output_type": "stream",
     "text": [
      "Feature Columns: ['pkts', 'bytes', 'dur', 'mean', 'stddev', 'sum', 'min', 'max', 'spkts', 'dpkts', 'sbytes', 'dbytes', 'rate', 'srate', 'drate', 'TnBPSrcIP', 'TnBPDstIP', 'TnP_PSrcIP', 'TnP_PDstIP', 'TnP_PerProto', 'TnP_Per_Dport', 'AR_P_Proto_P_SrcIP', 'AR_P_Proto_P_DstIP', 'N_IN_Conn_P_DstIP', 'N_IN_Conn_P_SrcIP', 'AR_P_Proto_P_Sport', 'AR_P_Proto_P_Dport', 'Pkts_P_State_P_Protocol_P_DestIP', 'Pkts_P_State_P_Protocol_P_SrcIP', 'flgs_number_1', 'flgs_number_2', 'flgs_number_3', 'flgs_number_4', 'flgs_number_5', 'flgs_number_6', 'flgs_number_7', 'flgs_number_8', 'flgs_number_9', 'state_number_1', 'state_number_2', 'state_number_3', 'state_number_4', 'state_number_5', 'state_number_6', 'state_number_7', 'state_number_8', 'state_number_9', 'state_number_10', 'state_number_11', 'proto_number_1', 'proto_number_2', 'proto_number_3', 'proto_number_4', 'proto_number_5']\n",
      "Number of Features: 54\n"
     ]
    }
   ],
   "source": [
    "# # Maintain the order of the rows in the original dataframe\n",
    "\n",
    "feature_cols = cols_to_norm + converted_categorical_cols\n",
    "\n",
    "print('Feature Columns:', feature_cols)\n",
    "num_features = len(feature_cols)\n",
    "print('Number of Features:', num_features)\n",
    "\n",
    "data['h'] = data[ feature_cols ].values.tolist()"
   ]
  },
  {
   "cell_type": "code",
   "execution_count": 12,
   "id": "743e7faa",
   "metadata": {},
   "outputs": [],
   "source": [
    "def create_graph(df):\n",
    "\n",
    "    G_nx = nx.from_pandas_edgelist(df, SOURCE_IP_COL_NAME, DESTINATION_IP_COL_NAME, ['h', label_col], create_using=nx.MultiDiGraph())\n",
    "    G_pyg = from_networkx(G_nx)\n",
    "\n",
    "    num_nodes = G_pyg.num_nodes\n",
    "    num_edges = G_pyg.num_edges\n",
    "\n",
    "    G_pyg.x = th.ones(num_nodes, len(df['h'].iloc[0])) \n",
    "\n",
    "    edge_attr_list = []\n",
    "    edge_label_list = []\n",
    "\n",
    "    for u, v, key, data in G_nx.edges(keys=True, data=True):\n",
    "        edge_attr_list.append(data['h']) \n",
    "        edge_label_list.append(data[label_col]) \n",
    "\n",
    "    G_pyg.edge_attr = th.tensor(edge_attr_list, dtype=th.float32)\n",
    "    G_pyg.edge_label = th.tensor(edge_label_list, dtype=th.long)\n",
    "\n",
    "    return G_pyg"
   ]
  },
  {
   "cell_type": "code",
   "execution_count": 13,
   "id": "4e650028",
   "metadata": {},
   "outputs": [],
   "source": [
    "from collections import defaultdict\n",
    "from typing import Counter\n",
    "from sklearn.preprocessing import MultiLabelBinarizer\n",
    "\n",
    "from tqdm import tqdm\n",
    "\n",
    "class RandomGraphDataset:\n",
    "\n",
    "    def __init__(self, X, y):\n",
    "        self.X = X\n",
    "        self.y = y\n",
    "        self.total_count = len(self.y)\n",
    "\n",
    "        # Compute class weights\n",
    "        labels = []\n",
    "\n",
    "        for graph in self.X:\n",
    "            labels.append(graph.edge_label.tolist())\n",
    "\n",
    "        labels = np.concatenate(labels)\n",
    "\n",
    "        self.class_counts = Counter(labels)\n",
    "\n",
    "        # Compute the class weights\n",
    "        self.class_weights = class_weight.compute_class_weight(\n",
    "            class_weight='balanced',\n",
    "            classes=np.unique(labels),\n",
    "            y=labels\n",
    "        )\n",
    "\n",
    "    # def k_fold_split(self, k: int = 5, test_ratio: float = 0.15, random_state: int = 42):\n",
    "    #     cv = MultilabelStratifiedShuffleSplit(test_size=test_ratio, random_state=random_state, n_splits=k)\n",
    "\n",
    "    #     mlb = MultiLabelBinarizer()\n",
    "\n",
    "    #     y_binary = mlb.fit_transform(self.y)\n",
    "\n",
    "    #     return cv.split(np.zeros(len(self.X)), y_binary)\n",
    "\n",
    "    def graph_train_test_split(self, test_ratio: float = 0.15, random_state: int = 42):\n",
    "        X_train, X_test, y_train, y_test = train_test_split(self.X, self.y, test_size=test_ratio, random_state=random_state)\n",
    "\n",
    "        return RandomGraphDataset(X_train, y_train), RandomGraphDataset(X_test, y_test)\n",
    "    \n",
    "    def print_class_distribution_and_weights(self):\n",
    "        # Use the label encoder to inverse transform the class labels\n",
    "        class_counts_named = {cls: count for cls, count in self.class_counts.items()}\n",
    "        class_weights_named = {cls: weight for cls, weight in enumerate(self.class_weights)}\n",
    "        print(\"Class Counts and Weights:\")\n",
    "        for cls_label in class_counts_named.keys():\n",
    "            count = class_counts_named[cls_label]\n",
    "            weight = class_weights_named[cls_label]\n",
    "            print(f\"{cls_label:<2}  {le.inverse_transform([cls_label])[0]:<15}: Count = {count:<10}, Weight = {weight:<10.4f}\")\n",
    "    \n",
    "    def __len__(self):\n",
    "        return self.total_count\n",
    "\n",
    "    def __iter__(self):\n",
    "        for g in self.X:\n",
    "            yield g\n",
    "            \n",
    "    def __getitem__(self, idx):\n",
    "        if isinstance(idx, int):\n",
    "            return self.X[idx], self.y[idx]\n",
    "        elif isinstance(idx, slice):\n",
    "            return [self.X[i] for i in range(len(self.X))][idx], [self.y[i] for i in range(len(self.y))][idx]\n",
    "        else:\n",
    "            raise TypeError(\"Index must be an integer or a slice.\")\n",
    "\n",
    "def generate_graph_datasets(\n",
    "    df: pd.DataFrame, \n",
    "    window_size: int = 1500, \n",
    "    # overlap_ratio: float = 0, \n",
    "    feature_cols=feature_cols,\n",
    "    ordering_cols= TIME_COLS + [ATTACK_CLASS_COL_NAME], \n",
    "    label_col=label_col,\n",
    "    build_graph_func=create_graph,\n",
    "    # downsampler=downsampler\n",
    "    ):\n",
    "\n",
    "    print(\"All Columns: \", df.columns)\n",
    "    print(\"Ordering Columns: \", ordering_cols)\n",
    "    assert all(col in df.columns for col in ordering_cols), \"All timestamp columns are required\"\n",
    "    assert label_col in df.columns, \"Edge label column 'label' is required\"\n",
    "    \n",
    "    df = df.sort_values(ordering_cols).reset_index(drop=True)\n",
    "    window_size = int(window_size)\n",
    "    \n",
    "    df.drop(columns=set(df.columns) - set(feature_cols) - set(label_col))\n",
    "\n",
    "    print(\"Final Columns: \", df.columns)\n",
    "    \n",
    "    label_counts_list = []\n",
    "    X = []\n",
    "    y = []\n",
    "\n",
    "    progress_bar = tqdm(range(0, len(df), window_size), desc=f\"Generating graphs\")\n",
    "    for start in progress_bar:\n",
    "        window_df = df[start: min(start + window_size, len(df))]\n",
    "        contains_label = window_df[label_col].unique()\n",
    "\n",
    "        G_pyg = build_graph_func(window_df)\n",
    "\n",
    "        label_counts = window_df[label_col].value_counts()\n",
    "\n",
    "        label_counts_list.append(label_counts)\n",
    "        X.append(G_pyg)\n",
    "        y.append(contains_label.tolist())\n",
    "\n",
    "    # X, y = downsampler.downsample(label_counts_list, X, y)\n",
    "        \n",
    "    return RandomGraphDataset(X, y)"
   ]
  },
  {
   "cell_type": "code",
   "execution_count": 14,
   "id": "491e7421",
   "metadata": {},
   "outputs": [
    {
     "name": "stdout",
     "output_type": "stream",
     "text": [
      "All Columns:  Index(['pkSeqID', 'stime', 'saddr', 'daddr', 'pkts', 'bytes', 'ltime', 'dur',\n",
      "       'mean', 'stddev', 'sum', 'min', 'max', 'spkts', 'dpkts', 'sbytes',\n",
      "       'dbytes', 'rate', 'srate', 'drate', 'TnBPSrcIP', 'TnBPDstIP',\n",
      "       'TnP_PSrcIP', 'TnP_PDstIP', 'TnP_PerProto', 'TnP_Per_Dport',\n",
      "       'AR_P_Proto_P_SrcIP', 'AR_P_Proto_P_DstIP', 'N_IN_Conn_P_DstIP',\n",
      "       'N_IN_Conn_P_SrcIP', 'AR_P_Proto_P_Sport', 'AR_P_Proto_P_Dport',\n",
      "       'Pkts_P_State_P_Protocol_P_DestIP', 'Pkts_P_State_P_Protocol_P_SrcIP',\n",
      "       'category', 'flgs_number_1', 'flgs_number_2', 'flgs_number_3',\n",
      "       'flgs_number_4', 'flgs_number_5', 'flgs_number_6', 'flgs_number_7',\n",
      "       'flgs_number_8', 'flgs_number_9', 'state_number_1', 'state_number_2',\n",
      "       'state_number_3', 'state_number_4', 'state_number_5', 'state_number_6',\n",
      "       'state_number_7', 'state_number_8', 'state_number_9', 'state_number_10',\n",
      "       'state_number_11', 'proto_number_1', 'proto_number_2', 'proto_number_3',\n",
      "       'proto_number_4', 'proto_number_5', 'h'],\n",
      "      dtype='object')\n",
      "Ordering Columns:  ['stime', 'ltime', 'category']\n",
      "Final Columns:  Index(['pkSeqID', 'stime', 'saddr', 'daddr', 'pkts', 'bytes', 'ltime', 'dur',\n",
      "       'mean', 'stddev', 'sum', 'min', 'max', 'spkts', 'dpkts', 'sbytes',\n",
      "       'dbytes', 'rate', 'srate', 'drate', 'TnBPSrcIP', 'TnBPDstIP',\n",
      "       'TnP_PSrcIP', 'TnP_PDstIP', 'TnP_PerProto', 'TnP_Per_Dport',\n",
      "       'AR_P_Proto_P_SrcIP', 'AR_P_Proto_P_DstIP', 'N_IN_Conn_P_DstIP',\n",
      "       'N_IN_Conn_P_SrcIP', 'AR_P_Proto_P_Sport', 'AR_P_Proto_P_Dport',\n",
      "       'Pkts_P_State_P_Protocol_P_DestIP', 'Pkts_P_State_P_Protocol_P_SrcIP',\n",
      "       'category', 'flgs_number_1', 'flgs_number_2', 'flgs_number_3',\n",
      "       'flgs_number_4', 'flgs_number_5', 'flgs_number_6', 'flgs_number_7',\n",
      "       'flgs_number_8', 'flgs_number_9', 'state_number_1', 'state_number_2',\n",
      "       'state_number_3', 'state_number_4', 'state_number_5', 'state_number_6',\n",
      "       'state_number_7', 'state_number_8', 'state_number_9', 'state_number_10',\n",
      "       'state_number_11', 'proto_number_1', 'proto_number_2', 'proto_number_3',\n",
      "       'proto_number_4', 'proto_number_5', 'h'],\n",
      "      dtype='object')\n"
     ]
    },
    {
     "name": "stderr",
     "output_type": "stream",
     "text": [
      "Generating graphs: 100%|██████████| 2446/2446 [02:23<00:00, 17.10it/s]\n"
     ]
    }
   ],
   "source": [
    "graph_dataset = generate_graph_datasets(data)\n",
    "full_train_graph_dataset, test_graph_dataset = graph_dataset.graph_train_test_split(test_ratio=0.15, random_state=42)\n"
   ]
  },
  {
   "cell_type": "code",
   "execution_count": 15,
   "id": "365fd330",
   "metadata": {},
   "outputs": [
    {
     "name": "stdout",
     "output_type": "stream",
     "text": [
      "Class Distrubution: category\n",
      "0    1926624\n",
      "1    1650260\n",
      "3      91082\n",
      "2        477\n",
      "4         79\n",
      "Name: count, dtype: int64\n",
      "Number of graphs after downsampling: 2446\n",
      "Class Counts and Weights:\n",
      "2   Normal         : Count = 477       , Weight = 1538.1644 \n",
      "3   Reconnaissance : Count = 91082     , Weight = 8.0554    \n",
      "1   DoS            : Count = 1650260   , Weight = 0.4446    \n",
      "0   DDoS           : Count = 1926624   , Weight = 0.3808    \n",
      "4   Theft          : Count = 79        , Weight = 9287.3975 \n",
      "Number of training graphs: 2079\n",
      "Class Counts and Weights:\n",
      "1   DoS            : Count = 1406941   , Weight = 0.4432    \n",
      "0   DDoS           : Count = 1629943   , Weight = 0.3826    \n",
      "3   Reconnaissance : Count = 80745     , Weight = 7.7231    \n",
      "2   Normal         : Count = 314       , Weight = 1986.0013 \n",
      "4   Theft          : Count = 79        , Weight = 7893.7266 \n",
      "Number of testing graphs: 367\n",
      "Class Counts and Weights:\n",
      "0   DDoS           : Count = 296681    , Weight = 0.4639    \n",
      "1   DoS            : Count = 243319    , Weight = 0.5656    \n",
      "3   Reconnaissance : Count = 10337     , Weight = 13.3138   \n",
      "2   Normal         : Count = 163       , Weight = 844.3252  \n"
     ]
    }
   ],
   "source": [
    "print(\"Class Distrubution:\", data[label_col].value_counts())\n",
    "\n",
    "print(\"Number of graphs after downsampling:\", len(graph_dataset))\n",
    "graph_dataset.print_class_distribution_and_weights()\n",
    "print(\"Number of training graphs:\", len(full_train_graph_dataset))\n",
    "full_train_graph_dataset.print_class_distribution_and_weights()\n",
    "print(\"Number of testing graphs:\", len(test_graph_dataset))\n",
    "test_graph_dataset.print_class_distribution_and_weights()"
   ]
  },
  {
   "cell_type": "code",
   "execution_count": 16,
   "id": "41795339-6036-468f-9b9d-2bb68d78ed7d",
   "metadata": {},
   "outputs": [],
   "source": [
    "class SAGELayerPyG(MessagePassing):\n",
    "    def __init__(self, in_channels, edge_dim, out_channels, activation=F.relu):\n",
    "        super().__init__(aggr='mean')  # mean aggregation\n",
    "        self.W_msg = nn.Linear(in_channels + edge_dim, out_channels)\n",
    "        self.W_apply = nn.Linear(in_channels + out_channels, out_channels)\n",
    "        self.activation = activation\n",
    "\n",
    "    def forward(self, x, edge_index, edge_attr):\n",
    "        # x: [num_nodes, in_channels]\n",
    "        # edge_attr: [num_edges, edge_dim]\n",
    "        return self.propagate(edge_index, x=x, edge_attr=edge_attr)\n",
    "\n",
    "    def message(self, x_j, edge_attr):\n",
    "        # x_j: features of source nodes (neighbours)\n",
    "        msg_input = th.cat([x_j, edge_attr], dim=1)\n",
    "        return self.W_msg(msg_input)\n",
    "\n",
    "    def update(self, aggr_out, x):\n",
    "        # aggr_out: [num_nodes, out_channels]\n",
    "        combined = th.cat([x, aggr_out], dim=1)\n",
    "        out = self.W_apply(combined)\n",
    "        return self.activation(out)\n",
    "    \n",
    "class MLPPredictor(nn.Module):\n",
    "    def __init__(self, in_channels, out_channels):\n",
    "        super(MLPPredictor, self).__init__()\n",
    "        self.lin = nn.Linear(in_channels * 2, out_channels)\n",
    "\n",
    "    def forward(self, data, z):\n",
    "        row, col = data.edge_index\n",
    "        # Concatenate the features of source and target nodes for each edge\n",
    "        edge_feat = th.cat([z[row], z[col]], dim=1)\n",
    "        return self.lin(edge_feat)\n",
    "\n",
    "class EGraphSAGE(nn.Module):\n",
    "    def __init__(self, node_in_channels, edge_in_channels, hidden_channels, out_channels, dropout=0.2):\n",
    "        super(EGraphSAGE, self).__init__()\n",
    "        self.dropout = dropout\n",
    "        self.conv1 = SAGELayerPyG(node_in_channels, edge_in_channels, hidden_channels)\n",
    "        self.conv2 = SAGELayerPyG(hidden_channels, edge_in_channels, hidden_channels)\n",
    "        self.mlp_predictor = MLPPredictor(hidden_channels, out_channels)\n",
    "\n",
    "    def forward(self, data):\n",
    "        x, edge_index, edge_attr = data.x, data.edge_index, data.edge_attr\n",
    "        x = F.relu(self.conv1(x, edge_index, edge_attr))\n",
    "        x = F.dropout(x, p=self.dropout)\n",
    "        x = self.conv2(x, edge_index, edge_attr)\n",
    "        return self.mlp_predictor(data, x)"
   ]
  },
  {
   "cell_type": "code",
   "execution_count": 17,
   "id": "bca25fef-29d9-40cf-8910-16b24d530693",
   "metadata": {},
   "outputs": [
    {
     "name": "stdout",
     "output_type": "stream",
     "text": [
      "cuda:0\n"
     ]
    }
   ],
   "source": [
    "device = th.device(\"cuda:0\" if th.cuda.is_available() else \"cpu\")\n",
    "print(device)"
   ]
  },
  {
   "cell_type": "code",
   "execution_count": 18,
   "id": "cccdc850-b98d-4836-b82b-67aa4b9e1e02",
   "metadata": {},
   "outputs": [],
   "source": [
    "th.cuda.empty_cache()"
   ]
  },
  {
   "cell_type": "code",
   "execution_count": 19,
   "id": "89157faf-e24b-49d6-9c90-6f71dae515b2",
   "metadata": {},
   "outputs": [],
   "source": [
    "\n",
    "\n",
    "def init_weights(m):\n",
    "    if isinstance(m, nn.Linear):\n",
    "        nn.init.xavier_uniform_(m.weight)\n",
    "        nn.init.constant_(m.bias, 0)\n",
    "\n"
   ]
  },
  {
   "cell_type": "code",
   "execution_count": 20,
   "id": "385d37f0-713b-4abc-8d7a-3e768ae9a2b2",
   "metadata": {},
   "outputs": [],
   "source": [
    "from sklearn.metrics import f1_score\n",
    "from sklearn.model_selection import StratifiedKFold\n",
    "\n",
    "def compute_accuracy(pred, labels):\n",
    "    return (pred.argmax(1) == labels).float().mean().item()\n",
    "\n",
    "def grid_search(graph_dataset, epochs, learning_rates, hidden_dims, folds=3):\n",
    "    global num_features\n",
    "    \n",
    "    best_params = {}\n",
    "    best_f1 = 0\n",
    "\n",
    "    # Precompute the train and validation graphs for all folds\n",
    "    folds_list = []\n",
    "    for i in range(folds):\n",
    "        train_graph_dataset, val_graph_dataset = graph_dataset.graph_train_test_split(test_ratio=0.15, random_state=i)\n",
    "        folds_list.append((train_graph_dataset, val_graph_dataset))\n",
    "\n",
    "    params_results = {}\n",
    "    for lr in learning_rates:\n",
    "        for hidden_dim in hidden_dims:\n",
    "            for drop_out in drop_outs:\n",
    "                print(f\"Testing with learning rate: {lr}, hidden_dim: {hidden_dim}\")\n",
    "                fold_f1_scores = []\n",
    "\n",
    "                for fold, (train_graph_dataset, val_graph_dataset) in enumerate(folds_list):\n",
    "                    print(f\"Fold {fold + 1}\")\n",
    "\n",
    "                    model = EGraphSAGE(node_in_channels=num_features,\n",
    "                                    edge_in_channels=num_features,\n",
    "                                    hidden_channels=hidden_dim,\n",
    "                                    dropout = drop_out,\n",
    "                                    out_channels=num_classes).to(device)\n",
    "\n",
    "                    model.apply(init_weights)\n",
    "\n",
    "                    # Normalize to stabilize training\n",
    "                    class_weights = th.FloatTensor(train_graph_dataset.class_weights).to(device)\n",
    "                    print(\"Class weights:\", class_weights)\n",
    "\n",
    "                    criterion = nn.CrossEntropyLoss(weight=class_weights)\n",
    "                    optimizer = th.optim.Adam(model.parameters(), lr=lr)\n",
    "                    scheduler = th.optim.lr_scheduler.CosineAnnealingLR(optimizer, T_max=epochs, eta_min=1e-6)\n",
    "\n",
    "                    best_epoch_f1 = 0  # Track the best F1 score for this fold\n",
    "\n",
    "                    for epoch in range(epochs):\n",
    "                        try:\n",
    "                            total_train_loss = 0\n",
    "                            total_val_loss = 0\n",
    "\n",
    "                            model.train()\n",
    "                            for G_pyg_train in tqdm(train_graph_dataset, desc=\"Training\", leave=False):\n",
    "                                G_pyg_train = G_pyg_train.to(device)\n",
    "\n",
    "                                G_pyg_train.edge_label = G_pyg_train.edge_label.to(device)\n",
    "                                G_pyg_train.edge_attr = G_pyg_train.edge_attr.to(device)\n",
    "                                \n",
    "                                out = model(G_pyg_train)\n",
    "                                loss = criterion(out, G_pyg_train.edge_label)\n",
    "                                total_train_loss += loss.item()\n",
    "\n",
    "                                optimizer.zero_grad()\n",
    "                                loss.backward()\n",
    "\n",
    "                                optimizer.step()\n",
    "                                scheduler.step()\n",
    "                            \n",
    "                            model.eval()\n",
    "\n",
    "                            test_label_list = []\n",
    "                            pred_label_list = []\n",
    "\n",
    "                            with th.no_grad():\n",
    "                                for G_pyg_val in tqdm(val_graph_dataset, desc=\"Validation\", leave=False):\n",
    "\n",
    "                                    G_pyg_val.to(device)\n",
    "                                    G_pyg_val.edge_label = G_pyg_val.edge_label.to(device)\n",
    "                                    G_pyg_val.edge_attr = G_pyg_val.edge_attr.to(device)\n",
    "\n",
    "                                    out = model(G_pyg_val)\n",
    "                                    loss = criterion(out, G_pyg_val.edge_label)\n",
    "                                    total_val_loss += loss.item()\n",
    "\n",
    "                            test_label = th.cat(test_label_list)\n",
    "                            pred_label = th.cat(pred_label_list)\n",
    "\n",
    "                            val_f1 = f1_score(test_label.cpu(), pred_label.cpu(), average='weighted')\n",
    "\n",
    "                            if val_f1 > best_epoch_f1:\n",
    "                                best_epoch_f1 = val_f1  # Update the best F1 score for this fold\n",
    "                                print(f\"Best F1 Score at epoch {epoch}: {best_epoch_f1:.4f}, Train Loss: {total_train_loss:.4f}, Validation Loss: {total_val_loss:.4f}, Parameters: lr={lr}, hidden_dim={hidden_dim}, drop_out={drop_out}\")\n",
    "\n",
    "                            print(f'Epoch {epoch}, Train Loss: {total_train_loss:.4f}, Validation Loss: {total_val_loss:.4f}, Validation F1: {avg_f1:.4f}')\n",
    "\n",
    "                        except Exception as e:\n",
    "                            print(f\"An error occurred at epoch {epoch}: {str(e)}\")\n",
    "                            break\n",
    "\n",
    "                    fold_f1_scores.append(best_epoch_f1)  # Append the best F1 score for this fold\n",
    "                \n",
    "                avg_f1 = sum(fold_f1_scores) / len(fold_f1_scores)\n",
    "                params_results[(drop_out, lr, hidden_dim)] = {'folds': fold_f1_scores, 'avg_f1': avg_f1}\n",
    "                print(f\"Average F1 Score for drop_out {drop_out}, learning rate {lr}, hidden_dim {hidden_dim}: {avg_f1:.4f}\")\n",
    "\n",
    "                if avg_f1 > best_f1:\n",
    "                    best_f1 = avg_f1\n",
    "                    best_params = {'learning_rate': lr, 'hidden_dim': hidden_dim, 'drop_out': drop_out}\n",
    "\n",
    "    print(f\"Best Parameters: {best_params}, Best F1 Score: {best_f1:.4f}\")\n",
    "    print(\"All results:\", params_results)\n",
    "\n",
    "\n",
    "learning_rates = [0.001, 0.005, 0.01, 0.05]\n",
    "hidden_dims = [128, 256, 512]\n",
    "drop_outs = [0.2, 0.3, 0.4]\n",
    "\n",
    "# grid_search(full_train_graph_dataset, epochs=10, learning_rates=learning_rates, hidden_dims=hidden_dims, drop_outs=drop_outs)\n"
   ]
  },
  {
   "cell_type": "code",
   "execution_count": 21,
   "id": "b158d936",
   "metadata": {},
   "outputs": [],
   "source": [
    "train_graph_dataset, val_graph_dataset = full_train_graph_dataset.graph_train_test_split(test_ratio=0.15, random_state=42)"
   ]
  },
  {
   "cell_type": "code",
   "execution_count": 22,
   "id": "c6ec4a82",
   "metadata": {},
   "outputs": [],
   "source": [
    "import pickle\n",
    "\n",
    "def save_progress(epoch, model, optimizer, best_f1, train_loss_history, val_loss_history, val_f1_history, saved_model_epochs):\n",
    "    global checkpoint_path, train_loss_history_path, val_loss_history_path, val_f1_history_path, saved_model_epochs_path\n",
    "\n",
    "    # Save checkpoint\n",
    "    th.save({\n",
    "        'epoch': epoch,\n",
    "        'model_state_dict': model.state_dict(),\n",
    "        'optimizer_state_dict': optimizer.state_dict(),\n",
    "        'best_f1': best_f1\n",
    "    }, checkpoint_path)\n",
    "    with open(train_loss_history_path, 'wb') as f:\n",
    "        pickle.dump(train_loss_history, f)\n",
    "    with open(val_loss_history_path, 'wb') as f:\n",
    "        pickle.dump(val_loss_history, f)\n",
    "    with open(val_f1_history_path, 'wb') as f:\n",
    "        pickle.dump(val_f1_history, f)\n",
    "    with open(saved_model_epochs_path, 'wb') as f:\n",
    "        pickle.dump(saved_model_epochs, f)"
   ]
  },
  {
   "cell_type": "code",
   "execution_count": 35,
   "id": "f52b2fbf",
   "metadata": {},
   "outputs": [
    {
     "name": "stdout",
     "output_type": "stream",
     "text": [
      "Number of train graphs:  1767\n",
      "Class weights: tensor([3.8505e-01, 4.3840e-01, 2.0463e+03, 8.2427e+00, 6.7089e+03],\n",
      "       device='cuda:0')\n",
      "Resumed training from epoch 16\n"
     ]
    },
    {
     "name": "stderr",
     "output_type": "stream",
     "text": [
      "Training:   0%|          | 0/1767 [00:00<?, ?it/s]"
     ]
    },
    {
     "name": "stderr",
     "output_type": "stream",
     "text": [
      "                                                              \r"
     ]
    },
    {
     "name": "stdout",
     "output_type": "stream",
     "text": [
      "Epoch 18 Saved best model. Best F1: 0.8956366233805122\n"
     ]
    },
    {
     "name": "stderr",
     "output_type": "stream",
     "text": [
      "                                                              \r"
     ]
    },
    {
     "name": "stdout",
     "output_type": "stream",
     "text": [
      "Epoch 20 Saved best model. Best F1: 0.9131219215016471\n",
      "Epoch 20, Train Loss: 0.2019, Validation Loss: 1.4680, Validation F1: 0.9131\n"
     ]
    },
    {
     "name": "stderr",
     "output_type": "stream",
     "text": [
      "                                                              \r"
     ]
    },
    {
     "name": "stdout",
     "output_type": "stream",
     "text": [
      "Epoch 21 Saved best model. Best F1: 0.9236327912732344\n"
     ]
    },
    {
     "name": "stderr",
     "output_type": "stream",
     "text": [
      "                                                              \r"
     ]
    },
    {
     "name": "stdout",
     "output_type": "stream",
     "text": [
      "Epoch 22 Saved best model. Best F1: 0.9274755274003779\n"
     ]
    },
    {
     "name": "stderr",
     "output_type": "stream",
     "text": [
      "                                                              \r"
     ]
    },
    {
     "name": "stdout",
     "output_type": "stream",
     "text": [
      "Epoch 23 Saved best model. Best F1: 0.9419676801584284\n"
     ]
    },
    {
     "name": "stderr",
     "output_type": "stream",
     "text": [
      "                                                              \r"
     ]
    },
    {
     "name": "stdout",
     "output_type": "stream",
     "text": [
      "Epoch 26 Saved best model. Best F1: 0.9559210998120268\n"
     ]
    },
    {
     "name": "stderr",
     "output_type": "stream",
     "text": [
      "                                                              \r"
     ]
    },
    {
     "name": "stdout",
     "output_type": "stream",
     "text": [
      "Epoch 28 Saved best model. Best F1: 0.9616124960488993\n"
     ]
    },
    {
     "name": "stderr",
     "output_type": "stream",
     "text": [
      "                                                              \r"
     ]
    },
    {
     "name": "stdout",
     "output_type": "stream",
     "text": [
      "Epoch 29 Saved best model. Best F1: 0.9768662321868146\n"
     ]
    },
    {
     "name": "stderr",
     "output_type": "stream",
     "text": [
      "                                                              \r"
     ]
    },
    {
     "name": "stdout",
     "output_type": "stream",
     "text": [
      "Epoch 30, Train Loss: 0.0664, Validation Loss: 1.2787, Validation F1: 0.9665\n"
     ]
    },
    {
     "name": "stderr",
     "output_type": "stream",
     "text": [
      "                                                              \r"
     ]
    },
    {
     "name": "stdout",
     "output_type": "stream",
     "text": [
      "Epoch 31 Saved best model. Best F1: 0.9794361789913202\n"
     ]
    },
    {
     "name": "stderr",
     "output_type": "stream",
     "text": [
      "                                                              \r"
     ]
    },
    {
     "name": "stdout",
     "output_type": "stream",
     "text": [
      "Epoch 33 Saved best model. Best F1: 0.9815586000338\n"
     ]
    },
    {
     "name": "stderr",
     "output_type": "stream",
     "text": [
      "                                                              \r"
     ]
    },
    {
     "name": "stdout",
     "output_type": "stream",
     "text": [
      "Epoch 35 Saved best model. Best F1: 0.9876038590076439\n"
     ]
    },
    {
     "name": "stderr",
     "output_type": "stream",
     "text": [
      "                                                              \r"
     ]
    },
    {
     "name": "stdout",
     "output_type": "stream",
     "text": [
      "Epoch 36 Saved best model. Best F1: 0.99122934991847\n"
     ]
    },
    {
     "name": "stderr",
     "output_type": "stream",
     "text": [
      "                                                              \r"
     ]
    },
    {
     "name": "stdout",
     "output_type": "stream",
     "text": [
      "Epoch 40, Train Loss: 0.0458, Validation Loss: 2.0795, Validation F1: 0.9852\n"
     ]
    },
    {
     "name": "stderr",
     "output_type": "stream",
     "text": [
      "                                                              \r"
     ]
    },
    {
     "name": "stdout",
     "output_type": "stream",
     "text": [
      "Epoch 41 Saved best model. Best F1: 0.9929919847343328\n"
     ]
    },
    {
     "name": "stderr",
     "output_type": "stream",
     "text": [
      "                                                              \r"
     ]
    },
    {
     "name": "stdout",
     "output_type": "stream",
     "text": [
      "Epoch 49 Saved best model. Best F1: 0.9931216894605237\n"
     ]
    },
    {
     "name": "stderr",
     "output_type": "stream",
     "text": [
      "                                                              \r"
     ]
    },
    {
     "name": "stdout",
     "output_type": "stream",
     "text": [
      "Epoch 50, Train Loss: 0.0290, Validation Loss: 3.6496, Validation F1: 0.9879\n"
     ]
    },
    {
     "name": "stderr",
     "output_type": "stream",
     "text": [
      "                                                              \r"
     ]
    },
    {
     "name": "stdout",
     "output_type": "stream",
     "text": [
      "Epoch 60, Train Loss: 0.0241, Validation Loss: 1.4284, Validation F1: 0.9886\n"
     ]
    },
    {
     "name": "stderr",
     "output_type": "stream",
     "text": [
      "                                                              \r"
     ]
    },
    {
     "name": "stdout",
     "output_type": "stream",
     "text": [
      "Epoch 63 Saved best model. Best F1: 0.9937384616162762\n"
     ]
    },
    {
     "name": "stderr",
     "output_type": "stream",
     "text": [
      "                                                              \r"
     ]
    },
    {
     "name": "stdout",
     "output_type": "stream",
     "text": [
      "Epoch 64 Saved best model. Best F1: 0.9964579192686627\n"
     ]
    },
    {
     "name": "stderr",
     "output_type": "stream",
     "text": [
      "                                                              \r"
     ]
    },
    {
     "name": "stdout",
     "output_type": "stream",
     "text": [
      "Epoch 70, Train Loss: 0.0143, Validation Loss: 2.7200, Validation F1: 0.9942\n"
     ]
    },
    {
     "name": "stderr",
     "output_type": "stream",
     "text": [
      "                                                              \r"
     ]
    },
    {
     "name": "stdout",
     "output_type": "stream",
     "text": [
      "Epoch 71 Saved best model. Best F1: 0.996898721356327\n"
     ]
    },
    {
     "name": "stderr",
     "output_type": "stream",
     "text": [
      "                                                              \r"
     ]
    },
    {
     "name": "stdout",
     "output_type": "stream",
     "text": [
      "Epoch 79 Saved best model. Best F1: 0.9991881179953862\n"
     ]
    },
    {
     "name": "stderr",
     "output_type": "stream",
     "text": [
      "                                                              \r"
     ]
    },
    {
     "name": "stdout",
     "output_type": "stream",
     "text": [
      "Epoch 80, Train Loss: 0.0115, Validation Loss: 3.2224, Validation F1: 0.9963\n"
     ]
    },
    {
     "name": "stderr",
     "output_type": "stream",
     "text": [
      "                                                              \r"
     ]
    },
    {
     "name": "stdout",
     "output_type": "stream",
     "text": [
      "Epoch 86 Saved best model. Best F1: 0.9993922931365161\n"
     ]
    },
    {
     "name": "stderr",
     "output_type": "stream",
     "text": [
      "                                                              \r"
     ]
    },
    {
     "name": "stdout",
     "output_type": "stream",
     "text": [
      "Epoch 90, Train Loss: 0.0087, Validation Loss: 1.2172, Validation F1: 0.9970\n"
     ]
    },
    {
     "name": "stderr",
     "output_type": "stream",
     "text": [
      "                                                              \r"
     ]
    },
    {
     "name": "stdout",
     "output_type": "stream",
     "text": [
      "Epoch 91 Saved best model. Best F1: 0.9995595913145591\n"
     ]
    },
    {
     "name": "stderr",
     "output_type": "stream",
     "text": [
      "                                                              \r"
     ]
    },
    {
     "name": "stdout",
     "output_type": "stream",
     "text": [
      "Epoch 94 Saved best model. Best F1: 0.9996342322015918\n"
     ]
    },
    {
     "name": "stderr",
     "output_type": "stream",
     "text": [
      "                                                              \r"
     ]
    },
    {
     "name": "stdout",
     "output_type": "stream",
     "text": [
      "Epoch 100, Train Loss: 0.0078, Validation Loss: 2.0069, Validation F1: 0.9968\n"
     ]
    },
    {
     "name": "stderr",
     "output_type": "stream",
     "text": [
      "                                                              \r"
     ]
    },
    {
     "name": "stdout",
     "output_type": "stream",
     "text": [
      "Epoch 107 Saved best model. Best F1: 0.9996805471471201\n"
     ]
    },
    {
     "name": "stderr",
     "output_type": "stream",
     "text": [
      "                                                              \r"
     ]
    },
    {
     "name": "stdout",
     "output_type": "stream",
     "text": [
      "Epoch 110, Train Loss: 0.0073, Validation Loss: 1.4854, Validation F1: 0.9964\n"
     ]
    },
    {
     "name": "stderr",
     "output_type": "stream",
     "text": [
      "                                                              \r"
     ]
    },
    {
     "name": "stdout",
     "output_type": "stream",
     "text": [
      "Epoch 120, Train Loss: 0.0148, Validation Loss: 2.0417, Validation F1: 0.9989\n"
     ]
    },
    {
     "name": "stderr",
     "output_type": "stream",
     "text": [
      "                                                              \r"
     ]
    },
    {
     "name": "stdout",
     "output_type": "stream",
     "text": [
      "Epoch 130, Train Loss: 0.0080, Validation Loss: 3.2290, Validation F1: 0.9970\n"
     ]
    },
    {
     "name": "stderr",
     "output_type": "stream",
     "text": [
      "                                                              \r"
     ]
    },
    {
     "name": "stdout",
     "output_type": "stream",
     "text": [
      "Epoch 133 Saved best model. Best F1: 0.9996871730732202\n"
     ]
    },
    {
     "name": "stderr",
     "output_type": "stream",
     "text": [
      "                                                              \r"
     ]
    },
    {
     "ename": "KeyboardInterrupt",
     "evalue": "",
     "output_type": "error",
     "traceback": [
      "\u001b[31m---------------------------------------------------------------------------\u001b[39m",
      "\u001b[31mKeyboardInterrupt\u001b[39m                         Traceback (most recent call last)",
      "\u001b[36mCell\u001b[39m\u001b[36m \u001b[39m\u001b[32mIn[35]\u001b[39m\u001b[32m, line 80\u001b[39m\n\u001b[32m     77\u001b[39m G_pyg_train.edge_label = G_pyg_train.edge_label.to(device)\n\u001b[32m     78\u001b[39m G_pyg_train.edge_attr = G_pyg_train.edge_attr.to(device)\n\u001b[32m---> \u001b[39m\u001b[32m80\u001b[39m out = \u001b[43mmodel\u001b[49m\u001b[43m(\u001b[49m\u001b[43mG_pyg_train\u001b[49m\u001b[43m)\u001b[49m\n\u001b[32m     81\u001b[39m loss = criterion(out, G_pyg_train.edge_label) / num_train_graphs\n\u001b[32m     83\u001b[39m train_loss += loss.item()\n",
      "\u001b[36mFile \u001b[39m\u001b[32m/vol/bitbucket/shc20/FYP/GNN-Adversarial-Attack/.venv/lib/python3.12/site-packages/torch/nn/modules/module.py:1751\u001b[39m, in \u001b[36mModule._wrapped_call_impl\u001b[39m\u001b[34m(self, *args, **kwargs)\u001b[39m\n\u001b[32m   1749\u001b[39m     \u001b[38;5;28;01mreturn\u001b[39;00m \u001b[38;5;28mself\u001b[39m._compiled_call_impl(*args, **kwargs)  \u001b[38;5;66;03m# type: ignore[misc]\u001b[39;00m\n\u001b[32m   1750\u001b[39m \u001b[38;5;28;01melse\u001b[39;00m:\n\u001b[32m-> \u001b[39m\u001b[32m1751\u001b[39m     \u001b[38;5;28;01mreturn\u001b[39;00m \u001b[38;5;28;43mself\u001b[39;49m\u001b[43m.\u001b[49m\u001b[43m_call_impl\u001b[49m\u001b[43m(\u001b[49m\u001b[43m*\u001b[49m\u001b[43margs\u001b[49m\u001b[43m,\u001b[49m\u001b[43m \u001b[49m\u001b[43m*\u001b[49m\u001b[43m*\u001b[49m\u001b[43mkwargs\u001b[49m\u001b[43m)\u001b[49m\n",
      "\u001b[36mFile \u001b[39m\u001b[32m/vol/bitbucket/shc20/FYP/GNN-Adversarial-Attack/.venv/lib/python3.12/site-packages/torch/nn/modules/module.py:1762\u001b[39m, in \u001b[36mModule._call_impl\u001b[39m\u001b[34m(self, *args, **kwargs)\u001b[39m\n\u001b[32m   1757\u001b[39m \u001b[38;5;66;03m# If we don't have any hooks, we want to skip the rest of the logic in\u001b[39;00m\n\u001b[32m   1758\u001b[39m \u001b[38;5;66;03m# this function, and just call forward.\u001b[39;00m\n\u001b[32m   1759\u001b[39m \u001b[38;5;28;01mif\u001b[39;00m \u001b[38;5;129;01mnot\u001b[39;00m (\u001b[38;5;28mself\u001b[39m._backward_hooks \u001b[38;5;129;01mor\u001b[39;00m \u001b[38;5;28mself\u001b[39m._backward_pre_hooks \u001b[38;5;129;01mor\u001b[39;00m \u001b[38;5;28mself\u001b[39m._forward_hooks \u001b[38;5;129;01mor\u001b[39;00m \u001b[38;5;28mself\u001b[39m._forward_pre_hooks\n\u001b[32m   1760\u001b[39m         \u001b[38;5;129;01mor\u001b[39;00m _global_backward_pre_hooks \u001b[38;5;129;01mor\u001b[39;00m _global_backward_hooks\n\u001b[32m   1761\u001b[39m         \u001b[38;5;129;01mor\u001b[39;00m _global_forward_hooks \u001b[38;5;129;01mor\u001b[39;00m _global_forward_pre_hooks):\n\u001b[32m-> \u001b[39m\u001b[32m1762\u001b[39m     \u001b[38;5;28;01mreturn\u001b[39;00m \u001b[43mforward_call\u001b[49m\u001b[43m(\u001b[49m\u001b[43m*\u001b[49m\u001b[43margs\u001b[49m\u001b[43m,\u001b[49m\u001b[43m \u001b[49m\u001b[43m*\u001b[49m\u001b[43m*\u001b[49m\u001b[43mkwargs\u001b[49m\u001b[43m)\u001b[49m\n\u001b[32m   1764\u001b[39m result = \u001b[38;5;28;01mNone\u001b[39;00m\n\u001b[32m   1765\u001b[39m called_always_called_hooks = \u001b[38;5;28mset\u001b[39m()\n",
      "\u001b[36mCell\u001b[39m\u001b[36m \u001b[39m\u001b[32mIn[16]\u001b[39m\u001b[32m, line 47\u001b[39m, in \u001b[36mEGraphSAGE.forward\u001b[39m\u001b[34m(self, data)\u001b[39m\n\u001b[32m     45\u001b[39m x = F.relu(\u001b[38;5;28mself\u001b[39m.conv1(x, edge_index, edge_attr))\n\u001b[32m     46\u001b[39m x = F.dropout(x, p=\u001b[38;5;28mself\u001b[39m.dropout)\n\u001b[32m---> \u001b[39m\u001b[32m47\u001b[39m x = \u001b[38;5;28;43mself\u001b[39;49m\u001b[43m.\u001b[49m\u001b[43mconv2\u001b[49m\u001b[43m(\u001b[49m\u001b[43mx\u001b[49m\u001b[43m,\u001b[49m\u001b[43m \u001b[49m\u001b[43medge_index\u001b[49m\u001b[43m,\u001b[49m\u001b[43m \u001b[49m\u001b[43medge_attr\u001b[49m\u001b[43m)\u001b[49m\n\u001b[32m     48\u001b[39m \u001b[38;5;28;01mreturn\u001b[39;00m \u001b[38;5;28mself\u001b[39m.mlp_predictor(data, x)\n",
      "\u001b[36mFile \u001b[39m\u001b[32m/vol/bitbucket/shc20/FYP/GNN-Adversarial-Attack/.venv/lib/python3.12/site-packages/torch/nn/modules/module.py:1751\u001b[39m, in \u001b[36mModule._wrapped_call_impl\u001b[39m\u001b[34m(self, *args, **kwargs)\u001b[39m\n\u001b[32m   1749\u001b[39m     \u001b[38;5;28;01mreturn\u001b[39;00m \u001b[38;5;28mself\u001b[39m._compiled_call_impl(*args, **kwargs)  \u001b[38;5;66;03m# type: ignore[misc]\u001b[39;00m\n\u001b[32m   1750\u001b[39m \u001b[38;5;28;01melse\u001b[39;00m:\n\u001b[32m-> \u001b[39m\u001b[32m1751\u001b[39m     \u001b[38;5;28;01mreturn\u001b[39;00m \u001b[38;5;28;43mself\u001b[39;49m\u001b[43m.\u001b[49m\u001b[43m_call_impl\u001b[49m\u001b[43m(\u001b[49m\u001b[43m*\u001b[49m\u001b[43margs\u001b[49m\u001b[43m,\u001b[49m\u001b[43m \u001b[49m\u001b[43m*\u001b[49m\u001b[43m*\u001b[49m\u001b[43mkwargs\u001b[49m\u001b[43m)\u001b[49m\n",
      "\u001b[36mFile \u001b[39m\u001b[32m/vol/bitbucket/shc20/FYP/GNN-Adversarial-Attack/.venv/lib/python3.12/site-packages/torch/nn/modules/module.py:1762\u001b[39m, in \u001b[36mModule._call_impl\u001b[39m\u001b[34m(self, *args, **kwargs)\u001b[39m\n\u001b[32m   1757\u001b[39m \u001b[38;5;66;03m# If we don't have any hooks, we want to skip the rest of the logic in\u001b[39;00m\n\u001b[32m   1758\u001b[39m \u001b[38;5;66;03m# this function, and just call forward.\u001b[39;00m\n\u001b[32m   1759\u001b[39m \u001b[38;5;28;01mif\u001b[39;00m \u001b[38;5;129;01mnot\u001b[39;00m (\u001b[38;5;28mself\u001b[39m._backward_hooks \u001b[38;5;129;01mor\u001b[39;00m \u001b[38;5;28mself\u001b[39m._backward_pre_hooks \u001b[38;5;129;01mor\u001b[39;00m \u001b[38;5;28mself\u001b[39m._forward_hooks \u001b[38;5;129;01mor\u001b[39;00m \u001b[38;5;28mself\u001b[39m._forward_pre_hooks\n\u001b[32m   1760\u001b[39m         \u001b[38;5;129;01mor\u001b[39;00m _global_backward_pre_hooks \u001b[38;5;129;01mor\u001b[39;00m _global_backward_hooks\n\u001b[32m   1761\u001b[39m         \u001b[38;5;129;01mor\u001b[39;00m _global_forward_hooks \u001b[38;5;129;01mor\u001b[39;00m _global_forward_pre_hooks):\n\u001b[32m-> \u001b[39m\u001b[32m1762\u001b[39m     \u001b[38;5;28;01mreturn\u001b[39;00m \u001b[43mforward_call\u001b[49m\u001b[43m(\u001b[49m\u001b[43m*\u001b[49m\u001b[43margs\u001b[49m\u001b[43m,\u001b[49m\u001b[43m \u001b[49m\u001b[43m*\u001b[49m\u001b[43m*\u001b[49m\u001b[43mkwargs\u001b[49m\u001b[43m)\u001b[49m\n\u001b[32m   1764\u001b[39m result = \u001b[38;5;28;01mNone\u001b[39;00m\n\u001b[32m   1765\u001b[39m called_always_called_hooks = \u001b[38;5;28mset\u001b[39m()\n",
      "\u001b[36mCell\u001b[39m\u001b[36m \u001b[39m\u001b[32mIn[16]\u001b[39m\u001b[32m, line 11\u001b[39m, in \u001b[36mSAGELayerPyG.forward\u001b[39m\u001b[34m(self, x, edge_index, edge_attr)\u001b[39m\n\u001b[32m      8\u001b[39m \u001b[38;5;28;01mdef\u001b[39;00m\u001b[38;5;250m \u001b[39m\u001b[34mforward\u001b[39m(\u001b[38;5;28mself\u001b[39m, x, edge_index, edge_attr):\n\u001b[32m      9\u001b[39m     \u001b[38;5;66;03m# x: [num_nodes, in_channels]\u001b[39;00m\n\u001b[32m     10\u001b[39m     \u001b[38;5;66;03m# edge_attr: [num_edges, edge_dim]\u001b[39;00m\n\u001b[32m---> \u001b[39m\u001b[32m11\u001b[39m     \u001b[38;5;28;01mreturn\u001b[39;00m \u001b[38;5;28;43mself\u001b[39;49m\u001b[43m.\u001b[49m\u001b[43mpropagate\u001b[49m\u001b[43m(\u001b[49m\u001b[43medge_index\u001b[49m\u001b[43m,\u001b[49m\u001b[43m \u001b[49m\u001b[43mx\u001b[49m\u001b[43m=\u001b[49m\u001b[43mx\u001b[49m\u001b[43m,\u001b[49m\u001b[43m \u001b[49m\u001b[43medge_attr\u001b[49m\u001b[43m=\u001b[49m\u001b[43medge_attr\u001b[49m\u001b[43m)\u001b[49m\n",
      "\u001b[36mFile \u001b[39m\u001b[32m/vol/bitbucket/shc20/FYP/GNN-Adversarial-Attack/.venv/lib/python3.12/site-packages/torch_geometric/nn/conv/message_passing.py:541\u001b[39m, in \u001b[36mMessagePassing.propagate\u001b[39m\u001b[34m(self, edge_index, size, **kwargs)\u001b[39m\n\u001b[32m    538\u001b[39m     \u001b[38;5;28;01mif\u001b[39;00m res \u001b[38;5;129;01mis\u001b[39;00m \u001b[38;5;129;01mnot\u001b[39;00m \u001b[38;5;28;01mNone\u001b[39;00m:\n\u001b[32m    539\u001b[39m         aggr_kwargs = res[\u001b[32m0\u001b[39m] \u001b[38;5;28;01mif\u001b[39;00m \u001b[38;5;28misinstance\u001b[39m(res, \u001b[38;5;28mtuple\u001b[39m) \u001b[38;5;28;01melse\u001b[39;00m res\n\u001b[32m--> \u001b[39m\u001b[32m541\u001b[39m out = \u001b[38;5;28;43mself\u001b[39;49m\u001b[43m.\u001b[49m\u001b[43maggregate\u001b[49m\u001b[43m(\u001b[49m\u001b[43mout\u001b[49m\u001b[43m,\u001b[49m\u001b[43m \u001b[49m\u001b[43m*\u001b[49m\u001b[43m*\u001b[49m\u001b[43maggr_kwargs\u001b[49m\u001b[43m)\u001b[49m\n\u001b[32m    543\u001b[39m \u001b[38;5;28;01mfor\u001b[39;00m hook \u001b[38;5;129;01min\u001b[39;00m \u001b[38;5;28mself\u001b[39m._aggregate_forward_hooks.values():\n\u001b[32m    544\u001b[39m     res = hook(\u001b[38;5;28mself\u001b[39m, (aggr_kwargs, ), out)\n",
      "\u001b[36mFile \u001b[39m\u001b[32m/vol/bitbucket/shc20/FYP/GNN-Adversarial-Attack/.venv/lib/python3.12/site-packages/torch_geometric/nn/conv/message_passing.py:594\u001b[39m, in \u001b[36mMessagePassing.aggregate\u001b[39m\u001b[34m(self, inputs, index, ptr, dim_size)\u001b[39m\n\u001b[32m    577\u001b[39m \u001b[38;5;28;01mdef\u001b[39;00m\u001b[38;5;250m \u001b[39m\u001b[34maggregate\u001b[39m(\n\u001b[32m    578\u001b[39m     \u001b[38;5;28mself\u001b[39m,\n\u001b[32m    579\u001b[39m     inputs: Tensor,\n\u001b[32m   (...)\u001b[39m\u001b[32m    582\u001b[39m     dim_size: Optional[\u001b[38;5;28mint\u001b[39m] = \u001b[38;5;28;01mNone\u001b[39;00m,\n\u001b[32m    583\u001b[39m ) -> Tensor:\n\u001b[32m    584\u001b[39m \u001b[38;5;250m    \u001b[39m\u001b[33mr\u001b[39m\u001b[33;03m\"\"\"Aggregates messages from neighbors as\u001b[39;00m\n\u001b[32m    585\u001b[39m \u001b[33;03m    :math:`\\bigoplus_{j \\in \\mathcal{N}(i)}`.\u001b[39;00m\n\u001b[32m    586\u001b[39m \n\u001b[32m   (...)\u001b[39m\u001b[32m    592\u001b[39m \u001b[33;03m    as specified in :meth:`__init__` by the :obj:`aggr` argument.\u001b[39;00m\n\u001b[32m    593\u001b[39m \u001b[33;03m    \"\"\"\u001b[39;00m\n\u001b[32m--> \u001b[39m\u001b[32m594\u001b[39m     \u001b[38;5;28;01mreturn\u001b[39;00m \u001b[38;5;28;43mself\u001b[39;49m\u001b[43m.\u001b[49m\u001b[43maggr_module\u001b[49m\u001b[43m(\u001b[49m\u001b[43minputs\u001b[49m\u001b[43m,\u001b[49m\u001b[43m \u001b[49m\u001b[43mindex\u001b[49m\u001b[43m,\u001b[49m\u001b[43m \u001b[49m\u001b[43mptr\u001b[49m\u001b[43m=\u001b[49m\u001b[43mptr\u001b[49m\u001b[43m,\u001b[49m\u001b[43m \u001b[49m\u001b[43mdim_size\u001b[49m\u001b[43m=\u001b[49m\u001b[43mdim_size\u001b[49m\u001b[43m,\u001b[49m\n\u001b[32m    595\u001b[39m \u001b[43m                            \u001b[49m\u001b[43mdim\u001b[49m\u001b[43m=\u001b[49m\u001b[38;5;28;43mself\u001b[39;49m\u001b[43m.\u001b[49m\u001b[43mnode_dim\u001b[49m\u001b[43m)\u001b[49m\n",
      "\u001b[36mFile \u001b[39m\u001b[32m/vol/bitbucket/shc20/FYP/GNN-Adversarial-Attack/.venv/lib/python3.12/site-packages/torch_geometric/experimental.py:117\u001b[39m, in \u001b[36mdisable_dynamic_shapes.<locals>.decorator.<locals>.wrapper\u001b[39m\u001b[34m(*args, **kwargs)\u001b[39m\n\u001b[32m    114\u001b[39m \u001b[38;5;129m@functools\u001b[39m.wraps(func)\n\u001b[32m    115\u001b[39m \u001b[38;5;28;01mdef\u001b[39;00m\u001b[38;5;250m \u001b[39m\u001b[34mwrapper\u001b[39m(*args: Any, **kwargs: Any) -> Any:\n\u001b[32m    116\u001b[39m     \u001b[38;5;28;01mif\u001b[39;00m \u001b[38;5;129;01mnot\u001b[39;00m is_experimental_mode_enabled(\u001b[33m'\u001b[39m\u001b[33mdisable_dynamic_shapes\u001b[39m\u001b[33m'\u001b[39m):\n\u001b[32m--> \u001b[39m\u001b[32m117\u001b[39m         \u001b[38;5;28;01mreturn\u001b[39;00m \u001b[43mfunc\u001b[49m\u001b[43m(\u001b[49m\u001b[43m*\u001b[49m\u001b[43margs\u001b[49m\u001b[43m,\u001b[49m\u001b[43m \u001b[49m\u001b[43m*\u001b[49m\u001b[43m*\u001b[49m\u001b[43mkwargs\u001b[49m\u001b[43m)\u001b[49m\n\u001b[32m    119\u001b[39m     \u001b[38;5;28;01mfor\u001b[39;00m required_arg \u001b[38;5;129;01min\u001b[39;00m required_args:\n\u001b[32m    120\u001b[39m         index = required_args_pos[required_arg]\n",
      "\u001b[36mFile \u001b[39m\u001b[32m/vol/bitbucket/shc20/FYP/GNN-Adversarial-Attack/.venv/lib/python3.12/site-packages/torch_geometric/nn/aggr/base.py:131\u001b[39m, in \u001b[36mAggregation.__call__\u001b[39m\u001b[34m(self, x, index, ptr, dim_size, dim, **kwargs)\u001b[39m\n\u001b[32m    128\u001b[39m     dim_size = \u001b[38;5;28mint\u001b[39m(index.max()) + \u001b[32m1\u001b[39m \u001b[38;5;28;01mif\u001b[39;00m index.numel() > \u001b[32m0\u001b[39m \u001b[38;5;28;01melse\u001b[39;00m \u001b[32m0\u001b[39m\n\u001b[32m    130\u001b[39m \u001b[38;5;28;01mtry\u001b[39;00m:\n\u001b[32m--> \u001b[39m\u001b[32m131\u001b[39m     \u001b[38;5;28;01mreturn\u001b[39;00m \u001b[38;5;28;43msuper\u001b[39;49m\u001b[43m(\u001b[49m\u001b[43m)\u001b[49m\u001b[43m.\u001b[49m\u001b[34;43m__call__\u001b[39;49m\u001b[43m(\u001b[49m\u001b[43mx\u001b[49m\u001b[43m,\u001b[49m\u001b[43m \u001b[49m\u001b[43mindex\u001b[49m\u001b[43m=\u001b[49m\u001b[43mindex\u001b[49m\u001b[43m,\u001b[49m\u001b[43m \u001b[49m\u001b[43mptr\u001b[49m\u001b[43m=\u001b[49m\u001b[43mptr\u001b[49m\u001b[43m,\u001b[49m\u001b[43m \u001b[49m\u001b[43mdim_size\u001b[49m\u001b[43m=\u001b[49m\u001b[43mdim_size\u001b[49m\u001b[43m,\u001b[49m\n\u001b[32m    132\u001b[39m \u001b[43m                            \u001b[49m\u001b[43mdim\u001b[49m\u001b[43m=\u001b[49m\u001b[43mdim\u001b[49m\u001b[43m,\u001b[49m\u001b[43m \u001b[49m\u001b[43m*\u001b[49m\u001b[43m*\u001b[49m\u001b[43mkwargs\u001b[49m\u001b[43m)\u001b[49m\n\u001b[32m    133\u001b[39m \u001b[38;5;28;01mexcept\u001b[39;00m (\u001b[38;5;167;01mIndexError\u001b[39;00m, \u001b[38;5;167;01mRuntimeError\u001b[39;00m) \u001b[38;5;28;01mas\u001b[39;00m e:\n\u001b[32m    134\u001b[39m     \u001b[38;5;28;01mif\u001b[39;00m index \u001b[38;5;129;01mis\u001b[39;00m \u001b[38;5;129;01mnot\u001b[39;00m \u001b[38;5;28;01mNone\u001b[39;00m:\n",
      "\u001b[36mFile \u001b[39m\u001b[32m/vol/bitbucket/shc20/FYP/GNN-Adversarial-Attack/.venv/lib/python3.12/site-packages/torch/nn/modules/module.py:1751\u001b[39m, in \u001b[36mModule._wrapped_call_impl\u001b[39m\u001b[34m(self, *args, **kwargs)\u001b[39m\n\u001b[32m   1749\u001b[39m     \u001b[38;5;28;01mreturn\u001b[39;00m \u001b[38;5;28mself\u001b[39m._compiled_call_impl(*args, **kwargs)  \u001b[38;5;66;03m# type: ignore[misc]\u001b[39;00m\n\u001b[32m   1750\u001b[39m \u001b[38;5;28;01melse\u001b[39;00m:\n\u001b[32m-> \u001b[39m\u001b[32m1751\u001b[39m     \u001b[38;5;28;01mreturn\u001b[39;00m \u001b[38;5;28;43mself\u001b[39;49m\u001b[43m.\u001b[49m\u001b[43m_call_impl\u001b[49m\u001b[43m(\u001b[49m\u001b[43m*\u001b[49m\u001b[43margs\u001b[49m\u001b[43m,\u001b[49m\u001b[43m \u001b[49m\u001b[43m*\u001b[49m\u001b[43m*\u001b[49m\u001b[43mkwargs\u001b[49m\u001b[43m)\u001b[49m\n",
      "\u001b[36mFile \u001b[39m\u001b[32m/vol/bitbucket/shc20/FYP/GNN-Adversarial-Attack/.venv/lib/python3.12/site-packages/torch/nn/modules/module.py:1762\u001b[39m, in \u001b[36mModule._call_impl\u001b[39m\u001b[34m(self, *args, **kwargs)\u001b[39m\n\u001b[32m   1757\u001b[39m \u001b[38;5;66;03m# If we don't have any hooks, we want to skip the rest of the logic in\u001b[39;00m\n\u001b[32m   1758\u001b[39m \u001b[38;5;66;03m# this function, and just call forward.\u001b[39;00m\n\u001b[32m   1759\u001b[39m \u001b[38;5;28;01mif\u001b[39;00m \u001b[38;5;129;01mnot\u001b[39;00m (\u001b[38;5;28mself\u001b[39m._backward_hooks \u001b[38;5;129;01mor\u001b[39;00m \u001b[38;5;28mself\u001b[39m._backward_pre_hooks \u001b[38;5;129;01mor\u001b[39;00m \u001b[38;5;28mself\u001b[39m._forward_hooks \u001b[38;5;129;01mor\u001b[39;00m \u001b[38;5;28mself\u001b[39m._forward_pre_hooks\n\u001b[32m   1760\u001b[39m         \u001b[38;5;129;01mor\u001b[39;00m _global_backward_pre_hooks \u001b[38;5;129;01mor\u001b[39;00m _global_backward_hooks\n\u001b[32m   1761\u001b[39m         \u001b[38;5;129;01mor\u001b[39;00m _global_forward_hooks \u001b[38;5;129;01mor\u001b[39;00m _global_forward_pre_hooks):\n\u001b[32m-> \u001b[39m\u001b[32m1762\u001b[39m     \u001b[38;5;28;01mreturn\u001b[39;00m \u001b[43mforward_call\u001b[49m\u001b[43m(\u001b[49m\u001b[43m*\u001b[49m\u001b[43margs\u001b[49m\u001b[43m,\u001b[49m\u001b[43m \u001b[49m\u001b[43m*\u001b[49m\u001b[43m*\u001b[49m\u001b[43mkwargs\u001b[49m\u001b[43m)\u001b[49m\n\u001b[32m   1764\u001b[39m result = \u001b[38;5;28;01mNone\u001b[39;00m\n\u001b[32m   1765\u001b[39m called_always_called_hooks = \u001b[38;5;28mset\u001b[39m()\n",
      "\u001b[36mFile \u001b[39m\u001b[32m/vol/bitbucket/shc20/FYP/GNN-Adversarial-Attack/.venv/lib/python3.12/site-packages/torch_geometric/nn/aggr/basic.py:36\u001b[39m, in \u001b[36mMeanAggregation.forward\u001b[39m\u001b[34m(self, x, index, ptr, dim_size, dim)\u001b[39m\n\u001b[32m     33\u001b[39m \u001b[38;5;28;01mdef\u001b[39;00m\u001b[38;5;250m \u001b[39m\u001b[34mforward\u001b[39m(\u001b[38;5;28mself\u001b[39m, x: Tensor, index: Optional[Tensor] = \u001b[38;5;28;01mNone\u001b[39;00m,\n\u001b[32m     34\u001b[39m             ptr: Optional[Tensor] = \u001b[38;5;28;01mNone\u001b[39;00m, dim_size: Optional[\u001b[38;5;28mint\u001b[39m] = \u001b[38;5;28;01mNone\u001b[39;00m,\n\u001b[32m     35\u001b[39m             dim: \u001b[38;5;28mint\u001b[39m = -\u001b[32m2\u001b[39m) -> Tensor:\n\u001b[32m---> \u001b[39m\u001b[32m36\u001b[39m     \u001b[38;5;28;01mreturn\u001b[39;00m \u001b[38;5;28;43mself\u001b[39;49m\u001b[43m.\u001b[49m\u001b[43mreduce\u001b[49m\u001b[43m(\u001b[49m\u001b[43mx\u001b[49m\u001b[43m,\u001b[49m\u001b[43m \u001b[49m\u001b[43mindex\u001b[49m\u001b[43m,\u001b[49m\u001b[43m \u001b[49m\u001b[43mptr\u001b[49m\u001b[43m,\u001b[49m\u001b[43m \u001b[49m\u001b[43mdim_size\u001b[49m\u001b[43m,\u001b[49m\u001b[43m \u001b[49m\u001b[43mdim\u001b[49m\u001b[43m,\u001b[49m\u001b[43m \u001b[49m\u001b[43mreduce\u001b[49m\u001b[43m=\u001b[49m\u001b[33;43m'\u001b[39;49m\u001b[33;43mmean\u001b[39;49m\u001b[33;43m'\u001b[39;49m\u001b[43m)\u001b[49m\n",
      "\u001b[36mFile \u001b[39m\u001b[32m/vol/bitbucket/shc20/FYP/GNN-Adversarial-Attack/.venv/lib/python3.12/site-packages/torch_geometric/nn/aggr/base.py:185\u001b[39m, in \u001b[36mAggregation.reduce\u001b[39m\u001b[34m(self, x, index, ptr, dim_size, dim, reduce)\u001b[39m\n\u001b[32m    182\u001b[39m \u001b[38;5;28;01mif\u001b[39;00m index \u001b[38;5;129;01mis\u001b[39;00m \u001b[38;5;28;01mNone\u001b[39;00m:\n\u001b[32m    183\u001b[39m     \u001b[38;5;28;01mraise\u001b[39;00m \u001b[38;5;167;01mRuntimeError\u001b[39;00m(\u001b[33m\"\u001b[39m\u001b[33mAggregation requires \u001b[39m\u001b[33m'\u001b[39m\u001b[33mindex\u001b[39m\u001b[33m'\u001b[39m\u001b[33m to be specified\u001b[39m\u001b[33m\"\u001b[39m)\n\u001b[32m--> \u001b[39m\u001b[32m185\u001b[39m \u001b[38;5;28;01mreturn\u001b[39;00m \u001b[43mscatter\u001b[49m\u001b[43m(\u001b[49m\u001b[43mx\u001b[49m\u001b[43m,\u001b[49m\u001b[43m \u001b[49m\u001b[43mindex\u001b[49m\u001b[43m,\u001b[49m\u001b[43m \u001b[49m\u001b[43mdim\u001b[49m\u001b[43m,\u001b[49m\u001b[43m \u001b[49m\u001b[43mdim_size\u001b[49m\u001b[43m,\u001b[49m\u001b[43m \u001b[49m\u001b[43mreduce\u001b[49m\u001b[43m)\u001b[49m\n",
      "\u001b[36mFile \u001b[39m\u001b[32m/vol/bitbucket/shc20/FYP/GNN-Adversarial-Attack/.venv/lib/python3.12/site-packages/torch_geometric/utils/_scatter.py:79\u001b[39m, in \u001b[36mscatter\u001b[39m\u001b[34m(src, index, dim, dim_size, reduce)\u001b[39m\n\u001b[32m     77\u001b[39m \u001b[38;5;28;01mif\u001b[39;00m reduce == \u001b[33m'\u001b[39m\u001b[33mmean\u001b[39m\u001b[33m'\u001b[39m:\n\u001b[32m     78\u001b[39m     count = src.new_zeros(dim_size)\n\u001b[32m---> \u001b[39m\u001b[32m79\u001b[39m     count.scatter_add_(\u001b[32m0\u001b[39m, index, \u001b[43msrc\u001b[49m\u001b[43m.\u001b[49m\u001b[43mnew_ones\u001b[49m\u001b[43m(\u001b[49m\u001b[43msrc\u001b[49m\u001b[43m.\u001b[49m\u001b[43msize\u001b[49m\u001b[43m(\u001b[49m\u001b[43mdim\u001b[49m\u001b[43m)\u001b[49m\u001b[43m)\u001b[49m)\n\u001b[32m     80\u001b[39m     count = count.clamp(\u001b[38;5;28mmin\u001b[39m=\u001b[32m1\u001b[39m)\n\u001b[32m     82\u001b[39m     index = broadcast(index, src, dim)\n",
      "\u001b[31mKeyboardInterrupt\u001b[39m: "
     ]
    }
   ],
   "source": [
    "# Extract the best parameters from the grid search\n",
    "import pickle\n",
    "\n",
    "\n",
    "best_hidden_dim = 256  # Replace with the best hidden_dim found\n",
    "best_learning_rate = 0.01  # Replace with the best learning_rate found\n",
    "best_drop_out = 0.3  # Replace with the best drop_out found\n",
    "epochs = 1000\n",
    "\n",
    "print(\"Number of train graphs: \", len(train_graph_dataset))\n",
    "\n",
    "# Initialize the model with the best parameters\n",
    "model = EGraphSAGE(node_in_channels=num_features, \n",
    "                   edge_in_channels=num_features,\n",
    "                   hidden_channels=best_hidden_dim,\n",
    "                   dropout = best_drop_out,\n",
    "                   out_channels=num_classes).to(device)\n",
    "\n",
    "model.apply(init_weights)\n",
    "\n",
    "# Normalize class weights\n",
    "class_weights = th.FloatTensor(train_graph_dataset.class_weights).to(device)\n",
    "print(\"Class weights:\", class_weights)\n",
    "\n",
    "# Define the loss function and optimizer\n",
    "criterion = nn.CrossEntropyLoss(weight=class_weights)\n",
    "optimizer = th.optim.Adam(model.parameters(), lr=best_learning_rate)\n",
    "scheduler = th.optim.lr_scheduler.CosineAnnealingLR(optimizer, T_max=epochs, eta_min=1e-6)\n",
    "\n",
    "# ===== Load checkpoint if exists =====\n",
    "best_f1 = 0\n",
    "start_epoch = 0\n",
    "\n",
    "if os.path.exists(checkpoint_path):\n",
    "    checkpoint = th.load(checkpoint_path)\n",
    "    model.load_state_dict(checkpoint['model_state_dict'])\n",
    "    optimizer.load_state_dict(checkpoint['optimizer_state_dict'])\n",
    "    start_epoch = checkpoint['epoch'] + 1\n",
    "    best_f1 = checkpoint['best_f1']\n",
    "    print(f\"Resumed training from epoch {start_epoch}\")\n",
    "\n",
    "train_loss_history = []\n",
    "val_loss_history = []\n",
    "val_f1_history = []\n",
    "saved_model_epochs = []\n",
    "\n",
    "train_loss_history_path = os.path.join(saves_path, 'train_loss_history.pkl')\n",
    "val_loss_history_path = os.path.join(saves_path, 'val_loss_history.pkl')\n",
    "val_f1_history_path = os.path.join(saves_path, 'val_f1_history.pkl')\n",
    "saved_model_epochs_path = os.path.join(saves_path, 'saved_model_epochs.pkl')\n",
    "\n",
    "if os.path.exists(train_loss_history_path) and os.path.exists(val_loss_history_path) and os.path.exists(val_f1_history_path) and os.path.exists(saved_model_epochs_path):\n",
    "    with open(train_loss_history_path, 'rb') as f:\n",
    "        train_loss_history = pickle.load(f)\n",
    "    with open(val_loss_history_path, 'rb') as f:\n",
    "        val_loss_history = pickle.load(f)\n",
    "    with open(val_f1_history_path, 'rb') as f:\n",
    "        val_f1_history = pickle.load(f)\n",
    "    with open(saved_model_epochs_path, 'rb') as f:\n",
    "        saved_model_epochs = pickle.load(f)\n",
    "\n",
    "# ===== Start Training =====\n",
    "for epoch in range(start_epoch, epochs):\n",
    "    model.train()\n",
    "\n",
    "    train_loss = 0\n",
    "    num_train_graphs = len(train_graph_dataset)\n",
    "\n",
    "    val_loss = 0\n",
    "    num_val_graphs = len(val_graph_dataset)\n",
    "\n",
    "    optimizer.zero_grad()\n",
    "    for G_pyg_train in tqdm(train_graph_dataset, desc=\"Training\", leave=False):\n",
    "\n",
    "        # Move the graph data to the device\n",
    "        G_pyg_train = G_pyg_train.to(device)\n",
    "        G_pyg_train.edge_label = G_pyg_train.edge_label.to(device)\n",
    "        G_pyg_train.edge_attr = G_pyg_train.edge_attr.to(device)\n",
    "\n",
    "        out = model(G_pyg_train)\n",
    "        loss = criterion(out, G_pyg_train.edge_label) / num_train_graphs\n",
    "        \n",
    "        train_loss += loss.item()\n",
    "        loss.backward()\n",
    "\n",
    "    optimizer.step()\n",
    "    scheduler.step()\n",
    "\n",
    "    test_label_list = []\n",
    "    pred_label_list = []\n",
    "\n",
    "    model.eval()\n",
    "    with th.no_grad():\n",
    "        for G_pyg_val in tqdm(val_graph_dataset, desc=\"Evaluation\", leave=False):\n",
    "            G_pyg_val = G_pyg_val.to(device)\n",
    "            G_pyg_val.edge_label = G_pyg_val.edge_label.to(device)\n",
    "            G_pyg_val.edge_attr = G_pyg_val.edge_attr.to(device)\n",
    "\n",
    "            out = model(G_pyg_val)\n",
    "            loss = criterion(out, G_pyg_val.edge_label) / num_val_graphs\n",
    "            val_loss += loss.item()\n",
    "\n",
    "            test_label_list.append(G_pyg_val.edge_label.cpu())\n",
    "            pred_label_list.append(out.argmax(dim=1).cpu())\n",
    "\n",
    "    test_label = th.cat(test_label_list)\n",
    "    pred_label = th.cat(pred_label_list)\n",
    "\n",
    "    val_f1 = f1_score(test_label, pred_label, average='weighted')\n",
    "    val_f1_micro = f1_score(test_label, pred_label, average='micro')\n",
    "    val_f1_macro = f1_score(test_label, pred_label, average='macro')\n",
    "    \n",
    "    train_loss_history.append(train_loss)\n",
    "    val_loss_history.append(val_loss)\n",
    "    val_f1_history.append((val_f1, val_f1_micro, val_f1_macro))\n",
    "\n",
    "    if val_f1 > best_f1:\n",
    "        best_f1 = val_f1  # Update the best F1 score for this fold\n",
    "        best_model_state = model.state_dict()\n",
    "        saved_model_epochs.append(epoch)\n",
    "\n",
    "        save_progress(epoch, model, optimizer, best_f1, train_loss_history, val_loss_history, val_f1_history, saved_model_epochs)\n",
    "        th.save(best_model_state, best_model_path)\n",
    "        print(f\"Epoch {epoch} Saved best model. Best F1:\", best_f1)\n",
    "\n",
    "    if epoch % 10 == 0:\n",
    "        # Save checkpoint\n",
    "        print(f'Epoch {epoch}, Train Loss: {train_loss:.4f}, Validation Loss: {val_loss:.4f}, Validation F1: {val_f1:.4f}')\n",
    "        save_progress(epoch, model, optimizer, best_f1, train_loss_history, val_loss_history, val_f1_history, saved_model_epochs)\n",
    "\n",
    "# Save the trained model\n",
    "print(\"Model training completed and saved.\")"
   ]
  },
  {
   "cell_type": "code",
   "execution_count": 36,
   "id": "f64c2932",
   "metadata": {},
   "outputs": [],
   "source": [
    "def plot_training_process(train_losses, val_losses, val_f1, saved_model_epochs):\n",
    "    fig, axs = plt.subplots(2, 1, figsize=(10, 8), sharex=True)\n",
    "\n",
    "    # Plot Train Loss\n",
    "    axs[0].plot(train_losses, label='Train Loss', color='blue')\n",
    "    axs[0].plot(val_losses, label='Validation Loss', color='red')\n",
    "    axs[0].set_ylabel('Train Loss')\n",
    "    axs[0].set_title('Training Loss')\n",
    "    axs[0].legend()\n",
    "    axs[0].grid()\n",
    "\n",
    "    val_f1_weighted_history = []\n",
    "    val_f1_micro_history = []\n",
    "    val_f1_macro_history = []\n",
    "\n",
    "    for val_f1_weighted, val_f1_micro, val_f1_macro in val_f1:\n",
    "        val_f1_weighted_history.append(val_f1_weighted)\n",
    "        val_f1_micro_history.append(val_f1_micro)\n",
    "        val_f1_macro_history.append(val_f1_macro)\n",
    "    \n",
    "    # Plot Validation F1\n",
    "\n",
    "    axs[1].plot(val_f1_weighted_history, label='Validation F1 Weighted', color='green')\n",
    "    axs[1].plot(val_f1_micro_history, label='Validation F1 Micro', color='blue')\n",
    "    axs[1].plot(val_f1_macro_history, label='Validation F1 Macro', color='red')\n",
    "    axs[1].set_xlabel('Epochs')\n",
    "    axs[1].set_ylabel('Validation F1')\n",
    "    axs[1].set_title('Validation F1 Score')\n",
    "    axs[1].legend()\n",
    "    axs[1].grid()\n",
    "\n",
    "    # Add scatter for saved model epochs (e.g., F1 weighted here)\n",
    "    axs[1].scatter(saved_model_epochs, [val_f1_weighted_history[i] for i in saved_model_epochs],\n",
    "                   color='black', marker='o', label='Saved Model')\n",
    "    axs[1].legend()\n",
    "\n",
    "    print(len(train_losses))\n",
    "\n",
    "    plt.tight_layout()\n",
    "    plt.show()"
   ]
  },
  {
   "cell_type": "code",
   "execution_count": 37,
   "id": "2572f236",
   "metadata": {},
   "outputs": [
    {
     "name": "stdout",
     "output_type": "stream",
     "text": [
      "135\n"
     ]
    },
    {
     "data": {
      "image/png": "[encoded data removed]",
      "text/plain": [
       "<Figure size 1000x800 with 2 Axes>"
      ]
     },
     "metadata": {},
     "output_type": "display_data"
    }
   ],
   "source": [
    "plot_training_process(train_loss_history, val_loss_history, val_f1_history, saved_model_epochs)"
   ]
  },
  {
   "cell_type": "code",
   "execution_count": 38,
   "id": "857f271a-612b-4cd6-a85a-e4236dec9d80",
   "metadata": {},
   "outputs": [
    {
     "name": "stdout",
     "output_type": "stream",
     "text": [
      "Number of test graphs:  367\n",
      "Loading model from /vol/bitbucket/shc20/FYP/GNN-Adversarial-Attack/Models/E_GraphSAGE/logs/BoT_IoT/split_random_window_combined_port/best_model_all_raw.pth\n",
      "inference start\n"
     ]
    },
    {
     "name": "stderr",
     "output_type": "stream",
     "text": [
      "Evaluation:  22%|██▏       | 80/367 [00:00<00:00, 790.14it/s]"
     ]
    },
    {
     "name": "stderr",
     "output_type": "stream",
     "text": [
      "                                                              \r"
     ]
    },
    {
     "name": "stdout",
     "output_type": "stream",
     "text": [
      "Test Accuracy: 0.9971\n",
      "class_map ['DDoS' 'DoS' 'Normal' 'Reconnaissance' 'Theft']\n",
      "[[295492      4      0   1185      0]\n",
      " [    69 242998      0    252      0]\n",
      " [     0      3    156      4      0]\n",
      " [     1      0     41  10266     29]\n",
      " [     0      0      0      0      0]]\n",
      "                precision    recall  f1-score   support\n",
      "\n",
      "          DDoS     0.9998    0.9960    0.9979    296681\n",
      "           DoS     1.0000    0.9987    0.9993    243319\n",
      "        Normal     0.7919    0.9571    0.8667       163\n",
      "Reconnaissance     0.8769    0.9931    0.9314     10337\n",
      "         Theft     0.0000    0.0000    0.0000         0\n",
      "\n",
      "      accuracy                         0.9971    550500\n",
      "     macro avg     0.7337    0.7890    0.7591    550500\n",
      "  weighted avg     0.9975    0.9971    0.9972    550500\n",
      "\n"
     ]
    },
    {
     "name": "stderr",
     "output_type": "stream",
     "text": [
      "/vol/bitbucket/shc20/FYP/GNN-Adversarial-Attack/.venv/lib/python3.12/site-packages/sklearn/metrics/_classification.py:1565: UndefinedMetricWarning: Recall is ill-defined and being set to 0.0 in labels with no true samples. Use `zero_division` parameter to control this behavior.\n",
      "  _warn_prf(average, modifier, f\"{metric.capitalize()} is\", len(result))\n",
      "/vol/bitbucket/shc20/FYP/GNN-Adversarial-Attack/.venv/lib/python3.12/site-packages/sklearn/metrics/_classification.py:1565: UndefinedMetricWarning: Recall is ill-defined and being set to 0.0 in labels with no true samples. Use `zero_division` parameter to control this behavior.\n",
      "  _warn_prf(average, modifier, f\"{metric.capitalize()} is\", len(result))\n",
      "/vol/bitbucket/shc20/FYP/GNN-Adversarial-Attack/.venv/lib/python3.12/site-packages/sklearn/metrics/_classification.py:1565: UndefinedMetricWarning: Recall is ill-defined and being set to 0.0 in labels with no true samples. Use `zero_division` parameter to control this behavior.\n",
      "  _warn_prf(average, modifier, f\"{metric.capitalize()} is\", len(result))\n"
     ]
    }
   ],
   "source": [
    "from torch_geometric.utils import subgraph\n",
    "from torch_geometric.data import Data\n",
    "from sklearn.metrics import confusion_matrix\n",
    "from sklearn.metrics import classification_report\n",
    "\n",
    "def compute_accuracy(pred, labels):\n",
    "    return (pred.argmax(1) == labels).float().mean().item()\n",
    "\n",
    "def eval(dataset, adversarial=False):\n",
    "\n",
    "    best_model = EGraphSAGE(node_in_channels=num_features, \n",
    "                       edge_in_channels=num_features,\n",
    "                       hidden_channels=best_hidden_dim, \n",
    "                       out_channels=num_classes).to(device)\n",
    "\n",
    "    print(\"Loading model from\", best_model_path)\n",
    "    best_model.load_state_dict(th.load(best_model_path, weights_only=True))\n",
    "\n",
    "    best_model.eval()\n",
    "\n",
    "    print(\"inference start\")\n",
    "    with th.no_grad():\n",
    "        all_pred_logits = []\n",
    "        all_test_labels = []\n",
    "        for G_pyg in tqdm(dataset, desc=\"Evaluation\", leave=False):\n",
    "            try:\n",
    "                # Move the graph data to the device\n",
    "                G_pyg = G_pyg.to(device)\n",
    "                G_pyg.edge_label = G_pyg.edge_label.to(device)\n",
    "                G_pyg.edge_attr = G_pyg.edge_attr.to(device)\n",
    "                out = best_model(G_pyg)\n",
    "                \n",
    "            except Exception as forward_error:\n",
    "                print(f\"Error during forward/backward pass at {forward_error}\")\n",
    "\n",
    "            all_pred_logits.append(out.cpu())\n",
    "            all_test_labels.append(G_pyg.edge_label.cpu())\n",
    "\n",
    "        all_pred_logits = th.cat(all_pred_logits).to(device)\n",
    "        all_test_labels = th.cat(all_test_labels).to(device)\n",
    "        test_accuracy = compute_accuracy(all_pred_logits, all_test_labels)\n",
    "        print(f'Test Accuracy: {test_accuracy:.4f}')\n",
    "\n",
    "        pred_labels = all_pred_logits.argmax(dim=1).cpu()\n",
    "        all_test_labels = all_test_labels.cpu()\n",
    "    \n",
    "    if adversarial:\n",
    "\n",
    "        # Create a boolean mask where the label is NOT equal to the adversarial class\n",
    "        adversarial_mask = all_test_labels == ADVERSARIAL_CLASS_LABEL\n",
    "\n",
    "        # Print the class that the adversarial samples are classified as\n",
    "        cm_adversarial = confusion_matrix(all_test_labels[adversarial_mask], pred_labels[adversarial_mask], labels=range(len(class_map) + 1))\n",
    "        print(\"Adversarial confusion matrix:\", cm_adversarial)\n",
    "\n",
    "        # Apply the mask to both labels and predictions\n",
    "        all_test_labels = all_test_labels[~adversarial_mask]\n",
    "        pred_labels = pred_labels[~adversarial_mask]\n",
    "\n",
    "    print(\"class_map\", class_map)\n",
    "    # Generate a report\n",
    "    cm = confusion_matrix(all_test_labels, pred_labels, labels=range(len(class_map)))\n",
    "    print(cm)\n",
    "\n",
    "\n",
    "    report = classification_report(all_test_labels, pred_labels, target_names=class_map, digits=4)\n",
    "    print(report)\n",
    "\n",
    "print(\"Number of test graphs: \", len(test_graph_dataset))\n",
    "eval(test_graph_dataset)\n"
   ]
  },
  {
   "cell_type": "code",
   "execution_count": null,
   "id": "cff736d0",
   "metadata": {},
   "outputs": [],
   "source": [
    "def inject_traffic_to_attacker(graph, ratio=0.1, num_injected_nodes=1, is_attack=False):\n",
    "    global inject_edge_attr_pool_saved\n",
    "    edge_index = graph.edge_index.clone()\n",
    "    edge_attr = graph.edge_attr.clone()\n",
    "    edge_label = graph.edge_label.clone()\n",
    "    x = graph.x.clone()\n",
    "\n",
    "    num_edges = edge_index.size(1)\n",
    "    feature_dim = graph.x.size(1)\n",
    "\n",
    "    # 1. Identify attacker nodes\n",
    "    attacker_edges = (edge_label != BENIGN_CLASS_LABEL).nonzero(as_tuple=False).squeeze()\n",
    "    attacker_nodes = th.unique(edge_index[:, attacker_edges])\n",
    "    if attacker_nodes.numel() == 0:\n",
    "        # raise ValueError(\"No attacker nodes found.\")\n",
    "        return graph\n",
    "\n",
    "    # 2. Sample benign edge feature pool\n",
    "    if is_attack:\n",
    "        attack_edges = (edge_label != BENIGN_CLASS_LABEL).nonzero(as_tuple=False).squeeze()\n",
    "        inject_edge_attr_pool = edge_attr[attack_edges]\n",
    "    else:\n",
    "        benign_edges = (edge_label == BENIGN_CLASS_LABEL).nonzero(as_tuple=False).squeeze()\n",
    "        inject_edge_attr_pool = edge_attr[benign_edges]\n",
    "        inject_edge_attr_pool_saved.append(inject_edge_attr_pool)\n",
    "        if inject_edge_attr_pool.numel() == 0:\n",
    "            inject_edge_attr_pool = th.cat(inject_edge_attr_pool_saved, dim=0)\n",
    "\n",
    "    # 3. Inject new nodes\n",
    "    original_num_nodes = x.size(0)\n",
    "\n",
    "    new_node_feats = th.ones((num_injected_nodes, feature_dim))\n",
    "    x = th.cat([x, new_node_feats], dim=0)\n",
    "\n",
    "    # 4. Inject edges from injected nodes to attacker nodes\n",
    "    num_to_inject = max(1, int(ratio * num_edges))\n",
    "    new_edges = []\n",
    "    new_attrs = []\n",
    "    new_labels = []\n",
    "\n",
    "    if inject_edge_attr_pool.numel() == 0:\n",
    "        return graph  # No edge attributes to inject\n",
    "    \n",
    "    for _ in range(num_to_inject):\n",
    "        src = random.randint(original_num_nodes, original_num_nodes + num_injected_nodes - 1)  # from injected nodes\n",
    "\n",
    "        dst = attacker_nodes[random.randint(0, len(attacker_nodes) - 1)].item()\n",
    "\n",
    "        new_edges.append([src, dst])\n",
    "        attr = inject_edge_attr_pool[random.randint(0, len(inject_edge_attr_pool) - 1)]\n",
    "        new_attrs.append(attr)\n",
    "        new_labels.append(ADVERSARIAL_CLASS_LABEL)\n",
    "\n",
    "    # Create a new empty graph to store the injected edges\n",
    "    new_graph = Data()\n",
    "\n",
    "    # 5. Merge into graph\n",
    "    if new_edges:\n",
    "        new_edges = th.tensor(new_edges, dtype=th.long).t().contiguous()\n",
    "        new_attrs = th.stack(new_attrs)\n",
    "        new_labels = th.tensor(new_labels, dtype=th.long)\n",
    "\n",
    "        new_graph.edge_index = th.cat([edge_index, new_edges], dim=1)\n",
    "        new_graph.edge_attr = th.cat([edge_attr, new_attrs], dim=0)\n",
    "        new_graph.edge_label = th.cat([edge_label, new_labels], dim=0)\n",
    "        new_graph.x = x\n",
    "\n",
    "        # new_graph.first_injected_node_idx = original_num_nodes # Store injected node indices\n",
    "\n",
    "    return new_graph\n"
   ]
  },
  {
   "cell_type": "code",
   "execution_count": 81,
   "id": "c0a4cf4a",
   "metadata": {},
   "outputs": [
    {
     "name": "stdout",
     "output_type": "stream",
     "text": [
      "Loading model from /vol/bitbucket/shc20/FYP/GNN-Adversarial-Attack/Models/E_GraphSAGE/logs/BoT_IoT/split_random_window_combined_port/best_model_all_raw.pth\n",
      "inference start\n"
     ]
    },
    {
     "name": "stderr",
     "output_type": "stream",
     "text": [
      "/vol/bitbucket/shc20/FYP/GNN-Adversarial-Attack/.venv/lib/python3.12/site-packages/sklearn/metrics/_classification.py:1565: UndefinedMetricWarning: Recall is ill-defined and being set to 0.0 in labels with no true samples. Use `zero_division` parameter to control this behavior.\n",
      "  _warn_prf(average, modifier, f\"{metric.capitalize()} is\", len(result))\n",
      "/vol/bitbucket/shc20/FYP/GNN-Adversarial-Attack/.venv/lib/python3.12/site-packages/sklearn/metrics/_classification.py:1565: UndefinedMetricWarning: Recall is ill-defined and being set to 0.0 in labels with no true samples. Use `zero_division` parameter to control this behavior.\n",
      "  _warn_prf(average, modifier, f\"{metric.capitalize()} is\", len(result))\n"
     ]
    },
    {
     "name": "stdout",
     "output_type": "stream",
     "text": [
      "Test Accuracy: 0.5432\n",
      "Adversarial confusion matrix: [[    0     0     0     0     0     0]\n",
      " [    0     0     0     0     0     0]\n",
      " [    0     0     0     0     0     0]\n",
      " [    0     0     0     0     0     0]\n",
      " [    0     0     0     0     0     0]\n",
      " [36430 17543     4  1071     2     0]]\n",
      "class_map ['DDoS' 'DoS' 'Normal' 'Reconnaissance' 'Theft']\n",
      "[[296669      9      0      3      0]\n",
      " [218319  21810      0   3190      0]\n",
      " [     0      1    157      4      1]\n",
      " [     1      0     29  10278     29]\n",
      " [     0      0      0      0      0]]\n",
      "                precision    recall  f1-score   support\n",
      "\n",
      "          DDoS     0.5761    1.0000    0.7310    296681\n",
      "           DoS     0.9995    0.0896    0.1645    243319\n",
      "        Normal     0.8441    0.9632    0.8997       163\n",
      "Reconnaissance     0.7627    0.9943    0.8633     10337\n",
      "         Theft     0.0000    0.0000    0.0000         0\n",
      "\n",
      "      accuracy                         0.5975    550500\n",
      "     macro avg     0.6365    0.6094    0.5317    550500\n",
      "  weighted avg     0.7668    0.5975    0.4832    550500\n",
      "\n"
     ]
    },
    {
     "name": "stderr",
     "output_type": "stream",
     "text": [
      "/vol/bitbucket/shc20/FYP/GNN-Adversarial-Attack/.venv/lib/python3.12/site-packages/sklearn/metrics/_classification.py:1565: UndefinedMetricWarning: Recall is ill-defined and being set to 0.0 in labels with no true samples. Use `zero_division` parameter to control this behavior.\n",
      "  _warn_prf(average, modifier, f\"{metric.capitalize()} is\", len(result))\n"
     ]
    }
   ],
   "source": [
    "# Inject Attack Traffic to Attacker Nodes\n",
    "inject_edge_attr_pool_saved = []\n",
    "injected_graph_dataset = [inject_traffic_to_attacker(g.cpu(), 0.1, num_injected_nodes=1, is_attack=True) for g in test_graph_dataset]\n",
    "eval(injected_graph_dataset, adversarial=True)"
   ]
  },
  {
   "cell_type": "code",
   "execution_count": 82,
   "id": "90b60cd6",
   "metadata": {},
   "outputs": [
    {
     "name": "stdout",
     "output_type": "stream",
     "text": [
      "Used saved edge attr pool\n",
      "Used saved edge attr pool\n",
      "Used saved edge attr pool\n",
      "Used saved edge attr pool\n",
      "Used saved edge attr pool\n",
      "Used saved edge attr pool\n",
      "Used saved edge attr pool\n",
      "Used saved edge attr pool\n",
      "Used saved edge attr pool\n",
      "Used saved edge attr pool\n",
      "Used saved edge attr pool\n",
      "Used saved edge attr pool\n",
      "Used saved edge attr pool\n",
      "Used saved edge attr pool\n",
      "Used saved edge attr pool\n",
      "Used saved edge attr pool\n",
      "Used saved edge attr pool\n",
      "Used saved edge attr pool\n",
      "Used saved edge attr pool\n",
      "Used saved edge attr pool\n",
      "Used saved edge attr pool\n",
      "Used saved edge attr pool\n",
      "Used saved edge attr pool\n",
      "Used saved edge attr pool\n",
      "Used saved edge attr pool\n",
      "Used saved edge attr pool\n",
      "Used saved edge attr pool\n",
      "Used saved edge attr pool\n",
      "Used saved edge attr pool\n",
      "Used saved edge attr pool\n",
      "Used saved edge attr pool\n",
      "Used saved edge attr pool\n",
      "Used saved edge attr pool\n",
      "Used saved edge attr pool\n",
      "Used saved edge attr pool\n",
      "Used saved edge attr pool\n",
      "Used saved edge attr pool\n",
      "Used saved edge attr pool\n",
      "Used saved edge attr pool\n",
      "Used saved edge attr pool\n",
      "Used saved edge attr pool\n",
      "Used saved edge attr pool\n",
      "Used saved edge attr pool\n",
      "Used saved edge attr pool\n",
      "Used saved edge attr pool\n",
      "Used saved edge attr pool\n",
      "Used saved edge attr pool\n",
      "Used saved edge attr pool\n",
      "Used saved edge attr pool\n",
      "Used saved edge attr pool\n",
      "Used saved edge attr pool\n",
      "Used saved edge attr pool\n",
      "Used saved edge attr pool\n",
      "Used saved edge attr pool\n",
      "Used saved edge attr pool\n",
      "Used saved edge attr pool\n",
      "Used saved edge attr pool\n",
      "Used saved edge attr pool\n",
      "Used saved edge attr pool\n",
      "Used saved edge attr pool\n",
      "Used saved edge attr pool\n",
      "Used saved edge attr pool\n",
      "Used saved edge attr pool\n",
      "Used saved edge attr pool\n",
      "Used saved edge attr pool\n",
      "Used saved edge attr pool\n",
      "Used saved edge attr pool\n",
      "Used saved edge attr pool\n",
      "Used saved edge attr pool\n",
      "Used saved edge attr pool\n",
      "Used saved edge attr pool\n",
      "Used saved edge attr pool\n",
      "Used saved edge attr pool\n",
      "Used saved edge attr pool\n",
      "Used saved edge attr pool\n",
      "Used saved edge attr pool\n",
      "Used saved edge attr pool\n",
      "Used saved edge attr pool\n",
      "Used saved edge attr pool\n",
      "Used saved edge attr pool\n",
      "Used saved edge attr pool\n",
      "Used saved edge attr pool\n",
      "Used saved edge attr pool\n",
      "Used saved edge attr pool\n",
      "Used saved edge attr pool\n",
      "Used saved edge attr pool\n",
      "Used saved edge attr pool\n",
      "Used saved edge attr pool\n",
      "Used saved edge attr pool\n",
      "Used saved edge attr pool\n",
      "Used saved edge attr pool\n",
      "Used saved edge attr pool\n",
      "Used saved edge attr pool\n",
      "Used saved edge attr pool\n",
      "Used saved edge attr pool\n",
      "Used saved edge attr pool\n",
      "Used saved edge attr pool\n",
      "Used saved edge attr pool\n",
      "Used saved edge attr pool\n",
      "Used saved edge attr pool\n",
      "Used saved edge attr pool\n",
      "Used saved edge attr pool\n",
      "Used saved edge attr pool\n",
      "Used saved edge attr pool\n",
      "Used saved edge attr pool\n",
      "Used saved edge attr pool\n",
      "Used saved edge attr pool\n",
      "Used saved edge attr pool\n",
      "Used saved edge attr pool\n",
      "Used saved edge attr pool\n",
      "Used saved edge attr pool\n",
      "Used saved edge attr pool\n",
      "Used saved edge attr pool\n",
      "Used saved edge attr pool\n",
      "Used saved edge attr pool\n",
      "Used saved edge attr pool\n"
     ]
    },
    {
     "name": "stdout",
     "output_type": "stream",
     "text": [
      "Used saved edge attr pool\n",
      "Used saved edge attr pool\n",
      "Used saved edge attr pool\n",
      "Used saved edge attr pool\n",
      "Used saved edge attr pool\n",
      "Used saved edge attr pool\n",
      "Used saved edge attr pool\n",
      "Used saved edge attr pool\n",
      "Used saved edge attr pool\n",
      "Used saved edge attr pool\n",
      "Used saved edge attr pool\n",
      "Used saved edge attr pool\n",
      "Used saved edge attr pool\n",
      "Used saved edge attr pool\n",
      "Used saved edge attr pool\n",
      "Used saved edge attr pool\n",
      "Used saved edge attr pool\n",
      "Used saved edge attr pool\n",
      "Used saved edge attr pool\n",
      "Used saved edge attr pool\n",
      "Used saved edge attr pool\n",
      "Used saved edge attr pool\n",
      "Used saved edge attr pool\n",
      "Used saved edge attr pool\n",
      "Used saved edge attr pool\n",
      "Used saved edge attr pool\n",
      "Used saved edge attr pool\n",
      "Used saved edge attr pool\n",
      "Used saved edge attr pool\n",
      "Used saved edge attr pool\n",
      "Used saved edge attr pool\n",
      "Used saved edge attr pool\n",
      "Used saved edge attr pool\n",
      "Used saved edge attr pool\n",
      "Used saved edge attr pool\n",
      "Used saved edge attr pool\n",
      "Used saved edge attr pool\n",
      "Used saved edge attr pool\n",
      "Used saved edge attr pool\n",
      "Used saved edge attr pool\n",
      "Used saved edge attr pool\n",
      "Used saved edge attr pool\n",
      "Used saved edge attr pool\n",
      "Used saved edge attr pool\n",
      "Used saved edge attr pool\n",
      "Used saved edge attr pool\n",
      "Used saved edge attr pool\n",
      "Used saved edge attr pool\n",
      "Used saved edge attr pool\n",
      "Used saved edge attr pool\n",
      "Used saved edge attr pool\n",
      "Used saved edge attr pool\n",
      "Used saved edge attr pool\n",
      "Used saved edge attr pool\n",
      "Used saved edge attr pool\n",
      "Used saved edge attr pool\n",
      "Used saved edge attr pool\n",
      "Used saved edge attr pool\n",
      "Used saved edge attr pool\n",
      "Used saved edge attr pool\n",
      "Used saved edge attr pool\n",
      "Used saved edge attr pool\n",
      "Used saved edge attr pool\n",
      "Used saved edge attr pool\n",
      "Used saved edge attr pool\n",
      "Used saved edge attr pool\n",
      "Used saved edge attr pool\n",
      "Used saved edge attr pool\n",
      "Used saved edge attr pool\n",
      "Used saved edge attr pool\n",
      "Used saved edge attr pool\n",
      "Used saved edge attr pool\n",
      "Used saved edge attr pool\n",
      "Used saved edge attr pool\n",
      "Used saved edge attr pool\n",
      "Used saved edge attr pool\n",
      "Used saved edge attr pool\n",
      "Used saved edge attr pool\n",
      "Used saved edge attr pool\n",
      "Used saved edge attr pool\n",
      "Used saved edge attr pool\n",
      "Used saved edge attr pool\n",
      "Used saved edge attr pool\n",
      "Used saved edge attr pool\n",
      "Used saved edge attr pool\n",
      "Used saved edge attr pool\n",
      "Used saved edge attr pool\n",
      "Used saved edge attr pool\n",
      "Used saved edge attr pool\n",
      "Used saved edge attr pool\n",
      "Used saved edge attr pool\n",
      "Used saved edge attr pool\n",
      "Used saved edge attr pool\n",
      "Used saved edge attr pool\n",
      "Used saved edge attr pool\n",
      "Used saved edge attr pool\n",
      "Used saved edge attr pool\n",
      "Used saved edge attr pool\n",
      "Used saved edge attr pool\n",
      "Used saved edge attr pool\n",
      "Used saved edge attr pool\n",
      "Used saved edge attr pool\n",
      "Used saved edge attr pool\n",
      "Used saved edge attr pool\n",
      "Used saved edge attr pool\n",
      "Used saved edge attr pool\n",
      "Used saved edge attr pool\n",
      "Used saved edge attr pool\n",
      "Used saved edge attr pool\n",
      "Used saved edge attr pool\n",
      "Used saved edge attr pool\n",
      "Used saved edge attr pool\n",
      "Used saved edge attr pool\n",
      "Used saved edge attr pool\n",
      "Used saved edge attr pool\n",
      "Used saved edge attr pool\n",
      "Used saved edge attr pool\n",
      "Used saved edge attr pool\n",
      "Used saved edge attr pool\n",
      "Used saved edge attr pool\n",
      "Used saved edge attr pool\n",
      "Used saved edge attr pool\n",
      "Used saved edge attr pool\n",
      "Used saved edge attr pool\n",
      "Used saved edge attr pool\n",
      "Used saved edge attr pool\n",
      "Used saved edge attr pool\n",
      "Used saved edge attr pool\n",
      "Used saved edge attr pool\n",
      "Used saved edge attr pool\n",
      "Used saved edge attr pool\n",
      "Used saved edge attr pool\n",
      "Used saved edge attr pool\n",
      "Used saved edge attr pool\n",
      "Used saved edge attr pool\n",
      "Used saved edge attr pool\n",
      "Used saved edge attr pool\n",
      "Used saved edge attr pool\n",
      "Used saved edge attr pool\n",
      "Used saved edge attr pool\n",
      "Used saved edge attr pool\n",
      "Used saved edge attr pool\n",
      "Used saved edge attr pool\n",
      "Used saved edge attr pool\n",
      "Used saved edge attr pool\n",
      "Used saved edge attr pool\n",
      "Used saved edge attr pool\n",
      "Used saved edge attr pool\n",
      "Used saved edge attr pool\n",
      "Used saved edge attr pool\n",
      "Used saved edge attr pool\n",
      "Used saved edge attr pool\n",
      "Used saved edge attr pool\n",
      "Used saved edge attr pool\n",
      "Used saved edge attr pool\n",
      "Used saved edge attr pool\n",
      "Used saved edge attr pool\n",
      "Used saved edge attr pool\n",
      "Used saved edge attr pool\n",
      "Used saved edge attr pool\n",
      "Used saved edge attr pool\n",
      "Used saved edge attr pool\n",
      "Used saved edge attr pool\n",
      "Used saved edge attr pool\n",
      "Used saved edge attr pool\n",
      "Used saved edge attr pool\n",
      "Used saved edge attr pool\n",
      "Used saved edge attr pool\n",
      "Used saved edge attr pool\n",
      "Used saved edge attr pool\n",
      "Used saved edge attr pool\n",
      "Used saved edge attr pool\n",
      "Used saved edge attr pool\n",
      "Used saved edge attr pool\n",
      "Used saved edge attr pool\n",
      "Used saved edge attr pool\n",
      "Used saved edge attr pool\n",
      "Used saved edge attr pool\n",
      "Used saved edge attr pool\n",
      "Used saved edge attr pool\n",
      "Used saved edge attr pool\n",
      "Used saved edge attr pool\n",
      "Used saved edge attr pool\n",
      "Used saved edge attr pool\n",
      "Used saved edge attr pool\n",
      "Used saved edge attr pool\n",
      "Used saved edge attr pool\n",
      "Used saved edge attr pool\n",
      "Used saved edge attr pool\n",
      "Used saved edge attr pool\n",
      "Used saved edge attr pool\n",
      "Used saved edge attr pool\n",
      "Used saved edge attr pool\n",
      "Used saved edge attr pool\n",
      "Used saved edge attr pool\n",
      "Used saved edge attr pool\n",
      "Used saved edge attr pool\n",
      "Used saved edge attr pool\n",
      "Used saved edge attr pool\n",
      "Used saved edge attr pool\n",
      "Used saved edge attr pool\n",
      "Used saved edge attr pool\n",
      "Used saved edge attr pool\n",
      "Used saved edge attr pool\n",
      "Used saved edge attr pool\n",
      "Used saved edge attr pool\n",
      "Used saved edge attr pool\n",
      "Used saved edge attr pool\n",
      "Used saved edge attr pool\n",
      "Used saved edge attr pool\n",
      "Used saved edge attr pool\n",
      "Used saved edge attr pool\n",
      "Used saved edge attr pool\n",
      "Used saved edge attr pool\n",
      "Used saved edge attr pool\n",
      "Used saved edge attr pool\n",
      "Used saved edge attr pool\n",
      "Used saved edge attr pool\n",
      "Used saved edge attr pool\n",
      "Used saved edge attr pool\n",
      "Used saved edge attr pool\n",
      "Used saved edge attr pool\n",
      "Used saved edge attr pool\n",
      "Used saved edge attr pool\n",
      "Used saved edge attr pool\n",
      "Used saved edge attr pool\n",
      "Used saved edge attr pool\n",
      "Used saved edge attr pool\n",
      "Used saved edge attr pool\n",
      "Used saved edge attr pool\n",
      "Used saved edge attr pool\n",
      "Used saved edge attr pool\n",
      "Used saved edge attr pool\n",
      "Used saved edge attr pool\n",
      "Used saved edge attr pool\n",
      "Used saved edge attr pool\n",
      "Used saved edge attr pool\n",
      "Used saved edge attr pool\n",
      "Used saved edge attr pool\n",
      "Used saved edge attr pool\n",
      "Used saved edge attr pool\n",
      "Used saved edge attr pool\n",
      "Used saved edge attr pool\n",
      "Used saved edge attr pool\n",
      "Used saved edge attr pool\n",
      "Used saved edge attr pool\n",
      "Loading model from /vol/bitbucket/shc20/FYP/GNN-Adversarial-Attack/Models/E_GraphSAGE/logs/BoT_IoT/split_random_window_combined_port/best_model_all_raw.pth\n",
      "inference start\n"
     ]
    },
    {
     "name": "stderr",
     "output_type": "stream",
     "text": [
      "                                                              \r"
     ]
    },
    {
     "name": "stdout",
     "output_type": "stream",
     "text": [
      "Test Accuracy: 0.1768\n",
      "Adversarial confusion matrix: [[    0     0     0     0     0     0]\n",
      " [    0     0     0     0     0     0]\n",
      " [    0     0     0     0     0     0]\n",
      " [    0     0     0     0     0     0]\n",
      " [    0     0     0     0     0     0]\n",
      " [    0  3244 43751   169    86     0]]\n",
      "class_map ['DDoS' 'DoS' 'Normal' 'Reconnaissance' 'Theft']\n",
      "[[ 47719  24384 224575      3      0]\n",
      " [    31  49760 193526      2      0]\n",
      " [     0      3    156      4      0]\n",
      " [     1    468   1773   8064     31]\n",
      " [     0      0      0      0      0]]\n",
      "                precision    recall  f1-score   support\n",
      "\n",
      "          DDoS     0.9993    0.1608    0.2771    296681\n",
      "           DoS     0.6669    0.2045    0.3130    243319\n",
      "        Normal     0.0004    0.9571    0.0007       163\n",
      "Reconnaissance     0.9989    0.7801    0.8760     10337\n",
      "         Theft     0.0000    0.0000    0.0000         0\n",
      "\n",
      "      accuracy                         0.1920    550500\n",
      "     macro avg     0.5331    0.4205    0.2934    550500\n",
      "  weighted avg     0.8521    0.1920    0.3041    550500\n",
      "\n"
     ]
    },
    {
     "name": "stderr",
     "output_type": "stream",
     "text": [
      "/vol/bitbucket/shc20/FYP/GNN-Adversarial-Attack/.venv/lib/python3.12/site-packages/sklearn/metrics/_classification.py:1565: UndefinedMetricWarning: Recall is ill-defined and being set to 0.0 in labels with no true samples. Use `zero_division` parameter to control this behavior.\n",
      "  _warn_prf(average, modifier, f\"{metric.capitalize()} is\", len(result))\n",
      "/vol/bitbucket/shc20/FYP/GNN-Adversarial-Attack/.venv/lib/python3.12/site-packages/sklearn/metrics/_classification.py:1565: UndefinedMetricWarning: Recall is ill-defined and being set to 0.0 in labels with no true samples. Use `zero_division` parameter to control this behavior.\n",
      "  _warn_prf(average, modifier, f\"{metric.capitalize()} is\", len(result))\n",
      "/vol/bitbucket/shc20/FYP/GNN-Adversarial-Attack/.venv/lib/python3.12/site-packages/sklearn/metrics/_classification.py:1565: UndefinedMetricWarning: Recall is ill-defined and being set to 0.0 in labels with no true samples. Use `zero_division` parameter to control this behavior.\n",
      "  _warn_prf(average, modifier, f\"{metric.capitalize()} is\", len(result))\n"
     ]
    }
   ],
   "source": [
    "# Inject BENIGN Traffic to Attacker Nodes\n",
    "inject_edge_attr_pool_saved = []\n",
    "injected_graph_dataset = [inject_traffic_to_attacker(g.cpu(), 0.1, num_injected_nodes=1, is_attack=False) for g in test_graph_dataset]\n",
    "eval(injected_graph_dataset, adversarial=True)"
   ]
  },
  {
   "cell_type": "code",
   "execution_count": 83,
   "id": "d15c7a8e",
   "metadata": {},
   "outputs": [],
   "source": [
    "def inject_random_nodes(graph, ratio=0.1, num_injected_nodes=1):\n",
    "\tedge_index = graph.edge_index.clone()\n",
    "\tedge_attr = graph.edge_attr.clone()\n",
    "\tedge_label = graph.edge_label.clone()\n",
    "\tx = graph.x.clone()\n",
    "\n",
    "\tnum_edges = edge_index.size(1)\n",
    "\tfeature_dim = graph.x.size(1)\n",
    "\n",
    "\t# 1. Inject new nodes\n",
    "\toriginal_num_nodes = x.size(0)\n",
    "\tnew_node_feats = th.ones((num_injected_nodes, feature_dim))\n",
    "\tx = th.cat([x, new_node_feats], dim=0)\n",
    "\n",
    "\t# 2. Inject random edges\n",
    "\tnum_to_inject = max(1, int(ratio * num_edges))\n",
    "\tnew_edges = []\n",
    "\tnew_attrs = []\n",
    "\tnew_labels = []\n",
    "\n",
    "\tfor _ in range(num_to_inject):\n",
    "\t\tsrc = random.randint(original_num_nodes, original_num_nodes + num_injected_nodes - 1)  # from injected nodes\n",
    "\t\tdst = random.randint(0, original_num_nodes - 1)  # to existing nodes\n",
    "\n",
    "\t\tnew_edges.append([src, dst])\n",
    "\t\tattr = edge_attr[random.randint(0, len(edge_attr) - 1)]  # Randomly sample edge attributes\n",
    "\t\tnew_attrs.append(attr)\n",
    "\t\tnew_labels.append(ADVERSARIAL_CLASS_LABEL)  # Assign benign class label to new edges\n",
    "\n",
    "\t# 3. Merge into graph\n",
    "\tif new_edges:\n",
    "\t\tnew_edges = th.tensor(new_edges, dtype=th.long).t().contiguous()\n",
    "\t\tnew_attrs = th.stack(new_attrs)\n",
    "\t\tnew_labels = th.tensor(new_labels, dtype=th.long)\n",
    "\n",
    "\t\tedge_index = th.cat([edge_index, new_edges], dim=1)\n",
    "\t\tedge_attr = th.cat([edge_attr, new_attrs], dim=0)\n",
    "\t\tedge_label = th.cat([edge_label, new_labels], dim=0)\n",
    "\n",
    "\t# Create a new graph with the injected nodes and edges\n",
    "\tnew_graph = Data(\n",
    "\t\tedge_index=edge_index,\n",
    "\t\tedge_attr=edge_attr,\n",
    "\t\tedge_label=edge_label,\n",
    "\t\tx=x\n",
    "\t)\n",
    "\n",
    "\treturn new_graph"
   ]
  },
  {
   "cell_type": "code",
   "execution_count": null,
   "id": "39b73040",
   "metadata": {},
   "outputs": [
    {
     "name": "stdout",
     "output_type": "stream",
     "text": [
      "Loading model from /vol/bitbucket/shc20/FYP/GNN-Adversarial-Attack/Models/E_GraphSAGE/logs/BoT_IoT/split_random_window_combined_port/best_model_all_raw.pth\n",
      "inference start\n"
     ]
    },
    {
     "name": "stderr",
     "output_type": "stream",
     "text": [
      "/vol/bitbucket/shc20/FYP/GNN-Adversarial-Attack/.venv/lib/python3.12/site-packages/sklearn/metrics/_classification.py:1565: UndefinedMetricWarning: Recall is ill-defined and being set to 0.0 in labels with no true samples. Use `zero_division` parameter to control this behavior.\n",
      "  _warn_prf(average, modifier, f\"{metric.capitalize()} is\", len(result))\n"
     ]
    },
    {
     "name": "stdout",
     "output_type": "stream",
     "text": [
      "Test Accuracy: 0.5440\n",
      "Adversarial confusion matrix: [[    0     0     0     0     0     0]\n",
      " [    0     0     0     0     0     0]\n",
      " [    0     0     0     0     0     0]\n",
      " [    0     0     0     0     0     0]\n",
      " [    0     0     0     0     0     0]\n",
      " [36532 17471    14  1031     2     0]]\n",
      "class_map ['DDoS' 'DoS' 'Normal' 'Reconnaissance' 'Theft']\n",
      "[[296677      0      0      4      0]\n",
      " [218053  22302      0   2964      0]\n",
      " [     0      2    146     11      4]\n",
      " [     1      1     34  10277     24]\n",
      " [     0      0      0      0      0]]\n",
      "                precision    recall  f1-score   support\n",
      "\n",
      "          DDoS     0.5764    1.0000    0.7313    296681\n",
      "           DoS     0.9999    0.0917    0.1679    243319\n",
      "        Normal     0.8111    0.8957    0.8513       163\n",
      "Reconnaissance     0.7753    0.9942    0.8712     10337\n",
      "         Theft     0.0000    0.0000    0.0000         0\n",
      "\n",
      "      accuracy                         0.5984    550500\n",
      "     macro avg     0.6325    0.5963    0.5243    550500\n",
      "  weighted avg     0.7674    0.5984    0.4849    550500\n",
      "\n"
     ]
    },
    {
     "name": "stderr",
     "output_type": "stream",
     "text": [
      "/vol/bitbucket/shc20/FYP/GNN-Adversarial-Attack/.venv/lib/python3.12/site-packages/sklearn/metrics/_classification.py:1565: UndefinedMetricWarning: Recall is ill-defined and being set to 0.0 in labels with no true samples. Use `zero_division` parameter to control this behavior.\n",
      "  _warn_prf(average, modifier, f\"{metric.capitalize()} is\", len(result))\n",
      "/vol/bitbucket/shc20/FYP/GNN-Adversarial-Attack/.venv/lib/python3.12/site-packages/sklearn/metrics/_classification.py:1565: UndefinedMetricWarning: Recall is ill-defined and being set to 0.0 in labels with no true samples. Use `zero_division` parameter to control this behavior.\n",
      "  _warn_prf(average, modifier, f\"{metric.capitalize()} is\", len(result))\n"
     ]
    },
    {
     "ename": "",
     "evalue": "",
     "output_type": "error",
     "traceback": [
      "\u001b[1;31mThe Kernel crashed while executing code in the current cell or a previous cell. \n",
      "\u001b[1;31mPlease review the code in the cell(s) to identify a possible cause of the failure. \n",
      "\u001b[1;31mClick <a href='https://aka.ms/vscodeJupyterKernelCrash'>here</a> for more info. \n",
      "\u001b[1;31mView Jupyter <a href='command:jupyter.viewOutput'>log</a> for further details."
     ]
    }
   ],
   "source": [
    "# Inject Random Nodes in the graph\n",
    "injected_graph_dataset = [inject_random_nodes(g.cpu(), 0.1, num_injected_nodes=1) for g in test_graph_dataset]\n",
    "eval(injected_graph_dataset, adversarial=True)"
   ]
  }
 ],
 "metadata": {
  "kernelspec": {
   "display_name": ".venv",
   "language": "python",
   "name": "python3"
  },
  "language_info": {
   "codemirror_mode": {
    "name": "ipython",
    "version": 3
   },
   "file_extension": ".py",
   "mimetype": "text/x-python",
   "name": "python",
   "nbconvert_exporter": "python",
   "pygments_lexer": "ipython3",
   "version": "3.12.3"
  }
 },
 "nbformat": 4,
 "nbformat_minor": 5
}
