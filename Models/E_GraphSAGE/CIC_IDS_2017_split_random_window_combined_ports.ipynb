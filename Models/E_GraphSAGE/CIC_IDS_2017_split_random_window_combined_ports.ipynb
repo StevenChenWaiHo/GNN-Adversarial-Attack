{
 "cells": [
  {
   "cell_type": "code",
   "execution_count": 93,
   "id": "9fb9e1b2-1c5f-49e3-82b4-3bfe52cabad8",
   "metadata": {},
   "outputs": [],
   "source": [
    "'''\n",
    "=====Experiment=====\n",
    "Dataset: CIC-IDS-2017 dataset\n",
    "\n",
    "Downsample 90% normal traffic randomly\n",
    "Split train and test subgraph randomly\n",
    "Training in chronological window subgraph\n",
    "\n",
    "IP + Port number as node\n",
    "'''\n",
    "\n",
    "from torch_geometric.utils import from_networkx, add_self_loops, degree\n",
    "from torch_geometric.nn import MessagePassing\n",
    "import torch_geometric.transforms as T\n",
    "from torch_geometric.data import DataLoader\n",
    "from torch_geometric.loader import NeighborSampler\n",
    "import torch.nn as nn\n",
    "import torch as th\n",
    "import torch.nn.functional as F\n",
    "# import dgl.function as fn\n",
    "import networkx as nx\n",
    "import pandas as pd\n",
    "import socket\n",
    "import struct\n",
    "import matplotlib.pyplot as plt\n",
    "import random\n",
    "from sklearn.preprocessing import LabelEncoder\n",
    "from sklearn.preprocessing import StandardScaler\n",
    "from sklearn.model_selection import train_test_split\n",
    "from sklearn.utils import class_weight\n",
    "# import seaborn as sns\n",
    "# import matplotlib.pyplot as plt\n",
    "import numpy as np\n",
    "import os\n",
    "import sys\n",
    "from iterstrat.ml_stratifiers import MultilabelStratifiedShuffleSplit\n",
    "from torch_geometric.loader import DataLoader\n",
    "\n",
    "\n",
    "project_root = os.path.abspath(os.path.join(os.getcwd(), '..', '..'))\n",
    "sys.path.append(project_root)\n",
    "\n",
    "from Datasets.CIC_IDS_2017.CIC_IDS_2017_config import CIC_IDS_2017_Config"
   ]
  },
  {
   "cell_type": "code",
   "execution_count": 94,
   "id": "9d9ef09a-d405-43b8-971e-fe9e6a592c9b",
   "metadata": {},
   "outputs": [
    {
     "name": "stdout",
     "output_type": "stream",
     "text": [
      "Label\n",
      "DoS Hulk                      231073\n",
      "BENIGN                        227310\n",
      "PortScan                      158930\n",
      "DDoS                          128027\n",
      "DoS GoldenEye                  10293\n",
      "FTP-Patator                     7938\n",
      "SSH-Patator                     5897\n",
      "DoS slowloris                   5796\n",
      "DoS Slowhttptest                5499\n",
      "Bot                             1966\n",
      "Web Attack - Brute Force        1507\n",
      "Web Attack - XSS                 652\n",
      "Infiltration                      36\n",
      "Web Attack - Sql Injection        21\n",
      "Heartbleed                        11\n",
      "Name: count, dtype: int64\n"
     ]
    }
   ],
   "source": [
    "csv_file_name = \"all_downsampled\"\n",
    "\n",
    "data = pd.read_csv(os.path.join(project_root, \"Datasets\", f\"CIC_IDS_2017/All/{csv_file_name}.csv\"))\n",
    "\n",
    "DATASET_NAME = \"CIC_IDS_2017\"\n",
    "EXPERIMENT_NAME = \"split_random_window_combined_port\"\n",
    "\n",
    "SOURCE_FILE_ID_COL_NAME = CIC_IDS_2017_Config.SOURCE_FILE_ID_COL_NAME\n",
    "\n",
    "SOURCE_IP_COL_NAME = CIC_IDS_2017_Config.SOURCE_IP_COL_NAME\n",
    "DESTINATION_IP_COL_NAME = CIC_IDS_2017_Config.DESTINATION_IP_COL_NAME\n",
    "SOURCE_PORT_COL_NAME = CIC_IDS_2017_Config.SOURCE_PORT_COL_NAME\n",
    "DESTINATION_PORT_COL_NAME = CIC_IDS_2017_Config.DESTINATION_PORT_COL_NAME\n",
    "\n",
    "ATTACK_CLASS_COL_NAME = CIC_IDS_2017_Config.ATTACK_CLASS_COL_NAME\n",
    "\n",
    "BENIGN_CLASS_NAME = CIC_IDS_2017_Config.BENIGN_CLASS_NAME\n",
    "\n",
    "TIME_COLS = CIC_IDS_2017_Config.TIME_COL_NAMES\n",
    "\n",
    "print(data[ATTACK_CLASS_COL_NAME].value_counts())\n",
    "\n",
    "MULTICLASS = True\n",
    "\n",
    "label_col = ATTACK_CLASS_COL_NAME\n",
    "\n",
    "\n",
    "saves_path = os.path.join(project_root, \"Models/E_GraphSAGE/logs\", DATASET_NAME, EXPERIMENT_NAME)\n",
    "\n",
    "checkpoint_path = os.path.join(saves_path, f\"checkpoints_{csv_file_name}.pth\")\n",
    "best_model_path = os.path.join(saves_path, f\"best_model_{csv_file_name}.pth\")\n",
    "\n",
    "os.makedirs(saves_path, exist_ok=True)"
   ]
  },
  {
   "cell_type": "code",
   "execution_count": 95,
   "id": "449a1af1-1d3d-4179-9628-7c2ec551ce0c",
   "metadata": {},
   "outputs": [
    {
     "name": "stdout",
     "output_type": "stream",
     "text": [
      "Index(['Flow ID', 'Source IP', 'Source Port', 'Destination IP',\n",
      "       'Destination Port', 'Protocol', 'Timestamp', 'Flow Duration',\n",
      "       'Total Length of Fwd Packets', 'Fwd Packet Length Mean',\n",
      "       'Fwd Packet Length Std', 'Bwd Packet Length Min',\n",
      "       'Bwd Packet Length Std', 'Flow Packets/s', 'Flow IAT Mean',\n",
      "       'Flow IAT Std', 'Flow IAT Min', 'Fwd IAT Min', 'Bwd IAT Mean',\n",
      "       'Fwd PSH Flags', 'SYN Flag Count', 'PSH Flag Count', 'ACK Flag Count',\n",
      "       'Average Packet Size', 'Fwd Header Length.1', 'Subflow Fwd Packets',\n",
      "       'Subflow Fwd Bytes', 'Subflow Bwd Bytes', 'Init_Win_bytes_forward',\n",
      "       'Active Mean', 'Active Min', 'Label', 'source_file_id'],\n",
      "      dtype='object')\n"
     ]
    }
   ],
   "source": [
    "data.drop(columns=CIC_IDS_2017_Config.DROP_COLS,inplace=True)\n",
    "print(data.columns)"
   ]
  },
  {
   "cell_type": "code",
   "execution_count": 96,
   "id": "2a2c690c-86a4-49f7-aa9c-58f94529547d",
   "metadata": {},
   "outputs": [],
   "source": [
    "data[SOURCE_IP_COL_NAME] = data[SOURCE_IP_COL_NAME].apply(str)\n",
    "data[DESTINATION_IP_COL_NAME] = data[DESTINATION_IP_COL_NAME].apply(str)\n",
    "\n",
    "# # Combine Port and IP\n",
    "data[SOURCE_PORT_COL_NAME] = data[SOURCE_PORT_COL_NAME].apply(str)\n",
    "data[DESTINATION_PORT_COL_NAME] = data[DESTINATION_PORT_COL_NAME].apply(str)\n",
    "\n",
    "data[SOURCE_IP_COL_NAME] = data[SOURCE_IP_COL_NAME] + ':' + data[SOURCE_PORT_COL_NAME]\n",
    "data[DESTINATION_IP_COL_NAME] = data[DESTINATION_IP_COL_NAME] + ':' + data[DESTINATION_PORT_COL_NAME]\n",
    "data.drop(columns=[SOURCE_PORT_COL_NAME,DESTINATION_PORT_COL_NAME],inplace=True)\n",
    "\n",
    "data = pd.get_dummies(data, columns = CIC_IDS_2017_Config.CATEGORICAL_COLS) # One Hot Encoding for categorical data\n",
    "converted_categorical_cols = [col for col in data.columns if col.startswith(tuple(CIC_IDS_2017_Config.CATEGORICAL_COLS))]"
   ]
  },
  {
   "cell_type": "code",
   "execution_count": 97,
   "id": "5651ef5b-0a9d-4641-aad7-5738092c46ce",
   "metadata": {},
   "outputs": [
    {
     "name": "stdout",
     "output_type": "stream",
     "text": [
      "<bound method NDFrame.head of                                          Flow ID              Source IP  \\\n",
      "0        192.168.10.14-23.208.79.179-51174-443-6  192.168.10.14_4:51174   \n",
      "1           192.168.10.5-72.247.71.12-53469-80-6      72.247.71.12_7:80   \n",
      "2       192.168.10.17-104.19.194.102-58257-443-6  192.168.10.17_4:58257   \n",
      "3          192.168.10.8-93.184.215.13-58377-80-6   192.168.10.8_4:58377   \n",
      "4        192.168.10.12-34.198.61.240-40382-443-6    34.198.61.240_1:443   \n",
      "...                                          ...                    ...   \n",
      "784951      172.16.0.1-192.168.10.50-42006-445-6     172.16.0.1_7:42006   \n",
      "784952       172.16.0.1-192.168.10.50-57546-80-6     172.16.0.1_7:57546   \n",
      "784953      172.16.0.1-192.168.10.50-49768-139-6     172.16.0.1_7:49768   \n",
      "784954     172.16.0.1-192.168.10.50-44870-2000-6     172.16.0.1_7:44870   \n",
      "784955       172.16.0.1-192.168.10.50-57546-80-6     172.16.0.1_7:57546   \n",
      "\n",
      "               Destination IP            Timestamp  Flow Duration  \\\n",
      "0         23.208.79.179_4:443       5/7/2017 10:09        5796235   \n",
      "1        192.168.10.5_7:53469        7/7/2017 2:11             30   \n",
      "2        104.19.194.102_4:443        5/7/2017 2:04      117057923   \n",
      "3          93.184.215.13_4:80        5/7/2017 2:36         600037   \n",
      "4       192.168.10.12_1:40382  03/07/2017 10:58:08             54   \n",
      "...                       ...                  ...            ...   \n",
      "784951    192.168.10.50_7:445        7/7/2017 3:23        6026748   \n",
      "784952     192.168.10.50_7:80        7/7/2017 3:23        6007698   \n",
      "784953    192.168.10.50_7:139        7/7/2017 3:23        8439702   \n",
      "784954   192.168.10.50_7:2000        7/7/2017 3:23             57   \n",
      "784955     192.168.10.50_7:80        7/7/2017 3:23          18632   \n",
      "\n",
      "        Total Length of Fwd Packets  Fwd Packet Length Mean  \\\n",
      "0                             378.0               42.000000   \n",
      "1                               6.0                6.000000   \n",
      "2                             996.0               71.142857   \n",
      "3                              12.0                6.000000   \n",
      "4                               0.0                0.000000   \n",
      "...                             ...                     ...   \n",
      "784951                        168.0               33.600000   \n",
      "784952                         18.0                6.000000   \n",
      "784953                         18.0                4.500000   \n",
      "784954                          0.0                0.000000   \n",
      "784955                          0.0                0.000000   \n",
      "\n",
      "        Fwd Packet Length Std  Bwd Packet Length Min  Bwd Packet Length Std  \\\n",
      "0                   68.576600                    0.0             770.816126   \n",
      "1                    0.000000                    6.0               0.000000   \n",
      "2                  126.478248                    0.0             725.951972   \n",
      "3                    0.000000                    0.0               0.000000   \n",
      "4                    0.000000                    0.0               0.000000   \n",
      "...                       ...                    ...                    ...   \n",
      "784951              75.131884                    0.0              73.323484   \n",
      "784952              10.392305                    0.0            2181.008184   \n",
      "784953               9.000000                    0.0               0.000000   \n",
      "784954               0.000000                    6.0               0.000000   \n",
      "784955               0.000000                    0.0               0.000000   \n",
      "\n",
      "        ...  Subflow Fwd Bytes  Subflow Bwd Bytes  Init_Win_bytes_forward  \\\n",
      "0       ...                378               4689                    8192   \n",
      "1       ...                  6                  6                    1013   \n",
      "2       ...                996               6127                   29200   \n",
      "3       ...                 12                  0                   16425   \n",
      "4       ...                  0                  0                     115   \n",
      "...     ...                ...                ...                     ...   \n",
      "784951  ...                168                127                   29200   \n",
      "784952  ...                 18              11595                   29200   \n",
      "784953  ...                 18                  0                   29200   \n",
      "784954  ...                  0                  6                   64240   \n",
      "784955  ...                  0                  0                     251   \n",
      "\n",
      "        Active Mean  Active Min     Label  source_file_id  Protocol_0  \\\n",
      "0          127600.0    127600.0    BENIGN               4       False   \n",
      "1               0.0         0.0    BENIGN               7       False   \n",
      "2           71936.5     15365.0    BENIGN               4       False   \n",
      "3               0.0         0.0    BENIGN               4       False   \n",
      "4               0.0         0.0    BENIGN               1       False   \n",
      "...             ...         ...       ...             ...         ...   \n",
      "784951        596.0       596.0  PortScan               7       False   \n",
      "784952        606.0       606.0  PortScan               7       False   \n",
      "784953        598.0       598.0  PortScan               7       False   \n",
      "784954          0.0         0.0  PortScan               7       False   \n",
      "784955          0.0         0.0  PortScan               7       False   \n",
      "\n",
      "        Protocol_6  Protocol_17  \n",
      "0             True        False  \n",
      "1             True        False  \n",
      "2             True        False  \n",
      "3             True        False  \n",
      "4             True        False  \n",
      "...            ...          ...  \n",
      "784951        True        False  \n",
      "784952        True        False  \n",
      "784953        True        False  \n",
      "784954        True        False  \n",
      "784955        True        False  \n",
      "\n",
      "[784956 rows x 33 columns]>\n"
     ]
    }
   ],
   "source": [
    "print(data.head)"
   ]
  },
  {
   "cell_type": "code",
   "execution_count": 98,
   "id": "e2d96115-31f9-48cb-b3e6-7853d2d253cf",
   "metadata": {},
   "outputs": [
    {
     "name": "stdout",
     "output_type": "stream",
     "text": [
      "<bound method NDFrame.head of                                          Flow ID              Source IP  \\\n",
      "0        192.168.10.14-23.208.79.179-51174-443-6  192.168.10.14_4:51174   \n",
      "1           192.168.10.5-72.247.71.12-53469-80-6      72.247.71.12_7:80   \n",
      "2       192.168.10.17-104.19.194.102-58257-443-6  192.168.10.17_4:58257   \n",
      "3          192.168.10.8-93.184.215.13-58377-80-6   192.168.10.8_4:58377   \n",
      "4        192.168.10.12-34.198.61.240-40382-443-6    34.198.61.240_1:443   \n",
      "...                                          ...                    ...   \n",
      "784951      172.16.0.1-192.168.10.50-42006-445-6     172.16.0.1_7:42006   \n",
      "784952       172.16.0.1-192.168.10.50-57546-80-6     172.16.0.1_7:57546   \n",
      "784953      172.16.0.1-192.168.10.50-49768-139-6     172.16.0.1_7:49768   \n",
      "784954     172.16.0.1-192.168.10.50-44870-2000-6     172.16.0.1_7:44870   \n",
      "784955       172.16.0.1-192.168.10.50-57546-80-6     172.16.0.1_7:57546   \n",
      "\n",
      "               Destination IP            Timestamp  Flow Duration  \\\n",
      "0         23.208.79.179_4:443       5/7/2017 10:09        5796235   \n",
      "1        192.168.10.5_7:53469        7/7/2017 2:11             30   \n",
      "2        104.19.194.102_4:443        5/7/2017 2:04      117057923   \n",
      "3          93.184.215.13_4:80        5/7/2017 2:36         600037   \n",
      "4       192.168.10.12_1:40382  03/07/2017 10:58:08             54   \n",
      "...                       ...                  ...            ...   \n",
      "784951    192.168.10.50_7:445        7/7/2017 3:23        6026748   \n",
      "784952     192.168.10.50_7:80        7/7/2017 3:23        6007698   \n",
      "784953    192.168.10.50_7:139        7/7/2017 3:23        8439702   \n",
      "784954   192.168.10.50_7:2000        7/7/2017 3:23             57   \n",
      "784955     192.168.10.50_7:80        7/7/2017 3:23          18632   \n",
      "\n",
      "        Total Length of Fwd Packets  Fwd Packet Length Mean  \\\n",
      "0                             378.0               42.000000   \n",
      "1                               6.0                6.000000   \n",
      "2                             996.0               71.142857   \n",
      "3                              12.0                6.000000   \n",
      "4                               0.0                0.000000   \n",
      "...                             ...                     ...   \n",
      "784951                        168.0               33.600000   \n",
      "784952                         18.0                6.000000   \n",
      "784953                         18.0                4.500000   \n",
      "784954                          0.0                0.000000   \n",
      "784955                          0.0                0.000000   \n",
      "\n",
      "        Fwd Packet Length Std  Bwd Packet Length Min  Bwd Packet Length Std  \\\n",
      "0                   68.576600                    0.0             770.816126   \n",
      "1                    0.000000                    6.0               0.000000   \n",
      "2                  126.478248                    0.0             725.951972   \n",
      "3                    0.000000                    0.0               0.000000   \n",
      "4                    0.000000                    0.0               0.000000   \n",
      "...                       ...                    ...                    ...   \n",
      "784951              75.131884                    0.0              73.323484   \n",
      "784952              10.392305                    0.0            2181.008184   \n",
      "784953               9.000000                    0.0               0.000000   \n",
      "784954               0.000000                    6.0               0.000000   \n",
      "784955               0.000000                    0.0               0.000000   \n",
      "\n",
      "        ...  Subflow Fwd Bytes  Subflow Bwd Bytes  Init_Win_bytes_forward  \\\n",
      "0       ...                378               4689                    8192   \n",
      "1       ...                  6                  6                    1013   \n",
      "2       ...                996               6127                   29200   \n",
      "3       ...                 12                  0                   16425   \n",
      "4       ...                  0                  0                     115   \n",
      "...     ...                ...                ...                     ...   \n",
      "784951  ...                168                127                   29200   \n",
      "784952  ...                 18              11595                   29200   \n",
      "784953  ...                 18                  0                   29200   \n",
      "784954  ...                  0                  6                   64240   \n",
      "784955  ...                  0                  0                     251   \n",
      "\n",
      "        Active Mean  Active Min     Label  source_file_id  Protocol_0  \\\n",
      "0          127600.0    127600.0    BENIGN               4       False   \n",
      "1               0.0         0.0    BENIGN               7       False   \n",
      "2           71936.5     15365.0    BENIGN               4       False   \n",
      "3               0.0         0.0    BENIGN               4       False   \n",
      "4               0.0         0.0    BENIGN               1       False   \n",
      "...             ...         ...       ...             ...         ...   \n",
      "784951        596.0       596.0  PortScan               7       False   \n",
      "784952        606.0       606.0  PortScan               7       False   \n",
      "784953        598.0       598.0  PortScan               7       False   \n",
      "784954          0.0         0.0  PortScan               7       False   \n",
      "784955          0.0         0.0  PortScan               7       False   \n",
      "\n",
      "        Protocol_6  Protocol_17  \n",
      "0             True        False  \n",
      "1             True        False  \n",
      "2             True        False  \n",
      "3             True        False  \n",
      "4             True        False  \n",
      "...            ...          ...  \n",
      "784951        True        False  \n",
      "784952        True        False  \n",
      "784953        True        False  \n",
      "784954        True        False  \n",
      "784955        True        False  \n",
      "\n",
      "[784956 rows x 33 columns]>\n"
     ]
    }
   ],
   "source": [
    "data = data.reset_index()\n",
    "data.replace([np.inf, -np.inf], np.nan,inplace = True)\n",
    "data.fillna(0,inplace = True)\n",
    "data.drop(columns=['index'],inplace=True)\n",
    "print(data.head)"
   ]
  },
  {
   "cell_type": "code",
   "execution_count": 99,
   "id": "b1df5c4c-70a2-4566-ae5e-ee3dcc6037a5",
   "metadata": {},
   "outputs": [
    {
     "name": "stdout",
     "output_type": "stream",
     "text": [
      "       Bwd Packet Length Min  Subflow Fwd Packets  \\\n",
      "count          784956.000000        784956.000000   \n",
      "mean               16.079970             5.867280   \n",
      "std                47.215745           423.380115   \n",
      "min                 0.000000             1.000000   \n",
      "25%                 0.000000             1.000000   \n",
      "50%                 0.000000             3.000000   \n",
      "75%                 6.000000             6.000000   \n",
      "max              2896.000000        209916.000000   \n",
      "\n",
      "       Total Length of Fwd Packets  Fwd Packet Length Mean  \\\n",
      "count                 7.849560e+05           784956.000000   \n",
      "mean                  3.177689e+02               36.806877   \n",
      "std                   6.370183e+03              124.200090   \n",
      "min                   0.000000e+00                0.000000   \n",
      "25%                   2.000000e+00                2.000000   \n",
      "50%                   2.600000e+01                8.666667   \n",
      "75%                   3.220000e+02               47.000000   \n",
      "max                   2.866110e+06             5940.857143   \n",
      "\n",
      "       Total Length of Fwd Packets  Fwd Packet Length Std   Fwd IAT Min  \\\n",
      "count                 7.849560e+05          784956.000000  7.849560e+05   \n",
      "mean                  3.177689e+02              54.092176  7.200132e+05   \n",
      "std                   6.370183e+03             179.832306  7.480002e+06   \n",
      "min                   0.000000e+00               0.000000 -1.200000e+01   \n",
      "25%                   2.000000e+00               0.000000  0.000000e+00   \n",
      "50%                   2.600000e+01               0.000000  2.000000e+00   \n",
      "75%                   3.220000e+02             108.187337  4.800000e+01   \n",
      "max                   2.866110e+06            7049.469004  1.200000e+08   \n",
      "\n",
      "       Flow IAT Min  Flow IAT Mean  Bwd Packet Length Std  ...   Active Mean  \\\n",
      "count  7.849560e+05   7.849560e+05          784956.000000  ...  7.849560e+05   \n",
      "mean   2.010515e+05   2.314479e+06             888.199204  ...  9.422461e+04   \n",
      "std    3.538292e+06   5.260519e+06            1386.441838  ...  6.588593e+05   \n",
      "min   -1.300000e+01  -1.200000e+01               0.000000  ...  0.000000e+00   \n",
      "25%    2.000000e+00   5.400000e+01               0.000000  ...  0.000000e+00   \n",
      "50%    5.000000e+00   1.789056e+04               0.000000  ...  0.000000e+00   \n",
      "75%    4.900000e+01   2.917921e+06            1760.597234  ...  8.800000e+02   \n",
      "max    1.200000e+08   1.200000e+08            8194.660487  ...  1.020000e+08   \n",
      "\n",
      "       Bwd IAT Mean  Subflow Bwd Bytes  Init_Win_bytes_forward  \\\n",
      "count  7.849560e+05       7.849560e+05           784956.000000   \n",
      "mean   1.870857e+06       8.760160e+03             7237.375389   \n",
      "std    8.011958e+06       1.244004e+06            12679.556553   \n",
      "min    0.000000e+00       0.000000e+00               -1.000000   \n",
      "25%    0.000000e+00       0.000000e+00              251.000000   \n",
      "50%    1.000000e+00       7.400000e+01              274.000000   \n",
      "75%    3.511512e+04       1.159500e+04             8192.000000   \n",
      "max    1.200000e+08       6.176585e+08            65535.000000   \n",
      "\n",
      "       ACK Flag Count  Fwd PSH Flags  SYN Flag Count  Flow Packets/s  \\\n",
      "count   784956.000000  784956.000000   784956.000000    7.849560e+05   \n",
      "mean         0.390531       0.024274        0.024274    8.658184e+04   \n",
      "std          0.487870       0.153899        0.153899    2.892078e+05   \n",
      "min          0.000000       0.000000        0.000000   -2.000000e+06   \n",
      "25%          0.000000       0.000000        0.000000    3.988248e-01   \n",
      "50%          0.000000       0.000000        0.000000    7.268762e+01   \n",
      "75%          1.000000       0.000000        0.000000    3.508772e+04   \n",
      "max          1.000000       1.000000        1.000000    3.000000e+06   \n",
      "\n",
      "       PSH Flag Count  Average Packet Size  \n",
      "count   784956.000000        784956.000000  \n",
      "mean         0.402430           368.879063  \n",
      "std          0.490388           502.979522  \n",
      "min          0.000000             0.000000  \n",
      "25%          0.000000             4.500000  \n",
      "50%          0.000000            54.250000  \n",
      "75%          1.000000           853.571429  \n",
      "max          1.000000          2847.000000  \n",
      "\n",
      "[8 rows x 24 columns]\n"
     ]
    }
   ],
   "source": [
    "scaler = StandardScaler()\n",
    "cols_to_norm = CIC_IDS_2017_Config.COLS_TO_NORM\n",
    "print(data[cols_to_norm].describe()) # Check if there's any too large value"
   ]
  },
  {
   "cell_type": "code",
   "execution_count": 100,
   "id": "9ea95177",
   "metadata": {},
   "outputs": [
    {
     "name": "stdout",
     "output_type": "stream",
     "text": [
      "\n",
      "✅ All other columns processed successfully.\n"
     ]
    }
   ],
   "source": [
    "def check_numeric_issues(df, cols_to_norm):\n",
    "    for col in cols_to_norm:\n",
    "        try:\n",
    "            # Try to coerce to numeric\n",
    "            df[col] = pd.to_numeric(df[col], errors='coerce')\n",
    "            \n",
    "            # Try to clip the column\n",
    "            df[col] = df[col].clip(lower=-1e9, upper=1e9)\n",
    "            \n",
    "        except Exception as e:\n",
    "            print(f\"❌ Column '{col}' failed with error: {e}\")\n",
    "            print(f\"  - Sample values: {df[col].dropna().unique()[:5]}\")\n",
    "            print(f\"  - Data type: {df[col].dtype}\")\n",
    "            continue\n",
    "\n",
    "    print(\"\\n✅ All other columns processed successfully.\")\n",
    "\n",
    "check_numeric_issues(data, CIC_IDS_2017_Config.COLS_TO_NORM)"
   ]
  },
  {
   "cell_type": "code",
   "execution_count": 101,
   "id": "37256006-abc1-44aa-8e74-46d05dc6ad84",
   "metadata": {},
   "outputs": [],
   "source": [
    "data[cols_to_norm] = scaler.fit_transform(data[cols_to_norm])"
   ]
  },
  {
   "cell_type": "code",
   "execution_count": 102,
   "id": "61c6e17f",
   "metadata": {},
   "outputs": [
    {
     "name": "stdout",
     "output_type": "stream",
     "text": [
      "['BENIGN' 'Bot' 'DDoS' 'DoS GoldenEye' 'DoS Hulk' 'DoS Slowhttptest'\n",
      " 'DoS slowloris' 'FTP-Patator' 'Heartbleed' 'Infiltration' 'PortScan'\n",
      " 'SSH-Patator' 'Web Attack - Brute Force' 'Web Attack - Sql Injection'\n",
      " 'Web Attack - XSS']\n",
      "Attack label mapping: {'BENIGN': 0, 'Bot': 1, 'DDoS': 2, 'DoS GoldenEye': 3, 'DoS Hulk': 4, 'DoS Slowhttptest': 5, 'DoS slowloris': 6, 'FTP-Patator': 7, 'Heartbleed': 8, 'Infiltration': 9, 'PortScan': 10, 'SSH-Patator': 11, 'Web Attack - Brute Force': 12, 'Web Attack - Sql Injection': 13, 'Web Attack - XSS': 14}\n"
     ]
    }
   ],
   "source": [
    "from sklearn.preprocessing import LabelEncoder\n",
    "\n",
    "num_classes = 2\n",
    "class_map = [0, 1]\n",
    "if MULTICLASS:\n",
    "    le = LabelEncoder()\n",
    "    attack_labels = le.fit_transform(data[ATTACK_CLASS_COL_NAME])\n",
    "    class_map = le.classes_\n",
    "    print(class_map)\n",
    "    print(\"Attack label mapping:\", dict(zip(class_map, range(len(class_map)))))\n",
    "    data[ATTACK_CLASS_COL_NAME] = attack_labels\n",
    "    num_classes = len(class_map)\n",
    "    class_dict = {le.inverse_transform([i])[0]: i for i in range(len(le.classes_))}\n",
    "\n",
    "BENIGN_CLASS_LABEL = le.transform([BENIGN_CLASS_NAME])[0] if MULTICLASS else 0\n",
    "ADVERSARIAL_CLASS_LABEL = len(class_map)"
   ]
  },
  {
   "cell_type": "code",
   "execution_count": 103,
   "id": "d35f4cdd-2716-431f-af50-b34cc3d2d535",
   "metadata": {},
   "outputs": [
    {
     "name": "stdout",
     "output_type": "stream",
     "text": [
      "Feature Columns: ['Bwd Packet Length Min', 'Subflow Fwd Packets', 'Total Length of Fwd Packets', 'Fwd Packet Length Mean', 'Total Length of Fwd Packets', 'Fwd Packet Length Std', 'Fwd IAT Min', 'Flow IAT Min', 'Flow IAT Mean', 'Bwd Packet Length Std', 'Subflow Fwd Bytes', 'Flow Duration', 'Flow IAT Std', 'Active Min', 'Active Mean', 'Bwd IAT Mean', 'Subflow Bwd Bytes', 'Init_Win_bytes_forward', 'ACK Flag Count', 'Fwd PSH Flags', 'SYN Flag Count', 'Flow Packets/s', 'PSH Flag Count', 'Average Packet Size', 'Protocol_0', 'Protocol_6', 'Protocol_17']\n",
      "Number of Features: 27\n"
     ]
    }
   ],
   "source": [
    "# # Maintain the order of the rows in the original dataframe\n",
    "\n",
    "feature_cols = cols_to_norm + converted_categorical_cols\n",
    "\n",
    "print('Feature Columns:', feature_cols)\n",
    "num_features = len(feature_cols)\n",
    "print('Number of Features:', num_features)\n",
    "\n",
    "data['h'] = data[ feature_cols ].values.tolist()"
   ]
  },
  {
   "cell_type": "code",
   "execution_count": 104,
   "id": "743e7faa",
   "metadata": {},
   "outputs": [],
   "source": [
    "def create_graph(df):\n",
    "\n",
    "    G_nx = nx.from_pandas_edgelist(df, SOURCE_IP_COL_NAME, DESTINATION_IP_COL_NAME, ['h', label_col], create_using=nx.MultiDiGraph())\n",
    "    G_pyg = from_networkx(G_nx)\n",
    "\n",
    "    num_nodes = G_pyg.num_nodes\n",
    "    num_edges = G_pyg.num_edges\n",
    "\n",
    "    G_pyg.x = th.ones(num_nodes, len(df['h'].iloc[0])) \n",
    "\n",
    "    edge_attr_list = []\n",
    "    edge_label_list = []\n",
    "\n",
    "    for u, v, key, data in G_nx.edges(keys=True, data=True):\n",
    "        edge_attr_list.append(data['h']) \n",
    "        edge_label_list.append(data[label_col]) \n",
    "\n",
    "    G_pyg.edge_attr = th.tensor(edge_attr_list, dtype=th.float32)\n",
    "    G_pyg.edge_label = th.tensor(edge_label_list, dtype=th.long)\n",
    "\n",
    "    return G_pyg"
   ]
  },
  {
   "cell_type": "code",
   "execution_count": 105,
   "id": "4e650028",
   "metadata": {},
   "outputs": [],
   "source": [
    "from collections import defaultdict\n",
    "from typing import Counter\n",
    "from sklearn.preprocessing import MultiLabelBinarizer\n",
    "\n",
    "from tqdm import tqdm\n",
    "\n",
    "class RandomGraphDataset:\n",
    "\n",
    "    def __init__(self, X, y):\n",
    "        self.X = X\n",
    "        self.y = y\n",
    "        self.total_count = len(self.y)\n",
    "\n",
    "        # Compute class weights\n",
    "        labels = []\n",
    "\n",
    "        for graph in self.X:\n",
    "            labels.append(graph.edge_label.tolist())\n",
    "\n",
    "        labels = np.concatenate(labels)\n",
    "\n",
    "        self.class_counts = Counter(labels)\n",
    "\n",
    "        # Compute the class weights\n",
    "        self.class_weights = class_weight.compute_class_weight(\n",
    "            class_weight='balanced',\n",
    "            classes=np.unique(labels),\n",
    "            y=labels\n",
    "        )\n",
    "\n",
    "    # def k_fold_split(self, k: int = 5, test_ratio: float = 0.15, random_state: int = 42):\n",
    "    #     cv = MultilabelStratifiedShuffleSplit(test_size=test_ratio, random_state=random_state, n_splits=k)\n",
    "\n",
    "    #     mlb = MultiLabelBinarizer()\n",
    "\n",
    "    #     y_binary = mlb.fit_transform(self.y)\n",
    "\n",
    "    #     return cv.split(np.zeros(len(self.X)), y_binary)\n",
    "\n",
    "    def graph_train_test_split(self, test_ratio: float = 0.15, random_state: int = 42):\n",
    "        X_train, X_test, y_train, y_test = train_test_split(self.X, self.y, test_size=test_ratio, random_state=random_state)\n",
    "\n",
    "        return RandomGraphDataset(X_train, y_train), RandomGraphDataset(X_test, y_test)\n",
    "    \n",
    "    def print_class_distribution_and_weights(self):\n",
    "        # Use the label encoder to inverse transform the class labels\n",
    "        class_counts_named = {cls: count for cls, count in self.class_counts.items()}\n",
    "        class_weights_named = {cls: weight for cls, weight in enumerate(self.class_weights)}\n",
    "        print(\"Class Counts and Weights:\")\n",
    "        for cls_label in class_counts_named.keys():\n",
    "            count = class_counts_named[cls_label]\n",
    "            weight = class_weights_named[cls_label]\n",
    "            print(f\"{cls_label:<2}  {le.inverse_transform([cls_label])[0]:<15}: Count = {count:<10}, Weight = {weight:<10.4f}\")\n",
    "    \n",
    "    def __len__(self):\n",
    "        return self.total_count\n",
    "\n",
    "    def __iter__(self):\n",
    "        for g in self.X:\n",
    "            yield g\n",
    "            \n",
    "    def __getitem__(self, idx):\n",
    "        if isinstance(idx, int):\n",
    "            return self.X[idx], self.y[idx]\n",
    "        elif isinstance(idx, slice):\n",
    "            return [self.X[i] for i in range(len(self.X))][idx], [self.y[i] for i in range(len(self.y))][idx]\n",
    "        else:\n",
    "            raise TypeError(\"Index must be an integer or a slice.\")\n",
    "\n",
    "def generate_graph_datasets(\n",
    "    df: pd.DataFrame, \n",
    "    window_size: int = 200, \n",
    "    # overlap_ratio: float = 0, \n",
    "    feature_cols=feature_cols,\n",
    "    ordering_cols=[SOURCE_FILE_ID_COL_NAME] + TIME_COLS + [ATTACK_CLASS_COL_NAME], \n",
    "    label_col=label_col,\n",
    "    build_graph_func=create_graph,\n",
    "    # downsampler=downsampler\n",
    "    ):\n",
    "\n",
    "    print(\"All Columns: \", df.columns)\n",
    "    print(\"Ordering Columns: \", ordering_cols)\n",
    "    assert all(col in df.columns for col in ordering_cols), \"All timestamp columns are required\"\n",
    "    assert label_col in df.columns, \"Edge label column 'label' is required\"\n",
    "    \n",
    "    df = df.sort_values(ordering_cols).reset_index(drop=True)\n",
    "    window_size = int(window_size)\n",
    "    \n",
    "    df.drop(columns=set(df.columns) - set(feature_cols) - set(label_col))\n",
    "\n",
    "    print(\"Final Columns: \", df.columns)\n",
    "    \n",
    "    label_counts_list = []\n",
    "    X = []\n",
    "    y = []\n",
    "\n",
    "    progress_bar = tqdm(range(0, len(df), window_size), desc=f\"Generating graphs\")\n",
    "    for start in progress_bar:\n",
    "        window_df = df[start: min(start + window_size, len(df))]\n",
    "        contains_label = window_df[label_col].unique()\n",
    "\n",
    "        G_pyg = build_graph_func(window_df)\n",
    "\n",
    "        label_counts = window_df[label_col].value_counts()\n",
    "\n",
    "        label_counts_list.append(label_counts)\n",
    "        X.append(G_pyg)\n",
    "        y.append(contains_label.tolist())\n",
    "\n",
    "    # X, y = downsampler.downsample(label_counts_list, X, y)\n",
    "        \n",
    "    return RandomGraphDataset(X, y)"
   ]
  },
  {
   "cell_type": "code",
   "execution_count": 106,
   "id": "491e7421",
   "metadata": {},
   "outputs": [
    {
     "name": "stdout",
     "output_type": "stream",
     "text": [
      "All Columns:  Index(['Flow ID', 'Source IP', 'Destination IP', 'Timestamp', 'Flow Duration',\n",
      "       'Total Length of Fwd Packets', 'Fwd Packet Length Mean',\n",
      "       'Fwd Packet Length Std', 'Bwd Packet Length Min',\n",
      "       'Bwd Packet Length Std', 'Flow Packets/s', 'Flow IAT Mean',\n",
      "       'Flow IAT Std', 'Flow IAT Min', 'Fwd IAT Min', 'Bwd IAT Mean',\n",
      "       'Fwd PSH Flags', 'SYN Flag Count', 'PSH Flag Count', 'ACK Flag Count',\n",
      "       'Average Packet Size', 'Fwd Header Length.1', 'Subflow Fwd Packets',\n",
      "       'Subflow Fwd Bytes', 'Subflow Bwd Bytes', 'Init_Win_bytes_forward',\n",
      "       'Active Mean', 'Active Min', 'Label', 'source_file_id', 'Protocol_0',\n",
      "       'Protocol_6', 'Protocol_17', 'h'],\n",
      "      dtype='object')\n",
      "Ordering Columns:  ['source_file_id', 'Timestamp', 'Label']\n",
      "Final Columns:  Index(['Flow ID', 'Source IP', 'Destination IP', 'Timestamp', 'Flow Duration',\n",
      "       'Total Length of Fwd Packets', 'Fwd Packet Length Mean',\n",
      "       'Fwd Packet Length Std', 'Bwd Packet Length Min',\n",
      "       'Bwd Packet Length Std', 'Flow Packets/s', 'Flow IAT Mean',\n",
      "       'Flow IAT Std', 'Flow IAT Min', 'Fwd IAT Min', 'Bwd IAT Mean',\n",
      "       'Fwd PSH Flags', 'SYN Flag Count', 'PSH Flag Count', 'ACK Flag Count',\n",
      "       'Average Packet Size', 'Fwd Header Length.1', 'Subflow Fwd Packets',\n",
      "       'Subflow Fwd Bytes', 'Subflow Bwd Bytes', 'Init_Win_bytes_forward',\n",
      "       'Active Mean', 'Active Min', 'Label', 'source_file_id', 'Protocol_0',\n",
      "       'Protocol_6', 'Protocol_17', 'h'],\n",
      "      dtype='object')\n"
     ]
    },
    {
     "name": "stderr",
     "output_type": "stream",
     "text": [
      "Generating graphs: 100%|██████████| 3925/3925 [00:30<00:00, 129.42it/s]\n"
     ]
    }
   ],
   "source": [
    "graph_dataset = generate_graph_datasets(data)\n",
    "full_train_graph_dataset, test_graph_dataset = graph_dataset.graph_train_test_split(test_ratio=0.15, random_state=42)\n"
   ]
  },
  {
   "cell_type": "code",
   "execution_count": 107,
   "id": "365fd330",
   "metadata": {},
   "outputs": [
    {
     "name": "stdout",
     "output_type": "stream",
     "text": [
      "Class Distrubution: Label\n",
      "4     231073\n",
      "0     227310\n",
      "10    158930\n",
      "2     128027\n",
      "3      10293\n",
      "7       7938\n",
      "11      5897\n",
      "6       5796\n",
      "5       5499\n",
      "1       1966\n",
      "12      1507\n",
      "14       652\n",
      "9         36\n",
      "13        21\n",
      "8         11\n",
      "Name: count, dtype: int64\n",
      "Number of graphs after downsampling: 3925\n",
      "Class Counts and Weights:\n",
      "0   BENIGN         : Count = 227310    , Weight = 0.2302    \n",
      "2   DDoS           : Count = 128027    , Weight = 0.4087    \n",
      "12  Web Attack - Brute Force: Count = 1507      , Weight = 34.7249   \n",
      "14  Web Attack - XSS: Count = 652       , Weight = 80.2613   \n",
      "13  Web Attack - Sql Injection: Count = 21        , Weight = 2491.9238 \n",
      "9   Infiltration   : Count = 36        , Weight = 1453.6222 \n",
      "6   DoS slowloris  : Count = 5796      , Weight = 9.0287    \n",
      "5   DoS Slowhttptest: Count = 5499      , Weight = 9.5163    \n",
      "4   DoS Hulk       : Count = 231073    , Weight = 0.2265    \n",
      "3   DoS GoldenEye  : Count = 10293     , Weight = 5.0841    \n",
      "8   Heartbleed     : Count = 11        , Weight = 4757.3091 \n",
      "1   Bot            : Count = 1966      , Weight = 26.6177   \n",
      "7   FTP-Patator    : Count = 7938      , Weight = 6.5924    \n",
      "11  SSH-Patator    : Count = 5897      , Weight = 8.8741    \n",
      "10  PortScan       : Count = 158930    , Weight = 0.3293    \n",
      "Number of training graphs: 3336\n",
      "Class Counts and Weights:\n",
      "2   DDoS           : Count = 105297    , Weight = 0.4224    \n",
      "0   BENIGN         : Count = 193840    , Weight = 0.2295    \n",
      "4   DoS Hulk       : Count = 197997    , Weight = 0.2246    \n",
      "10  PortScan       : Count = 136252    , Weight = 0.3264    \n",
      "9   Infiltration   : Count = 33        , Weight = 1347.7899 \n",
      "3   DoS GoldenEye  : Count = 8667      , Weight = 5.1318    \n",
      "1   Bot            : Count = 1597      , Weight = 27.8504   \n",
      "6   DoS slowloris  : Count = 4462      , Weight = 9.9680    \n",
      "12  Web Attack - Brute Force: Count = 1201      , Weight = 37.0334   \n",
      "11  SSH-Patator    : Count = 5268      , Weight = 8.4429    \n",
      "5   DoS Slowhttptest: Count = 5132      , Weight = 8.6666    \n",
      "7   FTP-Patator    : Count = 6727      , Weight = 6.6117    \n",
      "14  Web Attack - XSS: Count = 652       , Weight = 68.2164   \n",
      "8   Heartbleed     : Count = 10        , Weight = 4447.7067 \n",
      "13  Web Attack - Sql Injection: Count = 21        , Weight = 2117.9556 \n",
      "Number of testing graphs: 589\n",
      "Class Counts and Weights:\n",
      "10  PortScan       : Count = 22678     , Weight = 0.3996    \n",
      "2   DDoS           : Count = 22730     , Weight = 0.3987    \n",
      "4   DoS Hulk       : Count = 33076     , Weight = 0.2740    \n",
      "0   BENIGN         : Count = 33470     , Weight = 0.2707    \n",
      "3   DoS GoldenEye  : Count = 1626      , Weight = 5.5729    \n",
      "7   FTP-Patator    : Count = 1211      , Weight = 7.4827    \n",
      "1   Bot            : Count = 369       , Weight = 24.5570   \n",
      "6   DoS slowloris  : Count = 1334      , Weight = 6.7928    \n",
      "12  Web Attack - Brute Force: Count = 306       , Weight = 29.6129   \n",
      "9   Infiltration   : Count = 3         , Weight = 3020.5128 \n",
      "5   DoS Slowhttptest: Count = 367       , Weight = 24.6908   \n",
      "11  SSH-Patator    : Count = 629       , Weight = 14.4063   \n",
      "8   Heartbleed     : Count = 1         , Weight = 9061.5385 \n"
     ]
    }
   ],
   "source": [
    "print(\"Class Distrubution:\", data[label_col].value_counts())\n",
    "\n",
    "print(\"Number of graphs after downsampling:\", len(graph_dataset))\n",
    "graph_dataset.print_class_distribution_and_weights()\n",
    "print(\"Number of training graphs:\", len(full_train_graph_dataset))\n",
    "full_train_graph_dataset.print_class_distribution_and_weights()\n",
    "print(\"Number of testing graphs:\", len(test_graph_dataset))\n",
    "test_graph_dataset.print_class_distribution_and_weights()"
   ]
  },
  {
   "cell_type": "code",
   "execution_count": 108,
   "id": "41795339-6036-468f-9b9d-2bb68d78ed7d",
   "metadata": {},
   "outputs": [],
   "source": [
    "class SAGELayerPyG(MessagePassing):\n",
    "    def __init__(self, in_channels, edge_dim, out_channels, activation=F.relu):\n",
    "        super().__init__(aggr='mean')  # mean aggregation\n",
    "        self.W_msg = nn.Linear(in_channels + edge_dim, out_channels)\n",
    "        self.W_apply = nn.Linear(in_channels + out_channels, out_channels)\n",
    "        self.activation = activation\n",
    "\n",
    "    def forward(self, x, edge_index, edge_attr):\n",
    "        # x: [num_nodes, in_channels]\n",
    "        # edge_attr: [num_edges, edge_dim]\n",
    "        return self.propagate(edge_index, x=x, edge_attr=edge_attr)\n",
    "\n",
    "    def message(self, x_j, edge_attr):\n",
    "        # x_j: features of source nodes (neighbours)\n",
    "        msg_input = th.cat([x_j, edge_attr], dim=1)\n",
    "        return self.W_msg(msg_input)\n",
    "\n",
    "    def update(self, aggr_out, x):\n",
    "        # aggr_out: [num_nodes, out_channels]\n",
    "        combined = th.cat([x, aggr_out], dim=1)\n",
    "        out = self.W_apply(combined)\n",
    "        return self.activation(out)\n",
    "    \n",
    "class MLPPredictor(nn.Module):\n",
    "    def __init__(self, in_channels, out_channels):\n",
    "        super(MLPPredictor, self).__init__()\n",
    "        self.lin = nn.Linear(in_channels * 2, out_channels)\n",
    "\n",
    "    def forward(self, data, z):\n",
    "        row, col = data.edge_index\n",
    "        # Concatenate the features of source and target nodes for each edge\n",
    "        edge_feat = th.cat([z[row], z[col]], dim=1)\n",
    "        return self.lin(edge_feat)\n",
    "\n",
    "class EGraphSAGE(nn.Module):\n",
    "    def __init__(self, node_in_channels, edge_in_channels, hidden_channels, out_channels, dropout=0.2):\n",
    "        super(EGraphSAGE, self).__init__()\n",
    "        self.dropout = dropout\n",
    "        self.conv1 = SAGELayerPyG(node_in_channels, edge_in_channels, hidden_channels)\n",
    "        self.conv2 = SAGELayerPyG(hidden_channels, edge_in_channels, hidden_channels)\n",
    "        self.mlp_predictor = MLPPredictor(hidden_channels, out_channels)\n",
    "\n",
    "    def forward(self, data):\n",
    "        x, edge_index, edge_attr = data.x, data.edge_index, data.edge_attr\n",
    "        x = F.relu(self.conv1(x, edge_index, edge_attr))\n",
    "        x = F.dropout(x, p=self.dropout)\n",
    "        x = self.conv2(x, edge_index, edge_attr)\n",
    "        return self.mlp_predictor(data, x)"
   ]
  },
  {
   "cell_type": "code",
   "execution_count": 109,
   "id": "bca25fef-29d9-40cf-8910-16b24d530693",
   "metadata": {},
   "outputs": [
    {
     "name": "stdout",
     "output_type": "stream",
     "text": [
      "cuda:0\n"
     ]
    }
   ],
   "source": [
    "device = th.device(\"cuda:0\" if th.cuda.is_available() else \"cpu\")\n",
    "print(device)"
   ]
  },
  {
   "cell_type": "code",
   "execution_count": 110,
   "id": "cccdc850-b98d-4836-b82b-67aa4b9e1e02",
   "metadata": {},
   "outputs": [],
   "source": [
    "th.cuda.empty_cache()"
   ]
  },
  {
   "cell_type": "code",
   "execution_count": 111,
   "id": "89157faf-e24b-49d6-9c90-6f71dae515b2",
   "metadata": {},
   "outputs": [],
   "source": [
    "\n",
    "\n",
    "def init_weights(m):\n",
    "    if isinstance(m, nn.Linear):\n",
    "        nn.init.xavier_uniform_(m.weight)\n",
    "        nn.init.constant_(m.bias, 0)\n",
    "\n"
   ]
  },
  {
   "cell_type": "code",
   "execution_count": 112,
   "id": "385d37f0-713b-4abc-8d7a-3e768ae9a2b2",
   "metadata": {},
   "outputs": [],
   "source": [
    "from sklearn.metrics import f1_score\n",
    "from sklearn.model_selection import StratifiedKFold\n",
    "\n",
    "def compute_accuracy(pred, labels):\n",
    "    return (pred.argmax(1) == labels).float().mean().item()\n",
    "\n",
    "def grid_search(graph_dataset, epochs, learning_rates, hidden_dims, folds=3):\n",
    "    global num_features\n",
    "    \n",
    "    best_params = {}\n",
    "    best_f1 = 0\n",
    "\n",
    "    # Precompute the train and validation graphs for all folds\n",
    "    folds_list = []\n",
    "    for i in range(folds):\n",
    "        train_graph_dataset, val_graph_dataset = graph_dataset.graph_train_test_split(test_ratio=0.15, random_state=i)\n",
    "        folds_list.append((train_graph_dataset, val_graph_dataset))\n",
    "\n",
    "    params_results = {}\n",
    "    for lr in learning_rates:\n",
    "        for hidden_dim in hidden_dims:\n",
    "            for drop_out in drop_outs:\n",
    "                print(f\"Testing with learning rate: {lr}, hidden_dim: {hidden_dim}\")\n",
    "                fold_f1_scores = []\n",
    "\n",
    "                for fold, (train_graph_dataset, val_graph_dataset) in enumerate(folds_list):\n",
    "                    print(f\"Fold {fold + 1}\")\n",
    "\n",
    "                    model = EGraphSAGE(node_in_channels=num_features,\n",
    "                                    edge_in_channels=num_features,\n",
    "                                    hidden_channels=hidden_dim,\n",
    "                                    dropout = drop_out,\n",
    "                                    out_channels=num_classes).to(device)\n",
    "\n",
    "                    model.apply(init_weights)\n",
    "\n",
    "                    # Normalize to stabilize training\n",
    "                    class_weights = th.FloatTensor(train_graph_dataset.class_weights).to(device)\n",
    "                    print(\"Class weights:\", class_weights)\n",
    "\n",
    "                    criterion = nn.CrossEntropyLoss(weight=class_weights)\n",
    "                    optimizer = th.optim.Adam(model.parameters(), lr=lr)\n",
    "                    scheduler = th.optim.lr_scheduler.CosineAnnealingLR(optimizer, T_max=epochs, eta_min=1e-6)\n",
    "\n",
    "                    best_epoch_f1 = 0  # Track the best F1 score for this fold\n",
    "\n",
    "                    for epoch in range(epochs):\n",
    "                        try:\n",
    "                            total_train_loss = 0\n",
    "                            total_val_loss = 0\n",
    "\n",
    "                            model.train()\n",
    "                            for G_pyg_train in tqdm(train_graph_dataset, desc=\"Training\", leave=False):\n",
    "                                G_pyg_train = G_pyg_train.to(device)\n",
    "\n",
    "                                G_pyg_train.edge_label = G_pyg_train.edge_label.to(device)\n",
    "                                G_pyg_train.edge_attr = G_pyg_train.edge_attr.to(device)\n",
    "                                \n",
    "                                out = model(G_pyg_train)\n",
    "                                loss = criterion(out, G_pyg_train.edge_label)\n",
    "                                total_train_loss += loss.item()\n",
    "\n",
    "                                optimizer.zero_grad()\n",
    "                                loss.backward()\n",
    "\n",
    "                                optimizer.step()\n",
    "                                scheduler.step()\n",
    "                            \n",
    "                            model.eval()\n",
    "\n",
    "                            test_label_list = []\n",
    "                            pred_label_list = []\n",
    "\n",
    "                            with th.no_grad():\n",
    "                                for G_pyg_val in tqdm(val_graph_dataset, desc=\"Validation\", leave=False):\n",
    "\n",
    "                                    G_pyg_val.to(device)\n",
    "                                    G_pyg_val.edge_label = G_pyg_val.edge_label.to(device)\n",
    "                                    G_pyg_val.edge_attr = G_pyg_val.edge_attr.to(device)\n",
    "\n",
    "                                    out = model(G_pyg_val)\n",
    "                                    loss = criterion(out, G_pyg_val.edge_label)\n",
    "                                    total_val_loss += loss.item()\n",
    "\n",
    "                            test_label = th.cat(test_label_list)\n",
    "                            pred_label = th.cat(pred_label_list)\n",
    "\n",
    "                            val_f1 = f1_score(test_label.cpu(), pred_label.cpu(), average='weighted')\n",
    "\n",
    "                            if val_f1 > best_epoch_f1:\n",
    "                                best_epoch_f1 = val_f1  # Update the best F1 score for this fold\n",
    "                                print(f\"Best F1 Score at epoch {epoch}: {best_epoch_f1:.4f}, Train Loss: {total_train_loss:.4f}, Validation Loss: {total_val_loss:.4f}, Parameters: lr={lr}, hidden_dim={hidden_dim}, drop_out={drop_out}\")\n",
    "\n",
    "                            print(f'Epoch {epoch}, Train Loss: {total_train_loss:.4f}, Validation Loss: {total_val_loss:.4f}, Validation F1: {avg_f1:.4f}')\n",
    "\n",
    "                        except Exception as e:\n",
    "                            print(f\"An error occurred at epoch {epoch}: {str(e)}\")\n",
    "                            break\n",
    "\n",
    "                    fold_f1_scores.append(best_epoch_f1)  # Append the best F1 score for this fold\n",
    "                \n",
    "                avg_f1 = sum(fold_f1_scores) / len(fold_f1_scores)\n",
    "                params_results[(drop_out, lr, hidden_dim)] = {'folds': fold_f1_scores, 'avg_f1': avg_f1}\n",
    "                print(f\"Average F1 Score for drop_out {drop_out}, learning rate {lr}, hidden_dim {hidden_dim}: {avg_f1:.4f}\")\n",
    "\n",
    "                if avg_f1 > best_f1:\n",
    "                    best_f1 = avg_f1\n",
    "                    best_params = {'learning_rate': lr, 'hidden_dim': hidden_dim, 'drop_out': drop_out}\n",
    "\n",
    "    print(f\"Best Parameters: {best_params}, Best F1 Score: {best_f1:.4f}\")\n",
    "    print(\"All results:\", params_results)\n",
    "\n",
    "\n",
    "learning_rates = [0.001, 0.005, 0.01, 0.05]\n",
    "hidden_dims = [128, 256, 512]\n",
    "drop_outs = [0.2, 0.3, 0.4]\n",
    "\n",
    "# grid_search(full_train_graph_dataset, epochs=10, learning_rates=learning_rates, hidden_dims=hidden_dims, drop_outs=drop_outs)\n"
   ]
  },
  {
   "cell_type": "code",
   "execution_count": 113,
   "id": "b158d936",
   "metadata": {},
   "outputs": [],
   "source": [
    "train_graph_dataset, val_graph_dataset = full_train_graph_dataset.graph_train_test_split(test_ratio=0.15, random_state=42)"
   ]
  },
  {
   "cell_type": "code",
   "execution_count": 114,
   "id": "c6ec4a82",
   "metadata": {},
   "outputs": [],
   "source": [
    "import pickle\n",
    "\n",
    "def save_progress(epoch, model, optimizer, scheduler, best_f1, train_loss_history, val_loss_history, val_f1_history, saved_model_epochs):\n",
    "    global checkpoint_path, train_loss_history_path, val_loss_history_path, val_f1_history_path, saved_model_epochs_path\n",
    "\n",
    "    # Save checkpoint\n",
    "    th.save({\n",
    "        'epoch': epoch,\n",
    "        'model_state_dict': model.state_dict(),\n",
    "        'optimizer_state_dict': optimizer.state_dict(),\n",
    "        'scheduler_state_dict': scheduler.state_dict(),\n",
    "        'best_f1': best_f1\n",
    "    }, checkpoint_path)\n",
    "    with open(train_loss_history_path, 'wb') as f:\n",
    "        pickle.dump(train_loss_history, f)\n",
    "    with open(val_loss_history_path, 'wb') as f:\n",
    "        pickle.dump(val_loss_history, f)\n",
    "    with open(val_f1_history_path, 'wb') as f:\n",
    "        pickle.dump(val_f1_history, f)\n",
    "    with open(saved_model_epochs_path, 'wb') as f:\n",
    "        pickle.dump(saved_model_epochs, f)"
   ]
  },
  {
   "cell_type": "code",
   "execution_count": 116,
   "id": "f52b2fbf",
   "metadata": {},
   "outputs": [
    {
     "name": "stdout",
     "output_type": "stream",
     "text": [
      "Number of train graphs:  2835\n",
      "Class weights: tensor([2.3271e-01, 2.4512e+01, 4.1580e-01, 4.9298e+00, 2.2471e-01, 8.7554e+00,\n",
      "        9.6298e+00, 6.4632e+00, 3.7797e+03, 1.3999e+03, 3.2554e-01, 8.6691e+00,\n",
      "        3.7460e+01, 1.7999e+03, 6.3524e+01], device='cuda:0')\n",
      "Resumed training from epoch 1\n"
     ]
    },
    {
     "name": "stderr",
     "output_type": "stream",
     "text": [
      "Training:   0%|          | 0/2835 [00:00<?, ?it/s]"
     ]
    },
    {
     "name": "stderr",
     "output_type": "stream",
     "text": [
      "                                                              \r"
     ]
    },
    {
     "name": "stdout",
     "output_type": "stream",
     "text": [
      "Epoch 1 Saved best model. Best F1: 0.2754660711764158\n"
     ]
    },
    {
     "name": "stderr",
     "output_type": "stream",
     "text": [
      "                                                              \r"
     ]
    },
    {
     "name": "stdout",
     "output_type": "stream",
     "text": [
      "Epoch 2 Saved best model. Best F1: 0.28314264159160063\n"
     ]
    },
    {
     "name": "stderr",
     "output_type": "stream",
     "text": [
      "                                                              \r"
     ]
    },
    {
     "name": "stdout",
     "output_type": "stream",
     "text": [
      "Epoch 3 Saved best model. Best F1: 0.7696472446796875\n"
     ]
    },
    {
     "name": "stderr",
     "output_type": "stream",
     "text": [
      "                                                              \r"
     ]
    },
    {
     "name": "stdout",
     "output_type": "stream",
     "text": [
      "Epoch 4 Saved best model. Best F1: 0.8007735224479954\n"
     ]
    },
    {
     "name": "stderr",
     "output_type": "stream",
     "text": [
      "                                                              \r"
     ]
    },
    {
     "name": "stdout",
     "output_type": "stream",
     "text": [
      "Epoch 5 Saved best model. Best F1: 0.8135956471092006\n"
     ]
    },
    {
     "name": "stderr",
     "output_type": "stream",
     "text": [
      "                                                              \r"
     ]
    },
    {
     "name": "stdout",
     "output_type": "stream",
     "text": [
      "Epoch 6 Saved best model. Best F1: 0.859658070912396\n"
     ]
    },
    {
     "name": "stderr",
     "output_type": "stream",
     "text": [
      "                                                              \r"
     ]
    },
    {
     "name": "stdout",
     "output_type": "stream",
     "text": [
      "Epoch 9 Saved best model. Best F1: 0.8931963561813506\n"
     ]
    },
    {
     "name": "stderr",
     "output_type": "stream",
     "text": [
      "                                                              \r"
     ]
    },
    {
     "name": "stdout",
     "output_type": "stream",
     "text": [
      "Epoch 10, Train Loss: 0.4681, Validation Loss: 0.3862, Validation F1: 0.8926\n"
     ]
    },
    {
     "name": "stderr",
     "output_type": "stream",
     "text": [
      "                                                              \r"
     ]
    },
    {
     "name": "stdout",
     "output_type": "stream",
     "text": [
      "Epoch 11 Saved best model. Best F1: 0.905112966571386\n"
     ]
    },
    {
     "name": "stderr",
     "output_type": "stream",
     "text": [
      "                                                              \r"
     ]
    },
    {
     "name": "stdout",
     "output_type": "stream",
     "text": [
      "Epoch 12 Saved best model. Best F1: 0.9179027403310829\n"
     ]
    },
    {
     "name": "stderr",
     "output_type": "stream",
     "text": [
      "                                                              \r"
     ]
    },
    {
     "name": "stdout",
     "output_type": "stream",
     "text": [
      "Epoch 14 Saved best model. Best F1: 0.9200468702828707\n"
     ]
    },
    {
     "name": "stderr",
     "output_type": "stream",
     "text": [
      "                                                              \r"
     ]
    },
    {
     "name": "stdout",
     "output_type": "stream",
     "text": [
      "Epoch 16 Saved best model. Best F1: 0.9224929732225732\n"
     ]
    },
    {
     "name": "stderr",
     "output_type": "stream",
     "text": [
      "                                                              \r"
     ]
    },
    {
     "name": "stdout",
     "output_type": "stream",
     "text": [
      "Epoch 17 Saved best model. Best F1: 0.9317988010171909\n"
     ]
    },
    {
     "name": "stderr",
     "output_type": "stream",
     "text": [
      "                                                              \r"
     ]
    },
    {
     "name": "stdout",
     "output_type": "stream",
     "text": [
      "Epoch 19 Saved best model. Best F1: 0.9463349119599055\n"
     ]
    },
    {
     "name": "stderr",
     "output_type": "stream",
     "text": [
      "                                                              \r"
     ]
    },
    {
     "name": "stdout",
     "output_type": "stream",
     "text": [
      "Epoch 20 Saved best model. Best F1: 0.9479014455336567\n",
      "Epoch 20, Train Loss: 0.2334, Validation Loss: 0.2614, Validation F1: 0.9479\n"
     ]
    },
    {
     "name": "stderr",
     "output_type": "stream",
     "text": [
      "                                                              \r"
     ]
    },
    {
     "name": "stdout",
     "output_type": "stream",
     "text": [
      "Epoch 22 Saved best model. Best F1: 0.9528096960001591\n"
     ]
    },
    {
     "name": "stderr",
     "output_type": "stream",
     "text": [
      "                                                              \r"
     ]
    },
    {
     "name": "stdout",
     "output_type": "stream",
     "text": [
      "Epoch 23 Saved best model. Best F1: 0.9571785332609027\n"
     ]
    },
    {
     "name": "stderr",
     "output_type": "stream",
     "text": [
      "                                                              \r"
     ]
    },
    {
     "name": "stdout",
     "output_type": "stream",
     "text": [
      "Epoch 25 Saved best model. Best F1: 0.9586514955152771\n"
     ]
    },
    {
     "name": "stderr",
     "output_type": "stream",
     "text": [
      "                                                              \r"
     ]
    },
    {
     "name": "stdout",
     "output_type": "stream",
     "text": [
      "Epoch 26 Saved best model. Best F1: 0.9615860748417688\n"
     ]
    },
    {
     "name": "stderr",
     "output_type": "stream",
     "text": [
      "                                                              \r"
     ]
    },
    {
     "name": "stdout",
     "output_type": "stream",
     "text": [
      "Epoch 27 Saved best model. Best F1: 0.9658155078781708\n"
     ]
    },
    {
     "name": "stderr",
     "output_type": "stream",
     "text": [
      "                                                              \r"
     ]
    },
    {
     "name": "stdout",
     "output_type": "stream",
     "text": [
      "Epoch 29 Saved best model. Best F1: 0.9703148148624454\n"
     ]
    },
    {
     "name": "stderr",
     "output_type": "stream",
     "text": [
      "                                                              \r"
     ]
    },
    {
     "name": "stdout",
     "output_type": "stream",
     "text": [
      "Epoch 30, Train Loss: 0.1580, Validation Loss: 0.2009, Validation F1: 0.9680\n"
     ]
    },
    {
     "name": "stderr",
     "output_type": "stream",
     "text": [
      "                                                              \r"
     ]
    },
    {
     "name": "stdout",
     "output_type": "stream",
     "text": [
      "Epoch 34 Saved best model. Best F1: 0.9718177623204844\n"
     ]
    },
    {
     "name": "stderr",
     "output_type": "stream",
     "text": [
      "                                                              \r"
     ]
    },
    {
     "name": "stdout",
     "output_type": "stream",
     "text": [
      "Epoch 36 Saved best model. Best F1: 0.9720142560695619\n"
     ]
    },
    {
     "name": "stderr",
     "output_type": "stream",
     "text": [
      "                                                              \r"
     ]
    },
    {
     "name": "stdout",
     "output_type": "stream",
     "text": [
      "Epoch 37 Saved best model. Best F1: 0.9734414284506246\n"
     ]
    },
    {
     "name": "stderr",
     "output_type": "stream",
     "text": [
      "                                                              \r"
     ]
    },
    {
     "name": "stdout",
     "output_type": "stream",
     "text": [
      "Epoch 38 Saved best model. Best F1: 0.9739488939288626\n"
     ]
    },
    {
     "name": "stderr",
     "output_type": "stream",
     "text": [
      "                                                              \r"
     ]
    },
    {
     "name": "stdout",
     "output_type": "stream",
     "text": [
      "Epoch 39 Saved best model. Best F1: 0.9745740449066665\n"
     ]
    },
    {
     "name": "stderr",
     "output_type": "stream",
     "text": [
      "                                                              \r"
     ]
    },
    {
     "name": "stdout",
     "output_type": "stream",
     "text": [
      "Epoch 40, Train Loss: 0.1083, Validation Loss: 0.1911, Validation F1: 0.9719\n"
     ]
    },
    {
     "name": "stderr",
     "output_type": "stream",
     "text": [
      "                                                              \r"
     ]
    },
    {
     "name": "stdout",
     "output_type": "stream",
     "text": [
      "Epoch 41 Saved best model. Best F1: 0.9761661536152035\n"
     ]
    },
    {
     "name": "stderr",
     "output_type": "stream",
     "text": [
      "                                                              \r"
     ]
    },
    {
     "name": "stdout",
     "output_type": "stream",
     "text": [
      "Epoch 44 Saved best model. Best F1: 0.9781458149698696\n"
     ]
    },
    {
     "name": "stderr",
     "output_type": "stream",
     "text": [
      "                                                              \r"
     ]
    },
    {
     "name": "stdout",
     "output_type": "stream",
     "text": [
      "Epoch 50 Saved best model. Best F1: 0.9782100205146167\n",
      "Epoch 50, Train Loss: 0.0956, Validation Loss: 0.1765, Validation F1: 0.9782\n"
     ]
    },
    {
     "name": "stderr",
     "output_type": "stream",
     "text": [
      "                                                              \r"
     ]
    },
    {
     "name": "stdout",
     "output_type": "stream",
     "text": [
      "Epoch 53 Saved best model. Best F1: 0.9814155722736443\n"
     ]
    },
    {
     "name": "stderr",
     "output_type": "stream",
     "text": [
      "                                                              \r"
     ]
    },
    {
     "name": "stdout",
     "output_type": "stream",
     "text": [
      "Epoch 60, Train Loss: 0.0840, Validation Loss: 0.1884, Validation F1: 0.9813\n"
     ]
    },
    {
     "name": "stderr",
     "output_type": "stream",
     "text": [
      "                                                              \r"
     ]
    },
    {
     "name": "stdout",
     "output_type": "stream",
     "text": [
      "Epoch 62 Saved best model. Best F1: 0.9821966072943362\n"
     ]
    },
    {
     "name": "stderr",
     "output_type": "stream",
     "text": [
      "                                                              \r"
     ]
    },
    {
     "name": "stdout",
     "output_type": "stream",
     "text": [
      "Epoch 68 Saved best model. Best F1: 0.9823391667654234\n"
     ]
    },
    {
     "name": "stderr",
     "output_type": "stream",
     "text": [
      "                                                              \r"
     ]
    },
    {
     "name": "stdout",
     "output_type": "stream",
     "text": [
      "Epoch 70, Train Loss: 0.0677, Validation Loss: 0.1967, Validation F1: 0.9795\n"
     ]
    },
    {
     "name": "stderr",
     "output_type": "stream",
     "text": [
      "                                                              \r"
     ]
    },
    {
     "name": "stdout",
     "output_type": "stream",
     "text": [
      "Epoch 80 Saved best model. Best F1: 0.9839800794807876\n",
      "Epoch 80, Train Loss: 0.0846, Validation Loss: 0.1834, Validation F1: 0.9840\n"
     ]
    },
    {
     "name": "stderr",
     "output_type": "stream",
     "text": [
      "                                                              \r"
     ]
    },
    {
     "name": "stdout",
     "output_type": "stream",
     "text": [
      "Epoch 90, Train Loss: 0.0710, Validation Loss: 0.1804, Validation F1: 0.9820\n"
     ]
    },
    {
     "name": "stderr",
     "output_type": "stream",
     "text": [
      "                                                              \r"
     ]
    },
    {
     "name": "stdout",
     "output_type": "stream",
     "text": [
      "Epoch 95 Saved best model. Best F1: 0.9839883478557221\n"
     ]
    },
    {
     "name": "stderr",
     "output_type": "stream",
     "text": [
      "                                                              \r"
     ]
    },
    {
     "name": "stdout",
     "output_type": "stream",
     "text": [
      "Epoch 96 Saved best model. Best F1: 0.9845986831070043\n"
     ]
    },
    {
     "name": "stderr",
     "output_type": "stream",
     "text": [
      "                                                              \r"
     ]
    },
    {
     "name": "stdout",
     "output_type": "stream",
     "text": [
      "Epoch 98 Saved best model. Best F1: 0.9846408790554587\n"
     ]
    },
    {
     "name": "stderr",
     "output_type": "stream",
     "text": [
      "                                                              \r"
     ]
    },
    {
     "name": "stdout",
     "output_type": "stream",
     "text": [
      "Epoch 100, Train Loss: 0.0558, Validation Loss: 0.2323, Validation F1: 0.9798\n"
     ]
    },
    {
     "name": "stderr",
     "output_type": "stream",
     "text": [
      "                                                              \r"
     ]
    },
    {
     "name": "stdout",
     "output_type": "stream",
     "text": [
      "Epoch 110, Train Loss: 0.1777, Validation Loss: 0.2484, Validation F1: 0.9712\n"
     ]
    },
    {
     "name": "stderr",
     "output_type": "stream",
     "text": [
      "                                                              \r"
     ]
    },
    {
     "name": "stdout",
     "output_type": "stream",
     "text": [
      "Epoch 120, Train Loss: 0.0932, Validation Loss: 0.2166, Validation F1: 0.9761\n"
     ]
    },
    {
     "name": "stderr",
     "output_type": "stream",
     "text": [
      "                                                              \r"
     ]
    },
    {
     "name": "stdout",
     "output_type": "stream",
     "text": [
      "Epoch 130, Train Loss: 0.0700, Validation Loss: 0.2521, Validation F1: 0.9802\n"
     ]
    },
    {
     "name": "stderr",
     "output_type": "stream",
     "text": [
      "                                                              \r"
     ]
    },
    {
     "name": "stdout",
     "output_type": "stream",
     "text": [
      "Epoch 140, Train Loss: 0.0595, Validation Loss: 0.2513, Validation F1: 0.9815\n"
     ]
    },
    {
     "name": "stderr",
     "output_type": "stream",
     "text": [
      "                                                              \r"
     ]
    },
    {
     "name": "stdout",
     "output_type": "stream",
     "text": [
      "Epoch 150, Train Loss: 0.0536, Validation Loss: 0.2949, Validation F1: 0.9846\n"
     ]
    },
    {
     "name": "stderr",
     "output_type": "stream",
     "text": [
      "                                                              \r"
     ]
    },
    {
     "name": "stdout",
     "output_type": "stream",
     "text": [
      "Epoch 158 Saved best model. Best F1: 0.9848659211342207\n"
     ]
    },
    {
     "name": "stderr",
     "output_type": "stream",
     "text": [
      "                                                              \r"
     ]
    },
    {
     "name": "stdout",
     "output_type": "stream",
     "text": [
      "Epoch 159 Saved best model. Best F1: 0.9853858792388472\n"
     ]
    },
    {
     "name": "stderr",
     "output_type": "stream",
     "text": [
      "                                                              \r"
     ]
    },
    {
     "name": "stdout",
     "output_type": "stream",
     "text": [
      "Epoch 160, Train Loss: 0.0468, Validation Loss: 0.2510, Validation F1: 0.9853\n"
     ]
    },
    {
     "name": "stderr",
     "output_type": "stream",
     "text": [
      "                                                              \r"
     ]
    },
    {
     "name": "stdout",
     "output_type": "stream",
     "text": [
      "Epoch 170, Train Loss: 0.0668, Validation Loss: 0.2636, Validation F1: 0.9843\n"
     ]
    },
    {
     "name": "stderr",
     "output_type": "stream",
     "text": [
      "                                                              \r"
     ]
    },
    {
     "name": "stdout",
     "output_type": "stream",
     "text": [
      "Epoch 172 Saved best model. Best F1: 0.9855809434812189\n"
     ]
    },
    {
     "name": "stderr",
     "output_type": "stream",
     "text": [
      "                                                              \r"
     ]
    },
    {
     "name": "stdout",
     "output_type": "stream",
     "text": [
      "Epoch 176 Saved best model. Best F1: 0.9856713402602503\n"
     ]
    },
    {
     "name": "stderr",
     "output_type": "stream",
     "text": [
      "                                                              \r"
     ]
    },
    {
     "name": "stdout",
     "output_type": "stream",
     "text": [
      "Epoch 180, Train Loss: 0.0614, Validation Loss: 0.2469, Validation F1: 0.9856\n"
     ]
    },
    {
     "name": "stderr",
     "output_type": "stream",
     "text": [
      "                                                              \r"
     ]
    },
    {
     "name": "stdout",
     "output_type": "stream",
     "text": [
      "Epoch 183 Saved best model. Best F1: 0.9857519075561756\n"
     ]
    },
    {
     "name": "stderr",
     "output_type": "stream",
     "text": [
      "                                                              \r"
     ]
    },
    {
     "name": "stdout",
     "output_type": "stream",
     "text": [
      "Epoch 184 Saved best model. Best F1: 0.98600624793766\n"
     ]
    },
    {
     "name": "stderr",
     "output_type": "stream",
     "text": [
      "                                                              \r"
     ]
    },
    {
     "name": "stdout",
     "output_type": "stream",
     "text": [
      "Epoch 190, Train Loss: 0.0471, Validation Loss: 0.2878, Validation F1: 0.9853\n"
     ]
    },
    {
     "name": "stderr",
     "output_type": "stream",
     "text": [
      "                                                              \r"
     ]
    },
    {
     "name": "stdout",
     "output_type": "stream",
     "text": [
      "Epoch 192 Saved best model. Best F1: 0.9876537801575105\n"
     ]
    },
    {
     "name": "stderr",
     "output_type": "stream",
     "text": [
      "                                                              \r"
     ]
    },
    {
     "name": "stdout",
     "output_type": "stream",
     "text": [
      "Epoch 200, Train Loss: 0.0398, Validation Loss: 0.2902, Validation F1: 0.9861\n"
     ]
    },
    {
     "name": "stderr",
     "output_type": "stream",
     "text": [
      "                                                              \r"
     ]
    },
    {
     "name": "stdout",
     "output_type": "stream",
     "text": [
      "Epoch 202 Saved best model. Best F1: 0.9889030307476075\n"
     ]
    },
    {
     "name": "stderr",
     "output_type": "stream",
     "text": [
      "                                                              \r"
     ]
    },
    {
     "name": "stdout",
     "output_type": "stream",
     "text": [
      "Epoch 210, Train Loss: 0.0416, Validation Loss: 0.2356, Validation F1: 0.9864\n"
     ]
    },
    {
     "name": "stderr",
     "output_type": "stream",
     "text": [
      "                                                              \r"
     ]
    },
    {
     "name": "stdout",
     "output_type": "stream",
     "text": [
      "Epoch 220, Train Loss: 0.0846, Validation Loss: 0.3083, Validation F1: 0.9832\n"
     ]
    },
    {
     "name": "stderr",
     "output_type": "stream",
     "text": [
      "                                                              \r"
     ]
    },
    {
     "name": "stdout",
     "output_type": "stream",
     "text": [
      "Epoch 230, Train Loss: 0.0543, Validation Loss: 0.2703, Validation F1: 0.9853\n"
     ]
    },
    {
     "name": "stderr",
     "output_type": "stream",
     "text": [
      "                                                              \r"
     ]
    },
    {
     "name": "stdout",
     "output_type": "stream",
     "text": [
      "Epoch 240, Train Loss: 0.0431, Validation Loss: 0.2590, Validation F1: 0.9859\n"
     ]
    },
    {
     "name": "stderr",
     "output_type": "stream",
     "text": [
      "                                                              \r"
     ]
    },
    {
     "name": "stdout",
     "output_type": "stream",
     "text": [
      "Epoch 250, Train Loss: 0.0404, Validation Loss: 0.2777, Validation F1: 0.9869\n"
     ]
    },
    {
     "name": "stderr",
     "output_type": "stream",
     "text": [
      "                                                              \r"
     ]
    },
    {
     "name": "stdout",
     "output_type": "stream",
     "text": [
      "Epoch 260, Train Loss: 0.0348, Validation Loss: 0.3241, Validation F1: 0.9885\n"
     ]
    },
    {
     "name": "stderr",
     "output_type": "stream",
     "text": [
      "                                                              \r"
     ]
    },
    {
     "name": "stdout",
     "output_type": "stream",
     "text": [
      "Epoch 268 Saved best model. Best F1: 0.9897316491717874\n"
     ]
    },
    {
     "name": "stderr",
     "output_type": "stream",
     "text": [
      "                                                              \r"
     ]
    },
    {
     "name": "stdout",
     "output_type": "stream",
     "text": [
      "Epoch 270, Train Loss: 0.0272, Validation Loss: 0.2395, Validation F1: 0.9893\n"
     ]
    },
    {
     "name": "stderr",
     "output_type": "stream",
     "text": [
      "                                                              \r"
     ]
    },
    {
     "name": "stdout",
     "output_type": "stream",
     "text": [
      "Epoch 272 Saved best model. Best F1: 0.9901355536841566\n"
     ]
    },
    {
     "name": "stderr",
     "output_type": "stream",
     "text": [
      "                                                              \r"
     ]
    },
    {
     "name": "stdout",
     "output_type": "stream",
     "text": [
      "Epoch 275 Saved best model. Best F1: 0.990157735073388\n"
     ]
    },
    {
     "name": "stderr",
     "output_type": "stream",
     "text": [
      "                                                              \r"
     ]
    },
    {
     "name": "stdout",
     "output_type": "stream",
     "text": [
      "Epoch 277 Saved best model. Best F1: 0.9904458258330688\n"
     ]
    },
    {
     "name": "stderr",
     "output_type": "stream",
     "text": [
      "                                                              \r"
     ]
    },
    {
     "name": "stdout",
     "output_type": "stream",
     "text": [
      "Epoch 278 Saved best model. Best F1: 0.990518273043453\n"
     ]
    },
    {
     "name": "stderr",
     "output_type": "stream",
     "text": [
      "                                                              \r"
     ]
    },
    {
     "name": "stdout",
     "output_type": "stream",
     "text": [
      "Epoch 279 Saved best model. Best F1: 0.9906268687024622\n"
     ]
    },
    {
     "name": "stderr",
     "output_type": "stream",
     "text": [
      "                                                              \r"
     ]
    },
    {
     "name": "stdout",
     "output_type": "stream",
     "text": [
      "Epoch 280, Train Loss: 0.0252, Validation Loss: 0.3769, Validation F1: 0.9904\n"
     ]
    },
    {
     "name": "stderr",
     "output_type": "stream",
     "text": [
      "                                                              \r"
     ]
    },
    {
     "name": "stdout",
     "output_type": "stream",
     "text": [
      "Epoch 282 Saved best model. Best F1: 0.9925745980203244\n"
     ]
    },
    {
     "name": "stderr",
     "output_type": "stream",
     "text": [
      "                                                              \r"
     ]
    },
    {
     "name": "stdout",
     "output_type": "stream",
     "text": [
      "Epoch 290, Train Loss: 0.0821, Validation Loss: 0.2970, Validation F1: 0.9890\n"
     ]
    },
    {
     "name": "stderr",
     "output_type": "stream",
     "text": [
      "                                                              \r"
     ]
    },
    {
     "name": "stdout",
     "output_type": "stream",
     "text": [
      "Epoch 300, Train Loss: 0.0481, Validation Loss: 0.3125, Validation F1: 0.9868\n"
     ]
    },
    {
     "name": "stderr",
     "output_type": "stream",
     "text": [
      "                                                              \r"
     ]
    },
    {
     "name": "stdout",
     "output_type": "stream",
     "text": [
      "Epoch 310, Train Loss: 0.0323, Validation Loss: 0.3102, Validation F1: 0.9875\n"
     ]
    },
    {
     "name": "stderr",
     "output_type": "stream",
     "text": [
      "                                                              \r"
     ]
    },
    {
     "name": "stdout",
     "output_type": "stream",
     "text": [
      "Epoch 320, Train Loss: 0.0252, Validation Loss: 0.2817, Validation F1: 0.9890\n"
     ]
    },
    {
     "name": "stderr",
     "output_type": "stream",
     "text": [
      "                                                              \r"
     ]
    },
    {
     "name": "stdout",
     "output_type": "stream",
     "text": [
      "Epoch 330, Train Loss: 0.0212, Validation Loss: 0.3208, Validation F1: 0.9903\n"
     ]
    },
    {
     "name": "stderr",
     "output_type": "stream",
     "text": [
      "                                                              \r"
     ]
    },
    {
     "name": "stdout",
     "output_type": "stream",
     "text": [
      "Epoch 340, Train Loss: 0.0201, Validation Loss: 0.3106, Validation F1: 0.9914\n"
     ]
    },
    {
     "name": "stderr",
     "output_type": "stream",
     "text": [
      "                                                              \r"
     ]
    },
    {
     "name": "stdout",
     "output_type": "stream",
     "text": [
      "Epoch 350, Train Loss: 0.0197, Validation Loss: 0.2881, Validation F1: 0.9910\n"
     ]
    },
    {
     "name": "stderr",
     "output_type": "stream",
     "text": [
      "                                                              \r"
     ]
    },
    {
     "name": "stdout",
     "output_type": "stream",
     "text": [
      "Epoch 360, Train Loss: 0.0181, Validation Loss: 0.2681, Validation F1: 0.9915\n"
     ]
    },
    {
     "name": "stderr",
     "output_type": "stream",
     "text": [
      "                                                              \r"
     ]
    },
    {
     "name": "stdout",
     "output_type": "stream",
     "text": [
      "Epoch 370, Train Loss: 0.0166, Validation Loss: 0.3041, Validation F1: 0.9917\n"
     ]
    },
    {
     "name": "stderr",
     "output_type": "stream",
     "text": [
      "                                                              \r"
     ]
    },
    {
     "name": "stdout",
     "output_type": "stream",
     "text": [
      "Epoch 380, Train Loss: 0.0156, Validation Loss: 0.3176, Validation F1: 0.9917\n"
     ]
    },
    {
     "name": "stderr",
     "output_type": "stream",
     "text": [
      "                                                              \r"
     ]
    },
    {
     "name": "stdout",
     "output_type": "stream",
     "text": [
      "Epoch 387 Saved best model. Best F1: 0.9943787009711463\n"
     ]
    },
    {
     "name": "stderr",
     "output_type": "stream",
     "text": [
      "                                                              \r"
     ]
    },
    {
     "name": "stdout",
     "output_type": "stream",
     "text": [
      "Epoch 390, Train Loss: 0.0158, Validation Loss: 0.2985, Validation F1: 0.9925\n"
     ]
    },
    {
     "name": "stderr",
     "output_type": "stream",
     "text": [
      "                                                              \r"
     ]
    },
    {
     "name": "stdout",
     "output_type": "stream",
     "text": [
      "Epoch 400, Train Loss: 0.0145, Validation Loss: 0.3280, Validation F1: 0.9919\n"
     ]
    },
    {
     "name": "stderr",
     "output_type": "stream",
     "text": [
      "                                                              \r"
     ]
    },
    {
     "name": "stdout",
     "output_type": "stream",
     "text": [
      "Epoch 410, Train Loss: 0.0157, Validation Loss: 0.2726, Validation F1: 0.9919\n"
     ]
    },
    {
     "name": "stderr",
     "output_type": "stream",
     "text": [
      "                                                              \r"
     ]
    },
    {
     "name": "stdout",
     "output_type": "stream",
     "text": [
      "Epoch 414 Saved best model. Best F1: 0.9944361322256349\n"
     ]
    },
    {
     "name": "stderr",
     "output_type": "stream",
     "text": [
      "                                                              \r"
     ]
    },
    {
     "name": "stdout",
     "output_type": "stream",
     "text": [
      "Epoch 420, Train Loss: 0.0141, Validation Loss: 0.3124, Validation F1: 0.9917\n"
     ]
    },
    {
     "name": "stderr",
     "output_type": "stream",
     "text": [
      "                                                              \r"
     ]
    },
    {
     "name": "stdout",
     "output_type": "stream",
     "text": [
      "Epoch 430, Train Loss: 0.0152, Validation Loss: 0.2938, Validation F1: 0.9924\n"
     ]
    },
    {
     "name": "stderr",
     "output_type": "stream",
     "text": [
      "                                                              \r"
     ]
    },
    {
     "name": "stdout",
     "output_type": "stream",
     "text": [
      "Epoch 440, Train Loss: 0.0140, Validation Loss: 0.3390, Validation F1: 0.9924\n"
     ]
    },
    {
     "name": "stderr",
     "output_type": "stream",
     "text": [
      "                                                              \r"
     ]
    },
    {
     "name": "stdout",
     "output_type": "stream",
     "text": [
      "Epoch 450, Train Loss: 0.0132, Validation Loss: 0.3244, Validation F1: 0.9919\n"
     ]
    },
    {
     "name": "stderr",
     "output_type": "stream",
     "text": [
      "                                                              \r"
     ]
    },
    {
     "name": "stdout",
     "output_type": "stream",
     "text": [
      "Epoch 460, Train Loss: 0.0139, Validation Loss: 0.2888, Validation F1: 0.9928\n"
     ]
    },
    {
     "name": "stderr",
     "output_type": "stream",
     "text": [
      "                                                              \r"
     ]
    },
    {
     "name": "stdout",
     "output_type": "stream",
     "text": [
      "Epoch 470, Train Loss: 0.0131, Validation Loss: 0.2924, Validation F1: 0.9919\n"
     ]
    },
    {
     "name": "stderr",
     "output_type": "stream",
     "text": [
      "                                                              \r"
     ]
    },
    {
     "name": "stdout",
     "output_type": "stream",
     "text": [
      "Epoch 477 Saved best model. Best F1: 0.9946123154420728\n"
     ]
    },
    {
     "name": "stderr",
     "output_type": "stream",
     "text": [
      "                                                              \r"
     ]
    },
    {
     "name": "stdout",
     "output_type": "stream",
     "text": [
      "Epoch 480, Train Loss: 0.0126, Validation Loss: 0.2934, Validation F1: 0.9919\n"
     ]
    },
    {
     "name": "stderr",
     "output_type": "stream",
     "text": [
      "                                                              \r"
     ]
    },
    {
     "name": "stdout",
     "output_type": "stream",
     "text": [
      "Epoch 490, Train Loss: 0.0133, Validation Loss: 0.3362, Validation F1: 0.9928\n"
     ]
    },
    {
     "name": "stderr",
     "output_type": "stream",
     "text": [
      "                                                              \r"
     ]
    },
    {
     "name": "stdout",
     "output_type": "stream",
     "text": [
      "Epoch 500, Train Loss: 0.0122, Validation Loss: 0.3358, Validation F1: 0.9921\n"
     ]
    },
    {
     "name": "stderr",
     "output_type": "stream",
     "text": [
      "                                                              \r"
     ]
    },
    {
     "ename": "KeyboardInterrupt",
     "evalue": "",
     "output_type": "error",
     "traceback": [
      "\u001b[31m---------------------------------------------------------------------------\u001b[39m",
      "\u001b[31mKeyboardInterrupt\u001b[39m                         Traceback (most recent call last)",
      "\u001b[36mCell\u001b[39m\u001b[36m \u001b[39m\u001b[32mIn[116]\u001b[39m\u001b[32m, line 85\u001b[39m\n\u001b[32m     82\u001b[39m     loss = criterion(out, G_pyg_train.edge_label) / num_train_graphs\n\u001b[32m     84\u001b[39m     train_loss += loss.item()\n\u001b[32m---> \u001b[39m\u001b[32m85\u001b[39m     \u001b[43mloss\u001b[49m\u001b[43m.\u001b[49m\u001b[43mbackward\u001b[49m\u001b[43m(\u001b[49m\u001b[43m)\u001b[49m\n\u001b[32m     87\u001b[39m optimizer.step()\n\u001b[32m     88\u001b[39m scheduler.step()\n",
      "\u001b[36mFile \u001b[39m\u001b[32m/vol/bitbucket/shc20/FYP/GNN-Adversarial-Attack/.venv/lib/python3.12/site-packages/torch/_tensor.py:648\u001b[39m, in \u001b[36mTensor.backward\u001b[39m\u001b[34m(self, gradient, retain_graph, create_graph, inputs)\u001b[39m\n\u001b[32m    638\u001b[39m \u001b[38;5;28;01mif\u001b[39;00m has_torch_function_unary(\u001b[38;5;28mself\u001b[39m):\n\u001b[32m    639\u001b[39m     \u001b[38;5;28;01mreturn\u001b[39;00m handle_torch_function(\n\u001b[32m    640\u001b[39m         Tensor.backward,\n\u001b[32m    641\u001b[39m         (\u001b[38;5;28mself\u001b[39m,),\n\u001b[32m   (...)\u001b[39m\u001b[32m    646\u001b[39m         inputs=inputs,\n\u001b[32m    647\u001b[39m     )\n\u001b[32m--> \u001b[39m\u001b[32m648\u001b[39m \u001b[43mtorch\u001b[49m\u001b[43m.\u001b[49m\u001b[43mautograd\u001b[49m\u001b[43m.\u001b[49m\u001b[43mbackward\u001b[49m\u001b[43m(\u001b[49m\n\u001b[32m    649\u001b[39m \u001b[43m    \u001b[49m\u001b[38;5;28;43mself\u001b[39;49m\u001b[43m,\u001b[49m\u001b[43m \u001b[49m\u001b[43mgradient\u001b[49m\u001b[43m,\u001b[49m\u001b[43m \u001b[49m\u001b[43mretain_graph\u001b[49m\u001b[43m,\u001b[49m\u001b[43m \u001b[49m\u001b[43mcreate_graph\u001b[49m\u001b[43m,\u001b[49m\u001b[43m \u001b[49m\u001b[43minputs\u001b[49m\u001b[43m=\u001b[49m\u001b[43minputs\u001b[49m\n\u001b[32m    650\u001b[39m \u001b[43m\u001b[49m\u001b[43m)\u001b[49m\n",
      "\u001b[36mFile \u001b[39m\u001b[32m/vol/bitbucket/shc20/FYP/GNN-Adversarial-Attack/.venv/lib/python3.12/site-packages/torch/autograd/__init__.py:353\u001b[39m, in \u001b[36mbackward\u001b[39m\u001b[34m(tensors, grad_tensors, retain_graph, create_graph, grad_variables, inputs)\u001b[39m\n\u001b[32m    348\u001b[39m     retain_graph = create_graph\n\u001b[32m    350\u001b[39m \u001b[38;5;66;03m# The reason we repeat the same comment below is that\u001b[39;00m\n\u001b[32m    351\u001b[39m \u001b[38;5;66;03m# some Python versions print out the first line of a multi-line function\u001b[39;00m\n\u001b[32m    352\u001b[39m \u001b[38;5;66;03m# calls in the traceback and some print out the last line\u001b[39;00m\n\u001b[32m--> \u001b[39m\u001b[32m353\u001b[39m \u001b[43m_engine_run_backward\u001b[49m\u001b[43m(\u001b[49m\n\u001b[32m    354\u001b[39m \u001b[43m    \u001b[49m\u001b[43mtensors\u001b[49m\u001b[43m,\u001b[49m\n\u001b[32m    355\u001b[39m \u001b[43m    \u001b[49m\u001b[43mgrad_tensors_\u001b[49m\u001b[43m,\u001b[49m\n\u001b[32m    356\u001b[39m \u001b[43m    \u001b[49m\u001b[43mretain_graph\u001b[49m\u001b[43m,\u001b[49m\n\u001b[32m    357\u001b[39m \u001b[43m    \u001b[49m\u001b[43mcreate_graph\u001b[49m\u001b[43m,\u001b[49m\n\u001b[32m    358\u001b[39m \u001b[43m    \u001b[49m\u001b[43minputs\u001b[49m\u001b[43m,\u001b[49m\n\u001b[32m    359\u001b[39m \u001b[43m    \u001b[49m\u001b[43mallow_unreachable\u001b[49m\u001b[43m=\u001b[49m\u001b[38;5;28;43;01mTrue\u001b[39;49;00m\u001b[43m,\u001b[49m\n\u001b[32m    360\u001b[39m \u001b[43m    \u001b[49m\u001b[43maccumulate_grad\u001b[49m\u001b[43m=\u001b[49m\u001b[38;5;28;43;01mTrue\u001b[39;49;00m\u001b[43m,\u001b[49m\n\u001b[32m    361\u001b[39m \u001b[43m\u001b[49m\u001b[43m)\u001b[49m\n",
      "\u001b[36mFile \u001b[39m\u001b[32m/vol/bitbucket/shc20/FYP/GNN-Adversarial-Attack/.venv/lib/python3.12/site-packages/torch/autograd/graph.py:824\u001b[39m, in \u001b[36m_engine_run_backward\u001b[39m\u001b[34m(t_outputs, *args, **kwargs)\u001b[39m\n\u001b[32m    822\u001b[39m     unregister_hooks = _register_logging_hooks_on_whole_graph(t_outputs)\n\u001b[32m    823\u001b[39m \u001b[38;5;28;01mtry\u001b[39;00m:\n\u001b[32m--> \u001b[39m\u001b[32m824\u001b[39m     \u001b[38;5;28;01mreturn\u001b[39;00m \u001b[43mVariable\u001b[49m\u001b[43m.\u001b[49m\u001b[43m_execution_engine\u001b[49m\u001b[43m.\u001b[49m\u001b[43mrun_backward\u001b[49m\u001b[43m(\u001b[49m\u001b[43m  \u001b[49m\u001b[38;5;66;43;03m# Calls into the C++ engine to run the backward pass\u001b[39;49;00m\n\u001b[32m    825\u001b[39m \u001b[43m        \u001b[49m\u001b[43mt_outputs\u001b[49m\u001b[43m,\u001b[49m\u001b[43m \u001b[49m\u001b[43m*\u001b[49m\u001b[43margs\u001b[49m\u001b[43m,\u001b[49m\u001b[43m \u001b[49m\u001b[43m*\u001b[49m\u001b[43m*\u001b[49m\u001b[43mkwargs\u001b[49m\n\u001b[32m    826\u001b[39m \u001b[43m    \u001b[49m\u001b[43m)\u001b[49m  \u001b[38;5;66;03m# Calls into the C++ engine to run the backward pass\u001b[39;00m\n\u001b[32m    827\u001b[39m \u001b[38;5;28;01mfinally\u001b[39;00m:\n\u001b[32m    828\u001b[39m     \u001b[38;5;28;01mif\u001b[39;00m attach_logging_hooks:\n",
      "\u001b[31mKeyboardInterrupt\u001b[39m: "
     ]
    }
   ],
   "source": [
    "# Extract the best parameters from the grid search\n",
    "import pickle\n",
    "\n",
    "\n",
    "best_hidden_dim = 512  # Replace with the best hidden_dim found\n",
    "best_learning_rate = 0.005  # Replace with the best learning_rate found\n",
    "best_drop_out = 0.3  # Replace with the best drop_out found\n",
    "epochs = 1000\n",
    "\n",
    "print(\"Number of train graphs: \", len(train_graph_dataset))\n",
    "\n",
    "# Initialize the model with the best parameters\n",
    "model = EGraphSAGE(node_in_channels=num_features, \n",
    "                   edge_in_channels=num_features,\n",
    "                   hidden_channels=best_hidden_dim,\n",
    "                   dropout = best_drop_out,\n",
    "                   out_channels=num_classes).to(device)\n",
    "\n",
    "model.apply(init_weights)\n",
    "\n",
    "# Normalize class weights\n",
    "class_weights = th.FloatTensor(train_graph_dataset.class_weights).to(device)\n",
    "print(\"Class weights:\", class_weights)\n",
    "\n",
    "# Define the loss function and optimizer\n",
    "criterion = nn.CrossEntropyLoss(weight=class_weights)\n",
    "optimizer = th.optim.Adam(model.parameters(), lr=best_learning_rate)\n",
    "scheduler = th.optim.lr_scheduler.CosineAnnealingLR(optimizer, T_max=epochs, eta_min=1e-6)\n",
    "\n",
    "# ===== Load checkpoint if exists =====\n",
    "best_f1 = 0\n",
    "start_epoch = 0\n",
    "\n",
    "if os.path.exists(checkpoint_path):\n",
    "    checkpoint = th.load(checkpoint_path)\n",
    "    model.load_state_dict(checkpoint['model_state_dict'])\n",
    "    optimizer.load_state_dict(checkpoint['optimizer_state_dict'])\n",
    "    scheduler.load_state_dict(checkpoint.get('scheduler_state_dict', {}))\n",
    "    start_epoch = checkpoint['epoch'] + 1\n",
    "    best_f1 = checkpoint['best_f1']\n",
    "    print(f\"Resumed training from epoch {start_epoch}\")\n",
    "\n",
    "train_loss_history = []\n",
    "val_loss_history = []\n",
    "val_f1_history = []\n",
    "saved_model_epochs = []\n",
    "\n",
    "train_loss_history_path = os.path.join(saves_path, 'train_loss_history.pkl')\n",
    "val_loss_history_path = os.path.join(saves_path, 'val_loss_history.pkl')\n",
    "val_f1_history_path = os.path.join(saves_path, 'val_f1_history.pkl')\n",
    "saved_model_epochs_path = os.path.join(saves_path, 'saved_model_epochs.pkl')\n",
    "\n",
    "if os.path.exists(train_loss_history_path) and os.path.exists(val_loss_history_path) and os.path.exists(val_f1_history_path) and os.path.exists(saved_model_epochs_path):\n",
    "    with open(train_loss_history_path, 'rb') as f:\n",
    "        train_loss_history = pickle.load(f)\n",
    "    with open(val_loss_history_path, 'rb') as f:\n",
    "        val_loss_history = pickle.load(f)\n",
    "    with open(val_f1_history_path, 'rb') as f:\n",
    "        val_f1_history = pickle.load(f)\n",
    "    with open(saved_model_epochs_path, 'rb') as f:\n",
    "        saved_model_epochs = pickle.load(f)\n",
    "\n",
    "# ===== Start Training =====\n",
    "for epoch in range(start_epoch, epochs):\n",
    "    model.train()\n",
    "\n",
    "    train_loss = 0\n",
    "    num_train_graphs = len(train_graph_dataset)\n",
    "\n",
    "    val_loss = 0\n",
    "    num_val_graphs = len(val_graph_dataset)\n",
    "\n",
    "    optimizer.zero_grad()\n",
    "    for G_pyg_train in tqdm(train_graph_dataset, desc=\"Training\", leave=False):\n",
    "\n",
    "        # Move the graph data to the device\n",
    "        G_pyg_train = G_pyg_train.to(device)\n",
    "        G_pyg_train.edge_label = G_pyg_train.edge_label.to(device)\n",
    "        G_pyg_train.edge_attr = G_pyg_train.edge_attr.to(device)\n",
    "\n",
    "        out = model(G_pyg_train)\n",
    "        loss = criterion(out, G_pyg_train.edge_label) / num_train_graphs\n",
    "        \n",
    "        train_loss += loss.item()\n",
    "        loss.backward()\n",
    "\n",
    "    optimizer.step()\n",
    "    scheduler.step()\n",
    "\n",
    "    test_label_list = []\n",
    "    pred_label_list = []\n",
    "\n",
    "    model.eval()\n",
    "    with th.no_grad():\n",
    "        for G_pyg_val in tqdm(val_graph_dataset, desc=\"Evaluation\", leave=False):\n",
    "            G_pyg_val = G_pyg_val.to(device)\n",
    "            G_pyg_val.edge_label = G_pyg_val.edge_label.to(device)\n",
    "            G_pyg_val.edge_attr = G_pyg_val.edge_attr.to(device)\n",
    "\n",
    "            out = model(G_pyg_val)\n",
    "            loss = criterion(out, G_pyg_val.edge_label) / num_val_graphs\n",
    "            val_loss += loss.item()\n",
    "\n",
    "            test_label_list.append(G_pyg_val.edge_label.cpu())\n",
    "            pred_label_list.append(out.argmax(dim=1).cpu())\n",
    "\n",
    "    test_label = th.cat(test_label_list)\n",
    "    pred_label = th.cat(pred_label_list)\n",
    "\n",
    "    val_f1 = f1_score(test_label, pred_label, average='weighted')\n",
    "    val_f1_micro = f1_score(test_label, pred_label, average='micro')\n",
    "    val_f1_macro = f1_score(test_label, pred_label, average='macro')\n",
    "    \n",
    "    train_loss_history.append(train_loss)\n",
    "    val_loss_history.append(val_loss)\n",
    "    val_f1_history.append((val_f1, val_f1_micro, val_f1_macro))\n",
    "\n",
    "    if val_f1 > best_f1:\n",
    "        best_f1 = val_f1  # Update the best F1 score for this fold\n",
    "        best_model_state = model.state_dict()\n",
    "        saved_model_epochs.append(epoch)\n",
    "\n",
    "        save_progress(epoch, model, optimizer, scheduler, best_f1, train_loss_history, val_loss_history, val_f1_history, saved_model_epochs)\n",
    "        th.save(best_model_state, best_model_path)\n",
    "        print(f\"Epoch {epoch} Saved best model. Best F1:\", best_f1)\n",
    "\n",
    "    if epoch % 10 == 0:\n",
    "        # Save checkpoint\n",
    "        print(f'Epoch {epoch}, Train Loss: {train_loss:.4f}, Validation Loss: {val_loss:.4f}, Validation F1: {val_f1:.4f}')\n",
    "        save_progress(epoch, model, optimizer, scheduler, best_f1, train_loss_history, val_loss_history, val_f1_history, saved_model_epochs)\n",
    "\n",
    "# Save the trained model\n",
    "print(\"Model training completed and saved.\")"
   ]
  },
  {
   "cell_type": "code",
   "execution_count": null,
   "id": "f64c2932",
   "metadata": {},
   "outputs": [],
   "source": [
    "def plot_training_process(train_losses, val_losses, val_f1, saved_model_epochs):\n",
    "    fig, axs = plt.subplots(2, 1, figsize=(10, 8), sharex=True)\n",
    "\n",
    "    # Plot Train Loss\n",
    "    axs[0].plot(train_losses, label='Train Loss', color='blue')\n",
    "    axs[0].plot(val_losses, label='Validation Loss', color='red')\n",
    "    axs[0].set_ylabel('Train Loss')\n",
    "    axs[0].set_title('Training Loss')\n",
    "    axs[0].legend()\n",
    "    axs[0].grid()\n",
    "\n",
    "    val_f1_weighted_history = []\n",
    "    val_f1_micro_history = []\n",
    "    val_f1_macro_history = []\n",
    "\n",
    "    for val_f1_weighted, val_f1_micro, val_f1_macro in val_f1:\n",
    "        val_f1_weighted_history.append(val_f1_weighted)\n",
    "        val_f1_micro_history.append(val_f1_micro)\n",
    "        val_f1_macro_history.append(val_f1_macro)\n",
    "    \n",
    "    # Plot Validation F1\n",
    "\n",
    "    axs[1].plot(val_f1_weighted_history, label='Validation F1 Weighted', color='green')\n",
    "    axs[1].plot(val_f1_micro_history, label='Validation F1 Micro', color='blue')\n",
    "    axs[1].plot(val_f1_macro_history, label='Validation F1 Macro', color='red')\n",
    "    axs[1].set_xlabel('Epochs')\n",
    "    axs[1].set_ylabel('Validation F1')\n",
    "    axs[1].set_title('Validation F1 Score')\n",
    "    axs[1].legend()\n",
    "    axs[1].grid()\n",
    "\n",
    "    # Add scatter for saved model epochs (e.g., F1 weighted here)\n",
    "    axs[1].scatter(saved_model_epochs, [val_f1_weighted_history[i] for i in saved_model_epochs],\n",
    "                   color='black', marker='o', label='Saved Model')\n",
    "    axs[1].legend()\n",
    "\n",
    "    print(len(train_losses))\n",
    "\n",
    "    plt.tight_layout()\n",
    "    plt.show()"
   ]
  },
  {
   "cell_type": "code",
   "execution_count": null,
   "id": "2572f236",
   "metadata": {},
   "outputs": [
    {
     "name": "stdout",
     "output_type": "stream",
     "text": [
      "74\n"
     ]
    },
    {
     "data": {
      "image/png": "[encoded data removed]",
      "text/plain": [
       "<Figure size 1000x800 with 2 Axes>"
      ]
     },
     "metadata": {},
     "output_type": "display_data"
    }
   ],
   "source": [
    "plot_training_process(train_loss_history, val_loss_history, val_f1_history, saved_model_epochs)"
   ]
  },
  {
   "cell_type": "code",
   "execution_count": null,
   "id": "857f271a-612b-4cd6-a85a-e4236dec9d80",
   "metadata": {},
   "outputs": [
    {
     "name": "stdout",
     "output_type": "stream",
     "text": [
      "Number of test graphs:  589\n",
      "Loading model from /vol/bitbucket/shc20/FYP/GNN-Adversarial-Attack/Models/E_GraphSAGE/logs/CIC_IDS_2017/split_random_window_combined_port/best_model_all_downsampled.pth\n",
      "inference start\n"
     ]
    },
    {
     "name": "stderr",
     "output_type": "stream",
     "text": [
      "                                                               "
     ]
    },
    {
     "name": "stdout",
     "output_type": "stream",
     "text": [
      "Test Accuracy: 0.9689\n",
      "class_map ['BENIGN' 'Bot' 'DDoS' 'DoS GoldenEye' 'DoS Hulk' 'DoS Slowhttptest'\n",
      " 'DoS slowloris' 'FTP-Patator' 'Heartbleed' 'Infiltration' 'PortScan'\n",
      " 'SSH-Patator' 'Web Attack - Brute Force' 'Web Attack - Sql Injection'\n",
      " 'Web Attack - XSS']\n",
      "[[31827   218    72    18   529    45    10    21     3    79   508   113\n",
      "     22     1     4]\n",
      " [   11   358     0     0     0     0     0     0     0     0     0     0\n",
      "      0     0     0]\n",
      " [    0     0 22730     0     0     0     0     0     0     0     0     0\n",
      "      0     0     0]\n",
      " [    0     0     0  1626     0     0     0     0     0     0     0     0\n",
      "      0     0     0]\n",
      " [  912     0   200     0 31845     0    90     0     0     0    29     0\n",
      "      0     0     0]\n",
      " [  157     0     0     0     0   167     0     0     0    43     0     0\n",
      "      0     0     0]\n",
      " [  248     0     0     0     0   200   886     0     0     0     0     0\n",
      "      0     0     0]\n",
      " [    0     0     0     0     0     0     0  1207     0     0     4     0\n",
      "      0     0     0]\n",
      " [    0     0     0     0     0     0     0     0     1     0     0     0\n",
      "      0     0     0]\n",
      " [    1     0     0     0     0     0     0     0     0     2     0     0\n",
      "      0     0     0]\n",
      " [  113     0     0     0     0     0     0     0     0     0 22551     0\n",
      "      0     0    14]\n",
      " [    0     0     0     0     0     0     0     0     0     0     0   629\n",
      "      0     0     0]\n",
      " [    0     0     0     0     0     0     0     0     0     0     0     0\n",
      "    306     0     0]\n",
      " [    0     0     0     0     0     0     0     0     0     0     0     0\n",
      "      0     0     0]\n",
      " [    0     0     0     0     0     0     0     0     0     0     0     0\n",
      "      0     0     0]]\n",
      "                            precision    recall  f1-score   support\n",
      "\n",
      "                    BENIGN     0.9567    0.9509    0.9538     33470\n",
      "                       Bot     0.6215    0.9702    0.7577       369\n",
      "                      DDoS     0.9882    1.0000    0.9941     22730\n",
      "             DoS GoldenEye     0.9891    1.0000    0.9945      1626\n",
      "                  DoS Hulk     0.9837    0.9628    0.9731     33076\n",
      "          DoS Slowhttptest     0.4053    0.4550    0.4288       367\n",
      "             DoS slowloris     0.8986    0.6642    0.7638      1334\n",
      "               FTP-Patator     0.9829    0.9967    0.9897      1211\n",
      "                Heartbleed     0.2500    1.0000    0.4000         1\n",
      "              Infiltration     0.0161    0.6667    0.0315         3\n",
      "                  PortScan     0.9766    0.9944    0.9854     22678\n",
      "               SSH-Patator     0.8477    1.0000    0.9176       629\n",
      "  Web Attack - Brute Force     0.9329    1.0000    0.9653       306\n",
      "Web Attack - Sql Injection     0.0000    0.0000    0.0000         0\n",
      "          Web Attack - XSS     0.0000    0.0000    0.0000         0\n",
      "\n",
      "                  accuracy                         0.9689    117800\n",
      "                 macro avg     0.6566    0.7774    0.6770    117800\n",
      "              weighted avg     0.9708    0.9689    0.9694    117800\n",
      "\n"
     ]
    },
    {
     "name": "stderr",
     "output_type": "stream",
     "text": [
      "/vol/bitbucket/shc20/FYP/GNN-Adversarial-Attack/.venv/lib/python3.12/site-packages/sklearn/metrics/_classification.py:1565: UndefinedMetricWarning: Recall is ill-defined and being set to 0.0 in labels with no true samples. Use `zero_division` parameter to control this behavior.\n",
      "  _warn_prf(average, modifier, f\"{metric.capitalize()} is\", len(result))\n",
      "/vol/bitbucket/shc20/FYP/GNN-Adversarial-Attack/.venv/lib/python3.12/site-packages/sklearn/metrics/_classification.py:1565: UndefinedMetricWarning: Recall is ill-defined and being set to 0.0 in labels with no true samples. Use `zero_division` parameter to control this behavior.\n",
      "  _warn_prf(average, modifier, f\"{metric.capitalize()} is\", len(result))\n",
      "/vol/bitbucket/shc20/FYP/GNN-Adversarial-Attack/.venv/lib/python3.12/site-packages/sklearn/metrics/_classification.py:1565: UndefinedMetricWarning: Recall is ill-defined and being set to 0.0 in labels with no true samples. Use `zero_division` parameter to control this behavior.\n",
      "  _warn_prf(average, modifier, f\"{metric.capitalize()} is\", len(result))\n"
     ]
    }
   ],
   "source": [
    "from torch_geometric.utils import subgraph\n",
    "from torch_geometric.data import Data\n",
    "from sklearn.metrics import confusion_matrix\n",
    "from sklearn.metrics import classification_report\n",
    "\n",
    "def compute_accuracy(pred, labels):\n",
    "    return (pred.argmax(1) == labels).float().mean().item()\n",
    "\n",
    "def eval(dataset, adversarial=False):\n",
    "\n",
    "    best_model = EGraphSAGE(node_in_channels=num_features, \n",
    "                       edge_in_channels=num_features,\n",
    "                       hidden_channels=best_hidden_dim, \n",
    "                       out_channels=num_classes).to(device)\n",
    "\n",
    "    print(\"Loading model from\", best_model_path)\n",
    "    best_model.load_state_dict(th.load(best_model_path, weights_only=True))\n",
    "\n",
    "    best_model.eval()\n",
    "\n",
    "    print(\"inference start\")\n",
    "    with th.no_grad():\n",
    "        all_pred_logits = []\n",
    "        all_test_labels = []\n",
    "        for G_pyg in tqdm(dataset, desc=\"Evaluation\", leave=False):\n",
    "            try:\n",
    "                # Move the graph data to the device\n",
    "                G_pyg = G_pyg.to(device)\n",
    "                G_pyg.edge_label = G_pyg.edge_label.to(device)\n",
    "                G_pyg.edge_attr = G_pyg.edge_attr.to(device)\n",
    "                out = best_model(G_pyg)\n",
    "                \n",
    "            except Exception as forward_error:\n",
    "                print(f\"Error during forward/backward pass at {forward_error}\")\n",
    "\n",
    "            all_pred_logits.append(out.cpu())\n",
    "            all_test_labels.append(G_pyg.edge_label.cpu())\n",
    "\n",
    "        all_pred_logits = th.cat(all_pred_logits).to(device)\n",
    "        all_test_labels = th.cat(all_test_labels).to(device)\n",
    "        test_accuracy = compute_accuracy(all_pred_logits, all_test_labels)\n",
    "        print(f'Test Accuracy: {test_accuracy:.4f}')\n",
    "\n",
    "        pred_labels = all_pred_logits.argmax(dim=1).cpu()\n",
    "        all_test_labels = all_test_labels.cpu()\n",
    "    \n",
    "    if adversarial:\n",
    "\n",
    "        # Create a boolean mask where the label is NOT equal to the adversarial class\n",
    "        adversarial_mask = all_test_labels == ADVERSARIAL_CLASS_LABEL\n",
    "\n",
    "        # Print the class that the adversarial samples are classified as\n",
    "        cm_adversarial = confusion_matrix(all_test_labels[adversarial_mask], pred_labels[adversarial_mask], labels=range(len(class_map) + 1))\n",
    "        print(\"Adversarial confusion matrix:\", cm_adversarial)\n",
    "\n",
    "        # Apply the mask to both labels and predictions\n",
    "        all_test_labels = all_test_labels[~adversarial_mask]\n",
    "        pred_labels = pred_labels[~adversarial_mask]\n",
    "\n",
    "    print(\"class_map\", class_map)\n",
    "    # Generate a report\n",
    "    cm = confusion_matrix(all_test_labels, pred_labels, labels=range(len(class_map)))\n",
    "    print(cm)\n",
    "\n",
    "\n",
    "    report = classification_report(all_test_labels, pred_labels, target_names=class_map, digits=4, labels=range(len(class_map)))\n",
    "    print(report)\n",
    "\n",
    "print(\"Number of test graphs: \", len(test_graph_dataset))\n",
    "eval(test_graph_dataset)\n"
   ]
  },
  {
   "cell_type": "code",
   "execution_count": null,
   "id": "cff736d0",
   "metadata": {},
   "outputs": [],
   "source": [
    "def inject_traffic_to_attacker(graph, ratio=0.1, num_injected_nodes=1, is_attack=False):\n",
    "    global inject_edge_attr_pool_saved\n",
    "    edge_index = graph.edge_index.clone()\n",
    "    edge_attr = graph.edge_attr.clone()\n",
    "    edge_label = graph.edge_label.clone()\n",
    "    x = graph.x.clone()\n",
    "\n",
    "    num_edges = edge_index.size(1)\n",
    "    feature_dim = graph.x.size(1)\n",
    "\n",
    "    # 1. Identify attacker nodes\n",
    "    attacker_edges = (edge_label != BENIGN_CLASS_LABEL).nonzero(as_tuple=False).view(-1)\n",
    "    attacker_nodes = th.unique(edge_index[:, attacker_edges])\n",
    "    if attacker_nodes.numel() == 0:\n",
    "        # raise ValueError(\"No attacker nodes found.\")\n",
    "        return graph\n",
    "\n",
    "    # 2. Sample benign edge feature pool\n",
    "    if is_attack:\n",
    "        attack_edges = (edge_label != BENIGN_CLASS_LABEL).nonzero(as_tuple=False).view(-1)\n",
    "        inject_edge_attr_pool = edge_attr[attack_edges]\n",
    "    else:\n",
    "        benign_edges = (edge_label == BENIGN_CLASS_LABEL).nonzero(as_tuple=False).view(-1)\n",
    "        inject_edge_attr_pool = edge_attr[benign_edges]\n",
    "\n",
    "    if inject_edge_attr_pool.numel() == 0:\n",
    "        if len(inject_edge_attr_pool_saved) > 0:\n",
    "            inject_edge_attr_pool = th.cat(inject_edge_attr_pool_saved)\n",
    "        else:\n",
    "            return graph  # No edges to inject, return original graph\n",
    "\n",
    "    # 3. Inject new nodes\n",
    "    original_num_nodes = x.size(0)\n",
    "\n",
    "    new_node_feats = th.ones((num_injected_nodes, feature_dim))\n",
    "    x = th.cat([x, new_node_feats], dim=0)\n",
    "\n",
    "    # 4. Inject edges from injected nodes to attacker nodes\n",
    "    num_to_inject = max(1, int(ratio * num_edges))\n",
    "    new_edges = []\n",
    "    new_attrs = []\n",
    "    new_labels = []\n",
    "\n",
    "    \n",
    "    for _ in range(num_to_inject):\n",
    "        src = random.randint(original_num_nodes, original_num_nodes + num_injected_nodes - 1)  # from injected nodes\n",
    "\n",
    "        dst = attacker_nodes[random.randint(0, len(attacker_nodes) - 1)].item()\n",
    "\n",
    "        new_edges.append([src, dst])\n",
    "        attr = inject_edge_attr_pool[random.randint(0, len(inject_edge_attr_pool) - 1)]\n",
    "        new_attrs.append(attr)\n",
    "        new_labels.append(ADVERSARIAL_CLASS_LABEL)\n",
    "\n",
    "    # Create a new empty graph to store the injected edges\n",
    "    new_graph = Data()\n",
    "\n",
    "    # 5. Merge into graph\n",
    "    if new_edges:\n",
    "        new_edges = th.tensor(new_edges, dtype=th.long).t().contiguous()\n",
    "        new_attrs = th.stack(new_attrs)\n",
    "        new_labels = th.tensor(new_labels, dtype=th.long)\n",
    "\n",
    "        new_graph.edge_index = th.cat([edge_index, new_edges], dim=1)\n",
    "        new_graph.edge_attr = th.cat([edge_attr, new_attrs], dim=0)\n",
    "        new_graph.edge_label = th.cat([edge_label, new_labels], dim=0)\n",
    "        new_graph.x = x\n",
    "\n",
    "        # new_graph.first_injected_node_idx = original_num_nodes # Store injected node indices\n",
    "\n",
    "    return new_graph\n"
   ]
  },
  {
   "cell_type": "code",
   "execution_count": null,
   "id": "c0a4cf4a",
   "metadata": {},
   "outputs": [
    {
     "name": "stdout",
     "output_type": "stream",
     "text": [
      "Loading model from /vol/bitbucket/shc20/FYP/GNN-Adversarial-Attack/Models/E_GraphSAGE/logs/CIC_IDS_2017/split_random_window_combined_port/best_model_all_downsampled.pth\n",
      "inference start\n"
     ]
    },
    {
     "name": "stderr",
     "output_type": "stream",
     "text": [
      "                                                              "
     ]
    },
    {
     "name": "stdout",
     "output_type": "stream",
     "text": [
      "Test Accuracy: 0.8581\n",
      "Adversarial confusion matrix: [[   0    0    0    0    0    0    0    0    0    0    0    0    0    0\n",
      "     0    0]\n",
      " [   0    0    0    0    0    0    0    0    0    0    0    0    0    0\n",
      "     0    0]\n",
      " [   0    0    0    0    0    0    0    0    0    0    0    0    0    0\n",
      "     0    0]\n",
      " [   0    0    0    0    0    0    0    0    0    0    0    0    0    0\n",
      "     0    0]\n",
      " [   0    0    0    0    0    0    0    0    0    0    0    0    0    0\n",
      "     0    0]\n",
      " [   0    0    0    0    0    0    0    0    0    0    0    0    0    0\n",
      "     0    0]\n",
      " [   0    0    0    0    0    0    0    0    0    0    0    0    0    0\n",
      "     0    0]\n",
      " [   0    0    0    0    0    0    0    0    0    0    0    0    0    0\n",
      "     0    0]\n",
      " [   0    0    0    0    0    0    0    0    0    0    0    0    0    0\n",
      "     0    0]\n",
      " [   0    0    0    0    0    0    0    0    0    0    0    0    0    0\n",
      "     0    0]\n",
      " [   0    0    0    0    0    0    0    0    0    0    0    0    0    0\n",
      "     0    0]\n",
      " [   0    0    0    0    0    0    0    0    0    0    0    0    0    0\n",
      "     0    0]\n",
      " [   0    0    0    0    0    0    0    0    0    0    0    0    0    0\n",
      "     0    0]\n",
      " [   0    0    0    0    0    0    0    0    0    0    0    0    0    0\n",
      "     0    0]\n",
      " [   0    0    0    0    0    0    0    0    0    0    0    0    0    0\n",
      "     0    0]\n",
      " [1312  259 1957  115 2843   46   80   27   20   85 2378   14    6    0\n",
      "    58    0]]\n",
      "class_map ['BENIGN' 'Bot' 'DDoS' 'DoS GoldenEye' 'DoS Hulk' 'DoS Slowhttptest'\n",
      " 'DoS slowloris' 'FTP-Patator' 'Heartbleed' 'Infiltration' 'PortScan'\n",
      " 'SSH-Patator' 'Web Attack - Brute Force' 'Web Attack - Sql Injection'\n",
      " 'Web Attack - XSS']\n",
      "[[31825   220    73    18   537    36    10    23     2    85   503   108\n",
      "     26     0     4]\n",
      " [   61   306     0     0     0     0     0     0     0     0     0     0\n",
      "      0     0     2]\n",
      " [  255     0 22475     0     0     0     0     0     0     0     0     0\n",
      "      0     0     0]\n",
      " [  165     0     0  1458     3     0     0     0     0     0     0     0\n",
      "      0     0     0]\n",
      " [ 1964     0   405     0 30522     0   101     0     0     0    84     0\n",
      "      0     0     0]\n",
      " [  252     0     0     0     0   106     0     0     0     9     0     0\n",
      "      0     0     0]\n",
      " [  339     0     0     0     0   216   779     0     0     0     0     0\n",
      "      0     0     0]\n",
      " [  485     0     0     0     0     0     0   724     0     0     2     0\n",
      "      0     0     0]\n",
      " [    1     0     0     0     0     0     0     0     0     0     0     0\n",
      "      0     0     0]\n",
      " [    1     0     0     0     0     0     2     0     0     0     0     0\n",
      "      0     0     0]\n",
      " [ 1715   159     0     0     0     0     0     0     0     0 20787     0\n",
      "      0     0    17]\n",
      " [  629     0     0     0     0     0     0     0     0     0     0     0\n",
      "      0     0     0]\n",
      " [  111     0     0     0     0     0     0     0     0     0     0     0\n",
      "      0     0   195]\n",
      " [    0     0     0     0     0     0     0     0     0     0     0     0\n",
      "      0     0     0]\n",
      " [    0     0     0     0     0     0     0     0     0     0     0     0\n",
      "      0     0     0]]\n",
      "                            precision    recall  f1-score   support\n",
      "\n",
      "                    BENIGN     0.8419    0.9509    0.8930     33470\n",
      "                       Bot     0.4467    0.8293    0.5806       369\n",
      "                      DDoS     0.9792    0.9888    0.9840     22730\n",
      "             DoS GoldenEye     0.9878    0.8967    0.9400      1626\n",
      "                  DoS Hulk     0.9826    0.9228    0.9518     33076\n",
      "          DoS Slowhttptest     0.2961    0.2888    0.2924       367\n",
      "             DoS slowloris     0.8733    0.5840    0.6999      1334\n",
      "               FTP-Patator     0.9692    0.5979    0.7395      1211\n",
      "                Heartbleed     0.0000    0.0000    0.0000         1\n",
      "              Infiltration     0.0000    0.0000    0.0000         3\n",
      "                  PortScan     0.9724    0.9166    0.9437     22678\n",
      "               SSH-Patator     0.0000    0.0000    0.0000       629\n",
      "  Web Attack - Brute Force     0.0000    0.0000    0.0000       306\n",
      "Web Attack - Sql Injection     0.0000    0.0000    0.0000         0\n",
      "          Web Attack - XSS     0.0000    0.0000    0.0000         0\n",
      "\n",
      "                  accuracy                         0.9251    117800\n",
      "                 macro avg     0.4899    0.4650    0.4683    117800\n",
      "              weighted avg     0.9270    0.9251    0.9237    117800\n",
      "\n"
     ]
    },
    {
     "name": "stderr",
     "output_type": "stream",
     "text": [
      "/vol/bitbucket/shc20/FYP/GNN-Adversarial-Attack/.venv/lib/python3.12/site-packages/sklearn/metrics/_classification.py:1565: UndefinedMetricWarning: Precision is ill-defined and being set to 0.0 in labels with no predicted samples. Use `zero_division` parameter to control this behavior.\n",
      "  _warn_prf(average, modifier, f\"{metric.capitalize()} is\", len(result))\n",
      "/vol/bitbucket/shc20/FYP/GNN-Adversarial-Attack/.venv/lib/python3.12/site-packages/sklearn/metrics/_classification.py:1565: UndefinedMetricWarning: Recall is ill-defined and being set to 0.0 in labels with no true samples. Use `zero_division` parameter to control this behavior.\n",
      "  _warn_prf(average, modifier, f\"{metric.capitalize()} is\", len(result))\n",
      "/vol/bitbucket/shc20/FYP/GNN-Adversarial-Attack/.venv/lib/python3.12/site-packages/sklearn/metrics/_classification.py:1565: UndefinedMetricWarning: F-score is ill-defined and being set to 0.0 in labels with no true nor predicted samples. Use `zero_division` parameter to control this behavior.\n",
      "  _warn_prf(average, modifier, f\"{metric.capitalize()} is\", len(result))\n",
      "/vol/bitbucket/shc20/FYP/GNN-Adversarial-Attack/.venv/lib/python3.12/site-packages/sklearn/metrics/_classification.py:1565: UndefinedMetricWarning: Precision is ill-defined and being set to 0.0 in labels with no predicted samples. Use `zero_division` parameter to control this behavior.\n",
      "  _warn_prf(average, modifier, f\"{metric.capitalize()} is\", len(result))\n",
      "/vol/bitbucket/shc20/FYP/GNN-Adversarial-Attack/.venv/lib/python3.12/site-packages/sklearn/metrics/_classification.py:1565: UndefinedMetricWarning: Recall is ill-defined and being set to 0.0 in labels with no true samples. Use `zero_division` parameter to control this behavior.\n",
      "  _warn_prf(average, modifier, f\"{metric.capitalize()} is\", len(result))\n",
      "/vol/bitbucket/shc20/FYP/GNN-Adversarial-Attack/.venv/lib/python3.12/site-packages/sklearn/metrics/_classification.py:1565: UndefinedMetricWarning: F-score is ill-defined and being set to 0.0 in labels with no true nor predicted samples. Use `zero_division` parameter to control this behavior.\n",
      "  _warn_prf(average, modifier, f\"{metric.capitalize()} is\", len(result))\n",
      "/vol/bitbucket/shc20/FYP/GNN-Adversarial-Attack/.venv/lib/python3.12/site-packages/sklearn/metrics/_classification.py:1565: UndefinedMetricWarning: Precision is ill-defined and being set to 0.0 in labels with no predicted samples. Use `zero_division` parameter to control this behavior.\n",
      "  _warn_prf(average, modifier, f\"{metric.capitalize()} is\", len(result))\n",
      "/vol/bitbucket/shc20/FYP/GNN-Adversarial-Attack/.venv/lib/python3.12/site-packages/sklearn/metrics/_classification.py:1565: UndefinedMetricWarning: Recall is ill-defined and being set to 0.0 in labels with no true samples. Use `zero_division` parameter to control this behavior.\n",
      "  _warn_prf(average, modifier, f\"{metric.capitalize()} is\", len(result))\n",
      "/vol/bitbucket/shc20/FYP/GNN-Adversarial-Attack/.venv/lib/python3.12/site-packages/sklearn/metrics/_classification.py:1565: UndefinedMetricWarning: F-score is ill-defined and being set to 0.0 in labels with no true nor predicted samples. Use `zero_division` parameter to control this behavior.\n",
      "  _warn_prf(average, modifier, f\"{metric.capitalize()} is\", len(result))\n"
     ]
    }
   ],
   "source": [
    "# Inject Attack Traffic to Attacker Nodes\n",
    "inject_edge_attr_pool_saved = []\n",
    "injected_graph_dataset = [inject_traffic_to_attacker(g.cpu(), 0.1, num_injected_nodes=1, is_attack=True) for g in test_graph_dataset]\n",
    "eval(injected_graph_dataset, adversarial=True)"
   ]
  },
  {
   "cell_type": "code",
   "execution_count": null,
   "id": "90b60cd6",
   "metadata": {},
   "outputs": [
    {
     "name": "stdout",
     "output_type": "stream",
     "text": [
      "Loading model from /vol/bitbucket/shc20/FYP/GNN-Adversarial-Attack/Models/E_GraphSAGE/logs/CIC_IDS_2017/split_random_window_combined_port/best_model_all_downsampled.pth\n",
      "inference start\n"
     ]
    },
    {
     "name": "stderr",
     "output_type": "stream",
     "text": [
      "                                                              "
     ]
    },
    {
     "name": "stdout",
     "output_type": "stream",
     "text": [
      "Test Accuracy: 0.9420\n",
      "Adversarial confusion matrix: [[   0    0    0    0    0    0    0    0    0    0    0    0    0    0\n",
      "     0    0]\n",
      " [   0    0    0    0    0    0    0    0    0    0    0    0    0    0\n",
      "     0    0]\n",
      " [   0    0    0    0    0    0    0    0    0    0    0    0    0    0\n",
      "     0    0]\n",
      " [   0    0    0    0    0    0    0    0    0    0    0    0    0    0\n",
      "     0    0]\n",
      " [   0    0    0    0    0    0    0    0    0    0    0    0    0    0\n",
      "     0    0]\n",
      " [   0    0    0    0    0    0    0    0    0    0    0    0    0    0\n",
      "     0    0]\n",
      " [   0    0    0    0    0    0    0    0    0    0    0    0    0    0\n",
      "     0    0]\n",
      " [   0    0    0    0    0    0    0    0    0    0    0    0    0    0\n",
      "     0    0]\n",
      " [   0    0    0    0    0    0    0    0    0    0    0    0    0    0\n",
      "     0    0]\n",
      " [   0    0    0    0    0    0    0    0    0    0    0    0    0    0\n",
      "     0    0]\n",
      " [   0    0    0    0    0    0    0    0    0    0    0    0    0    0\n",
      "     0    0]\n",
      " [   0    0    0    0    0    0    0    0    0    0    0    0    0    0\n",
      "     0    0]\n",
      " [   0    0    0    0    0    0    0    0    0    0    0    0    0    0\n",
      "     0    0]\n",
      " [   0    0    0    0    0    0    0    0    0    0    0    0    0    0\n",
      "     0    0]\n",
      " [   0    0    0    0    0    0    0    0    0    0    0    0    0    0\n",
      "     0    0]\n",
      " [1143   59   25    0   24   10    1    5    0    4   20    3    1    0\n",
      "     5    0]]\n",
      "class_map ['BENIGN' 'Bot' 'DDoS' 'DoS GoldenEye' 'DoS Hulk' 'DoS Slowhttptest'\n",
      " 'DoS slowloris' 'FTP-Patator' 'Heartbleed' 'Infiltration' 'PortScan'\n",
      " 'SSH-Patator' 'Web Attack - Brute Force' 'Web Attack - Sql Injection'\n",
      " 'Web Attack - XSS']\n",
      "[[31843   212    76    16   530    37     7    17     2    80   497   122\n",
      "     26     0     5]\n",
      " [   80   288     0     0     0     0     0     0     0     0     1     0\n",
      "      0     0     0]\n",
      " [  566     0 22155     0     9     0     0     0     0     0     0     0\n",
      "      0     0     0]\n",
      " [   38     0     1  1586     1     0     0     0     0     0     0     0\n",
      "      0     0     0]\n",
      " [ 1025     0    47     0 31901     0   103     0     0     0     0     0\n",
      "      0     0     0]\n",
      " [  210     0     0     0     0   112     0     0     0    45     0     0\n",
      "      0     0     0]\n",
      " [  310     0     0     0     0   246   777     0     0     0     1     0\n",
      "      0     0     0]\n",
      " [  232     0     1     0     1     0     2   972     0     0     3     0\n",
      "      0     0     0]\n",
      " [    1     0     0     0     0     0     0     0     0     0     0     0\n",
      "      0     0     0]\n",
      " [    3     0     0     0     0     0     0     0     0     0     0     0\n",
      "      0     0     0]\n",
      " [  107     2     0     0     0     0     0     0     0     0 22555     1\n",
      "      0     0    13]\n",
      " [  623     0     2     0     0     0     0     0     0     0     3     0\n",
      "      1     0     0]\n",
      " [  243     0     0     0     5     0     0     0     0     0     0     0\n",
      "      2     0    56]\n",
      " [    0     0     0     0     0     0     0     0     0     0     0     0\n",
      "      0     0     0]\n",
      " [    0     0     0     0     0     0     0     0     0     0     0     0\n",
      "      0     0     0]]\n",
      "                            precision    recall  f1-score   support\n",
      "\n",
      "                    BENIGN     0.9026    0.9514    0.9263     33470\n",
      "                       Bot     0.5737    0.7805    0.6613       369\n",
      "                      DDoS     0.9943    0.9747    0.9844     22730\n",
      "             DoS GoldenEye     0.9900    0.9754    0.9827      1626\n",
      "                  DoS Hulk     0.9832    0.9645    0.9737     33076\n",
      "          DoS Slowhttptest     0.2835    0.3052    0.2940       367\n",
      "             DoS slowloris     0.8740    0.5825    0.6991      1334\n",
      "               FTP-Patator     0.9828    0.8026    0.8836      1211\n",
      "                Heartbleed     0.0000    0.0000    0.0000         1\n",
      "              Infiltration     0.0000    0.0000    0.0000         3\n",
      "                  PortScan     0.9781    0.9946    0.9863     22678\n",
      "               SSH-Patator     0.0000    0.0000    0.0000       629\n",
      "  Web Attack - Brute Force     0.0690    0.0065    0.0119       306\n",
      "Web Attack - Sql Injection     0.0000    0.0000    0.0000         0\n",
      "          Web Attack - XSS     0.0000    0.0000    0.0000         0\n",
      "\n",
      "                  accuracy                         0.9524    117800\n",
      "                 macro avg     0.5087    0.4892    0.4936    117800\n",
      "              weighted avg     0.9492    0.9524    0.9500    117800\n",
      "\n"
     ]
    },
    {
     "name": "stderr",
     "output_type": "stream",
     "text": [
      "/vol/bitbucket/shc20/FYP/GNN-Adversarial-Attack/.venv/lib/python3.12/site-packages/sklearn/metrics/_classification.py:1565: UndefinedMetricWarning: Precision is ill-defined and being set to 0.0 in labels with no predicted samples. Use `zero_division` parameter to control this behavior.\n",
      "  _warn_prf(average, modifier, f\"{metric.capitalize()} is\", len(result))\n",
      "/vol/bitbucket/shc20/FYP/GNN-Adversarial-Attack/.venv/lib/python3.12/site-packages/sklearn/metrics/_classification.py:1565: UndefinedMetricWarning: Recall is ill-defined and being set to 0.0 in labels with no true samples. Use `zero_division` parameter to control this behavior.\n",
      "  _warn_prf(average, modifier, f\"{metric.capitalize()} is\", len(result))\n",
      "/vol/bitbucket/shc20/FYP/GNN-Adversarial-Attack/.venv/lib/python3.12/site-packages/sklearn/metrics/_classification.py:1565: UndefinedMetricWarning: F-score is ill-defined and being set to 0.0 in labels with no true nor predicted samples. Use `zero_division` parameter to control this behavior.\n",
      "  _warn_prf(average, modifier, f\"{metric.capitalize()} is\", len(result))\n",
      "/vol/bitbucket/shc20/FYP/GNN-Adversarial-Attack/.venv/lib/python3.12/site-packages/sklearn/metrics/_classification.py:1565: UndefinedMetricWarning: Precision is ill-defined and being set to 0.0 in labels with no predicted samples. Use `zero_division` parameter to control this behavior.\n",
      "  _warn_prf(average, modifier, f\"{metric.capitalize()} is\", len(result))\n",
      "/vol/bitbucket/shc20/FYP/GNN-Adversarial-Attack/.venv/lib/python3.12/site-packages/sklearn/metrics/_classification.py:1565: UndefinedMetricWarning: Recall is ill-defined and being set to 0.0 in labels with no true samples. Use `zero_division` parameter to control this behavior.\n",
      "  _warn_prf(average, modifier, f\"{metric.capitalize()} is\", len(result))\n",
      "/vol/bitbucket/shc20/FYP/GNN-Adversarial-Attack/.venv/lib/python3.12/site-packages/sklearn/metrics/_classification.py:1565: UndefinedMetricWarning: F-score is ill-defined and being set to 0.0 in labels with no true nor predicted samples. Use `zero_division` parameter to control this behavior.\n",
      "  _warn_prf(average, modifier, f\"{metric.capitalize()} is\", len(result))\n",
      "/vol/bitbucket/shc20/FYP/GNN-Adversarial-Attack/.venv/lib/python3.12/site-packages/sklearn/metrics/_classification.py:1565: UndefinedMetricWarning: Precision is ill-defined and being set to 0.0 in labels with no predicted samples. Use `zero_division` parameter to control this behavior.\n",
      "  _warn_prf(average, modifier, f\"{metric.capitalize()} is\", len(result))\n",
      "/vol/bitbucket/shc20/FYP/GNN-Adversarial-Attack/.venv/lib/python3.12/site-packages/sklearn/metrics/_classification.py:1565: UndefinedMetricWarning: Recall is ill-defined and being set to 0.0 in labels with no true samples. Use `zero_division` parameter to control this behavior.\n",
      "  _warn_prf(average, modifier, f\"{metric.capitalize()} is\", len(result))\n",
      "/vol/bitbucket/shc20/FYP/GNN-Adversarial-Attack/.venv/lib/python3.12/site-packages/sklearn/metrics/_classification.py:1565: UndefinedMetricWarning: F-score is ill-defined and being set to 0.0 in labels with no true nor predicted samples. Use `zero_division` parameter to control this behavior.\n",
      "  _warn_prf(average, modifier, f\"{metric.capitalize()} is\", len(result))\n"
     ]
    }
   ],
   "source": [
    "# Inject BENIGN Traffic to Attacker Nodes\n",
    "inject_edge_attr_pool_saved = []\n",
    "injected_graph_dataset = [inject_traffic_to_attacker(g.cpu(), 0.1, num_injected_nodes=1, is_attack=False) for g in test_graph_dataset]\n",
    "eval(injected_graph_dataset, adversarial=True)"
   ]
  },
  {
   "cell_type": "code",
   "execution_count": null,
   "id": "d15c7a8e",
   "metadata": {},
   "outputs": [],
   "source": [
    "def inject_random_nodes(graph, ratio=0.1, num_injected_nodes=1):\n",
    "\tedge_index = graph.edge_index.clone()\n",
    "\tedge_attr = graph.edge_attr.clone()\n",
    "\tedge_label = graph.edge_label.clone()\n",
    "\tx = graph.x.clone()\n",
    "\n",
    "\tnum_edges = edge_index.size(1)\n",
    "\tfeature_dim = graph.x.size(1)\n",
    "\n",
    "\t# 1. Inject new nodes\n",
    "\toriginal_num_nodes = x.size(0)\n",
    "\tnew_node_feats = th.ones((num_injected_nodes, feature_dim))\n",
    "\tx = th.cat([x, new_node_feats], dim=0)\n",
    "\n",
    "\t# 2. Inject random edges\n",
    "\tnum_to_inject = max(1, int(ratio * num_edges))\n",
    "\tnew_edges = []\n",
    "\tnew_attrs = []\n",
    "\tnew_labels = []\n",
    "\n",
    "\tfor _ in range(num_to_inject):\n",
    "\t\tsrc = random.randint(original_num_nodes, original_num_nodes + num_injected_nodes - 1)  # from injected nodes\n",
    "\t\tdst = random.randint(0, original_num_nodes - 1)  # to existing nodes\n",
    "\n",
    "\t\tnew_edges.append([src, dst])\n",
    "\t\tattr = edge_attr[random.randint(0, len(edge_attr) - 1)]  # Randomly sample edge attributes\n",
    "\t\tnew_attrs.append(attr)\n",
    "\t\tnew_labels.append(ADVERSARIAL_CLASS_LABEL)  # Assign benign class label to new edges\n",
    "\n",
    "\t# 3. Merge into graph\n",
    "\tif new_edges:\n",
    "\t\tnew_edges = th.tensor(new_edges, dtype=th.long).t().contiguous()\n",
    "\t\tnew_attrs = th.stack(new_attrs)\n",
    "\t\tnew_labels = th.tensor(new_labels, dtype=th.long)\n",
    "\n",
    "\t\tedge_index = th.cat([edge_index, new_edges], dim=1)\n",
    "\t\tedge_attr = th.cat([edge_attr, new_attrs], dim=0)\n",
    "\t\tedge_label = th.cat([edge_label, new_labels], dim=0)\n",
    "\n",
    "\t# Create a new graph with the injected nodes and edges\n",
    "\tnew_graph = Data(\n",
    "\t\tedge_index=edge_index,\n",
    "\t\tedge_attr=edge_attr,\n",
    "\t\tedge_label=edge_label,\n",
    "\t\tx=x\n",
    "\t)\n",
    "\n",
    "\treturn new_graph"
   ]
  },
  {
   "cell_type": "code",
   "execution_count": null,
   "id": "39b73040",
   "metadata": {},
   "outputs": [
    {
     "name": "stdout",
     "output_type": "stream",
     "text": [
      "Loading model from /vol/bitbucket/shc20/FYP/GNN-Adversarial-Attack/Models/E_GraphSAGE/logs/CIC_IDS_2017/split_random_window_combined_port/best_model_all_downsampled.pth\n",
      "inference start\n"
     ]
    },
    {
     "name": "stderr",
     "output_type": "stream",
     "text": [
      "                                                              "
     ]
    },
    {
     "name": "stdout",
     "output_type": "stream",
     "text": [
      "Test Accuracy: 0.8572\n",
      "Adversarial confusion matrix: [[   0    0    0    0    0    0    0    0    0    0    0    0    0    0\n",
      "     0    0]\n",
      " [   0    0    0    0    0    0    0    0    0    0    0    0    0    0\n",
      "     0    0]\n",
      " [   0    0    0    0    0    0    0    0    0    0    0    0    0    0\n",
      "     0    0]\n",
      " [   0    0    0    0    0    0    0    0    0    0    0    0    0    0\n",
      "     0    0]\n",
      " [   0    0    0    0    0    0    0    0    0    0    0    0    0    0\n",
      "     0    0]\n",
      " [   0    0    0    0    0    0    0    0    0    0    0    0    0    0\n",
      "     0    0]\n",
      " [   0    0    0    0    0    0    0    0    0    0    0    0    0    0\n",
      "     0    0]\n",
      " [   0    0    0    0    0    0    0    0    0    0    0    0    0    0\n",
      "     0    0]\n",
      " [   0    0    0    0    0    0    0    0    0    0    0    0    0    0\n",
      "     0    0]\n",
      " [   0    0    0    0    0    0    0    0    0    0    0    0    0    0\n",
      "     0    0]\n",
      " [   0    0    0    0    0    0    0    0    0    0    0    0    0    0\n",
      "     0    0]\n",
      " [   0    0    0    0    0    0    0    0    0    0    0    0    0    0\n",
      "     0    0]\n",
      " [   0    0    0    0    0    0    0    0    0    0    0    0    0    0\n",
      "     0    0]\n",
      " [   0    0    0    0    0    0    0    0    0    0    0    0    0    0\n",
      "     0    0]\n",
      " [   0    0    0    0    0    0    0    0    0    0    0    0    0    0\n",
      "     0    0]\n",
      " [4180  115 1925  105 2901   23   45   25    0   51 2358   15    5    0\n",
      "    32    0]]\n",
      "class_map ['BENIGN' 'Bot' 'DDoS' 'DoS GoldenEye' 'DoS Hulk' 'DoS Slowhttptest'\n",
      " 'DoS slowloris' 'FTP-Patator' 'Heartbleed' 'Infiltration' 'PortScan'\n",
      " 'SSH-Patator' 'Web Attack - Brute Force' 'Web Attack - Sql Injection'\n",
      " 'Web Attack - XSS']\n",
      "[[31850   271    46    18   499    38    12    28     0    69   495   109\n",
      "     20     0    15]\n",
      " [   14   355     0     0     0     0     0     0     0     0     0     0\n",
      "      0     0     0]\n",
      " [  295     0 22435     0     0     0     0     0     0     0     0     0\n",
      "      0     0     0]\n",
      " [  148     0     1  1476     1     0     0     0     0     0     0     0\n",
      "      0     0     0]\n",
      " [ 2065     0   236     0 30574     0   112     0     0     0    88     1\n",
      "      0     0     0]\n",
      " [   29     0     0     0     0   158     0     0     0   180     0     0\n",
      "      0     0     0]\n",
      " [  304     0     0     0     3   205   821     0     0     0     1     0\n",
      "      0     0     0]\n",
      " [   97     0     0     0     0     0     0  1109     0     0     5     0\n",
      "      0     0     0]\n",
      " [    0     0     0     0     0     0     0     0     1     0     0     0\n",
      "      0     0     0]\n",
      " [    2     0     0     0     0     0     0     0     0     1     0     0\n",
      "      0     0     0]\n",
      " [ 1029    53     0     0     0     0     0     0     0     0 21579     0\n",
      "      0     0    17]\n",
      " [   36     0     0     0     0     0     0     0     0     0     0   593\n",
      "      0     0     0]\n",
      " [   10     0     0     0     0     0     0     0     0     0     1     0\n",
      "    120     0   175]\n",
      " [    0     0     0     0     0     0     0     0     0     0     0     0\n",
      "      0     0     0]\n",
      " [    0     0     0     0     0     0     0     0     0     0     0     0\n",
      "      0     0     0]]\n",
      "                            precision    recall  f1-score   support\n",
      "\n",
      "                    BENIGN     0.8877    0.9516    0.9185     33470\n",
      "                       Bot     0.5228    0.9621    0.6775       369\n",
      "                      DDoS     0.9875    0.9870    0.9873     22730\n",
      "             DoS GoldenEye     0.9880    0.9077    0.9462      1626\n",
      "                  DoS Hulk     0.9838    0.9244    0.9532     33076\n",
      "          DoS Slowhttptest     0.3940    0.4305    0.4115       367\n",
      "             DoS slowloris     0.8688    0.6154    0.7205      1334\n",
      "               FTP-Patator     0.9754    0.9158    0.9446      1211\n",
      "                Heartbleed     1.0000    1.0000    1.0000         1\n",
      "              Infiltration     0.0040    0.3333    0.0079         3\n",
      "                  PortScan     0.9734    0.9515    0.9623     22678\n",
      "               SSH-Patator     0.8435    0.9428    0.8904       629\n",
      "  Web Attack - Brute Force     0.8571    0.3922    0.5381       306\n",
      "Web Attack - Sql Injection     0.0000    0.0000    0.0000         0\n",
      "          Web Attack - XSS     0.0000    0.0000    0.0000         0\n",
      "\n",
      "                  accuracy                         0.9429    117800\n",
      "                 macro avg     0.6857    0.6876    0.6639    117800\n",
      "              weighted avg     0.9495    0.9429    0.9449    117800\n",
      "\n"
     ]
    },
    {
     "name": "stderr",
     "output_type": "stream",
     "text": [
      "/vol/bitbucket/shc20/FYP/GNN-Adversarial-Attack/.venv/lib/python3.12/site-packages/sklearn/metrics/_classification.py:1565: UndefinedMetricWarning: Precision is ill-defined and being set to 0.0 in labels with no predicted samples. Use `zero_division` parameter to control this behavior.\n",
      "  _warn_prf(average, modifier, f\"{metric.capitalize()} is\", len(result))\n",
      "/vol/bitbucket/shc20/FYP/GNN-Adversarial-Attack/.venv/lib/python3.12/site-packages/sklearn/metrics/_classification.py:1565: UndefinedMetricWarning: Recall is ill-defined and being set to 0.0 in labels with no true samples. Use `zero_division` parameter to control this behavior.\n",
      "  _warn_prf(average, modifier, f\"{metric.capitalize()} is\", len(result))\n",
      "/vol/bitbucket/shc20/FYP/GNN-Adversarial-Attack/.venv/lib/python3.12/site-packages/sklearn/metrics/_classification.py:1565: UndefinedMetricWarning: F-score is ill-defined and being set to 0.0 in labels with no true nor predicted samples. Use `zero_division` parameter to control this behavior.\n",
      "  _warn_prf(average, modifier, f\"{metric.capitalize()} is\", len(result))\n",
      "/vol/bitbucket/shc20/FYP/GNN-Adversarial-Attack/.venv/lib/python3.12/site-packages/sklearn/metrics/_classification.py:1565: UndefinedMetricWarning: Precision is ill-defined and being set to 0.0 in labels with no predicted samples. Use `zero_division` parameter to control this behavior.\n",
      "  _warn_prf(average, modifier, f\"{metric.capitalize()} is\", len(result))\n",
      "/vol/bitbucket/shc20/FYP/GNN-Adversarial-Attack/.venv/lib/python3.12/site-packages/sklearn/metrics/_classification.py:1565: UndefinedMetricWarning: Recall is ill-defined and being set to 0.0 in labels with no true samples. Use `zero_division` parameter to control this behavior.\n",
      "  _warn_prf(average, modifier, f\"{metric.capitalize()} is\", len(result))\n",
      "/vol/bitbucket/shc20/FYP/GNN-Adversarial-Attack/.venv/lib/python3.12/site-packages/sklearn/metrics/_classification.py:1565: UndefinedMetricWarning: F-score is ill-defined and being set to 0.0 in labels with no true nor predicted samples. Use `zero_division` parameter to control this behavior.\n",
      "  _warn_prf(average, modifier, f\"{metric.capitalize()} is\", len(result))\n",
      "/vol/bitbucket/shc20/FYP/GNN-Adversarial-Attack/.venv/lib/python3.12/site-packages/sklearn/metrics/_classification.py:1565: UndefinedMetricWarning: Precision is ill-defined and being set to 0.0 in labels with no predicted samples. Use `zero_division` parameter to control this behavior.\n",
      "  _warn_prf(average, modifier, f\"{metric.capitalize()} is\", len(result))\n",
      "/vol/bitbucket/shc20/FYP/GNN-Adversarial-Attack/.venv/lib/python3.12/site-packages/sklearn/metrics/_classification.py:1565: UndefinedMetricWarning: Recall is ill-defined and being set to 0.0 in labels with no true samples. Use `zero_division` parameter to control this behavior.\n",
      "  _warn_prf(average, modifier, f\"{metric.capitalize()} is\", len(result))\n",
      "/vol/bitbucket/shc20/FYP/GNN-Adversarial-Attack/.venv/lib/python3.12/site-packages/sklearn/metrics/_classification.py:1565: UndefinedMetricWarning: F-score is ill-defined and being set to 0.0 in labels with no true nor predicted samples. Use `zero_division` parameter to control this behavior.\n",
      "  _warn_prf(average, modifier, f\"{metric.capitalize()} is\", len(result))\n"
     ]
    }
   ],
   "source": [
    "# Inject Random Nodes in the graph\n",
    "injected_graph_dataset = [inject_random_nodes(g.cpu(), 0.1, num_injected_nodes=1) for g in test_graph_dataset]\n",
    "eval(injected_graph_dataset, adversarial=True)"
   ]
  }
 ],
 "metadata": {
  "kernelspec": {
   "display_name": ".venv",
   "language": "python",
   "name": "python3"
  },
  "language_info": {
   "codemirror_mode": {
    "name": "ipython",
    "version": 3
   },
   "file_extension": ".py",
   "mimetype": "text/x-python",
   "name": "python",
   "nbconvert_exporter": "python",
   "pygments_lexer": "ipython3",
   "version": "3.12.3"
  }
 },
 "nbformat": 4,
 "nbformat_minor": 5
}
