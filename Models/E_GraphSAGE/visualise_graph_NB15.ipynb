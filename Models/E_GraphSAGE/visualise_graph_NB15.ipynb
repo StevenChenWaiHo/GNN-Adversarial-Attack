{
 "cells": [
  {
   "cell_type": "code",
   "execution_count": 3,
   "id": "26ce6ea9",
   "metadata": {},
   "outputs": [
    {
     "name": "stderr",
     "output_type": "stream",
     "text": [
      "/tmp/ipykernel_1676339/2577630515.py:21: DtypeWarning: Columns (3) have mixed types. Specify dtype option on import or set low_memory=False.\n",
      "  df = pd.read_csv(os.path.join(project_root, 'Datasets/UNSW_NB15/All/all_raw_downsampled.csv'))\n"
     ]
    },
    {
     "name": "stdout",
     "output_type": "stream",
     "text": [
      "          srcip  sport           dstip dsport proto state        dur  sbytes  \\\n",
      "0    10.40.85.1      0       224.0.0.5      0  ospf   INT  50.004341     384   \n",
      "1    59.166.0.6   2142   149.171.126.4     53   udp   CON   0.001134     132   \n",
      "2  175.45.176.0  13284  149.171.126.16     80   tcp   FIN   2.390390    1362   \n",
      "3    59.166.0.3  42587   149.171.126.8     25   tcp   FIN  34.077175   37358   \n",
      "4   10.40.170.2      0     10.40.170.2      0   arp   INT   0.000000      46   \n",
      "\n",
      "   dbytes  sttl  ...  ct_ftp_cmd  ct_srv_src  ct_srv_dst ct_dst_ltm  \\\n",
      "0       0     1  ...         0.0           2           4          4   \n",
      "1     164    31  ...         0.0          12           7          1   \n",
      "2     268   254  ...         0.0           5           2          2   \n",
      "3    3380    31  ...         0.0           1           1         12   \n",
      "4       0     0  ...         0.0           2           2          2   \n",
      "\n",
      "   ct_src_ltm  ct_src_dport_ltm  ct_dst_sport_ltm  ct_dst_src_ltm  \\\n",
      "0           2                 2                 4               2   \n",
      "1           2                 2                 1               1   \n",
      "2           1                 1                 1               1   \n",
      "3          10                 1                 1               2   \n",
      "4           2                 2                 2               2   \n",
      "\n",
      "       attack_cat  label  \n",
      "0          Normal      0  \n",
      "1          Normal      0  \n",
      "2  Reconnaissance      1  \n",
      "3          Normal      0  \n",
      "4          Normal      0  \n",
      "\n",
      "[5 rows x 49 columns]\n"
     ]
    }
   ],
   "source": [
    "import pandas as pd\n",
    "import os\n",
    "import sys\n",
    "\n",
    "project_root = os.path.abspath(os.path.join(os.getcwd(), '..', '..'))\n",
    "sys.path.append(project_root)\n",
    "\n",
    "from Models.UNSW_NB15_config import UNSW_NB15_Config\n",
    "\n",
    "SOURCE_IP_COL_NAME = UNSW_NB15_Config.SOURCE_NODE\n",
    "DESTINATION_IP_COL_NAME = UNSW_NB15_Config.DESTINATION_NODE\n",
    "SOURCE_PORT_COL_NAME = UNSW_NB15_Config.SOURCE_PORT_COL_NAME\n",
    "DESTINATION_PORT_COL_NAME = UNSW_NB15_Config.DESTINATION_PORT_COL_NAME\n",
    "\n",
    "LABEL_COL = UNSW_NB15_Config.ATTACK_CLASS_COL_NAME\n",
    "IS_ATTACK_COL = UNSW_NB15_Config.IS_ATTACK_COL_NAME\n",
    "\n",
    "TIME_COL_NAMES = UNSW_NB15_Config.TIME_COL_NAMES\n",
    "\n",
    "# Load the dataset into a DataFrame\n",
    "df = pd.read_csv(os.path.join(project_root, 'Datasets/UNSW_NB15/All/all_raw_downsampled.csv'))\n",
    "\n",
    "# Display the first few rows of the DataFrame\n",
    "print(df.head())"
   ]
  },
  {
   "cell_type": "code",
   "execution_count": 4,
   "id": "47ba107f",
   "metadata": {},
   "outputs": [],
   "source": [
    "# # Combine Port and IP\n",
    "df[SOURCE_PORT_COL_NAME] = df[SOURCE_PORT_COL_NAME].apply(str)\n",
    "df[DESTINATION_PORT_COL_NAME] = df[DESTINATION_PORT_COL_NAME].apply(str)\n",
    "\n",
    "df[SOURCE_IP_COL_NAME] = df[SOURCE_IP_COL_NAME] + ':' + df[SOURCE_PORT_COL_NAME]\n",
    "df[DESTINATION_IP_COL_NAME] = df[DESTINATION_IP_COL_NAME] + ':' + df[DESTINATION_PORT_COL_NAME]\n",
    "df.drop(columns=[SOURCE_PORT_COL_NAME,DESTINATION_PORT_COL_NAME],inplace=True)"
   ]
  },
  {
   "cell_type": "code",
   "execution_count": null,
   "id": "ccbc1e44",
   "metadata": {},
   "outputs": [
    {
     "name": "stdout",
     "output_type": "stream",
     "text": [
      "Warning: When  cdn_resources is 'local' jupyter notebook has issues displaying graphics on chrome/safari. Use cdn_resources='in_line' or cdn_resources='remote' if you have issues viewing graphics in a notebook.\n",
      "Nonegraph_DoS.html\n"
     ]
    }
   ],
   "source": [
    "from pyvis.network import Network\n",
    "\n",
    "def visualize_graph(df, attack_name, batch_size=50, name_prefix=\"\"):\n",
    "\n",
    "    for i in range(0, len(df), batch_size):\n",
    "        batch = df.iloc[i:i+batch_size]\n",
    "\n",
    "        # Skip the batch if the attack_name is not in the 'Label' column\n",
    "        if attack_name not in batch[LABEL_COL].values:\n",
    "            print(f\"Skipping batch {batch[LABEL_COL].values} as it does not contain the attack category '{attack_name}'\")\n",
    "            continue\n",
    "        \n",
    "        net = Network(notebook=True)\n",
    "        \n",
    "        # Add nodes and edges for each row in the batch\n",
    "        for _, row in batch.iterrows():\n",
    "            src = row['srcip']\n",
    "            dst = row['dstip']\n",
    "            edge_label = row[LABEL_COL]\n",
    "            \n",
    "            net.add_node(src, label=src)\n",
    "            net.add_node(dst, label=dst)\n",
    "            \n",
    "            # Add edge with label\n",
    "            color = 'red' if row[IS_ATTACK_COL] == 1 else 'blue'\n",
    "            net.add_edge(src, dst, title=edge_label, color=color)\n",
    "        \n",
    "        net.show(f\"{name_prefix}graph_{attack_name}.html\")\n",
    "        return\n",
    "\n",
    "visualize_graph(df, 'DoS', batch_size=50)"
   ]
  },
  {
   "cell_type": "code",
   "execution_count": null,
   "id": "73b78e04",
   "metadata": {},
   "outputs": [
    {
     "name": "stdout",
     "output_type": "stream",
     "text": [
      "Sampled attack flows: 54315\n",
      "Labels of sampled attack flows: attack_cat\n",
      "Generic           36435\n",
      "Exploits           7483\n",
      "Fuzzers            4075\n",
      "DoS                2789\n",
      "Reconnaissance     2438\n",
      "Analysis            437\n",
      "Backdoor            294\n",
      "Shellcode           243\n",
      "Backdoors            87\n",
      "Worms                34\n",
      "Name: count, dtype: int64\n",
      "               srcip               dstip proto state        dur  sbytes  \\\n",
      "0  192.168.1.1:39025      175.45.176.0:0  ospf   INT  12.256339    2184   \n",
      "1  192.168.1.2:41532  175.45.176.0:47439   udp   INT   0.000008     114   \n",
      "2  192.168.1.3:30599  175.45.176.3:47439   udp   INT   0.000008     114   \n",
      "3  192.168.1.4:55225  175.45.176.3:47439   udp   INT   0.000009     114   \n",
      "4  192.168.1.5:36774  175.45.176.2:46858   tcp   FIN   8.708573  546476   \n",
      "\n",
      "   dbytes  sttl  dttl  sloss  ...  ct_ftp_cmd ct_srv_src  ct_srv_dst  \\\n",
      "0       0   254     0      0  ...         NaN          1           1   \n",
      "1       0   254     0      0  ...         NaN         33          33   \n",
      "2       0   254     0      0  ...         NaN         38          38   \n",
      "3       0   254     0      0  ...         NaN         18          18   \n",
      "4    4632    62   252    211  ...         NaN          1           1   \n",
      "\n",
      "   ct_dst_ltm  ct_src_ltm  ct_src_dport_ltm  ct_dst_sport_ltm  ct_dst_src_ltm  \\\n",
      "0           1           1                 1                 1               1   \n",
      "1          17          17                17                 9              33   \n",
      "2          19          19                18                18              41   \n",
      "3          18          19                18                18              18   \n",
      "4           4           2                 1                 1               1   \n",
      "\n",
      "    attack_cat  label  \n",
      "0  Adversarial      1  \n",
      "1  Adversarial      1  \n",
      "2  Adversarial      1  \n",
      "3  Adversarial      1  \n",
      "4  Adversarial      1  \n",
      "\n",
      "[5 rows x 47 columns]\n",
      "Warning: When  cdn_resources is 'local' jupyter notebook has issues displaying graphics on chrome/safari. Use cdn_resources='in_line' or cdn_resources='remote' if you have issues viewing graphics in a notebook.\n",
      "adversarialgraph_DoS.html\n"
     ]
    }
   ],
   "source": [
    "# Visualise graph after adversarial attack\n",
    "import random\n",
    "\n",
    "\n",
    "def attack_attacker(dataframe, ratio, num_injected_nodes):\n",
    "    attack_eval = dataframe[dataframe[IS_ATTACK_COL] == 1]\n",
    "    num_injected = int(ratio * len(dataframe))\n",
    "\n",
    "    # Sample attack rows\n",
    "    sampled_attack_flows = attack_eval.sample(n=num_injected, random_state=42).copy().reset_index(drop=True)\n",
    "    \n",
    "    injected_rows = sampled_attack_flows.copy()\n",
    "    print(\"Sampled attack flows:\", len(sampled_attack_flows))\n",
    "    print(\"Labels of sampled attack flows:\", sampled_attack_flows[LABEL_COL].value_counts())\n",
    "\n",
    "    node_ips = [f\"192.168.1.{i+1}\" for i in range(num_injected_nodes)]\n",
    "    injected_rows[DESTINATION_IP_COL_NAME] = injected_rows[SOURCE_IP_COL_NAME] # Target the Real Attacker Nodes\n",
    "    injected_rows[SOURCE_IP_COL_NAME] = [f\"{node_ips[i % len(node_ips)]}:{random.randint(1024, 65535)}\" for i in range(num_injected)]\n",
    "    # injected_rows['pkSeqID'] = [f'Injected-{i}' for i in range(num_injected)]\n",
    "    injected_rows[LABEL_COL] = 'Adversarial' # Assign a new class for injected samples\n",
    "    print(injected_rows[0:5])\n",
    "\n",
    "    # Append and reorder\n",
    "    combined_df = pd.concat([dataframe, injected_rows], ignore_index=True)\n",
    "\n",
    "    # Sort using this datetime column\n",
    "    combined_df = combined_df.sort_values(by=TIME_COL_NAMES).reset_index(drop=True)\n",
    "\n",
    "    return combined_df\n",
    "\n",
    "attack_attacker_df = attack_attacker(df, 0.1, 10)\n",
    "visualize_graph(attack_attacker_df, 'DoS', batch_size=50, name_prefix='adversarial_')"
   ]
  }
 ],
 "metadata": {
  "kernelspec": {
   "display_name": ".venv",
   "language": "python",
   "name": "python3"
  },
  "language_info": {
   "codemirror_mode": {
    "name": "ipython",
    "version": 3
   },
   "file_extension": ".py",
   "mimetype": "text/x-python",
   "name": "python",
   "nbconvert_exporter": "python",
   "pygments_lexer": "ipython3",
   "version": "3.12.3"
  }
 },
 "nbformat": 4,
 "nbformat_minor": 5
}
