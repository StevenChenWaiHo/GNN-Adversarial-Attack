{
 "cells": [
  {
   "cell_type": "code",
   "execution_count": 1,
   "id": "ec16c7ab",
   "metadata": {},
   "outputs": [],
   "source": [
    "'''\n",
    "=====Experiment=====\n",
    "'''\n",
    "DATASET_NAME = \"CIC_IDS_2017\"\n",
    "\n",
    "GRAPH_CONSTRUCTION = 'host'\n",
    "WINDOW_SIZE = 3000\n",
    "\n",
    "MULTICLASS = True\n",
    "\n",
    "LOAD_SAVED = False\n",
    "\n",
    "FIRST_RUN = not LOAD_SAVED\n",
    "\n",
    "from torch_geometric.utils import from_networkx, add_self_loops, degree\n",
    "from torch_geometric.nn import MessagePassing\n",
    "import torch_geometric.transforms as T\n",
    "from torch_geometric.data import DataLoader\n",
    "import torch.nn as nn\n",
    "import torch as th\n",
    "import torch.nn.functional as F\n",
    "# import dgl.function as fn\n",
    "import networkx as nx\n",
    "import pandas as pd\n",
    "import matplotlib.pyplot as plt\n",
    "import random\n",
    "from sklearn.preprocessing import LabelEncoder\n",
    "from sklearn.preprocessing import StandardScaler\n",
    "from sklearn.model_selection import train_test_split\n",
    "from sklearn.utils import class_weight\n",
    "import numpy as np\n",
    "import os\n",
    "import sys\n",
    "from iterstrat.ml_stratifiers import MultilabelStratifiedShuffleSplit\n",
    "from torch_geometric.loader import DataLoader\n",
    "import joblib\n",
    "\n",
    "project_root = os.path.abspath(os.path.join(os.getcwd(), '..', '..', '..'))\n",
    "sys.path.append(project_root)\n",
    "\n",
    "from Datasets.CIC_IDS_2017.CIC_IDS_2017_config import CIC_IDS_2017_Config as Dataset_Config\n",
    "\n",
    "EXPERIMENT_NAME = f\"strat_window_{GRAPH_CONSTRUCTION}_{WINDOW_SIZE}\"\n",
    "\n",
    "SOURCE_IP_COL_NAME = Dataset_Config.SOURCE_IP_COL_NAME\n",
    "DESTINATION_IP_COL_NAME = Dataset_Config.DESTINATION_IP_COL_NAME\n",
    "SOURCE_PORT_COL_NAME = Dataset_Config.SOURCE_PORT_COL_NAME\n",
    "DESTINATION_PORT_COL_NAME = Dataset_Config.DESTINATION_PORT_COL_NAME\n",
    "\n",
    "ATTACK_CLASS_COL_NAME = Dataset_Config.ATTACK_CLASS_COL_NAME\n",
    "\n",
    "BENIGN_CLASS_NAME = Dataset_Config.BENIGN_CLASS_NAME\n",
    "\n",
    "TIME_COLS = Dataset_Config.TIME_COL_NAMES\n",
    "\n",
    "DROP_COLS = Dataset_Config.DROP_COLS\n",
    "\n",
    "COLS_TO_NORM = Dataset_Config.COLS_TO_NORM\n",
    "CATEGORICAL_COLS = Dataset_Config.CATEGORICAL_COLS\n",
    "\n",
    "label_col = ATTACK_CLASS_COL_NAME   \n",
    "\n",
    "save_path = os.path.join(project_root, f\"Models/E_GraphSAGE_edge/{DATASET_NAME}/saved\", EXPERIMENT_NAME)\n",
    "\n",
    "checkpoint_path = os.path.join(save_path, f\"checkpoints.pth\")\n",
    "best_model_path = os.path.join(save_path, f\"best_model.pth\")\n",
    "\n",
    "os.makedirs(save_path, exist_ok=True)\n"
   ]
  },
  {
   "cell_type": "code",
   "execution_count": 2,
   "id": "9d9ef09a-d405-43b8-971e-fe9e6a592c9b",
   "metadata": {},
   "outputs": [],
   "source": [
    "if FIRST_RUN:\n",
    "    csv_file_name = \"all_raw\"\n",
    "\n",
    "    data = pd.read_csv(os.path.join(project_root, \"Datasets\", f\"{DATASET_NAME}/All/{csv_file_name}.csv\"))"
   ]
  },
  {
   "cell_type": "code",
   "execution_count": 3,
   "id": "b0ee112a",
   "metadata": {},
   "outputs": [
    {
     "name": "stdout",
     "output_type": "stream",
     "text": [
      "Label\n",
      "BENIGN                        2273097\n",
      "DoS Hulk                       231073\n",
      "PortScan                       158930\n",
      "DDoS                           128027\n",
      "DoS GoldenEye                   10293\n",
      "FTP-Patator                      7938\n",
      "SSH-Patator                      5897\n",
      "DoS slowloris                    5796\n",
      "DoS Slowhttptest                 5499\n",
      "Bot                              1966\n",
      "Web Attack - Brute Force         1507\n",
      "Web Attack - XSS                  652\n",
      "Infiltration                       36\n",
      "Web Attack - Sql Injection         21\n",
      "Heartbleed                         11\n",
      "Name: count, dtype: int64\n"
     ]
    }
   ],
   "source": [
    "if FIRST_RUN:\n",
    "    print(data[ATTACK_CLASS_COL_NAME].value_counts())"
   ]
  },
  {
   "cell_type": "code",
   "execution_count": 4,
   "id": "449a1af1-1d3d-4179-9628-7c2ec551ce0c",
   "metadata": {},
   "outputs": [
    {
     "name": "stdout",
     "output_type": "stream",
     "text": [
      "Index(['Flow ID', 'Source IP', 'Source Port', 'Destination IP',\n",
      "       'Destination Port', 'Protocol', 'Timestamp', 'Flow Duration',\n",
      "       'Total Length of Fwd Packets', 'Fwd Packet Length Mean',\n",
      "       'Fwd Packet Length Std', 'Bwd Packet Length Min',\n",
      "       'Bwd Packet Length Std', 'Flow Packets/s', 'Flow IAT Mean',\n",
      "       'Flow IAT Std', 'Flow IAT Min', 'Fwd IAT Min', 'Bwd IAT Mean',\n",
      "       'Fwd PSH Flags', 'SYN Flag Count', 'PSH Flag Count', 'ACK Flag Count',\n",
      "       'Average Packet Size', 'Fwd Header Length.1', 'Subflow Fwd Packets',\n",
      "       'Subflow Fwd Bytes', 'Subflow Bwd Bytes', 'Init_Win_bytes_forward',\n",
      "       'Active Mean', 'Active Min', 'Label', 'source_file_id'],\n",
      "      dtype='object')\n"
     ]
    }
   ],
   "source": [
    "if FIRST_RUN:\n",
    "    data.drop(columns=DROP_COLS,inplace=True)\n",
    "    print(data.columns)"
   ]
  },
  {
   "cell_type": "code",
   "execution_count": 5,
   "id": "2a2c690c-86a4-49f7-aa9c-58f94529547d",
   "metadata": {},
   "outputs": [],
   "source": [
    "if FIRST_RUN:\n",
    "    if GRAPH_CONSTRUCTION == 'endpoint':\n",
    "        data[SOURCE_IP_COL_NAME] = data[SOURCE_IP_COL_NAME].apply(str)\n",
    "        data[DESTINATION_IP_COL_NAME] = data[DESTINATION_IP_COL_NAME].apply(str)\n",
    "\n",
    "        # # Combine Port and IP\n",
    "        data[SOURCE_PORT_COL_NAME] = data[SOURCE_PORT_COL_NAME].apply(str)\n",
    "        data[DESTINATION_PORT_COL_NAME] = data[DESTINATION_PORT_COL_NAME].apply(str)\n",
    "\n",
    "        data[SOURCE_IP_COL_NAME] = data[SOURCE_IP_COL_NAME] + ':' + data[SOURCE_PORT_COL_NAME]\n",
    "        data[DESTINATION_IP_COL_NAME] = data[DESTINATION_IP_COL_NAME] + ':' + data[DESTINATION_PORT_COL_NAME]\n",
    "        data.drop(columns=[SOURCE_PORT_COL_NAME,DESTINATION_PORT_COL_NAME],inplace=True)\n",
    "\n",
    "        data = pd.get_dummies(data, columns = CATEGORICAL_COLS) # One Hot Encoding for categorical data\n",
    "        converted_categorical_cols = [col for col in data.columns if col.startswith(tuple(CATEGORICAL_COLS))]\n",
    "\n",
    "    elif GRAPH_CONSTRUCTION == 'host':\n",
    "        data = pd.get_dummies(data, columns = CATEGORICAL_COLS) # One Hot Encoding for categorical data\n",
    "        converted_categorical_cols = [col for col in data.columns if col.startswith(tuple(CATEGORICAL_COLS))]\n",
    "        COLS_TO_NORM = COLS_TO_NORM + [SOURCE_PORT_COL_NAME, DESTINATION_PORT_COL_NAME]\n",
    "    else:\n",
    "        raise ValueError(\"Invalid GRAPH_CONSTRUCTION value. Use 'host' or 'endpoint'.\")\n",
    "    "
   ]
  },
  {
   "cell_type": "code",
   "execution_count": 6,
   "id": "e2d96115-31f9-48cb-b3e6-7853d2d253cf",
   "metadata": {},
   "outputs": [],
   "source": [
    "if FIRST_RUN:\n",
    "    # Clean NaN values\n",
    "    data.reset_index(drop=True, inplace=True)\n",
    "    data.replace([np.inf, -np.inf], np.nan,inplace = True)\n",
    "    data.fillna(0,inplace = True)"
   ]
  },
  {
   "cell_type": "code",
   "execution_count": 7,
   "id": "9ea95177",
   "metadata": {},
   "outputs": [
    {
     "name": "stdout",
     "output_type": "stream",
     "text": [
      "       Bwd Packet Length Min  Subflow Fwd Packets  \\\n",
      "count           2.830743e+06         2.830743e+06   \n",
      "mean            4.104958e+01         9.361160e+00   \n",
      "std             6.886260e+01         7.496728e+02   \n",
      "min             0.000000e+00         1.000000e+00   \n",
      "25%             0.000000e+00         2.000000e+00   \n",
      "50%             0.000000e+00         2.000000e+00   \n",
      "75%             7.700000e+01         5.000000e+00   \n",
      "max             2.896000e+03         2.197590e+05   \n",
      "\n",
      "       Total Length of Fwd Packets  Fwd Packet Length Mean  \\\n",
      "count                 2.830743e+06            2.830743e+06   \n",
      "mean                  5.493024e+02            5.820194e+01   \n",
      "std                   9.993589e+03            1.860912e+02   \n",
      "min                   0.000000e+00            0.000000e+00   \n",
      "25%                   1.200000e+01            6.000000e+00   \n",
      "50%                   6.200000e+01            3.400000e+01   \n",
      "75%                   1.870000e+02            5.000000e+01   \n",
      "max                   1.290000e+07            5.940857e+03   \n",
      "\n",
      "       Total Length of Fwd Packets  Fwd Packet Length Std   Fwd IAT Min  \\\n",
      "count                 2.830743e+06           2.830743e+06  2.830743e+06   \n",
      "mean                  5.493024e+02           6.891013e+01  1.021893e+06   \n",
      "std                   9.993589e+03           2.811871e+02  8.591436e+06   \n",
      "min                   0.000000e+00           0.000000e+00 -1.200000e+01   \n",
      "25%                   1.200000e+01           0.000000e+00  0.000000e+00   \n",
      "50%                   6.200000e+01           0.000000e+00  3.000000e+00   \n",
      "75%                   1.870000e+02           2.616295e+01  4.800000e+01   \n",
      "max                   1.290000e+07           7.125597e+03  1.200000e+08   \n",
      "\n",
      "       Flow IAT Min  Flow IAT Mean  Bwd Packet Length Std  ...  \\\n",
      "count  2.830743e+06   2.830743e+06           2.830743e+06  ...   \n",
      "mean   1.623796e+05   1.298449e+06           3.353257e+02  ...   \n",
      "std    2.950282e+06   4.507944e+06           8.396932e+02  ...   \n",
      "min   -1.400000e+01  -1.300000e+01           0.000000e+00  ...   \n",
      "25%    3.000000e+00   6.366667e+01           0.000000e+00  ...   \n",
      "50%    4.000000e+00   1.143884e+04           0.000000e+00  ...   \n",
      "75%    6.400000e+01   3.374266e+05           7.794054e+01  ...   \n",
      "max    1.200000e+08   1.200000e+08           8.194660e+03  ...   \n",
      "\n",
      "       Subflow Bwd Bytes  Init_Win_bytes_forward  ACK Flag Count  \\\n",
      "count       2.830743e+06            2.830743e+06    2.830743e+06   \n",
      "mean        1.616230e+04            6.989837e+03    3.158443e-01   \n",
      "std         2.263057e+06            1.433873e+04    4.648513e-01   \n",
      "min         0.000000e+00           -1.000000e+00    0.000000e+00   \n",
      "25%         0.000000e+00           -1.000000e+00    0.000000e+00   \n",
      "50%         1.230000e+02            2.510000e+02    0.000000e+00   \n",
      "75%         4.820000e+02            8.192000e+03    1.000000e+00   \n",
      "max         6.554530e+08            6.553500e+04    1.000000e+00   \n",
      "\n",
      "       Fwd PSH Flags  SYN Flag Count  Flow Packets/s  PSH Flag Count  \\\n",
      "count   2.830743e+06    2.830743e+06    2.830743e+06    2.830743e+06   \n",
      "mean    4.644646e-02    4.644646e-02    7.078247e+04    2.980705e-01   \n",
      "std     2.104500e-01    2.104500e-01    2.542966e+05    4.574107e-01   \n",
      "min     0.000000e+00    0.000000e+00   -2.000000e+06    0.000000e+00   \n",
      "25%     0.000000e+00    0.000000e+00    3.341404e+00    0.000000e+00   \n",
      "50%     0.000000e+00    0.000000e+00    1.082163e+02    0.000000e+00   \n",
      "75%     0.000000e+00    0.000000e+00    2.325581e+04    1.000000e+00   \n",
      "max     1.000000e+00    1.000000e+00    4.000000e+06    1.000000e+00   \n",
      "\n",
      "       Average Packet Size   Source Port  Destination Port  \n",
      "count         2.830743e+06  2.830743e+06      2.830743e+06  \n",
      "mean          1.919837e+02  4.112886e+04      8.071483e+03  \n",
      "std           3.318603e+02  2.229494e+04      1.828363e+04  \n",
      "min           0.000000e+00  0.000000e+00      0.000000e+00  \n",
      "25%           7.500000e+00  3.277400e+04      5.300000e+01  \n",
      "50%           7.225000e+01  5.094400e+04      8.000000e+01  \n",
      "75%           1.492639e+02  5.841300e+04      4.430000e+02  \n",
      "max           3.893333e+03  6.553500e+04      6.553500e+04  \n",
      "\n",
      "[8 rows x 26 columns]\n",
      "\n",
      "✅ All other columns processed successfully.\n",
      "Data after normalization:\n"
     ]
    }
   ],
   "source": [
    "if not LOAD_SAVED:\n",
    "    # Normalize numerical columns\n",
    "    scaler = StandardScaler()\n",
    "    print(data[COLS_TO_NORM].describe()) # Check if there's any too large value\n",
    "\n",
    "    # Check for numeric issues in the columns before normalization\n",
    "    def check_numeric_issues(df, cols_to_norm):\n",
    "        for col in cols_to_norm:\n",
    "            try:\n",
    "                # Try to coerce to numeric\n",
    "                df[col] = pd.to_numeric(df[col], errors='coerce')\n",
    "                \n",
    "            except Exception as e:\n",
    "                print(f\"❌ Column '{col}' failed with error: {e}\")\n",
    "                print(f\"  - Sample values: {df[col].dropna().unique()[:5]}\")\n",
    "                print(f\"  - Data type: {df[col].dtype}\")\n",
    "                continue\n",
    "\n",
    "        print(\"\\n✅ All other columns processed successfully.\")\n",
    "\n",
    "    check_numeric_issues(data, COLS_TO_NORM)\n",
    "\n",
    "    data[COLS_TO_NORM] = scaler.fit_transform(data[COLS_TO_NORM])\n",
    "\n",
    "    # Save the scaler for future use\n",
    "    scaler_path = os.path.join(save_path, \"scaler.pkl\")\n",
    "    joblib.dump(scaler, scaler_path)\n",
    "    print(\"Data after normalization:\")"
   ]
  },
  {
   "cell_type": "code",
   "execution_count": 8,
   "id": "c4382030",
   "metadata": {},
   "outputs": [],
   "source": [
    "if LOAD_SAVED:\n",
    "    # load scaler\n",
    "    scaler_path = os.path.join(save_path, \"scaler.pkl\")\n",
    "    scaler = joblib.load(scaler_path)"
   ]
  },
  {
   "cell_type": "code",
   "execution_count": 9,
   "id": "61c6e17f",
   "metadata": {},
   "outputs": [
    {
     "name": "stdout",
     "output_type": "stream",
     "text": [
      "['BENIGN' 'Bot' 'DDoS' 'DoS GoldenEye' 'DoS Hulk' 'DoS Slowhttptest'\n",
      " 'DoS slowloris' 'FTP-Patator' 'Heartbleed' 'Infiltration' 'PortScan'\n",
      " 'SSH-Patator' 'Web Attack - Brute Force' 'Web Attack - Sql Injection'\n",
      " 'Web Attack - XSS']\n",
      "Attack label mapping: {'BENIGN': 0, 'Bot': 1, 'DDoS': 2, 'DoS GoldenEye': 3, 'DoS Hulk': 4, 'DoS Slowhttptest': 5, 'DoS slowloris': 6, 'FTP-Patator': 7, 'Heartbleed': 8, 'Infiltration': 9, 'PortScan': 10, 'SSH-Patator': 11, 'Web Attack - Brute Force': 12, 'Web Attack - Sql Injection': 13, 'Web Attack - XSS': 14}\n"
     ]
    }
   ],
   "source": [
    "if FIRST_RUN:\n",
    "    num_classes = 2\n",
    "    class_map = [0, 1]\n",
    "    if MULTICLASS:\n",
    "        le = LabelEncoder()\n",
    "        attack_labels = le.fit_transform(data[ATTACK_CLASS_COL_NAME])\n",
    "        class_map = le.classes_\n",
    "        print(class_map)\n",
    "        print(\"Attack label mapping:\", dict(zip(class_map, range(len(class_map)))))\n",
    "        data[ATTACK_CLASS_COL_NAME] = attack_labels\n",
    "        num_classes = len(class_map)\n",
    "        class_dict = {le.inverse_transform([i])[0]: i for i in range(len(le.classes_))}\n",
    "\n",
    "    class_map_path = os.path.join(save_path, \"class_map.pkl\")\n",
    "    labeller_path = os.path.join(save_path, \"labeller.pkl\")\n",
    "\n",
    "    joblib.dump(le, labeller_path)\n",
    "    joblib.dump(class_map, class_map_path)\n",
    "\n",
    "    BENIGN_CLASS_LABEL = le.transform([BENIGN_CLASS_NAME])[0] if MULTICLASS else 0\n",
    "    ADVERSARIAL_CLASS_LABEL = len(class_map)"
   ]
  },
  {
   "cell_type": "code",
   "execution_count": 10,
   "id": "f75c715e",
   "metadata": {},
   "outputs": [],
   "source": [
    "if LOAD_SAVED:\n",
    "    # Save the class map BENIGN_CLASS_LABEL, ADVERSARIAL_CLASS_LABEL\n",
    "    class_map_path = os.path.join(save_path, \"class_map.pkl\")\n",
    "    labeller_path = os.path.join(save_path, \"labeller.pkl\")\n",
    "\n",
    "    class_map = joblib.load(class_map_path)\n",
    "    le = joblib.load(labeller_path)\n",
    "\n",
    "    BENIGN_CLASS_LABEL = le.transform([BENIGN_CLASS_NAME])[0] if MULTICLASS else 0\n",
    "    ADVERSARIAL_CLASS_LABEL = len(class_map)"
   ]
  },
  {
   "cell_type": "code",
   "execution_count": 11,
   "id": "d35f4cdd-2716-431f-af50-b34cc3d2d535",
   "metadata": {},
   "outputs": [
    {
     "name": "stdout",
     "output_type": "stream",
     "text": [
      "Feature Columns: ['Bwd Packet Length Min', 'Subflow Fwd Packets', 'Total Length of Fwd Packets', 'Fwd Packet Length Mean', 'Total Length of Fwd Packets', 'Fwd Packet Length Std', 'Fwd IAT Min', 'Flow IAT Min', 'Flow IAT Mean', 'Bwd Packet Length Std', 'Subflow Fwd Bytes', 'Flow Duration', 'Flow IAT Std', 'Active Min', 'Active Mean', 'Bwd IAT Mean', 'Subflow Bwd Bytes', 'Init_Win_bytes_forward', 'ACK Flag Count', 'Fwd PSH Flags', 'SYN Flag Count', 'Flow Packets/s', 'PSH Flag Count', 'Average Packet Size', 'Source Port', 'Destination Port', 'Protocol_0', 'Protocol_6', 'Protocol_17']\n",
      "Number of Features: 29\n",
      "                                   Flow ID         Source IP  Source Port  \\\n",
      "0  192.168.10.5-104.16.207.165-54865-443-6  104.16.207.165_0    -1.824892   \n",
      "1    192.168.10.5-104.16.28.216-55054-80-6   104.16.28.216_0    -1.841174   \n",
      "2    192.168.10.5-104.16.28.216-55055-80-6   104.16.28.216_0    -1.841174   \n",
      "3  192.168.10.16-104.17.241.25-46236-443-6   104.17.241.25_0    -1.824892   \n",
      "4  192.168.10.5-104.19.196.102-54863-443-6  104.19.196.102_0    -1.824892   \n",
      "\n",
      "    Destination IP  Destination Port      Timestamp  Flow Duration  \\\n",
      "0   192.168.10.5_0          2.559312  7/7/2017 3:30      -0.439347   \n",
      "1   192.168.10.5_0          2.569649  7/7/2017 3:30      -0.439344   \n",
      "2   192.168.10.5_0          2.569704  7/7/2017 3:30      -0.439345   \n",
      "3  192.168.10.16_0          2.087360  7/7/2017 3:30      -0.439346   \n",
      "4   192.168.10.5_0          2.559203  7/7/2017 3:30      -0.439347   \n",
      "\n",
      "   Total Length of Fwd Packets  Fwd Packet Length Mean  Fwd Packet Length Std  \\\n",
      "0                    -0.053765               -0.280518              -0.245069   \n",
      "1                    -0.054365               -0.280518              -0.245069   \n",
      "2                    -0.054365               -0.280518              -0.245069   \n",
      "3                    -0.054365               -0.280518              -0.245069   \n",
      "4                    -0.053765               -0.280518              -0.245069   \n",
      "\n",
      "   ...  Subflow Bwd Bytes  Init_Win_bytes_forward  Active Mean  Active Min  \\\n",
      "0  ...          -0.007142               -0.485178    -0.125734   -0.101016   \n",
      "1  ...          -0.007139               -0.485457    -0.125734   -0.101016   \n",
      "2  ...          -0.007139               -0.485457    -0.125734   -0.101016   \n",
      "3  ...          -0.007139               -0.485318    -0.125734   -0.101016   \n",
      "4  ...          -0.007142               -0.485248    -0.125734   -0.101016   \n",
      "\n",
      "   Label  source_file_id  Protocol_0  Protocol_6  Protocol_17  \\\n",
      "0      0               0       False        True        False   \n",
      "1      0               0       False        True        False   \n",
      "2      0               0       False        True        False   \n",
      "3      0               0       False        True        False   \n",
      "4      0               0       False        True        False   \n",
      "\n",
      "                                                   h  \n",
      "0  [-0.5961085535841419, -0.009819165539632076, -...  \n",
      "1  [-0.5089785174086571, -0.01115308106469734, -0...  \n",
      "2  [-0.5089785174086571, -0.01115308106469734, -0...  \n",
      "3  [-0.5089785174086571, -0.01115308106469734, -0...  \n",
      "4  [-0.5961085535841419, -0.009819165539632076, -...  \n",
      "\n",
      "[5 rows x 36 columns]\n"
     ]
    }
   ],
   "source": [
    "if not LOAD_SAVED:\n",
    "    # Maintain the order of the rows in the original dataframe\n",
    "    feature_cols = COLS_TO_NORM + converted_categorical_cols\n",
    "\n",
    "    print('Feature Columns:', feature_cols)\n",
    "    num_features = len(feature_cols)\n",
    "    print('Number of Features:', num_features)\n",
    "\n",
    "    data['h'] = data[ feature_cols ].values.tolist()\n",
    "    print(data.head(5))"
   ]
  },
  {
   "cell_type": "code",
   "execution_count": 12,
   "id": "743e7faa",
   "metadata": {},
   "outputs": [],
   "source": [
    "def create_graph(df):\n",
    "\n",
    "    G_nx = nx.from_pandas_edgelist(df, SOURCE_IP_COL_NAME, DESTINATION_IP_COL_NAME, ['h', label_col], create_using=nx.MultiDiGraph())\n",
    "    \n",
    "    G_pyg = from_networkx(G_nx)\n",
    "\n",
    "    num_nodes = G_pyg.num_nodes\n",
    "    num_edges = G_pyg.num_edges\n",
    "\n",
    "    assert num_edges == G_nx.number_of_edges(), \"Number of edges in PyG graph does not match NetworkX graph.\"\n",
    "\n",
    "    G_pyg.x = th.ones(num_nodes, len(df['h'].iloc[0])) \n",
    "\n",
    "    edge_attr_list = []\n",
    "    edge_label_list = []\n",
    "\n",
    "    for u, v, key, data in G_nx.edges(keys=True, data=True):\n",
    "        edge_attr_list.append(data['h']) \n",
    "        edge_label_list.append(data[label_col]) \n",
    "\n",
    "    G_pyg.edge_attr = th.tensor(edge_attr_list, dtype=th.float32)\n",
    "    G_pyg.edge_label = th.tensor(edge_label_list, dtype=th.long)\n",
    "\n",
    "    return G_pyg"
   ]
  },
  {
   "cell_type": "code",
   "execution_count": 13,
   "id": "4e650028",
   "metadata": {},
   "outputs": [],
   "source": [
    "from collections import defaultdict\n",
    "from typing import Counter\n",
    "from sklearn.preprocessing import MultiLabelBinarizer\n",
    "\n",
    "from tqdm import tqdm\n",
    "\n",
    "class StratifiedGraphDataset:\n",
    "\n",
    "    def __init__(self, X, y, eval=False):\n",
    "        self.X = X\n",
    "        self.y = y\n",
    "        self.total_count = len(self.y)\n",
    "\n",
    "        # Compute class weights\n",
    "        labels = []\n",
    "\n",
    "        for graph in self.X:\n",
    "            labels.append(graph.edge_label.tolist())\n",
    "\n",
    "        labels = np.concatenate(labels)\n",
    "\n",
    "        self.class_counts = Counter(labels)\n",
    "\n",
    "        # Compute the class weights\n",
    "        if not eval:\n",
    "            self.class_weights = class_weight.compute_class_weight(\n",
    "                class_weight='balanced',\n",
    "                classes=np.unique(labels),\n",
    "                y=labels\n",
    "            )\n",
    "\n",
    "    def k_fold_split(self, k: int = 5, test_ratio: float = 0.15, random_state: int = 42):\n",
    "        cv = MultilabelStratifiedShuffleSplit(test_size=test_ratio, random_state=random_state, n_splits=k)\n",
    "\n",
    "        mlb = MultiLabelBinarizer()\n",
    "\n",
    "        y_binary = mlb.fit_transform(self.y)\n",
    "\n",
    "        return cv.split(np.zeros(len(self.X)), y_binary)\n",
    "\n",
    "    def graph_train_test_split(self, test_ratio: float = 0.15, random_state: int = 42):\n",
    "        train_idx, test_idx = next(self.k_fold_split(k = 1, test_ratio = test_ratio, random_state = random_state))\n",
    "        \n",
    "        X_train = [self.X[i] for i in train_idx]\n",
    "        X_test = [self.X[i] for i in test_idx]\n",
    "\n",
    "        y_train = [self.y[i] for i in train_idx]\n",
    "        y_test = [self.y[i] for i in test_idx]\n",
    "\n",
    "        return StratifiedGraphDataset(X_train, y_train), StratifiedGraphDataset(X_test, y_test)\n",
    "    \n",
    "    def print_class_distribution_and_weights(self):\n",
    "        # Use the label encoder to inverse transform the class labels\n",
    "        class_counts_named = {cls: count for cls, count in self.class_counts.items()}\n",
    "        class_weights_named = {cls: weight for cls, weight in enumerate(self.class_weights)}\n",
    "        print(\"Class Counts and Weights:\")\n",
    "        for cls_label in class_counts_named.keys():\n",
    "            if not eval:\n",
    "                count = class_counts_named[cls_label]\n",
    "                weight = class_weights_named[cls_label]\n",
    "                print(f\"{cls_label:<2}  {le.inverse_transform([cls_label])[0]:<15}: Count = {count:<10}, Weight = {weight:<10.4f}\")\n",
    "            else:   \n",
    "                count = class_counts_named[cls_label]\n",
    "                print(f\"{cls_label:<2}  {le.inverse_transform([cls_label])[0]:<15}: Count = {count:<10}\")\n",
    "    def __len__(self):\n",
    "        return self.total_count\n",
    "\n",
    "    def __iter__(self):\n",
    "        for g in self.X:\n",
    "            yield g\n",
    "            \n",
    "    def __getitem__(self, idx):\n",
    "        if isinstance(idx, int):\n",
    "            return self.X[idx], self.y[idx]\n",
    "        elif isinstance(idx, slice):\n",
    "            return [self.X[i] for i in range(len(self.X))][idx], [self.y[i] for i in range(len(self.y))][idx]\n",
    "        else:\n",
    "            raise TypeError(\"Index must be an integer or a slice.\")"
   ]
  },
  {
   "cell_type": "code",
   "execution_count": 14,
   "id": "8988bb4f",
   "metadata": {},
   "outputs": [],
   "source": [
    "if FIRST_RUN:\n",
    "    def generate_graph_datasets(\n",
    "        df: pd.DataFrame, \n",
    "        window_size: int = WINDOW_SIZE, \n",
    "        feature_cols=feature_cols,\n",
    "        ordering_cols= TIME_COLS, \n",
    "        label_col=label_col,\n",
    "        build_graph_func=create_graph,\n",
    "        ):\n",
    "\n",
    "        print(\"All Columns: \", df.columns)\n",
    "        print(\"Ordering Columns: \", ordering_cols)\n",
    "        assert all(col in df.columns for col in ordering_cols), \"All timestamp columns are required\"\n",
    "        assert label_col in df.columns, \"Edge label column 'label' is required\"\n",
    "        \n",
    "        df = df.sort_values(ordering_cols).reset_index(drop=True)\n",
    "        window_size = int(window_size)\n",
    "        \n",
    "        df.drop(columns=set(df.columns) - set(feature_cols) - set(label_col))\n",
    "\n",
    "        print(\"Final Columns: \", df.columns)\n",
    "        \n",
    "        label_counts_list = []\n",
    "        X = []\n",
    "        y = []\n",
    "\n",
    "        progress_bar = tqdm(range(0, len(df), window_size), desc=f\"Generating graphs\")\n",
    "        for start in progress_bar:\n",
    "            window_df = df[start: min(start + window_size, len(df))]\n",
    "            contains_label = window_df[label_col].unique()\n",
    "\n",
    "            G_pyg = build_graph_func(window_df)\n",
    "\n",
    "            label_counts = window_df[label_col].value_counts()\n",
    "\n",
    "            label_counts_list.append(label_counts)\n",
    "            X.append(G_pyg)\n",
    "            y.append(contains_label.tolist())\n",
    "\n",
    "        return StratifiedGraphDataset(X, y)"
   ]
  },
  {
   "cell_type": "code",
   "execution_count": 15,
   "id": "491e7421",
   "metadata": {},
   "outputs": [
    {
     "name": "stdout",
     "output_type": "stream",
     "text": [
      "All Columns:  Index(['Flow ID', 'Source IP', 'Source Port', 'Destination IP',\n",
      "       'Destination Port', 'Timestamp', 'Flow Duration',\n",
      "       'Total Length of Fwd Packets', 'Fwd Packet Length Mean',\n",
      "       'Fwd Packet Length Std', 'Bwd Packet Length Min',\n",
      "       'Bwd Packet Length Std', 'Flow Packets/s', 'Flow IAT Mean',\n",
      "       'Flow IAT Std', 'Flow IAT Min', 'Fwd IAT Min', 'Bwd IAT Mean',\n",
      "       'Fwd PSH Flags', 'SYN Flag Count', 'PSH Flag Count', 'ACK Flag Count',\n",
      "       'Average Packet Size', 'Fwd Header Length.1', 'Subflow Fwd Packets',\n",
      "       'Subflow Fwd Bytes', 'Subflow Bwd Bytes', 'Init_Win_bytes_forward',\n",
      "       'Active Mean', 'Active Min', 'Label', 'source_file_id', 'Protocol_0',\n",
      "       'Protocol_6', 'Protocol_17', 'h'],\n",
      "      dtype='object')\n",
      "Ordering Columns:  ['Timestamp']\n",
      "Final Columns:  Index(['Flow ID', 'Source IP', 'Source Port', 'Destination IP',\n",
      "       'Destination Port', 'Timestamp', 'Flow Duration',\n",
      "       'Total Length of Fwd Packets', 'Fwd Packet Length Mean',\n",
      "       'Fwd Packet Length Std', 'Bwd Packet Length Min',\n",
      "       'Bwd Packet Length Std', 'Flow Packets/s', 'Flow IAT Mean',\n",
      "       'Flow IAT Std', 'Flow IAT Min', 'Fwd IAT Min', 'Bwd IAT Mean',\n",
      "       'Fwd PSH Flags', 'SYN Flag Count', 'PSH Flag Count', 'ACK Flag Count',\n",
      "       'Average Packet Size', 'Fwd Header Length.1', 'Subflow Fwd Packets',\n",
      "       'Subflow Fwd Bytes', 'Subflow Bwd Bytes', 'Init_Win_bytes_forward',\n",
      "       'Active Mean', 'Active Min', 'Label', 'source_file_id', 'Protocol_0',\n",
      "       'Protocol_6', 'Protocol_17', 'h'],\n",
      "      dtype='object')\n"
     ]
    },
    {
     "name": "stderr",
     "output_type": "stream",
     "text": [
      "Generating graphs: 100%|██████████| 944/944 [01:24<00:00, 11.22it/s]\n"
     ]
    }
   ],
   "source": [
    "test_graph_dataset_path = os.path.join(save_path, \"test_graph_dataset.pth\")\n",
    "if FIRST_RUN:\n",
    "    graph_dataset = generate_graph_datasets(data)\n",
    "    full_train_graph_dataset, test_graph_dataset = graph_dataset.graph_train_test_split(test_ratio=0.15, random_state=42)\n",
    "    th.save(test_graph_dataset, test_graph_dataset_path)\n",
    "\n",
    "if LOAD_SAVED:\n",
    "    # Save or Load test_graph_dataset\n",
    "    if os.path.exists(test_graph_dataset_path):  \n",
    "        test_graph_dataset = th.load(test_graph_dataset_path, weights_only=False)\n",
    "    else:       \n",
    "        raise FileNotFoundError(f\"File {test_graph_dataset_path} does not exist. Please run the code to generate the dataset first.\")\n",
    "    "
   ]
  },
  {
   "cell_type": "code",
   "execution_count": 16,
   "id": "365fd330",
   "metadata": {},
   "outputs": [
    {
     "name": "stdout",
     "output_type": "stream",
     "text": [
      "Class Distrubution: Label\n",
      "0     2273097\n",
      "4      231073\n",
      "10     158930\n",
      "2      128027\n",
      "3       10293\n",
      "7        7938\n",
      "11       5897\n",
      "6        5796\n",
      "5        5499\n",
      "1        1966\n",
      "12       1507\n",
      "14        652\n",
      "9          36\n",
      "13         21\n",
      "8          11\n",
      "Name: count, dtype: int64\n",
      "Number of graphs after downsampling: 944\n",
      "Class Counts and Weights:\n",
      "0   BENIGN         : Count = 2273097   \n",
      "7   FTP-Patator    : Count = 7938      \n",
      "11  SSH-Patator    : Count = 5897      \n",
      "6   DoS slowloris  : Count = 5796      \n",
      "5   DoS Slowhttptest: Count = 5499      \n",
      "4   DoS Hulk       : Count = 231073    \n",
      "3   DoS GoldenEye  : Count = 10293     \n",
      "8   Heartbleed     : Count = 11        \n",
      "12  Web Attack - Brute Force: Count = 1507      \n",
      "14  Web Attack - XSS: Count = 652       \n",
      "13  Web Attack - Sql Injection: Count = 21        \n",
      "9   Infiltration   : Count = 36        \n",
      "1   Bot            : Count = 1966      \n",
      "10  PortScan       : Count = 158930    \n",
      "2   DDoS           : Count = 128027    \n",
      "Number of training graphs: 802\n",
      "Class Counts and Weights:\n",
      "0   BENIGN         : Count = 1931885   \n",
      "7   FTP-Patator    : Count = 6808      \n",
      "11  SSH-Patator    : Count = 5058      \n",
      "6   DoS slowloris  : Count = 4987      \n",
      "5   DoS Slowhttptest: Count = 4670      \n",
      "4   DoS Hulk       : Count = 195203    \n",
      "3   DoS GoldenEye  : Count = 8789      \n",
      "8   Heartbleed     : Count = 10        \n",
      "14  Web Attack - XSS: Count = 526       \n",
      "13  Web Attack - Sql Injection: Count = 21        \n",
      "9   Infiltration   : Count = 30        \n",
      "12  Web Attack - Brute Force: Count = 1344      \n",
      "1   Bot            : Count = 1522      \n",
      "10  PortScan       : Count = 133894    \n",
      "2   DDoS           : Count = 109996    \n",
      "Number of testing graphs: 142\n",
      "Class Counts and Weights:\n",
      "0   BENIGN         : Count = 341212    \n",
      "7   FTP-Patator    : Count = 1130      \n",
      "11  SSH-Patator    : Count = 839       \n",
      "5   DoS Slowhttptest: Count = 829       \n",
      "4   DoS Hulk       : Count = 35870     \n",
      "3   DoS GoldenEye  : Count = 1504      \n",
      "8   Heartbleed     : Count = 1         \n",
      "6   DoS slowloris  : Count = 809       \n",
      "12  Web Attack - Brute Force: Count = 163       \n",
      "14  Web Attack - XSS: Count = 126       \n",
      "9   Infiltration   : Count = 6         \n",
      "1   Bot            : Count = 444       \n",
      "10  PortScan       : Count = 25036     \n",
      "2   DDoS           : Count = 18031     \n"
     ]
    }
   ],
   "source": [
    "if FIRST_RUN:\n",
    "    print(\"Class Distrubution:\", data[label_col].value_counts())\n",
    "\n",
    "    print(\"Number of graphs after downsampling:\", len(graph_dataset))\n",
    "    graph_dataset.print_class_distribution_and_weights()\n",
    "\n",
    "    print(\"Number of training graphs:\", len(full_train_graph_dataset))\n",
    "    full_train_graph_dataset.print_class_distribution_and_weights()\n",
    "\n",
    "    print(\"Number of testing graphs:\", len(test_graph_dataset))\n",
    "    test_graph_dataset.print_class_distribution_and_weights()"
   ]
  },
  {
   "cell_type": "code",
   "execution_count": 17,
   "id": "41795339-6036-468f-9b9d-2bb68d78ed7d",
   "metadata": {},
   "outputs": [],
   "source": [
    "class SAGELayerPyG(MessagePassing):\n",
    "    def __init__(self, in_channels, edge_dim, out_channels, activation=F.relu):\n",
    "        super().__init__(aggr='mean')  # mean aggregation\n",
    "        self.W_msg = nn.Linear(in_channels + edge_dim, out_channels)\n",
    "        self.W_apply = nn.Linear(in_channels + out_channels, out_channels)\n",
    "        self.activation = activation\n",
    "\n",
    "    def forward(self, x, edge_index, edge_attr):\n",
    "        # x: [num_nodes, in_channels]\n",
    "        # edge_attr: [num_edges, edge_dim]\n",
    "        return self.propagate(edge_index, x=x, edge_attr=edge_attr)\n",
    "\n",
    "    def message(self, x_j, edge_attr):\n",
    "        # x_j: features of source nodes (neighbours)\n",
    "        msg_input = th.cat([x_j, edge_attr], dim=1)\n",
    "        return self.W_msg(msg_input)\n",
    "\n",
    "    def update(self, aggr_out, x):\n",
    "        # aggr_out: [num_nodes, out_channels]\n",
    "        combined = th.cat([x, aggr_out], dim=1)\n",
    "        out = self.W_apply(combined)\n",
    "        return self.activation(out)\n",
    "    \n",
    "class MLPPredictor(nn.Module):\n",
    "    def __init__(self, in_channels, out_channels):\n",
    "        super(MLPPredictor, self).__init__()\n",
    "        self.lin = nn.Linear(in_channels * 2, out_channels)\n",
    "\n",
    "    def forward(self, data, z):\n",
    "        row, col = data.edge_index\n",
    "        # Concatenate the features of source and target nodes for each edge\n",
    "        edge_feat = th.cat([z[row], z[col]], dim=1)\n",
    "        return self.lin(edge_feat)\n",
    "\n",
    "class EGraphSAGE(nn.Module):\n",
    "    def __init__(self, node_in_channels, edge_in_channels, hidden_channels, out_channels, dropout=0.2):\n",
    "        super(EGraphSAGE, self).__init__()\n",
    "        self.dropout = dropout\n",
    "        self.conv1 = SAGELayerPyG(node_in_channels, edge_in_channels, hidden_channels)\n",
    "        self.conv2 = SAGELayerPyG(hidden_channels, edge_in_channels, hidden_channels)\n",
    "        self.mlp_predictor = MLPPredictor(hidden_channels, out_channels)\n",
    "\n",
    "    def forward(self, data):\n",
    "        x, edge_index, edge_attr = data.x, data.edge_index, data.edge_attr\n",
    "        x = F.relu(self.conv1(x, edge_index, edge_attr))\n",
    "        x = F.dropout(x, p=self.dropout, training=self.training)\n",
    "        x = self.conv2(x, edge_index, edge_attr)\n",
    "        return self.mlp_predictor(data, x)"
   ]
  },
  {
   "cell_type": "code",
   "execution_count": 18,
   "id": "bca25fef-29d9-40cf-8910-16b24d530693",
   "metadata": {},
   "outputs": [
    {
     "name": "stdout",
     "output_type": "stream",
     "text": [
      "cuda:0\n"
     ]
    }
   ],
   "source": [
    "device = th.device(\"cuda:0\" if th.cuda.is_available() else \"cpu\")\n",
    "print(device)"
   ]
  },
  {
   "cell_type": "code",
   "execution_count": 19,
   "id": "cccdc850-b98d-4836-b82b-67aa4b9e1e02",
   "metadata": {},
   "outputs": [],
   "source": [
    "th.cuda.empty_cache()"
   ]
  },
  {
   "cell_type": "code",
   "execution_count": 20,
   "id": "89157faf-e24b-49d6-9c90-6f71dae515b2",
   "metadata": {},
   "outputs": [],
   "source": [
    "def init_weights(m):\n",
    "    if isinstance(m, nn.Linear):\n",
    "        nn.init.xavier_uniform_(m.weight)\n",
    "        nn.init.constant_(m.bias, 0)"
   ]
  },
  {
   "cell_type": "code",
   "execution_count": 21,
   "id": "385d37f0-713b-4abc-8d7a-3e768ae9a2b2",
   "metadata": {},
   "outputs": [],
   "source": [
    "from sklearn.metrics import f1_score\n",
    "\n",
    "def compute_accuracy(pred, labels):\n",
    "    return (pred.argmax(1) == labels).float().mean().item()\n"
   ]
  },
  {
   "cell_type": "code",
   "execution_count": 22,
   "id": "a00a2b77",
   "metadata": {},
   "outputs": [],
   "source": [
    "if FIRST_RUN:\n",
    "    def grid_search(graph_dataset, patience, max_epochs, learning_rates, hidden_dims, drop_outs, folds=3):\n",
    "        global num_features\n",
    "        \n",
    "        best_params = {}\n",
    "        best_f1 = 0\n",
    "        params_results = {}\n",
    "\n",
    "        # Precompute the train and validation graphs for all folds\n",
    "        folds_list = []\n",
    "        for i in range(folds):\n",
    "            train_graph_dataset, val_graph_dataset = graph_dataset.graph_train_test_split(test_ratio=0.15, random_state=i)\n",
    "            folds_list.append((train_graph_dataset, val_graph_dataset))\n",
    "\n",
    "        for lr in learning_rates:\n",
    "            for hidden_dim in hidden_dims:\n",
    "                for drop_out in drop_outs:\n",
    "                    print(f\"Testing with learning rate: {lr}, hidden_dim: {hidden_dim}, drop_out: {drop_out}\")\n",
    "                    fold_f1_scores = []\n",
    "\n",
    "                    for fold, (train_graph_dataset, val_graph_dataset) in enumerate(folds_list):\n",
    "                        print(f\"Fold {fold + 1}\")\n",
    "\n",
    "                        model = EGraphSAGE(node_in_channels=num_features,\n",
    "                                        edge_in_channels=num_features,\n",
    "                                        hidden_channels=hidden_dim,\n",
    "                                        dropout = drop_out,\n",
    "                                        out_channels=num_classes).to(device)\n",
    "\n",
    "                        model.apply(init_weights)\n",
    "\n",
    "                        # Normalize to stabilize training\n",
    "                        class_weights = th.FloatTensor(train_graph_dataset.class_weights).to(device)\n",
    "                        print(\"Class weights:\", class_weights)\n",
    "\n",
    "                        criterion = nn.CrossEntropyLoss(weight=class_weights)\n",
    "                        optimizer = th.optim.Adam(model.parameters(), lr=lr)\n",
    "                        scheduler = th.optim.lr_scheduler.ReduceLROnPlateau(\n",
    "                            optimizer,\n",
    "                            mode='min',\n",
    "                            factor=0.6,\n",
    "                            patience=5,\n",
    "                            min_lr=1e-6,\n",
    "                        )\n",
    "\n",
    "                        best_epoch_f1 = 0  # Track the best F1 score for this fold\n",
    "                        best_val_loss = float('inf')  # Track the best val_loss for this fold\n",
    "                        patience_counter = 0\n",
    "\n",
    "                        for epoch in range(max_epochs):\n",
    "                            try:\n",
    "                                train_loss = 0\n",
    "                                val_loss = 0\n",
    "                                num_train_graphs = len(train_graph_dataset)\n",
    "                                num_val_graphs = len(val_graph_dataset)\n",
    "\n",
    "                                model.train()\n",
    "                                optimizer.zero_grad()\n",
    "                                for G_pyg_train in tqdm(train_graph_dataset, desc=\"Training\", leave=False):\n",
    "\n",
    "                                    G_pyg_train = G_pyg_train.to(device)\n",
    "                                    G_pyg_train.edge_label = G_pyg_train.edge_label.to(device)\n",
    "                                    G_pyg_train.edge_attr = G_pyg_train.edge_attr.to(device)\n",
    "                                    \n",
    "                                    out = model(G_pyg_train)\n",
    "                                    loss = criterion(out, G_pyg_train.edge_label) / num_train_graphs\n",
    "                                    train_loss += loss.item()\n",
    "\n",
    "                                    loss.backward()\n",
    "\n",
    "                                optimizer.step()\n",
    "                                \n",
    "\n",
    "                                test_label_list = []\n",
    "                                pred_label_list = []\n",
    "\n",
    "                                model.eval()\n",
    "                                with th.no_grad():\n",
    "                                    for G_pyg_val in tqdm(val_graph_dataset, desc=\"Validation\", leave=False):\n",
    "\n",
    "                                        G_pyg_val = G_pyg_val.to(device)\n",
    "                                        G_pyg_val.edge_label = G_pyg_val.edge_label.to(device)\n",
    "                                        G_pyg_val.edge_attr = G_pyg_val.edge_attr.to(device)\n",
    "\n",
    "                                        out = model(G_pyg_val)\n",
    "                                        loss = criterion(out, G_pyg_val.edge_label) / num_val_graphs\n",
    "                                        val_loss += loss.item()\n",
    "\n",
    "                                        test_label_list.append(G_pyg_val.edge_label.cpu())\n",
    "                                        pred_label_list.append(out.argmax(dim=1).cpu())\n",
    "\n",
    "                                test_label = th.cat(test_label_list)\n",
    "                                pred_label = th.cat(pred_label_list)\n",
    "\n",
    "                                val_f1 = f1_score(test_label, pred_label, average='weighted')\n",
    "                                val_f1_micro = f1_score(test_label, pred_label, average='micro')\n",
    "                                val_f1_macro = f1_score(test_label, pred_label, average='macro')\n",
    "\n",
    "                                # Schedule step\n",
    "                                scheduler.step(val_loss)\n",
    "\n",
    "                                if val_f1 > best_epoch_f1:\n",
    "                                    best_epoch_f1 = val_f1\n",
    "                                    print(f\"Epoch {epoch}/{max_epochs}, Train Loss: {train_loss:.4f}, Val Loss: {val_loss:.4f}, \"\n",
    "                                    f\"Val F1 (weighted): {val_f1:.4f}, Micro: {val_f1_micro:.4f}, Macro: {val_f1_macro:.4f} \"\n",
    "                                    f\"(Best Weighted F1 so far: {best_epoch_f1:.4f})\")\n",
    "\n",
    "                                # Early stopping condition\n",
    "                                if val_loss < best_val_loss:\n",
    "                                    best_val_loss = val_loss\n",
    "                                    patience_counter = 0\n",
    "                                else:\n",
    "                                    patience_counter += 1\n",
    "\n",
    "                                if patience_counter >= patience:\n",
    "                                    print(f\"\\n🛑 Early stopping triggered at epoch {epoch}.\")\n",
    "                                    break\n",
    "\n",
    "                            except Exception as e:\n",
    "                                print(f\"An error occurred at epoch {epoch}: {str(e)}\")\n",
    "                                break\n",
    "\n",
    "                        fold_f1_scores.append(best_epoch_f1)  # Append the best F1 score for this fold\n",
    "                    \n",
    "                    avg_f1 = sum(fold_f1_scores) / len(fold_f1_scores)\n",
    "                    params_results[(drop_out, lr, hidden_dim)] = {'folds': fold_f1_scores, 'avg_f1': avg_f1}\n",
    "                    print(f\"Average F1 Score for drop_out {drop_out}, learning rate {lr}, hidden_dim {hidden_dim}: {avg_f1:.4f}\")\n",
    "\n",
    "                    if avg_f1 > best_f1:\n",
    "                        best_f1 = avg_f1\n",
    "                        best_params = {'learning_rate': lr, 'hidden_dim': hidden_dim, 'drop_out': drop_out}\n",
    "\n",
    "        print(f\"Best Parameters: {best_params}, Best F1 Score: {best_f1:.4f}\")\n",
    "        print(\"All results:\", params_results)\n",
    "\n",
    "    # grid_search(\n",
    "    #     full_train_graph_dataset, \n",
    "    #     patience=10,\n",
    "    #     max_epochs=200,\n",
    "    #     learning_rates=[0.001, 0.005, 0.01, 0.05], \n",
    "    #     hidden_dims=[128, 256, 512], \n",
    "    #     drop_outs=[0.2, 0.3, 0.4],\n",
    "    #     folds=3)\n"
   ]
  },
  {
   "cell_type": "code",
   "execution_count": 23,
   "id": "b158d936",
   "metadata": {},
   "outputs": [],
   "source": [
    "if FIRST_RUN:\n",
    "    train_graph_dataset, val_graph_dataset = full_train_graph_dataset.graph_train_test_split(test_ratio=0.15, random_state=42)"
   ]
  },
  {
   "cell_type": "code",
   "execution_count": 24,
   "id": "c6ec4a82",
   "metadata": {},
   "outputs": [],
   "source": [
    "def save_checkpoint():\n",
    "    global epoch, model, optimizer, scheduler, train_loss_history, val_loss_history, val_f1_history, saved_model_epochs, best_f1, patience_counter, best_val_loss, train_ended, max_epochs, patience\n",
    "    \n",
    "    checkpoint = {\n",
    "        'epoch': epoch,\n",
    "        'model_state_dict': model.state_dict(),\n",
    "        'optimizer_state_dict': optimizer.state_dict(),\n",
    "        'scheduler_state_dict': scheduler.state_dict(),\n",
    "        'train_loss_history': train_loss_history,\n",
    "        'val_loss_history': val_loss_history,\n",
    "        'val_f1_history': val_f1_history,\n",
    "        'saved_model_epochs': saved_model_epochs,\n",
    "        'best_f1': best_f1,\n",
    "        # 'patience_counter': patience_counter,\n",
    "        # 'best_val_loss': best_val_loss,\n",
    "        'train_ended': train_ended,\n",
    "        'max_epochs': max_epochs,\n",
    "        # 'patience': patience\n",
    "    }\n",
    "    \n",
    "    th.save(checkpoint, checkpoint_path)"
   ]
  },
  {
   "cell_type": "code",
   "execution_count": 25,
   "id": "f52b2fbf",
   "metadata": {},
   "outputs": [
    {
     "name": "stdout",
     "output_type": "stream",
     "text": [
      "Number of train graphs:  681\n",
      "Class weights: tensor([8.3160e-02, 1.0676e+02, 1.4417e+00, 1.9953e+01, 8.0749e-01, 2.9533e+01,\n",
      "        3.0322e+01, 2.3701e+01, 1.5124e+04, 5.0413e+03, 1.2021e+00, 3.2595e+01,\n",
      "        1.1878e+02, 6.4817e+03, 3.3609e+02], device='cuda:0')\n"
     ]
    },
    {
     "name": "stderr",
     "output_type": "stream",
     "text": [
      "                                                              \r"
     ]
    },
    {
     "name": "stdout",
     "output_type": "stream",
     "text": [
      "Epoch 0 Saved best model. Best F1: 0.7289679701799863\n",
      "Epoch 0, Train Loss: 2.7412, Validation Loss: 13.9367, Validation F1: 0.7290, Validation F1 Micro: 0.8129, Validation F1 Macro: 0.0641\n"
     ]
    },
    {
     "name": "stderr",
     "output_type": "stream",
     "text": [
      "                                                             \r"
     ]
    },
    {
     "name": "stdout",
     "output_type": "stream",
     "text": [
      "Epoch 1, Train Loss: 13.4880, Validation Loss: 4.5018, Validation F1: 0.0101, Validation F1 Micro: 0.0734, Validation F1 Macro: 0.0100\n"
     ]
    },
    {
     "name": "stderr",
     "output_type": "stream",
     "text": [
      "                                                             \r"
     ]
    },
    {
     "name": "stdout",
     "output_type": "stream",
     "text": [
      "Epoch 2, Train Loss: 4.3365, Validation Loss: 2.1019, Validation F1: 0.0778, Validation F1 Micro: 0.1378, Validation F1 Macro: 0.0836\n"
     ]
    },
    {
     "name": "stderr",
     "output_type": "stream",
     "text": [
      "                                                             \r"
     ]
    },
    {
     "name": "stdout",
     "output_type": "stream",
     "text": [
      "Epoch 3, Train Loss: 2.1488, Validation Loss: 2.0179, Validation F1: 0.7174, Validation F1 Micro: 0.7108, Validation F1 Macro: 0.0860\n"
     ]
    },
    {
     "name": "stderr",
     "output_type": "stream",
     "text": [
      "                                                             \r"
     ]
    },
    {
     "name": "stdout",
     "output_type": "stream",
     "text": [
      "Epoch 4 Saved best model. Best F1: 0.838265578483065\n",
      "Epoch 4, Train Loss: 2.1003, Validation Loss: 1.1154, Validation F1: 0.8383, Validation F1 Micro: 0.8656, Validation F1 Macro: 0.2198\n"
     ]
    },
    {
     "name": "stderr",
     "output_type": "stream",
     "text": [
      "                                                             \r"
     ]
    },
    {
     "name": "stdout",
     "output_type": "stream",
     "text": [
      "Epoch 5, Train Loss: 1.2082, Validation Loss: 1.0846, Validation F1: 0.8349, Validation F1 Micro: 0.8689, Validation F1 Macro: 0.2238\n"
     ]
    },
    {
     "name": "stderr",
     "output_type": "stream",
     "text": [
      "                                                             \r"
     ]
    },
    {
     "name": "stdout",
     "output_type": "stream",
     "text": [
      "Epoch 6, Train Loss: 1.1691, Validation Loss: 1.1042, Validation F1: 0.7642, Validation F1 Micro: 0.6949, Validation F1 Macro: 0.2659\n"
     ]
    },
    {
     "name": "stderr",
     "output_type": "stream",
     "text": [
      "                                                             \r"
     ]
    },
    {
     "name": "stdout",
     "output_type": "stream",
     "text": [
      "Epoch 7 Saved best model. Best F1: 0.8631070887377484\n",
      "Epoch 7, Train Loss: 1.1459, Validation Loss: 0.8266, Validation F1: 0.8631, Validation F1 Micro: 0.8922, Validation F1 Macro: 0.3104\n"
     ]
    },
    {
     "name": "stderr",
     "output_type": "stream",
     "text": [
      "                                                             \r"
     ]
    },
    {
     "name": "stdout",
     "output_type": "stream",
     "text": [
      "Epoch 8 Saved best model. Best F1: 0.8765768552077458\n",
      "Epoch 8, Train Loss: 0.8535, Validation Loss: 0.8163, Validation F1: 0.8766, Validation F1 Micro: 0.8874, Validation F1 Macro: 0.2693\n"
     ]
    },
    {
     "name": "stderr",
     "output_type": "stream",
     "text": [
      "                                                             \r"
     ]
    },
    {
     "name": "stdout",
     "output_type": "stream",
     "text": [
      "Epoch 9 Saved best model. Best F1: 0.924830606303942\n",
      "Epoch 9, Train Loss: 0.7677, Validation Loss: 0.6657, Validation F1: 0.9248, Validation F1 Micro: 0.9284, Validation F1 Macro: 0.3237\n"
     ]
    },
    {
     "name": "stderr",
     "output_type": "stream",
     "text": [
      "                                                             \r"
     ]
    },
    {
     "name": "stdout",
     "output_type": "stream",
     "text": [
      "Epoch 10 Saved best model. Best F1: 0.959188969941389\n",
      "Epoch 10, Train Loss: 0.6384, Validation Loss: 0.5604, Validation F1: 0.9592, Validation F1 Micro: 0.9572, Validation F1 Macro: 0.4342\n"
     ]
    },
    {
     "name": "stderr",
     "output_type": "stream",
     "text": [
      "                                                             \r"
     ]
    },
    {
     "name": "stdout",
     "output_type": "stream",
     "text": [
      "Epoch 11, Train Loss: 0.5709, Validation Loss: 0.5141, Validation F1: 0.9541, Validation F1 Micro: 0.9498, Validation F1 Macro: 0.4211\n"
     ]
    },
    {
     "name": "stderr",
     "output_type": "stream",
     "text": [
      "                                                             \r"
     ]
    },
    {
     "name": "stdout",
     "output_type": "stream",
     "text": [
      "Epoch 12, Train Loss: 0.8553, Validation Loss: 0.4756, Validation F1: 0.9534, Validation F1 Micro: 0.9503, Validation F1 Macro: 0.3742\n"
     ]
    },
    {
     "name": "stderr",
     "output_type": "stream",
     "text": [
      "                                                             \r"
     ]
    },
    {
     "name": "stdout",
     "output_type": "stream",
     "text": [
      "Epoch 13, Train Loss: 0.4557, Validation Loss: 0.4652, Validation F1: 0.9499, Validation F1 Micro: 0.9451, Validation F1 Macro: 0.2949\n"
     ]
    },
    {
     "name": "stderr",
     "output_type": "stream",
     "text": [
      "                                                             \r"
     ]
    },
    {
     "name": "stdout",
     "output_type": "stream",
     "text": [
      "Epoch 14, Train Loss: 0.4409, Validation Loss: 0.4248, Validation F1: 0.9583, Validation F1 Micro: 0.9538, Validation F1 Macro: 0.3737\n"
     ]
    },
    {
     "name": "stderr",
     "output_type": "stream",
     "text": [
      "                                                             \r"
     ]
    },
    {
     "name": "stdout",
     "output_type": "stream",
     "text": [
      "Epoch 15 Saved best model. Best F1: 0.965060429666794\n",
      "Epoch 15, Train Loss: 0.4045, Validation Loss: 0.3802, Validation F1: 0.9651, Validation F1 Micro: 0.9589, Validation F1 Macro: 0.3969\n"
     ]
    },
    {
     "name": "stderr",
     "output_type": "stream",
     "text": [
      "                                                             \r"
     ]
    },
    {
     "name": "stdout",
     "output_type": "stream",
     "text": [
      "Epoch 16, Train Loss: 0.3721, Validation Loss: 0.3319, Validation F1: 0.9622, Validation F1 Micro: 0.9531, Validation F1 Macro: 0.4658\n"
     ]
    },
    {
     "name": "stderr",
     "output_type": "stream",
     "text": [
      "                                                             \r"
     ]
    },
    {
     "name": "stdout",
     "output_type": "stream",
     "text": [
      "Epoch 17, Train Loss: 0.3332, Validation Loss: 0.3050, Validation F1: 0.9595, Validation F1 Micro: 0.9476, Validation F1 Macro: 0.4902\n"
     ]
    },
    {
     "name": "stderr",
     "output_type": "stream",
     "text": [
      "                                                             \r"
     ]
    },
    {
     "name": "stdout",
     "output_type": "stream",
     "text": [
      "Epoch 18 Saved best model. Best F1: 0.965613291484473\n",
      "Epoch 18, Train Loss: 0.3059, Validation Loss: 0.3109, Validation F1: 0.9656, Validation F1 Micro: 0.9607, Validation F1 Macro: 0.4529\n"
     ]
    },
    {
     "name": "stderr",
     "output_type": "stream",
     "text": [
      "                                                             \r"
     ]
    },
    {
     "name": "stdout",
     "output_type": "stream",
     "text": [
      "Epoch 19, Train Loss: 0.3348, Validation Loss: 0.6081, Validation F1: 0.8565, Validation F1 Micro: 0.7914, Validation F1 Macro: 0.3918\n"
     ]
    },
    {
     "name": "stderr",
     "output_type": "stream",
     "text": [
      "                                                             \r"
     ]
    },
    {
     "name": "stdout",
     "output_type": "stream",
     "text": [
      "Epoch 20, Train Loss: 0.5893, Validation Loss: 0.2973, Validation F1: 0.9620, Validation F1 Micro: 0.9487, Validation F1 Macro: 0.5166\n"
     ]
    },
    {
     "name": "stderr",
     "output_type": "stream",
     "text": [
      "                                                             \r"
     ]
    },
    {
     "name": "stdout",
     "output_type": "stream",
     "text": [
      "Epoch 21, Train Loss: 0.2958, Validation Loss: 0.4440, Validation F1: 0.9310, Validation F1 Micro: 0.9363, Validation F1 Macro: 0.5026\n"
     ]
    },
    {
     "name": "stderr",
     "output_type": "stream",
     "text": [
      "                                                             \r"
     ]
    },
    {
     "name": "stdout",
     "output_type": "stream",
     "text": [
      "Epoch 22, Train Loss: 0.4353, Validation Loss: 0.2840, Validation F1: 0.9604, Validation F1 Micro: 0.9557, Validation F1 Macro: 0.5548\n"
     ]
    },
    {
     "name": "stderr",
     "output_type": "stream",
     "text": [
      "                                                             \r"
     ]
    },
    {
     "name": "stdout",
     "output_type": "stream",
     "text": [
      "Epoch 23, Train Loss: 0.2761, Validation Loss: 0.3250, Validation F1: 0.9402, Validation F1 Micro: 0.9326, Validation F1 Macro: 0.3932\n"
     ]
    },
    {
     "name": "stderr",
     "output_type": "stream",
     "text": [
      "                                                             \r"
     ]
    },
    {
     "name": "stdout",
     "output_type": "stream",
     "text": [
      "Epoch 24, Train Loss: 0.3069, Validation Loss: 0.3059, Validation F1: 0.9466, Validation F1 Micro: 0.9397, Validation F1 Macro: 0.3647\n"
     ]
    },
    {
     "name": "stderr",
     "output_type": "stream",
     "text": [
      "                                                             \r"
     ]
    },
    {
     "name": "stdout",
     "output_type": "stream",
     "text": [
      "Epoch 25 Saved best model. Best F1: 0.9688039112925756\n",
      "Epoch 25, Train Loss: 0.2958, Validation Loss: 0.2826, Validation F1: 0.9688, Validation F1 Micro: 0.9625, Validation F1 Macro: 0.4647\n"
     ]
    },
    {
     "name": "stderr",
     "output_type": "stream",
     "text": [
      "                                                             \r"
     ]
    },
    {
     "name": "stdout",
     "output_type": "stream",
     "text": [
      "Epoch 26 Saved best model. Best F1: 0.9720936928761401\n",
      "Epoch 26, Train Loss: 0.2595, Validation Loss: 0.3050, Validation F1: 0.9721, Validation F1 Micro: 0.9676, Validation F1 Macro: 0.4504\n"
     ]
    },
    {
     "name": "stderr",
     "output_type": "stream",
     "text": [
      "                                                             \r"
     ]
    },
    {
     "name": "stdout",
     "output_type": "stream",
     "text": [
      "Epoch 27, Train Loss: 0.2895, Validation Loss: 0.2555, Validation F1: 0.9588, Validation F1 Micro: 0.9415, Validation F1 Macro: 0.4364\n"
     ]
    },
    {
     "name": "stderr",
     "output_type": "stream",
     "text": [
      "                                                             \r"
     ]
    },
    {
     "name": "stdout",
     "output_type": "stream",
     "text": [
      "Epoch 28, Train Loss: 0.2281, Validation Loss: 0.2342, Validation F1: 0.9591, Validation F1 Micro: 0.9502, Validation F1 Macro: 0.5197\n"
     ]
    },
    {
     "name": "stderr",
     "output_type": "stream",
     "text": [
      "                                                             \r"
     ]
    },
    {
     "name": "stdout",
     "output_type": "stream",
     "text": [
      "Epoch 29, Train Loss: 0.2251, Validation Loss: 0.2106, Validation F1: 0.9642, Validation F1 Micro: 0.9605, Validation F1 Macro: 0.5488\n"
     ]
    },
    {
     "name": "stderr",
     "output_type": "stream",
     "text": [
      "                                                             \r"
     ]
    },
    {
     "name": "stdout",
     "output_type": "stream",
     "text": [
      "Epoch 30 Saved best model. Best F1: 0.9750543549918084\n",
      "Epoch 30, Train Loss: 0.1976, Validation Loss: 0.1962, Validation F1: 0.9751, Validation F1 Micro: 0.9689, Validation F1 Macro: 0.5915\n"
     ]
    },
    {
     "name": "stderr",
     "output_type": "stream",
     "text": [
      "                                                             \r"
     ]
    },
    {
     "name": "stdout",
     "output_type": "stream",
     "text": [
      "Epoch 31 Saved best model. Best F1: 0.9779915150605147\n",
      "Epoch 31, Train Loss: 0.1816, Validation Loss: 0.1910, Validation F1: 0.9780, Validation F1 Micro: 0.9739, Validation F1 Macro: 0.5554\n"
     ]
    },
    {
     "name": "stderr",
     "output_type": "stream",
     "text": [
      "                                                             \r"
     ]
    },
    {
     "name": "stdout",
     "output_type": "stream",
     "text": [
      "Epoch 32, Train Loss: 0.1678, Validation Loss: 0.1822, Validation F1: 0.9745, Validation F1 Micro: 0.9676, Validation F1 Macro: 0.5335\n"
     ]
    },
    {
     "name": "stderr",
     "output_type": "stream",
     "text": [
      "                                                             \r"
     ]
    },
    {
     "name": "stdout",
     "output_type": "stream",
     "text": [
      "Epoch 33, Train Loss: 0.1494, Validation Loss: 0.1751, Validation F1: 0.9766, Validation F1 Micro: 0.9723, Validation F1 Macro: 0.5411\n"
     ]
    },
    {
     "name": "stderr",
     "output_type": "stream",
     "text": [
      "                                                             \r"
     ]
    },
    {
     "name": "stdout",
     "output_type": "stream",
     "text": [
      "Epoch 34, Train Loss: 0.1349, Validation Loss: 0.1702, Validation F1: 0.9717, Validation F1 Micro: 0.9646, Validation F1 Macro: 0.4984\n"
     ]
    },
    {
     "name": "stderr",
     "output_type": "stream",
     "text": [
      "                                                             \r"
     ]
    },
    {
     "name": "stdout",
     "output_type": "stream",
     "text": [
      "Epoch 35, Train Loss: 0.1292, Validation Loss: 0.1585, Validation F1: 0.9689, Validation F1 Micro: 0.9592, Validation F1 Macro: 0.4563\n"
     ]
    },
    {
     "name": "stderr",
     "output_type": "stream",
     "text": [
      "                                                             \r"
     ]
    },
    {
     "name": "stdout",
     "output_type": "stream",
     "text": [
      "Epoch 36 Saved best model. Best F1: 0.9803714484539104\n",
      "Epoch 36, Train Loss: 0.1214, Validation Loss: 0.1400, Validation F1: 0.9804, Validation F1 Micro: 0.9754, Validation F1 Macro: 0.5722\n"
     ]
    },
    {
     "name": "stderr",
     "output_type": "stream",
     "text": [
      "                                                             \r"
     ]
    },
    {
     "name": "stdout",
     "output_type": "stream",
     "text": [
      "Epoch 37, Train Loss: 0.1146, Validation Loss: 0.1338, Validation F1: 0.9714, Validation F1 Micro: 0.9672, Validation F1 Macro: 0.5746\n"
     ]
    },
    {
     "name": "stderr",
     "output_type": "stream",
     "text": [
      "                                                             \r"
     ]
    },
    {
     "name": "stdout",
     "output_type": "stream",
     "text": [
      "Epoch 38, Train Loss: 0.1043, Validation Loss: 0.1345, Validation F1: 0.9716, Validation F1 Micro: 0.9669, Validation F1 Macro: 0.5732\n"
     ]
    },
    {
     "name": "stderr",
     "output_type": "stream",
     "text": [
      "                                                             \r"
     ]
    },
    {
     "name": "stdout",
     "output_type": "stream",
     "text": [
      "Epoch 39, Train Loss: 0.0982, Validation Loss: 0.1355, Validation F1: 0.9718, Validation F1 Micro: 0.9674, Validation F1 Macro: 0.5759\n"
     ]
    },
    {
     "name": "stderr",
     "output_type": "stream",
     "text": [
      "                                                             \r"
     ]
    },
    {
     "name": "stdout",
     "output_type": "stream",
     "text": [
      "Epoch 40, Train Loss: 0.0946, Validation Loss: 0.1348, Validation F1: 0.9735, Validation F1 Micro: 0.9698, Validation F1 Macro: 0.5808\n"
     ]
    },
    {
     "name": "stderr",
     "output_type": "stream",
     "text": [
      "                                                             \r"
     ]
    },
    {
     "name": "stdout",
     "output_type": "stream",
     "text": [
      "Epoch 41, Train Loss: 0.1976, Validation Loss: 0.1271, Validation F1: 0.9741, Validation F1 Micro: 0.9710, Validation F1 Macro: 0.5751\n"
     ]
    },
    {
     "name": "stderr",
     "output_type": "stream",
     "text": [
      "                                                             \r"
     ]
    },
    {
     "name": "stdout",
     "output_type": "stream",
     "text": [
      "Epoch 42, Train Loss: 0.0830, Validation Loss: 0.1199, Validation F1: 0.9727, Validation F1 Micro: 0.9685, Validation F1 Macro: 0.5625\n"
     ]
    },
    {
     "name": "stderr",
     "output_type": "stream",
     "text": [
      "                                                             \r"
     ]
    },
    {
     "name": "stdout",
     "output_type": "stream",
     "text": [
      "Epoch 43 Saved best model. Best F1: 0.9820988506236039\n",
      "Epoch 43, Train Loss: 0.0901, Validation Loss: 0.1174, Validation F1: 0.9821, Validation F1 Micro: 0.9771, Validation F1 Macro: 0.5646\n"
     ]
    },
    {
     "name": "stderr",
     "output_type": "stream",
     "text": [
      "                                                             \r"
     ]
    },
    {
     "name": "stdout",
     "output_type": "stream",
     "text": [
      "Epoch 44 Saved best model. Best F1: 0.9827908452842484\n",
      "Epoch 44, Train Loss: 0.0868, Validation Loss: 0.1162, Validation F1: 0.9828, Validation F1 Micro: 0.9785, Validation F1 Macro: 0.5701\n"
     ]
    },
    {
     "name": "stderr",
     "output_type": "stream",
     "text": [
      "                                                             \r"
     ]
    },
    {
     "name": "stdout",
     "output_type": "stream",
     "text": [
      "Epoch 45 Saved best model. Best F1: 0.9842840247975576\n",
      "Epoch 45, Train Loss: 0.0828, Validation Loss: 0.1153, Validation F1: 0.9843, Validation F1 Micro: 0.9811, Validation F1 Macro: 0.5826\n"
     ]
    },
    {
     "name": "stderr",
     "output_type": "stream",
     "text": [
      "                                                             \r"
     ]
    },
    {
     "name": "stdout",
     "output_type": "stream",
     "text": [
      "Epoch 46 Saved best model. Best F1: 0.985565531367029\n",
      "Epoch 46, Train Loss: 0.0775, Validation Loss: 0.1156, Validation F1: 0.9856, Validation F1 Micro: 0.9830, Validation F1 Macro: 0.5988\n"
     ]
    },
    {
     "name": "stderr",
     "output_type": "stream",
     "text": [
      "                                                             \r"
     ]
    },
    {
     "name": "stdout",
     "output_type": "stream",
     "text": [
      "Epoch 47, Train Loss: 0.0825, Validation Loss: 0.1151, Validation F1: 0.9842, Validation F1 Micro: 0.9812, Validation F1 Macro: 0.5940\n"
     ]
    },
    {
     "name": "stderr",
     "output_type": "stream",
     "text": [
      "                                                             \r"
     ]
    },
    {
     "name": "stdout",
     "output_type": "stream",
     "text": [
      "Epoch 48, Train Loss: 0.0731, Validation Loss: 0.1145, Validation F1: 0.9792, Validation F1 Micro: 0.9755, Validation F1 Macro: 0.5873\n"
     ]
    },
    {
     "name": "stderr",
     "output_type": "stream",
     "text": [
      "                                                             \r"
     ]
    },
    {
     "name": "stdout",
     "output_type": "stream",
     "text": [
      "Epoch 49, Train Loss: 0.0733, Validation Loss: 0.1158, Validation F1: 0.9790, Validation F1 Micro: 0.9754, Validation F1 Macro: 0.5953\n"
     ]
    },
    {
     "name": "stderr",
     "output_type": "stream",
     "text": [
      "                                                             \r"
     ]
    },
    {
     "name": "stdout",
     "output_type": "stream",
     "text": [
      "Epoch 50, Train Loss: 0.0691, Validation Loss: 0.1146, Validation F1: 0.9800, Validation F1 Micro: 0.9769, Validation F1 Macro: 0.6048\n"
     ]
    },
    {
     "name": "stderr",
     "output_type": "stream",
     "text": [
      "                                                             \r"
     ]
    },
    {
     "name": "stdout",
     "output_type": "stream",
     "text": [
      "Epoch 51, Train Loss: 0.0708, Validation Loss: 0.1158, Validation F1: 0.9846, Validation F1 Micro: 0.9820, Validation F1 Macro: 0.6116\n"
     ]
    },
    {
     "name": "stderr",
     "output_type": "stream",
     "text": [
      "                                                             \r"
     ]
    },
    {
     "name": "stdout",
     "output_type": "stream",
     "text": [
      "Epoch 52, Train Loss: 0.0662, Validation Loss: 0.1164, Validation F1: 0.9841, Validation F1 Micro: 0.9812, Validation F1 Macro: 0.6088\n"
     ]
    },
    {
     "name": "stderr",
     "output_type": "stream",
     "text": [
      "                                                             \r"
     ]
    },
    {
     "name": "stdout",
     "output_type": "stream",
     "text": [
      "Epoch 53, Train Loss: 0.0625, Validation Loss: 0.1153, Validation F1: 0.9838, Validation F1 Micro: 0.9807, Validation F1 Macro: 0.6058\n"
     ]
    },
    {
     "name": "stderr",
     "output_type": "stream",
     "text": [
      "                                                             \r"
     ]
    },
    {
     "name": "stdout",
     "output_type": "stream",
     "text": [
      "Epoch 54, Train Loss: 0.0639, Validation Loss: 0.1180, Validation F1: 0.9796, Validation F1 Micro: 0.9765, Validation F1 Macro: 0.6272\n"
     ]
    },
    {
     "name": "stderr",
     "output_type": "stream",
     "text": [
      "                                                             \r"
     ]
    },
    {
     "name": "stdout",
     "output_type": "stream",
     "text": [
      "Epoch 55, Train Loss: 0.0593, Validation Loss: 0.1185, Validation F1: 0.9802, Validation F1 Micro: 0.9775, Validation F1 Macro: 0.6322\n"
     ]
    },
    {
     "name": "stderr",
     "output_type": "stream",
     "text": [
      "                                                             \r"
     ]
    },
    {
     "name": "stdout",
     "output_type": "stream",
     "text": [
      "Epoch 56, Train Loss: 0.0637, Validation Loss: 0.1155, Validation F1: 0.9804, Validation F1 Micro: 0.9778, Validation F1 Macro: 0.6356\n"
     ]
    },
    {
     "name": "stderr",
     "output_type": "stream",
     "text": [
      "                                                             \r"
     ]
    },
    {
     "name": "stdout",
     "output_type": "stream",
     "text": [
      "Epoch 57 Saved best model. Best F1: 0.9856141178592595\n",
      "Epoch 57, Train Loss: 0.0589, Validation Loss: 0.1126, Validation F1: 0.9856, Validation F1 Micro: 0.9834, Validation F1 Macro: 0.6180\n"
     ]
    },
    {
     "name": "stderr",
     "output_type": "stream",
     "text": [
      "                                                             \r"
     ]
    },
    {
     "name": "stdout",
     "output_type": "stream",
     "text": [
      "Epoch 58, Train Loss: 0.0561, Validation Loss: 0.1083, Validation F1: 0.9854, Validation F1 Micro: 0.9830, Validation F1 Macro: 0.6184\n"
     ]
    },
    {
     "name": "stderr",
     "output_type": "stream",
     "text": [
      "                                                             \r"
     ]
    },
    {
     "name": "stdout",
     "output_type": "stream",
     "text": [
      "Epoch 59, Train Loss: 0.0531, Validation Loss: 0.1027, Validation F1: 0.9856, Validation F1 Micro: 0.9831, Validation F1 Macro: 0.6230\n"
     ]
    },
    {
     "name": "stderr",
     "output_type": "stream",
     "text": [
      "                                                             \r"
     ]
    },
    {
     "name": "stdout",
     "output_type": "stream",
     "text": [
      "Epoch 60 Saved best model. Best F1: 0.9858675053779784\n",
      "Epoch 60, Train Loss: 0.0509, Validation Loss: 0.0961, Validation F1: 0.9859, Validation F1 Micro: 0.9836, Validation F1 Macro: 0.6258\n"
     ]
    },
    {
     "name": "stderr",
     "output_type": "stream",
     "text": [
      "                                                             \r"
     ]
    },
    {
     "name": "stdout",
     "output_type": "stream",
     "text": [
      "Epoch 61 Saved best model. Best F1: 0.9862605251079993\n",
      "Epoch 61, Train Loss: 0.0556, Validation Loss: 0.0905, Validation F1: 0.9863, Validation F1 Micro: 0.9840, Validation F1 Macro: 0.6308\n"
     ]
    },
    {
     "name": "stderr",
     "output_type": "stream",
     "text": [
      "                                                             \r"
     ]
    },
    {
     "name": "stdout",
     "output_type": "stream",
     "text": [
      "Epoch 62, Train Loss: 0.0490, Validation Loss: 0.0864, Validation F1: 0.9861, Validation F1 Micro: 0.9837, Validation F1 Macro: 0.6298\n"
     ]
    },
    {
     "name": "stderr",
     "output_type": "stream",
     "text": [
      "                                                             \r"
     ]
    },
    {
     "name": "stdout",
     "output_type": "stream",
     "text": [
      "Epoch 63, Train Loss: 0.0501, Validation Loss: 0.0834, Validation F1: 0.9859, Validation F1 Micro: 0.9833, Validation F1 Macro: 0.6280\n"
     ]
    },
    {
     "name": "stderr",
     "output_type": "stream",
     "text": [
      "                                                             \r"
     ]
    },
    {
     "name": "stdout",
     "output_type": "stream",
     "text": [
      "Epoch 64, Train Loss: 0.0513, Validation Loss: 0.0824, Validation F1: 0.9854, Validation F1 Micro: 0.9826, Validation F1 Macro: 0.6238\n"
     ]
    },
    {
     "name": "stderr",
     "output_type": "stream",
     "text": [
      "                                                             \r"
     ]
    },
    {
     "name": "stdout",
     "output_type": "stream",
     "text": [
      "Epoch 65, Train Loss: 0.0540, Validation Loss: 0.0928, Validation F1: 0.9854, Validation F1 Micro: 0.9826, Validation F1 Macro: 0.6237\n"
     ]
    },
    {
     "name": "stderr",
     "output_type": "stream",
     "text": [
      "                                                             \r"
     ]
    },
    {
     "name": "stdout",
     "output_type": "stream",
     "text": [
      "Epoch 66, Train Loss: 0.0476, Validation Loss: 0.1022, Validation F1: 0.9859, Validation F1 Micro: 0.9834, Validation F1 Macro: 0.6713\n"
     ]
    },
    {
     "name": "stderr",
     "output_type": "stream",
     "text": [
      "                                                             \r"
     ]
    },
    {
     "name": "stdout",
     "output_type": "stream",
     "text": [
      "Epoch 67 Saved best model. Best F1: 0.9863051970679778\n",
      "Epoch 67, Train Loss: 0.0480, Validation Loss: 0.1122, Validation F1: 0.9863, Validation F1 Micro: 0.9842, Validation F1 Macro: 0.6740\n"
     ]
    },
    {
     "name": "stderr",
     "output_type": "stream",
     "text": [
      "                                                             \r"
     ]
    },
    {
     "name": "stdout",
     "output_type": "stream",
     "text": [
      "Epoch 68 Saved best model. Best F1: 0.98657463738402\n",
      "Epoch 68, Train Loss: 0.0474, Validation Loss: 0.1111, Validation F1: 0.9866, Validation F1 Micro: 0.9846, Validation F1 Macro: 0.6768\n"
     ]
    },
    {
     "name": "stderr",
     "output_type": "stream",
     "text": [
      "                                                             \r"
     ]
    },
    {
     "name": "stdout",
     "output_type": "stream",
     "text": [
      "Epoch 69, Train Loss: 0.0446, Validation Loss: 0.1100, Validation F1: 0.9813, Validation F1 Micro: 0.9787, Validation F1 Macro: 0.6488\n"
     ]
    },
    {
     "name": "stderr",
     "output_type": "stream",
     "text": [
      "                                                             \r"
     ]
    },
    {
     "name": "stdout",
     "output_type": "stream",
     "text": [
      "Epoch 70, Train Loss: 0.0461, Validation Loss: 0.1048, Validation F1: 0.9811, Validation F1 Micro: 0.9784, Validation F1 Macro: 0.6486\n"
     ]
    },
    {
     "name": "stderr",
     "output_type": "stream",
     "text": [
      "                                                             \r"
     ]
    },
    {
     "name": "stdout",
     "output_type": "stream",
     "text": [
      "Epoch 71, Train Loss: 0.0459, Validation Loss: 0.1000, Validation F1: 0.9809, Validation F1 Micro: 0.9782, Validation F1 Macro: 0.5939\n"
     ]
    },
    {
     "name": "stderr",
     "output_type": "stream",
     "text": [
      "                                                             \r"
     ]
    },
    {
     "name": "stdout",
     "output_type": "stream",
     "text": [
      "Epoch 72, Train Loss: 0.0422, Validation Loss: 0.0938, Validation F1: 0.9810, Validation F1 Micro: 0.9783, Validation F1 Macro: 0.5934\n"
     ]
    },
    {
     "name": "stderr",
     "output_type": "stream",
     "text": [
      "                                                             \r"
     ]
    },
    {
     "name": "stdout",
     "output_type": "stream",
     "text": [
      "Epoch 73, Train Loss: 0.0416, Validation Loss: 0.0887, Validation F1: 0.9813, Validation F1 Micro: 0.9787, Validation F1 Macro: 0.5909\n"
     ]
    },
    {
     "name": "stderr",
     "output_type": "stream",
     "text": [
      "                                                             \r"
     ]
    },
    {
     "name": "stdout",
     "output_type": "stream",
     "text": [
      "Epoch 74 Saved best model. Best F1: 0.9887024295391974\n",
      "Epoch 74, Train Loss: 0.0481, Validation Loss: 0.0848, Validation F1: 0.9887, Validation F1 Micro: 0.9860, Validation F1 Macro: 0.5975\n"
     ]
    },
    {
     "name": "stderr",
     "output_type": "stream",
     "text": [
      "                                                             \r"
     ]
    },
    {
     "name": "stdout",
     "output_type": "stream",
     "text": [
      "Epoch 75, Train Loss: 0.0435, Validation Loss: 0.0805, Validation F1: 0.9885, Validation F1 Micro: 0.9858, Validation F1 Macro: 0.5936\n"
     ]
    },
    {
     "name": "stderr",
     "output_type": "stream",
     "text": [
      "                                                             \r"
     ]
    },
    {
     "name": "stdout",
     "output_type": "stream",
     "text": [
      "Epoch 76 Saved best model. Best F1: 0.9933020188089272\n",
      "Epoch 76, Train Loss: 0.0434, Validation Loss: 0.0763, Validation F1: 0.9933, Validation F1 Micro: 0.9914, Validation F1 Macro: 0.6153\n"
     ]
    },
    {
     "name": "stderr",
     "output_type": "stream",
     "text": [
      "                                                             \r"
     ]
    },
    {
     "name": "stdout",
     "output_type": "stream",
     "text": [
      "Epoch 77, Train Loss: 0.0372, Validation Loss: 0.0729, Validation F1: 0.9930, Validation F1 Micro: 0.9910, Validation F1 Macro: 0.6124\n"
     ]
    },
    {
     "name": "stderr",
     "output_type": "stream",
     "text": [
      "                                                             \r"
     ]
    },
    {
     "name": "stdout",
     "output_type": "stream",
     "text": [
      "Epoch 78, Train Loss: 0.0392, Validation Loss: 0.0731, Validation F1: 0.9861, Validation F1 Micro: 0.9841, Validation F1 Macro: 0.6076\n"
     ]
    },
    {
     "name": "stderr",
     "output_type": "stream",
     "text": [
      "                                                             \r"
     ]
    },
    {
     "name": "stdout",
     "output_type": "stream",
     "text": [
      "Epoch 79, Train Loss: 0.0394, Validation Loss: 0.0758, Validation F1: 0.9861, Validation F1 Micro: 0.9842, Validation F1 Macro: 0.6091\n"
     ]
    },
    {
     "name": "stderr",
     "output_type": "stream",
     "text": [
      "                                                             \r"
     ]
    },
    {
     "name": "stdout",
     "output_type": "stream",
     "text": [
      "Epoch 80, Train Loss: 0.0400, Validation Loss: 0.0794, Validation F1: 0.9863, Validation F1 Micro: 0.9845, Validation F1 Macro: 0.6135\n"
     ]
    },
    {
     "name": "stderr",
     "output_type": "stream",
     "text": [
      "                                                             \r"
     ]
    },
    {
     "name": "stdout",
     "output_type": "stream",
     "text": [
      "Epoch 81, Train Loss: 0.0375, Validation Loss: 0.0816, Validation F1: 0.9866, Validation F1 Micro: 0.9849, Validation F1 Macro: 0.6182\n"
     ]
    },
    {
     "name": "stderr",
     "output_type": "stream",
     "text": [
      "                                                             \r"
     ]
    },
    {
     "name": "stdout",
     "output_type": "stream",
     "text": [
      "Epoch 82, Train Loss: 0.0388, Validation Loss: 0.0814, Validation F1: 0.9868, Validation F1 Micro: 0.9851, Validation F1 Macro: 0.6236\n"
     ]
    },
    {
     "name": "stderr",
     "output_type": "stream",
     "text": [
      "                                                             \r"
     ]
    },
    {
     "name": "stdout",
     "output_type": "stream",
     "text": [
      "Epoch 83, Train Loss: 0.0386, Validation Loss: 0.0814, Validation F1: 0.9868, Validation F1 Micro: 0.9850, Validation F1 Macro: 0.6247\n"
     ]
    },
    {
     "name": "stderr",
     "output_type": "stream",
     "text": [
      "                                                             \r"
     ]
    },
    {
     "name": "stdout",
     "output_type": "stream",
     "text": [
      "Epoch 84, Train Loss: 0.0381, Validation Loss: 0.0799, Validation F1: 0.9867, Validation F1 Micro: 0.9850, Validation F1 Macro: 0.6245\n"
     ]
    },
    {
     "name": "stderr",
     "output_type": "stream",
     "text": [
      "                                                             \r"
     ]
    },
    {
     "name": "stdout",
     "output_type": "stream",
     "text": [
      "Epoch 85, Train Loss: 0.0408, Validation Loss: 0.0800, Validation F1: 0.9867, Validation F1 Micro: 0.9849, Validation F1 Macro: 0.6252\n"
     ]
    },
    {
     "name": "stderr",
     "output_type": "stream",
     "text": [
      "                                                             \r"
     ]
    },
    {
     "name": "stdout",
     "output_type": "stream",
     "text": [
      "Epoch 86, Train Loss: 0.0389, Validation Loss: 0.0819, Validation F1: 0.9867, Validation F1 Micro: 0.9849, Validation F1 Macro: 0.6251\n"
     ]
    },
    {
     "name": "stderr",
     "output_type": "stream",
     "text": [
      "                                                             \r"
     ]
    },
    {
     "name": "stdout",
     "output_type": "stream",
     "text": [
      "Epoch 87, Train Loss: 0.0351, Validation Loss: 0.0837, Validation F1: 0.9870, Validation F1 Micro: 0.9852, Validation F1 Macro: 0.6270\n"
     ]
    },
    {
     "name": "stderr",
     "output_type": "stream",
     "text": [
      "                                                             \r"
     ]
    },
    {
     "name": "stdout",
     "output_type": "stream",
     "text": [
      "Epoch 88, Train Loss: 0.0495, Validation Loss: 0.0859, Validation F1: 0.9868, Validation F1 Micro: 0.9849, Validation F1 Macro: 0.6253\n"
     ]
    },
    {
     "name": "stderr",
     "output_type": "stream",
     "text": [
      "                                                             \r"
     ]
    },
    {
     "name": "stdout",
     "output_type": "stream",
     "text": [
      "Epoch 89, Train Loss: 0.0361, Validation Loss: 0.0879, Validation F1: 0.9868, Validation F1 Micro: 0.9848, Validation F1 Macro: 0.6686\n"
     ]
    },
    {
     "name": "stderr",
     "output_type": "stream",
     "text": [
      "                                                             \r"
     ]
    },
    {
     "name": "stdout",
     "output_type": "stream",
     "text": [
      "Epoch 90, Train Loss: 0.0392, Validation Loss: 0.0874, Validation F1: 0.9866, Validation F1 Micro: 0.9847, Validation F1 Macro: 0.5634\n"
     ]
    },
    {
     "name": "stderr",
     "output_type": "stream",
     "text": [
      "                                                             \r"
     ]
    },
    {
     "name": "stdout",
     "output_type": "stream",
     "text": [
      "Epoch 91, Train Loss: 0.0358, Validation Loss: 0.0867, Validation F1: 0.9866, Validation F1 Micro: 0.9848, Validation F1 Macro: 0.5632\n"
     ]
    },
    {
     "name": "stderr",
     "output_type": "stream",
     "text": [
      "                                                             \r"
     ]
    },
    {
     "name": "stdout",
     "output_type": "stream",
     "text": [
      "Epoch 92, Train Loss: 0.0356, Validation Loss: 0.0862, Validation F1: 0.9866, Validation F1 Micro: 0.9848, Validation F1 Macro: 0.5633\n"
     ]
    },
    {
     "name": "stderr",
     "output_type": "stream",
     "text": [
      "                                                             \r"
     ]
    },
    {
     "name": "stdout",
     "output_type": "stream",
     "text": [
      "Epoch 93, Train Loss: 0.0360, Validation Loss: 0.0860, Validation F1: 0.9866, Validation F1 Micro: 0.9848, Validation F1 Macro: 0.6032\n"
     ]
    },
    {
     "name": "stderr",
     "output_type": "stream",
     "text": [
      "                                                             \r"
     ]
    },
    {
     "name": "stdout",
     "output_type": "stream",
     "text": [
      "Epoch 94, Train Loss: 0.0350, Validation Loss: 0.0859, Validation F1: 0.9865, Validation F1 Micro: 0.9847, Validation F1 Macro: 0.6026\n"
     ]
    },
    {
     "name": "stderr",
     "output_type": "stream",
     "text": [
      "                                                             \r"
     ]
    },
    {
     "name": "stdout",
     "output_type": "stream",
     "text": [
      "Epoch 95, Train Loss: 0.0343, Validation Loss: 0.0863, Validation F1: 0.9866, Validation F1 Micro: 0.9847, Validation F1 Macro: 0.6025\n"
     ]
    },
    {
     "name": "stderr",
     "output_type": "stream",
     "text": [
      "                                                             \r"
     ]
    },
    {
     "name": "stdout",
     "output_type": "stream",
     "text": [
      "Epoch 96, Train Loss: 0.0347, Validation Loss: 0.0867, Validation F1: 0.9866, Validation F1 Micro: 0.9848, Validation F1 Macro: 0.6027\n"
     ]
    },
    {
     "name": "stderr",
     "output_type": "stream",
     "text": [
      "                                                             \r"
     ]
    },
    {
     "name": "stdout",
     "output_type": "stream",
     "text": [
      "Epoch 97, Train Loss: 0.0365, Validation Loss: 0.0870, Validation F1: 0.9867, Validation F1 Micro: 0.9850, Validation F1 Macro: 0.6030\n"
     ]
    },
    {
     "name": "stderr",
     "output_type": "stream",
     "text": [
      "                                                             \r"
     ]
    },
    {
     "name": "stdout",
     "output_type": "stream",
     "text": [
      "Epoch 98, Train Loss: 0.0361, Validation Loss: 0.0871, Validation F1: 0.9867, Validation F1 Micro: 0.9850, Validation F1 Macro: 0.5630\n"
     ]
    },
    {
     "name": "stderr",
     "output_type": "stream",
     "text": [
      "                                                             \r"
     ]
    },
    {
     "name": "stdout",
     "output_type": "stream",
     "text": [
      "Epoch 99, Train Loss: 0.0344, Validation Loss: 0.0870, Validation F1: 0.9868, Validation F1 Micro: 0.9851, Validation F1 Macro: 0.5634\n"
     ]
    },
    {
     "name": "stderr",
     "output_type": "stream",
     "text": [
      "                                                             \r"
     ]
    },
    {
     "name": "stdout",
     "output_type": "stream",
     "text": [
      "Epoch 100, Train Loss: 0.0339, Validation Loss: 0.0867, Validation F1: 0.9868, Validation F1 Micro: 0.9851, Validation F1 Macro: 0.5636\n"
     ]
    },
    {
     "name": "stderr",
     "output_type": "stream",
     "text": [
      "                                                             \r"
     ]
    },
    {
     "name": "stdout",
     "output_type": "stream",
     "text": [
      "Epoch 101, Train Loss: 0.0341, Validation Loss: 0.0860, Validation F1: 0.9868, Validation F1 Micro: 0.9851, Validation F1 Macro: 0.5638\n"
     ]
    },
    {
     "name": "stderr",
     "output_type": "stream",
     "text": [
      "                                                             \r"
     ]
    },
    {
     "name": "stdout",
     "output_type": "stream",
     "text": [
      "Epoch 102, Train Loss: 0.0343, Validation Loss: 0.0854, Validation F1: 0.9868, Validation F1 Micro: 0.9851, Validation F1 Macro: 0.5638\n"
     ]
    },
    {
     "name": "stderr",
     "output_type": "stream",
     "text": [
      "                                                             \r"
     ]
    },
    {
     "name": "stdout",
     "output_type": "stream",
     "text": [
      "Epoch 103, Train Loss: 0.0365, Validation Loss: 0.0847, Validation F1: 0.9868, Validation F1 Micro: 0.9851, Validation F1 Macro: 0.5639\n"
     ]
    },
    {
     "name": "stderr",
     "output_type": "stream",
     "text": [
      "                                                             \r"
     ]
    },
    {
     "name": "stdout",
     "output_type": "stream",
     "text": [
      "Epoch 104, Train Loss: 0.0346, Validation Loss: 0.0840, Validation F1: 0.9868, Validation F1 Micro: 0.9851, Validation F1 Macro: 0.5640\n"
     ]
    },
    {
     "name": "stderr",
     "output_type": "stream",
     "text": [
      "                                                             \r"
     ]
    },
    {
     "name": "stdout",
     "output_type": "stream",
     "text": [
      "Epoch 105, Train Loss: 0.0350, Validation Loss: 0.0833, Validation F1: 0.9868, Validation F1 Micro: 0.9851, Validation F1 Macro: 0.5641\n"
     ]
    },
    {
     "name": "stderr",
     "output_type": "stream",
     "text": [
      "                                                             \r"
     ]
    },
    {
     "name": "stdout",
     "output_type": "stream",
     "text": [
      "Epoch 106, Train Loss: 0.0334, Validation Loss: 0.0827, Validation F1: 0.9868, Validation F1 Micro: 0.9852, Validation F1 Macro: 0.5642\n"
     ]
    },
    {
     "name": "stderr",
     "output_type": "stream",
     "text": [
      "                                                             \r"
     ]
    },
    {
     "name": "stdout",
     "output_type": "stream",
     "text": [
      "Epoch 107, Train Loss: 0.0366, Validation Loss: 0.0821, Validation F1: 0.9868, Validation F1 Micro: 0.9851, Validation F1 Macro: 0.5641\n"
     ]
    },
    {
     "name": "stderr",
     "output_type": "stream",
     "text": [
      "                                                             \r"
     ]
    },
    {
     "name": "stdout",
     "output_type": "stream",
     "text": [
      "Epoch 108, Train Loss: 0.0350, Validation Loss: 0.0818, Validation F1: 0.9868, Validation F1 Micro: 0.9851, Validation F1 Macro: 0.5641\n"
     ]
    },
    {
     "name": "stderr",
     "output_type": "stream",
     "text": [
      "                                                             \r"
     ]
    },
    {
     "name": "stdout",
     "output_type": "stream",
     "text": [
      "Epoch 109, Train Loss: 0.0357, Validation Loss: 0.0815, Validation F1: 0.9869, Validation F1 Micro: 0.9853, Validation F1 Macro: 0.5646\n"
     ]
    },
    {
     "name": "stderr",
     "output_type": "stream",
     "text": [
      "                                                             \r"
     ]
    },
    {
     "name": "stdout",
     "output_type": "stream",
     "text": [
      "Epoch 110, Train Loss: 0.0358, Validation Loss: 0.0814, Validation F1: 0.9869, Validation F1 Micro: 0.9853, Validation F1 Macro: 0.5647\n"
     ]
    },
    {
     "name": "stderr",
     "output_type": "stream",
     "text": [
      "                                                             \r"
     ]
    },
    {
     "name": "stdout",
     "output_type": "stream",
     "text": [
      "Epoch 111, Train Loss: 0.0332, Validation Loss: 0.0814, Validation F1: 0.9869, Validation F1 Micro: 0.9853, Validation F1 Macro: 0.5647\n"
     ]
    },
    {
     "name": "stderr",
     "output_type": "stream",
     "text": [
      "                                                             \r"
     ]
    },
    {
     "name": "stdout",
     "output_type": "stream",
     "text": [
      "Epoch 112, Train Loss: 0.0329, Validation Loss: 0.0813, Validation F1: 0.9869, Validation F1 Micro: 0.9853, Validation F1 Macro: 0.5647\n"
     ]
    },
    {
     "name": "stderr",
     "output_type": "stream",
     "text": [
      "                                                             \r"
     ]
    },
    {
     "name": "stdout",
     "output_type": "stream",
     "text": [
      "Epoch 113, Train Loss: 0.0313, Validation Loss: 0.0813, Validation F1: 0.9869, Validation F1 Micro: 0.9853, Validation F1 Macro: 0.5648\n"
     ]
    },
    {
     "name": "stderr",
     "output_type": "stream",
     "text": [
      "                                                             \r"
     ]
    },
    {
     "name": "stdout",
     "output_type": "stream",
     "text": [
      "Epoch 114, Train Loss: 0.0332, Validation Loss: 0.0813, Validation F1: 0.9869, Validation F1 Micro: 0.9853, Validation F1 Macro: 0.5649\n"
     ]
    },
    {
     "name": "stderr",
     "output_type": "stream",
     "text": [
      "                                                             \r"
     ]
    },
    {
     "name": "stdout",
     "output_type": "stream",
     "text": [
      "Epoch 115, Train Loss: 0.0318, Validation Loss: 0.0813, Validation F1: 0.9869, Validation F1 Micro: 0.9853, Validation F1 Macro: 0.5649\n"
     ]
    },
    {
     "name": "stderr",
     "output_type": "stream",
     "text": [
      "                                                             \r"
     ]
    },
    {
     "name": "stdout",
     "output_type": "stream",
     "text": [
      "Epoch 116, Train Loss: 0.0340, Validation Loss: 0.0814, Validation F1: 0.9869, Validation F1 Micro: 0.9853, Validation F1 Macro: 0.5650\n"
     ]
    },
    {
     "name": "stderr",
     "output_type": "stream",
     "text": [
      "                                                             \r"
     ]
    },
    {
     "name": "stdout",
     "output_type": "stream",
     "text": [
      "Epoch 117, Train Loss: 0.0346, Validation Loss: 0.0814, Validation F1: 0.9869, Validation F1 Micro: 0.9853, Validation F1 Macro: 0.5651\n"
     ]
    },
    {
     "name": "stderr",
     "output_type": "stream",
     "text": [
      "                                                             \r"
     ]
    },
    {
     "name": "stdout",
     "output_type": "stream",
     "text": [
      "Epoch 118, Train Loss: 0.0324, Validation Loss: 0.0814, Validation F1: 0.9869, Validation F1 Micro: 0.9853, Validation F1 Macro: 0.5651\n"
     ]
    },
    {
     "name": "stderr",
     "output_type": "stream",
     "text": [
      "                                                             \r"
     ]
    },
    {
     "name": "stdout",
     "output_type": "stream",
     "text": [
      "Epoch 119, Train Loss: 0.0332, Validation Loss: 0.0815, Validation F1: 0.9869, Validation F1 Micro: 0.9853, Validation F1 Macro: 0.5652\n"
     ]
    },
    {
     "name": "stderr",
     "output_type": "stream",
     "text": [
      "                                                             \r"
     ]
    },
    {
     "name": "stdout",
     "output_type": "stream",
     "text": [
      "Epoch 120, Train Loss: 0.0325, Validation Loss: 0.0815, Validation F1: 0.9869, Validation F1 Micro: 0.9853, Validation F1 Macro: 0.5653\n"
     ]
    },
    {
     "name": "stderr",
     "output_type": "stream",
     "text": [
      "                                                             \r"
     ]
    },
    {
     "name": "stdout",
     "output_type": "stream",
     "text": [
      "Epoch 121, Train Loss: 0.0321, Validation Loss: 0.0815, Validation F1: 0.9869, Validation F1 Micro: 0.9853, Validation F1 Macro: 0.5654\n"
     ]
    },
    {
     "name": "stderr",
     "output_type": "stream",
     "text": [
      "                                                             \r"
     ]
    },
    {
     "name": "stdout",
     "output_type": "stream",
     "text": [
      "Epoch 122, Train Loss: 0.0332, Validation Loss: 0.0816, Validation F1: 0.9869, Validation F1 Micro: 0.9853, Validation F1 Macro: 0.5654\n"
     ]
    },
    {
     "name": "stderr",
     "output_type": "stream",
     "text": [
      "                                                             \r"
     ]
    },
    {
     "name": "stdout",
     "output_type": "stream",
     "text": [
      "Epoch 123, Train Loss: 0.0343, Validation Loss: 0.0816, Validation F1: 0.9869, Validation F1 Micro: 0.9854, Validation F1 Macro: 0.5655\n"
     ]
    },
    {
     "name": "stderr",
     "output_type": "stream",
     "text": [
      "                                                             \r"
     ]
    },
    {
     "name": "stdout",
     "output_type": "stream",
     "text": [
      "Epoch 124, Train Loss: 0.0357, Validation Loss: 0.0816, Validation F1: 0.9869, Validation F1 Micro: 0.9854, Validation F1 Macro: 0.5656\n"
     ]
    },
    {
     "name": "stderr",
     "output_type": "stream",
     "text": [
      "                                                             \r"
     ]
    },
    {
     "name": "stdout",
     "output_type": "stream",
     "text": [
      "Epoch 125, Train Loss: 0.0326, Validation Loss: 0.0816, Validation F1: 0.9869, Validation F1 Micro: 0.9854, Validation F1 Macro: 0.5656\n"
     ]
    },
    {
     "name": "stderr",
     "output_type": "stream",
     "text": [
      "                                                             \r"
     ]
    },
    {
     "name": "stdout",
     "output_type": "stream",
     "text": [
      "Epoch 126, Train Loss: 0.0354, Validation Loss: 0.0816, Validation F1: 0.9869, Validation F1 Micro: 0.9854, Validation F1 Macro: 0.5656\n"
     ]
    },
    {
     "name": "stderr",
     "output_type": "stream",
     "text": [
      "                                                             \r"
     ]
    },
    {
     "name": "stdout",
     "output_type": "stream",
     "text": [
      "Epoch 127, Train Loss: 0.0346, Validation Loss: 0.0816, Validation F1: 0.9869, Validation F1 Micro: 0.9854, Validation F1 Macro: 0.5656\n"
     ]
    },
    {
     "name": "stderr",
     "output_type": "stream",
     "text": [
      "                                                             \r"
     ]
    },
    {
     "name": "stdout",
     "output_type": "stream",
     "text": [
      "Epoch 128, Train Loss: 0.0363, Validation Loss: 0.0815, Validation F1: 0.9869, Validation F1 Micro: 0.9854, Validation F1 Macro: 0.5656\n"
     ]
    },
    {
     "name": "stderr",
     "output_type": "stream",
     "text": [
      "                                                             \r"
     ]
    },
    {
     "name": "stdout",
     "output_type": "stream",
     "text": [
      "Epoch 129, Train Loss: 0.0336, Validation Loss: 0.0815, Validation F1: 0.9869, Validation F1 Micro: 0.9854, Validation F1 Macro: 0.5656\n"
     ]
    },
    {
     "name": "stderr",
     "output_type": "stream",
     "text": [
      "                                                             \r"
     ]
    },
    {
     "name": "stdout",
     "output_type": "stream",
     "text": [
      "Epoch 130, Train Loss: 0.0333, Validation Loss: 0.0815, Validation F1: 0.9869, Validation F1 Micro: 0.9854, Validation F1 Macro: 0.5656\n"
     ]
    },
    {
     "name": "stderr",
     "output_type": "stream",
     "text": [
      "                                                             \r"
     ]
    },
    {
     "name": "stdout",
     "output_type": "stream",
     "text": [
      "Epoch 131, Train Loss: 0.0337, Validation Loss: 0.0815, Validation F1: 0.9869, Validation F1 Micro: 0.9854, Validation F1 Macro: 0.5656\n"
     ]
    },
    {
     "name": "stderr",
     "output_type": "stream",
     "text": [
      "                                                             \r"
     ]
    },
    {
     "name": "stdout",
     "output_type": "stream",
     "text": [
      "Epoch 132, Train Loss: 0.0308, Validation Loss: 0.0815, Validation F1: 0.9869, Validation F1 Micro: 0.9854, Validation F1 Macro: 0.5656\n"
     ]
    },
    {
     "name": "stderr",
     "output_type": "stream",
     "text": [
      "                                                             \r"
     ]
    },
    {
     "name": "stdout",
     "output_type": "stream",
     "text": [
      "Epoch 133, Train Loss: 0.0362, Validation Loss: 0.0814, Validation F1: 0.9869, Validation F1 Micro: 0.9854, Validation F1 Macro: 0.5656\n"
     ]
    },
    {
     "name": "stderr",
     "output_type": "stream",
     "text": [
      "                                                             \r"
     ]
    },
    {
     "name": "stdout",
     "output_type": "stream",
     "text": [
      "Epoch 134, Train Loss: 0.0314, Validation Loss: 0.0814, Validation F1: 0.9869, Validation F1 Micro: 0.9854, Validation F1 Macro: 0.5656\n"
     ]
    },
    {
     "name": "stderr",
     "output_type": "stream",
     "text": [
      "                                                             \r"
     ]
    },
    {
     "name": "stdout",
     "output_type": "stream",
     "text": [
      "Epoch 135, Train Loss: 0.0324, Validation Loss: 0.0814, Validation F1: 0.9869, Validation F1 Micro: 0.9854, Validation F1 Macro: 0.5656\n"
     ]
    },
    {
     "name": "stderr",
     "output_type": "stream",
     "text": [
      "                                                             \r"
     ]
    },
    {
     "name": "stdout",
     "output_type": "stream",
     "text": [
      "Epoch 136, Train Loss: 0.0336, Validation Loss: 0.0813, Validation F1: 0.9869, Validation F1 Micro: 0.9854, Validation F1 Macro: 0.5656\n"
     ]
    },
    {
     "name": "stderr",
     "output_type": "stream",
     "text": [
      "                                                             \r"
     ]
    },
    {
     "name": "stdout",
     "output_type": "stream",
     "text": [
      "Epoch 137, Train Loss: 0.0315, Validation Loss: 0.0812, Validation F1: 0.9869, Validation F1 Micro: 0.9854, Validation F1 Macro: 0.5656\n"
     ]
    },
    {
     "name": "stderr",
     "output_type": "stream",
     "text": [
      "                                                             \r"
     ]
    },
    {
     "name": "stdout",
     "output_type": "stream",
     "text": [
      "Epoch 138, Train Loss: 0.0348, Validation Loss: 0.0812, Validation F1: 0.9869, Validation F1 Micro: 0.9854, Validation F1 Macro: 0.5656\n"
     ]
    },
    {
     "name": "stderr",
     "output_type": "stream",
     "text": [
      "                                                             \r"
     ]
    },
    {
     "name": "stdout",
     "output_type": "stream",
     "text": [
      "Epoch 139, Train Loss: 0.0308, Validation Loss: 0.0812, Validation F1: 0.9869, Validation F1 Micro: 0.9854, Validation F1 Macro: 0.5656\n"
     ]
    },
    {
     "name": "stderr",
     "output_type": "stream",
     "text": [
      "                                                             \r"
     ]
    },
    {
     "name": "stdout",
     "output_type": "stream",
     "text": [
      "Epoch 140, Train Loss: 0.0354, Validation Loss: 0.0812, Validation F1: 0.9869, Validation F1 Micro: 0.9854, Validation F1 Macro: 0.5656\n"
     ]
    },
    {
     "name": "stderr",
     "output_type": "stream",
     "text": [
      "                                                             \r"
     ]
    },
    {
     "name": "stdout",
     "output_type": "stream",
     "text": [
      "Epoch 141, Train Loss: 0.0324, Validation Loss: 0.0811, Validation F1: 0.9869, Validation F1 Micro: 0.9854, Validation F1 Macro: 0.5656\n"
     ]
    },
    {
     "name": "stderr",
     "output_type": "stream",
     "text": [
      "                                                             \r"
     ]
    },
    {
     "name": "stdout",
     "output_type": "stream",
     "text": [
      "Epoch 142, Train Loss: 0.0315, Validation Loss: 0.0811, Validation F1: 0.9869, Validation F1 Micro: 0.9854, Validation F1 Macro: 0.5656\n"
     ]
    },
    {
     "name": "stderr",
     "output_type": "stream",
     "text": [
      "                                                             \r"
     ]
    },
    {
     "name": "stdout",
     "output_type": "stream",
     "text": [
      "Epoch 143, Train Loss: 0.0322, Validation Loss: 0.0810, Validation F1: 0.9869, Validation F1 Micro: 0.9854, Validation F1 Macro: 0.5656\n"
     ]
    },
    {
     "name": "stderr",
     "output_type": "stream",
     "text": [
      "                                                             \r"
     ]
    },
    {
     "name": "stdout",
     "output_type": "stream",
     "text": [
      "Epoch 144, Train Loss: 0.0310, Validation Loss: 0.0810, Validation F1: 0.9870, Validation F1 Micro: 0.9854, Validation F1 Macro: 0.5660\n"
     ]
    },
    {
     "name": "stderr",
     "output_type": "stream",
     "text": [
      "                                                             \r"
     ]
    },
    {
     "name": "stdout",
     "output_type": "stream",
     "text": [
      "Epoch 145, Train Loss: 0.0318, Validation Loss: 0.0810, Validation F1: 0.9870, Validation F1 Micro: 0.9854, Validation F1 Macro: 0.5660\n"
     ]
    },
    {
     "name": "stderr",
     "output_type": "stream",
     "text": [
      "                                                             \r"
     ]
    },
    {
     "name": "stdout",
     "output_type": "stream",
     "text": [
      "Epoch 146, Train Loss: 0.0341, Validation Loss: 0.0809, Validation F1: 0.9870, Validation F1 Micro: 0.9854, Validation F1 Macro: 0.5660\n"
     ]
    },
    {
     "name": "stderr",
     "output_type": "stream",
     "text": [
      "                                                             \r"
     ]
    },
    {
     "name": "stdout",
     "output_type": "stream",
     "text": [
      "Epoch 147, Train Loss: 0.0325, Validation Loss: 0.0809, Validation F1: 0.9870, Validation F1 Micro: 0.9854, Validation F1 Macro: 0.5660\n"
     ]
    },
    {
     "name": "stderr",
     "output_type": "stream",
     "text": [
      "                                                             \r"
     ]
    },
    {
     "name": "stdout",
     "output_type": "stream",
     "text": [
      "Epoch 148, Train Loss: 0.0347, Validation Loss: 0.0809, Validation F1: 0.9870, Validation F1 Micro: 0.9854, Validation F1 Macro: 0.5660\n"
     ]
    },
    {
     "name": "stderr",
     "output_type": "stream",
     "text": [
      "                                                             \r"
     ]
    },
    {
     "name": "stdout",
     "output_type": "stream",
     "text": [
      "Epoch 149, Train Loss: 0.0333, Validation Loss: 0.0809, Validation F1: 0.9870, Validation F1 Micro: 0.9854, Validation F1 Macro: 0.5660\n"
     ]
    },
    {
     "name": "stderr",
     "output_type": "stream",
     "text": [
      "                                                             \r"
     ]
    },
    {
     "name": "stdout",
     "output_type": "stream",
     "text": [
      "Epoch 150, Train Loss: 0.0340, Validation Loss: 0.0809, Validation F1: 0.9870, Validation F1 Micro: 0.9854, Validation F1 Macro: 0.5660\n"
     ]
    },
    {
     "name": "stderr",
     "output_type": "stream",
     "text": [
      "                                                             \r"
     ]
    },
    {
     "name": "stdout",
     "output_type": "stream",
     "text": [
      "Epoch 151, Train Loss: 0.0337, Validation Loss: 0.0809, Validation F1: 0.9870, Validation F1 Micro: 0.9854, Validation F1 Macro: 0.5660\n"
     ]
    },
    {
     "name": "stderr",
     "output_type": "stream",
     "text": [
      "                                                             \r"
     ]
    },
    {
     "name": "stdout",
     "output_type": "stream",
     "text": [
      "Epoch 152, Train Loss: 0.0335, Validation Loss: 0.0809, Validation F1: 0.9870, Validation F1 Micro: 0.9854, Validation F1 Macro: 0.5660\n"
     ]
    },
    {
     "name": "stderr",
     "output_type": "stream",
     "text": [
      "                                                             \r"
     ]
    },
    {
     "name": "stdout",
     "output_type": "stream",
     "text": [
      "Epoch 153, Train Loss: 0.0330, Validation Loss: 0.0809, Validation F1: 0.9870, Validation F1 Micro: 0.9854, Validation F1 Macro: 0.5660\n"
     ]
    },
    {
     "name": "stderr",
     "output_type": "stream",
     "text": [
      "                                                             \r"
     ]
    },
    {
     "name": "stdout",
     "output_type": "stream",
     "text": [
      "Epoch 154, Train Loss: 0.0346, Validation Loss: 0.0809, Validation F1: 0.9870, Validation F1 Micro: 0.9854, Validation F1 Macro: 0.5660\n"
     ]
    },
    {
     "name": "stderr",
     "output_type": "stream",
     "text": [
      "                                                             \r"
     ]
    },
    {
     "name": "stdout",
     "output_type": "stream",
     "text": [
      "Epoch 155, Train Loss: 0.0349, Validation Loss: 0.0809, Validation F1: 0.9870, Validation F1 Micro: 0.9854, Validation F1 Macro: 0.5660\n"
     ]
    },
    {
     "name": "stderr",
     "output_type": "stream",
     "text": [
      "                                                             \r"
     ]
    },
    {
     "name": "stdout",
     "output_type": "stream",
     "text": [
      "Epoch 156, Train Loss: 0.0307, Validation Loss: 0.0808, Validation F1: 0.9870, Validation F1 Micro: 0.9854, Validation F1 Macro: 0.5660\n"
     ]
    },
    {
     "name": "stderr",
     "output_type": "stream",
     "text": [
      "                                                             \r"
     ]
    },
    {
     "name": "stdout",
     "output_type": "stream",
     "text": [
      "Epoch 157, Train Loss: 0.0344, Validation Loss: 0.0808, Validation F1: 0.9870, Validation F1 Micro: 0.9854, Validation F1 Macro: 0.5661\n"
     ]
    },
    {
     "name": "stderr",
     "output_type": "stream",
     "text": [
      "                                                             \r"
     ]
    },
    {
     "name": "stdout",
     "output_type": "stream",
     "text": [
      "Epoch 158, Train Loss: 0.0342, Validation Loss: 0.0808, Validation F1: 0.9870, Validation F1 Micro: 0.9854, Validation F1 Macro: 0.5661\n"
     ]
    },
    {
     "name": "stderr",
     "output_type": "stream",
     "text": [
      "                                                             \r"
     ]
    },
    {
     "name": "stdout",
     "output_type": "stream",
     "text": [
      "Epoch 159, Train Loss: 0.0332, Validation Loss: 0.0808, Validation F1: 0.9870, Validation F1 Micro: 0.9854, Validation F1 Macro: 0.5661\n"
     ]
    },
    {
     "name": "stderr",
     "output_type": "stream",
     "text": [
      "                                                             \r"
     ]
    },
    {
     "name": "stdout",
     "output_type": "stream",
     "text": [
      "Epoch 160, Train Loss: 0.0327, Validation Loss: 0.0808, Validation F1: 0.9870, Validation F1 Micro: 0.9854, Validation F1 Macro: 0.5661\n"
     ]
    },
    {
     "name": "stderr",
     "output_type": "stream",
     "text": [
      "                                                             \r"
     ]
    },
    {
     "name": "stdout",
     "output_type": "stream",
     "text": [
      "Epoch 161, Train Loss: 0.0330, Validation Loss: 0.0808, Validation F1: 0.9870, Validation F1 Micro: 0.9854, Validation F1 Macro: 0.5661\n"
     ]
    },
    {
     "name": "stderr",
     "output_type": "stream",
     "text": [
      "                                                             \r"
     ]
    },
    {
     "name": "stdout",
     "output_type": "stream",
     "text": [
      "Epoch 162, Train Loss: 0.0343, Validation Loss: 0.0808, Validation F1: 0.9870, Validation F1 Micro: 0.9854, Validation F1 Macro: 0.5661\n"
     ]
    },
    {
     "name": "stderr",
     "output_type": "stream",
     "text": [
      "                                                             \r"
     ]
    },
    {
     "name": "stdout",
     "output_type": "stream",
     "text": [
      "Epoch 163, Train Loss: 0.0352, Validation Loss: 0.0808, Validation F1: 0.9870, Validation F1 Micro: 0.9854, Validation F1 Macro: 0.5661\n"
     ]
    },
    {
     "name": "stderr",
     "output_type": "stream",
     "text": [
      "                                                             \r"
     ]
    },
    {
     "name": "stdout",
     "output_type": "stream",
     "text": [
      "Epoch 164, Train Loss: 0.0327, Validation Loss: 0.0808, Validation F1: 0.9870, Validation F1 Micro: 0.9854, Validation F1 Macro: 0.5661\n"
     ]
    },
    {
     "name": "stderr",
     "output_type": "stream",
     "text": [
      "                                                             \r"
     ]
    },
    {
     "name": "stdout",
     "output_type": "stream",
     "text": [
      "Epoch 165, Train Loss: 0.0368, Validation Loss: 0.0808, Validation F1: 0.9870, Validation F1 Micro: 0.9854, Validation F1 Macro: 0.5661\n"
     ]
    },
    {
     "name": "stderr",
     "output_type": "stream",
     "text": [
      "                                                             \r"
     ]
    },
    {
     "name": "stdout",
     "output_type": "stream",
     "text": [
      "Epoch 166, Train Loss: 0.0362, Validation Loss: 0.0808, Validation F1: 0.9870, Validation F1 Micro: 0.9854, Validation F1 Macro: 0.5661\n"
     ]
    },
    {
     "name": "stderr",
     "output_type": "stream",
     "text": [
      "                                                             \r"
     ]
    },
    {
     "name": "stdout",
     "output_type": "stream",
     "text": [
      "Epoch 167, Train Loss: 0.0318, Validation Loss: 0.0808, Validation F1: 0.9870, Validation F1 Micro: 0.9854, Validation F1 Macro: 0.5661\n"
     ]
    },
    {
     "name": "stderr",
     "output_type": "stream",
     "text": [
      "                                                             \r"
     ]
    },
    {
     "name": "stdout",
     "output_type": "stream",
     "text": [
      "Epoch 168, Train Loss: 0.0345, Validation Loss: 0.0808, Validation F1: 0.9870, Validation F1 Micro: 0.9854, Validation F1 Macro: 0.5661\n"
     ]
    },
    {
     "name": "stderr",
     "output_type": "stream",
     "text": [
      "                                                             \r"
     ]
    },
    {
     "name": "stdout",
     "output_type": "stream",
     "text": [
      "Epoch 169, Train Loss: 0.0336, Validation Loss: 0.0808, Validation F1: 0.9870, Validation F1 Micro: 0.9854, Validation F1 Macro: 0.5661\n"
     ]
    },
    {
     "name": "stderr",
     "output_type": "stream",
     "text": [
      "                                                             \r"
     ]
    },
    {
     "name": "stdout",
     "output_type": "stream",
     "text": [
      "Epoch 170, Train Loss: 0.0327, Validation Loss: 0.0808, Validation F1: 0.9870, Validation F1 Micro: 0.9854, Validation F1 Macro: 0.5661\n"
     ]
    },
    {
     "name": "stderr",
     "output_type": "stream",
     "text": [
      "                                                             \r"
     ]
    },
    {
     "name": "stdout",
     "output_type": "stream",
     "text": [
      "Epoch 171, Train Loss: 0.0302, Validation Loss: 0.0808, Validation F1: 0.9870, Validation F1 Micro: 0.9854, Validation F1 Macro: 0.5661\n"
     ]
    },
    {
     "name": "stderr",
     "output_type": "stream",
     "text": [
      "                                                             \r"
     ]
    },
    {
     "name": "stdout",
     "output_type": "stream",
     "text": [
      "Epoch 172, Train Loss: 0.0354, Validation Loss: 0.0808, Validation F1: 0.9870, Validation F1 Micro: 0.9854, Validation F1 Macro: 0.5661\n"
     ]
    },
    {
     "name": "stderr",
     "output_type": "stream",
     "text": [
      "                                                             \r"
     ]
    },
    {
     "name": "stdout",
     "output_type": "stream",
     "text": [
      "Epoch 173, Train Loss: 0.0354, Validation Loss: 0.0808, Validation F1: 0.9870, Validation F1 Micro: 0.9854, Validation F1 Macro: 0.5661\n"
     ]
    },
    {
     "name": "stderr",
     "output_type": "stream",
     "text": [
      "                                                             \r"
     ]
    },
    {
     "name": "stdout",
     "output_type": "stream",
     "text": [
      "Epoch 174, Train Loss: 0.0335, Validation Loss: 0.0808, Validation F1: 0.9870, Validation F1 Micro: 0.9854, Validation F1 Macro: 0.5661\n"
     ]
    },
    {
     "name": "stderr",
     "output_type": "stream",
     "text": [
      "                                                             \r"
     ]
    },
    {
     "name": "stdout",
     "output_type": "stream",
     "text": [
      "Epoch 175, Train Loss: 0.0316, Validation Loss: 0.0808, Validation F1: 0.9870, Validation F1 Micro: 0.9854, Validation F1 Macro: 0.5661\n"
     ]
    },
    {
     "name": "stderr",
     "output_type": "stream",
     "text": [
      "                                                             \r"
     ]
    },
    {
     "name": "stdout",
     "output_type": "stream",
     "text": [
      "Epoch 176, Train Loss: 0.0336, Validation Loss: 0.0808, Validation F1: 0.9870, Validation F1 Micro: 0.9854, Validation F1 Macro: 0.5661\n"
     ]
    },
    {
     "name": "stderr",
     "output_type": "stream",
     "text": [
      "                                                             \r"
     ]
    },
    {
     "name": "stdout",
     "output_type": "stream",
     "text": [
      "Epoch 177, Train Loss: 0.0343, Validation Loss: 0.0808, Validation F1: 0.9870, Validation F1 Micro: 0.9854, Validation F1 Macro: 0.5661\n"
     ]
    },
    {
     "name": "stderr",
     "output_type": "stream",
     "text": [
      "                                                             \r"
     ]
    },
    {
     "name": "stdout",
     "output_type": "stream",
     "text": [
      "Epoch 178, Train Loss: 0.0305, Validation Loss: 0.0808, Validation F1: 0.9870, Validation F1 Micro: 0.9854, Validation F1 Macro: 0.5661\n"
     ]
    },
    {
     "name": "stderr",
     "output_type": "stream",
     "text": [
      "                                                             \r"
     ]
    },
    {
     "name": "stdout",
     "output_type": "stream",
     "text": [
      "Epoch 179, Train Loss: 0.0339, Validation Loss: 0.0808, Validation F1: 0.9870, Validation F1 Micro: 0.9854, Validation F1 Macro: 0.5661\n"
     ]
    },
    {
     "name": "stderr",
     "output_type": "stream",
     "text": [
      "                                                             \r"
     ]
    },
    {
     "name": "stdout",
     "output_type": "stream",
     "text": [
      "Epoch 180, Train Loss: 0.0362, Validation Loss: 0.0808, Validation F1: 0.9870, Validation F1 Micro: 0.9854, Validation F1 Macro: 0.5661\n"
     ]
    },
    {
     "name": "stderr",
     "output_type": "stream",
     "text": [
      "                                                             \r"
     ]
    },
    {
     "name": "stdout",
     "output_type": "stream",
     "text": [
      "Epoch 181, Train Loss: 0.0345, Validation Loss: 0.0808, Validation F1: 0.9870, Validation F1 Micro: 0.9854, Validation F1 Macro: 0.5661\n"
     ]
    },
    {
     "name": "stderr",
     "output_type": "stream",
     "text": [
      "                                                             \r"
     ]
    },
    {
     "name": "stdout",
     "output_type": "stream",
     "text": [
      "Epoch 182, Train Loss: 0.0332, Validation Loss: 0.0808, Validation F1: 0.9870, Validation F1 Micro: 0.9854, Validation F1 Macro: 0.5661\n"
     ]
    },
    {
     "name": "stderr",
     "output_type": "stream",
     "text": [
      "                                                             \r"
     ]
    },
    {
     "name": "stdout",
     "output_type": "stream",
     "text": [
      "Epoch 183, Train Loss: 0.0340, Validation Loss: 0.0808, Validation F1: 0.9870, Validation F1 Micro: 0.9854, Validation F1 Macro: 0.5661\n"
     ]
    },
    {
     "name": "stderr",
     "output_type": "stream",
     "text": [
      "                                                             \r"
     ]
    },
    {
     "name": "stdout",
     "output_type": "stream",
     "text": [
      "Epoch 184, Train Loss: 0.0355, Validation Loss: 0.0808, Validation F1: 0.9870, Validation F1 Micro: 0.9854, Validation F1 Macro: 0.5661\n"
     ]
    },
    {
     "name": "stderr",
     "output_type": "stream",
     "text": [
      "                                                             \r"
     ]
    },
    {
     "name": "stdout",
     "output_type": "stream",
     "text": [
      "Epoch 185, Train Loss: 0.0337, Validation Loss: 0.0808, Validation F1: 0.9870, Validation F1 Micro: 0.9854, Validation F1 Macro: 0.5661\n"
     ]
    },
    {
     "name": "stderr",
     "output_type": "stream",
     "text": [
      "                                                             \r"
     ]
    },
    {
     "name": "stdout",
     "output_type": "stream",
     "text": [
      "Epoch 186, Train Loss: 0.0310, Validation Loss: 0.0808, Validation F1: 0.9870, Validation F1 Micro: 0.9854, Validation F1 Macro: 0.5661\n"
     ]
    },
    {
     "name": "stderr",
     "output_type": "stream",
     "text": [
      "                                                             \r"
     ]
    },
    {
     "name": "stdout",
     "output_type": "stream",
     "text": [
      "Epoch 187, Train Loss: 0.0317, Validation Loss: 0.0808, Validation F1: 0.9870, Validation F1 Micro: 0.9854, Validation F1 Macro: 0.5661\n"
     ]
    },
    {
     "name": "stderr",
     "output_type": "stream",
     "text": [
      "                                                             \r"
     ]
    },
    {
     "name": "stdout",
     "output_type": "stream",
     "text": [
      "Epoch 188, Train Loss: 0.0334, Validation Loss: 0.0808, Validation F1: 0.9870, Validation F1 Micro: 0.9854, Validation F1 Macro: 0.5661\n"
     ]
    },
    {
     "name": "stderr",
     "output_type": "stream",
     "text": [
      "                                                             \r"
     ]
    },
    {
     "name": "stdout",
     "output_type": "stream",
     "text": [
      "Epoch 189, Train Loss: 0.0355, Validation Loss: 0.0808, Validation F1: 0.9870, Validation F1 Micro: 0.9854, Validation F1 Macro: 0.5661\n"
     ]
    },
    {
     "name": "stderr",
     "output_type": "stream",
     "text": [
      "                                                             \r"
     ]
    },
    {
     "name": "stdout",
     "output_type": "stream",
     "text": [
      "Epoch 190, Train Loss: 0.0362, Validation Loss: 0.0808, Validation F1: 0.9870, Validation F1 Micro: 0.9854, Validation F1 Macro: 0.5661\n"
     ]
    },
    {
     "name": "stderr",
     "output_type": "stream",
     "text": [
      "                                                             \r"
     ]
    },
    {
     "name": "stdout",
     "output_type": "stream",
     "text": [
      "Epoch 191, Train Loss: 0.0338, Validation Loss: 0.0808, Validation F1: 0.9870, Validation F1 Micro: 0.9854, Validation F1 Macro: 0.5661\n"
     ]
    },
    {
     "name": "stderr",
     "output_type": "stream",
     "text": [
      "                                                             \r"
     ]
    },
    {
     "name": "stdout",
     "output_type": "stream",
     "text": [
      "Epoch 192, Train Loss: 0.0317, Validation Loss: 0.0808, Validation F1: 0.9870, Validation F1 Micro: 0.9854, Validation F1 Macro: 0.5661\n"
     ]
    },
    {
     "name": "stderr",
     "output_type": "stream",
     "text": [
      "                                                             \r"
     ]
    },
    {
     "name": "stdout",
     "output_type": "stream",
     "text": [
      "Epoch 193, Train Loss: 0.0338, Validation Loss: 0.0808, Validation F1: 0.9870, Validation F1 Micro: 0.9854, Validation F1 Macro: 0.5661\n"
     ]
    },
    {
     "name": "stderr",
     "output_type": "stream",
     "text": [
      "                                                             \r"
     ]
    },
    {
     "name": "stdout",
     "output_type": "stream",
     "text": [
      "Epoch 194, Train Loss: 0.0339, Validation Loss: 0.0808, Validation F1: 0.9870, Validation F1 Micro: 0.9854, Validation F1 Macro: 0.5661\n"
     ]
    },
    {
     "name": "stderr",
     "output_type": "stream",
     "text": [
      "                                                             \r"
     ]
    },
    {
     "name": "stdout",
     "output_type": "stream",
     "text": [
      "Epoch 195, Train Loss: 0.0349, Validation Loss: 0.0808, Validation F1: 0.9870, Validation F1 Micro: 0.9854, Validation F1 Macro: 0.5661\n"
     ]
    },
    {
     "name": "stderr",
     "output_type": "stream",
     "text": [
      "                                                             \r"
     ]
    },
    {
     "name": "stdout",
     "output_type": "stream",
     "text": [
      "Epoch 196, Train Loss: 0.0338, Validation Loss: 0.0808, Validation F1: 0.9870, Validation F1 Micro: 0.9854, Validation F1 Macro: 0.5661\n"
     ]
    },
    {
     "name": "stderr",
     "output_type": "stream",
     "text": [
      "                                                             \r"
     ]
    },
    {
     "name": "stdout",
     "output_type": "stream",
     "text": [
      "Epoch 197, Train Loss: 0.0318, Validation Loss: 0.0808, Validation F1: 0.9870, Validation F1 Micro: 0.9854, Validation F1 Macro: 0.5661\n"
     ]
    },
    {
     "name": "stderr",
     "output_type": "stream",
     "text": [
      "                                                             \r"
     ]
    },
    {
     "name": "stdout",
     "output_type": "stream",
     "text": [
      "Epoch 198, Train Loss: 0.0301, Validation Loss: 0.0808, Validation F1: 0.9870, Validation F1 Micro: 0.9854, Validation F1 Macro: 0.5661\n"
     ]
    },
    {
     "name": "stderr",
     "output_type": "stream",
     "text": [
      "                                                             \r"
     ]
    },
    {
     "name": "stdout",
     "output_type": "stream",
     "text": [
      "Epoch 199, Train Loss: 0.0307, Validation Loss: 0.0808, Validation F1: 0.9870, Validation F1 Micro: 0.9854, Validation F1 Macro: 0.5661\n",
      "Model training completed and saved.\n"
     ]
    }
   ],
   "source": [
    "# Best parameters from the grid search\n",
    "best_hidden_dim = 512  # Replace with the best hidden_dim found\n",
    "best_learning_rate = 0.005  # Replace with the best learning_rate found\n",
    "best_drop_out = 0.3  # Replace with the best drop_out found\n",
    "if FIRST_RUN:\n",
    "\n",
    "    max_epochs = 200\n",
    "    # patience = 10\n",
    "\n",
    "    print(\"Number of train graphs: \", len(train_graph_dataset))\n",
    "\n",
    "    # Initialize the model with the best parameters\n",
    "    model = EGraphSAGE(node_in_channels=num_features, \n",
    "                    edge_in_channels=num_features,\n",
    "                    hidden_channels=best_hidden_dim,\n",
    "                    dropout = best_drop_out,\n",
    "                    out_channels=num_classes).to(device)\n",
    "\n",
    "    model.apply(init_weights)\n",
    "\n",
    "    # Normalize class weights\n",
    "    class_weights = th.FloatTensor(train_graph_dataset.class_weights).to(device)\n",
    "    print(\"Class weights:\", class_weights)\n",
    "\n",
    "    # Define the loss function and optimizer\n",
    "    criterion = nn.CrossEntropyLoss(weight=class_weights)\n",
    "    optimizer = th.optim.Adam(model.parameters(), lr=best_learning_rate)\n",
    "    scheduler = th.optim.lr_scheduler.ReduceLROnPlateau(\n",
    "        optimizer,\n",
    "        mode='min',\n",
    "        factor=0.6,\n",
    "        patience=5,\n",
    "        min_lr=1e-6,\n",
    "    )\n",
    "\n",
    "    # ===== Load checkpoint if exists =====\n",
    "    start_epoch = 0\n",
    "    best_f1 = 0\n",
    "\n",
    "    # patience_counter = 0\n",
    "    best_val_loss = float('inf')\n",
    "    train_ended = False\n",
    "\n",
    "    train_loss_history = []\n",
    "    val_loss_history = []\n",
    "    val_f1_history = []\n",
    "    saved_model_epochs = []\n",
    "\n",
    "    if os.path.exists(checkpoint_path):\n",
    "        checkpoint = th.load(checkpoint_path)\n",
    "        model.load_state_dict(checkpoint['model_state_dict'])\n",
    "        optimizer.load_state_dict(checkpoint['optimizer_state_dict'])\n",
    "        scheduler.load_state_dict(checkpoint['scheduler_state_dict'])\n",
    "\n",
    "        train_ended = checkpoint['train_ended']\n",
    "        best_f1 = checkpoint['best_f1']\n",
    "\n",
    "        assert max_epochs == checkpoint['max_epochs'], \"Checkpoint max_epochs does not match the current setting.\"\n",
    "        # assert patience == checkpoint['patience'], \"Checkpoint patience does not match the current setting.\"\n",
    "\n",
    "        # patience_counter = checkpoint['patience_counter']\n",
    "        # best_val_loss = checkpoint['best_val_loss']\n",
    "\n",
    "        start_epoch = checkpoint['epoch'] + 1\n",
    "\n",
    "        train_loss_history = checkpoint['train_loss_history']\n",
    "        val_loss_history = checkpoint['val_loss_history']\n",
    "        val_f1_history = checkpoint['val_f1_history']\n",
    "        saved_model_epochs = checkpoint['saved_model_epochs']\n",
    "        print(f\"Resumed training from epoch {start_epoch}\")\n",
    "\n",
    "    if train_ended:\n",
    "        model.load_state_dict(th.load(best_model_path))\n",
    "        print(\"Training has already ended. Loaded the best model state.\")\n",
    "        print(\"Training history loaded successfully.\")\n",
    "\n",
    "    else:\n",
    "        # ===== Start Training =====\n",
    "        num_train_graphs = len(train_graph_dataset)\n",
    "        num_val_graphs = len(val_graph_dataset)\n",
    "\n",
    "        for epoch in range(start_epoch, max_epochs):\n",
    "\n",
    "            model.train()\n",
    "\n",
    "            train_loss = 0\n",
    "            val_loss = 0\n",
    "\n",
    "            optimizer.zero_grad()\n",
    "            for G_pyg_train in tqdm(train_graph_dataset, desc=\"Training\", leave=False):\n",
    "\n",
    "                # Move the graph data to the device\n",
    "                G_pyg_train = G_pyg_train.to(device)\n",
    "                G_pyg_train.edge_label = G_pyg_train.edge_label.to(device)\n",
    "                G_pyg_train.edge_attr = G_pyg_train.edge_attr.to(device)\n",
    "\n",
    "                out = model(G_pyg_train)\n",
    "                loss = criterion(out, G_pyg_train.edge_label) / num_train_graphs\n",
    "                \n",
    "                train_loss += loss.item()\n",
    "                loss.backward()\n",
    "\n",
    "            optimizer.step()\n",
    "            \n",
    "            test_label_list = []\n",
    "            pred_label_list = []\n",
    "\n",
    "            model.eval()\n",
    "            with th.no_grad():\n",
    "                for G_pyg_val in tqdm(val_graph_dataset, desc=\"Evaluation\", leave=False):\n",
    "                    G_pyg_val = G_pyg_val.to(device)\n",
    "                    G_pyg_val.edge_label = G_pyg_val.edge_label.to(device)\n",
    "                    G_pyg_val.edge_attr = G_pyg_val.edge_attr.to(device)\n",
    "\n",
    "                    out = model(G_pyg_val)\n",
    "                    loss = criterion(out, G_pyg_val.edge_label) / num_val_graphs\n",
    "                    val_loss += loss.item()\n",
    "\n",
    "                    test_label_list.append(G_pyg_val.edge_label.cpu())\n",
    "                    pred_label_list.append(out.argmax(dim=1).cpu())\n",
    "\n",
    "            test_label = th.cat(test_label_list)\n",
    "            pred_label = th.cat(pred_label_list)\n",
    "\n",
    "            val_f1 = f1_score(test_label, pred_label, average='weighted')\n",
    "            val_f1_micro = f1_score(test_label, pred_label, average='micro')\n",
    "            val_f1_macro = f1_score(test_label, pred_label, average='macro')\n",
    "\n",
    "            train_loss_history.append(train_loss)\n",
    "            val_loss_history.append(val_loss)\n",
    "            val_f1_history.append((val_f1, val_f1_micro, val_f1_macro))\n",
    "\n",
    "            # Schedule step\n",
    "            scheduler.step(val_loss)\n",
    "\n",
    "            if val_f1 > best_f1:\n",
    "                best_f1 = val_f1  # Update the best F1 score for this fold\n",
    "                best_model_state = model.state_dict()\n",
    "                saved_model_epochs.append(epoch)\n",
    "\n",
    "                save_checkpoint()\n",
    "                th.save(best_model_state, best_model_path)\n",
    "                print(f\"Epoch {epoch} Saved best model. Best F1:\", best_f1)\n",
    "\n",
    "            print(f'Epoch {epoch}, Train Loss: {train_loss:.4f}, Validation Loss: {val_loss:.4f}, Validation F1: {val_f1:.4f}, Validation F1 Micro: {val_f1_micro:.4f}, Validation F1 Macro: {val_f1_macro:.4f}')\n",
    "            \n",
    "            if epoch % 10 == 0:\n",
    "                save_checkpoint()\n",
    "\n",
    "            # # Early stopping condition\n",
    "            # if val_loss < best_val_loss:\n",
    "            #     best_val_loss = val_loss\n",
    "            #     patience_counter = 0\n",
    "            # else:\n",
    "            #     patience_counter += 1\n",
    "\n",
    "            # if patience_counter >= patience:\n",
    "            #     print(f\"\\n🛑 Early stopping triggered at epoch {epoch}.\")\n",
    "            #     train_ended = True\n",
    "            #     break\n",
    "\n",
    "        # Save the trained model\n",
    "        train_ended = True\n",
    "        save_checkpoint()\n",
    "        print(\"Model training completed and saved.\")"
   ]
  },
  {
   "cell_type": "code",
   "execution_count": 26,
   "id": "f64c2932",
   "metadata": {},
   "outputs": [],
   "source": [
    "def plot_training_process():\n",
    "    checkpoint = th.load(checkpoint_path)\n",
    "\n",
    "    train_loss_history = checkpoint['train_loss_history']\n",
    "    val_loss_history = checkpoint['val_loss_history']\n",
    "    val_f1_history = checkpoint['val_f1_history']\n",
    "    saved_model_epochs = checkpoint['saved_model_epochs']\n",
    "\n",
    "    fig, axs = plt.subplots(2, 1, figsize=(10, 8), sharex=True)\n",
    "\n",
    "    # Plot Train Loss\n",
    "    axs[0].plot(train_loss_history, label='Train Loss', color='blue')\n",
    "    axs[0].plot(val_loss_history, label='Validation Loss', color='red')\n",
    "    axs[0].set_ylabel('Train Loss')\n",
    "    axs[0].set_title('Training Loss')\n",
    "    axs[0].legend()\n",
    "    axs[0].grid()\n",
    "\n",
    "    val_f1_weighted_history = []\n",
    "    val_f1_micro_history = []\n",
    "    val_f1_macro_history = []\n",
    "\n",
    "    for val_f1_weighted, val_f1_micro, val_f1_macro in val_f1_history:\n",
    "        val_f1_weighted_history.append(val_f1_weighted)\n",
    "        val_f1_micro_history.append(val_f1_micro)\n",
    "        val_f1_macro_history.append(val_f1_macro)\n",
    "    \n",
    "    # Plot Validation F1\n",
    "\n",
    "    axs[1].plot(val_f1_weighted_history, label='Validation F1 Weighted', color='green')\n",
    "    axs[1].plot(val_f1_micro_history, label='Validation F1 Micro', color='blue')\n",
    "    axs[1].plot(val_f1_macro_history, label='Validation F1 Macro', color='red')\n",
    "    axs[1].set_xlabel('Epochs')\n",
    "    axs[1].set_ylabel('Validation F1')\n",
    "    axs[1].set_title('Validation F1 Score')\n",
    "    axs[1].legend()\n",
    "    axs[1].grid()\n",
    "\n",
    "    # Add scatter for saved model epochs (e.g., F1 weighted here)\n",
    "    axs[1].scatter(saved_model_epochs, [val_f1_weighted_history[i] for i in saved_model_epochs],\n",
    "                   color='black', marker='o', label='Saved Model')\n",
    "    axs[1].legend()\n",
    "\n",
    "    print(len(train_loss_history))\n",
    "\n",
    "    plt.tight_layout()\n",
    "    plt.show()"
   ]
  },
  {
   "cell_type": "code",
   "execution_count": 27,
   "id": "2572f236",
   "metadata": {},
   "outputs": [
    {
     "name": "stdout",
     "output_type": "stream",
     "text": [
      "200\n"
     ]
    },
    {
     "data": {
      "image/png": "[encoded data removed]",
      "text/plain": [
       "<Figure size 1000x800 with 2 Axes>"
      ]
     },
     "metadata": {},
     "output_type": "display_data"
    }
   ],
   "source": [
    "plot_training_process()"
   ]
  },
  {
   "cell_type": "code",
   "execution_count": 28,
   "id": "f060684d",
   "metadata": {},
   "outputs": [
    {
     "name": "stdout",
     "output_type": "stream",
     "text": [
      "Average, Min, and Max Degrees Across All Graphs:\n",
      "  Attack Class ['BENIGN']:\n",
      "    Avg Out-Degree (src): 14.7999 | Min: 1 | Max: 2291\n",
      "    Avg In-Degree (dst): 9.9112 | Min: 1 | Max: 1813\n",
      "    Influence: 22.1000 | Min: 0.0006 | Max: 5248675.7513\n",
      "  Attack Class ['Bot']:\n",
      "    Avg Out-Degree (src): 12.3333 | Min: 1 | Max: 110\n",
      "    Avg In-Degree (dst): 22.2000 | Min: 5 | Max: 127\n",
      "    Influence: 6.8519 | Min: 0.0079 | Max: 2419.9995\n",
      "  Attack Class ['DDoS']:\n",
      "    Avg Out-Degree (src): 2003.4444 | Min: 799 | Max: 3000\n",
      "    Avg In-Degree (dst): 2003.4444 | Min: 799 | Max: 3000\n",
      "    Influence: 2003.4444 | Min: 212.8003 | Max: 11264.0801\n",
      "  Attack Class ['DoS GoldenEye']:\n",
      "    Avg Out-Degree (src): 1504.0000 | Min: 1504 | Max: 1504\n",
      "    Avg In-Degree (dst): 1504.0000 | Min: 1504 | Max: 1504\n",
      "    Influence: 1504.0000 | Min: 1504.0000 | Max: 1504.0000\n",
      "  Attack Class ['DoS Hulk']:\n",
      "    Avg Out-Degree (src): 2759.2308 | Min: 2150 | Max: 2970\n",
      "    Avg In-Degree (dst): 2759.2308 | Min: 2150 | Max: 2970\n",
      "    Influence: 2759.2308 | Min: 1556.3973 | Max: 4102.7442\n",
      "  Attack Class ['DoS Slowhttptest']:\n",
      "    Avg Out-Degree (src): 414.5000 | Min: 45 | Max: 784\n",
      "    Avg In-Degree (dst): 414.5000 | Min: 45 | Max: 784\n",
      "    Influence: 414.5000 | Min: 2.5829 | Max: 13659.0219\n",
      "  Attack Class ['DoS slowloris']:\n",
      "    Avg Out-Degree (src): 404.5000 | Min: 91 | Max: 718\n",
      "    Avg In-Degree (dst): 404.5000 | Min: 91 | Max: 718\n",
      "    Influence: 404.5000 | Min: 11.5334 | Max: 5665.0988\n",
      "  Attack Class ['FTP-Patator']:\n",
      "    Avg Out-Degree (src): 226.0000 | Min: 1 | Max: 373\n",
      "    Avg In-Degree (dst): 226.0000 | Min: 1 | Max: 373\n",
      "    Influence: 226.0000 | Min: 0.0027 | Max: 139128.8609\n",
      "  Attack Class ['Heartbleed']:\n",
      "    Avg Out-Degree (src): 1.0000 | Min: 1 | Max: 1\n",
      "    Avg In-Degree (dst): 1.0000 | Min: 1 | Max: 1\n",
      "    Influence: 1.0000 | Min: 1.0000 | Max: 1.0000\n",
      "  Attack Class ['Infiltration']:\n",
      "    Avg Out-Degree (src): 1.5000 | Min: 1 | Max: 2\n",
      "    Avg In-Degree (dst): 1.5000 | Min: 1 | Max: 2\n",
      "    Influence: 1.5000 | Min: 0.5000 | Max: 4.0000\n",
      "  Attack Class ['PortScan']:\n",
      "    Avg Out-Degree (src): 2503.6000 | Min: 61 | Max: 2978\n",
      "    Avg In-Degree (dst): 2503.6000 | Min: 61 | Max: 2978\n",
      "    Influence: 2503.6000 | Min: 1.2495 | Max: 145384.9812\n",
      "  Attack Class ['SSH-Patator']:\n",
      "    Avg Out-Degree (src): 209.7500 | Min: 103 | Max: 363\n",
      "    Avg In-Degree (dst): 209.7500 | Min: 103 | Max: 363\n",
      "    Influence: 209.7500 | Min: 29.2259 | Max: 1279.3107\n",
      "  Attack Class ['Web Attack - Brute Force']:\n",
      "    Avg Out-Degree (src): 54.3333 | Min: 7 | Max: 80\n",
      "    Avg In-Degree (dst): 54.3333 | Min: 7 | Max: 80\n",
      "    Influence: 54.3333 | Min: 0.6125 | Max: 914.2856\n",
      "  Attack Class ['Web Attack - XSS']:\n",
      "    Avg Out-Degree (src): 126.0000 | Min: 126 | Max: 126\n",
      "    Avg In-Degree (dst): 126.0000 | Min: 126 | Max: 126\n",
      "    Influence: 126.0000 | Min: 126.0000 | Max: 126.0000\n"
     ]
    }
   ],
   "source": [
    "import torch\n",
    "from torch_geometric.utils import degree\n",
    "from collections import defaultdict\n",
    "\n",
    "def check_global_avg_degrees_per_class(graph_dataset):\n",
    "    # Dictionaries to hold total degree sums and counts per class\n",
    "    total_out_deg = defaultdict(float)\n",
    "    total_in_deg = defaultdict(float)\n",
    "    count_out_nodes = defaultdict(int)\n",
    "    count_in_nodes = defaultdict(int)\n",
    "    min_out_deg = defaultdict(lambda: float('inf'))\n",
    "    max_out_deg = defaultdict(lambda: float('-inf'))\n",
    "    min_in_deg = defaultdict(lambda: float('inf'))\n",
    "    max_in_deg = defaultdict(lambda: float('-inf'))\n",
    "\n",
    "    for graph in graph_dataset:\n",
    "        edge_index = graph.edge_index\n",
    "        edge_label = graph.edge_label\n",
    "        num_nodes = graph.num_nodes\n",
    "\n",
    "        unique_classes = torch.unique(edge_label)\n",
    "\n",
    "        for cls in unique_classes:\n",
    "            cls = int(cls)\n",
    "            mask = (edge_label == cls)\n",
    "\n",
    "            src_nodes = edge_index[0][mask]\n",
    "            dst_nodes = edge_index[1][mask]\n",
    "\n",
    "            out_deg = degree(src_nodes, num_nodes=num_nodes)\n",
    "            in_deg = degree(dst_nodes, num_nodes=num_nodes)\n",
    "\n",
    "            involved_src = out_deg > 0\n",
    "            involved_dst = in_deg > 0\n",
    "\n",
    "            total_out_deg[cls] += out_deg[involved_src].sum().item()\n",
    "            total_in_deg[cls] += in_deg[involved_dst].sum().item()\n",
    "            count_out_nodes[cls] += involved_src.sum().item()\n",
    "            count_in_nodes[cls] += involved_dst.sum().item()\n",
    "\n",
    "            if involved_src.any():\n",
    "                min_out_deg[cls] = min(min_out_deg[cls], out_deg[involved_src].min().item())\n",
    "                max_out_deg[cls] = max(max_out_deg[cls], out_deg[involved_src].max().item())\n",
    "            if involved_dst.any():\n",
    "                min_in_deg[cls] = min(min_in_deg[cls], in_deg[involved_dst].min().item())\n",
    "                max_in_deg[cls] = max(max_in_deg[cls], in_deg[involved_dst].max().item())\n",
    "\n",
    "    print(\"Average, Min, and Max Degrees Across All Graphs:\")\n",
    "    class_degree_report = {}\n",
    "    for cls in sorted(total_out_deg.keys()):\n",
    "        avg_out = total_out_deg[cls] / count_out_nodes[cls] if count_out_nodes[cls] > 0 else 0.0\n",
    "        avg_in = total_in_deg[cls] / count_in_nodes[cls] if count_in_nodes[cls] > 0 else 0.0\n",
    "        min_out = min_out_deg[cls] if min_out_deg[cls] != float('inf') else 0.0\n",
    "        max_out = max_out_deg[cls] if max_out_deg[cls] != float('-inf') else 0.0\n",
    "        min_in = min_in_deg[cls] if min_in_deg[cls] != float('inf') else 0.0\n",
    "        max_in = max_in_deg[cls] if max_in_deg[cls] != float('-inf') else 0.0\n",
    "\n",
    "        epsilon = 1e-6 # to avoid division by zero\n",
    "        avg_influence = (avg_out ** 2) / ((avg_in + epsilon))\n",
    "        max_influence = (max_out ** 2) / ((min_in + epsilon))\n",
    "        min_influence = (min_out ** 2) / ((max_in + epsilon))\n",
    "\n",
    "        print(f\"  Attack Class {le.inverse_transform([cls])}:\")\n",
    "        print(f\"    Avg Out-Degree (src): {avg_out:.4f} | Min: {min_out:.0f} | Max: {max_out:.0f}\")\n",
    "        print(f\"    Avg In-Degree (dst): {avg_in:.4f} | Min: {min_in:.0f} | Max: {max_in:.0f}\")\n",
    "        print(f\"    Influence: {avg_influence:.4f} | Min: {min_influence:.4f} | Max: {max_influence:.4f}\")\n",
    "\n",
    "        class_degree_report[le.inverse_transform([cls])[0]] = {\n",
    "            \"avg_out\": avg_out,\n",
    "            \"min_out\": min_out,\n",
    "            \"max_out\": max_out,\n",
    "            \"avg_in\": avg_in,\n",
    "            \"min_in\": min_in,\n",
    "            \"max_in\": max_in,\n",
    "            \"avg_influence\": avg_influence,\n",
    "            \"min_influence\": min_influence,\n",
    "            \"max_influence\": max_influence\n",
    "        }\n",
    "\n",
    "    return class_degree_report\n",
    "\n",
    "class_degree_report = check_global_avg_degrees_per_class(test_graph_dataset)"
   ]
  },
  {
   "cell_type": "code",
   "execution_count": 29,
   "id": "857f271a-612b-4cd6-a85a-e4236dec9d80",
   "metadata": {},
   "outputs": [
    {
     "name": "stdout",
     "output_type": "stream",
     "text": [
      "Number of test graphs:  142\n",
      "Loading model from /vol/bitbucket/shc20/FYP/GNN-Adversarial-Attack/Models/E_GraphSAGE_edge/CIC_IDS_2017/saved/strat_window_host_3000/best_model.pth\n",
      "inference start\n"
     ]
    },
    {
     "name": "stderr",
     "output_type": "stream",
     "text": [
      "Evaluation:   0%|          | 0/142 [00:00<?, ?it/s]"
     ]
    },
    {
     "name": "stderr",
     "output_type": "stream",
     "text": [
      "/vol/bitbucket/shc20/FYP/GNN-Adversarial-Attack/.venv/lib/python3.12/site-packages/sklearn/metrics/_classification.py:1565: UndefinedMetricWarning: Recall is ill-defined and being set to 0.0 in labels with no true samples. Use `zero_division` parameter to control this behavior.\n",
      "  _warn_prf(average, modifier, f\"{metric.capitalize()} is\", len(result))\n",
      "/vol/bitbucket/shc20/FYP/GNN-Adversarial-Attack/.venv/lib/python3.12/site-packages/sklearn/metrics/_classification.py:1565: UndefinedMetricWarning: Recall is ill-defined and being set to 0.0 in labels with no true samples. Use `zero_division` parameter to control this behavior.\n",
      "  _warn_prf(average, modifier, f\"{metric.capitalize()} is\", len(result))\n"
     ]
    },
    {
     "name": "stdout",
     "output_type": "stream",
     "text": [
      "Test Accuracy: 0.9920\n",
      "class_map ['BENIGN' 'Bot' 'DDoS' 'DoS GoldenEye' 'DoS Hulk' 'DoS Slowhttptest'\n",
      " 'DoS slowloris' 'FTP-Patator' 'Heartbleed' 'Infiltration' 'PortScan'\n",
      " 'SSH-Patator' 'Web Attack - Brute Force' 'Web Attack - Sql Injection'\n",
      " 'Web Attack - XSS']\n",
      "[[337871   1127     52     11     75    136     34    137    106    204\n",
      "     828    411     50    118     52]\n",
      " [     0    444      0      0      0      0      0      0      0      0\n",
      "       0      0      0      0      0]\n",
      " [     0      0  18031      0      0      0      0      0      0      0\n",
      "       0      0      0      0      0]\n",
      " [     0      0      0   1504      0      0      0      0      0      0\n",
      "       0      0      0      0      0]\n",
      " [     0      0      0      0  35870      0      0      0      0      0\n",
      "       0      0      0      0      0]\n",
      " [     0      0      0      0      0    829      0      0      0      0\n",
      "       0      0      0      0      0]\n",
      " [     0      0      0      0      0      0    809      0      0      0\n",
      "       0      0      0      0      0]\n",
      " [     0      0      0      0      0      0      0   1129      0      0\n",
      "       0      1      0      0      0]\n",
      " [     0      0      0      0      0      0      0      0      1      0\n",
      "       0      0      0      0      0]\n",
      " [     2      0      0      0      0      0      0      0      0      4\n",
      "       0      0      0      0      0]\n",
      " [     0      0      0      0      0      0      0      0      0      0\n",
      "   24975      0      0     61      0]\n",
      " [     0      0      0      0      0      0      0      0      0      0\n",
      "       0    839      0      0      0]\n",
      " [     0      0      0      0      0      0      0      0      0      0\n",
      "       0      0    163      0      0]\n",
      " [     0      0      0      0      0      0      0      0      0      0\n",
      "       0      0      0      0      0]\n",
      " [     0      0      0      0      0      0      0      0      0      0\n",
      "       0      0      0      0    126]]\n",
      "                            precision    recall  f1-score   support\n",
      "\n",
      "                    BENIGN     1.0000    0.9902    0.9951    341212\n",
      "                       Bot     0.2826    1.0000    0.4407       444\n",
      "                      DDoS     0.9971    1.0000    0.9986     18031\n",
      "             DoS GoldenEye     0.9927    1.0000    0.9964      1504\n",
      "                  DoS Hulk     0.9979    1.0000    0.9990     35870\n",
      "          DoS Slowhttptest     0.8591    1.0000    0.9242       829\n",
      "             DoS slowloris     0.9597    1.0000    0.9794       809\n",
      "               FTP-Patator     0.8918    0.9991    0.9424      1130\n",
      "                Heartbleed     0.0093    1.0000    0.0185         1\n",
      "              Infiltration     0.0192    0.6667    0.0374         6\n",
      "                  PortScan     0.9679    0.9976    0.9825     25036\n",
      "               SSH-Patator     0.6707    1.0000    0.8029       839\n",
      "  Web Attack - Brute Force     0.7653    1.0000    0.8670       163\n",
      "Web Attack - Sql Injection     0.0000    0.0000    0.0000         0\n",
      "          Web Attack - XSS     0.7079    1.0000    0.8289       126\n",
      "\n",
      "                  accuracy                         0.9920    426000\n",
      "                 macro avg     0.6747    0.9102    0.7209    426000\n",
      "              weighted avg     0.9956    0.9920    0.9934    426000\n",
      "\n"
     ]
    },
    {
     "name": "stderr",
     "output_type": "stream",
     "text": [
      "/vol/bitbucket/shc20/FYP/GNN-Adversarial-Attack/.venv/lib/python3.12/site-packages/sklearn/metrics/_classification.py:1565: UndefinedMetricWarning: Recall is ill-defined and being set to 0.0 in labels with no true samples. Use `zero_division` parameter to control this behavior.\n",
      "  _warn_prf(average, modifier, f\"{metric.capitalize()} is\", len(result))\n",
      "/vol/bitbucket/shc20/FYP/GNN-Adversarial-Attack/.venv/lib/python3.12/site-packages/sklearn/metrics/_classification.py:1565: UndefinedMetricWarning: Recall is ill-defined and being set to 0.0 in labels with no true samples. Use `zero_division` parameter to control this behavior.\n",
      "  _warn_prf(average, modifier, f\"{metric.capitalize()} is\", len(result))\n",
      "/vol/bitbucket/shc20/FYP/GNN-Adversarial-Attack/.venv/lib/python3.12/site-packages/sklearn/metrics/_classification.py:1565: UndefinedMetricWarning: Recall is ill-defined and being set to 0.0 in labels with no true samples. Use `zero_division` parameter to control this behavior.\n",
      "  _warn_prf(average, modifier, f\"{metric.capitalize()} is\", len(result))\n",
      "/vol/bitbucket/shc20/FYP/GNN-Adversarial-Attack/.venv/lib/python3.12/site-packages/sklearn/metrics/_classification.py:1565: UndefinedMetricWarning: Recall is ill-defined and being set to 0.0 in labels with no true samples. Use `zero_division` parameter to control this behavior.\n",
      "  _warn_prf(average, modifier, f\"{metric.capitalize()} is\", len(result))\n"
     ]
    }
   ],
   "source": [
    "from torch_geometric.utils import subgraph\n",
    "from torch_geometric.data import Data\n",
    "from sklearn.metrics import confusion_matrix\n",
    "from sklearn.metrics import classification_report\n",
    "\n",
    "def compute_accuracy(pred, labels):\n",
    "    return (pred.argmax(1) == labels).float().mean().item()\n",
    "\n",
    "def eval(dataset, adversarial=False):\n",
    "\n",
    "    # Check if dataset is a list of (data, label) tuples or just data objects\n",
    "    if isinstance(dataset[0], (list, tuple)):\n",
    "        data_obj = dataset[0][0]\n",
    "    else:\n",
    "        data_obj = dataset[0]\n",
    "\n",
    "    num_features = data_obj.edge_attr.shape[1]\n",
    "    best_model = EGraphSAGE(node_in_channels=num_features, \n",
    "                       edge_in_channels=num_features,\n",
    "                       hidden_channels=best_hidden_dim, \n",
    "                       out_channels=len(class_map)).to(device)\n",
    "\n",
    "    print(\"Loading model from\", best_model_path)\n",
    "    best_model.load_state_dict(th.load(best_model_path))\n",
    "\n",
    "    best_model.eval()\n",
    "\n",
    "    print(\"inference start\")\n",
    "    with th.no_grad():\n",
    "        all_pred_logits = []\n",
    "        all_test_labels = []\n",
    "        for G_pyg in tqdm(dataset, desc=\"Evaluation\", leave=False):\n",
    "            try:\n",
    "                # Move the graph data to the device\n",
    "                G_pyg = G_pyg.to(device)\n",
    "                G_pyg.edge_label = G_pyg.edge_label.to(device)\n",
    "                G_pyg.edge_attr = G_pyg.edge_attr.to(device)\n",
    "                out = best_model(G_pyg)\n",
    "                \n",
    "            except Exception as forward_error:\n",
    "                print(f\"Error during forward/backward pass at {forward_error}\")\n",
    "\n",
    "            all_pred_logits.append(out.cpu())\n",
    "            all_test_labels.append(G_pyg.edge_label.cpu())\n",
    "\n",
    "        all_pred_logits = th.cat(all_pred_logits).to(device)\n",
    "        all_test_labels = th.cat(all_test_labels).to(device)\n",
    "        test_accuracy = compute_accuracy(all_pred_logits, all_test_labels)\n",
    "        print(f'Test Accuracy: {test_accuracy:.4f}')\n",
    "\n",
    "        pred_labels = all_pred_logits.argmax(dim=1).cpu()\n",
    "        all_test_labels = all_test_labels.cpu()\n",
    "    \n",
    "    if adversarial:\n",
    "\n",
    "        # Create a boolean mask where the label is NOT equal to the adversarial class\n",
    "        adversarial_mask = all_test_labels == ADVERSARIAL_CLASS_LABEL\n",
    "\n",
    "        # Print the class that the adversarial samples are classified as\n",
    "        cm_adversarial = confusion_matrix(all_test_labels[adversarial_mask], pred_labels[adversarial_mask], labels=range(len(class_map) + 1))\n",
    "        print(\"Adversarial confusion matrix:\", cm_adversarial)\n",
    "\n",
    "        # Apply the mask to both labels and predictions\n",
    "        all_test_labels = all_test_labels[~adversarial_mask]\n",
    "        pred_labels = pred_labels[~adversarial_mask]\n",
    "\n",
    "    print(\"class_map\", class_map)\n",
    "    # Generate a report\n",
    "    cm = confusion_matrix(all_test_labels, pred_labels, labels=range(len(class_map)))\n",
    "    print(cm)\n",
    "\n",
    "    report = classification_report(all_test_labels, pred_labels, target_names=class_map, digits=4, labels=range(len(class_map)))\n",
    "    print(report)\n",
    "    \n",
    "    return classification_report(all_test_labels, pred_labels, target_names=class_map, digits=4, output_dict=True, labels=range(len(class_map)))\n",
    "\n",
    "\n",
    "print(\"Number of test graphs: \", len(test_graph_dataset))\n",
    "normal_report = eval(test_graph_dataset)\n"
   ]
  },
  {
   "cell_type": "code",
   "execution_count": 30,
   "id": "cff736d0",
   "metadata": {},
   "outputs": [],
   "source": [
    "def inject_traffic_to_node(graph, ratio=0.1, num_injected_nodes=1, to_node_type='both', random_seed=42):\n",
    "    edge_index = graph.edge_index.clone()\n",
    "    edge_attr = graph.edge_attr.clone()\n",
    "    edge_label = graph.edge_label.clone()\n",
    "    x = graph.x.clone()\n",
    "\n",
    "    num_edges = edge_index.size(1)\n",
    "    feature_dim = graph.x.size(1)\n",
    "\n",
    "    # Get all src nodes\n",
    "    if to_node_type == 'src':\n",
    "         to_nodes = edge_index[0]\n",
    "\n",
    "    elif to_node_type == 'dst':\n",
    "         to_nodes = edge_index[1]\n",
    "\n",
    "    elif to_node_type == 'both':\n",
    "         to_nodes = th.cat([edge_index[0], edge_index[1]])\n",
    "\n",
    "    else:\n",
    "        raise ValueError(\"to_node_type must be 'src', 'dst', or 'both'.\")\n",
    "\n",
    "    original_num_nodes = x.size(0)\n",
    "\n",
    "    new_node_feats = th.ones((num_injected_nodes, feature_dim))\n",
    "    x = th.cat([x, new_node_feats], dim=0)\n",
    "\n",
    "    # 4. Inject edges from injected nodes to attacker nodes\n",
    "    num_to_inject = max(1, int(ratio * num_edges))\n",
    "    new_edges = []\n",
    "    new_attrs = []\n",
    "    new_labels = []\n",
    "    \n",
    "    for i in range(num_to_inject):\n",
    "        rng = random.Random(random_seed + i)  # ensure different seed per iteration\n",
    "        src = rng.randint(original_num_nodes, original_num_nodes + num_injected_nodes - 1)  # from injected nodes\n",
    "        dst = rng.choice(to_nodes.tolist())  # to existing nodes\n",
    "\n",
    "        new_edges.append([src, dst])\n",
    "        attr = th.rand(feature_dim)  # random feature for the new edge\n",
    "        new_attrs.append(attr)\n",
    "        new_labels.append(ADVERSARIAL_CLASS_LABEL)\n",
    "\n",
    "    # Create a new empty graph to store the injected edges\n",
    "    new_graph = Data()\n",
    "\n",
    "    # 5. Merge into graph\n",
    "    if new_edges:\n",
    "        new_edges = th.tensor(new_edges, dtype=th.long).t().contiguous()\n",
    "        new_attrs = th.stack(new_attrs)\n",
    "        new_labels = th.tensor(new_labels, dtype=th.long)\n",
    "\n",
    "        new_graph.edge_index = th.cat([edge_index, new_edges], dim=1)\n",
    "        new_graph.edge_attr = th.cat([edge_attr, new_attrs], dim=0)\n",
    "        new_graph.edge_label = th.cat([edge_label, new_labels], dim=0)\n",
    "        new_graph.x = x\n",
    "\n",
    "    return new_graph\n",
    "\n"
   ]
  },
  {
   "cell_type": "code",
   "execution_count": 31,
   "id": "c0a4cf4a",
   "metadata": {},
   "outputs": [
    {
     "name": "stdout",
     "output_type": "stream",
     "text": [
      "Loading model from /vol/bitbucket/shc20/FYP/GNN-Adversarial-Attack/Models/E_GraphSAGE_edge/CIC_IDS_2017/saved/strat_window_host_3000/best_model.pth\n",
      "inference start\n"
     ]
    },
    {
     "name": "stderr",
     "output_type": "stream",
     "text": [
      "/vol/bitbucket/shc20/FYP/GNN-Adversarial-Attack/.venv/lib/python3.12/site-packages/sklearn/metrics/_classification.py:1565: UndefinedMetricWarning: Recall is ill-defined and being set to 0.0 in labels with no true samples. Use `zero_division` parameter to control this behavior.\n",
      "  _warn_prf(average, modifier, f\"{metric.capitalize()} is\", len(result))\n",
      "/vol/bitbucket/shc20/FYP/GNN-Adversarial-Attack/.venv/lib/python3.12/site-packages/sklearn/metrics/_classification.py:1565: UndefinedMetricWarning: Recall is ill-defined and being set to 0.0 in labels with no true samples. Use `zero_division` parameter to control this behavior.\n",
      "  _warn_prf(average, modifier, f\"{metric.capitalize()} is\", len(result))\n",
      "/vol/bitbucket/shc20/FYP/GNN-Adversarial-Attack/.venv/lib/python3.12/site-packages/sklearn/metrics/_classification.py:1565: UndefinedMetricWarning: Recall is ill-defined and being set to 0.0 in labels with no true samples. Use `zero_division` parameter to control this behavior.\n",
      "  _warn_prf(average, modifier, f\"{metric.capitalize()} is\", len(result))\n",
      "/vol/bitbucket/shc20/FYP/GNN-Adversarial-Attack/.venv/lib/python3.12/site-packages/sklearn/metrics/_classification.py:1565: UndefinedMetricWarning: Recall is ill-defined and being set to 0.0 in labels with no true samples. Use `zero_division` parameter to control this behavior.\n",
      "  _warn_prf(average, modifier, f\"{metric.capitalize()} is\", len(result))\n"
     ]
    },
    {
     "name": "stdout",
     "output_type": "stream",
     "text": [
      "Test Accuracy: 0.8299\n",
      "Adversarial confusion matrix: [[    0     0     0     0     0     0     0     0     0     0     0     0\n",
      "      0     0     0     0]\n",
      " [    0     0     0     0     0     0     0     0     0     0     0     0\n",
      "      0     0     0     0]\n",
      " [    0     0     0     0     0     0     0     0     0     0     0     0\n",
      "      0     0     0     0]\n",
      " [    0     0     0     0     0     0     0     0     0     0     0     0\n",
      "      0     0     0     0]\n",
      " [    0     0     0     0     0     0     0     0     0     0     0     0\n",
      "      0     0     0     0]\n",
      " [    0     0     0     0     0     0     0     0     0     0     0     0\n",
      "      0     0     0     0]\n",
      " [    0     0     0     0     0     0     0     0     0     0     0     0\n",
      "      0     0     0     0]\n",
      " [    0     0     0     0     0     0     0     0     0     0     0     0\n",
      "      0     0     0     0]\n",
      " [    0     0     0     0     0     0     0     0     0     0     0     0\n",
      "      0     0     0     0]\n",
      " [    0     0     0     0     0     0     0     0     0     0     0     0\n",
      "      0     0     0     0]\n",
      " [    0     0     0     0     0     0     0     0     0     0     0     0\n",
      "      0     0     0     0]\n",
      " [    0     0     0     0     0     0     0     0     0     0     0     0\n",
      "      0     0     0     0]\n",
      " [    0     0     0     0     0     0     0     0     0     0     0     0\n",
      "      0     0     0     0]\n",
      " [    0     0     0     0     0     0     0     0     0     0     0     0\n",
      "      0     0     0     0]\n",
      " [    0     0     0     0     0     0     0     0     0     0     0     0\n",
      "      0     0     0     0]\n",
      " [35412   640  1327    19  1928    72   525    66  1170    61   187   118\n",
      "    806   155   114     0]]\n",
      "class_map ['BENIGN' 'Bot' 'DDoS' 'DoS GoldenEye' 'DoS Hulk' 'DoS Slowhttptest'\n",
      " 'DoS slowloris' 'FTP-Patator' 'Heartbleed' 'Infiltration' 'PortScan'\n",
      " 'SSH-Patator' 'Web Attack - Brute Force' 'Web Attack - Sql Injection'\n",
      " 'Web Attack - XSS']\n",
      "[[338475   1185     45    128     72    400     68    117     67    282\n",
      "      53    234     21     35     30]\n",
      " [     0    444      0      0      0      0      0      0      0      0\n",
      "       0      0      0      0      0]\n",
      " [  8787      0   9244      0      0      0      0      0      0      0\n",
      "       0      0      0      0      0]\n",
      " [     0      0      0   1504      0      0      0      0      0      0\n",
      "       0      0      0      0      0]\n",
      " [     0      0      0      0  35870      0      0      0      0      0\n",
      "       0      0      0      0      0]\n",
      " [     0      0      0      0      0    829      0      0      0      0\n",
      "       0      0      0      0      0]\n",
      " [     0      0      0      0      0      0    809      0      0      0\n",
      "       0      0      0      0      0]\n",
      " [     1      0      0      0      0      0      0   1129      0      0\n",
      "       0      0      0      0      0]\n",
      " [     0      0      0      0      0      0      0      0      1      0\n",
      "       0      0      0      0      0]\n",
      " [     2      0      0      0      0      0      0      0      0      4\n",
      "       0      0      0      0      0]\n",
      " [ 25036      0      0      0      0      0      0      0      0      0\n",
      "       0      0      0      0      0]\n",
      " [   476      0      0      0      0      0      0      0      0      0\n",
      "       0    363      0      0      0]\n",
      " [     0      0      0      0      0      0      0      0      0      0\n",
      "       0      0     83      0     80]\n",
      " [     0      0      0      0      0      0      0      0      0      0\n",
      "       0      0      0      0      0]\n",
      " [     0      0      0      0      0      0      0      0      0      0\n",
      "       0      0      0      0    126]]\n",
      "                            precision    recall  f1-score   support\n",
      "\n",
      "                    BENIGN     0.9080    0.9920    0.9481    341212\n",
      "                       Bot     0.2726    1.0000    0.4284       444\n",
      "                      DDoS     0.9952    0.5127    0.6767     18031\n",
      "             DoS GoldenEye     0.9216    1.0000    0.9592      1504\n",
      "                  DoS Hulk     0.9980    1.0000    0.9990     35870\n",
      "          DoS Slowhttptest     0.6745    1.0000    0.8056       829\n",
      "             DoS slowloris     0.9225    1.0000    0.9597       809\n",
      "               FTP-Patator     0.9061    0.9991    0.9503      1130\n",
      "                Heartbleed     0.0147    1.0000    0.0290         1\n",
      "              Infiltration     0.0140    0.6667    0.0274         6\n",
      "                  PortScan     0.0000    0.0000    0.0000     25036\n",
      "               SSH-Patator     0.6080    0.4327    0.5056       839\n",
      "  Web Attack - Brute Force     0.7981    0.5092    0.6217       163\n",
      "Web Attack - Sql Injection     0.0000    0.0000    0.0000         0\n",
      "          Web Attack - XSS     0.5339    1.0000    0.6961       126\n",
      "\n",
      "                  accuracy                         0.9129    426000\n",
      "                 macro avg     0.5711    0.7408    0.5738    426000\n",
      "              weighted avg     0.8641    0.9129    0.8834    426000\n",
      "\n"
     ]
    },
    {
     "name": "stderr",
     "output_type": "stream",
     "text": [
      "/vol/bitbucket/shc20/FYP/GNN-Adversarial-Attack/.venv/lib/python3.12/site-packages/sklearn/metrics/_classification.py:1565: UndefinedMetricWarning: Recall is ill-defined and being set to 0.0 in labels with no true samples. Use `zero_division` parameter to control this behavior.\n",
      "  _warn_prf(average, modifier, f\"{metric.capitalize()} is\", len(result))\n",
      "/vol/bitbucket/shc20/FYP/GNN-Adversarial-Attack/.venv/lib/python3.12/site-packages/sklearn/metrics/_classification.py:1565: UndefinedMetricWarning: Recall is ill-defined and being set to 0.0 in labels with no true samples. Use `zero_division` parameter to control this behavior.\n",
      "  _warn_prf(average, modifier, f\"{metric.capitalize()} is\", len(result))\n"
     ]
    }
   ],
   "source": [
    "# Inject Attack Traffic to Attacker Nodes\n",
    "inject_both_graph_dataset = [inject_traffic_to_node(g.cpu(), 0.1, num_injected_nodes=1, to_node_type='both') for g in test_graph_dataset]\n",
    "inject_both_report = eval(inject_both_graph_dataset, adversarial=True)"
   ]
  },
  {
   "cell_type": "code",
   "execution_count": 32,
   "id": "90b60cd6",
   "metadata": {},
   "outputs": [
    {
     "name": "stdout",
     "output_type": "stream",
     "text": [
      "Loading model from /vol/bitbucket/shc20/FYP/GNN-Adversarial-Attack/Models/E_GraphSAGE_edge/CIC_IDS_2017/saved/strat_window_host_3000/best_model.pth\n",
      "inference start\n"
     ]
    },
    {
     "name": "stderr",
     "output_type": "stream",
     "text": [
      "/vol/bitbucket/shc20/FYP/GNN-Adversarial-Attack/.venv/lib/python3.12/site-packages/sklearn/metrics/_classification.py:1565: UndefinedMetricWarning: Recall is ill-defined and being set to 0.0 in labels with no true samples. Use `zero_division` parameter to control this behavior.\n",
      "  _warn_prf(average, modifier, f\"{metric.capitalize()} is\", len(result))\n",
      "/vol/bitbucket/shc20/FYP/GNN-Adversarial-Attack/.venv/lib/python3.12/site-packages/sklearn/metrics/_classification.py:1565: UndefinedMetricWarning: Recall is ill-defined and being set to 0.0 in labels with no true samples. Use `zero_division` parameter to control this behavior.\n",
      "  _warn_prf(average, modifier, f\"{metric.capitalize()} is\", len(result))\n",
      "/vol/bitbucket/shc20/FYP/GNN-Adversarial-Attack/.venv/lib/python3.12/site-packages/sklearn/metrics/_classification.py:1565: UndefinedMetricWarning: Recall is ill-defined and being set to 0.0 in labels with no true samples. Use `zero_division` parameter to control this behavior.\n",
      "  _warn_prf(average, modifier, f\"{metric.capitalize()} is\", len(result))\n",
      "/vol/bitbucket/shc20/FYP/GNN-Adversarial-Attack/.venv/lib/python3.12/site-packages/sklearn/metrics/_classification.py:1565: UndefinedMetricWarning: Recall is ill-defined and being set to 0.0 in labels with no true samples. Use `zero_division` parameter to control this behavior.\n",
      "  _warn_prf(average, modifier, f\"{metric.capitalize()} is\", len(result))\n",
      "/vol/bitbucket/shc20/FYP/GNN-Adversarial-Attack/.venv/lib/python3.12/site-packages/sklearn/metrics/_classification.py:1565: UndefinedMetricWarning: Recall is ill-defined and being set to 0.0 in labels with no true samples. Use `zero_division` parameter to control this behavior.\n",
      "  _warn_prf(average, modifier, f\"{metric.capitalize()} is\", len(result))\n"
     ]
    },
    {
     "name": "stdout",
     "output_type": "stream",
     "text": [
      "Test Accuracy: 0.8283\n",
      "Adversarial confusion matrix: [[    0     0     0     0     0     0     0     0     0     0     0     0\n",
      "      0     0     0     0]\n",
      " [    0     0     0     0     0     0     0     0     0     0     0     0\n",
      "      0     0     0     0]\n",
      " [    0     0     0     0     0     0     0     0     0     0     0     0\n",
      "      0     0     0     0]\n",
      " [    0     0     0     0     0     0     0     0     0     0     0     0\n",
      "      0     0     0     0]\n",
      " [    0     0     0     0     0     0     0     0     0     0     0     0\n",
      "      0     0     0     0]\n",
      " [    0     0     0     0     0     0     0     0     0     0     0     0\n",
      "      0     0     0     0]\n",
      " [    0     0     0     0     0     0     0     0     0     0     0     0\n",
      "      0     0     0     0]\n",
      " [    0     0     0     0     0     0     0     0     0     0     0     0\n",
      "      0     0     0     0]\n",
      " [    0     0     0     0     0     0     0     0     0     0     0     0\n",
      "      0     0     0     0]\n",
      " [    0     0     0     0     0     0     0     0     0     0     0     0\n",
      "      0     0     0     0]\n",
      " [    0     0     0     0     0     0     0     0     0     0     0     0\n",
      "      0     0     0     0]\n",
      " [    0     0     0     0     0     0     0     0     0     0     0     0\n",
      "      0     0     0     0]\n",
      " [    0     0     0     0     0     0     0     0     0     0     0     0\n",
      "      0     0     0     0]\n",
      " [    0     0     0     0     0     0     0     0     0     0     0     0\n",
      "      0     0     0     0]\n",
      " [    0     0     0     0     0     0     0     0     0     0     0     0\n",
      "      0     0     0     0]\n",
      " [39526    69   707     2    77    18   476    26  1405    39    99    36\n",
      "     34    31    55     0]]\n",
      "class_map ['BENIGN' 'Bot' 'DDoS' 'DoS GoldenEye' 'DoS Hulk' 'DoS Slowhttptest'\n",
      " 'DoS slowloris' 'FTP-Patator' 'Heartbleed' 'Infiltration' 'PortScan'\n",
      " 'SSH-Patator' 'Web Attack - Brute Force' 'Web Attack - Sql Injection'\n",
      " 'Web Attack - XSS']\n",
      "[[338029   1392     38    152     47    725    144     33     66    353\n",
      "      69    123     18     12     11]\n",
      " [     2    442      0      0      0      0      0      0      0      0\n",
      "       0      0      0      0      0]\n",
      " [  8787      0   9244      0      0      0      0      0      0      0\n",
      "       0      0      0      0      0]\n",
      " [     0      0      0   1504      0      0      0      0      0      0\n",
      "       0      0      0      0      0]\n",
      " [     0      0      0      0  35870      0      0      0      0      0\n",
      "       0      0      0      0      0]\n",
      " [     0      0      0      0      0    829      0      0      0      0\n",
      "       0      0      0      0      0]\n",
      " [     0      0      0      0      0      0    809      0      0      0\n",
      "       0      0      0      0      0]\n",
      " [     0      0      0      0      0      0      0   1129      0      0\n",
      "       0      1      0      0      0]\n",
      " [     0      0      0      0      0      0      0      0      1      0\n",
      "       0      0      0      0      0]\n",
      " [     2      0      0      0      0      0      0      0      0      4\n",
      "       0      0      0      0      0]\n",
      " [ 25036      0      0      0      0      0      0      0      0      0\n",
      "       0      0      0      0      0]\n",
      " [   839      0      0      0      0      0      0      0      0      0\n",
      "       0      0      0      0      0]\n",
      " [     0      0      0      0      0      0      0      0      0      0\n",
      "       0      7    156      0      0]\n",
      " [     0      0      0      0      0      0      0      0      0      0\n",
      "       0      0      0      0      0]\n",
      " [     0      0      0      0      0      0      0      0      0      0\n",
      "       0      0      0      0    126]]\n",
      "                            precision    recall  f1-score   support\n",
      "\n",
      "                    BENIGN     0.9070    0.9907    0.9470    341212\n",
      "                       Bot     0.2410    0.9955    0.3881       444\n",
      "                      DDoS     0.9959    0.5127    0.6769     18031\n",
      "             DoS GoldenEye     0.9082    1.0000    0.9519      1504\n",
      "                  DoS Hulk     0.9987    1.0000    0.9993     35870\n",
      "          DoS Slowhttptest     0.5335    1.0000    0.6958       829\n",
      "             DoS slowloris     0.8489    1.0000    0.9183       809\n",
      "               FTP-Patator     0.9716    0.9991    0.9852      1130\n",
      "                Heartbleed     0.0149    1.0000    0.0294         1\n",
      "              Infiltration     0.0112    0.6667    0.0220         6\n",
      "                  PortScan     0.0000    0.0000    0.0000     25036\n",
      "               SSH-Patator     0.0000    0.0000    0.0000       839\n",
      "  Web Attack - Brute Force     0.8966    0.9571    0.9258       163\n",
      "Web Attack - Sql Injection     0.0000    0.0000    0.0000         0\n",
      "          Web Attack - XSS     0.9197    1.0000    0.9582       126\n",
      "\n",
      "                  accuracy                         0.9111    426000\n",
      "                 macro avg     0.5498    0.7414    0.5665    426000\n",
      "              weighted avg     0.8620    0.9111    0.8814    426000\n",
      "\n"
     ]
    },
    {
     "name": "stderr",
     "output_type": "stream",
     "text": [
      "/vol/bitbucket/shc20/FYP/GNN-Adversarial-Attack/.venv/lib/python3.12/site-packages/sklearn/metrics/_classification.py:1565: UndefinedMetricWarning: Recall is ill-defined and being set to 0.0 in labels with no true samples. Use `zero_division` parameter to control this behavior.\n",
      "  _warn_prf(average, modifier, f\"{metric.capitalize()} is\", len(result))\n"
     ]
    }
   ],
   "source": [
    "# Inject Attack Traffic to Attacker Nodes\n",
    "inject_src_graph_dataset = [inject_traffic_to_node(g.cpu(), 0.1, num_injected_nodes=1, to_node_type='src') for g in test_graph_dataset]\n",
    "inject_src_report = eval(inject_src_graph_dataset, adversarial=True)"
   ]
  },
  {
   "cell_type": "code",
   "execution_count": 33,
   "id": "70287333",
   "metadata": {},
   "outputs": [
    {
     "name": "stdout",
     "output_type": "stream",
     "text": [
      "Loading model from /vol/bitbucket/shc20/FYP/GNN-Adversarial-Attack/Models/E_GraphSAGE_edge/CIC_IDS_2017/saved/strat_window_host_3000/best_model.pth\n",
      "inference start\n"
     ]
    },
    {
     "name": "stderr",
     "output_type": "stream",
     "text": [
      "/vol/bitbucket/shc20/FYP/GNN-Adversarial-Attack/.venv/lib/python3.12/site-packages/sklearn/metrics/_classification.py:1565: UndefinedMetricWarning: Recall is ill-defined and being set to 0.0 in labels with no true samples. Use `zero_division` parameter to control this behavior.\n",
      "  _warn_prf(average, modifier, f\"{metric.capitalize()} is\", len(result))\n",
      "/vol/bitbucket/shc20/FYP/GNN-Adversarial-Attack/.venv/lib/python3.12/site-packages/sklearn/metrics/_classification.py:1565: UndefinedMetricWarning: Recall is ill-defined and being set to 0.0 in labels with no true samples. Use `zero_division` parameter to control this behavior.\n",
      "  _warn_prf(average, modifier, f\"{metric.capitalize()} is\", len(result))\n",
      "/vol/bitbucket/shc20/FYP/GNN-Adversarial-Attack/.venv/lib/python3.12/site-packages/sklearn/metrics/_classification.py:1565: UndefinedMetricWarning: Recall is ill-defined and being set to 0.0 in labels with no true samples. Use `zero_division` parameter to control this behavior.\n",
      "  _warn_prf(average, modifier, f\"{metric.capitalize()} is\", len(result))\n",
      "/vol/bitbucket/shc20/FYP/GNN-Adversarial-Attack/.venv/lib/python3.12/site-packages/sklearn/metrics/_classification.py:1565: UndefinedMetricWarning: Recall is ill-defined and being set to 0.0 in labels with no true samples. Use `zero_division` parameter to control this behavior.\n",
      "  _warn_prf(average, modifier, f\"{metric.capitalize()} is\", len(result))\n"
     ]
    },
    {
     "name": "stdout",
     "output_type": "stream",
     "text": [
      "Test Accuracy: 0.9023\n",
      "Adversarial confusion matrix: [[    0     0     0     0     0     0     0     0     0     0     0     0\n",
      "      0     0     0     0]\n",
      " [    0     0     0     0     0     0     0     0     0     0     0     0\n",
      "      0     0     0     0]\n",
      " [    0     0     0     0     0     0     0     0     0     0     0     0\n",
      "      0     0     0     0]\n",
      " [    0     0     0     0     0     0     0     0     0     0     0     0\n",
      "      0     0     0     0]\n",
      " [    0     0     0     0     0     0     0     0     0     0     0     0\n",
      "      0     0     0     0]\n",
      " [    0     0     0     0     0     0     0     0     0     0     0     0\n",
      "      0     0     0     0]\n",
      " [    0     0     0     0     0     0     0     0     0     0     0     0\n",
      "      0     0     0     0]\n",
      " [    0     0     0     0     0     0     0     0     0     0     0     0\n",
      "      0     0     0     0]\n",
      " [    0     0     0     0     0     0     0     0     0     0     0     0\n",
      "      0     0     0     0]\n",
      " [    0     0     0     0     0     0     0     0     0     0     0     0\n",
      "      0     0     0     0]\n",
      " [    0     0     0     0     0     0     0     0     0     0     0     0\n",
      "      0     0     0     0]\n",
      " [    0     0     0     0     0     0     0     0     0     0     0     0\n",
      "      0     0     0     0]\n",
      " [    0     0     0     0     0     0     0     0     0     0     0     0\n",
      "      0     0     0     0]\n",
      " [    0     0     0     0     0     0     0     0     0     0     0     0\n",
      "      0     0     0     0]\n",
      " [    0     0     0     0     0     0     0     0     0     0     0     0\n",
      "      0     0     0     0]\n",
      " [31875   724  1845    21  3622   152   584   127   858   919  1262   196\n",
      "     54   233   128     0]]\n",
      "class_map ['BENIGN' 'Bot' 'DDoS' 'DoS GoldenEye' 'DoS Hulk' 'DoS Slowhttptest'\n",
      " 'DoS slowloris' 'FTP-Patator' 'Heartbleed' 'Infiltration' 'PortScan'\n",
      " 'SSH-Patator' 'Web Attack - Brute Force' 'Web Attack - Sql Injection'\n",
      " 'Web Attack - XSS']\n",
      "[[338093    952     46     89     74    167     45    124     70    211\n",
      "     813    378     23     82     45]\n",
      " [     4    440      0      0      0      0      0      0      0      0\n",
      "       0      0      0      0      0]\n",
      " [     0      0  18031      0      0      0      0      0      0      0\n",
      "       0      0      0      0      0]\n",
      " [     0      0      0   1504      0      0      0      0      0      0\n",
      "       0      0      0      0      0]\n",
      " [     0      0      0      0  35870      0      0      0      0      0\n",
      "       0      0      0      0      0]\n",
      " [     0      0      0      0      0    829      0      0      0      0\n",
      "       0      0      0      0      0]\n",
      " [     0      0      0      0      0      0    809      0      0      0\n",
      "       0      0      0      0      0]\n",
      " [     1      0      0      0      0      0      0   1129      0      0\n",
      "       0      0      0      0      0]\n",
      " [     0      0      0      0      0      0      0      0      1      0\n",
      "       0      0      0      0      0]\n",
      " [     2      0      0      0      0      0      0      0      0      4\n",
      "       0      0      0      0      0]\n",
      " [    61      0      0      0      0      0      0      0      0      0\n",
      "   24975      0      0      0      0]\n",
      " [     0      0      0      0      0      0      0      0      0      0\n",
      "       0    839      0      0      0]\n",
      " [     7      0      0      0      0      0      0      0      0      0\n",
      "       0      0    156      0      0]\n",
      " [     0      0      0      0      0      0      0      0      0      0\n",
      "       0      0      0      0      0]\n",
      " [     0      0      0      0      0      0      0      0      0      0\n",
      "       0      0      0      0    126]]\n",
      "                            precision    recall  f1-score   support\n",
      "\n",
      "                    BENIGN     0.9998    0.9909    0.9953    341212\n",
      "                       Bot     0.3161    0.9910    0.4793       444\n",
      "                      DDoS     0.9975    1.0000    0.9987     18031\n",
      "             DoS GoldenEye     0.9441    1.0000    0.9713      1504\n",
      "                  DoS Hulk     0.9979    1.0000    0.9990     35870\n",
      "          DoS Slowhttptest     0.8323    1.0000    0.9085       829\n",
      "             DoS slowloris     0.9473    1.0000    0.9729       809\n",
      "               FTP-Patator     0.9010    0.9991    0.9475      1130\n",
      "                Heartbleed     0.0141    1.0000    0.0278         1\n",
      "              Infiltration     0.0186    0.6667    0.0362         6\n",
      "                  PortScan     0.9685    0.9976    0.9828     25036\n",
      "               SSH-Patator     0.6894    1.0000    0.8161       839\n",
      "  Web Attack - Brute Force     0.8715    0.9571    0.9123       163\n",
      "Web Attack - Sql Injection     0.0000    0.0000    0.0000         0\n",
      "          Web Attack - XSS     0.7368    1.0000    0.8485       126\n",
      "\n",
      "                  accuracy                         0.9925    426000\n",
      "                 macro avg     0.6823    0.9068    0.7264    426000\n",
      "              weighted avg     0.9953    0.9925    0.9936    426000\n",
      "\n"
     ]
    },
    {
     "name": "stderr",
     "output_type": "stream",
     "text": [
      "/vol/bitbucket/shc20/FYP/GNN-Adversarial-Attack/.venv/lib/python3.12/site-packages/sklearn/metrics/_classification.py:1565: UndefinedMetricWarning: Recall is ill-defined and being set to 0.0 in labels with no true samples. Use `zero_division` parameter to control this behavior.\n",
      "  _warn_prf(average, modifier, f\"{metric.capitalize()} is\", len(result))\n",
      "/vol/bitbucket/shc20/FYP/GNN-Adversarial-Attack/.venv/lib/python3.12/site-packages/sklearn/metrics/_classification.py:1565: UndefinedMetricWarning: Recall is ill-defined and being set to 0.0 in labels with no true samples. Use `zero_division` parameter to control this behavior.\n",
      "  _warn_prf(average, modifier, f\"{metric.capitalize()} is\", len(result))\n"
     ]
    }
   ],
   "source": [
    "# Inject Attack Traffic to Attacker Nodes\n",
    "inject_dst_graph_dataset = [inject_traffic_to_node(g.cpu(), 0.1, num_injected_nodes=1, to_node_type='dst') for g in test_graph_dataset]\n",
    "inject_dst_report = eval(inject_dst_graph_dataset, adversarial=True)"
   ]
  },
  {
   "cell_type": "code",
   "execution_count": 34,
   "id": "579e0eb1",
   "metadata": {},
   "outputs": [],
   "source": [
    "# Edge Attribute Perturbation\n",
    "def perturb_edge_attributes(graph, affected_edge_ratio=0.1, perturbation_ratio=0.1, random_seed=42):\n",
    "    edge_index = graph.edge_index.clone()\n",
    "    edge_attr = graph.edge_attr.clone()\n",
    "    edge_label = graph.edge_label.clone()\n",
    "\n",
    "    num_edges = edge_index.size(1)\n",
    "    feature_dim = edge_attr.size(1)\n",
    "\n",
    "    # Randomly select edges to perturb\n",
    "    num_to_perturb = max(1, int(affected_edge_ratio * num_edges))\n",
    "    rng = random.Random(random_seed)\n",
    "    indices_to_perturb = rng.sample(range(num_edges), num_to_perturb)\n",
    "\n",
    "    for idx in indices_to_perturb:\n",
    "        # Perturb the edge attributes by adding noise\n",
    "        noise = th.randn(feature_dim) * perturbation_ratio  # Adjust the scale of noise as needed\n",
    "        edge_attr[idx] += noise\n",
    "\n",
    "    # Create a new graph with perturbed attributes\n",
    "    perturbed_graph = Data(edge_index=edge_index, edge_attr=edge_attr, edge_label=edge_label, x=graph.x)\n",
    "\n",
    "    return perturbed_graph"
   ]
  },
  {
   "cell_type": "code",
   "execution_count": 35,
   "id": "eb68c7fe",
   "metadata": {},
   "outputs": [
    {
     "name": "stdout",
     "output_type": "stream",
     "text": [
      "Loading model from /vol/bitbucket/shc20/FYP/GNN-Adversarial-Attack/Models/E_GraphSAGE_edge/CIC_IDS_2017/saved/strat_window_host_3000/best_model.pth\n",
      "inference start\n"
     ]
    },
    {
     "name": "stderr",
     "output_type": "stream",
     "text": [
      "/vol/bitbucket/shc20/FYP/GNN-Adversarial-Attack/.venv/lib/python3.12/site-packages/sklearn/metrics/_classification.py:1565: UndefinedMetricWarning: Recall is ill-defined and being set to 0.0 in labels with no true samples. Use `zero_division` parameter to control this behavior.\n",
      "  _warn_prf(average, modifier, f\"{metric.capitalize()} is\", len(result))\n"
     ]
    },
    {
     "name": "stdout",
     "output_type": "stream",
     "text": [
      "Test Accuracy: 0.9845\n",
      "Adversarial confusion matrix: [[0 0 0 0 0 0 0 0 0 0 0 0 0 0 0 0]\n",
      " [0 0 0 0 0 0 0 0 0 0 0 0 0 0 0 0]\n",
      " [0 0 0 0 0 0 0 0 0 0 0 0 0 0 0 0]\n",
      " [0 0 0 0 0 0 0 0 0 0 0 0 0 0 0 0]\n",
      " [0 0 0 0 0 0 0 0 0 0 0 0 0 0 0 0]\n",
      " [0 0 0 0 0 0 0 0 0 0 0 0 0 0 0 0]\n",
      " [0 0 0 0 0 0 0 0 0 0 0 0 0 0 0 0]\n",
      " [0 0 0 0 0 0 0 0 0 0 0 0 0 0 0 0]\n",
      " [0 0 0 0 0 0 0 0 0 0 0 0 0 0 0 0]\n",
      " [0 0 0 0 0 0 0 0 0 0 0 0 0 0 0 0]\n",
      " [0 0 0 0 0 0 0 0 0 0 0 0 0 0 0 0]\n",
      " [0 0 0 0 0 0 0 0 0 0 0 0 0 0 0 0]\n",
      " [0 0 0 0 0 0 0 0 0 0 0 0 0 0 0 0]\n",
      " [0 0 0 0 0 0 0 0 0 0 0 0 0 0 0 0]\n",
      " [0 0 0 0 0 0 0 0 0 0 0 0 0 0 0 0]\n",
      " [0 0 0 0 0 0 0 0 0 0 0 0 0 0 0 0]]\n",
      "class_map ['BENIGN' 'Bot' 'DDoS' 'DoS GoldenEye' 'DoS Hulk' 'DoS Slowhttptest'\n",
      " 'DoS slowloris' 'FTP-Patator' 'Heartbleed' 'Infiltration' 'PortScan'\n",
      " 'SSH-Patator' 'Web Attack - Brute Force' 'Web Attack - Sql Injection'\n",
      " 'Web Attack - XSS']\n",
      "[[334938   3659     94      9    209    226     63    192    116    434\n",
      "     803    339     64     47     19]\n",
      " [     9    435      0      0      0      0      0      0      0      0\n",
      "       0      0      0      0      0]\n",
      " [     0      0  18031      0      0      0      0      0      0      0\n",
      "       0      0      0      0      0]\n",
      " [     0      0      0   1504      0      0      0      0      0      0\n",
      "       0      0      0      0      0]\n",
      " [     0      0      0      0  35870      0      0      0      0      0\n",
      "       0      0      0      0      0]\n",
      " [     0      0      0      0      0    829      0      0      0      0\n",
      "       0      0      0      0      0]\n",
      " [     0      0      0      0      0      0    809      0      0      0\n",
      "       0      0      0      0      0]\n",
      " [     1      0      0      0      0      0      0   1129      0      0\n",
      "       0      0      0      0      0]\n",
      " [     0      0      0      0      0      0      0      0      1      0\n",
      "       0      0      0      0      0]\n",
      " [     2      0      0      0      0      0      0      0      0      4\n",
      "       0      0      0      0      0]\n",
      " [     0      0      0      0      0      0      0      0      0      0\n",
      "   24975      0      0     61      0]\n",
      " [   265      0      0      0      0      0      0      0      0      0\n",
      "       0    574      0      0      0]\n",
      " [     7      0      0      0      0      0      0      0      0      0\n",
      "       0      0    156      0      0]\n",
      " [     0      0      0      0      0      0      0      0      0      0\n",
      "       0      0      0      0      0]\n",
      " [     0      0      0      0      0      0      0      0      0      0\n",
      "       0      0      0      0    126]]\n",
      "                            precision    recall  f1-score   support\n",
      "\n",
      "                    BENIGN     0.9992    0.9816    0.9903    341212\n",
      "                       Bot     0.1063    0.9797    0.1917       444\n",
      "                      DDoS     0.9948    1.0000    0.9974     18031\n",
      "             DoS GoldenEye     0.9941    1.0000    0.9970      1504\n",
      "                  DoS Hulk     0.9942    1.0000    0.9971     35870\n",
      "          DoS Slowhttptest     0.7858    1.0000    0.8800       829\n",
      "             DoS slowloris     0.9278    1.0000    0.9625       809\n",
      "               FTP-Patator     0.8547    0.9991    0.9213      1130\n",
      "                Heartbleed     0.0085    1.0000    0.0169         1\n",
      "              Infiltration     0.0091    0.6667    0.0180         6\n",
      "                  PortScan     0.9688    0.9976    0.9830     25036\n",
      "               SSH-Patator     0.6287    0.6841    0.6553       839\n",
      "  Web Attack - Brute Force     0.7091    0.9571    0.8146       163\n",
      "Web Attack - Sql Injection     0.0000    0.0000    0.0000         0\n",
      "          Web Attack - XSS     0.8690    1.0000    0.9299       126\n",
      "\n",
      "                  accuracy                         0.9845    426000\n",
      "                 macro avg     0.6567    0.8844    0.6903    426000\n",
      "              weighted avg     0.9940    0.9845    0.9887    426000\n",
      "\n"
     ]
    },
    {
     "name": "stderr",
     "output_type": "stream",
     "text": [
      "/vol/bitbucket/shc20/FYP/GNN-Adversarial-Attack/.venv/lib/python3.12/site-packages/sklearn/metrics/_classification.py:1565: UndefinedMetricWarning: Recall is ill-defined and being set to 0.0 in labels with no true samples. Use `zero_division` parameter to control this behavior.\n",
      "  _warn_prf(average, modifier, f\"{metric.capitalize()} is\", len(result))\n",
      "/vol/bitbucket/shc20/FYP/GNN-Adversarial-Attack/.venv/lib/python3.12/site-packages/sklearn/metrics/_classification.py:1565: UndefinedMetricWarning: Recall is ill-defined and being set to 0.0 in labels with no true samples. Use `zero_division` parameter to control this behavior.\n",
      "  _warn_prf(average, modifier, f\"{metric.capitalize()} is\", len(result))\n",
      "/vol/bitbucket/shc20/FYP/GNN-Adversarial-Attack/.venv/lib/python3.12/site-packages/sklearn/metrics/_classification.py:1565: UndefinedMetricWarning: Recall is ill-defined and being set to 0.0 in labels with no true samples. Use `zero_division` parameter to control this behavior.\n",
      "  _warn_prf(average, modifier, f\"{metric.capitalize()} is\", len(result))\n",
      "/vol/bitbucket/shc20/FYP/GNN-Adversarial-Attack/.venv/lib/python3.12/site-packages/sklearn/metrics/_classification.py:1565: UndefinedMetricWarning: Recall is ill-defined and being set to 0.0 in labels with no true samples. Use `zero_division` parameter to control this behavior.\n",
      "  _warn_prf(average, modifier, f\"{metric.capitalize()} is\", len(result))\n",
      "/vol/bitbucket/shc20/FYP/GNN-Adversarial-Attack/.venv/lib/python3.12/site-packages/sklearn/metrics/_classification.py:1565: UndefinedMetricWarning: Recall is ill-defined and being set to 0.0 in labels with no true samples. Use `zero_division` parameter to control this behavior.\n",
      "  _warn_prf(average, modifier, f\"{metric.capitalize()} is\", len(result))\n"
     ]
    }
   ],
   "source": [
    "# Edge Attribute Perturbation\n",
    "edge_perturb_graph_dataset = [perturb_edge_attributes(g.cpu(), affected_edge_ratio=1, perturbation_ratio=1) for g in test_graph_dataset]\n",
    "edge_perturb_report = eval(edge_perturb_graph_dataset, adversarial=True)"
   ]
  },
  {
   "cell_type": "code",
   "execution_count": 36,
   "id": "dc04f5a9",
   "metadata": {},
   "outputs": [],
   "source": [
    "# Inject Random Edges\n",
    "def inject_random_edges(graph, ratio=0.1, random_seed=42):\n",
    "    edge_index = graph.edge_index.clone()\n",
    "    edge_attr = graph.edge_attr.clone()\n",
    "    edge_label = graph.edge_label.clone()\n",
    "    x = graph.x.clone()\n",
    "\n",
    "    num_nodes = x.size(0)\n",
    "    feature_dim = graph.x.size(1)\n",
    "\n",
    "    new_edge_indices = []\n",
    "    new_edge_attrs = []\n",
    "    new_edge_labels = []\n",
    "\n",
    "    num_edges = edge_index.size(1)\n",
    "    num_injected_edges = max(1, int(ratio * num_edges))\n",
    "\n",
    "    for i in range(num_injected_edges):\n",
    "        rng = random.Random(random_seed + i)  # ensure different seed per edge\n",
    "        src = rng.randint(0, num_nodes - 1)  # Random source node\n",
    "        dst = rng.randint(0, num_nodes - 1)  # Random destination node\n",
    "\n",
    "        new_edge_indices.append([src, dst])\n",
    "        new_edge_attrs.append(th.rand(feature_dim))  # Random feature for the new edge\n",
    "        new_edge_labels.append(ADVERSARIAL_CLASS_LABEL)\n",
    "\n",
    "    if new_edge_indices:\n",
    "        new_edge_indices = th.tensor(new_edge_indices, dtype=th.long).t().contiguous()\n",
    "        new_edge_attrs = th.stack(new_edge_attrs)\n",
    "        new_edge_labels = th.tensor(new_edge_labels, dtype=th.long)\n",
    "\n",
    "        edge_index = th.cat([edge_index, new_edge_indices], dim=1)\n",
    "        edge_attr = th.cat([edge_attr, new_edge_attrs], dim=0)\n",
    "        edge_label = th.cat([edge_label, new_edge_labels], dim=0)\n",
    "\n",
    "    return Data(x=x, edge_index=edge_index, edge_attr=edge_attr, edge_label=edge_label)"
   ]
  },
  {
   "cell_type": "code",
   "execution_count": 37,
   "id": "b25073bf",
   "metadata": {},
   "outputs": [
    {
     "name": "stdout",
     "output_type": "stream",
     "text": [
      "Loading model from /vol/bitbucket/shc20/FYP/GNN-Adversarial-Attack/Models/E_GraphSAGE_edge/CIC_IDS_2017/saved/strat_window_host_3000/best_model.pth\n",
      "inference start\n"
     ]
    },
    {
     "name": "stderr",
     "output_type": "stream",
     "text": [
      "/vol/bitbucket/shc20/FYP/GNN-Adversarial-Attack/.venv/lib/python3.12/site-packages/sklearn/metrics/_classification.py:1565: UndefinedMetricWarning: Recall is ill-defined and being set to 0.0 in labels with no true samples. Use `zero_division` parameter to control this behavior.\n",
      "  _warn_prf(average, modifier, f\"{metric.capitalize()} is\", len(result))\n",
      "/vol/bitbucket/shc20/FYP/GNN-Adversarial-Attack/.venv/lib/python3.12/site-packages/sklearn/metrics/_classification.py:1565: UndefinedMetricWarning: Recall is ill-defined and being set to 0.0 in labels with no true samples. Use `zero_division` parameter to control this behavior.\n",
      "  _warn_prf(average, modifier, f\"{metric.capitalize()} is\", len(result))\n",
      "/vol/bitbucket/shc20/FYP/GNN-Adversarial-Attack/.venv/lib/python3.12/site-packages/sklearn/metrics/_classification.py:1565: UndefinedMetricWarning: Recall is ill-defined and being set to 0.0 in labels with no true samples. Use `zero_division` parameter to control this behavior.\n",
      "  _warn_prf(average, modifier, f\"{metric.capitalize()} is\", len(result))\n"
     ]
    },
    {
     "name": "stdout",
     "output_type": "stream",
     "text": [
      "Test Accuracy: 0.8640\n",
      "Adversarial confusion matrix: [[    0     0     0     0     0     0     0     0     0     0     0     0\n",
      "      0     0     0     0]\n",
      " [    0     0     0     0     0     0     0     0     0     0     0     0\n",
      "      0     0     0     0]\n",
      " [    0     0     0     0     0     0     0     0     0     0     0     0\n",
      "      0     0     0     0]\n",
      " [    0     0     0     0     0     0     0     0     0     0     0     0\n",
      "      0     0     0     0]\n",
      " [    0     0     0     0     0     0     0     0     0     0     0     0\n",
      "      0     0     0     0]\n",
      " [    0     0     0     0     0     0     0     0     0     0     0     0\n",
      "      0     0     0     0]\n",
      " [    0     0     0     0     0     0     0     0     0     0     0     0\n",
      "      0     0     0     0]\n",
      " [    0     0     0     0     0     0     0     0     0     0     0     0\n",
      "      0     0     0     0]\n",
      " [    0     0     0     0     0     0     0     0     0     0     0     0\n",
      "      0     0     0     0]\n",
      " [    0     0     0     0     0     0     0     0     0     0     0     0\n",
      "      0     0     0     0]\n",
      " [    0     0     0     0     0     0     0     0     0     0     0     0\n",
      "      0     0     0     0]\n",
      " [    0     0     0     0     0     0     0     0     0     0     0     0\n",
      "      0     0     0     0]\n",
      " [    0     0     0     0     0     0     0     0     0     0     0     0\n",
      "      0     0     0     0]\n",
      " [    0     0     0     0     0     0     0     0     0     0     0     0\n",
      "      0     0     0     0]\n",
      " [    0     0     0     0     0     0     0     0     0     0     0     0\n",
      "      0     0     0     0]\n",
      " [39592    66    28   360   368  1306   817     2    13    15     8     2\n",
      "     10    11     2     0]]\n",
      "class_map ['BENIGN' 'Bot' 'DDoS' 'DoS GoldenEye' 'DoS Hulk' 'DoS Slowhttptest'\n",
      " 'DoS slowloris' 'FTP-Patator' 'Heartbleed' 'Infiltration' 'PortScan'\n",
      " 'SSH-Patator' 'Web Attack - Brute Force' 'Web Attack - Sql Injection'\n",
      " 'Web Attack - XSS']\n",
      "[[338176    843     57    162     74    455     89    123     47    112\n",
      "     762    142     69     47     54]\n",
      " [     0    444      0      0      0      0      0      0      0      0\n",
      "       0      0      0      0      0]\n",
      " [  8787      0   9244      0      0      0      0      0      0      0\n",
      "       0      0      0      0      0]\n",
      " [     0      0      0   1504      0      0      0      0      0      0\n",
      "       0      0      0      0      0]\n",
      " [     0      0      0      0  35870      0      0      0      0      0\n",
      "       0      0      0      0      0]\n",
      " [     0      0      0      0      0    829      0      0      0      0\n",
      "       0      0      0      0      0]\n",
      " [     0      0      0      0      0      0    809      0      0      0\n",
      "       0      0      0      0      0]\n",
      " [     1      0      0      0      0      0      0   1129      0      0\n",
      "       0      0      0      0      0]\n",
      " [     0      0      0      0      0      0      0      0      1      0\n",
      "       0      0      0      0      0]\n",
      " [     4      0      0      0      0      0      0      0      0      2\n",
      "       0      0      0      0      0]\n",
      " [  3035   5910      0      0      0      0      0      0      0      0\n",
      "   16091      0      0      0      0]\n",
      " [   368      0      0      0      0      0      0      0      0      0\n",
      "       0    471      0      0      0]\n",
      " [     0      0      0      0      0      0      0      0      0      0\n",
      "       0      0    156      7      0]\n",
      " [     0      0      0      0      0      0      0      0      0      0\n",
      "       0      0      0      0      0]\n",
      " [     0      0      0      0      0      0      0      0      0      0\n",
      "       0      0      0      0    126]]\n",
      "                            precision    recall  f1-score   support\n",
      "\n",
      "                    BENIGN     0.9652    0.9911    0.9780    341212\n",
      "                       Bot     0.0617    1.0000    0.1162       444\n",
      "                      DDoS     0.9939    0.5127    0.6764     18031\n",
      "             DoS GoldenEye     0.9028    1.0000    0.9489      1504\n",
      "                  DoS Hulk     0.9979    1.0000    0.9990     35870\n",
      "          DoS Slowhttptest     0.6456    1.0000    0.7847       829\n",
      "             DoS slowloris     0.9009    1.0000    0.9479       809\n",
      "               FTP-Patator     0.9018    0.9991    0.9479      1130\n",
      "                Heartbleed     0.0208    1.0000    0.0408         1\n",
      "              Infiltration     0.0175    0.3333    0.0333         6\n",
      "                  PortScan     0.9548    0.6427    0.7683     25036\n",
      "               SSH-Patator     0.7684    0.5614    0.6488       839\n",
      "  Web Attack - Brute Force     0.6933    0.9571    0.8041       163\n",
      "Web Attack - Sql Injection     0.0000    0.0000    0.0000         0\n",
      "          Web Attack - XSS     0.7000    1.0000    0.8235       126\n",
      "\n",
      "                  accuracy                         0.9504    426000\n",
      "                 macro avg     0.6350    0.7998    0.6345    426000\n",
      "              weighted avg     0.9659    0.9504    0.9524    426000\n",
      "\n"
     ]
    },
    {
     "name": "stderr",
     "output_type": "stream",
     "text": [
      "/vol/bitbucket/shc20/FYP/GNN-Adversarial-Attack/.venv/lib/python3.12/site-packages/sklearn/metrics/_classification.py:1565: UndefinedMetricWarning: Recall is ill-defined and being set to 0.0 in labels with no true samples. Use `zero_division` parameter to control this behavior.\n",
      "  _warn_prf(average, modifier, f\"{metric.capitalize()} is\", len(result))\n",
      "/vol/bitbucket/shc20/FYP/GNN-Adversarial-Attack/.venv/lib/python3.12/site-packages/sklearn/metrics/_classification.py:1565: UndefinedMetricWarning: Recall is ill-defined and being set to 0.0 in labels with no true samples. Use `zero_division` parameter to control this behavior.\n",
      "  _warn_prf(average, modifier, f\"{metric.capitalize()} is\", len(result))\n",
      "/vol/bitbucket/shc20/FYP/GNN-Adversarial-Attack/.venv/lib/python3.12/site-packages/sklearn/metrics/_classification.py:1565: UndefinedMetricWarning: Recall is ill-defined and being set to 0.0 in labels with no true samples. Use `zero_division` parameter to control this behavior.\n",
      "  _warn_prf(average, modifier, f\"{metric.capitalize()} is\", len(result))\n"
     ]
    }
   ],
   "source": [
    "# Inject Random Edges\n",
    "random_edge_graph_dataset = [inject_random_edges(g.cpu(), 0.1) for g in test_graph_dataset]\n",
    "random_edge_report = eval(random_edge_graph_dataset, adversarial=True)"
   ]
  },
  {
   "cell_type": "code",
   "execution_count": 38,
   "id": "e8c66190",
   "metadata": {},
   "outputs": [
    {
     "name": "stdout",
     "output_type": "stream",
     "text": [
      "Comparison of Overall Metrics:\n"
     ]
    },
    {
     "data": {
      "text/html": [
       "<style type=\"text/css\">\n",
       "</style>\n",
       "<table id=\"T_b160b\">\n",
       "  <caption>Metrics Under Adversarial Attacks</caption>\n",
       "  <thead>\n",
       "    <tr>\n",
       "      <th class=\"blank level0\" >&nbsp;</th>\n",
       "      <th id=\"T_b160b_level0_col0\" class=\"col_heading level0 col0\" >Class</th>\n",
       "      <th id=\"T_b160b_level0_col1\" class=\"col_heading level0 col1\" >Min Influence</th>\n",
       "      <th id=\"T_b160b_level0_col2\" class=\"col_heading level0 col2\" >Avg Influence</th>\n",
       "      <th id=\"T_b160b_level0_col3\" class=\"col_heading level0 col3\" >Max Influence</th>\n",
       "      <th id=\"T_b160b_level0_col4\" class=\"col_heading level0 col4\" >Normal precision</th>\n",
       "      <th id=\"T_b160b_level0_col5\" class=\"col_heading level0 col5\" >To Both precision</th>\n",
       "      <th id=\"T_b160b_level0_col6\" class=\"col_heading level0 col6\" >To Both precision Drop (%)</th>\n",
       "      <th id=\"T_b160b_level0_col7\" class=\"col_heading level0 col7\" >To Src precision</th>\n",
       "      <th id=\"T_b160b_level0_col8\" class=\"col_heading level0 col8\" >To Src precision Drop (%)</th>\n",
       "      <th id=\"T_b160b_level0_col9\" class=\"col_heading level0 col9\" >To Dst precision</th>\n",
       "      <th id=\"T_b160b_level0_col10\" class=\"col_heading level0 col10\" >To Dst precision Drop (%)</th>\n",
       "      <th id=\"T_b160b_level0_col11\" class=\"col_heading level0 col11\" >Edge Perturbation precision</th>\n",
       "      <th id=\"T_b160b_level0_col12\" class=\"col_heading level0 col12\" >Edge Perturbation precision Drop (%)</th>\n",
       "      <th id=\"T_b160b_level0_col13\" class=\"col_heading level0 col13\" >Random Edge precision</th>\n",
       "      <th id=\"T_b160b_level0_col14\" class=\"col_heading level0 col14\" >Random Edge precision Drop (%)</th>\n",
       "      <th id=\"T_b160b_level0_col15\" class=\"col_heading level0 col15\" >Normal recall</th>\n",
       "      <th id=\"T_b160b_level0_col16\" class=\"col_heading level0 col16\" >To Both recall</th>\n",
       "      <th id=\"T_b160b_level0_col17\" class=\"col_heading level0 col17\" >To Both recall Drop (%)</th>\n",
       "      <th id=\"T_b160b_level0_col18\" class=\"col_heading level0 col18\" >To Src recall</th>\n",
       "      <th id=\"T_b160b_level0_col19\" class=\"col_heading level0 col19\" >To Src recall Drop (%)</th>\n",
       "      <th id=\"T_b160b_level0_col20\" class=\"col_heading level0 col20\" >To Dst recall</th>\n",
       "      <th id=\"T_b160b_level0_col21\" class=\"col_heading level0 col21\" >To Dst recall Drop (%)</th>\n",
       "      <th id=\"T_b160b_level0_col22\" class=\"col_heading level0 col22\" >Edge Perturbation recall</th>\n",
       "      <th id=\"T_b160b_level0_col23\" class=\"col_heading level0 col23\" >Edge Perturbation recall Drop (%)</th>\n",
       "      <th id=\"T_b160b_level0_col24\" class=\"col_heading level0 col24\" >Random Edge recall</th>\n",
       "      <th id=\"T_b160b_level0_col25\" class=\"col_heading level0 col25\" >Random Edge recall Drop (%)</th>\n",
       "      <th id=\"T_b160b_level0_col26\" class=\"col_heading level0 col26\" >Normal f1-score</th>\n",
       "      <th id=\"T_b160b_level0_col27\" class=\"col_heading level0 col27\" >To Both f1-score</th>\n",
       "      <th id=\"T_b160b_level0_col28\" class=\"col_heading level0 col28\" >To Both f1-score Drop (%)</th>\n",
       "      <th id=\"T_b160b_level0_col29\" class=\"col_heading level0 col29\" >To Src f1-score</th>\n",
       "      <th id=\"T_b160b_level0_col30\" class=\"col_heading level0 col30\" >To Src f1-score Drop (%)</th>\n",
       "      <th id=\"T_b160b_level0_col31\" class=\"col_heading level0 col31\" >To Dst f1-score</th>\n",
       "      <th id=\"T_b160b_level0_col32\" class=\"col_heading level0 col32\" >To Dst f1-score Drop (%)</th>\n",
       "      <th id=\"T_b160b_level0_col33\" class=\"col_heading level0 col33\" >Edge Perturbation f1-score</th>\n",
       "      <th id=\"T_b160b_level0_col34\" class=\"col_heading level0 col34\" >Edge Perturbation f1-score Drop (%)</th>\n",
       "      <th id=\"T_b160b_level0_col35\" class=\"col_heading level0 col35\" >Random Edge f1-score</th>\n",
       "      <th id=\"T_b160b_level0_col36\" class=\"col_heading level0 col36\" >Random Edge f1-score Drop (%)</th>\n",
       "      <th id=\"T_b160b_level0_col37\" class=\"col_heading level0 col37\" >support</th>\n",
       "    </tr>\n",
       "  </thead>\n",
       "  <tbody>\n",
       "    <tr>\n",
       "      <th id=\"T_b160b_level0_row0\" class=\"row_heading level0 row0\" >0</th>\n",
       "      <td id=\"T_b160b_row0_col0\" class=\"data row0 col0\" >BENIGN</td>\n",
       "      <td id=\"T_b160b_row0_col1\" class=\"data row0 col1\" >0.00</td>\n",
       "      <td id=\"T_b160b_row0_col2\" class=\"data row0 col2\" >22.10</td>\n",
       "      <td id=\"T_b160b_row0_col3\" class=\"data row0 col3\" >5248675.75</td>\n",
       "      <td id=\"T_b160b_row0_col4\" class=\"data row0 col4\" >1.00</td>\n",
       "      <td id=\"T_b160b_row0_col5\" class=\"data row0 col5\" >0.91</td>\n",
       "      <td id=\"T_b160b_row0_col6\" class=\"data row0 col6\" >9.20</td>\n",
       "      <td id=\"T_b160b_row0_col7\" class=\"data row0 col7\" >0.91</td>\n",
       "      <td id=\"T_b160b_row0_col8\" class=\"data row0 col8\" >9.30</td>\n",
       "      <td id=\"T_b160b_row0_col9\" class=\"data row0 col9\" >1.00</td>\n",
       "      <td id=\"T_b160b_row0_col10\" class=\"data row0 col10\" >0.02</td>\n",
       "      <td id=\"T_b160b_row0_col11\" class=\"data row0 col11\" >1.00</td>\n",
       "      <td id=\"T_b160b_row0_col12\" class=\"data row0 col12\" >0.08</td>\n",
       "      <td id=\"T_b160b_row0_col13\" class=\"data row0 col13\" >0.97</td>\n",
       "      <td id=\"T_b160b_row0_col14\" class=\"data row0 col14\" >3.48</td>\n",
       "      <td id=\"T_b160b_row0_col15\" class=\"data row0 col15\" >0.99</td>\n",
       "      <td id=\"T_b160b_row0_col16\" class=\"data row0 col16\" >0.99</td>\n",
       "      <td id=\"T_b160b_row0_col17\" class=\"data row0 col17\" >-0.18</td>\n",
       "      <td id=\"T_b160b_row0_col18\" class=\"data row0 col18\" >0.99</td>\n",
       "      <td id=\"T_b160b_row0_col19\" class=\"data row0 col19\" >-0.05</td>\n",
       "      <td id=\"T_b160b_row0_col20\" class=\"data row0 col20\" >0.99</td>\n",
       "      <td id=\"T_b160b_row0_col21\" class=\"data row0 col21\" >-0.07</td>\n",
       "      <td id=\"T_b160b_row0_col22\" class=\"data row0 col22\" >0.98</td>\n",
       "      <td id=\"T_b160b_row0_col23\" class=\"data row0 col23\" >0.87</td>\n",
       "      <td id=\"T_b160b_row0_col24\" class=\"data row0 col24\" >0.99</td>\n",
       "      <td id=\"T_b160b_row0_col25\" class=\"data row0 col25\" >-0.09</td>\n",
       "      <td id=\"T_b160b_row0_col26\" class=\"data row0 col26\" >1.00</td>\n",
       "      <td id=\"T_b160b_row0_col27\" class=\"data row0 col27\" >0.95</td>\n",
       "      <td id=\"T_b160b_row0_col28\" class=\"data row0 col28\" >4.72</td>\n",
       "      <td id=\"T_b160b_row0_col29\" class=\"data row0 col29\" >0.95</td>\n",
       "      <td id=\"T_b160b_row0_col30\" class=\"data row0 col30\" >4.83</td>\n",
       "      <td id=\"T_b160b_row0_col31\" class=\"data row0 col31\" >1.00</td>\n",
       "      <td id=\"T_b160b_row0_col32\" class=\"data row0 col32\" >-0.02</td>\n",
       "      <td id=\"T_b160b_row0_col33\" class=\"data row0 col33\" >0.99</td>\n",
       "      <td id=\"T_b160b_row0_col34\" class=\"data row0 col34\" >0.48</td>\n",
       "      <td id=\"T_b160b_row0_col35\" class=\"data row0 col35\" >0.98</td>\n",
       "      <td id=\"T_b160b_row0_col36\" class=\"data row0 col36\" >1.72</td>\n",
       "      <td id=\"T_b160b_row0_col37\" class=\"data row0 col37\" >341212</td>\n",
       "    </tr>\n",
       "    <tr>\n",
       "      <th id=\"T_b160b_level0_row1\" class=\"row_heading level0 row1\" >1</th>\n",
       "      <td id=\"T_b160b_row1_col0\" class=\"data row1 col0\" >Bot</td>\n",
       "      <td id=\"T_b160b_row1_col1\" class=\"data row1 col1\" >0.01</td>\n",
       "      <td id=\"T_b160b_row1_col2\" class=\"data row1 col2\" >6.85</td>\n",
       "      <td id=\"T_b160b_row1_col3\" class=\"data row1 col3\" >2420.00</td>\n",
       "      <td id=\"T_b160b_row1_col4\" class=\"data row1 col4\" >0.28</td>\n",
       "      <td id=\"T_b160b_row1_col5\" class=\"data row1 col5\" >0.27</td>\n",
       "      <td id=\"T_b160b_row1_col6\" class=\"data row1 col6\" >3.56</td>\n",
       "      <td id=\"T_b160b_row1_col7\" class=\"data row1 col7\" >0.24</td>\n",
       "      <td id=\"T_b160b_row1_col8\" class=\"data row1 col8\" >14.73</td>\n",
       "      <td id=\"T_b160b_row1_col9\" class=\"data row1 col9\" >0.32</td>\n",
       "      <td id=\"T_b160b_row1_col10\" class=\"data row1 col10\" >-11.84</td>\n",
       "      <td id=\"T_b160b_row1_col11\" class=\"data row1 col11\" >0.11</td>\n",
       "      <td id=\"T_b160b_row1_col12\" class=\"data row1 col12\" >62.40</td>\n",
       "      <td id=\"T_b160b_row1_col13\" class=\"data row1 col13\" >0.06</td>\n",
       "      <td id=\"T_b160b_row1_col14\" class=\"data row1 col14\" >78.17</td>\n",
       "      <td id=\"T_b160b_row1_col15\" class=\"data row1 col15\" >1.00</td>\n",
       "      <td id=\"T_b160b_row1_col16\" class=\"data row1 col16\" >1.00</td>\n",
       "      <td id=\"T_b160b_row1_col17\" class=\"data row1 col17\" >0.00</td>\n",
       "      <td id=\"T_b160b_row1_col18\" class=\"data row1 col18\" >1.00</td>\n",
       "      <td id=\"T_b160b_row1_col19\" class=\"data row1 col19\" >0.45</td>\n",
       "      <td id=\"T_b160b_row1_col20\" class=\"data row1 col20\" >0.99</td>\n",
       "      <td id=\"T_b160b_row1_col21\" class=\"data row1 col21\" >0.90</td>\n",
       "      <td id=\"T_b160b_row1_col22\" class=\"data row1 col22\" >0.98</td>\n",
       "      <td id=\"T_b160b_row1_col23\" class=\"data row1 col23\" >2.03</td>\n",
       "      <td id=\"T_b160b_row1_col24\" class=\"data row1 col24\" >1.00</td>\n",
       "      <td id=\"T_b160b_row1_col25\" class=\"data row1 col25\" >0.00</td>\n",
       "      <td id=\"T_b160b_row1_col26\" class=\"data row1 col26\" >0.44</td>\n",
       "      <td id=\"T_b160b_row1_col27\" class=\"data row1 col27\" >0.43</td>\n",
       "      <td id=\"T_b160b_row1_col28\" class=\"data row1 col28\" >2.80</td>\n",
       "      <td id=\"T_b160b_row1_col29\" class=\"data row1 col29\" >0.39</td>\n",
       "      <td id=\"T_b160b_row1_col30\" class=\"data row1 col30\" >11.94</td>\n",
       "      <td id=\"T_b160b_row1_col31\" class=\"data row1 col31\" >0.48</td>\n",
       "      <td id=\"T_b160b_row1_col32\" class=\"data row1 col32\" >-8.76</td>\n",
       "      <td id=\"T_b160b_row1_col33\" class=\"data row1 col33\" >0.19</td>\n",
       "      <td id=\"T_b160b_row1_col34\" class=\"data row1 col34\" >56.50</td>\n",
       "      <td id=\"T_b160b_row1_col35\" class=\"data row1 col35\" >0.12</td>\n",
       "      <td id=\"T_b160b_row1_col36\" class=\"data row1 col36\" >73.63</td>\n",
       "      <td id=\"T_b160b_row1_col37\" class=\"data row1 col37\" >444</td>\n",
       "    </tr>\n",
       "    <tr>\n",
       "      <th id=\"T_b160b_level0_row2\" class=\"row_heading level0 row2\" >2</th>\n",
       "      <td id=\"T_b160b_row2_col0\" class=\"data row2 col0\" >DDoS</td>\n",
       "      <td id=\"T_b160b_row2_col1\" class=\"data row2 col1\" >212.80</td>\n",
       "      <td id=\"T_b160b_row2_col2\" class=\"data row2 col2\" >2003.44</td>\n",
       "      <td id=\"T_b160b_row2_col3\" class=\"data row2 col3\" >11264.08</td>\n",
       "      <td id=\"T_b160b_row2_col4\" class=\"data row2 col4\" >1.00</td>\n",
       "      <td id=\"T_b160b_row2_col5\" class=\"data row2 col5\" >1.00</td>\n",
       "      <td id=\"T_b160b_row2_col6\" class=\"data row2 col6\" >0.20</td>\n",
       "      <td id=\"T_b160b_row2_col7\" class=\"data row2 col7\" >1.00</td>\n",
       "      <td id=\"T_b160b_row2_col8\" class=\"data row2 col8\" >0.12</td>\n",
       "      <td id=\"T_b160b_row2_col9\" class=\"data row2 col9\" >1.00</td>\n",
       "      <td id=\"T_b160b_row2_col10\" class=\"data row2 col10\" >-0.03</td>\n",
       "      <td id=\"T_b160b_row2_col11\" class=\"data row2 col11\" >0.99</td>\n",
       "      <td id=\"T_b160b_row2_col12\" class=\"data row2 col12\" >0.23</td>\n",
       "      <td id=\"T_b160b_row2_col13\" class=\"data row2 col13\" >0.99</td>\n",
       "      <td id=\"T_b160b_row2_col14\" class=\"data row2 col14\" >0.33</td>\n",
       "      <td id=\"T_b160b_row2_col15\" class=\"data row2 col15\" >1.00</td>\n",
       "      <td id=\"T_b160b_row2_col16\" class=\"data row2 col16\" >0.51</td>\n",
       "      <td id=\"T_b160b_row2_col17\" class=\"data row2 col17\" >48.73</td>\n",
       "      <td id=\"T_b160b_row2_col18\" class=\"data row2 col18\" >0.51</td>\n",
       "      <td id=\"T_b160b_row2_col19\" class=\"data row2 col19\" >48.73</td>\n",
       "      <td id=\"T_b160b_row2_col20\" class=\"data row2 col20\" >1.00</td>\n",
       "      <td id=\"T_b160b_row2_col21\" class=\"data row2 col21\" >0.00</td>\n",
       "      <td id=\"T_b160b_row2_col22\" class=\"data row2 col22\" >1.00</td>\n",
       "      <td id=\"T_b160b_row2_col23\" class=\"data row2 col23\" >0.00</td>\n",
       "      <td id=\"T_b160b_row2_col24\" class=\"data row2 col24\" >0.51</td>\n",
       "      <td id=\"T_b160b_row2_col25\" class=\"data row2 col25\" >48.73</td>\n",
       "      <td id=\"T_b160b_row2_col26\" class=\"data row2 col26\" >1.00</td>\n",
       "      <td id=\"T_b160b_row2_col27\" class=\"data row2 col27\" >0.68</td>\n",
       "      <td id=\"T_b160b_row2_col28\" class=\"data row2 col28\" >32.23</td>\n",
       "      <td id=\"T_b160b_row2_col29\" class=\"data row2 col29\" >0.68</td>\n",
       "      <td id=\"T_b160b_row2_col30\" class=\"data row2 col30\" >32.21</td>\n",
       "      <td id=\"T_b160b_row2_col31\" class=\"data row2 col31\" >1.00</td>\n",
       "      <td id=\"T_b160b_row2_col32\" class=\"data row2 col32\" >-0.02</td>\n",
       "      <td id=\"T_b160b_row2_col33\" class=\"data row2 col33\" >1.00</td>\n",
       "      <td id=\"T_b160b_row2_col34\" class=\"data row2 col34\" >0.12</td>\n",
       "      <td id=\"T_b160b_row2_col35\" class=\"data row2 col35\" >0.68</td>\n",
       "      <td id=\"T_b160b_row2_col36\" class=\"data row2 col36\" >32.26</td>\n",
       "      <td id=\"T_b160b_row2_col37\" class=\"data row2 col37\" >18031</td>\n",
       "    </tr>\n",
       "    <tr>\n",
       "      <th id=\"T_b160b_level0_row3\" class=\"row_heading level0 row3\" >3</th>\n",
       "      <td id=\"T_b160b_row3_col0\" class=\"data row3 col0\" >DoS GoldenEye</td>\n",
       "      <td id=\"T_b160b_row3_col1\" class=\"data row3 col1\" >1504.00</td>\n",
       "      <td id=\"T_b160b_row3_col2\" class=\"data row3 col2\" >1504.00</td>\n",
       "      <td id=\"T_b160b_row3_col3\" class=\"data row3 col3\" >1504.00</td>\n",
       "      <td id=\"T_b160b_row3_col4\" class=\"data row3 col4\" >0.99</td>\n",
       "      <td id=\"T_b160b_row3_col5\" class=\"data row3 col5\" >0.92</td>\n",
       "      <td id=\"T_b160b_row3_col6\" class=\"data row3 col6\" >7.17</td>\n",
       "      <td id=\"T_b160b_row3_col7\" class=\"data row3 col7\" >0.91</td>\n",
       "      <td id=\"T_b160b_row3_col8\" class=\"data row3 col8\" >8.51</td>\n",
       "      <td id=\"T_b160b_row3_col9\" class=\"data row3 col9\" >0.94</td>\n",
       "      <td id=\"T_b160b_row3_col10\" class=\"data row3 col10\" >4.90</td>\n",
       "      <td id=\"T_b160b_row3_col11\" class=\"data row3 col11\" >0.99</td>\n",
       "      <td id=\"T_b160b_row3_col12\" class=\"data row3 col12\" >-0.13</td>\n",
       "      <td id=\"T_b160b_row3_col13\" class=\"data row3 col13\" >0.90</td>\n",
       "      <td id=\"T_b160b_row3_col14\" class=\"data row3 col14\" >9.06</td>\n",
       "      <td id=\"T_b160b_row3_col15\" class=\"data row3 col15\" >1.00</td>\n",
       "      <td id=\"T_b160b_row3_col16\" class=\"data row3 col16\" >1.00</td>\n",
       "      <td id=\"T_b160b_row3_col17\" class=\"data row3 col17\" >0.00</td>\n",
       "      <td id=\"T_b160b_row3_col18\" class=\"data row3 col18\" >1.00</td>\n",
       "      <td id=\"T_b160b_row3_col19\" class=\"data row3 col19\" >0.00</td>\n",
       "      <td id=\"T_b160b_row3_col20\" class=\"data row3 col20\" >1.00</td>\n",
       "      <td id=\"T_b160b_row3_col21\" class=\"data row3 col21\" >0.00</td>\n",
       "      <td id=\"T_b160b_row3_col22\" class=\"data row3 col22\" >1.00</td>\n",
       "      <td id=\"T_b160b_row3_col23\" class=\"data row3 col23\" >0.00</td>\n",
       "      <td id=\"T_b160b_row3_col24\" class=\"data row3 col24\" >1.00</td>\n",
       "      <td id=\"T_b160b_row3_col25\" class=\"data row3 col25\" >0.00</td>\n",
       "      <td id=\"T_b160b_row3_col26\" class=\"data row3 col26\" >1.00</td>\n",
       "      <td id=\"T_b160b_row3_col27\" class=\"data row3 col27\" >0.96</td>\n",
       "      <td id=\"T_b160b_row3_col28\" class=\"data row3 col28\" >3.73</td>\n",
       "      <td id=\"T_b160b_row3_col29\" class=\"data row3 col29\" >0.95</td>\n",
       "      <td id=\"T_b160b_row3_col30\" class=\"data row3 col30\" >4.46</td>\n",
       "      <td id=\"T_b160b_row3_col31\" class=\"data row3 col31\" >0.97</td>\n",
       "      <td id=\"T_b160b_row3_col32\" class=\"data row3 col32\" >2.52</td>\n",
       "      <td id=\"T_b160b_row3_col33\" class=\"data row3 col33\" >1.00</td>\n",
       "      <td id=\"T_b160b_row3_col34\" class=\"data row3 col34\" >-0.07</td>\n",
       "      <td id=\"T_b160b_row3_col35\" class=\"data row3 col35\" >0.95</td>\n",
       "      <td id=\"T_b160b_row3_col36\" class=\"data row3 col36\" >4.76</td>\n",
       "      <td id=\"T_b160b_row3_col37\" class=\"data row3 col37\" >1504</td>\n",
       "    </tr>\n",
       "    <tr>\n",
       "      <th id=\"T_b160b_level0_row4\" class=\"row_heading level0 row4\" >4</th>\n",
       "      <td id=\"T_b160b_row4_col0\" class=\"data row4 col0\" >DoS Hulk</td>\n",
       "      <td id=\"T_b160b_row4_col1\" class=\"data row4 col1\" >1556.40</td>\n",
       "      <td id=\"T_b160b_row4_col2\" class=\"data row4 col2\" >2759.23</td>\n",
       "      <td id=\"T_b160b_row4_col3\" class=\"data row4 col3\" >4102.74</td>\n",
       "      <td id=\"T_b160b_row4_col4\" class=\"data row4 col4\" >1.00</td>\n",
       "      <td id=\"T_b160b_row4_col5\" class=\"data row4 col5\" >1.00</td>\n",
       "      <td id=\"T_b160b_row4_col6\" class=\"data row4 col6\" >-0.01</td>\n",
       "      <td id=\"T_b160b_row4_col7\" class=\"data row4 col7\" >1.00</td>\n",
       "      <td id=\"T_b160b_row4_col8\" class=\"data row4 col8\" >-0.08</td>\n",
       "      <td id=\"T_b160b_row4_col9\" class=\"data row4 col9\" >1.00</td>\n",
       "      <td id=\"T_b160b_row4_col10\" class=\"data row4 col10\" >-0.00</td>\n",
       "      <td id=\"T_b160b_row4_col11\" class=\"data row4 col11\" >0.99</td>\n",
       "      <td id=\"T_b160b_row4_col12\" class=\"data row4 col12\" >0.37</td>\n",
       "      <td id=\"T_b160b_row4_col13\" class=\"data row4 col13\" >1.00</td>\n",
       "      <td id=\"T_b160b_row4_col14\" class=\"data row4 col14\" >-0.00</td>\n",
       "      <td id=\"T_b160b_row4_col15\" class=\"data row4 col15\" >1.00</td>\n",
       "      <td id=\"T_b160b_row4_col16\" class=\"data row4 col16\" >1.00</td>\n",
       "      <td id=\"T_b160b_row4_col17\" class=\"data row4 col17\" >0.00</td>\n",
       "      <td id=\"T_b160b_row4_col18\" class=\"data row4 col18\" >1.00</td>\n",
       "      <td id=\"T_b160b_row4_col19\" class=\"data row4 col19\" >0.00</td>\n",
       "      <td id=\"T_b160b_row4_col20\" class=\"data row4 col20\" >1.00</td>\n",
       "      <td id=\"T_b160b_row4_col21\" class=\"data row4 col21\" >0.00</td>\n",
       "      <td id=\"T_b160b_row4_col22\" class=\"data row4 col22\" >1.00</td>\n",
       "      <td id=\"T_b160b_row4_col23\" class=\"data row4 col23\" >0.00</td>\n",
       "      <td id=\"T_b160b_row4_col24\" class=\"data row4 col24\" >1.00</td>\n",
       "      <td id=\"T_b160b_row4_col25\" class=\"data row4 col25\" >0.00</td>\n",
       "      <td id=\"T_b160b_row4_col26\" class=\"data row4 col26\" >1.00</td>\n",
       "      <td id=\"T_b160b_row4_col27\" class=\"data row4 col27\" >1.00</td>\n",
       "      <td id=\"T_b160b_row4_col28\" class=\"data row4 col28\" >-0.00</td>\n",
       "      <td id=\"T_b160b_row4_col29\" class=\"data row4 col29\" >1.00</td>\n",
       "      <td id=\"T_b160b_row4_col30\" class=\"data row4 col30\" >-0.04</td>\n",
       "      <td id=\"T_b160b_row4_col31\" class=\"data row4 col31\" >1.00</td>\n",
       "      <td id=\"T_b160b_row4_col32\" class=\"data row4 col32\" >-0.00</td>\n",
       "      <td id=\"T_b160b_row4_col33\" class=\"data row4 col33\" >1.00</td>\n",
       "      <td id=\"T_b160b_row4_col34\" class=\"data row4 col34\" >0.19</td>\n",
       "      <td id=\"T_b160b_row4_col35\" class=\"data row4 col35\" >1.00</td>\n",
       "      <td id=\"T_b160b_row4_col36\" class=\"data row4 col36\" >-0.00</td>\n",
       "      <td id=\"T_b160b_row4_col37\" class=\"data row4 col37\" >35870</td>\n",
       "    </tr>\n",
       "    <tr>\n",
       "      <th id=\"T_b160b_level0_row5\" class=\"row_heading level0 row5\" >5</th>\n",
       "      <td id=\"T_b160b_row5_col0\" class=\"data row5 col0\" >DoS Slowhttptest</td>\n",
       "      <td id=\"T_b160b_row5_col1\" class=\"data row5 col1\" >2.58</td>\n",
       "      <td id=\"T_b160b_row5_col2\" class=\"data row5 col2\" >414.50</td>\n",
       "      <td id=\"T_b160b_row5_col3\" class=\"data row5 col3\" >13659.02</td>\n",
       "      <td id=\"T_b160b_row5_col4\" class=\"data row5 col4\" >0.86</td>\n",
       "      <td id=\"T_b160b_row5_col5\" class=\"data row5 col5\" >0.67</td>\n",
       "      <td id=\"T_b160b_row5_col6\" class=\"data row5 col6\" >21.48</td>\n",
       "      <td id=\"T_b160b_row5_col7\" class=\"data row5 col7\" >0.53</td>\n",
       "      <td id=\"T_b160b_row5_col8\" class=\"data row5 col8\" >37.90</td>\n",
       "      <td id=\"T_b160b_row5_col9\" class=\"data row5 col9\" >0.83</td>\n",
       "      <td id=\"T_b160b_row5_col10\" class=\"data row5 col10\" >3.11</td>\n",
       "      <td id=\"T_b160b_row5_col11\" class=\"data row5 col11\" >0.79</td>\n",
       "      <td id=\"T_b160b_row5_col12\" class=\"data row5 col12\" >8.53</td>\n",
       "      <td id=\"T_b160b_row5_col13\" class=\"data row5 col13\" >0.65</td>\n",
       "      <td id=\"T_b160b_row5_col14\" class=\"data row5 col14\" >24.84</td>\n",
       "      <td id=\"T_b160b_row5_col15\" class=\"data row5 col15\" >1.00</td>\n",
       "      <td id=\"T_b160b_row5_col16\" class=\"data row5 col16\" >1.00</td>\n",
       "      <td id=\"T_b160b_row5_col17\" class=\"data row5 col17\" >0.00</td>\n",
       "      <td id=\"T_b160b_row5_col18\" class=\"data row5 col18\" >1.00</td>\n",
       "      <td id=\"T_b160b_row5_col19\" class=\"data row5 col19\" >0.00</td>\n",
       "      <td id=\"T_b160b_row5_col20\" class=\"data row5 col20\" >1.00</td>\n",
       "      <td id=\"T_b160b_row5_col21\" class=\"data row5 col21\" >0.00</td>\n",
       "      <td id=\"T_b160b_row5_col22\" class=\"data row5 col22\" >1.00</td>\n",
       "      <td id=\"T_b160b_row5_col23\" class=\"data row5 col23\" >0.00</td>\n",
       "      <td id=\"T_b160b_row5_col24\" class=\"data row5 col24\" >1.00</td>\n",
       "      <td id=\"T_b160b_row5_col25\" class=\"data row5 col25\" >0.00</td>\n",
       "      <td id=\"T_b160b_row5_col26\" class=\"data row5 col26\" >0.92</td>\n",
       "      <td id=\"T_b160b_row5_col27\" class=\"data row5 col27\" >0.81</td>\n",
       "      <td id=\"T_b160b_row5_col28\" class=\"data row5 col28\" >12.83</td>\n",
       "      <td id=\"T_b160b_row5_col29\" class=\"data row5 col29\" >0.70</td>\n",
       "      <td id=\"T_b160b_row5_col30\" class=\"data row5 col30\" >24.72</td>\n",
       "      <td id=\"T_b160b_row5_col31\" class=\"data row5 col31\" >0.91</td>\n",
       "      <td id=\"T_b160b_row5_col32\" class=\"data row5 col32\" >1.70</td>\n",
       "      <td id=\"T_b160b_row5_col33\" class=\"data row5 col33\" >0.88</td>\n",
       "      <td id=\"T_b160b_row5_col34\" class=\"data row5 col34\" >4.78</td>\n",
       "      <td id=\"T_b160b_row5_col35\" class=\"data row5 col35\" >0.78</td>\n",
       "      <td id=\"T_b160b_row5_col36\" class=\"data row5 col36\" >15.10</td>\n",
       "      <td id=\"T_b160b_row5_col37\" class=\"data row5 col37\" >829</td>\n",
       "    </tr>\n",
       "    <tr>\n",
       "      <th id=\"T_b160b_level0_row6\" class=\"row_heading level0 row6\" >6</th>\n",
       "      <td id=\"T_b160b_row6_col0\" class=\"data row6 col0\" >DoS slowloris</td>\n",
       "      <td id=\"T_b160b_row6_col1\" class=\"data row6 col1\" >11.53</td>\n",
       "      <td id=\"T_b160b_row6_col2\" class=\"data row6 col2\" >404.50</td>\n",
       "      <td id=\"T_b160b_row6_col3\" class=\"data row6 col3\" >5665.10</td>\n",
       "      <td id=\"T_b160b_row6_col4\" class=\"data row6 col4\" >0.96</td>\n",
       "      <td id=\"T_b160b_row6_col5\" class=\"data row6 col5\" >0.92</td>\n",
       "      <td id=\"T_b160b_row6_col6\" class=\"data row6 col6\" >3.88</td>\n",
       "      <td id=\"T_b160b_row6_col7\" class=\"data row6 col7\" >0.85</td>\n",
       "      <td id=\"T_b160b_row6_col8\" class=\"data row6 col8\" >11.54</td>\n",
       "      <td id=\"T_b160b_row6_col9\" class=\"data row6 col9\" >0.95</td>\n",
       "      <td id=\"T_b160b_row6_col10\" class=\"data row6 col10\" >1.29</td>\n",
       "      <td id=\"T_b160b_row6_col11\" class=\"data row6 col11\" >0.93</td>\n",
       "      <td id=\"T_b160b_row6_col12\" class=\"data row6 col12\" >3.33</td>\n",
       "      <td id=\"T_b160b_row6_col13\" class=\"data row6 col13\" >0.90</td>\n",
       "      <td id=\"T_b160b_row6_col14\" class=\"data row6 col14\" >6.12</td>\n",
       "      <td id=\"T_b160b_row6_col15\" class=\"data row6 col15\" >1.00</td>\n",
       "      <td id=\"T_b160b_row6_col16\" class=\"data row6 col16\" >1.00</td>\n",
       "      <td id=\"T_b160b_row6_col17\" class=\"data row6 col17\" >0.00</td>\n",
       "      <td id=\"T_b160b_row6_col18\" class=\"data row6 col18\" >1.00</td>\n",
       "      <td id=\"T_b160b_row6_col19\" class=\"data row6 col19\" >0.00</td>\n",
       "      <td id=\"T_b160b_row6_col20\" class=\"data row6 col20\" >1.00</td>\n",
       "      <td id=\"T_b160b_row6_col21\" class=\"data row6 col21\" >0.00</td>\n",
       "      <td id=\"T_b160b_row6_col22\" class=\"data row6 col22\" >1.00</td>\n",
       "      <td id=\"T_b160b_row6_col23\" class=\"data row6 col23\" >0.00</td>\n",
       "      <td id=\"T_b160b_row6_col24\" class=\"data row6 col24\" >1.00</td>\n",
       "      <td id=\"T_b160b_row6_col25\" class=\"data row6 col25\" >0.00</td>\n",
       "      <td id=\"T_b160b_row6_col26\" class=\"data row6 col26\" >0.98</td>\n",
       "      <td id=\"T_b160b_row6_col27\" class=\"data row6 col27\" >0.96</td>\n",
       "      <td id=\"T_b160b_row6_col28\" class=\"data row6 col28\" >2.02</td>\n",
       "      <td id=\"T_b160b_row6_col29\" class=\"data row6 col29\" >0.92</td>\n",
       "      <td id=\"T_b160b_row6_col30\" class=\"data row6 col30\" >6.24</td>\n",
       "      <td id=\"T_b160b_row6_col31\" class=\"data row6 col31\" >0.97</td>\n",
       "      <td id=\"T_b160b_row6_col32\" class=\"data row6 col32\" >0.66</td>\n",
       "      <td id=\"T_b160b_row6_col33\" class=\"data row6 col33\" >0.96</td>\n",
       "      <td id=\"T_b160b_row6_col34\" class=\"data row6 col34\" >1.73</td>\n",
       "      <td id=\"T_b160b_row6_col35\" class=\"data row6 col35\" >0.95</td>\n",
       "      <td id=\"T_b160b_row6_col36\" class=\"data row6 col36\" >3.22</td>\n",
       "      <td id=\"T_b160b_row6_col37\" class=\"data row6 col37\" >809</td>\n",
       "    </tr>\n",
       "    <tr>\n",
       "      <th id=\"T_b160b_level0_row7\" class=\"row_heading level0 row7\" >7</th>\n",
       "      <td id=\"T_b160b_row7_col0\" class=\"data row7 col0\" >FTP-Patator</td>\n",
       "      <td id=\"T_b160b_row7_col1\" class=\"data row7 col1\" >0.00</td>\n",
       "      <td id=\"T_b160b_row7_col2\" class=\"data row7 col2\" >226.00</td>\n",
       "      <td id=\"T_b160b_row7_col3\" class=\"data row7 col3\" >139128.86</td>\n",
       "      <td id=\"T_b160b_row7_col4\" class=\"data row7 col4\" >0.89</td>\n",
       "      <td id=\"T_b160b_row7_col5\" class=\"data row7 col5\" >0.91</td>\n",
       "      <td id=\"T_b160b_row7_col6\" class=\"data row7 col6\" >-1.61</td>\n",
       "      <td id=\"T_b160b_row7_col7\" class=\"data row7 col7\" >0.97</td>\n",
       "      <td id=\"T_b160b_row7_col8\" class=\"data row7 col8\" >-8.95</td>\n",
       "      <td id=\"T_b160b_row7_col9\" class=\"data row7 col9\" >0.90</td>\n",
       "      <td id=\"T_b160b_row7_col10\" class=\"data row7 col10\" >-1.04</td>\n",
       "      <td id=\"T_b160b_row7_col11\" class=\"data row7 col11\" >0.85</td>\n",
       "      <td id=\"T_b160b_row7_col12\" class=\"data row7 col12\" >4.16</td>\n",
       "      <td id=\"T_b160b_row7_col13\" class=\"data row7 col13\" >0.90</td>\n",
       "      <td id=\"T_b160b_row7_col14\" class=\"data row7 col14\" >-1.12</td>\n",
       "      <td id=\"T_b160b_row7_col15\" class=\"data row7 col15\" >1.00</td>\n",
       "      <td id=\"T_b160b_row7_col16\" class=\"data row7 col16\" >1.00</td>\n",
       "      <td id=\"T_b160b_row7_col17\" class=\"data row7 col17\" >0.00</td>\n",
       "      <td id=\"T_b160b_row7_col18\" class=\"data row7 col18\" >1.00</td>\n",
       "      <td id=\"T_b160b_row7_col19\" class=\"data row7 col19\" >0.00</td>\n",
       "      <td id=\"T_b160b_row7_col20\" class=\"data row7 col20\" >1.00</td>\n",
       "      <td id=\"T_b160b_row7_col21\" class=\"data row7 col21\" >0.00</td>\n",
       "      <td id=\"T_b160b_row7_col22\" class=\"data row7 col22\" >1.00</td>\n",
       "      <td id=\"T_b160b_row7_col23\" class=\"data row7 col23\" >0.00</td>\n",
       "      <td id=\"T_b160b_row7_col24\" class=\"data row7 col24\" >1.00</td>\n",
       "      <td id=\"T_b160b_row7_col25\" class=\"data row7 col25\" >0.00</td>\n",
       "      <td id=\"T_b160b_row7_col26\" class=\"data row7 col26\" >0.94</td>\n",
       "      <td id=\"T_b160b_row7_col27\" class=\"data row7 col27\" >0.95</td>\n",
       "      <td id=\"T_b160b_row7_col28\" class=\"data row7 col28\" >-0.84</td>\n",
       "      <td id=\"T_b160b_row7_col29\" class=\"data row7 col29\" >0.99</td>\n",
       "      <td id=\"T_b160b_row7_col30\" class=\"data row7 col30\" >-4.54</td>\n",
       "      <td id=\"T_b160b_row7_col31\" class=\"data row7 col31\" >0.95</td>\n",
       "      <td id=\"T_b160b_row7_col32\" class=\"data row7 col32\" >-0.55</td>\n",
       "      <td id=\"T_b160b_row7_col33\" class=\"data row7 col33\" >0.92</td>\n",
       "      <td id=\"T_b160b_row7_col34\" class=\"data row7 col34\" >2.24</td>\n",
       "      <td id=\"T_b160b_row7_col35\" class=\"data row7 col35\" >0.95</td>\n",
       "      <td id=\"T_b160b_row7_col36\" class=\"data row7 col36\" >-0.59</td>\n",
       "      <td id=\"T_b160b_row7_col37\" class=\"data row7 col37\" >1130</td>\n",
       "    </tr>\n",
       "    <tr>\n",
       "      <th id=\"T_b160b_level0_row8\" class=\"row_heading level0 row8\" >8</th>\n",
       "      <td id=\"T_b160b_row8_col0\" class=\"data row8 col0\" >Heartbleed</td>\n",
       "      <td id=\"T_b160b_row8_col1\" class=\"data row8 col1\" >1.00</td>\n",
       "      <td id=\"T_b160b_row8_col2\" class=\"data row8 col2\" >1.00</td>\n",
       "      <td id=\"T_b160b_row8_col3\" class=\"data row8 col3\" >1.00</td>\n",
       "      <td id=\"T_b160b_row8_col4\" class=\"data row8 col4\" >0.01</td>\n",
       "      <td id=\"T_b160b_row8_col5\" class=\"data row8 col5\" >0.01</td>\n",
       "      <td id=\"T_b160b_row8_col6\" class=\"data row8 col6\" >-57.35</td>\n",
       "      <td id=\"T_b160b_row8_col7\" class=\"data row8 col7\" >0.01</td>\n",
       "      <td id=\"T_b160b_row8_col8\" class=\"data row8 col8\" >-59.70</td>\n",
       "      <td id=\"T_b160b_row8_col9\" class=\"data row8 col9\" >0.01</td>\n",
       "      <td id=\"T_b160b_row8_col10\" class=\"data row8 col10\" >-50.70</td>\n",
       "      <td id=\"T_b160b_row8_col11\" class=\"data row8 col11\" >0.01</td>\n",
       "      <td id=\"T_b160b_row8_col12\" class=\"data row8 col12\" >8.55</td>\n",
       "      <td id=\"T_b160b_row8_col13\" class=\"data row8 col13\" >0.02</td>\n",
       "      <td id=\"T_b160b_row8_col14\" class=\"data row8 col14\" >-122.92</td>\n",
       "      <td id=\"T_b160b_row8_col15\" class=\"data row8 col15\" >1.00</td>\n",
       "      <td id=\"T_b160b_row8_col16\" class=\"data row8 col16\" >1.00</td>\n",
       "      <td id=\"T_b160b_row8_col17\" class=\"data row8 col17\" >0.00</td>\n",
       "      <td id=\"T_b160b_row8_col18\" class=\"data row8 col18\" >1.00</td>\n",
       "      <td id=\"T_b160b_row8_col19\" class=\"data row8 col19\" >0.00</td>\n",
       "      <td id=\"T_b160b_row8_col20\" class=\"data row8 col20\" >1.00</td>\n",
       "      <td id=\"T_b160b_row8_col21\" class=\"data row8 col21\" >0.00</td>\n",
       "      <td id=\"T_b160b_row8_col22\" class=\"data row8 col22\" >1.00</td>\n",
       "      <td id=\"T_b160b_row8_col23\" class=\"data row8 col23\" >0.00</td>\n",
       "      <td id=\"T_b160b_row8_col24\" class=\"data row8 col24\" >1.00</td>\n",
       "      <td id=\"T_b160b_row8_col25\" class=\"data row8 col25\" >0.00</td>\n",
       "      <td id=\"T_b160b_row8_col26\" class=\"data row8 col26\" >0.02</td>\n",
       "      <td id=\"T_b160b_row8_col27\" class=\"data row8 col27\" >0.03</td>\n",
       "      <td id=\"T_b160b_row8_col28\" class=\"data row8 col28\" >-56.52</td>\n",
       "      <td id=\"T_b160b_row8_col29\" class=\"data row8 col29\" >0.03</td>\n",
       "      <td id=\"T_b160b_row8_col30\" class=\"data row8 col30\" >-58.82</td>\n",
       "      <td id=\"T_b160b_row8_col31\" class=\"data row8 col31\" >0.03</td>\n",
       "      <td id=\"T_b160b_row8_col32\" class=\"data row8 col32\" >-50.00</td>\n",
       "      <td id=\"T_b160b_row8_col33\" class=\"data row8 col33\" >0.02</td>\n",
       "      <td id=\"T_b160b_row8_col34\" class=\"data row8 col34\" >8.47</td>\n",
       "      <td id=\"T_b160b_row8_col35\" class=\"data row8 col35\" >0.04</td>\n",
       "      <td id=\"T_b160b_row8_col36\" class=\"data row8 col36\" >-120.41</td>\n",
       "      <td id=\"T_b160b_row8_col37\" class=\"data row8 col37\" >1</td>\n",
       "    </tr>\n",
       "    <tr>\n",
       "      <th id=\"T_b160b_level0_row9\" class=\"row_heading level0 row9\" >9</th>\n",
       "      <td id=\"T_b160b_row9_col0\" class=\"data row9 col0\" >Infiltration</td>\n",
       "      <td id=\"T_b160b_row9_col1\" class=\"data row9 col1\" >0.50</td>\n",
       "      <td id=\"T_b160b_row9_col2\" class=\"data row9 col2\" >1.50</td>\n",
       "      <td id=\"T_b160b_row9_col3\" class=\"data row9 col3\" >4.00</td>\n",
       "      <td id=\"T_b160b_row9_col4\" class=\"data row9 col4\" >0.02</td>\n",
       "      <td id=\"T_b160b_row9_col5\" class=\"data row9 col5\" >0.01</td>\n",
       "      <td id=\"T_b160b_row9_col6\" class=\"data row9 col6\" >27.27</td>\n",
       "      <td id=\"T_b160b_row9_col7\" class=\"data row9 col7\" >0.01</td>\n",
       "      <td id=\"T_b160b_row9_col8\" class=\"data row9 col8\" >41.74</td>\n",
       "      <td id=\"T_b160b_row9_col9\" class=\"data row9 col9\" >0.02</td>\n",
       "      <td id=\"T_b160b_row9_col10\" class=\"data row9 col10\" >3.26</td>\n",
       "      <td id=\"T_b160b_row9_col11\" class=\"data row9 col11\" >0.01</td>\n",
       "      <td id=\"T_b160b_row9_col12\" class=\"data row9 col12\" >52.51</td>\n",
       "      <td id=\"T_b160b_row9_col13\" class=\"data row9 col13\" >0.02</td>\n",
       "      <td id=\"T_b160b_row9_col14\" class=\"data row9 col14\" >8.77</td>\n",
       "      <td id=\"T_b160b_row9_col15\" class=\"data row9 col15\" >0.67</td>\n",
       "      <td id=\"T_b160b_row9_col16\" class=\"data row9 col16\" >0.67</td>\n",
       "      <td id=\"T_b160b_row9_col17\" class=\"data row9 col17\" >0.00</td>\n",
       "      <td id=\"T_b160b_row9_col18\" class=\"data row9 col18\" >0.67</td>\n",
       "      <td id=\"T_b160b_row9_col19\" class=\"data row9 col19\" >0.00</td>\n",
       "      <td id=\"T_b160b_row9_col20\" class=\"data row9 col20\" >0.67</td>\n",
       "      <td id=\"T_b160b_row9_col21\" class=\"data row9 col21\" >0.00</td>\n",
       "      <td id=\"T_b160b_row9_col22\" class=\"data row9 col22\" >0.67</td>\n",
       "      <td id=\"T_b160b_row9_col23\" class=\"data row9 col23\" >0.00</td>\n",
       "      <td id=\"T_b160b_row9_col24\" class=\"data row9 col24\" >0.33</td>\n",
       "      <td id=\"T_b160b_row9_col25\" class=\"data row9 col25\" >50.00</td>\n",
       "      <td id=\"T_b160b_row9_col26\" class=\"data row9 col26\" >0.04</td>\n",
       "      <td id=\"T_b160b_row9_col27\" class=\"data row9 col27\" >0.03</td>\n",
       "      <td id=\"T_b160b_row9_col28\" class=\"data row9 col28\" >26.71</td>\n",
       "      <td id=\"T_b160b_row9_col29\" class=\"data row9 col29\" >0.02</td>\n",
       "      <td id=\"T_b160b_row9_col30\" class=\"data row9 col30\" >41.05</td>\n",
       "      <td id=\"T_b160b_row9_col31\" class=\"data row9 col31\" >0.04</td>\n",
       "      <td id=\"T_b160b_row9_col32\" class=\"data row9 col32\" >3.17</td>\n",
       "      <td id=\"T_b160b_row9_col33\" class=\"data row9 col33\" >0.02</td>\n",
       "      <td id=\"T_b160b_row9_col34\" class=\"data row9 col34\" >51.80</td>\n",
       "      <td id=\"T_b160b_row9_col35\" class=\"data row9 col35\" >0.03</td>\n",
       "      <td id=\"T_b160b_row9_col36\" class=\"data row9 col36\" >10.83</td>\n",
       "      <td id=\"T_b160b_row9_col37\" class=\"data row9 col37\" >6</td>\n",
       "    </tr>\n",
       "    <tr>\n",
       "      <th id=\"T_b160b_level0_row10\" class=\"row_heading level0 row10\" >10</th>\n",
       "      <td id=\"T_b160b_row10_col0\" class=\"data row10 col0\" >PortScan</td>\n",
       "      <td id=\"T_b160b_row10_col1\" class=\"data row10 col1\" >1.25</td>\n",
       "      <td id=\"T_b160b_row10_col2\" class=\"data row10 col2\" >2503.60</td>\n",
       "      <td id=\"T_b160b_row10_col3\" class=\"data row10 col3\" >145384.98</td>\n",
       "      <td id=\"T_b160b_row10_col4\" class=\"data row10 col4\" >0.97</td>\n",
       "      <td id=\"T_b160b_row10_col5\" class=\"data row10 col5\" >0.00</td>\n",
       "      <td id=\"T_b160b_row10_col6\" class=\"data row10 col6\" >100.00</td>\n",
       "      <td id=\"T_b160b_row10_col7\" class=\"data row10 col7\" >0.00</td>\n",
       "      <td id=\"T_b160b_row10_col8\" class=\"data row10 col8\" >100.00</td>\n",
       "      <td id=\"T_b160b_row10_col9\" class=\"data row10 col9\" >0.97</td>\n",
       "      <td id=\"T_b160b_row10_col10\" class=\"data row10 col10\" >-0.06</td>\n",
       "      <td id=\"T_b160b_row10_col11\" class=\"data row10 col11\" >0.97</td>\n",
       "      <td id=\"T_b160b_row10_col12\" class=\"data row10 col12\" >-0.10</td>\n",
       "      <td id=\"T_b160b_row10_col13\" class=\"data row10 col13\" >0.95</td>\n",
       "      <td id=\"T_b160b_row10_col14\" class=\"data row10 col14\" >1.36</td>\n",
       "      <td id=\"T_b160b_row10_col15\" class=\"data row10 col15\" >1.00</td>\n",
       "      <td id=\"T_b160b_row10_col16\" class=\"data row10 col16\" >0.00</td>\n",
       "      <td id=\"T_b160b_row10_col17\" class=\"data row10 col17\" >100.00</td>\n",
       "      <td id=\"T_b160b_row10_col18\" class=\"data row10 col18\" >0.00</td>\n",
       "      <td id=\"T_b160b_row10_col19\" class=\"data row10 col19\" >100.00</td>\n",
       "      <td id=\"T_b160b_row10_col20\" class=\"data row10 col20\" >1.00</td>\n",
       "      <td id=\"T_b160b_row10_col21\" class=\"data row10 col21\" >0.00</td>\n",
       "      <td id=\"T_b160b_row10_col22\" class=\"data row10 col22\" >1.00</td>\n",
       "      <td id=\"T_b160b_row10_col23\" class=\"data row10 col23\" >0.00</td>\n",
       "      <td id=\"T_b160b_row10_col24\" class=\"data row10 col24\" >0.64</td>\n",
       "      <td id=\"T_b160b_row10_col25\" class=\"data row10 col25\" >35.57</td>\n",
       "      <td id=\"T_b160b_row10_col26\" class=\"data row10 col26\" >0.98</td>\n",
       "      <td id=\"T_b160b_row10_col27\" class=\"data row10 col27\" >0.00</td>\n",
       "      <td id=\"T_b160b_row10_col28\" class=\"data row10 col28\" >100.00</td>\n",
       "      <td id=\"T_b160b_row10_col29\" class=\"data row10 col29\" >0.00</td>\n",
       "      <td id=\"T_b160b_row10_col30\" class=\"data row10 col30\" >100.00</td>\n",
       "      <td id=\"T_b160b_row10_col31\" class=\"data row10 col31\" >0.98</td>\n",
       "      <td id=\"T_b160b_row10_col32\" class=\"data row10 col32\" >-0.03</td>\n",
       "      <td id=\"T_b160b_row10_col33\" class=\"data row10 col33\" >0.98</td>\n",
       "      <td id=\"T_b160b_row10_col34\" class=\"data row10 col34\" >-0.05</td>\n",
       "      <td id=\"T_b160b_row10_col35\" class=\"data row10 col35\" >0.77</td>\n",
       "      <td id=\"T_b160b_row10_col36\" class=\"data row10 col36\" >21.81</td>\n",
       "      <td id=\"T_b160b_row10_col37\" class=\"data row10 col37\" >25036</td>\n",
       "    </tr>\n",
       "    <tr>\n",
       "      <th id=\"T_b160b_level0_row11\" class=\"row_heading level0 row11\" >11</th>\n",
       "      <td id=\"T_b160b_row11_col0\" class=\"data row11 col0\" >SSH-Patator</td>\n",
       "      <td id=\"T_b160b_row11_col1\" class=\"data row11 col1\" >29.23</td>\n",
       "      <td id=\"T_b160b_row11_col2\" class=\"data row11 col2\" >209.75</td>\n",
       "      <td id=\"T_b160b_row11_col3\" class=\"data row11 col3\" >1279.31</td>\n",
       "      <td id=\"T_b160b_row11_col4\" class=\"data row11 col4\" >0.67</td>\n",
       "      <td id=\"T_b160b_row11_col5\" class=\"data row11 col5\" >0.61</td>\n",
       "      <td id=\"T_b160b_row11_col6\" class=\"data row11 col6\" >9.34</td>\n",
       "      <td id=\"T_b160b_row11_col7\" class=\"data row11 col7\" >0.00</td>\n",
       "      <td id=\"T_b160b_row11_col8\" class=\"data row11 col8\" >100.00</td>\n",
       "      <td id=\"T_b160b_row11_col9\" class=\"data row11 col9\" >0.69</td>\n",
       "      <td id=\"T_b160b_row11_col10\" class=\"data row11 col10\" >-2.79</td>\n",
       "      <td id=\"T_b160b_row11_col11\" class=\"data row11 col11\" >0.63</td>\n",
       "      <td id=\"T_b160b_row11_col12\" class=\"data row11 col12\" >6.26</td>\n",
       "      <td id=\"T_b160b_row11_col13\" class=\"data row11 col13\" >0.77</td>\n",
       "      <td id=\"T_b160b_row11_col14\" class=\"data row11 col14\" >-14.57</td>\n",
       "      <td id=\"T_b160b_row11_col15\" class=\"data row11 col15\" >1.00</td>\n",
       "      <td id=\"T_b160b_row11_col16\" class=\"data row11 col16\" >0.43</td>\n",
       "      <td id=\"T_b160b_row11_col17\" class=\"data row11 col17\" >56.73</td>\n",
       "      <td id=\"T_b160b_row11_col18\" class=\"data row11 col18\" >0.00</td>\n",
       "      <td id=\"T_b160b_row11_col19\" class=\"data row11 col19\" >100.00</td>\n",
       "      <td id=\"T_b160b_row11_col20\" class=\"data row11 col20\" >1.00</td>\n",
       "      <td id=\"T_b160b_row11_col21\" class=\"data row11 col21\" >0.00</td>\n",
       "      <td id=\"T_b160b_row11_col22\" class=\"data row11 col22\" >0.68</td>\n",
       "      <td id=\"T_b160b_row11_col23\" class=\"data row11 col23\" >31.59</td>\n",
       "      <td id=\"T_b160b_row11_col24\" class=\"data row11 col24\" >0.56</td>\n",
       "      <td id=\"T_b160b_row11_col25\" class=\"data row11 col25\" >43.86</td>\n",
       "      <td id=\"T_b160b_row11_col26\" class=\"data row11 col26\" >0.80</td>\n",
       "      <td id=\"T_b160b_row11_col27\" class=\"data row11 col27\" >0.51</td>\n",
       "      <td id=\"T_b160b_row11_col28\" class=\"data row11 col28\" >37.03</td>\n",
       "      <td id=\"T_b160b_row11_col29\" class=\"data row11 col29\" >0.00</td>\n",
       "      <td id=\"T_b160b_row11_col30\" class=\"data row11 col30\" >100.00</td>\n",
       "      <td id=\"T_b160b_row11_col31\" class=\"data row11 col31\" >0.82</td>\n",
       "      <td id=\"T_b160b_row11_col32\" class=\"data row11 col32\" >-1.65</td>\n",
       "      <td id=\"T_b160b_row11_col33\" class=\"data row11 col33\" >0.66</td>\n",
       "      <td id=\"T_b160b_row11_col34\" class=\"data row11 col34\" >18.39</td>\n",
       "      <td id=\"T_b160b_row11_col35\" class=\"data row11 col35\" >0.65</td>\n",
       "      <td id=\"T_b160b_row11_col36\" class=\"data row11 col36\" >19.19</td>\n",
       "      <td id=\"T_b160b_row11_col37\" class=\"data row11 col37\" >839</td>\n",
       "    </tr>\n",
       "    <tr>\n",
       "      <th id=\"T_b160b_level0_row12\" class=\"row_heading level0 row12\" >12</th>\n",
       "      <td id=\"T_b160b_row12_col0\" class=\"data row12 col0\" >Web Attack - Brute Force</td>\n",
       "      <td id=\"T_b160b_row12_col1\" class=\"data row12 col1\" >0.61</td>\n",
       "      <td id=\"T_b160b_row12_col2\" class=\"data row12 col2\" >54.33</td>\n",
       "      <td id=\"T_b160b_row12_col3\" class=\"data row12 col3\" >914.29</td>\n",
       "      <td id=\"T_b160b_row12_col4\" class=\"data row12 col4\" >0.77</td>\n",
       "      <td id=\"T_b160b_row12_col5\" class=\"data row12 col5\" >0.80</td>\n",
       "      <td id=\"T_b160b_row12_col6\" class=\"data row12 col6\" >-4.29</td>\n",
       "      <td id=\"T_b160b_row12_col7\" class=\"data row12 col7\" >0.90</td>\n",
       "      <td id=\"T_b160b_row12_col8\" class=\"data row12 col8\" >-17.16</td>\n",
       "      <td id=\"T_b160b_row12_col9\" class=\"data row12 col9\" >0.87</td>\n",
       "      <td id=\"T_b160b_row12_col10\" class=\"data row12 col10\" >-13.88</td>\n",
       "      <td id=\"T_b160b_row12_col11\" class=\"data row12 col11\" >0.71</td>\n",
       "      <td id=\"T_b160b_row12_col12\" class=\"data row12 col12\" >7.34</td>\n",
       "      <td id=\"T_b160b_row12_col13\" class=\"data row12 col13\" >0.69</td>\n",
       "      <td id=\"T_b160b_row12_col14\" class=\"data row12 col14\" >9.40</td>\n",
       "      <td id=\"T_b160b_row12_col15\" class=\"data row12 col15\" >1.00</td>\n",
       "      <td id=\"T_b160b_row12_col16\" class=\"data row12 col16\" >0.51</td>\n",
       "      <td id=\"T_b160b_row12_col17\" class=\"data row12 col17\" >49.08</td>\n",
       "      <td id=\"T_b160b_row12_col18\" class=\"data row12 col18\" >0.96</td>\n",
       "      <td id=\"T_b160b_row12_col19\" class=\"data row12 col19\" >4.29</td>\n",
       "      <td id=\"T_b160b_row12_col20\" class=\"data row12 col20\" >0.96</td>\n",
       "      <td id=\"T_b160b_row12_col21\" class=\"data row12 col21\" >4.29</td>\n",
       "      <td id=\"T_b160b_row12_col22\" class=\"data row12 col22\" >0.96</td>\n",
       "      <td id=\"T_b160b_row12_col23\" class=\"data row12 col23\" >4.29</td>\n",
       "      <td id=\"T_b160b_row12_col24\" class=\"data row12 col24\" >0.96</td>\n",
       "      <td id=\"T_b160b_row12_col25\" class=\"data row12 col25\" >4.29</td>\n",
       "      <td id=\"T_b160b_row12_col26\" class=\"data row12 col26\" >0.87</td>\n",
       "      <td id=\"T_b160b_row12_col27\" class=\"data row12 col27\" >0.62</td>\n",
       "      <td id=\"T_b160b_row12_col28\" class=\"data row12 col28\" >28.29</td>\n",
       "      <td id=\"T_b160b_row12_col29\" class=\"data row12 col29\" >0.93</td>\n",
       "      <td id=\"T_b160b_row12_col30\" class=\"data row12 col30\" >-6.78</td>\n",
       "      <td id=\"T_b160b_row12_col31\" class=\"data row12 col31\" >0.91</td>\n",
       "      <td id=\"T_b160b_row12_col32\" class=\"data row12 col32\" >-5.22</td>\n",
       "      <td id=\"T_b160b_row12_col33\" class=\"data row12 col33\" >0.81</td>\n",
       "      <td id=\"T_b160b_row12_col34\" class=\"data row12 col34\" >6.04</td>\n",
       "      <td id=\"T_b160b_row12_col35\" class=\"data row12 col35\" >0.80</td>\n",
       "      <td id=\"T_b160b_row12_col36\" class=\"data row12 col36\" >7.25</td>\n",
       "      <td id=\"T_b160b_row12_col37\" class=\"data row12 col37\" >163</td>\n",
       "    </tr>\n",
       "    <tr>\n",
       "      <th id=\"T_b160b_level0_row13\" class=\"row_heading level0 row13\" >13</th>\n",
       "      <td id=\"T_b160b_row13_col0\" class=\"data row13 col0\" >Web Attack - Sql Injection</td>\n",
       "      <td id=\"T_b160b_row13_col1\" class=\"data row13 col1\" >0.00</td>\n",
       "      <td id=\"T_b160b_row13_col2\" class=\"data row13 col2\" >0.00</td>\n",
       "      <td id=\"T_b160b_row13_col3\" class=\"data row13 col3\" >0.00</td>\n",
       "      <td id=\"T_b160b_row13_col4\" class=\"data row13 col4\" >0.00</td>\n",
       "      <td id=\"T_b160b_row13_col5\" class=\"data row13 col5\" >0.00</td>\n",
       "      <td id=\"T_b160b_row13_col6\" class=\"data row13 col6\" >0.00</td>\n",
       "      <td id=\"T_b160b_row13_col7\" class=\"data row13 col7\" >0.00</td>\n",
       "      <td id=\"T_b160b_row13_col8\" class=\"data row13 col8\" >0.00</td>\n",
       "      <td id=\"T_b160b_row13_col9\" class=\"data row13 col9\" >0.00</td>\n",
       "      <td id=\"T_b160b_row13_col10\" class=\"data row13 col10\" >0.00</td>\n",
       "      <td id=\"T_b160b_row13_col11\" class=\"data row13 col11\" >0.00</td>\n",
       "      <td id=\"T_b160b_row13_col12\" class=\"data row13 col12\" >0.00</td>\n",
       "      <td id=\"T_b160b_row13_col13\" class=\"data row13 col13\" >0.00</td>\n",
       "      <td id=\"T_b160b_row13_col14\" class=\"data row13 col14\" >0.00</td>\n",
       "      <td id=\"T_b160b_row13_col15\" class=\"data row13 col15\" >0.00</td>\n",
       "      <td id=\"T_b160b_row13_col16\" class=\"data row13 col16\" >0.00</td>\n",
       "      <td id=\"T_b160b_row13_col17\" class=\"data row13 col17\" >0.00</td>\n",
       "      <td id=\"T_b160b_row13_col18\" class=\"data row13 col18\" >0.00</td>\n",
       "      <td id=\"T_b160b_row13_col19\" class=\"data row13 col19\" >0.00</td>\n",
       "      <td id=\"T_b160b_row13_col20\" class=\"data row13 col20\" >0.00</td>\n",
       "      <td id=\"T_b160b_row13_col21\" class=\"data row13 col21\" >0.00</td>\n",
       "      <td id=\"T_b160b_row13_col22\" class=\"data row13 col22\" >0.00</td>\n",
       "      <td id=\"T_b160b_row13_col23\" class=\"data row13 col23\" >0.00</td>\n",
       "      <td id=\"T_b160b_row13_col24\" class=\"data row13 col24\" >0.00</td>\n",
       "      <td id=\"T_b160b_row13_col25\" class=\"data row13 col25\" >0.00</td>\n",
       "      <td id=\"T_b160b_row13_col26\" class=\"data row13 col26\" >0.00</td>\n",
       "      <td id=\"T_b160b_row13_col27\" class=\"data row13 col27\" >0.00</td>\n",
       "      <td id=\"T_b160b_row13_col28\" class=\"data row13 col28\" >0.00</td>\n",
       "      <td id=\"T_b160b_row13_col29\" class=\"data row13 col29\" >0.00</td>\n",
       "      <td id=\"T_b160b_row13_col30\" class=\"data row13 col30\" >0.00</td>\n",
       "      <td id=\"T_b160b_row13_col31\" class=\"data row13 col31\" >0.00</td>\n",
       "      <td id=\"T_b160b_row13_col32\" class=\"data row13 col32\" >0.00</td>\n",
       "      <td id=\"T_b160b_row13_col33\" class=\"data row13 col33\" >0.00</td>\n",
       "      <td id=\"T_b160b_row13_col34\" class=\"data row13 col34\" >0.00</td>\n",
       "      <td id=\"T_b160b_row13_col35\" class=\"data row13 col35\" >0.00</td>\n",
       "      <td id=\"T_b160b_row13_col36\" class=\"data row13 col36\" >0.00</td>\n",
       "      <td id=\"T_b160b_row13_col37\" class=\"data row13 col37\" >0</td>\n",
       "    </tr>\n",
       "    <tr>\n",
       "      <th id=\"T_b160b_level0_row14\" class=\"row_heading level0 row14\" >14</th>\n",
       "      <td id=\"T_b160b_row14_col0\" class=\"data row14 col0\" >Web Attack - XSS</td>\n",
       "      <td id=\"T_b160b_row14_col1\" class=\"data row14 col1\" >126.00</td>\n",
       "      <td id=\"T_b160b_row14_col2\" class=\"data row14 col2\" >126.00</td>\n",
       "      <td id=\"T_b160b_row14_col3\" class=\"data row14 col3\" >126.00</td>\n",
       "      <td id=\"T_b160b_row14_col4\" class=\"data row14 col4\" >0.71</td>\n",
       "      <td id=\"T_b160b_row14_col5\" class=\"data row14 col5\" >0.53</td>\n",
       "      <td id=\"T_b160b_row14_col6\" class=\"data row14 col6\" >24.58</td>\n",
       "      <td id=\"T_b160b_row14_col7\" class=\"data row14 col7\" >0.92</td>\n",
       "      <td id=\"T_b160b_row14_col8\" class=\"data row14 col8\" >-29.93</td>\n",
       "      <td id=\"T_b160b_row14_col9\" class=\"data row14 col9\" >0.74</td>\n",
       "      <td id=\"T_b160b_row14_col10\" class=\"data row14 col10\" >-4.09</td>\n",
       "      <td id=\"T_b160b_row14_col11\" class=\"data row14 col11\" >0.87</td>\n",
       "      <td id=\"T_b160b_row14_col12\" class=\"data row14 col12\" >-22.76</td>\n",
       "      <td id=\"T_b160b_row14_col13\" class=\"data row14 col13\" >0.70</td>\n",
       "      <td id=\"T_b160b_row14_col14\" class=\"data row14 col14\" >1.11</td>\n",
       "      <td id=\"T_b160b_row14_col15\" class=\"data row14 col15\" >1.00</td>\n",
       "      <td id=\"T_b160b_row14_col16\" class=\"data row14 col16\" >1.00</td>\n",
       "      <td id=\"T_b160b_row14_col17\" class=\"data row14 col17\" >0.00</td>\n",
       "      <td id=\"T_b160b_row14_col18\" class=\"data row14 col18\" >1.00</td>\n",
       "      <td id=\"T_b160b_row14_col19\" class=\"data row14 col19\" >0.00</td>\n",
       "      <td id=\"T_b160b_row14_col20\" class=\"data row14 col20\" >1.00</td>\n",
       "      <td id=\"T_b160b_row14_col21\" class=\"data row14 col21\" >0.00</td>\n",
       "      <td id=\"T_b160b_row14_col22\" class=\"data row14 col22\" >1.00</td>\n",
       "      <td id=\"T_b160b_row14_col23\" class=\"data row14 col23\" >0.00</td>\n",
       "      <td id=\"T_b160b_row14_col24\" class=\"data row14 col24\" >1.00</td>\n",
       "      <td id=\"T_b160b_row14_col25\" class=\"data row14 col25\" >0.00</td>\n",
       "      <td id=\"T_b160b_row14_col26\" class=\"data row14 col26\" >0.83</td>\n",
       "      <td id=\"T_b160b_row14_col27\" class=\"data row14 col27\" >0.70</td>\n",
       "      <td id=\"T_b160b_row14_col28\" class=\"data row14 col28\" >16.02</td>\n",
       "      <td id=\"T_b160b_row14_col29\" class=\"data row14 col29\" >0.96</td>\n",
       "      <td id=\"T_b160b_row14_col30\" class=\"data row14 col30\" >-15.59</td>\n",
       "      <td id=\"T_b160b_row14_col31\" class=\"data row14 col31\" >0.85</td>\n",
       "      <td id=\"T_b160b_row14_col32\" class=\"data row14 col32\" >-2.36</td>\n",
       "      <td id=\"T_b160b_row14_col33\" class=\"data row14 col33\" >0.93</td>\n",
       "      <td id=\"T_b160b_row14_col34\" class=\"data row14 col34\" >-12.18</td>\n",
       "      <td id=\"T_b160b_row14_col35\" class=\"data row14 col35\" >0.82</td>\n",
       "      <td id=\"T_b160b_row14_col36\" class=\"data row14 col36\" >0.65</td>\n",
       "      <td id=\"T_b160b_row14_col37\" class=\"data row14 col37\" >126</td>\n",
       "    </tr>\n",
       "    <tr>\n",
       "      <th id=\"T_b160b_level0_row15\" class=\"row_heading level0 row15\" >15</th>\n",
       "      <td id=\"T_b160b_row15_col0\" class=\"data row15 col0\" >macro avg</td>\n",
       "      <td id=\"T_b160b_row15_col1\" class=\"data row15 col1\" >0.00</td>\n",
       "      <td id=\"T_b160b_row15_col2\" class=\"data row15 col2\" >0.00</td>\n",
       "      <td id=\"T_b160b_row15_col3\" class=\"data row15 col3\" >0.00</td>\n",
       "      <td id=\"T_b160b_row15_col4\" class=\"data row15 col4\" >0.67</td>\n",
       "      <td id=\"T_b160b_row15_col5\" class=\"data row15 col5\" >0.57</td>\n",
       "      <td id=\"T_b160b_row15_col6\" class=\"data row15 col6\" >15.36</td>\n",
       "      <td id=\"T_b160b_row15_col7\" class=\"data row15 col7\" >0.55</td>\n",
       "      <td id=\"T_b160b_row15_col8\" class=\"data row15 col8\" >18.52</td>\n",
       "      <td id=\"T_b160b_row15_col9\" class=\"data row15 col9\" >0.68</td>\n",
       "      <td id=\"T_b160b_row15_col10\" class=\"data row15 col10\" >-1.12</td>\n",
       "      <td id=\"T_b160b_row15_col11\" class=\"data row15 col11\" >0.66</td>\n",
       "      <td id=\"T_b160b_row15_col12\" class=\"data row15 col12\" >2.68</td>\n",
       "      <td id=\"T_b160b_row15_col13\" class=\"data row15 col13\" >0.63</td>\n",
       "      <td id=\"T_b160b_row15_col14\" class=\"data row15 col14\" >5.89</td>\n",
       "      <td id=\"T_b160b_row15_col15\" class=\"data row15 col15\" >0.91</td>\n",
       "      <td id=\"T_b160b_row15_col16\" class=\"data row15 col16\" >0.74</td>\n",
       "      <td id=\"T_b160b_row15_col17\" class=\"data row15 col17\" >18.61</td>\n",
       "      <td id=\"T_b160b_row15_col18\" class=\"data row15 col18\" >0.74</td>\n",
       "      <td id=\"T_b160b_row15_col19\" class=\"data row15 col19\" >18.54</td>\n",
       "      <td id=\"T_b160b_row15_col20\" class=\"data row15 col20\" >0.91</td>\n",
       "      <td id=\"T_b160b_row15_col21\" class=\"data row15 col21\" >0.38</td>\n",
       "      <td id=\"T_b160b_row15_col22\" class=\"data row15 col22\" >0.88</td>\n",
       "      <td id=\"T_b160b_row15_col23\" class=\"data row15 col23\" >2.84</td>\n",
       "      <td id=\"T_b160b_row15_col24\" class=\"data row15 col24\" >0.80</td>\n",
       "      <td id=\"T_b160b_row15_col25\" class=\"data row15 col25\" >12.13</td>\n",
       "      <td id=\"T_b160b_row15_col26\" class=\"data row15 col26\" >0.72</td>\n",
       "      <td id=\"T_b160b_row15_col27\" class=\"data row15 col27\" >0.57</td>\n",
       "      <td id=\"T_b160b_row15_col28\" class=\"data row15 col28\" >20.40</td>\n",
       "      <td id=\"T_b160b_row15_col29\" class=\"data row15 col29\" >0.57</td>\n",
       "      <td id=\"T_b160b_row15_col30\" class=\"data row15 col30\" >21.41</td>\n",
       "      <td id=\"T_b160b_row15_col31\" class=\"data row15 col31\" >0.73</td>\n",
       "      <td id=\"T_b160b_row15_col32\" class=\"data row15 col32\" >-0.77</td>\n",
       "      <td id=\"T_b160b_row15_col33\" class=\"data row15 col33\" >0.69</td>\n",
       "      <td id=\"T_b160b_row15_col34\" class=\"data row15 col34\" >4.23</td>\n",
       "      <td id=\"T_b160b_row15_col35\" class=\"data row15 col35\" >0.63</td>\n",
       "      <td id=\"T_b160b_row15_col36\" class=\"data row15 col36\" >11.98</td>\n",
       "      <td id=\"T_b160b_row15_col37\" class=\"data row15 col37\" >426000</td>\n",
       "    </tr>\n",
       "    <tr>\n",
       "      <th id=\"T_b160b_level0_row16\" class=\"row_heading level0 row16\" >16</th>\n",
       "      <td id=\"T_b160b_row16_col0\" class=\"data row16 col0\" >weighted avg</td>\n",
       "      <td id=\"T_b160b_row16_col1\" class=\"data row16 col1\" >0.00</td>\n",
       "      <td id=\"T_b160b_row16_col2\" class=\"data row16 col2\" >0.00</td>\n",
       "      <td id=\"T_b160b_row16_col3\" class=\"data row16 col3\" >0.00</td>\n",
       "      <td id=\"T_b160b_row16_col4\" class=\"data row16 col4\" >1.00</td>\n",
       "      <td id=\"T_b160b_row16_col5\" class=\"data row16 col5\" >0.86</td>\n",
       "      <td id=\"T_b160b_row16_col6\" class=\"data row16 col6\" >13.21</td>\n",
       "      <td id=\"T_b160b_row16_col7\" class=\"data row16 col7\" >0.86</td>\n",
       "      <td id=\"T_b160b_row16_col8\" class=\"data row16 col8\" >13.41</td>\n",
       "      <td id=\"T_b160b_row16_col9\" class=\"data row16 col9\" >1.00</td>\n",
       "      <td id=\"T_b160b_row16_col10\" class=\"data row16 col10\" >0.02</td>\n",
       "      <td id=\"T_b160b_row16_col11\" class=\"data row16 col11\" >0.99</td>\n",
       "      <td id=\"T_b160b_row16_col12\" class=\"data row16 col12\" >0.16</td>\n",
       "      <td id=\"T_b160b_row16_col13\" class=\"data row16 col13\" >0.97</td>\n",
       "      <td id=\"T_b160b_row16_col14\" class=\"data row16 col14\" >2.98</td>\n",
       "      <td id=\"T_b160b_row16_col15\" class=\"data row16 col15\" >0.99</td>\n",
       "      <td id=\"T_b160b_row16_col16\" class=\"data row16 col16\" >0.91</td>\n",
       "      <td id=\"T_b160b_row16_col17\" class=\"data row16 col17\" >7.98</td>\n",
       "      <td id=\"T_b160b_row16_col18\" class=\"data row16 col18\" >0.91</td>\n",
       "      <td id=\"T_b160b_row16_col19\" class=\"data row16 col19\" >8.15</td>\n",
       "      <td id=\"T_b160b_row16_col20\" class=\"data row16 col20\" >0.99</td>\n",
       "      <td id=\"T_b160b_row16_col21\" class=\"data row16 col21\" >-0.05</td>\n",
       "      <td id=\"T_b160b_row16_col22\" class=\"data row16 col22\" >0.98</td>\n",
       "      <td id=\"T_b160b_row16_col23\" class=\"data row16 col23\" >0.76</td>\n",
       "      <td id=\"T_b160b_row16_col24\" class=\"data row16 col24\" >0.95</td>\n",
       "      <td id=\"T_b160b_row16_col25\" class=\"data row16 col25\" >4.20</td>\n",
       "      <td id=\"T_b160b_row16_col26\" class=\"data row16 col26\" >0.99</td>\n",
       "      <td id=\"T_b160b_row16_col27\" class=\"data row16 col27\" >0.88</td>\n",
       "      <td id=\"T_b160b_row16_col28\" class=\"data row16 col28\" >11.08</td>\n",
       "      <td id=\"T_b160b_row16_col29\" class=\"data row16 col29\" >0.88</td>\n",
       "      <td id=\"T_b160b_row16_col30\" class=\"data row16 col30\" >11.28</td>\n",
       "      <td id=\"T_b160b_row16_col31\" class=\"data row16 col31\" >0.99</td>\n",
       "      <td id=\"T_b160b_row16_col32\" class=\"data row16 col32\" >-0.02</td>\n",
       "      <td id=\"T_b160b_row16_col33\" class=\"data row16 col33\" >0.99</td>\n",
       "      <td id=\"T_b160b_row16_col34\" class=\"data row16 col34\" >0.47</td>\n",
       "      <td id=\"T_b160b_row16_col35\" class=\"data row16 col35\" >0.95</td>\n",
       "      <td id=\"T_b160b_row16_col36\" class=\"data row16 col36\" >4.13</td>\n",
       "      <td id=\"T_b160b_row16_col37\" class=\"data row16 col37\" >426000</td>\n",
       "    </tr>\n",
       "  </tbody>\n",
       "</table>\n"
      ],
      "text/plain": [
       "<pandas.io.formats.style.Styler at 0x7f22cabddd30>"
      ]
     },
     "metadata": {},
     "output_type": "display_data"
    }
   ],
   "source": [
    "def compare_overall_metrics(baseline_report, adversarial_reports, class_degree_report):\n",
    "    rows = []   \n",
    "    metrics = ['precision', 'recall', 'f1-score']\n",
    "    eplison = 1e-10  # To avoid division by zero\n",
    "\n",
    "    for label in list(class_map) + ['macro avg', 'weighted avg']:\n",
    "        row = {\"Class\": label}\n",
    "        row['Class'] = label\n",
    "        row['Min Influence'] = class_degree_report[label]['min_influence'] if label in class_degree_report else 0.0\n",
    "        row['Avg Influence'] = class_degree_report[label]['avg_influence'] if label in class_degree_report else 0.0\n",
    "        row['Max Influence'] = class_degree_report[label]['max_influence'] if label in class_degree_report else 0.0\n",
    "        for metric in metrics:\n",
    "            baseline_val = baseline_report[label][metric]\n",
    "            row[f\"Normal {metric}\"] = baseline_val\n",
    "            for name, report in adversarial_reports.items():\n",
    "                adv_val = report[label][metric]\n",
    "                row[f\"{name} {metric}\"] = adv_val\n",
    "                row[f\"{name} {metric} Drop (%)\"] = ((baseline_val - adv_val) / (baseline_val + eplison)) * 100\n",
    "        row['support'] = int(baseline_report[label]['support'])\n",
    "        rows.append(row)\n",
    "\n",
    "    return pd.DataFrame(rows)\n",
    "\n",
    "adversarial_reports = {\n",
    "    \"To Both\": inject_both_report,\n",
    "    \"To Src\": inject_src_report,\n",
    "    \"To Dst\": inject_dst_report,\n",
    "    \"Edge Perturbation\": edge_perturb_report,\n",
    "    \"Random Edge\": random_edge_report,\n",
    "}\n",
    "\n",
    "comparison_df = compare_overall_metrics(normal_report, adversarial_reports, class_degree_report)\n",
    "\n",
    "class_col = comparison_df['Class']\n",
    "support_df = comparison_df['support']\n",
    "normal_cols = [col for col in comparison_df.columns if col.startswith('Normal')] \n",
    "influence_cols = [col for col in comparison_df.columns if col.endswith('Influence')] \n",
    "influence_df = comparison_df[influence_cols]\n",
    "f1_cols = [col for col in comparison_df.columns if col.endswith('f1-score')]\n",
    "f1_drop_cols = [col for col in comparison_df.columns if col.endswith('f1-score Drop (%)')]\n",
    "\n",
    "baselines_df = pd.concat([class_col, support_df, influence_df], axis=1)\n",
    "\n",
    "f1_df = pd.concat([baselines_df, comparison_df[f1_cols]], axis=1)\n",
    "f1_drop_df = pd.concat([baselines_df, comparison_df[f1_drop_cols]], axis=1)\n",
    "\n",
    "print(\"Comparison of Overall Metrics:\")\n",
    "display(comparison_df.style.set_caption(\"Metrics Under Adversarial Attacks\").format({col: \"{:.2f}\" for col in comparison_df.columns if col not in ['Class', 'support']}))\n"
   ]
  },
  {
   "cell_type": "code",
   "execution_count": 39,
   "id": "3725caaa",
   "metadata": {},
   "outputs": [
    {
     "data": {
      "text/html": [
       "<style type=\"text/css\">\n",
       "#T_2f465_row0_col5, #T_2f465_row0_col8, #T_2f465_row2_col5, #T_2f465_row2_col8, #T_2f465_row2_col9, #T_2f465_row3_col5, #T_2f465_row3_col9, #T_2f465_row4_col5, #T_2f465_row4_col6, #T_2f465_row4_col7, #T_2f465_row4_col8, #T_2f465_row4_col9, #T_2f465_row4_col10 {\n",
       "  background-color: #00441b;\n",
       "  color: #f1f1f1;\n",
       "}\n",
       "#T_2f465_row0_col6, #T_2f465_row0_col7, #T_2f465_row6_col10, #T_2f465_row7_col8, #T_2f465_row7_col10 {\n",
       "  background-color: #005522;\n",
       "  color: #f1f1f1;\n",
       "}\n",
       "#T_2f465_row0_col9, #T_2f465_row16_col5, #T_2f465_row16_col8 {\n",
       "  background-color: #00451c;\n",
       "  color: #f1f1f1;\n",
       "}\n",
       "#T_2f465_row0_col10, #T_2f465_row6_col5 {\n",
       "  background-color: #004a1e;\n",
       "  color: #f1f1f1;\n",
       "}\n",
       "#T_2f465_row1_col5 {\n",
       "  background-color: #8ace88;\n",
       "  color: #000000;\n",
       "}\n",
       "#T_2f465_row1_col6 {\n",
       "  background-color: #8ed08b;\n",
       "  color: #000000;\n",
       "}\n",
       "#T_2f465_row1_col7 {\n",
       "  background-color: #9cd797;\n",
       "  color: #000000;\n",
       "}\n",
       "#T_2f465_row1_col8 {\n",
       "  background-color: #7cc87c;\n",
       "  color: #000000;\n",
       "}\n",
       "#T_2f465_row1_col9 {\n",
       "  background-color: #d5efcf;\n",
       "  color: #000000;\n",
       "}\n",
       "#T_2f465_row1_col10 {\n",
       "  background-color: #e7f6e2;\n",
       "  color: #000000;\n",
       "}\n",
       "#T_2f465_row2_col6, #T_2f465_row2_col7, #T_2f465_row2_col10 {\n",
       "  background-color: #349d53;\n",
       "  color: #f1f1f1;\n",
       "}\n",
       "#T_2f465_row3_col6, #T_2f465_row6_col6, #T_2f465_row14_col7 {\n",
       "  background-color: #005120;\n",
       "  color: #f1f1f1;\n",
       "}\n",
       "#T_2f465_row3_col7, #T_2f465_row3_col10, #T_2f465_row7_col6 {\n",
       "  background-color: #005321;\n",
       "  color: #f1f1f1;\n",
       "}\n",
       "#T_2f465_row3_col8 {\n",
       "  background-color: #004d1f;\n",
       "  color: #f1f1f1;\n",
       "}\n",
       "#T_2f465_row5_col5, #T_2f465_row7_col9 {\n",
       "  background-color: #005c25;\n",
       "  color: #f1f1f1;\n",
       "}\n",
       "#T_2f465_row5_col6, #T_2f465_row12_col10 {\n",
       "  background-color: #137d39;\n",
       "  color: #f1f1f1;\n",
       "}\n",
       "#T_2f465_row5_col7, #T_2f465_row14_col6 {\n",
       "  background-color: #2f984f;\n",
       "  color: #f1f1f1;\n",
       "}\n",
       "#T_2f465_row5_col8 {\n",
       "  background-color: #006227;\n",
       "  color: #f1f1f1;\n",
       "}\n",
       "#T_2f465_row5_col9, #T_2f465_row16_col7 {\n",
       "  background-color: #006b2b;\n",
       "  color: #f1f1f1;\n",
       "}\n",
       "#T_2f465_row5_col10 {\n",
       "  background-color: #18823d;\n",
       "  color: #f1f1f1;\n",
       "}\n",
       "#T_2f465_row6_col7 {\n",
       "  background-color: #005e26;\n",
       "  color: #f1f1f1;\n",
       "}\n",
       "#T_2f465_row6_col8 {\n",
       "  background-color: #004c1e;\n",
       "  color: #f1f1f1;\n",
       "}\n",
       "#T_2f465_row6_col9 {\n",
       "  background-color: #004e1f;\n",
       "  color: #f1f1f1;\n",
       "}\n",
       "#T_2f465_row7_col5 {\n",
       "  background-color: #005622;\n",
       "  color: #f1f1f1;\n",
       "}\n",
       "#T_2f465_row7_col7, #T_2f465_row10_col9 {\n",
       "  background-color: #00481d;\n",
       "  color: #f1f1f1;\n",
       "}\n",
       "#T_2f465_row8_col5, #T_2f465_row8_col9, #T_2f465_row9_col9 {\n",
       "  background-color: #f5fbf2;\n",
       "  color: #000000;\n",
       "}\n",
       "#T_2f465_row8_col6, #T_2f465_row8_col7, #T_2f465_row8_col8, #T_2f465_row9_col6 {\n",
       "  background-color: #f3faf0;\n",
       "  color: #000000;\n",
       "}\n",
       "#T_2f465_row8_col10 {\n",
       "  background-color: #f1faee;\n",
       "  color: #000000;\n",
       "}\n",
       "#T_2f465_row9_col5, #T_2f465_row9_col8 {\n",
       "  background-color: #f2faef;\n",
       "  color: #000000;\n",
       "}\n",
       "#T_2f465_row9_col7 {\n",
       "  background-color: #f4fbf2;\n",
       "  color: #000000;\n",
       "}\n",
       "#T_2f465_row9_col10 {\n",
       "  background-color: #f2faf0;\n",
       "  color: #000000;\n",
       "}\n",
       "#T_2f465_row10_col5, #T_2f465_row10_col8 {\n",
       "  background-color: #00491d;\n",
       "  color: #f1f1f1;\n",
       "}\n",
       "#T_2f465_row10_col6, #T_2f465_row10_col7, #T_2f465_row11_col7, #T_2f465_row13_col5, #T_2f465_row13_col6, #T_2f465_row13_col7, #T_2f465_row13_col8, #T_2f465_row13_col9, #T_2f465_row13_col10 {\n",
       "  background-color: #f7fcf5;\n",
       "  color: #000000;\n",
       "}\n",
       "#T_2f465_row10_col10 {\n",
       "  background-color: #1e8741;\n",
       "  color: #f1f1f1;\n",
       "}\n",
       "#T_2f465_row11_col5 {\n",
       "  background-color: #147e3a;\n",
       "  color: #f1f1f1;\n",
       "}\n",
       "#T_2f465_row11_col6 {\n",
       "  background-color: #72c375;\n",
       "  color: #000000;\n",
       "}\n",
       "#T_2f465_row11_col8, #T_2f465_row12_col9 {\n",
       "  background-color: #107a37;\n",
       "  color: #f1f1f1;\n",
       "}\n",
       "#T_2f465_row11_col9 {\n",
       "  background-color: #39a257;\n",
       "  color: #f1f1f1;\n",
       "}\n",
       "#T_2f465_row11_col10 {\n",
       "  background-color: #3ba458;\n",
       "  color: #f1f1f1;\n",
       "}\n",
       "#T_2f465_row12_col5 {\n",
       "  background-color: #016e2d;\n",
       "  color: #f1f1f1;\n",
       "}\n",
       "#T_2f465_row12_col6 {\n",
       "  background-color: #42ab5d;\n",
       "  color: #f1f1f1;\n",
       "}\n",
       "#T_2f465_row12_col7 {\n",
       "  background-color: #005b25;\n",
       "  color: #f1f1f1;\n",
       "}\n",
       "#T_2f465_row12_col8 {\n",
       "  background-color: #006027;\n",
       "  color: #f1f1f1;\n",
       "}\n",
       "#T_2f465_row14_col5 {\n",
       "  background-color: #0c7735;\n",
       "  color: #f1f1f1;\n",
       "}\n",
       "#T_2f465_row14_col8 {\n",
       "  background-color: #077331;\n",
       "  color: #f1f1f1;\n",
       "}\n",
       "#T_2f465_row14_col9 {\n",
       "  background-color: #005a24;\n",
       "  color: #f1f1f1;\n",
       "}\n",
       "#T_2f465_row14_col10 {\n",
       "  background-color: #0d7836;\n",
       "  color: #f1f1f1;\n",
       "}\n",
       "#T_2f465_row15_col5 {\n",
       "  background-color: #2a924a;\n",
       "  color: #f1f1f1;\n",
       "}\n",
       "#T_2f465_row15_col6 {\n",
       "  background-color: #55b567;\n",
       "  color: #f1f1f1;\n",
       "}\n",
       "#T_2f465_row15_col7 {\n",
       "  background-color: #58b668;\n",
       "  color: #f1f1f1;\n",
       "}\n",
       "#T_2f465_row15_col8 {\n",
       "  background-color: #289049;\n",
       "  color: #f1f1f1;\n",
       "}\n",
       "#T_2f465_row15_col9 {\n",
       "  background-color: #309950;\n",
       "  color: #f1f1f1;\n",
       "}\n",
       "#T_2f465_row15_col10 {\n",
       "  background-color: #3fa85b;\n",
       "  color: #f1f1f1;\n",
       "}\n",
       "#T_2f465_row16_col6 {\n",
       "  background-color: #00692a;\n",
       "  color: #f1f1f1;\n",
       "}\n",
       "#T_2f465_row16_col9 {\n",
       "  background-color: #00471c;\n",
       "  color: #f1f1f1;\n",
       "}\n",
       "#T_2f465_row16_col10 {\n",
       "  background-color: #005221;\n",
       "  color: #f1f1f1;\n",
       "}\n",
       "</style>\n",
       "<table id=\"T_2f465\">\n",
       "  <caption>Percentage Drop in Metrics Under Adversarial Attacks</caption>\n",
       "  <thead>\n",
       "    <tr>\n",
       "      <th class=\"blank level0\" >&nbsp;</th>\n",
       "      <th id=\"T_2f465_level0_col0\" class=\"col_heading level0 col0\" >Class</th>\n",
       "      <th id=\"T_2f465_level0_col1\" class=\"col_heading level0 col1\" >support</th>\n",
       "      <th id=\"T_2f465_level0_col2\" class=\"col_heading level0 col2\" >Min Influence</th>\n",
       "      <th id=\"T_2f465_level0_col3\" class=\"col_heading level0 col3\" >Avg Influence</th>\n",
       "      <th id=\"T_2f465_level0_col4\" class=\"col_heading level0 col4\" >Max Influence</th>\n",
       "      <th id=\"T_2f465_level0_col5\" class=\"col_heading level0 col5\" >Normal f1-score</th>\n",
       "      <th id=\"T_2f465_level0_col6\" class=\"col_heading level0 col6\" >To Both f1-score</th>\n",
       "      <th id=\"T_2f465_level0_col7\" class=\"col_heading level0 col7\" >To Src f1-score</th>\n",
       "      <th id=\"T_2f465_level0_col8\" class=\"col_heading level0 col8\" >To Dst f1-score</th>\n",
       "      <th id=\"T_2f465_level0_col9\" class=\"col_heading level0 col9\" >Edge Perturbation f1-score</th>\n",
       "      <th id=\"T_2f465_level0_col10\" class=\"col_heading level0 col10\" >Random Edge f1-score</th>\n",
       "    </tr>\n",
       "  </thead>\n",
       "  <tbody>\n",
       "    <tr>\n",
       "      <th id=\"T_2f465_level0_row0\" class=\"row_heading level0 row0\" >0</th>\n",
       "      <td id=\"T_2f465_row0_col0\" class=\"data row0 col0\" >BENIGN</td>\n",
       "      <td id=\"T_2f465_row0_col1\" class=\"data row0 col1\" >341212</td>\n",
       "      <td id=\"T_2f465_row0_col2\" class=\"data row0 col2\" >0.00</td>\n",
       "      <td id=\"T_2f465_row0_col3\" class=\"data row0 col3\" >22.10</td>\n",
       "      <td id=\"T_2f465_row0_col4\" class=\"data row0 col4\" >5248675.75</td>\n",
       "      <td id=\"T_2f465_row0_col5\" class=\"data row0 col5\" >1.00</td>\n",
       "      <td id=\"T_2f465_row0_col6\" class=\"data row0 col6\" >0.95</td>\n",
       "      <td id=\"T_2f465_row0_col7\" class=\"data row0 col7\" >0.95</td>\n",
       "      <td id=\"T_2f465_row0_col8\" class=\"data row0 col8\" >1.00</td>\n",
       "      <td id=\"T_2f465_row0_col9\" class=\"data row0 col9\" >0.99</td>\n",
       "      <td id=\"T_2f465_row0_col10\" class=\"data row0 col10\" >0.98</td>\n",
       "    </tr>\n",
       "    <tr>\n",
       "      <th id=\"T_2f465_level0_row1\" class=\"row_heading level0 row1\" >1</th>\n",
       "      <td id=\"T_2f465_row1_col0\" class=\"data row1 col0\" >Bot</td>\n",
       "      <td id=\"T_2f465_row1_col1\" class=\"data row1 col1\" >444</td>\n",
       "      <td id=\"T_2f465_row1_col2\" class=\"data row1 col2\" >0.01</td>\n",
       "      <td id=\"T_2f465_row1_col3\" class=\"data row1 col3\" >6.85</td>\n",
       "      <td id=\"T_2f465_row1_col4\" class=\"data row1 col4\" >2420.00</td>\n",
       "      <td id=\"T_2f465_row1_col5\" class=\"data row1 col5\" >0.44</td>\n",
       "      <td id=\"T_2f465_row1_col6\" class=\"data row1 col6\" >0.43</td>\n",
       "      <td id=\"T_2f465_row1_col7\" class=\"data row1 col7\" >0.39</td>\n",
       "      <td id=\"T_2f465_row1_col8\" class=\"data row1 col8\" >0.48</td>\n",
       "      <td id=\"T_2f465_row1_col9\" class=\"data row1 col9\" >0.19</td>\n",
       "      <td id=\"T_2f465_row1_col10\" class=\"data row1 col10\" >0.12</td>\n",
       "    </tr>\n",
       "    <tr>\n",
       "      <th id=\"T_2f465_level0_row2\" class=\"row_heading level0 row2\" >2</th>\n",
       "      <td id=\"T_2f465_row2_col0\" class=\"data row2 col0\" >DDoS</td>\n",
       "      <td id=\"T_2f465_row2_col1\" class=\"data row2 col1\" >18031</td>\n",
       "      <td id=\"T_2f465_row2_col2\" class=\"data row2 col2\" >212.80</td>\n",
       "      <td id=\"T_2f465_row2_col3\" class=\"data row2 col3\" >2003.44</td>\n",
       "      <td id=\"T_2f465_row2_col4\" class=\"data row2 col4\" >11264.08</td>\n",
       "      <td id=\"T_2f465_row2_col5\" class=\"data row2 col5\" >1.00</td>\n",
       "      <td id=\"T_2f465_row2_col6\" class=\"data row2 col6\" >0.68</td>\n",
       "      <td id=\"T_2f465_row2_col7\" class=\"data row2 col7\" >0.68</td>\n",
       "      <td id=\"T_2f465_row2_col8\" class=\"data row2 col8\" >1.00</td>\n",
       "      <td id=\"T_2f465_row2_col9\" class=\"data row2 col9\" >1.00</td>\n",
       "      <td id=\"T_2f465_row2_col10\" class=\"data row2 col10\" >0.68</td>\n",
       "    </tr>\n",
       "    <tr>\n",
       "      <th id=\"T_2f465_level0_row3\" class=\"row_heading level0 row3\" >3</th>\n",
       "      <td id=\"T_2f465_row3_col0\" class=\"data row3 col0\" >DoS GoldenEye</td>\n",
       "      <td id=\"T_2f465_row3_col1\" class=\"data row3 col1\" >1504</td>\n",
       "      <td id=\"T_2f465_row3_col2\" class=\"data row3 col2\" >1504.00</td>\n",
       "      <td id=\"T_2f465_row3_col3\" class=\"data row3 col3\" >1504.00</td>\n",
       "      <td id=\"T_2f465_row3_col4\" class=\"data row3 col4\" >1504.00</td>\n",
       "      <td id=\"T_2f465_row3_col5\" class=\"data row3 col5\" >1.00</td>\n",
       "      <td id=\"T_2f465_row3_col6\" class=\"data row3 col6\" >0.96</td>\n",
       "      <td id=\"T_2f465_row3_col7\" class=\"data row3 col7\" >0.95</td>\n",
       "      <td id=\"T_2f465_row3_col8\" class=\"data row3 col8\" >0.97</td>\n",
       "      <td id=\"T_2f465_row3_col9\" class=\"data row3 col9\" >1.00</td>\n",
       "      <td id=\"T_2f465_row3_col10\" class=\"data row3 col10\" >0.95</td>\n",
       "    </tr>\n",
       "    <tr>\n",
       "      <th id=\"T_2f465_level0_row4\" class=\"row_heading level0 row4\" >4</th>\n",
       "      <td id=\"T_2f465_row4_col0\" class=\"data row4 col0\" >DoS Hulk</td>\n",
       "      <td id=\"T_2f465_row4_col1\" class=\"data row4 col1\" >35870</td>\n",
       "      <td id=\"T_2f465_row4_col2\" class=\"data row4 col2\" >1556.40</td>\n",
       "      <td id=\"T_2f465_row4_col3\" class=\"data row4 col3\" >2759.23</td>\n",
       "      <td id=\"T_2f465_row4_col4\" class=\"data row4 col4\" >4102.74</td>\n",
       "      <td id=\"T_2f465_row4_col5\" class=\"data row4 col5\" >1.00</td>\n",
       "      <td id=\"T_2f465_row4_col6\" class=\"data row4 col6\" >1.00</td>\n",
       "      <td id=\"T_2f465_row4_col7\" class=\"data row4 col7\" >1.00</td>\n",
       "      <td id=\"T_2f465_row4_col8\" class=\"data row4 col8\" >1.00</td>\n",
       "      <td id=\"T_2f465_row4_col9\" class=\"data row4 col9\" >1.00</td>\n",
       "      <td id=\"T_2f465_row4_col10\" class=\"data row4 col10\" >1.00</td>\n",
       "    </tr>\n",
       "    <tr>\n",
       "      <th id=\"T_2f465_level0_row5\" class=\"row_heading level0 row5\" >5</th>\n",
       "      <td id=\"T_2f465_row5_col0\" class=\"data row5 col0\" >DoS Slowhttptest</td>\n",
       "      <td id=\"T_2f465_row5_col1\" class=\"data row5 col1\" >829</td>\n",
       "      <td id=\"T_2f465_row5_col2\" class=\"data row5 col2\" >2.58</td>\n",
       "      <td id=\"T_2f465_row5_col3\" class=\"data row5 col3\" >414.50</td>\n",
       "      <td id=\"T_2f465_row5_col4\" class=\"data row5 col4\" >13659.02</td>\n",
       "      <td id=\"T_2f465_row5_col5\" class=\"data row5 col5\" >0.92</td>\n",
       "      <td id=\"T_2f465_row5_col6\" class=\"data row5 col6\" >0.81</td>\n",
       "      <td id=\"T_2f465_row5_col7\" class=\"data row5 col7\" >0.70</td>\n",
       "      <td id=\"T_2f465_row5_col8\" class=\"data row5 col8\" >0.91</td>\n",
       "      <td id=\"T_2f465_row5_col9\" class=\"data row5 col9\" >0.88</td>\n",
       "      <td id=\"T_2f465_row5_col10\" class=\"data row5 col10\" >0.78</td>\n",
       "    </tr>\n",
       "    <tr>\n",
       "      <th id=\"T_2f465_level0_row6\" class=\"row_heading level0 row6\" >6</th>\n",
       "      <td id=\"T_2f465_row6_col0\" class=\"data row6 col0\" >DoS slowloris</td>\n",
       "      <td id=\"T_2f465_row6_col1\" class=\"data row6 col1\" >809</td>\n",
       "      <td id=\"T_2f465_row6_col2\" class=\"data row6 col2\" >11.53</td>\n",
       "      <td id=\"T_2f465_row6_col3\" class=\"data row6 col3\" >404.50</td>\n",
       "      <td id=\"T_2f465_row6_col4\" class=\"data row6 col4\" >5665.10</td>\n",
       "      <td id=\"T_2f465_row6_col5\" class=\"data row6 col5\" >0.98</td>\n",
       "      <td id=\"T_2f465_row6_col6\" class=\"data row6 col6\" >0.96</td>\n",
       "      <td id=\"T_2f465_row6_col7\" class=\"data row6 col7\" >0.92</td>\n",
       "      <td id=\"T_2f465_row6_col8\" class=\"data row6 col8\" >0.97</td>\n",
       "      <td id=\"T_2f465_row6_col9\" class=\"data row6 col9\" >0.96</td>\n",
       "      <td id=\"T_2f465_row6_col10\" class=\"data row6 col10\" >0.95</td>\n",
       "    </tr>\n",
       "    <tr>\n",
       "      <th id=\"T_2f465_level0_row7\" class=\"row_heading level0 row7\" >7</th>\n",
       "      <td id=\"T_2f465_row7_col0\" class=\"data row7 col0\" >FTP-Patator</td>\n",
       "      <td id=\"T_2f465_row7_col1\" class=\"data row7 col1\" >1130</td>\n",
       "      <td id=\"T_2f465_row7_col2\" class=\"data row7 col2\" >0.00</td>\n",
       "      <td id=\"T_2f465_row7_col3\" class=\"data row7 col3\" >226.00</td>\n",
       "      <td id=\"T_2f465_row7_col4\" class=\"data row7 col4\" >139128.86</td>\n",
       "      <td id=\"T_2f465_row7_col5\" class=\"data row7 col5\" >0.94</td>\n",
       "      <td id=\"T_2f465_row7_col6\" class=\"data row7 col6\" >0.95</td>\n",
       "      <td id=\"T_2f465_row7_col7\" class=\"data row7 col7\" >0.99</td>\n",
       "      <td id=\"T_2f465_row7_col8\" class=\"data row7 col8\" >0.95</td>\n",
       "      <td id=\"T_2f465_row7_col9\" class=\"data row7 col9\" >0.92</td>\n",
       "      <td id=\"T_2f465_row7_col10\" class=\"data row7 col10\" >0.95</td>\n",
       "    </tr>\n",
       "    <tr>\n",
       "      <th id=\"T_2f465_level0_row8\" class=\"row_heading level0 row8\" >8</th>\n",
       "      <td id=\"T_2f465_row8_col0\" class=\"data row8 col0\" >Heartbleed</td>\n",
       "      <td id=\"T_2f465_row8_col1\" class=\"data row8 col1\" >1</td>\n",
       "      <td id=\"T_2f465_row8_col2\" class=\"data row8 col2\" >1.00</td>\n",
       "      <td id=\"T_2f465_row8_col3\" class=\"data row8 col3\" >1.00</td>\n",
       "      <td id=\"T_2f465_row8_col4\" class=\"data row8 col4\" >1.00</td>\n",
       "      <td id=\"T_2f465_row8_col5\" class=\"data row8 col5\" >0.02</td>\n",
       "      <td id=\"T_2f465_row8_col6\" class=\"data row8 col6\" >0.03</td>\n",
       "      <td id=\"T_2f465_row8_col7\" class=\"data row8 col7\" >0.03</td>\n",
       "      <td id=\"T_2f465_row8_col8\" class=\"data row8 col8\" >0.03</td>\n",
       "      <td id=\"T_2f465_row8_col9\" class=\"data row8 col9\" >0.02</td>\n",
       "      <td id=\"T_2f465_row8_col10\" class=\"data row8 col10\" >0.04</td>\n",
       "    </tr>\n",
       "    <tr>\n",
       "      <th id=\"T_2f465_level0_row9\" class=\"row_heading level0 row9\" >9</th>\n",
       "      <td id=\"T_2f465_row9_col0\" class=\"data row9 col0\" >Infiltration</td>\n",
       "      <td id=\"T_2f465_row9_col1\" class=\"data row9 col1\" >6</td>\n",
       "      <td id=\"T_2f465_row9_col2\" class=\"data row9 col2\" >0.50</td>\n",
       "      <td id=\"T_2f465_row9_col3\" class=\"data row9 col3\" >1.50</td>\n",
       "      <td id=\"T_2f465_row9_col4\" class=\"data row9 col4\" >4.00</td>\n",
       "      <td id=\"T_2f465_row9_col5\" class=\"data row9 col5\" >0.04</td>\n",
       "      <td id=\"T_2f465_row9_col6\" class=\"data row9 col6\" >0.03</td>\n",
       "      <td id=\"T_2f465_row9_col7\" class=\"data row9 col7\" >0.02</td>\n",
       "      <td id=\"T_2f465_row9_col8\" class=\"data row9 col8\" >0.04</td>\n",
       "      <td id=\"T_2f465_row9_col9\" class=\"data row9 col9\" >0.02</td>\n",
       "      <td id=\"T_2f465_row9_col10\" class=\"data row9 col10\" >0.03</td>\n",
       "    </tr>\n",
       "    <tr>\n",
       "      <th id=\"T_2f465_level0_row10\" class=\"row_heading level0 row10\" >10</th>\n",
       "      <td id=\"T_2f465_row10_col0\" class=\"data row10 col0\" >PortScan</td>\n",
       "      <td id=\"T_2f465_row10_col1\" class=\"data row10 col1\" >25036</td>\n",
       "      <td id=\"T_2f465_row10_col2\" class=\"data row10 col2\" >1.25</td>\n",
       "      <td id=\"T_2f465_row10_col3\" class=\"data row10 col3\" >2503.60</td>\n",
       "      <td id=\"T_2f465_row10_col4\" class=\"data row10 col4\" >145384.98</td>\n",
       "      <td id=\"T_2f465_row10_col5\" class=\"data row10 col5\" >0.98</td>\n",
       "      <td id=\"T_2f465_row10_col6\" class=\"data row10 col6\" >0.00</td>\n",
       "      <td id=\"T_2f465_row10_col7\" class=\"data row10 col7\" >0.00</td>\n",
       "      <td id=\"T_2f465_row10_col8\" class=\"data row10 col8\" >0.98</td>\n",
       "      <td id=\"T_2f465_row10_col9\" class=\"data row10 col9\" >0.98</td>\n",
       "      <td id=\"T_2f465_row10_col10\" class=\"data row10 col10\" >0.77</td>\n",
       "    </tr>\n",
       "    <tr>\n",
       "      <th id=\"T_2f465_level0_row11\" class=\"row_heading level0 row11\" >11</th>\n",
       "      <td id=\"T_2f465_row11_col0\" class=\"data row11 col0\" >SSH-Patator</td>\n",
       "      <td id=\"T_2f465_row11_col1\" class=\"data row11 col1\" >839</td>\n",
       "      <td id=\"T_2f465_row11_col2\" class=\"data row11 col2\" >29.23</td>\n",
       "      <td id=\"T_2f465_row11_col3\" class=\"data row11 col3\" >209.75</td>\n",
       "      <td id=\"T_2f465_row11_col4\" class=\"data row11 col4\" >1279.31</td>\n",
       "      <td id=\"T_2f465_row11_col5\" class=\"data row11 col5\" >0.80</td>\n",
       "      <td id=\"T_2f465_row11_col6\" class=\"data row11 col6\" >0.51</td>\n",
       "      <td id=\"T_2f465_row11_col7\" class=\"data row11 col7\" >0.00</td>\n",
       "      <td id=\"T_2f465_row11_col8\" class=\"data row11 col8\" >0.82</td>\n",
       "      <td id=\"T_2f465_row11_col9\" class=\"data row11 col9\" >0.66</td>\n",
       "      <td id=\"T_2f465_row11_col10\" class=\"data row11 col10\" >0.65</td>\n",
       "    </tr>\n",
       "    <tr>\n",
       "      <th id=\"T_2f465_level0_row12\" class=\"row_heading level0 row12\" >12</th>\n",
       "      <td id=\"T_2f465_row12_col0\" class=\"data row12 col0\" >Web Attack - Brute Force</td>\n",
       "      <td id=\"T_2f465_row12_col1\" class=\"data row12 col1\" >163</td>\n",
       "      <td id=\"T_2f465_row12_col2\" class=\"data row12 col2\" >0.61</td>\n",
       "      <td id=\"T_2f465_row12_col3\" class=\"data row12 col3\" >54.33</td>\n",
       "      <td id=\"T_2f465_row12_col4\" class=\"data row12 col4\" >914.29</td>\n",
       "      <td id=\"T_2f465_row12_col5\" class=\"data row12 col5\" >0.87</td>\n",
       "      <td id=\"T_2f465_row12_col6\" class=\"data row12 col6\" >0.62</td>\n",
       "      <td id=\"T_2f465_row12_col7\" class=\"data row12 col7\" >0.93</td>\n",
       "      <td id=\"T_2f465_row12_col8\" class=\"data row12 col8\" >0.91</td>\n",
       "      <td id=\"T_2f465_row12_col9\" class=\"data row12 col9\" >0.81</td>\n",
       "      <td id=\"T_2f465_row12_col10\" class=\"data row12 col10\" >0.80</td>\n",
       "    </tr>\n",
       "    <tr>\n",
       "      <th id=\"T_2f465_level0_row13\" class=\"row_heading level0 row13\" >13</th>\n",
       "      <td id=\"T_2f465_row13_col0\" class=\"data row13 col0\" >Web Attack - Sql Injection</td>\n",
       "      <td id=\"T_2f465_row13_col1\" class=\"data row13 col1\" >0</td>\n",
       "      <td id=\"T_2f465_row13_col2\" class=\"data row13 col2\" >0.00</td>\n",
       "      <td id=\"T_2f465_row13_col3\" class=\"data row13 col3\" >0.00</td>\n",
       "      <td id=\"T_2f465_row13_col4\" class=\"data row13 col4\" >0.00</td>\n",
       "      <td id=\"T_2f465_row13_col5\" class=\"data row13 col5\" >0.00</td>\n",
       "      <td id=\"T_2f465_row13_col6\" class=\"data row13 col6\" >0.00</td>\n",
       "      <td id=\"T_2f465_row13_col7\" class=\"data row13 col7\" >0.00</td>\n",
       "      <td id=\"T_2f465_row13_col8\" class=\"data row13 col8\" >0.00</td>\n",
       "      <td id=\"T_2f465_row13_col9\" class=\"data row13 col9\" >0.00</td>\n",
       "      <td id=\"T_2f465_row13_col10\" class=\"data row13 col10\" >0.00</td>\n",
       "    </tr>\n",
       "    <tr>\n",
       "      <th id=\"T_2f465_level0_row14\" class=\"row_heading level0 row14\" >14</th>\n",
       "      <td id=\"T_2f465_row14_col0\" class=\"data row14 col0\" >Web Attack - XSS</td>\n",
       "      <td id=\"T_2f465_row14_col1\" class=\"data row14 col1\" >126</td>\n",
       "      <td id=\"T_2f465_row14_col2\" class=\"data row14 col2\" >126.00</td>\n",
       "      <td id=\"T_2f465_row14_col3\" class=\"data row14 col3\" >126.00</td>\n",
       "      <td id=\"T_2f465_row14_col4\" class=\"data row14 col4\" >126.00</td>\n",
       "      <td id=\"T_2f465_row14_col5\" class=\"data row14 col5\" >0.83</td>\n",
       "      <td id=\"T_2f465_row14_col6\" class=\"data row14 col6\" >0.70</td>\n",
       "      <td id=\"T_2f465_row14_col7\" class=\"data row14 col7\" >0.96</td>\n",
       "      <td id=\"T_2f465_row14_col8\" class=\"data row14 col8\" >0.85</td>\n",
       "      <td id=\"T_2f465_row14_col9\" class=\"data row14 col9\" >0.93</td>\n",
       "      <td id=\"T_2f465_row14_col10\" class=\"data row14 col10\" >0.82</td>\n",
       "    </tr>\n",
       "    <tr>\n",
       "      <th id=\"T_2f465_level0_row15\" class=\"row_heading level0 row15\" >15</th>\n",
       "      <td id=\"T_2f465_row15_col0\" class=\"data row15 col0\" >macro avg</td>\n",
       "      <td id=\"T_2f465_row15_col1\" class=\"data row15 col1\" >426000</td>\n",
       "      <td id=\"T_2f465_row15_col2\" class=\"data row15 col2\" >0.00</td>\n",
       "      <td id=\"T_2f465_row15_col3\" class=\"data row15 col3\" >0.00</td>\n",
       "      <td id=\"T_2f465_row15_col4\" class=\"data row15 col4\" >0.00</td>\n",
       "      <td id=\"T_2f465_row15_col5\" class=\"data row15 col5\" >0.72</td>\n",
       "      <td id=\"T_2f465_row15_col6\" class=\"data row15 col6\" >0.57</td>\n",
       "      <td id=\"T_2f465_row15_col7\" class=\"data row15 col7\" >0.57</td>\n",
       "      <td id=\"T_2f465_row15_col8\" class=\"data row15 col8\" >0.73</td>\n",
       "      <td id=\"T_2f465_row15_col9\" class=\"data row15 col9\" >0.69</td>\n",
       "      <td id=\"T_2f465_row15_col10\" class=\"data row15 col10\" >0.63</td>\n",
       "    </tr>\n",
       "    <tr>\n",
       "      <th id=\"T_2f465_level0_row16\" class=\"row_heading level0 row16\" >16</th>\n",
       "      <td id=\"T_2f465_row16_col0\" class=\"data row16 col0\" >weighted avg</td>\n",
       "      <td id=\"T_2f465_row16_col1\" class=\"data row16 col1\" >426000</td>\n",
       "      <td id=\"T_2f465_row16_col2\" class=\"data row16 col2\" >0.00</td>\n",
       "      <td id=\"T_2f465_row16_col3\" class=\"data row16 col3\" >0.00</td>\n",
       "      <td id=\"T_2f465_row16_col4\" class=\"data row16 col4\" >0.00</td>\n",
       "      <td id=\"T_2f465_row16_col5\" class=\"data row16 col5\" >0.99</td>\n",
       "      <td id=\"T_2f465_row16_col6\" class=\"data row16 col6\" >0.88</td>\n",
       "      <td id=\"T_2f465_row16_col7\" class=\"data row16 col7\" >0.88</td>\n",
       "      <td id=\"T_2f465_row16_col8\" class=\"data row16 col8\" >0.99</td>\n",
       "      <td id=\"T_2f465_row16_col9\" class=\"data row16 col9\" >0.99</td>\n",
       "      <td id=\"T_2f465_row16_col10\" class=\"data row16 col10\" >0.95</td>\n",
       "    </tr>\n",
       "  </tbody>\n",
       "</table>\n"
      ],
      "text/plain": [
       "<pandas.io.formats.style.Styler at 0x7f22c3ec7050>"
      ]
     },
     "metadata": {},
     "output_type": "display_data"
    }
   ],
   "source": [
    "# Check F1 Scores\n",
    "display(f1_df.style.background_gradient(cmap='Greens', subset=f1_cols, axis=0).set_caption(\"Percentage Drop in Metrics Under Adversarial Attacks\").format({col: \"{:.2f}\" for col in comparison_df.columns if col not in ['Class', 'support']}))"
   ]
  },
  {
   "cell_type": "code",
   "execution_count": 40,
   "id": "4e5c86f3",
   "metadata": {},
   "outputs": [
    {
     "data": {
      "text/html": [
       "<style type=\"text/css\">\n",
       "#T_69a69_row0_col5 {\n",
       "  background-color: #6f020e;\n",
       "  color: #f1f1f1;\n",
       "}\n",
       "#T_69a69_row0_col6 {\n",
       "  background-color: #67000d;\n",
       "  color: #f1f1f1;\n",
       "}\n",
       "#T_69a69_row0_col7 {\n",
       "  background-color: #fff5f0;\n",
       "  color: #000000;\n",
       "}\n",
       "#T_69a69_row0_col8 {\n",
       "  background-color: #ffeee6;\n",
       "  color: #000000;\n",
       "}\n",
       "#T_69a69_row0_col9 {\n",
       "  background-color: #fc9474;\n",
       "  color: #000000;\n",
       "}\n",
       "</style>\n",
       "<table id=\"T_69a69\">\n",
       "  <caption>Percentage Drop in Metrics Under Adversarial Attacks</caption>\n",
       "  <thead>\n",
       "    <tr>\n",
       "      <th class=\"blank level0\" >&nbsp;</th>\n",
       "      <th id=\"T_69a69_level0_col0\" class=\"col_heading level0 col0\" >Class</th>\n",
       "      <th id=\"T_69a69_level0_col1\" class=\"col_heading level0 col1\" >support</th>\n",
       "      <th id=\"T_69a69_level0_col2\" class=\"col_heading level0 col2\" >Min Influence</th>\n",
       "      <th id=\"T_69a69_level0_col3\" class=\"col_heading level0 col3\" >Avg Influence</th>\n",
       "      <th id=\"T_69a69_level0_col4\" class=\"col_heading level0 col4\" >Max Influence</th>\n",
       "      <th id=\"T_69a69_level0_col5\" class=\"col_heading level0 col5\" >To Both f1-score Drop (%)</th>\n",
       "      <th id=\"T_69a69_level0_col6\" class=\"col_heading level0 col6\" >To Src f1-score Drop (%)</th>\n",
       "      <th id=\"T_69a69_level0_col7\" class=\"col_heading level0 col7\" >To Dst f1-score Drop (%)</th>\n",
       "      <th id=\"T_69a69_level0_col8\" class=\"col_heading level0 col8\" >Edge Perturbation f1-score Drop (%)</th>\n",
       "      <th id=\"T_69a69_level0_col9\" class=\"col_heading level0 col9\" >Random Edge f1-score Drop (%)</th>\n",
       "    </tr>\n",
       "  </thead>\n",
       "  <tbody>\n",
       "    <tr>\n",
       "      <th id=\"T_69a69_level0_row0\" class=\"row_heading level0 row0\" >16</th>\n",
       "      <td id=\"T_69a69_row0_col0\" class=\"data row0 col0\" >weighted avg</td>\n",
       "      <td id=\"T_69a69_row0_col1\" class=\"data row0 col1\" >426000</td>\n",
       "      <td id=\"T_69a69_row0_col2\" class=\"data row0 col2\" >0.00</td>\n",
       "      <td id=\"T_69a69_row0_col3\" class=\"data row0 col3\" >0.00</td>\n",
       "      <td id=\"T_69a69_row0_col4\" class=\"data row0 col4\" >0.00</td>\n",
       "      <td id=\"T_69a69_row0_col5\" class=\"data row0 col5\" >11.08</td>\n",
       "      <td id=\"T_69a69_row0_col6\" class=\"data row0 col6\" >11.28</td>\n",
       "      <td id=\"T_69a69_row0_col7\" class=\"data row0 col7\" >-0.02</td>\n",
       "      <td id=\"T_69a69_row0_col8\" class=\"data row0 col8\" >0.47</td>\n",
       "      <td id=\"T_69a69_row0_col9\" class=\"data row0 col9\" >4.13</td>\n",
       "    </tr>\n",
       "  </tbody>\n",
       "</table>\n"
      ],
      "text/plain": [
       "<pandas.io.formats.style.Styler at 0x7f22c33dd730>"
      ]
     },
     "metadata": {},
     "output_type": "display_data"
    }
   ],
   "source": [
    "# Compare Drops per Adversarial Attack\n",
    "display(f1_drop_df[f1_drop_df['Class'] == 'weighted avg'].style.background_gradient(cmap='Reds', subset=f1_drop_cols, axis=None).set_caption(\"Percentage Drop in Metrics Under Adversarial Attacks\").format({col: \"{:.2f}\" for col in comparison_df.columns if col not in ['Class', 'support']}))"
   ]
  },
  {
   "cell_type": "code",
   "execution_count": 41,
   "id": "bb8033d6",
   "metadata": {},
   "outputs": [
    {
     "data": {
      "text/html": [
       "<style type=\"text/css\">\n",
       "#T_71d12_row0_col5 {\n",
       "  background-color: #fc8d6d;\n",
       "  color: #f1f1f1;\n",
       "}\n",
       "#T_71d12_row0_col6, #T_71d12_row3_col6 {\n",
       "  background-color: #fc8a6a;\n",
       "  color: #f1f1f1;\n",
       "}\n",
       "#T_71d12_row0_col7, #T_71d12_row2_col7, #T_71d12_row4_col7, #T_71d12_row10_col7, #T_71d12_row13_col7, #T_71d12_row16_col7 {\n",
       "  background-color: #840711;\n",
       "  color: #f1f1f1;\n",
       "}\n",
       "#T_71d12_row0_col8, #T_71d12_row16_col8 {\n",
       "  background-color: #fdcebb;\n",
       "  color: #000000;\n",
       "}\n",
       "#T_71d12_row0_col9 {\n",
       "  background-color: #ed392b;\n",
       "  color: #f1f1f1;\n",
       "}\n",
       "#T_71d12_row1_col5 {\n",
       "  background-color: #fc9070;\n",
       "  color: #000000;\n",
       "}\n",
       "#T_71d12_row1_col6 {\n",
       "  background-color: #fb7b5b;\n",
       "  color: #f1f1f1;\n",
       "}\n",
       "#T_71d12_row1_col7 {\n",
       "  background-color: #c3161b;\n",
       "  color: #f1f1f1;\n",
       "}\n",
       "#T_71d12_row1_col8, #T_71d12_row1_col9, #T_71d12_row9_col7, #T_71d12_row10_col5, #T_71d12_row10_col6, #T_71d12_row11_col6 {\n",
       "  background-color: #67000d;\n",
       "  color: #f1f1f1;\n",
       "}\n",
       "#T_71d12_row2_col5 {\n",
       "  background-color: #f4503a;\n",
       "  color: #f1f1f1;\n",
       "}\n",
       "#T_71d12_row2_col6 {\n",
       "  background-color: #f44f39;\n",
       "  color: #f1f1f1;\n",
       "}\n",
       "#T_71d12_row2_col8, #T_71d12_row3_col8, #T_71d12_row10_col8, #T_71d12_row13_col8 {\n",
       "  background-color: #fdd1be;\n",
       "  color: #000000;\n",
       "}\n",
       "#T_71d12_row2_col9 {\n",
       "  background-color: #bf151b;\n",
       "  color: #f1f1f1;\n",
       "}\n",
       "#T_71d12_row3_col5 {\n",
       "  background-color: #fc8f6f;\n",
       "  color: #000000;\n",
       "}\n",
       "#T_71d12_row3_col7 {\n",
       "  background-color: #6d010e;\n",
       "  color: #f1f1f1;\n",
       "}\n",
       "#T_71d12_row3_col9 {\n",
       "  background-color: #e93529;\n",
       "  color: #f1f1f1;\n",
       "}\n",
       "#T_71d12_row4_col5, #T_71d12_row13_col5 {\n",
       "  background-color: #fc9777;\n",
       "  color: #000000;\n",
       "}\n",
       "#T_71d12_row4_col6, #T_71d12_row13_col6 {\n",
       "  background-color: #fc9474;\n",
       "  color: #000000;\n",
       "}\n",
       "#T_71d12_row4_col8 {\n",
       "  background-color: #fdd0bc;\n",
       "  color: #000000;\n",
       "}\n",
       "#T_71d12_row4_col9, #T_71d12_row7_col9, #T_71d12_row13_col9 {\n",
       "  background-color: #f03d2d;\n",
       "  color: #f1f1f1;\n",
       "}\n",
       "#T_71d12_row5_col5, #T_71d12_row11_col8 {\n",
       "  background-color: #fb7c5c;\n",
       "  color: #f1f1f1;\n",
       "}\n",
       "#T_71d12_row5_col6 {\n",
       "  background-color: #f96044;\n",
       "  color: #f1f1f1;\n",
       "}\n",
       "#T_71d12_row5_col7 {\n",
       "  background-color: #75030f;\n",
       "  color: #f1f1f1;\n",
       "}\n",
       "#T_71d12_row5_col8 {\n",
       "  background-color: #fcbca2;\n",
       "  color: #000000;\n",
       "}\n",
       "#T_71d12_row5_col9 {\n",
       "  background-color: #da2723;\n",
       "  color: #f1f1f1;\n",
       "}\n",
       "#T_71d12_row6_col5 {\n",
       "  background-color: #fc9373;\n",
       "  color: #000000;\n",
       "}\n",
       "#T_71d12_row6_col6 {\n",
       "  background-color: #fc8767;\n",
       "  color: #f1f1f1;\n",
       "}\n",
       "#T_71d12_row6_col7 {\n",
       "  background-color: #7e0610;\n",
       "  color: #f1f1f1;\n",
       "}\n",
       "#T_71d12_row6_col8 {\n",
       "  background-color: #fdcab5;\n",
       "  color: #000000;\n",
       "}\n",
       "#T_71d12_row6_col9 {\n",
       "  background-color: #eb372a;\n",
       "  color: #f1f1f1;\n",
       "}\n",
       "#T_71d12_row7_col5 {\n",
       "  background-color: #fc9879;\n",
       "  color: #000000;\n",
       "}\n",
       "#T_71d12_row7_col6 {\n",
       "  background-color: #fc9d7f;\n",
       "  color: #000000;\n",
       "}\n",
       "#T_71d12_row7_col7, #T_71d12_row9_col8 {\n",
       "  background-color: #880811;\n",
       "  color: #f1f1f1;\n",
       "}\n",
       "#T_71d12_row7_col8 {\n",
       "  background-color: #fdc7b2;\n",
       "  color: #000000;\n",
       "}\n",
       "#T_71d12_row8_col5, #T_71d12_row8_col6, #T_71d12_row8_col7, #T_71d12_row8_col9, #T_71d12_row14_col8 {\n",
       "  background-color: #fff5f0;\n",
       "  color: #000000;\n",
       "}\n",
       "#T_71d12_row8_col8 {\n",
       "  background-color: #fcab8f;\n",
       "  color: #000000;\n",
       "}\n",
       "#T_71d12_row9_col5 {\n",
       "  background-color: #f85d42;\n",
       "  color: #f1f1f1;\n",
       "}\n",
       "#T_71d12_row9_col6 {\n",
       "  background-color: #ee3a2c;\n",
       "  color: #f1f1f1;\n",
       "}\n",
       "#T_71d12_row9_col9 {\n",
       "  background-color: #e02c26;\n",
       "  color: #f1f1f1;\n",
       "}\n",
       "#T_71d12_row10_col9 {\n",
       "  background-color: #d01d1f;\n",
       "  color: #f1f1f1;\n",
       "}\n",
       "#T_71d12_row11_col5 {\n",
       "  background-color: #f14432;\n",
       "  color: #f1f1f1;\n",
       "}\n",
       "#T_71d12_row11_col7 {\n",
       "  background-color: #940b13;\n",
       "  color: #f1f1f1;\n",
       "}\n",
       "#T_71d12_row11_col9 {\n",
       "  background-color: #d32020;\n",
       "  color: #f1f1f1;\n",
       "}\n",
       "#T_71d12_row12_col5 {\n",
       "  background-color: #f75b40;\n",
       "  color: #f1f1f1;\n",
       "}\n",
       "#T_71d12_row12_col6 {\n",
       "  background-color: #fca285;\n",
       "  color: #000000;\n",
       "}\n",
       "#T_71d12_row12_col7 {\n",
       "  background-color: #af1117;\n",
       "  color: #f1f1f1;\n",
       "}\n",
       "#T_71d12_row12_col8 {\n",
       "  background-color: #fcb79c;\n",
       "  color: #000000;\n",
       "}\n",
       "#T_71d12_row12_col9 {\n",
       "  background-color: #e53228;\n",
       "  color: #f1f1f1;\n",
       "}\n",
       "#T_71d12_row14_col5 {\n",
       "  background-color: #fb7656;\n",
       "  color: #f1f1f1;\n",
       "}\n",
       "#T_71d12_row14_col6 {\n",
       "  background-color: #fcb499;\n",
       "  color: #000000;\n",
       "}\n",
       "#T_71d12_row14_col7 {\n",
       "  background-color: #9a0c14;\n",
       "  color: #f1f1f1;\n",
       "}\n",
       "#T_71d12_row14_col9 {\n",
       "  background-color: #ef3c2c;\n",
       "  color: #f1f1f1;\n",
       "}\n",
       "#T_71d12_row15_col5 {\n",
       "  background-color: #fb6d4d;\n",
       "  color: #f1f1f1;\n",
       "}\n",
       "#T_71d12_row15_col6 {\n",
       "  background-color: #fa6849;\n",
       "  color: #f1f1f1;\n",
       "}\n",
       "#T_71d12_row15_col7 {\n",
       "  background-color: #8a0812;\n",
       "  color: #f1f1f1;\n",
       "}\n",
       "#T_71d12_row15_col8 {\n",
       "  background-color: #fcbea5;\n",
       "  color: #000000;\n",
       "}\n",
       "#T_71d12_row15_col9 {\n",
       "  background-color: #de2b25;\n",
       "  color: #f1f1f1;\n",
       "}\n",
       "#T_71d12_row16_col5 {\n",
       "  background-color: #fc8060;\n",
       "  color: #f1f1f1;\n",
       "}\n",
       "#T_71d12_row16_col6 {\n",
       "  background-color: #fb7d5d;\n",
       "  color: #f1f1f1;\n",
       "}\n",
       "#T_71d12_row16_col9 {\n",
       "  background-color: #ea362a;\n",
       "  color: #f1f1f1;\n",
       "}\n",
       "</style>\n",
       "<table id=\"T_71d12\">\n",
       "  <caption>Percentage Drop in Metrics Under Adversarial Attacks</caption>\n",
       "  <thead>\n",
       "    <tr>\n",
       "      <th class=\"blank level0\" >&nbsp;</th>\n",
       "      <th id=\"T_71d12_level0_col0\" class=\"col_heading level0 col0\" >Class</th>\n",
       "      <th id=\"T_71d12_level0_col1\" class=\"col_heading level0 col1\" >support</th>\n",
       "      <th id=\"T_71d12_level0_col2\" class=\"col_heading level0 col2\" >Min Influence</th>\n",
       "      <th id=\"T_71d12_level0_col3\" class=\"col_heading level0 col3\" >Avg Influence</th>\n",
       "      <th id=\"T_71d12_level0_col4\" class=\"col_heading level0 col4\" >Max Influence</th>\n",
       "      <th id=\"T_71d12_level0_col5\" class=\"col_heading level0 col5\" >To Both f1-score Drop (%)</th>\n",
       "      <th id=\"T_71d12_level0_col6\" class=\"col_heading level0 col6\" >To Src f1-score Drop (%)</th>\n",
       "      <th id=\"T_71d12_level0_col7\" class=\"col_heading level0 col7\" >To Dst f1-score Drop (%)</th>\n",
       "      <th id=\"T_71d12_level0_col8\" class=\"col_heading level0 col8\" >Edge Perturbation f1-score Drop (%)</th>\n",
       "      <th id=\"T_71d12_level0_col9\" class=\"col_heading level0 col9\" >Random Edge f1-score Drop (%)</th>\n",
       "    </tr>\n",
       "  </thead>\n",
       "  <tbody>\n",
       "    <tr>\n",
       "      <th id=\"T_71d12_level0_row0\" class=\"row_heading level0 row0\" >0</th>\n",
       "      <td id=\"T_71d12_row0_col0\" class=\"data row0 col0\" >BENIGN</td>\n",
       "      <td id=\"T_71d12_row0_col1\" class=\"data row0 col1\" >341212</td>\n",
       "      <td id=\"T_71d12_row0_col2\" class=\"data row0 col2\" >0.00</td>\n",
       "      <td id=\"T_71d12_row0_col3\" class=\"data row0 col3\" >22.10</td>\n",
       "      <td id=\"T_71d12_row0_col4\" class=\"data row0 col4\" >5248675.75</td>\n",
       "      <td id=\"T_71d12_row0_col5\" class=\"data row0 col5\" >4.72</td>\n",
       "      <td id=\"T_71d12_row0_col6\" class=\"data row0 col6\" >4.83</td>\n",
       "      <td id=\"T_71d12_row0_col7\" class=\"data row0 col7\" >-0.02</td>\n",
       "      <td id=\"T_71d12_row0_col8\" class=\"data row0 col8\" >0.48</td>\n",
       "      <td id=\"T_71d12_row0_col9\" class=\"data row0 col9\" >1.72</td>\n",
       "    </tr>\n",
       "    <tr>\n",
       "      <th id=\"T_71d12_level0_row1\" class=\"row_heading level0 row1\" >1</th>\n",
       "      <td id=\"T_71d12_row1_col0\" class=\"data row1 col0\" >Bot</td>\n",
       "      <td id=\"T_71d12_row1_col1\" class=\"data row1 col1\" >444</td>\n",
       "      <td id=\"T_71d12_row1_col2\" class=\"data row1 col2\" >0.01</td>\n",
       "      <td id=\"T_71d12_row1_col3\" class=\"data row1 col3\" >6.85</td>\n",
       "      <td id=\"T_71d12_row1_col4\" class=\"data row1 col4\" >2420.00</td>\n",
       "      <td id=\"T_71d12_row1_col5\" class=\"data row1 col5\" >2.80</td>\n",
       "      <td id=\"T_71d12_row1_col6\" class=\"data row1 col6\" >11.94</td>\n",
       "      <td id=\"T_71d12_row1_col7\" class=\"data row1 col7\" >-8.76</td>\n",
       "      <td id=\"T_71d12_row1_col8\" class=\"data row1 col8\" >56.50</td>\n",
       "      <td id=\"T_71d12_row1_col9\" class=\"data row1 col9\" >73.63</td>\n",
       "    </tr>\n",
       "    <tr>\n",
       "      <th id=\"T_71d12_level0_row2\" class=\"row_heading level0 row2\" >2</th>\n",
       "      <td id=\"T_71d12_row2_col0\" class=\"data row2 col0\" >DDoS</td>\n",
       "      <td id=\"T_71d12_row2_col1\" class=\"data row2 col1\" >18031</td>\n",
       "      <td id=\"T_71d12_row2_col2\" class=\"data row2 col2\" >212.80</td>\n",
       "      <td id=\"T_71d12_row2_col3\" class=\"data row2 col3\" >2003.44</td>\n",
       "      <td id=\"T_71d12_row2_col4\" class=\"data row2 col4\" >11264.08</td>\n",
       "      <td id=\"T_71d12_row2_col5\" class=\"data row2 col5\" >32.23</td>\n",
       "      <td id=\"T_71d12_row2_col6\" class=\"data row2 col6\" >32.21</td>\n",
       "      <td id=\"T_71d12_row2_col7\" class=\"data row2 col7\" >-0.02</td>\n",
       "      <td id=\"T_71d12_row2_col8\" class=\"data row2 col8\" >0.12</td>\n",
       "      <td id=\"T_71d12_row2_col9\" class=\"data row2 col9\" >32.26</td>\n",
       "    </tr>\n",
       "    <tr>\n",
       "      <th id=\"T_71d12_level0_row3\" class=\"row_heading level0 row3\" >3</th>\n",
       "      <td id=\"T_71d12_row3_col0\" class=\"data row3 col0\" >DoS GoldenEye</td>\n",
       "      <td id=\"T_71d12_row3_col1\" class=\"data row3 col1\" >1504</td>\n",
       "      <td id=\"T_71d12_row3_col2\" class=\"data row3 col2\" >1504.00</td>\n",
       "      <td id=\"T_71d12_row3_col3\" class=\"data row3 col3\" >1504.00</td>\n",
       "      <td id=\"T_71d12_row3_col4\" class=\"data row3 col4\" >1504.00</td>\n",
       "      <td id=\"T_71d12_row3_col5\" class=\"data row3 col5\" >3.73</td>\n",
       "      <td id=\"T_71d12_row3_col6\" class=\"data row3 col6\" >4.46</td>\n",
       "      <td id=\"T_71d12_row3_col7\" class=\"data row3 col7\" >2.52</td>\n",
       "      <td id=\"T_71d12_row3_col8\" class=\"data row3 col8\" >-0.07</td>\n",
       "      <td id=\"T_71d12_row3_col9\" class=\"data row3 col9\" >4.76</td>\n",
       "    </tr>\n",
       "    <tr>\n",
       "      <th id=\"T_71d12_level0_row4\" class=\"row_heading level0 row4\" >4</th>\n",
       "      <td id=\"T_71d12_row4_col0\" class=\"data row4 col0\" >DoS Hulk</td>\n",
       "      <td id=\"T_71d12_row4_col1\" class=\"data row4 col1\" >35870</td>\n",
       "      <td id=\"T_71d12_row4_col2\" class=\"data row4 col2\" >1556.40</td>\n",
       "      <td id=\"T_71d12_row4_col3\" class=\"data row4 col3\" >2759.23</td>\n",
       "      <td id=\"T_71d12_row4_col4\" class=\"data row4 col4\" >4102.74</td>\n",
       "      <td id=\"T_71d12_row4_col5\" class=\"data row4 col5\" >-0.00</td>\n",
       "      <td id=\"T_71d12_row4_col6\" class=\"data row4 col6\" >-0.04</td>\n",
       "      <td id=\"T_71d12_row4_col7\" class=\"data row4 col7\" >-0.00</td>\n",
       "      <td id=\"T_71d12_row4_col8\" class=\"data row4 col8\" >0.19</td>\n",
       "      <td id=\"T_71d12_row4_col9\" class=\"data row4 col9\" >-0.00</td>\n",
       "    </tr>\n",
       "    <tr>\n",
       "      <th id=\"T_71d12_level0_row5\" class=\"row_heading level0 row5\" >5</th>\n",
       "      <td id=\"T_71d12_row5_col0\" class=\"data row5 col0\" >DoS Slowhttptest</td>\n",
       "      <td id=\"T_71d12_row5_col1\" class=\"data row5 col1\" >829</td>\n",
       "      <td id=\"T_71d12_row5_col2\" class=\"data row5 col2\" >2.58</td>\n",
       "      <td id=\"T_71d12_row5_col3\" class=\"data row5 col3\" >414.50</td>\n",
       "      <td id=\"T_71d12_row5_col4\" class=\"data row5 col4\" >13659.02</td>\n",
       "      <td id=\"T_71d12_row5_col5\" class=\"data row5 col5\" >12.83</td>\n",
       "      <td id=\"T_71d12_row5_col6\" class=\"data row5 col6\" >24.72</td>\n",
       "      <td id=\"T_71d12_row5_col7\" class=\"data row5 col7\" >1.70</td>\n",
       "      <td id=\"T_71d12_row5_col8\" class=\"data row5 col8\" >4.78</td>\n",
       "      <td id=\"T_71d12_row5_col9\" class=\"data row5 col9\" >15.10</td>\n",
       "    </tr>\n",
       "    <tr>\n",
       "      <th id=\"T_71d12_level0_row6\" class=\"row_heading level0 row6\" >6</th>\n",
       "      <td id=\"T_71d12_row6_col0\" class=\"data row6 col0\" >DoS slowloris</td>\n",
       "      <td id=\"T_71d12_row6_col1\" class=\"data row6 col1\" >809</td>\n",
       "      <td id=\"T_71d12_row6_col2\" class=\"data row6 col2\" >11.53</td>\n",
       "      <td id=\"T_71d12_row6_col3\" class=\"data row6 col3\" >404.50</td>\n",
       "      <td id=\"T_71d12_row6_col4\" class=\"data row6 col4\" >5665.10</td>\n",
       "      <td id=\"T_71d12_row6_col5\" class=\"data row6 col5\" >2.02</td>\n",
       "      <td id=\"T_71d12_row6_col6\" class=\"data row6 col6\" >6.24</td>\n",
       "      <td id=\"T_71d12_row6_col7\" class=\"data row6 col7\" >0.66</td>\n",
       "      <td id=\"T_71d12_row6_col8\" class=\"data row6 col8\" >1.73</td>\n",
       "      <td id=\"T_71d12_row6_col9\" class=\"data row6 col9\" >3.22</td>\n",
       "    </tr>\n",
       "    <tr>\n",
       "      <th id=\"T_71d12_level0_row7\" class=\"row_heading level0 row7\" >7</th>\n",
       "      <td id=\"T_71d12_row7_col0\" class=\"data row7 col0\" >FTP-Patator</td>\n",
       "      <td id=\"T_71d12_row7_col1\" class=\"data row7 col1\" >1130</td>\n",
       "      <td id=\"T_71d12_row7_col2\" class=\"data row7 col2\" >0.00</td>\n",
       "      <td id=\"T_71d12_row7_col3\" class=\"data row7 col3\" >226.00</td>\n",
       "      <td id=\"T_71d12_row7_col4\" class=\"data row7 col4\" >139128.86</td>\n",
       "      <td id=\"T_71d12_row7_col5\" class=\"data row7 col5\" >-0.84</td>\n",
       "      <td id=\"T_71d12_row7_col6\" class=\"data row7 col6\" >-4.54</td>\n",
       "      <td id=\"T_71d12_row7_col7\" class=\"data row7 col7\" >-0.55</td>\n",
       "      <td id=\"T_71d12_row7_col8\" class=\"data row7 col8\" >2.24</td>\n",
       "      <td id=\"T_71d12_row7_col9\" class=\"data row7 col9\" >-0.59</td>\n",
       "    </tr>\n",
       "    <tr>\n",
       "      <th id=\"T_71d12_level0_row8\" class=\"row_heading level0 row8\" >8</th>\n",
       "      <td id=\"T_71d12_row8_col0\" class=\"data row8 col0\" >Heartbleed</td>\n",
       "      <td id=\"T_71d12_row8_col1\" class=\"data row8 col1\" >1</td>\n",
       "      <td id=\"T_71d12_row8_col2\" class=\"data row8 col2\" >1.00</td>\n",
       "      <td id=\"T_71d12_row8_col3\" class=\"data row8 col3\" >1.00</td>\n",
       "      <td id=\"T_71d12_row8_col4\" class=\"data row8 col4\" >1.00</td>\n",
       "      <td id=\"T_71d12_row8_col5\" class=\"data row8 col5\" >-56.52</td>\n",
       "      <td id=\"T_71d12_row8_col6\" class=\"data row8 col6\" >-58.82</td>\n",
       "      <td id=\"T_71d12_row8_col7\" class=\"data row8 col7\" >-50.00</td>\n",
       "      <td id=\"T_71d12_row8_col8\" class=\"data row8 col8\" >8.47</td>\n",
       "      <td id=\"T_71d12_row8_col9\" class=\"data row8 col9\" >-120.41</td>\n",
       "    </tr>\n",
       "    <tr>\n",
       "      <th id=\"T_71d12_level0_row9\" class=\"row_heading level0 row9\" >9</th>\n",
       "      <td id=\"T_71d12_row9_col0\" class=\"data row9 col0\" >Infiltration</td>\n",
       "      <td id=\"T_71d12_row9_col1\" class=\"data row9 col1\" >6</td>\n",
       "      <td id=\"T_71d12_row9_col2\" class=\"data row9 col2\" >0.50</td>\n",
       "      <td id=\"T_71d12_row9_col3\" class=\"data row9 col3\" >1.50</td>\n",
       "      <td id=\"T_71d12_row9_col4\" class=\"data row9 col4\" >4.00</td>\n",
       "      <td id=\"T_71d12_row9_col5\" class=\"data row9 col5\" >26.71</td>\n",
       "      <td id=\"T_71d12_row9_col6\" class=\"data row9 col6\" >41.05</td>\n",
       "      <td id=\"T_71d12_row9_col7\" class=\"data row9 col7\" >3.17</td>\n",
       "      <td id=\"T_71d12_row9_col8\" class=\"data row9 col8\" >51.80</td>\n",
       "      <td id=\"T_71d12_row9_col9\" class=\"data row9 col9\" >10.83</td>\n",
       "    </tr>\n",
       "    <tr>\n",
       "      <th id=\"T_71d12_level0_row10\" class=\"row_heading level0 row10\" >10</th>\n",
       "      <td id=\"T_71d12_row10_col0\" class=\"data row10 col0\" >PortScan</td>\n",
       "      <td id=\"T_71d12_row10_col1\" class=\"data row10 col1\" >25036</td>\n",
       "      <td id=\"T_71d12_row10_col2\" class=\"data row10 col2\" >1.25</td>\n",
       "      <td id=\"T_71d12_row10_col3\" class=\"data row10 col3\" >2503.60</td>\n",
       "      <td id=\"T_71d12_row10_col4\" class=\"data row10 col4\" >145384.98</td>\n",
       "      <td id=\"T_71d12_row10_col5\" class=\"data row10 col5\" >100.00</td>\n",
       "      <td id=\"T_71d12_row10_col6\" class=\"data row10 col6\" >100.00</td>\n",
       "      <td id=\"T_71d12_row10_col7\" class=\"data row10 col7\" >-0.03</td>\n",
       "      <td id=\"T_71d12_row10_col8\" class=\"data row10 col8\" >-0.05</td>\n",
       "      <td id=\"T_71d12_row10_col9\" class=\"data row10 col9\" >21.81</td>\n",
       "    </tr>\n",
       "    <tr>\n",
       "      <th id=\"T_71d12_level0_row11\" class=\"row_heading level0 row11\" >11</th>\n",
       "      <td id=\"T_71d12_row11_col0\" class=\"data row11 col0\" >SSH-Patator</td>\n",
       "      <td id=\"T_71d12_row11_col1\" class=\"data row11 col1\" >839</td>\n",
       "      <td id=\"T_71d12_row11_col2\" class=\"data row11 col2\" >29.23</td>\n",
       "      <td id=\"T_71d12_row11_col3\" class=\"data row11 col3\" >209.75</td>\n",
       "      <td id=\"T_71d12_row11_col4\" class=\"data row11 col4\" >1279.31</td>\n",
       "      <td id=\"T_71d12_row11_col5\" class=\"data row11 col5\" >37.03</td>\n",
       "      <td id=\"T_71d12_row11_col6\" class=\"data row11 col6\" >100.00</td>\n",
       "      <td id=\"T_71d12_row11_col7\" class=\"data row11 col7\" >-1.65</td>\n",
       "      <td id=\"T_71d12_row11_col8\" class=\"data row11 col8\" >18.39</td>\n",
       "      <td id=\"T_71d12_row11_col9\" class=\"data row11 col9\" >19.19</td>\n",
       "    </tr>\n",
       "    <tr>\n",
       "      <th id=\"T_71d12_level0_row12\" class=\"row_heading level0 row12\" >12</th>\n",
       "      <td id=\"T_71d12_row12_col0\" class=\"data row12 col0\" >Web Attack - Brute Force</td>\n",
       "      <td id=\"T_71d12_row12_col1\" class=\"data row12 col1\" >163</td>\n",
       "      <td id=\"T_71d12_row12_col2\" class=\"data row12 col2\" >0.61</td>\n",
       "      <td id=\"T_71d12_row12_col3\" class=\"data row12 col3\" >54.33</td>\n",
       "      <td id=\"T_71d12_row12_col4\" class=\"data row12 col4\" >914.29</td>\n",
       "      <td id=\"T_71d12_row12_col5\" class=\"data row12 col5\" >28.29</td>\n",
       "      <td id=\"T_71d12_row12_col6\" class=\"data row12 col6\" >-6.78</td>\n",
       "      <td id=\"T_71d12_row12_col7\" class=\"data row12 col7\" >-5.22</td>\n",
       "      <td id=\"T_71d12_row12_col8\" class=\"data row12 col8\" >6.04</td>\n",
       "      <td id=\"T_71d12_row12_col9\" class=\"data row12 col9\" >7.25</td>\n",
       "    </tr>\n",
       "    <tr>\n",
       "      <th id=\"T_71d12_level0_row13\" class=\"row_heading level0 row13\" >13</th>\n",
       "      <td id=\"T_71d12_row13_col0\" class=\"data row13 col0\" >Web Attack - Sql Injection</td>\n",
       "      <td id=\"T_71d12_row13_col1\" class=\"data row13 col1\" >0</td>\n",
       "      <td id=\"T_71d12_row13_col2\" class=\"data row13 col2\" >0.00</td>\n",
       "      <td id=\"T_71d12_row13_col3\" class=\"data row13 col3\" >0.00</td>\n",
       "      <td id=\"T_71d12_row13_col4\" class=\"data row13 col4\" >0.00</td>\n",
       "      <td id=\"T_71d12_row13_col5\" class=\"data row13 col5\" >0.00</td>\n",
       "      <td id=\"T_71d12_row13_col6\" class=\"data row13 col6\" >0.00</td>\n",
       "      <td id=\"T_71d12_row13_col7\" class=\"data row13 col7\" >0.00</td>\n",
       "      <td id=\"T_71d12_row13_col8\" class=\"data row13 col8\" >0.00</td>\n",
       "      <td id=\"T_71d12_row13_col9\" class=\"data row13 col9\" >0.00</td>\n",
       "    </tr>\n",
       "    <tr>\n",
       "      <th id=\"T_71d12_level0_row14\" class=\"row_heading level0 row14\" >14</th>\n",
       "      <td id=\"T_71d12_row14_col0\" class=\"data row14 col0\" >Web Attack - XSS</td>\n",
       "      <td id=\"T_71d12_row14_col1\" class=\"data row14 col1\" >126</td>\n",
       "      <td id=\"T_71d12_row14_col2\" class=\"data row14 col2\" >126.00</td>\n",
       "      <td id=\"T_71d12_row14_col3\" class=\"data row14 col3\" >126.00</td>\n",
       "      <td id=\"T_71d12_row14_col4\" class=\"data row14 col4\" >126.00</td>\n",
       "      <td id=\"T_71d12_row14_col5\" class=\"data row14 col5\" >16.02</td>\n",
       "      <td id=\"T_71d12_row14_col6\" class=\"data row14 col6\" >-15.59</td>\n",
       "      <td id=\"T_71d12_row14_col7\" class=\"data row14 col7\" >-2.36</td>\n",
       "      <td id=\"T_71d12_row14_col8\" class=\"data row14 col8\" >-12.18</td>\n",
       "      <td id=\"T_71d12_row14_col9\" class=\"data row14 col9\" >0.65</td>\n",
       "    </tr>\n",
       "    <tr>\n",
       "      <th id=\"T_71d12_level0_row15\" class=\"row_heading level0 row15\" >15</th>\n",
       "      <td id=\"T_71d12_row15_col0\" class=\"data row15 col0\" >macro avg</td>\n",
       "      <td id=\"T_71d12_row15_col1\" class=\"data row15 col1\" >426000</td>\n",
       "      <td id=\"T_71d12_row15_col2\" class=\"data row15 col2\" >0.00</td>\n",
       "      <td id=\"T_71d12_row15_col3\" class=\"data row15 col3\" >0.00</td>\n",
       "      <td id=\"T_71d12_row15_col4\" class=\"data row15 col4\" >0.00</td>\n",
       "      <td id=\"T_71d12_row15_col5\" class=\"data row15 col5\" >20.40</td>\n",
       "      <td id=\"T_71d12_row15_col6\" class=\"data row15 col6\" >21.41</td>\n",
       "      <td id=\"T_71d12_row15_col7\" class=\"data row15 col7\" >-0.77</td>\n",
       "      <td id=\"T_71d12_row15_col8\" class=\"data row15 col8\" >4.23</td>\n",
       "      <td id=\"T_71d12_row15_col9\" class=\"data row15 col9\" >11.98</td>\n",
       "    </tr>\n",
       "    <tr>\n",
       "      <th id=\"T_71d12_level0_row16\" class=\"row_heading level0 row16\" >16</th>\n",
       "      <td id=\"T_71d12_row16_col0\" class=\"data row16 col0\" >weighted avg</td>\n",
       "      <td id=\"T_71d12_row16_col1\" class=\"data row16 col1\" >426000</td>\n",
       "      <td id=\"T_71d12_row16_col2\" class=\"data row16 col2\" >0.00</td>\n",
       "      <td id=\"T_71d12_row16_col3\" class=\"data row16 col3\" >0.00</td>\n",
       "      <td id=\"T_71d12_row16_col4\" class=\"data row16 col4\" >0.00</td>\n",
       "      <td id=\"T_71d12_row16_col5\" class=\"data row16 col5\" >11.08</td>\n",
       "      <td id=\"T_71d12_row16_col6\" class=\"data row16 col6\" >11.28</td>\n",
       "      <td id=\"T_71d12_row16_col7\" class=\"data row16 col7\" >-0.02</td>\n",
       "      <td id=\"T_71d12_row16_col8\" class=\"data row16 col8\" >0.47</td>\n",
       "      <td id=\"T_71d12_row16_col9\" class=\"data row16 col9\" >4.13</td>\n",
       "    </tr>\n",
       "  </tbody>\n",
       "</table>\n"
      ],
      "text/plain": [
       "<pandas.io.formats.style.Styler at 0x7f22c2ec5820>"
      ]
     },
     "metadata": {},
     "output_type": "display_data"
    }
   ],
   "source": [
    "# Compare Drops per Class\n",
    "display(f1_drop_df.style.background_gradient(cmap='Reds', subset=f1_drop_cols).set_caption(\"Percentage Drop in Metrics Under Adversarial Attacks\").format({col: \"{:.2f}\" for col in comparison_df.columns if col not in ['Class', 'support']}))"
   ]
  },
  {
   "cell_type": "code",
   "execution_count": 42,
   "id": "852b5b4f",
   "metadata": {},
   "outputs": [
    {
     "name": "stdout",
     "output_type": "stream",
     "text": [
      "{'BENIGN': {'out_degree': (1.0, 14.8, 2291.0),\n",
      "            'in_degree': (1.0, 9.91, 1813.0),\n",
      "            'support': 341212,\n",
      "            'normal_f1': 1.0,\n",
      "            'to_both_f1': 0.95,\n",
      "            'to_src_f1': 0.95,\n",
      "            'to_dst_f1': 1.0,\n",
      "            'edge_perturb_f1': 0.99,\n",
      "            'random_edge_f1': 0.98},\n",
      " 'Bot': {'out_degree': (1.0, 12.33, 110.0),\n",
      "         'in_degree': (5.0, 22.2, 127.0),\n",
      "         'support': 444,\n",
      "         'normal_f1': 0.44,\n",
      "         'to_both_f1': 0.43,\n",
      "         'to_src_f1': 0.39,\n",
      "         'to_dst_f1': 0.48,\n",
      "         'edge_perturb_f1': 0.19,\n",
      "         'random_edge_f1': 0.12},\n",
      " 'DDoS': {'out_degree': (799.0, 2003.44, 3000.0),\n",
      "          'in_degree': (799.0, 2003.44, 3000.0),\n",
      "          'support': 18031,\n",
      "          'normal_f1': 1.0,\n",
      "          'to_both_f1': 0.68,\n",
      "          'to_src_f1': 0.68,\n",
      "          'to_dst_f1': 1.0,\n",
      "          'edge_perturb_f1': 1.0,\n",
      "          'random_edge_f1': 0.68},\n",
      " 'DoS GoldenEye': {'out_degree': (1504.0, 1504.0, 1504.0),\n",
      "                   'in_degree': (1504.0, 1504.0, 1504.0),\n",
      "                   'support': 1504,\n",
      "                   'normal_f1': 1.0,\n",
      "                   'to_both_f1': 0.96,\n",
      "                   'to_src_f1': 0.95,\n",
      "                   'to_dst_f1': 0.97,\n",
      "                   'edge_perturb_f1': 1.0,\n",
      "                   'random_edge_f1': 0.95},\n",
      " 'DoS Hulk': {'out_degree': (2150.0, 2759.23, 2970.0),\n",
      "              'in_degree': (2150.0, 2759.23, 2970.0),\n",
      "              'support': 35870,\n",
      "              'normal_f1': 1.0,\n",
      "              'to_both_f1': 1.0,\n",
      "              'to_src_f1': 1.0,\n",
      "              'to_dst_f1': 1.0,\n",
      "              'edge_perturb_f1': 1.0,\n",
      "              'random_edge_f1': 1.0},\n",
      " 'DoS Slowhttptest': {'out_degree': (45.0, 414.5, 784.0),\n",
      "                      'in_degree': (45.0, 414.5, 784.0),\n",
      "                      'support': 829,\n",
      "                      'normal_f1': 0.92,\n",
      "                      'to_both_f1': 0.81,\n",
      "                      'to_src_f1': 0.7,\n",
      "                      'to_dst_f1': 0.91,\n",
      "                      'edge_perturb_f1': 0.88,\n",
      "                      'random_edge_f1': 0.78},\n",
      " 'DoS slowloris': {'out_degree': (91.0, 404.5, 718.0),\n",
      "                   'in_degree': (91.0, 404.5, 718.0),\n",
      "                   'support': 809,\n",
      "                   'normal_f1': 0.98,\n",
      "                   'to_both_f1': 0.96,\n",
      "                   'to_src_f1': 0.92,\n",
      "                   'to_dst_f1': 0.97,\n",
      "                   'edge_perturb_f1': 0.96,\n",
      "                   'random_edge_f1': 0.95},\n",
      " 'FTP-Patator': {'out_degree': (1.0, 226.0, 373.0),\n",
      "                 'in_degree': (1.0, 226.0, 373.0),\n",
      "                 'support': 1130,\n",
      "                 'normal_f1': 0.94,\n",
      "                 'to_both_f1': 0.95,\n",
      "                 'to_src_f1': 0.99,\n",
      "                 'to_dst_f1': 0.95,\n",
      "                 'edge_perturb_f1': 0.92,\n",
      "                 'random_edge_f1': 0.95},\n",
      " 'Heartbleed': {'out_degree': (1.0, 1.0, 1.0),\n",
      "                'in_degree': (1.0, 1.0, 1.0),\n",
      "                'support': 1,\n",
      "                'normal_f1': 0.02,\n",
      "                'to_both_f1': 0.03,\n",
      "                'to_src_f1': 0.03,\n",
      "                'to_dst_f1': 0.03,\n",
      "                'edge_perturb_f1': 0.02,\n",
      "                'random_edge_f1': 0.04},\n",
      " 'Infiltration': {'out_degree': (1.0, 1.5, 2.0),\n",
      "                  'in_degree': (1.0, 1.5, 2.0),\n",
      "                  'support': 6,\n",
      "                  'normal_f1': 0.04,\n",
      "                  'to_both_f1': 0.03,\n",
      "                  'to_src_f1': 0.02,\n",
      "                  'to_dst_f1': 0.04,\n",
      "                  'edge_perturb_f1': 0.02,\n",
      "                  'random_edge_f1': 0.03},\n",
      " 'PortScan': {'out_degree': (61.0, 2503.6, 2978.0),\n",
      "              'in_degree': (61.0, 2503.6, 2978.0),\n",
      "              'support': 25036,\n",
      "              'normal_f1': 0.98,\n",
      "              'to_both_f1': 0.0,\n",
      "              'to_src_f1': 0.0,\n",
      "              'to_dst_f1': 0.98,\n",
      "              'edge_perturb_f1': 0.98,\n",
      "              'random_edge_f1': 0.77},\n",
      " 'SSH-Patator': {'out_degree': (103.0, 209.75, 363.0),\n",
      "                 'in_degree': (103.0, 209.75, 363.0),\n",
      "                 'support': 839,\n",
      "                 'normal_f1': 0.8,\n",
      "                 'to_both_f1': 0.51,\n",
      "                 'to_src_f1': 0.0,\n",
      "                 'to_dst_f1': 0.82,\n",
      "                 'edge_perturb_f1': 0.66,\n",
      "                 'random_edge_f1': 0.65},\n",
      " 'Web Attack - Brute Force': {'out_degree': (7.0, 54.33, 80.0),\n",
      "                              'in_degree': (7.0, 54.33, 80.0),\n",
      "                              'support': 163,\n",
      "                              'normal_f1': 0.87,\n",
      "                              'to_both_f1': 0.62,\n",
      "                              'to_src_f1': 0.93,\n",
      "                              'to_dst_f1': 0.91,\n",
      "                              'edge_perturb_f1': 0.81,\n",
      "                              'random_edge_f1': 0.8},\n",
      " 'Web Attack - XSS': {'out_degree': (126.0, 126.0, 126.0),\n",
      "                      'in_degree': (126.0, 126.0, 126.0),\n",
      "                      'support': 126,\n",
      "                      'normal_f1': 0.83,\n",
      "                      'to_both_f1': 0.7,\n",
      "                      'to_src_f1': 0.96,\n",
      "                      'to_dst_f1': 0.85,\n",
      "                      'edge_perturb_f1': 0.93,\n",
      "                      'random_edge_f1': 0.82},\n",
      " 'Web Attack - Sql Injection': {'support': 0,\n",
      "                                'normal_f1': 0.0,\n",
      "                                'to_both_f1': 0.0,\n",
      "                                'to_src_f1': 0.0,\n",
      "                                'to_dst_f1': 0.0,\n",
      "                                'edge_perturb_f1': 0.0,\n",
      "                                'random_edge_f1': 0.0},\n",
      " 'Macro Average': {'support': 426000,\n",
      "                   'normal_f1': 0.72,\n",
      "                   'to_both_f1': 0.57,\n",
      "                   'to_src_f1': 0.57,\n",
      "                   'to_dst_f1': 0.73,\n",
      "                   'edge_perturb_f1': 0.69,\n",
      "                   'random_edge_f1': 0.63},\n",
      " 'Weighted Average': {'support': 426000,\n",
      "                      'normal_f1': 0.99,\n",
      "                      'to_both_f1': 0.88,\n",
      "                      'to_src_f1': 0.88,\n",
      "                      'to_dst_f1': 0.99,\n",
      "                      'edge_perturb_f1': 0.99,\n",
      "                      'random_edge_f1': 0.95}}\n"
     ]
    }
   ],
   "source": [
    "from collections import defaultdict\n",
    "from pprint import pformat\n",
    "\n",
    "def round_tuple(t):\n",
    "    return tuple(round(x, 2) for x in t)\n",
    "\n",
    "def print_results(class_degree_report, comparison_df):\n",
    "    report_dict = defaultdict(dict)\n",
    "\n",
    "    for class_name, metrics in class_degree_report.items():\n",
    "        report_dict[class_name] = {\n",
    "            \"out_degree\": round_tuple((metrics['min_out'], metrics['avg_out'], metrics['max_out'])),\n",
    "            \"in_degree\": round_tuple((metrics['min_in'], metrics['avg_in'], metrics['max_in']))\n",
    "        }\n",
    "\n",
    "    for _, row in comparison_df.iterrows():\n",
    "        class_name = row['Class']\n",
    "        if class_name == 'weighted avg':\n",
    "            class_name = 'Weighted Average'\n",
    "        if class_name == 'macro avg':\n",
    "            class_name = 'Macro Average'\n",
    "        report_dict[class_name].update({\n",
    "            \"support\": row['support'],\n",
    "            \"normal_f1\": round(row['Normal f1-score'], 2),\n",
    "            \"to_both_f1\": round(row['To Both f1-score'], 2),\n",
    "            \"to_src_f1\": round(row['To Src f1-score'], 2),\n",
    "            \"to_dst_f1\": round(row['To Dst f1-score'], 2),\n",
    "            \"edge_perturb_f1\": round(row['Edge Perturbation f1-score'], 2),\n",
    "            \"random_edge_f1\": round(row['Random Edge f1-score'], 2),\n",
    "        })\n",
    "\n",
    "    print(pformat(dict(report_dict), sort_dicts=False, indent=1))\n",
    "\n",
    "print_results(class_degree_report, comparison_df)"
   ]
  }
 ],
 "metadata": {
  "kernelspec": {
   "display_name": ".venv",
   "language": "python",
   "name": "python3"
  },
  "language_info": {
   "codemirror_mode": {
    "name": "ipython",
    "version": 3
   },
   "file_extension": ".py",
   "mimetype": "text/x-python",
   "name": "python",
   "nbconvert_exporter": "python",
   "pygments_lexer": "ipython3",
   "version": "3.12.3"
  }
 },
 "nbformat": 4,
 "nbformat_minor": 5
}
