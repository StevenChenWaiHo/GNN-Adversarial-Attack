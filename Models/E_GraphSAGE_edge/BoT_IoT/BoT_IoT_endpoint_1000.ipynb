{
 "cells": [
  {
   "cell_type": "code",
   "execution_count": 1,
   "id": "ec16c7ab",
   "metadata": {},
   "outputs": [],
   "source": [
    "'''\n",
    "=====Experiment=====\n",
    "'''\n",
    "DATASET_NAME = \"BoT_IoT\"\n",
    "\n",
    "GRAPH_CONSTRUCTION = 'endpoint'\n",
    "WINDOW_SIZE = 1000\n",
    "\n",
    "MULTICLASS = True\n",
    "\n",
    "LOAD_SAVED = False\n",
    "\n",
    "FIRST_RUN = not LOAD_SAVED\n",
    "\n",
    "from torch_geometric.utils import from_networkx, add_self_loops, degree\n",
    "from torch_geometric.nn import MessagePassing\n",
    "import torch_geometric.transforms as T\n",
    "from torch_geometric.data import DataLoader\n",
    "import torch.nn as nn\n",
    "import torch as th\n",
    "import torch.nn.functional as F\n",
    "# import dgl.function as fn\n",
    "import networkx as nx\n",
    "import pandas as pd\n",
    "import matplotlib.pyplot as plt\n",
    "import random\n",
    "from sklearn.preprocessing import LabelEncoder\n",
    "from sklearn.preprocessing import StandardScaler\n",
    "from sklearn.model_selection import train_test_split\n",
    "from sklearn.utils import class_weight\n",
    "import numpy as np\n",
    "import os\n",
    "import sys\n",
    "from iterstrat.ml_stratifiers import MultilabelStratifiedShuffleSplit\n",
    "from torch_geometric.loader import DataLoader\n",
    "import joblib\n",
    "\n",
    "project_root = os.path.abspath(os.path.join(os.getcwd(), '..', '..', '..'))\n",
    "sys.path.append(project_root)\n",
    "\n",
    "from Datasets.BoT_IoT.BoT_IoT_config import BoT_IoT_Config as Dataset_Config\n",
    "\n",
    "EXPERIMENT_NAME = f\"strat_window_{GRAPH_CONSTRUCTION}_{WINDOW_SIZE}\"\n",
    "\n",
    "SOURCE_IP_COL_NAME = Dataset_Config.SOURCE_IP_COL_NAME\n",
    "DESTINATION_IP_COL_NAME = Dataset_Config.DESTINATION_IP_COL_NAME\n",
    "SOURCE_PORT_COL_NAME = Dataset_Config.SOURCE_PORT_COL_NAME\n",
    "DESTINATION_PORT_COL_NAME = Dataset_Config.DESTINATION_PORT_COL_NAME\n",
    "\n",
    "ATTACK_CLASS_COL_NAME = Dataset_Config.ATTACK_CLASS_COL_NAME\n",
    "IS_ATTACK_COL_NAME = Dataset_Config.IS_ATTACK_COL_NAME\n",
    "\n",
    "BENIGN_CLASS_NAME = Dataset_Config.BENIGN_CLASS_NAME\n",
    "\n",
    "TIME_COLS = Dataset_Config.TIME_COL_NAMES\n",
    "\n",
    "DROP_COLS = Dataset_Config.DROP_COLS\n",
    "\n",
    "COLS_TO_NORM = Dataset_Config.COLS_TO_NORM\n",
    "CATEGORICAL_COLS = Dataset_Config.CATEGORICAL_COLS\n",
    "\n",
    "if MULTICLASS:\n",
    "    label_col = ATTACK_CLASS_COL_NAME\n",
    "else:\n",
    "    label_col = IS_ATTACK_COL_NAME\n",
    "\n",
    "save_path = os.path.join(project_root, f\"Models/E_GraphSAGE_edge/{DATASET_NAME}/saved\", EXPERIMENT_NAME)\n",
    "\n",
    "checkpoint_path = os.path.join(save_path, f\"checkpoints.pth\")\n",
    "best_model_path = os.path.join(save_path, f\"best_model.pth\")\n",
    "\n",
    "os.makedirs(save_path, exist_ok=True)\n"
   ]
  },
  {
   "cell_type": "code",
   "execution_count": 2,
   "id": "9d9ef09a-d405-43b8-971e-fe9e6a592c9b",
   "metadata": {},
   "outputs": [],
   "source": [
    "if FIRST_RUN:\n",
    "    csv_file_name = \"all_raw\"\n",
    "\n",
    "    data = pd.read_csv(os.path.join(project_root, \"Datasets\", f\"{DATASET_NAME}/All/{csv_file_name}.csv\"))"
   ]
  },
  {
   "cell_type": "code",
   "execution_count": 3,
   "id": "b0ee112a",
   "metadata": {},
   "outputs": [
    {
     "name": "stdout",
     "output_type": "stream",
     "text": [
      "category\n",
      "DDoS              1926624\n",
      "DoS               1650260\n",
      "Reconnaissance      91082\n",
      "Normal                477\n",
      "Theft                  79\n",
      "Name: count, dtype: int64\n",
      "attack\n",
      "1    3668045\n",
      "0        477\n",
      "Name: count, dtype: int64\n"
     ]
    }
   ],
   "source": [
    "if FIRST_RUN:\n",
    "    print(data[ATTACK_CLASS_COL_NAME].value_counts())\n",
    "    print(data[IS_ATTACK_COL_NAME].value_counts())\n",
    "\n",
    "    if MULTICLASS:\n",
    "        data.drop(columns=[IS_ATTACK_COL_NAME], inplace=True)\n",
    "    else:\n",
    "        data.drop(columns=[ATTACK_CLASS_COL_NAME], inplace=True)"
   ]
  },
  {
   "cell_type": "code",
   "execution_count": 4,
   "id": "449a1af1-1d3d-4179-9628-7c2ec551ce0c",
   "metadata": {},
   "outputs": [
    {
     "name": "stdout",
     "output_type": "stream",
     "text": [
      "Index(['pkSeqID', 'stime', 'flgs_number', 'proto_number', 'saddr', 'sport',\n",
      "       'daddr', 'dport', 'pkts', 'bytes', 'state_number', 'ltime', 'dur',\n",
      "       'mean', 'stddev', 'sum', 'min', 'max', 'spkts', 'dpkts', 'sbytes',\n",
      "       'dbytes', 'rate', 'srate', 'drate', 'TnBPSrcIP', 'TnBPDstIP',\n",
      "       'TnP_PSrcIP', 'TnP_PDstIP', 'TnP_PerProto', 'TnP_Per_Dport',\n",
      "       'AR_P_Proto_P_SrcIP', 'AR_P_Proto_P_DstIP', 'N_IN_Conn_P_DstIP',\n",
      "       'N_IN_Conn_P_SrcIP', 'AR_P_Proto_P_Sport', 'AR_P_Proto_P_Dport',\n",
      "       'Pkts_P_State_P_Protocol_P_DestIP', 'Pkts_P_State_P_Protocol_P_SrcIP',\n",
      "       'category'],\n",
      "      dtype='object')\n"
     ]
    }
   ],
   "source": [
    "if FIRST_RUN:\n",
    "    data.drop(columns=DROP_COLS,inplace=True)\n",
    "    print(data.columns)"
   ]
  },
  {
   "cell_type": "code",
   "execution_count": 5,
   "id": "2a2c690c-86a4-49f7-aa9c-58f94529547d",
   "metadata": {},
   "outputs": [],
   "source": [
    "if FIRST_RUN:\n",
    "    if GRAPH_CONSTRUCTION == 'endpoint':\n",
    "        data[SOURCE_IP_COL_NAME] = data[SOURCE_IP_COL_NAME].apply(str)\n",
    "        data[DESTINATION_IP_COL_NAME] = data[DESTINATION_IP_COL_NAME].apply(str)\n",
    "\n",
    "        # # Combine Port and IP\n",
    "        data[SOURCE_PORT_COL_NAME] = data[SOURCE_PORT_COL_NAME].apply(str)\n",
    "        data[DESTINATION_PORT_COL_NAME] = data[DESTINATION_PORT_COL_NAME].apply(str)\n",
    "\n",
    "        data[SOURCE_IP_COL_NAME] = data[SOURCE_IP_COL_NAME] + ':' + data[SOURCE_PORT_COL_NAME]\n",
    "        data[DESTINATION_IP_COL_NAME] = data[DESTINATION_IP_COL_NAME] + ':' + data[DESTINATION_PORT_COL_NAME]\n",
    "        data.drop(columns=[SOURCE_PORT_COL_NAME,DESTINATION_PORT_COL_NAME],inplace=True)\n",
    "\n",
    "        data = pd.get_dummies(data, columns = CATEGORICAL_COLS) # One Hot Encoding for categorical data\n",
    "        converted_categorical_cols = [col for col in data.columns if col.startswith(tuple(CATEGORICAL_COLS))]\n",
    "\n",
    "    elif GRAPH_CONSTRUCTION == 'host':\n",
    "        data = pd.get_dummies(data, columns = CATEGORICAL_COLS) # One Hot Encoding for categorical data\n",
    "        converted_categorical_cols = [col for col in data.columns if col.startswith(tuple(CATEGORICAL_COLS))]\n",
    "        COLS_TO_NORM = COLS_TO_NORM + [SOURCE_PORT_COL_NAME, DESTINATION_PORT_COL_NAME]\n",
    "    else:\n",
    "        raise ValueError(\"Invalid GRAPH_CONSTRUCTION value. Use 'host' or 'endpoint'.\")\n",
    "    "
   ]
  },
  {
   "cell_type": "code",
   "execution_count": 6,
   "id": "e2d96115-31f9-48cb-b3e6-7853d2d253cf",
   "metadata": {},
   "outputs": [],
   "source": [
    "if FIRST_RUN:\n",
    "    # Clean NaN values\n",
    "    data.reset_index(drop=True, inplace=True)\n",
    "    data.replace([np.inf, -np.inf], np.nan,inplace = True)\n",
    "    data.fillna(0,inplace = True)"
   ]
  },
  {
   "cell_type": "code",
   "execution_count": 7,
   "id": "9ea95177",
   "metadata": {},
   "outputs": [
    {
     "name": "stdout",
     "output_type": "stream",
     "text": [
      "               pkts         bytes           dur          mean        stddev  \\\n",
      "count  3.668522e+06  3.668522e+06  3.668522e+06  3.668522e+06  3.668522e+06   \n",
      "mean   7.725963e+00  8.690501e+02  2.033479e+01  2.231063e+00  8.871499e-01   \n",
      "std    1.155876e+02  1.122667e+05  2.148764e+01  1.517728e+00  8.037139e-01   \n",
      "min    1.000000e+00  6.000000e+01  0.000000e+00  0.000000e+00  0.000000e+00   \n",
      "25%    5.000000e+00  4.200000e+02  1.256256e+01  1.819670e-01  3.001900e-02   \n",
      "50%    7.000000e+00  6.000000e+02  1.550852e+01  2.690125e+00  7.938960e-01   \n",
      "75%    9.000000e+00  7.700000e+02  2.709986e+01  3.565203e+00  1.745296e+00   \n",
      "max    7.005700e+04  7.183334e+07  2.771485e+03  4.981882e+00  2.496763e+00   \n",
      "\n",
      "                sum           min           max         spkts         dpkts  \\\n",
      "count  3.668522e+06  3.668522e+06  3.668522e+06  3.668522e+06  3.668522e+06   \n",
      "mean   7.721635e+00  1.017540e+00  3.020015e+00  7.314146e+00  4.118173e-01   \n",
      "std    7.616199e+00  1.483688e+00  1.860877e+00  7.725836e+01  4.965001e+01   \n",
      "min    0.000000e+00  0.000000e+00  0.000000e+00  1.000000e+00  0.000000e+00   \n",
      "25%    3.445982e-01  0.000000e+00  2.806072e-01  5.000000e+00  0.000000e+00   \n",
      "50%    8.269959e+00  0.000000e+00  4.009111e+00  6.000000e+00  0.000000e+00   \n",
      "75%    1.171040e+01  2.151138e+00  4.293582e+00  8.000000e+00  0.000000e+00   \n",
      "max    1.913194e+03  4.980471e+00  4.999999e+00  3.502900e+04  3.502900e+04   \n",
      "\n",
      "       ...  TnP_PerProto  TnP_Per_Dport  AR_P_Proto_P_SrcIP  \\\n",
      "count  ...  3.668522e+06   3.668522e+06        3.668522e+06   \n",
      "mean   ...  7.535659e+02   7.369070e+02        3.327439e+02   \n",
      "std    ...  1.434385e+03   6.527134e+02        8.466031e+03   \n",
      "min    ...  1.000000e+00   1.000000e+00        0.000000e+00   \n",
      "25%    ...  5.020000e+02   5.000000e+02        2.359950e-01   \n",
      "50%    ...  7.000000e+02   7.000000e+02        3.900890e-01   \n",
      "75%    ...  9.240000e+02   9.200000e+02        5.725580e-01   \n",
      "max    ...  2.283730e+05   2.444250e+05        2.714290e+06   \n",
      "\n",
      "       AR_P_Proto_P_DstIP  N_IN_Conn_P_DstIP  N_IN_Conn_P_SrcIP  \\\n",
      "count        3.668522e+06       3.668522e+06       3.668522e+06   \n",
      "mean         2.851832e+02       9.245168e+01       8.253848e+01   \n",
      "std          4.096943e+03       1.817643e+01       2.439739e+01   \n",
      "min          0.000000e+00       1.000000e+00       1.000000e+00   \n",
      "25%          2.436680e-01       1.000000e+02       6.900000e+01   \n",
      "50%          3.986290e-01       1.000000e+02       1.000000e+02   \n",
      "75%          5.796390e-01       1.000000e+02       1.000000e+02   \n",
      "max          1.000000e+06       1.000000e+02       1.000000e+02   \n",
      "\n",
      "       AR_P_Proto_P_Sport  AR_P_Proto_P_Dport  \\\n",
      "count        3.668522e+06        3.668522e+06   \n",
      "mean         4.564945e+02        5.385196e+02   \n",
      "std          1.432917e+04        1.569824e+04   \n",
      "min          0.000000e+00        0.000000e+00   \n",
      "25%          2.314810e-01        2.457730e-01   \n",
      "50%          3.785910e-01        3.943060e-01   \n",
      "75%          5.725550e-01        5.769710e-01   \n",
      "max          3.000000e+06        2.000000e+06   \n",
      "\n",
      "       Pkts_P_State_P_Protocol_P_DestIP  Pkts_P_State_P_Protocol_P_SrcIP  \n",
      "count                      3.668522e+06                     3.668522e+06  \n",
      "mean                       6.422897e+02                     5.859984e+02  \n",
      "std                        4.533432e+02                     4.332619e+02  \n",
      "min                        1.000000e+00                     1.000000e+00  \n",
      "25%                        3.240000e+02                     2.940000e+02  \n",
      "50%                        6.000000e+02                     5.000000e+02  \n",
      "75%                        8.280000e+02                     8.000000e+02  \n",
      "max                        1.125440e+05                     1.179390e+05  \n",
      "\n",
      "[8 rows x 29 columns]\n",
      "\n",
      "✅ All other columns processed successfully.\n",
      "Data after normalization:\n"
     ]
    }
   ],
   "source": [
    "if not LOAD_SAVED:\n",
    "    # Normalize numerical columns\n",
    "    scaler = StandardScaler()\n",
    "    print(data[COLS_TO_NORM].describe()) # Check if there's any too large value\n",
    "\n",
    "    # Check for numeric issues in the columns before normalization\n",
    "    def check_numeric_issues(df, cols_to_norm):\n",
    "        for col in cols_to_norm:\n",
    "            try:\n",
    "                # Try to coerce to numeric\n",
    "                df[col] = pd.to_numeric(df[col], errors='coerce')\n",
    "                \n",
    "            except Exception as e:\n",
    "                print(f\"❌ Column '{col}' failed with error: {e}\")\n",
    "                print(f\"  - Sample values: {df[col].dropna().unique()[:5]}\")\n",
    "                print(f\"  - Data type: {df[col].dtype}\")\n",
    "                continue\n",
    "\n",
    "        print(\"\\n✅ All other columns processed successfully.\")\n",
    "\n",
    "    check_numeric_issues(data, COLS_TO_NORM)\n",
    "\n",
    "    data[COLS_TO_NORM] = scaler.fit_transform(data[COLS_TO_NORM])\n",
    "\n",
    "    # Save the scaler for future use\n",
    "    scaler_path = os.path.join(save_path, \"scaler.pkl\")\n",
    "    joblib.dump(scaler, scaler_path)\n",
    "    print(\"Data after normalization:\")"
   ]
  },
  {
   "cell_type": "code",
   "execution_count": 8,
   "id": "c4382030",
   "metadata": {},
   "outputs": [],
   "source": [
    "if LOAD_SAVED:\n",
    "    # load scaler\n",
    "    scaler_path = os.path.join(save_path, \"scaler.pkl\")\n",
    "    scaler = joblib.load(scaler_path)"
   ]
  },
  {
   "cell_type": "code",
   "execution_count": 9,
   "id": "61c6e17f",
   "metadata": {},
   "outputs": [
    {
     "name": "stdout",
     "output_type": "stream",
     "text": [
      "['DDoS' 'DoS' 'Normal' 'Reconnaissance' 'Theft']\n",
      "Attack label mapping: {'DDoS': 0, 'DoS': 1, 'Normal': 2, 'Reconnaissance': 3, 'Theft': 4}\n"
     ]
    }
   ],
   "source": [
    "if FIRST_RUN:\n",
    "    num_classes = 2\n",
    "    class_map = [0, 1]\n",
    "    if MULTICLASS:\n",
    "        le = LabelEncoder()\n",
    "        attack_labels = le.fit_transform(data[ATTACK_CLASS_COL_NAME])\n",
    "        class_map = le.classes_\n",
    "        print(class_map)\n",
    "        print(\"Attack label mapping:\", dict(zip(class_map, range(len(class_map)))))\n",
    "        data[ATTACK_CLASS_COL_NAME] = attack_labels\n",
    "        num_classes = len(class_map)\n",
    "        class_dict = {le.inverse_transform([i])[0]: i for i in range(len(le.classes_))}\n",
    "\n",
    "    class_map_path = os.path.join(save_path, \"class_map.pkl\")\n",
    "    labeller_path = os.path.join(save_path, \"labeller.pkl\")\n",
    "\n",
    "    joblib.dump(le, labeller_path)\n",
    "    joblib.dump(class_map, class_map_path)\n",
    "\n",
    "    BENIGN_CLASS_LABEL = le.transform([BENIGN_CLASS_NAME])[0] if MULTICLASS else 0\n",
    "    ADVERSARIAL_CLASS_LABEL = len(class_map)"
   ]
  },
  {
   "cell_type": "code",
   "execution_count": 10,
   "id": "f75c715e",
   "metadata": {},
   "outputs": [],
   "source": [
    "if LOAD_SAVED:\n",
    "    # Save the class map BENIGN_CLASS_LABEL, ADVERSARIAL_CLASS_LABEL\n",
    "    class_map_path = os.path.join(save_path, \"class_map.pkl\")\n",
    "    labeller_path = os.path.join(save_path, \"labeller.pkl\")\n",
    "\n",
    "    class_map = joblib.load(class_map_path)\n",
    "    le = joblib.load(labeller_path)\n",
    "\n",
    "    BENIGN_CLASS_LABEL = le.transform([BENIGN_CLASS_NAME])[0] if MULTICLASS else 0\n",
    "    ADVERSARIAL_CLASS_LABEL = len(class_map)"
   ]
  },
  {
   "cell_type": "code",
   "execution_count": 11,
   "id": "d35f4cdd-2716-431f-af50-b34cc3d2d535",
   "metadata": {},
   "outputs": [
    {
     "name": "stdout",
     "output_type": "stream",
     "text": [
      "Feature Columns: ['pkts', 'bytes', 'dur', 'mean', 'stddev', 'sum', 'min', 'max', 'spkts', 'dpkts', 'sbytes', 'dbytes', 'rate', 'srate', 'drate', 'TnBPSrcIP', 'TnBPDstIP', 'TnP_PSrcIP', 'TnP_PDstIP', 'TnP_PerProto', 'TnP_Per_Dport', 'AR_P_Proto_P_SrcIP', 'AR_P_Proto_P_DstIP', 'N_IN_Conn_P_DstIP', 'N_IN_Conn_P_SrcIP', 'AR_P_Proto_P_Sport', 'AR_P_Proto_P_Dport', 'Pkts_P_State_P_Protocol_P_DestIP', 'Pkts_P_State_P_Protocol_P_SrcIP', 'flgs_number_1', 'flgs_number_2', 'flgs_number_3', 'flgs_number_4', 'flgs_number_5', 'flgs_number_6', 'flgs_number_7', 'flgs_number_8', 'flgs_number_9', 'state_number_1', 'state_number_2', 'state_number_3', 'state_number_4', 'state_number_5', 'state_number_6', 'state_number_7', 'state_number_8', 'state_number_9', 'state_number_10', 'state_number_11', 'proto_number_1', 'proto_number_2', 'proto_number_3', 'proto_number_4', 'proto_number_5']\n",
      "Number of Features: 54\n",
      "   pkSeqID         stime                saddr                daddr  \\\n",
      "0  3576925  1.526344e+09     192.168.100.3:80  192.168.100.55:8080   \n",
      "1  3576926  1.526344e+09  192.168.100.46:3456     192.168.100.5:80   \n",
      "2  3576919  1.526344e+09    192.168.100.46:80     192.168.100.5:80   \n",
      "3  3576920  1.526344e+09    192.168.100.46:80     192.168.100.5:80   \n",
      "4  3576922  1.526344e+09    192.168.100.7:365    192.168.100.3:565   \n",
      "\n",
      "         pkts       bytes         ltime        dur      mean    stddev  ...  \\\n",
      "0  514.287519  542.313009  1.526346e+09  77.503750  1.790079 -0.819516  ...   \n",
      "1  514.278867  526.543278  1.526346e+09  77.503750  1.789861 -0.815632  ...   \n",
      "2  257.106013  254.240221  1.526346e+09  77.503750  1.789697 -0.815753  ...   \n",
      "3  260.834786  257.403476  1.526346e+09  77.503750  1.789704 -0.815673  ...   \n",
      "4  141.176650    8.717557  1.526346e+09  77.516146  1.754480 -0.815219  ...   \n",
      "\n",
      "   state_number_8  state_number_9  state_number_10  state_number_11  \\\n",
      "0           False           False            False            False   \n",
      "1           False           False            False            False   \n",
      "2           False           False            False            False   \n",
      "3           False           False            False            False   \n",
      "4           False           False            False            False   \n",
      "\n",
      "   proto_number_1  proto_number_2  proto_number_3  proto_number_4  \\\n",
      "0            True           False           False           False   \n",
      "1           False           False            True           False   \n",
      "2           False           False            True           False   \n",
      "3            True           False           False           False   \n",
      "4           False           False            True           False   \n",
      "\n",
      "   proto_number_5                                                  h  \n",
      "0           False  [514.287518890639, 542.3130091791619, 77.50374...  \n",
      "1           False  [514.2788674456382, 526.5432775870196, 77.5037...  \n",
      "2           False  [257.1060133499324, 254.2402212791131, 77.5037...  \n",
      "3           False  [260.8347861453051, 257.4034757933678, 77.5037...  \n",
      "4           False  [141.17665033834467, 8.717556952576851, 77.516...  \n",
      "\n",
      "[5 rows x 61 columns]\n"
     ]
    }
   ],
   "source": [
    "if not LOAD_SAVED:\n",
    "    # Maintain the order of the rows in the original dataframe\n",
    "    feature_cols = COLS_TO_NORM + converted_categorical_cols\n",
    "\n",
    "    print('Feature Columns:', feature_cols)\n",
    "    num_features = len(feature_cols)\n",
    "    print('Number of Features:', num_features)\n",
    "\n",
    "    data['h'] = data[ feature_cols ].values.tolist()\n",
    "    print(data.head(5))"
   ]
  },
  {
   "cell_type": "code",
   "execution_count": 12,
   "id": "743e7faa",
   "metadata": {},
   "outputs": [],
   "source": [
    "def create_graph(df):\n",
    "\n",
    "    G_nx = nx.from_pandas_edgelist(df, SOURCE_IP_COL_NAME, DESTINATION_IP_COL_NAME, ['h', label_col], create_using=nx.MultiDiGraph())\n",
    "    \n",
    "    G_pyg = from_networkx(G_nx)\n",
    "\n",
    "    num_nodes = G_pyg.num_nodes\n",
    "    num_edges = G_pyg.num_edges\n",
    "\n",
    "    assert num_edges == G_nx.number_of_edges(), \"Number of edges in PyG graph does not match NetworkX graph.\"\n",
    "\n",
    "    G_pyg.x = th.ones(num_nodes, len(df['h'].iloc[0])) \n",
    "\n",
    "    edge_attr_list = []\n",
    "    edge_label_list = []\n",
    "\n",
    "    for u, v, key, data in G_nx.edges(keys=True, data=True):\n",
    "        edge_attr_list.append(data['h']) \n",
    "        edge_label_list.append(data[label_col]) \n",
    "\n",
    "    G_pyg.edge_attr = th.tensor(edge_attr_list, dtype=th.float32)\n",
    "    G_pyg.edge_label = th.tensor(edge_label_list, dtype=th.long)\n",
    "\n",
    "    return G_pyg"
   ]
  },
  {
   "cell_type": "code",
   "execution_count": 13,
   "id": "4e650028",
   "metadata": {},
   "outputs": [],
   "source": [
    "from collections import defaultdict\n",
    "from typing import Counter\n",
    "from sklearn.preprocessing import MultiLabelBinarizer\n",
    "\n",
    "from tqdm import tqdm\n",
    "\n",
    "class StratifiedGraphDataset:\n",
    "\n",
    "    def __init__(self, X, y):\n",
    "        self.X = X\n",
    "        self.y = y\n",
    "        self.total_count = len(self.y)\n",
    "\n",
    "        # Compute class weights\n",
    "        labels = []\n",
    "\n",
    "        for graph in self.X:\n",
    "            labels.append(graph.edge_label.tolist())\n",
    "\n",
    "        labels = np.concatenate(labels)\n",
    "\n",
    "        self.class_counts = Counter(labels)\n",
    "\n",
    "        # Compute the class weights\n",
    "        self.class_weights = class_weight.compute_class_weight(\n",
    "            class_weight='balanced',\n",
    "            classes=np.unique(labels),\n",
    "            y=labels\n",
    "        )\n",
    "\n",
    "    def k_fold_split(self, k: int = 5, test_ratio: float = 0.15, random_state: int = 42):\n",
    "        cv = MultilabelStratifiedShuffleSplit(test_size=test_ratio, random_state=random_state, n_splits=k)\n",
    "\n",
    "        mlb = MultiLabelBinarizer()\n",
    "\n",
    "        y_binary = mlb.fit_transform(self.y)\n",
    "\n",
    "        return cv.split(np.zeros(len(self.X)), y_binary)\n",
    "\n",
    "    def graph_train_test_split(self, test_ratio: float = 0.15, random_state: int = 42):\n",
    "        train_idx, test_idx = next(self.k_fold_split(k = 1, test_ratio = test_ratio, random_state = random_state))\n",
    "        \n",
    "        X_train = [self.X[i] for i in train_idx]\n",
    "        X_test = [self.X[i] for i in test_idx]\n",
    "\n",
    "        y_train = [self.y[i] for i in train_idx]\n",
    "        y_test = [self.y[i] for i in test_idx]\n",
    "\n",
    "        return StratifiedGraphDataset(X_train, y_train), StratifiedGraphDataset(X_test, y_test)\n",
    "    \n",
    "    def print_class_distribution_and_weights(self):\n",
    "        # Use the label encoder to inverse transform the class labels\n",
    "        class_counts_named = {cls: count for cls, count in self.class_counts.items()}\n",
    "        class_weights_named = {cls: weight for cls, weight in enumerate(self.class_weights)}\n",
    "        print(\"Class Counts and Weights:\")\n",
    "        for cls_label in class_counts_named.keys():\n",
    "            count = class_counts_named[cls_label]\n",
    "            weight = class_weights_named[cls_label]\n",
    "            print(f\"{cls_label:<2}  {le.inverse_transform([cls_label])[0]:<15}: Count = {count:<10}, Weight = {weight:<10.4f}\")\n",
    "    \n",
    "    def __len__(self):\n",
    "        return self.total_count\n",
    "\n",
    "    def __iter__(self):\n",
    "        for g in self.X:\n",
    "            yield g\n",
    "            \n",
    "    def __getitem__(self, idx):\n",
    "        if isinstance(idx, int):\n",
    "            return self.X[idx], self.y[idx]\n",
    "        elif isinstance(idx, slice):\n",
    "            return [self.X[i] for i in range(len(self.X))][idx], [self.y[i] for i in range(len(self.y))][idx]\n",
    "        else:\n",
    "            raise TypeError(\"Index must be an integer or a slice.\")"
   ]
  },
  {
   "cell_type": "code",
   "execution_count": 14,
   "id": "8988bb4f",
   "metadata": {},
   "outputs": [],
   "source": [
    "if FIRST_RUN:\n",
    "    def generate_graph_datasets(\n",
    "        df: pd.DataFrame, \n",
    "        window_size: int = WINDOW_SIZE, \n",
    "        feature_cols=feature_cols,\n",
    "        ordering_cols= TIME_COLS, \n",
    "        label_col=label_col,\n",
    "        build_graph_func=create_graph,\n",
    "        ):\n",
    "\n",
    "        print(\"All Columns: \", df.columns)\n",
    "        print(\"Ordering Columns: \", ordering_cols)\n",
    "        assert all(col in df.columns for col in ordering_cols), \"All timestamp columns are required\"\n",
    "        assert label_col in df.columns, \"Edge label column 'label' is required\"\n",
    "        \n",
    "        df = df.sort_values(ordering_cols).reset_index(drop=True)\n",
    "        window_size = int(window_size)\n",
    "        \n",
    "        df.drop(columns=set(df.columns) - set(feature_cols) - set(label_col))\n",
    "\n",
    "        print(\"Final Columns: \", df.columns)\n",
    "        \n",
    "        label_counts_list = []\n",
    "        X = []\n",
    "        y = []\n",
    "\n",
    "        progress_bar = tqdm(range(0, len(df), window_size), desc=f\"Generating graphs\")\n",
    "        for start in progress_bar:\n",
    "            window_df = df[start: min(start + window_size, len(df))]\n",
    "            contains_label = window_df[label_col].unique()\n",
    "\n",
    "            G_pyg = build_graph_func(window_df)\n",
    "\n",
    "            label_counts = window_df[label_col].value_counts()\n",
    "\n",
    "            label_counts_list.append(label_counts)\n",
    "            X.append(G_pyg)\n",
    "            y.append(contains_label.tolist())\n",
    "\n",
    "        return StratifiedGraphDataset(X, y)"
   ]
  },
  {
   "cell_type": "code",
   "execution_count": 15,
   "id": "491e7421",
   "metadata": {},
   "outputs": [
    {
     "name": "stdout",
     "output_type": "stream",
     "text": [
      "All Columns:  Index(['pkSeqID', 'stime', 'saddr', 'daddr', 'pkts', 'bytes', 'ltime', 'dur',\n",
      "       'mean', 'stddev', 'sum', 'min', 'max', 'spkts', 'dpkts', 'sbytes',\n",
      "       'dbytes', 'rate', 'srate', 'drate', 'TnBPSrcIP', 'TnBPDstIP',\n",
      "       'TnP_PSrcIP', 'TnP_PDstIP', 'TnP_PerProto', 'TnP_Per_Dport',\n",
      "       'AR_P_Proto_P_SrcIP', 'AR_P_Proto_P_DstIP', 'N_IN_Conn_P_DstIP',\n",
      "       'N_IN_Conn_P_SrcIP', 'AR_P_Proto_P_Sport', 'AR_P_Proto_P_Dport',\n",
      "       'Pkts_P_State_P_Protocol_P_DestIP', 'Pkts_P_State_P_Protocol_P_SrcIP',\n",
      "       'category', 'flgs_number_1', 'flgs_number_2', 'flgs_number_3',\n",
      "       'flgs_number_4', 'flgs_number_5', 'flgs_number_6', 'flgs_number_7',\n",
      "       'flgs_number_8', 'flgs_number_9', 'state_number_1', 'state_number_2',\n",
      "       'state_number_3', 'state_number_4', 'state_number_5', 'state_number_6',\n",
      "       'state_number_7', 'state_number_8', 'state_number_9', 'state_number_10',\n",
      "       'state_number_11', 'proto_number_1', 'proto_number_2', 'proto_number_3',\n",
      "       'proto_number_4', 'proto_number_5', 'h'],\n",
      "      dtype='object')\n",
      "Ordering Columns:  ['stime', 'ltime']\n",
      "Final Columns:  Index(['pkSeqID', 'stime', 'saddr', 'daddr', 'pkts', 'bytes', 'ltime', 'dur',\n",
      "       'mean', 'stddev', 'sum', 'min', 'max', 'spkts', 'dpkts', 'sbytes',\n",
      "       'dbytes', 'rate', 'srate', 'drate', 'TnBPSrcIP', 'TnBPDstIP',\n",
      "       'TnP_PSrcIP', 'TnP_PDstIP', 'TnP_PerProto', 'TnP_Per_Dport',\n",
      "       'AR_P_Proto_P_SrcIP', 'AR_P_Proto_P_DstIP', 'N_IN_Conn_P_DstIP',\n",
      "       'N_IN_Conn_P_SrcIP', 'AR_P_Proto_P_Sport', 'AR_P_Proto_P_Dport',\n",
      "       'Pkts_P_State_P_Protocol_P_DestIP', 'Pkts_P_State_P_Protocol_P_SrcIP',\n",
      "       'category', 'flgs_number_1', 'flgs_number_2', 'flgs_number_3',\n",
      "       'flgs_number_4', 'flgs_number_5', 'flgs_number_6', 'flgs_number_7',\n",
      "       'flgs_number_8', 'flgs_number_9', 'state_number_1', 'state_number_2',\n",
      "       'state_number_3', 'state_number_4', 'state_number_5', 'state_number_6',\n",
      "       'state_number_7', 'state_number_8', 'state_number_9', 'state_number_10',\n",
      "       'state_number_11', 'proto_number_1', 'proto_number_2', 'proto_number_3',\n",
      "       'proto_number_4', 'proto_number_5', 'h'],\n",
      "      dtype='object')\n"
     ]
    },
    {
     "name": "stderr",
     "output_type": "stream",
     "text": [
      "Generating graphs: 100%|██████████| 3669/3669 [03:00<00:00, 20.36it/s]\n"
     ]
    }
   ],
   "source": [
    "test_graph_dataset_path = os.path.join(save_path, \"test_graph_dataset.pth\")\n",
    "if FIRST_RUN:\n",
    "    graph_dataset = generate_graph_datasets(data)\n",
    "    full_train_graph_dataset, test_graph_dataset = graph_dataset.graph_train_test_split(test_ratio=0.15, random_state=42)\n",
    "    th.save(test_graph_dataset, test_graph_dataset_path)\n",
    "\n",
    "if LOAD_SAVED:\n",
    "    # Save or Load test_graph_dataset\n",
    "    if os.path.exists(test_graph_dataset_path):  \n",
    "        test_graph_dataset = th.load(test_graph_dataset_path, weights_only=False)\n",
    "    else:       \n",
    "        raise FileNotFoundError(f\"File {test_graph_dataset_path} does not exist. Please run the code to generate the dataset first.\")\n",
    "    "
   ]
  },
  {
   "cell_type": "code",
   "execution_count": 16,
   "id": "365fd330",
   "metadata": {},
   "outputs": [
    {
     "name": "stdout",
     "output_type": "stream",
     "text": [
      "Class Distrubution: category\n",
      "0    1926624\n",
      "1    1650260\n",
      "3      91082\n",
      "2        477\n",
      "4         79\n",
      "Name: count, dtype: int64\n",
      "Number of graphs after downsampling: 3669\n",
      "Class Counts and Weights:\n",
      "2   Normal         : Count = 477       , Weight = 1538.1644 \n",
      "3   Reconnaissance : Count = 91082     , Weight = 8.0554    \n",
      "1   DoS            : Count = 1650260   , Weight = 0.4446    \n",
      "0   DDoS           : Count = 1926624   , Weight = 0.3808    \n",
      "4   Theft          : Count = 79        , Weight = 9287.3975 \n",
      "Number of training graphs: 3117\n",
      "Class Counts and Weights:\n",
      "2   Normal         : Count = 409       , Weight = 1523.9716 \n",
      "3   Reconnaissance : Count = 77150     , Weight = 8.0791    \n",
      "1   DoS            : Count = 1402260   , Weight = 0.4445    \n",
      "0   DDoS           : Count = 1636624   , Weight = 0.3808    \n",
      "4   Theft          : Count = 79        , Weight = 7889.9291 \n",
      "Number of testing graphs: 552\n",
      "Class Counts and Weights:\n",
      "3   Reconnaissance : Count = 13932     , Weight = 9.9053    \n",
      "2   Normal         : Count = 68        , Weight = 2029.4118 \n",
      "1   DoS            : Count = 248000    , Weight = 0.5565    \n",
      "0   DDoS           : Count = 290000    , Weight = 0.4759    \n"
     ]
    }
   ],
   "source": [
    "if FIRST_RUN:\n",
    "    print(\"Class Distrubution:\", data[label_col].value_counts())\n",
    "\n",
    "    print(\"Number of graphs after downsampling:\", len(graph_dataset))\n",
    "    graph_dataset.print_class_distribution_and_weights()\n",
    "\n",
    "    print(\"Number of training graphs:\", len(full_train_graph_dataset))\n",
    "    full_train_graph_dataset.print_class_distribution_and_weights()\n",
    "\n",
    "    print(\"Number of testing graphs:\", len(test_graph_dataset))\n",
    "    test_graph_dataset.print_class_distribution_and_weights()"
   ]
  },
  {
   "cell_type": "code",
   "execution_count": 17,
   "id": "41795339-6036-468f-9b9d-2bb68d78ed7d",
   "metadata": {},
   "outputs": [],
   "source": [
    "class SAGELayerPyG(MessagePassing):\n",
    "    def __init__(self, in_channels, edge_dim, out_channels, activation=F.relu):\n",
    "        super().__init__(aggr='mean')  # mean aggregation\n",
    "        self.W_apply = nn.Linear(in_channels + edge_dim, out_channels)\n",
    "        self.activation = activation\n",
    "\n",
    "    def forward(self, x, edge_index, edge_attr):\n",
    "        # x: [num_nodes, in_channels]\n",
    "        # edge_attr: [num_edges, edge_dim]\n",
    "        return self.propagate(edge_index, x=x, edge_attr=edge_attr, size=(x.size(0), x.size(0)))\n",
    "\n",
    "    def message(self, edge_attr):\n",
    "        return edge_attr\n",
    "\n",
    "    def update(self, aggr_out, x):\n",
    "        # aggr_out: [num_nodes, out_channels]\n",
    "        combined = th.cat([x, aggr_out], dim=1)\n",
    "        out = self.W_apply(combined)\n",
    "        return self.activation(out)\n",
    "    \n",
    "class MLPPredictor(nn.Module):\n",
    "    def __init__(self, in_channels, out_channels):\n",
    "        super(MLPPredictor, self).__init__()\n",
    "        self.lin = nn.Linear(in_channels * 2, out_channels)\n",
    "\n",
    "    def forward(self, data, z):\n",
    "        row, col = data.edge_index\n",
    "        # Concatenate the features of source and target nodes for each edge\n",
    "        edge_feat = th.cat([z[row], z[col]], dim=1)\n",
    "        return self.lin(edge_feat)\n",
    "\n",
    "class EGraphSAGE(nn.Module):\n",
    "    def __init__(self, node_in_channels, edge_in_channels, hidden_channels, out_channels, dropout=0.2):\n",
    "        super(EGraphSAGE, self).__init__()\n",
    "        self.dropout = dropout\n",
    "        self.conv1 = SAGELayerPyG(node_in_channels, edge_in_channels, hidden_channels)\n",
    "        self.conv2 = SAGELayerPyG(hidden_channels, edge_in_channels, hidden_channels)\n",
    "        self.mlp_predictor = MLPPredictor(hidden_channels, out_channels)\n",
    "\n",
    "    def forward(self, data):\n",
    "        x, edge_index, edge_attr = data.x, data.edge_index, data.edge_attr\n",
    "        x = F.relu(self.conv1(x, edge_index, edge_attr))\n",
    "        x = F.dropout(x, p=self.dropout, training=self.training)\n",
    "        x = self.conv2(x, edge_index, edge_attr)\n",
    "        return self.mlp_predictor(data, x)"
   ]
  },
  {
   "cell_type": "code",
   "execution_count": 18,
   "id": "bca25fef-29d9-40cf-8910-16b24d530693",
   "metadata": {},
   "outputs": [
    {
     "name": "stdout",
     "output_type": "stream",
     "text": [
      "cuda:0\n"
     ]
    }
   ],
   "source": [
    "device = th.device(\"cuda:0\" if th.cuda.is_available() else \"cpu\")\n",
    "print(device)"
   ]
  },
  {
   "cell_type": "code",
   "execution_count": 19,
   "id": "cccdc850-b98d-4836-b82b-67aa4b9e1e02",
   "metadata": {},
   "outputs": [],
   "source": [
    "th.cuda.empty_cache()"
   ]
  },
  {
   "cell_type": "code",
   "execution_count": 20,
   "id": "89157faf-e24b-49d6-9c90-6f71dae515b2",
   "metadata": {},
   "outputs": [],
   "source": [
    "def init_weights(m):\n",
    "    if isinstance(m, nn.Linear):\n",
    "        nn.init.xavier_uniform_(m.weight)\n",
    "        nn.init.constant_(m.bias, 0)"
   ]
  },
  {
   "cell_type": "code",
   "execution_count": 21,
   "id": "385d37f0-713b-4abc-8d7a-3e768ae9a2b2",
   "metadata": {},
   "outputs": [],
   "source": [
    "from sklearn.metrics import f1_score\n",
    "\n",
    "def compute_accuracy(pred, labels):\n",
    "    return (pred.argmax(1) == labels).float().mean().item()\n"
   ]
  },
  {
   "cell_type": "code",
   "execution_count": 22,
   "id": "a00a2b77",
   "metadata": {},
   "outputs": [],
   "source": [
    "if FIRST_RUN:\n",
    "    def grid_search(graph_dataset, patience, max_epochs, learning_rates, hidden_dims, drop_outs, folds=3):\n",
    "        global num_features\n",
    "        \n",
    "        best_params = {}\n",
    "        best_f1 = 0\n",
    "        params_results = {}\n",
    "\n",
    "        # Precompute the train and validation graphs for all folds\n",
    "        folds_list = []\n",
    "        for i in range(folds):\n",
    "            train_graph_dataset, val_graph_dataset = graph_dataset.graph_train_test_split(test_ratio=0.15, random_state=i)\n",
    "            folds_list.append((train_graph_dataset, val_graph_dataset))\n",
    "\n",
    "        for lr in learning_rates:\n",
    "            for hidden_dim in hidden_dims:\n",
    "                for drop_out in drop_outs:\n",
    "                    print(f\"Testing with learning rate: {lr}, hidden_dim: {hidden_dim}, drop_out: {drop_out}\")\n",
    "                    fold_f1_scores = []\n",
    "\n",
    "                    for fold, (train_graph_dataset, val_graph_dataset) in enumerate(folds_list):\n",
    "                        print(f\"Fold {fold + 1}\")\n",
    "\n",
    "                        model = EGraphSAGE(node_in_channels=num_features,\n",
    "                                        edge_in_channels=num_features,\n",
    "                                        hidden_channels=hidden_dim,\n",
    "                                        dropout = drop_out,\n",
    "                                        out_channels=num_classes).to(device)\n",
    "\n",
    "                        model.apply(init_weights)\n",
    "\n",
    "                        # Normalize to stabilize training\n",
    "                        class_weights = th.FloatTensor(train_graph_dataset.class_weights).to(device)\n",
    "                        print(\"Class weights:\", class_weights)\n",
    "\n",
    "                        criterion = nn.CrossEntropyLoss(weight=class_weights)\n",
    "                        optimizer = th.optim.Adam(model.parameters(), lr=lr)\n",
    "                        scheduler = th.optim.lr_scheduler.ReduceLROnPlateau(\n",
    "                            optimizer,\n",
    "                            mode='min',\n",
    "                            factor=0.6,\n",
    "                            patience=5,\n",
    "                            min_lr=1e-6,\n",
    "                        )\n",
    "\n",
    "                        best_epoch_f1 = 0  # Track the best F1 score for this fold\n",
    "                        best_val_loss = float('inf')  # Track the best val_loss for this fold\n",
    "                        patience_counter = 0\n",
    "\n",
    "                        for epoch in range(max_epochs):\n",
    "                            try:\n",
    "                                train_loss = 0\n",
    "                                val_loss = 0\n",
    "                                num_train_graphs = len(train_graph_dataset)\n",
    "                                num_val_graphs = len(val_graph_dataset)\n",
    "\n",
    "                                model.train()\n",
    "                                optimizer.zero_grad()\n",
    "                                for G_pyg_train in tqdm(train_graph_dataset, desc=\"Training\", leave=False):\n",
    "\n",
    "                                    G_pyg_train = G_pyg_train.to(device)\n",
    "                                    G_pyg_train.edge_label = G_pyg_train.edge_label.to(device)\n",
    "                                    G_pyg_train.edge_attr = G_pyg_train.edge_attr.to(device)\n",
    "                                    \n",
    "                                    out = model(G_pyg_train)\n",
    "                                    loss = criterion(out, G_pyg_train.edge_label) / num_train_graphs\n",
    "                                    train_loss += loss.item()\n",
    "\n",
    "                                    loss.backward()\n",
    "\n",
    "                                optimizer.step()\n",
    "                                \n",
    "\n",
    "                                test_label_list = []\n",
    "                                pred_label_list = []\n",
    "\n",
    "                                model.eval()\n",
    "                                with th.no_grad():\n",
    "                                    for G_pyg_val in tqdm(val_graph_dataset, desc=\"Validation\", leave=False):\n",
    "\n",
    "                                        G_pyg_val = G_pyg_val.to(device)\n",
    "                                        G_pyg_val.edge_label = G_pyg_val.edge_label.to(device)\n",
    "                                        G_pyg_val.edge_attr = G_pyg_val.edge_attr.to(device)\n",
    "\n",
    "                                        out = model(G_pyg_val)\n",
    "                                        loss = criterion(out, G_pyg_val.edge_label) / num_val_graphs\n",
    "                                        val_loss += loss.item()\n",
    "\n",
    "                                        test_label_list.append(G_pyg_val.edge_label.cpu())\n",
    "                                        pred_label_list.append(out.argmax(dim=1).cpu())\n",
    "\n",
    "                                test_label = th.cat(test_label_list)\n",
    "                                pred_label = th.cat(pred_label_list)\n",
    "\n",
    "                                val_f1 = f1_score(test_label, pred_label, average='weighted')\n",
    "                                val_f1_micro = f1_score(test_label, pred_label, average='micro')\n",
    "                                val_f1_macro = f1_score(test_label, pred_label, average='macro')\n",
    "\n",
    "                                # Schedule step\n",
    "                                scheduler.step(val_loss)\n",
    "\n",
    "                                if val_f1 > best_epoch_f1:\n",
    "                                    best_epoch_f1 = val_f1\n",
    "                                    print(f\"Epoch {epoch}/{max_epochs}, Train Loss: {train_loss:.4f}, Val Loss: {val_loss:.4f}, \"\n",
    "                                    f\"Val F1 (weighted): {val_f1:.4f}, Micro: {val_f1_micro:.4f}, Macro: {val_f1_macro:.4f} \"\n",
    "                                    f\"(Best Weighted F1 so far: {best_epoch_f1:.4f})\")\n",
    "\n",
    "                                # Early stopping condition\n",
    "                                if val_loss < best_val_loss:\n",
    "                                    best_val_loss = val_loss\n",
    "                                    patience_counter = 0\n",
    "                                else:\n",
    "                                    patience_counter += 1\n",
    "\n",
    "                                if patience_counter >= patience:\n",
    "                                    print(f\"\\n🛑 Early stopping triggered at epoch {epoch}.\")\n",
    "                                    break\n",
    "\n",
    "                            except Exception as e:\n",
    "                                print(f\"An error occurred at epoch {epoch}: {str(e)}\")\n",
    "                                break\n",
    "\n",
    "                        fold_f1_scores.append(best_epoch_f1)  # Append the best F1 score for this fold\n",
    "                    \n",
    "                    avg_f1 = sum(fold_f1_scores) / len(fold_f1_scores)\n",
    "                    params_results[(drop_out, lr, hidden_dim)] = {'folds': fold_f1_scores, 'avg_f1': avg_f1}\n",
    "                    print(f\"Average F1 Score for drop_out {drop_out}, learning rate {lr}, hidden_dim {hidden_dim}: {avg_f1:.4f}\")\n",
    "\n",
    "                    if avg_f1 > best_f1:\n",
    "                        best_f1 = avg_f1\n",
    "                        best_params = {'learning_rate': lr, 'hidden_dim': hidden_dim, 'drop_out': drop_out}\n",
    "\n",
    "        print(f\"Best Parameters: {best_params}, Best F1 Score: {best_f1:.4f}\")\n",
    "        print(\"All results:\", params_results)\n",
    "\n",
    "    # grid_search(\n",
    "    #     full_train_graph_dataset, \n",
    "    #     patience=10,\n",
    "    #     max_epochs=200,\n",
    "    #     learning_rates=[0.001, 0.005, 0.01, 0.05], \n",
    "    #     hidden_dims=[128, 256, 512], \n",
    "    #     drop_outs=[0.2, 0.3, 0.4],\n",
    "    #     folds=3)\n"
   ]
  },
  {
   "cell_type": "code",
   "execution_count": 23,
   "id": "b158d936",
   "metadata": {},
   "outputs": [],
   "source": [
    "if FIRST_RUN:\n",
    "    train_graph_dataset, val_graph_dataset = full_train_graph_dataset.graph_train_test_split(test_ratio=0.15, random_state=42)"
   ]
  },
  {
   "cell_type": "code",
   "execution_count": 24,
   "id": "c6ec4a82",
   "metadata": {},
   "outputs": [],
   "source": [
    "def save_checkpoint():\n",
    "    global epoch, model, optimizer, scheduler, train_loss_history, val_loss_history, val_f1_history, saved_model_epochs, best_f1, patience_counter, best_val_loss, train_ended, max_epochs, patience\n",
    "    \n",
    "    checkpoint = {\n",
    "        'epoch': epoch,\n",
    "        'model_state_dict': model.state_dict(),\n",
    "        'optimizer_state_dict': optimizer.state_dict(),\n",
    "        'scheduler_state_dict': scheduler.state_dict(),\n",
    "        'train_loss_history': train_loss_history,\n",
    "        'val_loss_history': val_loss_history,\n",
    "        'val_f1_history': val_f1_history,\n",
    "        'saved_model_epochs': saved_model_epochs,\n",
    "        'best_f1': best_f1,\n",
    "        # 'patience_counter': patience_counter,\n",
    "        # 'best_val_loss': best_val_loss,\n",
    "        'train_ended': train_ended,\n",
    "        'max_epochs': max_epochs,\n",
    "        # 'patience': patience\n",
    "    }\n",
    "    \n",
    "    th.save(checkpoint, checkpoint_path)"
   ]
  },
  {
   "cell_type": "code",
   "execution_count": 25,
   "id": "f52b2fbf",
   "metadata": {},
   "outputs": [
    {
     "name": "stdout",
     "output_type": "stream",
     "text": [
      "Number of train graphs:  2648\n",
      "Class weights: tensor([3.8077e-01, 4.4449e-01, 1.4234e+03, 8.1229e+00, 6.7026e+03],\n",
      "       device='cuda:0')\n"
     ]
    },
    {
     "name": "stderr",
     "output_type": "stream",
     "text": [
      "                                                              \r"
     ]
    },
    {
     "name": "stdout",
     "output_type": "stream",
     "text": [
      "Epoch 0 Saved best model. Best F1: 0.27927167007607956\n",
      "Epoch 0, Train Loss: 1.8479, Validation Loss: 1.1678, Validation F1: 0.2793, Validation F1 Micro: 0.4500, Validation F1 Macro: 0.3218\n"
     ]
    },
    {
     "name": "stderr",
     "output_type": "stream",
     "text": [
      "                                                               \r"
     ]
    },
    {
     "name": "stdout",
     "output_type": "stream",
     "text": [
      "Epoch 1 Saved best model. Best F1: 0.3610712446609155\n",
      "Epoch 1, Train Loss: 1.2162, Validation Loss: 4.4173, Validation F1: 0.3611, Validation F1 Micro: 0.5246, Validation F1 Macro: 0.2304\n"
     ]
    },
    {
     "name": "stderr",
     "output_type": "stream",
     "text": [
      "                                                               \r"
     ]
    },
    {
     "name": "stdout",
     "output_type": "stream",
     "text": [
      "Epoch 2 Saved best model. Best F1: 0.3622486787966163\n",
      "Epoch 2, Train Loss: 4.4256, Validation Loss: 1.9601, Validation F1: 0.3622, Validation F1 Micro: 0.5251, Validation F1 Macro: 0.2329\n"
     ]
    },
    {
     "name": "stderr",
     "output_type": "stream",
     "text": [
      "                                                               \r"
     ]
    },
    {
     "name": "stdout",
     "output_type": "stream",
     "text": [
      "Epoch 3 Saved best model. Best F1: 0.7889078629066016\n",
      "Epoch 3, Train Loss: 2.0359, Validation Loss: 0.5836, Validation F1: 0.7889, Validation F1 Micro: 0.7957, Validation F1 Macro: 0.5500\n"
     ]
    },
    {
     "name": "stderr",
     "output_type": "stream",
     "text": [
      "                                                               \r"
     ]
    },
    {
     "name": "stdout",
     "output_type": "stream",
     "text": [
      "Epoch 4, Train Loss: 0.6078, Validation Loss: 0.8700, Validation F1: 0.2946, Validation F1 Micro: 0.4591, Validation F1 Macro: 0.3413\n"
     ]
    },
    {
     "name": "stderr",
     "output_type": "stream",
     "text": [
      "                                                               \r"
     ]
    },
    {
     "name": "stdout",
     "output_type": "stream",
     "text": [
      "Epoch 5, Train Loss: 0.8637, Validation Loss: 0.8473, Validation F1: 0.2984, Validation F1 Micro: 0.4624, Validation F1 Macro: 0.3732\n"
     ]
    },
    {
     "name": "stderr",
     "output_type": "stream",
     "text": [
      "                                                               \r"
     ]
    },
    {
     "name": "stdout",
     "output_type": "stream",
     "text": [
      "Epoch 6, Train Loss: 0.8372, Validation Loss: 0.7345, Validation F1: 0.5700, Validation F1 Micro: 0.6172, Validation F1 Macro: 0.5346\n"
     ]
    },
    {
     "name": "stderr",
     "output_type": "stream",
     "text": [
      "                                                               \r"
     ]
    },
    {
     "name": "stdout",
     "output_type": "stream",
     "text": [
      "Epoch 7 Saved best model. Best F1: 0.8810646292351658\n",
      "Epoch 7, Train Loss: 0.7164, Validation Loss: 0.6131, Validation F1: 0.8811, Validation F1 Micro: 0.8818, Validation F1 Macro: 0.7063\n"
     ]
    },
    {
     "name": "stderr",
     "output_type": "stream",
     "text": [
      "                                                               \r"
     ]
    },
    {
     "name": "stdout",
     "output_type": "stream",
     "text": [
      "Epoch 8, Train Loss: 0.6124, Validation Loss: 0.5125, Validation F1: 0.8313, Validation F1 Micro: 0.8368, Validation F1 Macro: 0.7413\n"
     ]
    },
    {
     "name": "stderr",
     "output_type": "stream",
     "text": [
      "                                                               \r"
     ]
    },
    {
     "name": "stdout",
     "output_type": "stream",
     "text": [
      "Epoch 9, Train Loss: 0.5256, Validation Loss: 0.4252, Validation F1: 0.8473, Validation F1 Micro: 0.8500, Validation F1 Macro: 0.8292\n"
     ]
    },
    {
     "name": "stderr",
     "output_type": "stream",
     "text": [
      "                                                               \r"
     ]
    },
    {
     "name": "stdout",
     "output_type": "stream",
     "text": [
      "Epoch 10 Saved best model. Best F1: 0.8896885664955543\n",
      "Epoch 10, Train Loss: 0.4507, Validation Loss: 0.3707, Validation F1: 0.8897, Validation F1 Micro: 0.8914, Validation F1 Macro: 0.8387\n"
     ]
    },
    {
     "name": "stderr",
     "output_type": "stream",
     "text": [
      "                                                               \r"
     ]
    },
    {
     "name": "stdout",
     "output_type": "stream",
     "text": [
      "Epoch 11 Saved best model. Best F1: 0.8978323134788078\n",
      "Epoch 11, Train Loss: 0.3997, Validation Loss: 0.3521, Validation F1: 0.8978, Validation F1 Micro: 0.8998, Validation F1 Macro: 0.8390\n"
     ]
    },
    {
     "name": "stderr",
     "output_type": "stream",
     "text": [
      "                                                               \r"
     ]
    },
    {
     "name": "stdout",
     "output_type": "stream",
     "text": [
      "Epoch 12, Train Loss: 0.3874, Validation Loss: 0.3034, Validation F1: 0.8935, Validation F1 Micro: 0.8957, Validation F1 Macro: 0.8369\n"
     ]
    },
    {
     "name": "stderr",
     "output_type": "stream",
     "text": [
      "                                                               \r"
     ]
    },
    {
     "name": "stdout",
     "output_type": "stream",
     "text": [
      "Epoch 13 Saved best model. Best F1: 0.9099589102715401\n",
      "Epoch 13, Train Loss: 0.3379, Validation Loss: 0.2786, Validation F1: 0.9100, Validation F1 Micro: 0.9124, Validation F1 Macro: 0.8466\n"
     ]
    },
    {
     "name": "stderr",
     "output_type": "stream",
     "text": [
      "                                                               \r"
     ]
    },
    {
     "name": "stdout",
     "output_type": "stream",
     "text": [
      "Epoch 14 Saved best model. Best F1: 0.9210792848341534\n",
      "Epoch 14, Train Loss: 0.3078, Validation Loss: 0.2500, Validation F1: 0.9211, Validation F1 Micro: 0.9227, Validation F1 Macro: 0.7951\n"
     ]
    },
    {
     "name": "stderr",
     "output_type": "stream",
     "text": [
      "                                                               \r"
     ]
    },
    {
     "name": "stdout",
     "output_type": "stream",
     "text": [
      "Epoch 15 Saved best model. Best F1: 0.9213760723290101\n",
      "Epoch 15, Train Loss: 0.2836, Validation Loss: 0.2046, Validation F1: 0.9214, Validation F1 Micro: 0.9224, Validation F1 Macro: 0.7742\n"
     ]
    },
    {
     "name": "stderr",
     "output_type": "stream",
     "text": [
      "                                                               \r"
     ]
    },
    {
     "name": "stdout",
     "output_type": "stream",
     "text": [
      "Epoch 16 Saved best model. Best F1: 0.9305855456600054\n",
      "Epoch 16, Train Loss: 0.2303, Validation Loss: 0.1846, Validation F1: 0.9306, Validation F1 Micro: 0.9313, Validation F1 Macro: 0.7463\n"
     ]
    },
    {
     "name": "stderr",
     "output_type": "stream",
     "text": [
      "                                                               \r"
     ]
    },
    {
     "name": "stdout",
     "output_type": "stream",
     "text": [
      "Epoch 17 Saved best model. Best F1: 0.9363979800926063\n",
      "Epoch 17, Train Loss: 0.2103, Validation Loss: 0.1633, Validation F1: 0.9364, Validation F1 Micro: 0.9368, Validation F1 Macro: 0.7387\n"
     ]
    },
    {
     "name": "stderr",
     "output_type": "stream",
     "text": [
      "                                                               \r"
     ]
    },
    {
     "name": "stdout",
     "output_type": "stream",
     "text": [
      "Epoch 18 Saved best model. Best F1: 0.9552883653817588\n",
      "Epoch 18, Train Loss: 0.1822, Validation Loss: 0.1557, Validation F1: 0.9553, Validation F1 Micro: 0.9553, Validation F1 Macro: 0.7683\n"
     ]
    },
    {
     "name": "stderr",
     "output_type": "stream",
     "text": [
      "                                                               \r"
     ]
    },
    {
     "name": "stdout",
     "output_type": "stream",
     "text": [
      "Epoch 19 Saved best model. Best F1: 0.9633183604640683\n",
      "Epoch 19, Train Loss: 0.1723, Validation Loss: 0.1294, Validation F1: 0.9633, Validation F1 Micro: 0.9633, Validation F1 Macro: 0.7682\n"
     ]
    },
    {
     "name": "stderr",
     "output_type": "stream",
     "text": [
      "                                                               \r"
     ]
    },
    {
     "name": "stdout",
     "output_type": "stream",
     "text": [
      "Epoch 20 Saved best model. Best F1: 0.9636704694158651\n",
      "Epoch 20, Train Loss: 0.1494, Validation Loss: 0.1067, Validation F1: 0.9637, Validation F1 Micro: 0.9639, Validation F1 Macro: 0.7894\n"
     ]
    },
    {
     "name": "stderr",
     "output_type": "stream",
     "text": [
      "                                                               \r"
     ]
    },
    {
     "name": "stdout",
     "output_type": "stream",
     "text": [
      "Epoch 21, Train Loss: 0.1297, Validation Loss: 0.0973, Validation F1: 0.9628, Validation F1 Micro: 0.9636, Validation F1 Macro: 0.8950\n"
     ]
    },
    {
     "name": "stderr",
     "output_type": "stream",
     "text": [
      "                                                               \r"
     ]
    },
    {
     "name": "stdout",
     "output_type": "stream",
     "text": [
      "Epoch 22 Saved best model. Best F1: 0.9697225877689762\n",
      "Epoch 22, Train Loss: 0.1241, Validation Loss: 0.0899, Validation F1: 0.9697, Validation F1 Micro: 0.9705, Validation F1 Macro: 0.8999\n"
     ]
    },
    {
     "name": "stderr",
     "output_type": "stream",
     "text": [
      "                                                               \r"
     ]
    },
    {
     "name": "stdout",
     "output_type": "stream",
     "text": [
      "Epoch 23 Saved best model. Best F1: 0.9707228715545068\n",
      "Epoch 23, Train Loss: 0.1133, Validation Loss: 0.0807, Validation F1: 0.9707, Validation F1 Micro: 0.9715, Validation F1 Macro: 0.9047\n"
     ]
    },
    {
     "name": "stderr",
     "output_type": "stream",
     "text": [
      "                                                               \r"
     ]
    },
    {
     "name": "stdout",
     "output_type": "stream",
     "text": [
      "Epoch 24 Saved best model. Best F1: 0.9858803921854832\n",
      "Epoch 24, Train Loss: 0.1059, Validation Loss: 0.0698, Validation F1: 0.9859, Validation F1 Micro: 0.9866, Validation F1 Macro: 0.9060\n"
     ]
    },
    {
     "name": "stderr",
     "output_type": "stream",
     "text": [
      "                                                               \r"
     ]
    },
    {
     "name": "stdout",
     "output_type": "stream",
     "text": [
      "Epoch 25 Saved best model. Best F1: 0.9894298354342559\n",
      "Epoch 25, Train Loss: 0.0939, Validation Loss: 0.0623, Validation F1: 0.9894, Validation F1 Micro: 0.9898, Validation F1 Macro: 0.9108\n"
     ]
    },
    {
     "name": "stderr",
     "output_type": "stream",
     "text": [
      "                                                               \r"
     ]
    },
    {
     "name": "stdout",
     "output_type": "stream",
     "text": [
      "Epoch 26 Saved best model. Best F1: 0.9898532308011222\n",
      "Epoch 26, Train Loss: 0.0870, Validation Loss: 0.0585, Validation F1: 0.9899, Validation F1 Micro: 0.9901, Validation F1 Macro: 0.8461\n"
     ]
    },
    {
     "name": "stderr",
     "output_type": "stream",
     "text": [
      "                                                               \r"
     ]
    },
    {
     "name": "stdout",
     "output_type": "stream",
     "text": [
      "Epoch 27 Saved best model. Best F1: 0.9899506543230633\n",
      "Epoch 27, Train Loss: 0.0804, Validation Loss: 0.0573, Validation F1: 0.9900, Validation F1 Micro: 0.9901, Validation F1 Macro: 0.8190\n"
     ]
    },
    {
     "name": "stderr",
     "output_type": "stream",
     "text": [
      "                                                               \r"
     ]
    },
    {
     "name": "stdout",
     "output_type": "stream",
     "text": [
      "Epoch 28 Saved best model. Best F1: 0.9903810385195506\n",
      "Epoch 28, Train Loss: 0.0795, Validation Loss: 0.0495, Validation F1: 0.9904, Validation F1 Micro: 0.9906, Validation F1 Macro: 0.8109\n"
     ]
    },
    {
     "name": "stderr",
     "output_type": "stream",
     "text": [
      "                                                               \r"
     ]
    },
    {
     "name": "stdout",
     "output_type": "stream",
     "text": [
      "Epoch 29, Train Loss: 0.0736, Validation Loss: 0.0445, Validation F1: 0.9901, Validation F1 Micro: 0.9903, Validation F1 Macro: 0.7978\n"
     ]
    },
    {
     "name": "stderr",
     "output_type": "stream",
     "text": [
      "                                                               \r"
     ]
    },
    {
     "name": "stdout",
     "output_type": "stream",
     "text": [
      "Epoch 30, Train Loss: 0.0663, Validation Loss: 0.0411, Validation F1: 0.9901, Validation F1 Micro: 0.9903, Validation F1 Macro: 0.8023\n"
     ]
    },
    {
     "name": "stderr",
     "output_type": "stream",
     "text": [
      "                                                               \r"
     ]
    },
    {
     "name": "stdout",
     "output_type": "stream",
     "text": [
      "Epoch 31 Saved best model. Best F1: 0.9931394356968323\n",
      "Epoch 31, Train Loss: 0.0613, Validation Loss: 0.0406, Validation F1: 0.9931, Validation F1 Micro: 0.9933, Validation F1 Macro: 0.8332\n"
     ]
    },
    {
     "name": "stderr",
     "output_type": "stream",
     "text": [
      "                                                               \r"
     ]
    },
    {
     "name": "stdout",
     "output_type": "stream",
     "text": [
      "Epoch 32, Train Loss: 0.0584, Validation Loss: 0.0357, Validation F1: 0.9925, Validation F1 Micro: 0.9926, Validation F1 Macro: 0.8950\n"
     ]
    },
    {
     "name": "stderr",
     "output_type": "stream",
     "text": [
      "                                                               \r"
     ]
    },
    {
     "name": "stdout",
     "output_type": "stream",
     "text": [
      "Epoch 33, Train Loss: 0.0546, Validation Loss: 0.0320, Validation F1: 0.9923, Validation F1 Micro: 0.9924, Validation F1 Macro: 0.8998\n"
     ]
    },
    {
     "name": "stderr",
     "output_type": "stream",
     "text": [
      "                                                               \r"
     ]
    },
    {
     "name": "stdout",
     "output_type": "stream",
     "text": [
      "Epoch 34, Train Loss: 0.0520, Validation Loss: 0.0302, Validation F1: 0.9926, Validation F1 Micro: 0.9927, Validation F1 Macro: 0.9135\n"
     ]
    },
    {
     "name": "stderr",
     "output_type": "stream",
     "text": [
      "                                                               \r"
     ]
    },
    {
     "name": "stdout",
     "output_type": "stream",
     "text": [
      "Epoch 35, Train Loss: 0.0508, Validation Loss: 0.0284, Validation F1: 0.9928, Validation F1 Micro: 0.9929, Validation F1 Macro: 0.8642\n"
     ]
    },
    {
     "name": "stderr",
     "output_type": "stream",
     "text": [
      "                                                               \r"
     ]
    },
    {
     "name": "stdout",
     "output_type": "stream",
     "text": [
      "Epoch 36, Train Loss: 0.0483, Validation Loss: 0.0264, Validation F1: 0.9930, Validation F1 Micro: 0.9931, Validation F1 Macro: 0.8631\n"
     ]
    },
    {
     "name": "stderr",
     "output_type": "stream",
     "text": [
      "                                                               \r"
     ]
    },
    {
     "name": "stdout",
     "output_type": "stream",
     "text": [
      "Epoch 37, Train Loss: 0.0441, Validation Loss: 0.0251, Validation F1: 0.9930, Validation F1 Micro: 0.9931, Validation F1 Macro: 0.7264\n"
     ]
    },
    {
     "name": "stderr",
     "output_type": "stream",
     "text": [
      "                                                               \r"
     ]
    },
    {
     "name": "stdout",
     "output_type": "stream",
     "text": [
      "Epoch 38, Train Loss: 0.0433, Validation Loss: 0.0242, Validation F1: 0.9930, Validation F1 Micro: 0.9931, Validation F1 Macro: 0.7053\n"
     ]
    },
    {
     "name": "stderr",
     "output_type": "stream",
     "text": [
      "                                                               \r"
     ]
    },
    {
     "name": "stdout",
     "output_type": "stream",
     "text": [
      "Epoch 39 Saved best model. Best F1: 0.9955282949188303\n",
      "Epoch 39, Train Loss: 0.0408, Validation Loss: 0.0236, Validation F1: 0.9955, Validation F1 Micro: 0.9956, Validation F1 Macro: 0.7031\n"
     ]
    },
    {
     "name": "stderr",
     "output_type": "stream",
     "text": [
      "                                                               \r"
     ]
    },
    {
     "name": "stdout",
     "output_type": "stream",
     "text": [
      "Epoch 40 Saved best model. Best F1: 0.9961875521539452\n",
      "Epoch 40, Train Loss: 0.0396, Validation Loss: 0.0229, Validation F1: 0.9962, Validation F1 Micro: 0.9962, Validation F1 Macro: 0.7205\n"
     ]
    },
    {
     "name": "stderr",
     "output_type": "stream",
     "text": [
      "                                                               \r"
     ]
    },
    {
     "name": "stdout",
     "output_type": "stream",
     "text": [
      "Epoch 41 Saved best model. Best F1: 0.9976064479995034\n",
      "Epoch 41, Train Loss: 0.0367, Validation Loss: 0.0224, Validation F1: 0.9976, Validation F1 Micro: 0.9976, Validation F1 Macro: 0.7451\n"
     ]
    },
    {
     "name": "stderr",
     "output_type": "stream",
     "text": [
      "                                                               \r"
     ]
    },
    {
     "name": "stdout",
     "output_type": "stream",
     "text": [
      "Epoch 42 Saved best model. Best F1: 0.9977915527561142\n",
      "Epoch 42, Train Loss: 0.0375, Validation Loss: 0.0208, Validation F1: 0.9978, Validation F1 Micro: 0.9978, Validation F1 Macro: 0.7572\n"
     ]
    },
    {
     "name": "stderr",
     "output_type": "stream",
     "text": [
      "                                                               \r"
     ]
    },
    {
     "name": "stdout",
     "output_type": "stream",
     "text": [
      "Epoch 43, Train Loss: 0.0349, Validation Loss: 0.0193, Validation F1: 0.9976, Validation F1 Micro: 0.9976, Validation F1 Macro: 0.7531\n"
     ]
    },
    {
     "name": "stderr",
     "output_type": "stream",
     "text": [
      "                                                               \r"
     ]
    },
    {
     "name": "stdout",
     "output_type": "stream",
     "text": [
      "Epoch 44, Train Loss: 0.0341, Validation Loss: 0.0184, Validation F1: 0.9975, Validation F1 Micro: 0.9975, Validation F1 Macro: 0.7511\n"
     ]
    },
    {
     "name": "stderr",
     "output_type": "stream",
     "text": [
      "                                                               \r"
     ]
    },
    {
     "name": "stdout",
     "output_type": "stream",
     "text": [
      "Epoch 45, Train Loss: 0.0326, Validation Loss: 0.0179, Validation F1: 0.9977, Validation F1 Micro: 0.9977, Validation F1 Macro: 0.7126\n"
     ]
    },
    {
     "name": "stderr",
     "output_type": "stream",
     "text": [
      "                                                               \r"
     ]
    },
    {
     "name": "stdout",
     "output_type": "stream",
     "text": [
      "Epoch 46 Saved best model. Best F1: 0.9979616347517918\n",
      "Epoch 46, Train Loss: 0.0319, Validation Loss: 0.0166, Validation F1: 0.9980, Validation F1 Micro: 0.9979, Validation F1 Macro: 0.7042\n"
     ]
    },
    {
     "name": "stderr",
     "output_type": "stream",
     "text": [
      "                                                               \r"
     ]
    },
    {
     "name": "stdout",
     "output_type": "stream",
     "text": [
      "Epoch 47 Saved best model. Best F1: 0.9980803273269754\n",
      "Epoch 47, Train Loss: 0.0294, Validation Loss: 0.0160, Validation F1: 0.9981, Validation F1 Micro: 0.9980, Validation F1 Macro: 0.6948\n"
     ]
    },
    {
     "name": "stderr",
     "output_type": "stream",
     "text": [
      "                                                               \r"
     ]
    },
    {
     "name": "stdout",
     "output_type": "stream",
     "text": [
      "Epoch 48 Saved best model. Best F1: 0.9980967771356044\n",
      "Epoch 48, Train Loss: 0.0288, Validation Loss: 0.0158, Validation F1: 0.9981, Validation F1 Micro: 0.9980, Validation F1 Macro: 0.7229\n"
     ]
    },
    {
     "name": "stderr",
     "output_type": "stream",
     "text": [
      "                                                               \r"
     ]
    },
    {
     "name": "stdout",
     "output_type": "stream",
     "text": [
      "Epoch 49 Saved best model. Best F1: 0.9981152699829203\n",
      "Epoch 49, Train Loss: 0.0288, Validation Loss: 0.0157, Validation F1: 0.9981, Validation F1 Micro: 0.9981, Validation F1 Macro: 0.7372\n"
     ]
    },
    {
     "name": "stderr",
     "output_type": "stream",
     "text": [
      "                                                               \r"
     ]
    },
    {
     "name": "stdout",
     "output_type": "stream",
     "text": [
      "Epoch 50 Saved best model. Best F1: 0.9981352077774824\n",
      "Epoch 50, Train Loss: 0.0262, Validation Loss: 0.0154, Validation F1: 0.9981, Validation F1 Micro: 0.9981, Validation F1 Macro: 0.7550\n"
     ]
    },
    {
     "name": "stderr",
     "output_type": "stream",
     "text": [
      "                                                               \r"
     ]
    },
    {
     "name": "stdout",
     "output_type": "stream",
     "text": [
      "Epoch 51, Train Loss: 0.0264, Validation Loss: 0.0143, Validation F1: 0.9981, Validation F1 Micro: 0.9981, Validation F1 Macro: 0.7550\n"
     ]
    },
    {
     "name": "stderr",
     "output_type": "stream",
     "text": [
      "                                                               \r"
     ]
    },
    {
     "name": "stdout",
     "output_type": "stream",
     "text": [
      "Epoch 52, Train Loss: 0.0259, Validation Loss: 0.0131, Validation F1: 0.9981, Validation F1 Micro: 0.9981, Validation F1 Macro: 0.7550\n"
     ]
    },
    {
     "name": "stderr",
     "output_type": "stream",
     "text": [
      "                                                               \r"
     ]
    },
    {
     "name": "stdout",
     "output_type": "stream",
     "text": [
      "Epoch 53, Train Loss: 0.0238, Validation Loss: 0.0120, Validation F1: 0.9981, Validation F1 Micro: 0.9981, Validation F1 Macro: 0.7534\n"
     ]
    },
    {
     "name": "stderr",
     "output_type": "stream",
     "text": [
      "                                                               \r"
     ]
    },
    {
     "name": "stdout",
     "output_type": "stream",
     "text": [
      "Epoch 54, Train Loss: 0.0237, Validation Loss: 0.0119, Validation F1: 0.9981, Validation F1 Micro: 0.9981, Validation F1 Macro: 0.7550\n"
     ]
    },
    {
     "name": "stderr",
     "output_type": "stream",
     "text": [
      "                                                               \r"
     ]
    },
    {
     "name": "stdout",
     "output_type": "stream",
     "text": [
      "Epoch 55 Saved best model. Best F1: 0.9981741676127738\n",
      "Epoch 55, Train Loss: 0.0221, Validation Loss: 0.0114, Validation F1: 0.9982, Validation F1 Micro: 0.9982, Validation F1 Macro: 0.7554\n"
     ]
    },
    {
     "name": "stderr",
     "output_type": "stream",
     "text": [
      "                                                               \r"
     ]
    },
    {
     "name": "stdout",
     "output_type": "stream",
     "text": [
      "Epoch 56, Train Loss: 0.0244, Validation Loss: 0.0101, Validation F1: 0.9982, Validation F1 Micro: 0.9982, Validation F1 Macro: 0.7537\n"
     ]
    },
    {
     "name": "stderr",
     "output_type": "stream",
     "text": [
      "                                                               \r"
     ]
    },
    {
     "name": "stdout",
     "output_type": "stream",
     "text": [
      "Epoch 57, Train Loss: 0.0224, Validation Loss: 0.0091, Validation F1: 0.9981, Validation F1 Micro: 0.9981, Validation F1 Macro: 0.8883\n"
     ]
    },
    {
     "name": "stderr",
     "output_type": "stream",
     "text": [
      "                                                               \r"
     ]
    },
    {
     "name": "stdout",
     "output_type": "stream",
     "text": [
      "Epoch 58, Train Loss: 0.0198, Validation Loss: 0.0085, Validation F1: 0.9981, Validation F1 Micro: 0.9981, Validation F1 Macro: 0.7099\n"
     ]
    },
    {
     "name": "stderr",
     "output_type": "stream",
     "text": [
      "                                                               \r"
     ]
    },
    {
     "name": "stdout",
     "output_type": "stream",
     "text": [
      "Epoch 59 Saved best model. Best F1: 0.9987545968519769\n",
      "Epoch 59, Train Loss: 0.0212, Validation Loss: 0.0093, Validation F1: 0.9988, Validation F1 Micro: 0.9987, Validation F1 Macro: 0.9350\n"
     ]
    },
    {
     "name": "stderr",
     "output_type": "stream",
     "text": [
      "                                                               \r"
     ]
    },
    {
     "name": "stdout",
     "output_type": "stream",
     "text": [
      "Epoch 60 Saved best model. Best F1: 0.9987780992272925\n",
      "Epoch 60, Train Loss: 0.0181, Validation Loss: 0.0085, Validation F1: 0.9988, Validation F1 Micro: 0.9988, Validation F1 Macro: 0.9450\n"
     ]
    },
    {
     "name": "stderr",
     "output_type": "stream",
     "text": [
      "                                                               \r"
     ]
    },
    {
     "name": "stdout",
     "output_type": "stream",
     "text": [
      "Epoch 61 Saved best model. Best F1: 0.9994889514961591\n",
      "Epoch 61, Train Loss: 0.0191, Validation Loss: 0.0076, Validation F1: 0.9995, Validation F1 Micro: 0.9995, Validation F1 Macro: 0.9414\n"
     ]
    },
    {
     "name": "stderr",
     "output_type": "stream",
     "text": [
      "                                                               \r"
     ]
    },
    {
     "name": "stdout",
     "output_type": "stream",
     "text": [
      "Epoch 62 Saved best model. Best F1: 0.999522594083937\n",
      "Epoch 62, Train Loss: 0.0171, Validation Loss: 0.0075, Validation F1: 0.9995, Validation F1 Micro: 0.9995, Validation F1 Macro: 0.7547\n"
     ]
    },
    {
     "name": "stderr",
     "output_type": "stream",
     "text": [
      "                                                               \r"
     ]
    },
    {
     "name": "stdout",
     "output_type": "stream",
     "text": [
      "Epoch 63, Train Loss: 0.0175, Validation Loss: 0.0079, Validation F1: 0.9995, Validation F1 Micro: 0.9995, Validation F1 Macro: 0.7546\n"
     ]
    },
    {
     "name": "stderr",
     "output_type": "stream",
     "text": [
      "                                                               \r"
     ]
    },
    {
     "name": "stdout",
     "output_type": "stream",
     "text": [
      "Epoch 64, Train Loss: 0.0167, Validation Loss: 0.0079, Validation F1: 0.9995, Validation F1 Micro: 0.9995, Validation F1 Macro: 0.7546\n"
     ]
    },
    {
     "name": "stderr",
     "output_type": "stream",
     "text": [
      "                                                               \r"
     ]
    },
    {
     "name": "stdout",
     "output_type": "stream",
     "text": [
      "Epoch 65, Train Loss: 0.0162, Validation Loss: 0.0066, Validation F1: 0.9995, Validation F1 Micro: 0.9994, Validation F1 Macro: 0.7370\n"
     ]
    },
    {
     "name": "stderr",
     "output_type": "stream",
     "text": [
      "                                                               \r"
     ]
    },
    {
     "name": "stdout",
     "output_type": "stream",
     "text": [
      "Epoch 66, Train Loss: 0.0155, Validation Loss: 0.0065, Validation F1: 0.9995, Validation F1 Micro: 0.9995, Validation F1 Macro: 0.7044\n"
     ]
    },
    {
     "name": "stderr",
     "output_type": "stream",
     "text": [
      "                                                               \r"
     ]
    },
    {
     "name": "stdout",
     "output_type": "stream",
     "text": [
      "Epoch 67 Saved best model. Best F1: 0.9996933831410028\n",
      "Epoch 67, Train Loss: 0.0145, Validation Loss: 0.0069, Validation F1: 0.9997, Validation F1 Micro: 0.9997, Validation F1 Macro: 0.7045\n"
     ]
    },
    {
     "name": "stderr",
     "output_type": "stream",
     "text": [
      "                                                               \r"
     ]
    },
    {
     "name": "stdout",
     "output_type": "stream",
     "text": [
      "Epoch 68 Saved best model. Best F1: 0.9996952190055779\n",
      "Epoch 68, Train Loss: 0.0149, Validation Loss: 0.0064, Validation F1: 0.9997, Validation F1 Micro: 0.9997, Validation F1 Macro: 0.7037\n"
     ]
    },
    {
     "name": "stderr",
     "output_type": "stream",
     "text": [
      "                                                               \r"
     ]
    },
    {
     "name": "stdout",
     "output_type": "stream",
     "text": [
      "Epoch 69, Train Loss: 0.0130, Validation Loss: 0.0055, Validation F1: 0.9997, Validation F1 Micro: 0.9996, Validation F1 Macro: 0.7029\n"
     ]
    },
    {
     "name": "stderr",
     "output_type": "stream",
     "text": [
      "                                                               \r"
     ]
    },
    {
     "name": "stdout",
     "output_type": "stream",
     "text": [
      "Epoch 70, Train Loss: 0.0141, Validation Loss: 0.0052, Validation F1: 0.9996, Validation F1 Micro: 0.9996, Validation F1 Macro: 0.7043\n"
     ]
    },
    {
     "name": "stderr",
     "output_type": "stream",
     "text": [
      "                                                               \r"
     ]
    },
    {
     "name": "stdout",
     "output_type": "stream",
     "text": [
      "Epoch 71, Train Loss: 0.0134, Validation Loss: 0.0051, Validation F1: 0.9997, Validation F1 Micro: 0.9996, Validation F1 Macro: 0.7152\n"
     ]
    },
    {
     "name": "stderr",
     "output_type": "stream",
     "text": [
      "                                                               \r"
     ]
    },
    {
     "name": "stdout",
     "output_type": "stream",
     "text": [
      "Epoch 72, Train Loss: 0.0129, Validation Loss: 0.0050, Validation F1: 0.9997, Validation F1 Micro: 0.9996, Validation F1 Macro: 0.7152\n"
     ]
    },
    {
     "name": "stderr",
     "output_type": "stream",
     "text": [
      "                                                               \r"
     ]
    },
    {
     "name": "stdout",
     "output_type": "stream",
     "text": [
      "Epoch 73 Saved best model. Best F1: 0.9997289232220842\n",
      "Epoch 73, Train Loss: 0.0118, Validation Loss: 0.0051, Validation F1: 0.9997, Validation F1 Micro: 0.9997, Validation F1 Macro: 0.7400\n"
     ]
    },
    {
     "name": "stderr",
     "output_type": "stream",
     "text": [
      "                                                               \r"
     ]
    },
    {
     "name": "stdout",
     "output_type": "stream",
     "text": [
      "Epoch 74 Saved best model. Best F1: 0.9997562153935684\n",
      "Epoch 74, Train Loss: 0.0124, Validation Loss: 0.0051, Validation F1: 0.9998, Validation F1 Micro: 0.9998, Validation F1 Macro: 0.7549\n"
     ]
    },
    {
     "name": "stderr",
     "output_type": "stream",
     "text": [
      "                                                               \r"
     ]
    },
    {
     "name": "stdout",
     "output_type": "stream",
     "text": [
      "Epoch 75 Saved best model. Best F1: 0.9997904405668055\n",
      "Epoch 75, Train Loss: 0.0117, Validation Loss: 0.0045, Validation F1: 0.9998, Validation F1 Micro: 0.9998, Validation F1 Macro: 0.7551\n"
     ]
    },
    {
     "name": "stderr",
     "output_type": "stream",
     "text": [
      "                                                               \r"
     ]
    },
    {
     "name": "stdout",
     "output_type": "stream",
     "text": [
      "Epoch 76 Saved best model. Best F1: 0.9997921668095521\n",
      "Epoch 76, Train Loss: 0.0121, Validation Loss: 0.0041, Validation F1: 0.9998, Validation F1 Micro: 0.9998, Validation F1 Macro: 0.7567\n"
     ]
    },
    {
     "name": "stderr",
     "output_type": "stream",
     "text": [
      "                                                               \r"
     ]
    },
    {
     "name": "stdout",
     "output_type": "stream",
     "text": [
      "Epoch 77, Train Loss: 0.0101, Validation Loss: 0.0039, Validation F1: 0.9998, Validation F1 Micro: 0.9997, Validation F1 Macro: 0.9416\n"
     ]
    },
    {
     "name": "stderr",
     "output_type": "stream",
     "text": [
      "                                                               \r"
     ]
    },
    {
     "name": "stdout",
     "output_type": "stream",
     "text": [
      "Epoch 78, Train Loss: 0.0105, Validation Loss: 0.0047, Validation F1: 0.9997, Validation F1 Micro: 0.9997, Validation F1 Macro: 0.9416\n"
     ]
    },
    {
     "name": "stderr",
     "output_type": "stream",
     "text": [
      "                                                               \r"
     ]
    },
    {
     "name": "stdout",
     "output_type": "stream",
     "text": [
      "Epoch 79, Train Loss: 0.0113, Validation Loss: 0.0054, Validation F1: 0.9997, Validation F1 Micro: 0.9997, Validation F1 Macro: 0.9522\n"
     ]
    },
    {
     "name": "stderr",
     "output_type": "stream",
     "text": [
      "                                                               \r"
     ]
    },
    {
     "name": "stdout",
     "output_type": "stream",
     "text": [
      "Epoch 80, Train Loss: 0.0111, Validation Loss: 0.0039, Validation F1: 0.9998, Validation F1 Micro: 0.9997, Validation F1 Macro: 0.7566\n"
     ]
    },
    {
     "name": "stderr",
     "output_type": "stream",
     "text": [
      "                                                               \r"
     ]
    },
    {
     "name": "stdout",
     "output_type": "stream",
     "text": [
      "Epoch 81, Train Loss: 0.0100, Validation Loss: 0.0035, Validation F1: 0.9998, Validation F1 Micro: 0.9998, Validation F1 Macro: 0.7567\n"
     ]
    },
    {
     "name": "stderr",
     "output_type": "stream",
     "text": [
      "                                                               \r"
     ]
    },
    {
     "name": "stdout",
     "output_type": "stream",
     "text": [
      "Epoch 82, Train Loss: 0.0101, Validation Loss: 0.0038, Validation F1: 0.9998, Validation F1 Micro: 0.9998, Validation F1 Macro: 0.7567\n"
     ]
    },
    {
     "name": "stderr",
     "output_type": "stream",
     "text": [
      "                                                               \r"
     ]
    },
    {
     "name": "stdout",
     "output_type": "stream",
     "text": [
      "Epoch 83, Train Loss: 0.0096, Validation Loss: 0.0039, Validation F1: 0.9998, Validation F1 Micro: 0.9998, Validation F1 Macro: 0.7567\n"
     ]
    },
    {
     "name": "stderr",
     "output_type": "stream",
     "text": [
      "                                                               \r"
     ]
    },
    {
     "name": "stdout",
     "output_type": "stream",
     "text": [
      "Epoch 84, Train Loss: 0.0094, Validation Loss: 0.0037, Validation F1: 0.9998, Validation F1 Micro: 0.9998, Validation F1 Macro: 0.7551\n"
     ]
    },
    {
     "name": "stderr",
     "output_type": "stream",
     "text": [
      "                                                               \r"
     ]
    },
    {
     "name": "stdout",
     "output_type": "stream",
     "text": [
      "Epoch 85, Train Loss: 0.0093, Validation Loss: 0.0035, Validation F1: 0.9998, Validation F1 Micro: 0.9998, Validation F1 Macro: 0.9398\n"
     ]
    },
    {
     "name": "stderr",
     "output_type": "stream",
     "text": [
      "                                                               \r"
     ]
    },
    {
     "name": "stdout",
     "output_type": "stream",
     "text": [
      "Epoch 86, Train Loss: 0.0082, Validation Loss: 0.0032, Validation F1: 0.9997, Validation F1 Micro: 0.9997, Validation F1 Macro: 0.8967\n"
     ]
    },
    {
     "name": "stderr",
     "output_type": "stream",
     "text": [
      "                                                               \r"
     ]
    },
    {
     "name": "stdout",
     "output_type": "stream",
     "text": [
      "Epoch 87, Train Loss: 0.0080, Validation Loss: 0.0033, Validation F1: 0.9997, Validation F1 Micro: 0.9997, Validation F1 Macro: 0.8920\n"
     ]
    },
    {
     "name": "stderr",
     "output_type": "stream",
     "text": [
      "                                                               \r"
     ]
    },
    {
     "name": "stdout",
     "output_type": "stream",
     "text": [
      "Epoch 88, Train Loss: 0.0076, Validation Loss: 0.0039, Validation F1: 0.9997, Validation F1 Micro: 0.9997, Validation F1 Macro: 0.9201\n"
     ]
    },
    {
     "name": "stderr",
     "output_type": "stream",
     "text": [
      "                                                               \r"
     ]
    },
    {
     "name": "stdout",
     "output_type": "stream",
     "text": [
      "Epoch 89 Saved best model. Best F1: 0.9997923778878155\n",
      "Epoch 89, Train Loss: 0.0080, Validation Loss: 0.0036, Validation F1: 0.9998, Validation F1 Micro: 0.9998, Validation F1 Macro: 0.9399\n"
     ]
    },
    {
     "name": "stderr",
     "output_type": "stream",
     "text": [
      "                                                               \r"
     ]
    },
    {
     "name": "stdout",
     "output_type": "stream",
     "text": [
      "Epoch 90 Saved best model. Best F1: 0.9997949740072609\n",
      "Epoch 90, Train Loss: 0.0076, Validation Loss: 0.0030, Validation F1: 0.9998, Validation F1 Micro: 0.9998, Validation F1 Macro: 0.9379\n"
     ]
    },
    {
     "name": "stderr",
     "output_type": "stream",
     "text": [
      "                                                               \r"
     ]
    },
    {
     "name": "stdout",
     "output_type": "stream",
     "text": [
      "Epoch 91, Train Loss: 0.0083, Validation Loss: 0.0029, Validation F1: 0.9998, Validation F1 Micro: 0.9998, Validation F1 Macro: 0.9419\n"
     ]
    },
    {
     "name": "stderr",
     "output_type": "stream",
     "text": [
      "                                                               \r"
     ]
    },
    {
     "name": "stdout",
     "output_type": "stream",
     "text": [
      "Epoch 92, Train Loss: 0.0071, Validation Loss: 0.0034, Validation F1: 0.9998, Validation F1 Micro: 0.9998, Validation F1 Macro: 0.9459\n"
     ]
    },
    {
     "name": "stderr",
     "output_type": "stream",
     "text": [
      "                                                               \r"
     ]
    },
    {
     "name": "stdout",
     "output_type": "stream",
     "text": [
      "Epoch 93, Train Loss: 0.0075, Validation Loss: 0.0035, Validation F1: 0.9998, Validation F1 Micro: 0.9998, Validation F1 Macro: 0.7568\n"
     ]
    },
    {
     "name": "stderr",
     "output_type": "stream",
     "text": [
      "                                                               \r"
     ]
    },
    {
     "name": "stdout",
     "output_type": "stream",
     "text": [
      "Epoch 94, Train Loss: 0.0074, Validation Loss: 0.0029, Validation F1: 0.9998, Validation F1 Micro: 0.9998, Validation F1 Macro: 0.7584\n"
     ]
    },
    {
     "name": "stderr",
     "output_type": "stream",
     "text": [
      "                                                               \r"
     ]
    },
    {
     "name": "stdout",
     "output_type": "stream",
     "text": [
      "Epoch 95 Saved best model. Best F1: 0.9997971112171014\n",
      "Epoch 95, Train Loss: 0.0073, Validation Loss: 0.0026, Validation F1: 0.9998, Validation F1 Micro: 0.9998, Validation F1 Macro: 0.7585\n"
     ]
    },
    {
     "name": "stderr",
     "output_type": "stream",
     "text": [
      "                                                               \r"
     ]
    },
    {
     "name": "stdout",
     "output_type": "stream",
     "text": [
      "Epoch 96, Train Loss: 0.0063, Validation Loss: 0.0026, Validation F1: 0.9998, Validation F1 Micro: 0.9998, Validation F1 Macro: 0.7568\n"
     ]
    },
    {
     "name": "stderr",
     "output_type": "stream",
     "text": [
      "                                                               \r"
     ]
    },
    {
     "name": "stdout",
     "output_type": "stream",
     "text": [
      "Epoch 97, Train Loss: 0.0075, Validation Loss: 0.0026, Validation F1: 0.9998, Validation F1 Micro: 0.9998, Validation F1 Macro: 0.7568\n"
     ]
    },
    {
     "name": "stderr",
     "output_type": "stream",
     "text": [
      "                                                               \r"
     ]
    },
    {
     "name": "stdout",
     "output_type": "stream",
     "text": [
      "Epoch 98, Train Loss: 0.0075, Validation Loss: 0.0028, Validation F1: 0.9998, Validation F1 Micro: 0.9998, Validation F1 Macro: 0.9342\n"
     ]
    },
    {
     "name": "stderr",
     "output_type": "stream",
     "text": [
      "                                                               \r"
     ]
    },
    {
     "name": "stdout",
     "output_type": "stream",
     "text": [
      "Epoch 99 Saved best model. Best F1: 0.9998129727264747\n",
      "Epoch 99, Train Loss: 0.0064, Validation Loss: 0.0029, Validation F1: 0.9998, Validation F1 Micro: 0.9998, Validation F1 Macro: 0.9342\n"
     ]
    },
    {
     "name": "stderr",
     "output_type": "stream",
     "text": [
      "                                                               \r"
     ]
    },
    {
     "name": "stdout",
     "output_type": "stream",
     "text": [
      "Epoch 100, Train Loss: 0.0065, Validation Loss: 0.0026, Validation F1: 0.9998, Validation F1 Micro: 0.9998, Validation F1 Macro: 0.9342\n"
     ]
    },
    {
     "name": "stderr",
     "output_type": "stream",
     "text": [
      "                                                               \r"
     ]
    },
    {
     "name": "stdout",
     "output_type": "stream",
     "text": [
      "Epoch 101, Train Loss: 0.0061, Validation Loss: 0.0025, Validation F1: 0.9998, Validation F1 Micro: 0.9998, Validation F1 Macro: 0.9342\n"
     ]
    },
    {
     "name": "stderr",
     "output_type": "stream",
     "text": [
      "                                                               \r"
     ]
    },
    {
     "name": "stdout",
     "output_type": "stream",
     "text": [
      "Epoch 102, Train Loss: 0.0062, Validation Loss: 0.0027, Validation F1: 0.9994, Validation F1 Micro: 0.9994, Validation F1 Macro: 0.9417\n"
     ]
    },
    {
     "name": "stderr",
     "output_type": "stream",
     "text": [
      "                                                               \r"
     ]
    },
    {
     "name": "stdout",
     "output_type": "stream",
     "text": [
      "Epoch 103, Train Loss: 0.0054, Validation Loss: 0.0027, Validation F1: 0.9994, Validation F1 Micro: 0.9994, Validation F1 Macro: 0.7549\n"
     ]
    },
    {
     "name": "stderr",
     "output_type": "stream",
     "text": [
      "                                                               \r"
     ]
    },
    {
     "name": "stdout",
     "output_type": "stream",
     "text": [
      "Epoch 104, Train Loss: 0.0064, Validation Loss: 0.0029, Validation F1: 0.9994, Validation F1 Micro: 0.9994, Validation F1 Macro: 0.7549\n"
     ]
    },
    {
     "name": "stderr",
     "output_type": "stream",
     "text": [
      "                                                               \r"
     ]
    },
    {
     "name": "stdout",
     "output_type": "stream",
     "text": [
      "Epoch 105 Saved best model. Best F1: 0.9998139190819159\n",
      "Epoch 105, Train Loss: 0.0060, Validation Loss: 0.0025, Validation F1: 0.9998, Validation F1 Micro: 0.9998, Validation F1 Macro: 0.7551\n"
     ]
    },
    {
     "name": "stderr",
     "output_type": "stream",
     "text": [
      "                                                               \r"
     ]
    },
    {
     "name": "stdout",
     "output_type": "stream",
     "text": [
      "Epoch 106, Train Loss: 0.0057, Validation Loss: 0.0023, Validation F1: 0.9998, Validation F1 Micro: 0.9998, Validation F1 Macro: 0.7551\n"
     ]
    },
    {
     "name": "stderr",
     "output_type": "stream",
     "text": [
      "                                                               \r"
     ]
    },
    {
     "name": "stdout",
     "output_type": "stream",
     "text": [
      "Epoch 107 Saved best model. Best F1: 0.9998175548593966\n",
      "Epoch 107, Train Loss: 0.0055, Validation Loss: 0.0022, Validation F1: 0.9998, Validation F1 Micro: 0.9998, Validation F1 Macro: 0.9419\n"
     ]
    },
    {
     "name": "stderr",
     "output_type": "stream",
     "text": [
      "                                                               \r"
     ]
    },
    {
     "name": "stdout",
     "output_type": "stream",
     "text": [
      "Epoch 108, Train Loss: 0.0063, Validation Loss: 0.0021, Validation F1: 0.9998, Validation F1 Micro: 0.9998, Validation F1 Macro: 0.9419\n"
     ]
    },
    {
     "name": "stderr",
     "output_type": "stream",
     "text": [
      "                                                               \r"
     ]
    },
    {
     "name": "stdout",
     "output_type": "stream",
     "text": [
      "Epoch 109, Train Loss: 0.0055, Validation Loss: 0.0021, Validation F1: 0.9998, Validation F1 Micro: 0.9998, Validation F1 Macro: 0.9419\n"
     ]
    },
    {
     "name": "stderr",
     "output_type": "stream",
     "text": [
      "                                                               \r"
     ]
    },
    {
     "name": "stdout",
     "output_type": "stream",
     "text": [
      "Epoch 110, Train Loss: 0.0065, Validation Loss: 0.0024, Validation F1: 0.9998, Validation F1 Micro: 0.9998, Validation F1 Macro: 0.9419\n"
     ]
    },
    {
     "name": "stderr",
     "output_type": "stream",
     "text": [
      "                                                               \r"
     ]
    },
    {
     "name": "stdout",
     "output_type": "stream",
     "text": [
      "Epoch 111, Train Loss: 0.0062, Validation Loss: 0.0032, Validation F1: 0.9998, Validation F1 Micro: 0.9998, Validation F1 Macro: 0.9481\n"
     ]
    },
    {
     "name": "stderr",
     "output_type": "stream",
     "text": [
      "                                                               \r"
     ]
    },
    {
     "name": "stdout",
     "output_type": "stream",
     "text": [
      "Epoch 112, Train Loss: 0.0064, Validation Loss: 0.0028, Validation F1: 0.9998, Validation F1 Micro: 0.9998, Validation F1 Macro: 0.9481\n"
     ]
    },
    {
     "name": "stderr",
     "output_type": "stream",
     "text": [
      "                                                               \r"
     ]
    },
    {
     "name": "stdout",
     "output_type": "stream",
     "text": [
      "Epoch 113 Saved best model. Best F1: 0.9998227321400609\n",
      "Epoch 113, Train Loss: 0.0069, Validation Loss: 0.0019, Validation F1: 0.9998, Validation F1 Micro: 0.9998, Validation F1 Macro: 0.9481\n"
     ]
    },
    {
     "name": "stderr",
     "output_type": "stream",
     "text": [
      "                                                               \r"
     ]
    },
    {
     "name": "stdout",
     "output_type": "stream",
     "text": [
      "Epoch 114, Train Loss: 0.0053, Validation Loss: 0.0020, Validation F1: 0.9998, Validation F1 Micro: 0.9998, Validation F1 Macro: 0.9481\n"
     ]
    },
    {
     "name": "stderr",
     "output_type": "stream",
     "text": [
      "                                                               \r"
     ]
    },
    {
     "name": "stdout",
     "output_type": "stream",
     "text": [
      "Epoch 115, Train Loss: 0.0059, Validation Loss: 0.0025, Validation F1: 0.9998, Validation F1 Micro: 0.9998, Validation F1 Macro: 0.9481\n"
     ]
    },
    {
     "name": "stderr",
     "output_type": "stream",
     "text": [
      "                                                               \r"
     ]
    },
    {
     "name": "stdout",
     "output_type": "stream",
     "text": [
      "Epoch 116, Train Loss: 0.0053, Validation Loss: 0.0030, Validation F1: 0.9998, Validation F1 Micro: 0.9998, Validation F1 Macro: 0.9481\n"
     ]
    },
    {
     "name": "stderr",
     "output_type": "stream",
     "text": [
      "                                                               \r"
     ]
    },
    {
     "name": "stdout",
     "output_type": "stream",
     "text": [
      "Epoch 117, Train Loss: 0.0064, Validation Loss: 0.0025, Validation F1: 0.9998, Validation F1 Micro: 0.9998, Validation F1 Macro: 0.7602\n"
     ]
    },
    {
     "name": "stderr",
     "output_type": "stream",
     "text": [
      "                                                               \r"
     ]
    },
    {
     "name": "stdout",
     "output_type": "stream",
     "text": [
      "Epoch 118, Train Loss: 0.0045, Validation Loss: 0.0021, Validation F1: 0.9998, Validation F1 Micro: 0.9998, Validation F1 Macro: 0.7602\n"
     ]
    },
    {
     "name": "stderr",
     "output_type": "stream",
     "text": [
      "                                                               \r"
     ]
    },
    {
     "name": "stdout",
     "output_type": "stream",
     "text": [
      "Epoch 119 Saved best model. Best F1: 0.9998330363367844\n",
      "Epoch 119, Train Loss: 0.0044, Validation Loss: 0.0019, Validation F1: 0.9998, Validation F1 Micro: 0.9998, Validation F1 Macro: 0.9504\n"
     ]
    },
    {
     "name": "stderr",
     "output_type": "stream",
     "text": [
      "                                                               \r"
     ]
    },
    {
     "name": "stdout",
     "output_type": "stream",
     "text": [
      "Epoch 120 Saved best model. Best F1: 0.999837310462306\n",
      "Epoch 120, Train Loss: 0.0046, Validation Loss: 0.0017, Validation F1: 0.9998, Validation F1 Micro: 0.9998, Validation F1 Macro: 0.9504\n"
     ]
    },
    {
     "name": "stderr",
     "output_type": "stream",
     "text": [
      "                                                               \r"
     ]
    },
    {
     "name": "stdout",
     "output_type": "stream",
     "text": [
      "Epoch 121 Saved best model. Best F1: 0.9998415842462832\n",
      "Epoch 121, Train Loss: 0.0045, Validation Loss: 0.0018, Validation F1: 0.9998, Validation F1 Micro: 0.9998, Validation F1 Macro: 0.9504\n"
     ]
    },
    {
     "name": "stderr",
     "output_type": "stream",
     "text": [
      "                                                               \r"
     ]
    },
    {
     "name": "stdout",
     "output_type": "stream",
     "text": [
      "Epoch 122, Train Loss: 0.0045, Validation Loss: 0.0018, Validation F1: 0.9998, Validation F1 Micro: 0.9998, Validation F1 Macro: 0.7603\n"
     ]
    },
    {
     "name": "stderr",
     "output_type": "stream",
     "text": [
      "                                                               \r"
     ]
    },
    {
     "name": "stdout",
     "output_type": "stream",
     "text": [
      "Epoch 123, Train Loss: 0.0044, Validation Loss: 0.0017, Validation F1: 0.9998, Validation F1 Micro: 0.9998, Validation F1 Macro: 0.7586\n"
     ]
    },
    {
     "name": "stderr",
     "output_type": "stream",
     "text": [
      "                                                               \r"
     ]
    },
    {
     "name": "stdout",
     "output_type": "stream",
     "text": [
      "Epoch 124, Train Loss: 0.0042, Validation Loss: 0.0019, Validation F1: 0.9998, Validation F1 Micro: 0.9998, Validation F1 Macro: 0.9461\n"
     ]
    },
    {
     "name": "stderr",
     "output_type": "stream",
     "text": [
      "                                                               \r"
     ]
    },
    {
     "name": "stdout",
     "output_type": "stream",
     "text": [
      "Epoch 125, Train Loss: 0.0054, Validation Loss: 0.0020, Validation F1: 0.9998, Validation F1 Micro: 0.9998, Validation F1 Macro: 0.9461\n"
     ]
    },
    {
     "name": "stderr",
     "output_type": "stream",
     "text": [
      "                                                               \r"
     ]
    },
    {
     "name": "stdout",
     "output_type": "stream",
     "text": [
      "Epoch 126, Train Loss: 0.0041, Validation Loss: 0.0018, Validation F1: 0.9998, Validation F1 Micro: 0.9998, Validation F1 Macro: 0.7603\n"
     ]
    },
    {
     "name": "stderr",
     "output_type": "stream",
     "text": [
      "                                                               \r"
     ]
    },
    {
     "name": "stdout",
     "output_type": "stream",
     "text": [
      "Epoch 127, Train Loss: 0.0041, Validation Loss: 0.0016, Validation F1: 0.9998, Validation F1 Micro: 0.9998, Validation F1 Macro: 0.7603\n"
     ]
    },
    {
     "name": "stderr",
     "output_type": "stream",
     "text": [
      "                                                               \r"
     ]
    },
    {
     "name": "stdout",
     "output_type": "stream",
     "text": [
      "Epoch 128 Saved best model. Best F1: 0.9998661456689134\n",
      "Epoch 128, Train Loss: 0.0038, Validation Loss: 0.0016, Validation F1: 0.9999, Validation F1 Micro: 0.9999, Validation F1 Macro: 0.7604\n"
     ]
    },
    {
     "name": "stderr",
     "output_type": "stream",
     "text": [
      "                                                               \r"
     ]
    },
    {
     "name": "stdout",
     "output_type": "stream",
     "text": [
      "Epoch 129 Saved best model. Best F1: 0.9998810952873036\n",
      "Epoch 129, Train Loss: 0.0035, Validation Loss: 0.0017, Validation F1: 0.9999, Validation F1 Micro: 0.9999, Validation F1 Macro: 0.7605\n"
     ]
    },
    {
     "name": "stderr",
     "output_type": "stream",
     "text": [
      "                                                               \r"
     ]
    },
    {
     "name": "stdout",
     "output_type": "stream",
     "text": [
      "Epoch 130, Train Loss: 0.0050, Validation Loss: 0.0021, Validation F1: 0.9998, Validation F1 Micro: 0.9998, Validation F1 Macro: 0.7603\n"
     ]
    },
    {
     "name": "stderr",
     "output_type": "stream",
     "text": [
      "                                                               \r"
     ]
    },
    {
     "name": "stdout",
     "output_type": "stream",
     "text": [
      "Epoch 131, Train Loss: 0.0040, Validation Loss: 0.0018, Validation F1: 0.9998, Validation F1 Micro: 0.9998, Validation F1 Macro: 0.7603\n"
     ]
    },
    {
     "name": "stderr",
     "output_type": "stream",
     "text": [
      "                                                               \r"
     ]
    },
    {
     "name": "stdout",
     "output_type": "stream",
     "text": [
      "Epoch 132, Train Loss: 0.0040, Validation Loss: 0.0015, Validation F1: 0.9998, Validation F1 Micro: 0.9998, Validation F1 Macro: 0.7603\n"
     ]
    },
    {
     "name": "stderr",
     "output_type": "stream",
     "text": [
      "                                                               \r"
     ]
    },
    {
     "name": "stdout",
     "output_type": "stream",
     "text": [
      "Epoch 133, Train Loss: 0.0034, Validation Loss: 0.0014, Validation F1: 0.9998, Validation F1 Micro: 0.9998, Validation F1 Macro: 0.7603\n"
     ]
    },
    {
     "name": "stderr",
     "output_type": "stream",
     "text": [
      "                                                               \r"
     ]
    },
    {
     "name": "stdout",
     "output_type": "stream",
     "text": [
      "Epoch 134, Train Loss: 0.0155, Validation Loss: 0.0015, Validation F1: 0.9998, Validation F1 Micro: 0.9998, Validation F1 Macro: 0.9482\n"
     ]
    },
    {
     "name": "stderr",
     "output_type": "stream",
     "text": [
      "                                                               \r"
     ]
    },
    {
     "name": "stdout",
     "output_type": "stream",
     "text": [
      "Epoch 135, Train Loss: 0.0048, Validation Loss: 0.0017, Validation F1: 0.9998, Validation F1 Micro: 0.9998, Validation F1 Macro: 0.9204\n"
     ]
    },
    {
     "name": "stderr",
     "output_type": "stream",
     "text": [
      "                                                               \r"
     ]
    },
    {
     "name": "stdout",
     "output_type": "stream",
     "text": [
      "Epoch 136, Train Loss: 0.0051, Validation Loss: 0.0019, Validation F1: 0.9998, Validation F1 Micro: 0.9998, Validation F1 Macro: 0.9086\n"
     ]
    },
    {
     "name": "stderr",
     "output_type": "stream",
     "text": [
      "                                                               \r"
     ]
    },
    {
     "name": "stdout",
     "output_type": "stream",
     "text": [
      "Epoch 137, Train Loss: 0.0044, Validation Loss: 0.0018, Validation F1: 0.9998, Validation F1 Micro: 0.9998, Validation F1 Macro: 0.9421\n"
     ]
    },
    {
     "name": "stderr",
     "output_type": "stream",
     "text": [
      "                                                               \r"
     ]
    },
    {
     "name": "stdout",
     "output_type": "stream",
     "text": [
      "Epoch 138, Train Loss: 0.0054, Validation Loss: 0.0017, Validation F1: 0.9999, Validation F1 Micro: 0.9999, Validation F1 Macro: 0.7604\n"
     ]
    },
    {
     "name": "stderr",
     "output_type": "stream",
     "text": [
      "                                                               \r"
     ]
    },
    {
     "name": "stdout",
     "output_type": "stream",
     "text": [
      "Epoch 139, Train Loss: 0.0046, Validation Loss: 0.0017, Validation F1: 0.9998, Validation F1 Micro: 0.9998, Validation F1 Macro: 0.7621\n"
     ]
    },
    {
     "name": "stderr",
     "output_type": "stream",
     "text": [
      "                                                               \r"
     ]
    },
    {
     "name": "stdout",
     "output_type": "stream",
     "text": [
      "Epoch 140, Train Loss: 0.0042, Validation Loss: 0.0017, Validation F1: 0.9998, Validation F1 Micro: 0.9998, Validation F1 Macro: 0.7621\n"
     ]
    },
    {
     "name": "stderr",
     "output_type": "stream",
     "text": [
      "                                                               \r"
     ]
    },
    {
     "name": "stdout",
     "output_type": "stream",
     "text": [
      "Epoch 141, Train Loss: 0.0046, Validation Loss: 0.0016, Validation F1: 0.9998, Validation F1 Micro: 0.9998, Validation F1 Macro: 0.9549\n"
     ]
    },
    {
     "name": "stderr",
     "output_type": "stream",
     "text": [
      "                                                               \r"
     ]
    },
    {
     "name": "stdout",
     "output_type": "stream",
     "text": [
      "Epoch 142, Train Loss: 0.0041, Validation Loss: 0.0016, Validation F1: 0.9998, Validation F1 Micro: 0.9998, Validation F1 Macro: 0.9549\n"
     ]
    },
    {
     "name": "stderr",
     "output_type": "stream",
     "text": [
      "                                                               \r"
     ]
    },
    {
     "name": "stdout",
     "output_type": "stream",
     "text": [
      "Epoch 143, Train Loss: 0.0046, Validation Loss: 0.0015, Validation F1: 0.9998, Validation F1 Micro: 0.9998, Validation F1 Macro: 0.9549\n"
     ]
    },
    {
     "name": "stderr",
     "output_type": "stream",
     "text": [
      "                                                               \r"
     ]
    },
    {
     "name": "stdout",
     "output_type": "stream",
     "text": [
      "Epoch 144, Train Loss: 0.0037, Validation Loss: 0.0015, Validation F1: 0.9999, Validation F1 Micro: 0.9999, Validation F1 Macro: 0.7622\n"
     ]
    },
    {
     "name": "stderr",
     "output_type": "stream",
     "text": [
      "                                                               \r"
     ]
    },
    {
     "name": "stdout",
     "output_type": "stream",
     "text": [
      "Epoch 145, Train Loss: 0.0044, Validation Loss: 0.0016, Validation F1: 0.9999, Validation F1 Micro: 0.9999, Validation F1 Macro: 0.7622\n"
     ]
    },
    {
     "name": "stderr",
     "output_type": "stream",
     "text": [
      "                                                               \r"
     ]
    },
    {
     "name": "stdout",
     "output_type": "stream",
     "text": [
      "Epoch 146, Train Loss: 0.0042, Validation Loss: 0.0017, Validation F1: 0.9999, Validation F1 Micro: 0.9999, Validation F1 Macro: 0.7622\n"
     ]
    },
    {
     "name": "stderr",
     "output_type": "stream",
     "text": [
      "                                                               \r"
     ]
    },
    {
     "name": "stdout",
     "output_type": "stream",
     "text": [
      "Epoch 147, Train Loss: 0.0037, Validation Loss: 0.0018, Validation F1: 0.9999, Validation F1 Micro: 0.9999, Validation F1 Macro: 0.7622\n"
     ]
    },
    {
     "name": "stderr",
     "output_type": "stream",
     "text": [
      "                                                               \r"
     ]
    },
    {
     "name": "stdout",
     "output_type": "stream",
     "text": [
      "Epoch 148, Train Loss: 0.0036, Validation Loss: 0.0018, Validation F1: 0.9998, Validation F1 Micro: 0.9998, Validation F1 Macro: 0.7621\n"
     ]
    },
    {
     "name": "stderr",
     "output_type": "stream",
     "text": [
      "                                                               \r"
     ]
    },
    {
     "name": "stdout",
     "output_type": "stream",
     "text": [
      "Epoch 149, Train Loss: 0.0037, Validation Loss: 0.0018, Validation F1: 0.9999, Validation F1 Micro: 0.9999, Validation F1 Macro: 0.7622\n"
     ]
    },
    {
     "name": "stderr",
     "output_type": "stream",
     "text": [
      "                                                               \r"
     ]
    },
    {
     "name": "stdout",
     "output_type": "stream",
     "text": [
      "Epoch 150, Train Loss: 0.0038, Validation Loss: 0.0016, Validation F1: 0.9999, Validation F1 Micro: 0.9999, Validation F1 Macro: 0.7622\n"
     ]
    },
    {
     "name": "stderr",
     "output_type": "stream",
     "text": [
      "                                                               \r"
     ]
    },
    {
     "name": "stdout",
     "output_type": "stream",
     "text": [
      "Epoch 151 Saved best model. Best F1: 0.9999148795712391\n",
      "Epoch 151, Train Loss: 0.0049, Validation Loss: 0.0016, Validation F1: 0.9999, Validation F1 Micro: 0.9999, Validation F1 Macro: 0.7624\n"
     ]
    },
    {
     "name": "stderr",
     "output_type": "stream",
     "text": [
      "                                                               \r"
     ]
    },
    {
     "name": "stdout",
     "output_type": "stream",
     "text": [
      "Epoch 152, Train Loss: 0.0046, Validation Loss: 0.0015, Validation F1: 0.9999, Validation F1 Micro: 0.9999, Validation F1 Macro: 0.7624\n"
     ]
    },
    {
     "name": "stderr",
     "output_type": "stream",
     "text": [
      "                                                               \r"
     ]
    },
    {
     "name": "stdout",
     "output_type": "stream",
     "text": [
      "Epoch 153 Saved best model. Best F1: 0.9999383493679915\n",
      "Epoch 153, Train Loss: 0.0036, Validation Loss: 0.0015, Validation F1: 0.9999, Validation F1 Micro: 0.9999, Validation F1 Macro: 0.7625\n"
     ]
    },
    {
     "name": "stderr",
     "output_type": "stream",
     "text": [
      "                                                               \r"
     ]
    },
    {
     "name": "stdout",
     "output_type": "stream",
     "text": [
      "Epoch 154, Train Loss: 0.0038, Validation Loss: 0.0014, Validation F1: 0.9999, Validation F1 Micro: 0.9999, Validation F1 Macro: 0.7625\n"
     ]
    },
    {
     "name": "stderr",
     "output_type": "stream",
     "text": [
      "                                                               \r"
     ]
    },
    {
     "name": "stdout",
     "output_type": "stream",
     "text": [
      "Epoch 155, Train Loss: 0.0036, Validation Loss: 0.0014, Validation F1: 0.9999, Validation F1 Micro: 0.9999, Validation F1 Macro: 0.7625\n"
     ]
    },
    {
     "name": "stderr",
     "output_type": "stream",
     "text": [
      "                                                               \r"
     ]
    },
    {
     "name": "stdout",
     "output_type": "stream",
     "text": [
      "Epoch 156, Train Loss: 0.0036, Validation Loss: 0.0014, Validation F1: 0.9999, Validation F1 Micro: 0.9999, Validation F1 Macro: 0.7625\n"
     ]
    },
    {
     "name": "stderr",
     "output_type": "stream",
     "text": [
      "                                                               \r"
     ]
    },
    {
     "name": "stdout",
     "output_type": "stream",
     "text": [
      "Epoch 157, Train Loss: 0.0038, Validation Loss: 0.0014, Validation F1: 0.9999, Validation F1 Micro: 0.9999, Validation F1 Macro: 0.7625\n"
     ]
    },
    {
     "name": "stderr",
     "output_type": "stream",
     "text": [
      "                                                               \r"
     ]
    },
    {
     "name": "stdout",
     "output_type": "stream",
     "text": [
      "Epoch 158, Train Loss: 0.0043, Validation Loss: 0.0014, Validation F1: 0.9999, Validation F1 Micro: 0.9999, Validation F1 Macro: 0.7625\n"
     ]
    },
    {
     "name": "stderr",
     "output_type": "stream",
     "text": [
      "                                                               \r"
     ]
    },
    {
     "name": "stdout",
     "output_type": "stream",
     "text": [
      "Epoch 159, Train Loss: 0.0038, Validation Loss: 0.0015, Validation F1: 0.9999, Validation F1 Micro: 0.9999, Validation F1 Macro: 0.7624\n"
     ]
    },
    {
     "name": "stderr",
     "output_type": "stream",
     "text": [
      "                                                               \r"
     ]
    },
    {
     "name": "stdout",
     "output_type": "stream",
     "text": [
      "Epoch 160, Train Loss: 0.0036, Validation Loss: 0.0016, Validation F1: 0.9999, Validation F1 Micro: 0.9999, Validation F1 Macro: 0.7624\n"
     ]
    },
    {
     "name": "stderr",
     "output_type": "stream",
     "text": [
      "                                                               \r"
     ]
    },
    {
     "name": "stdout",
     "output_type": "stream",
     "text": [
      "Epoch 161, Train Loss: 0.0043, Validation Loss: 0.0016, Validation F1: 0.9999, Validation F1 Micro: 0.9999, Validation F1 Macro: 0.7624\n"
     ]
    },
    {
     "name": "stderr",
     "output_type": "stream",
     "text": [
      "                                                               \r"
     ]
    },
    {
     "name": "stdout",
     "output_type": "stream",
     "text": [
      "Epoch 162, Train Loss: 0.0047, Validation Loss: 0.0016, Validation F1: 0.9999, Validation F1 Micro: 0.9999, Validation F1 Macro: 0.7624\n"
     ]
    },
    {
     "name": "stderr",
     "output_type": "stream",
     "text": [
      "                                                               \r"
     ]
    },
    {
     "name": "stdout",
     "output_type": "stream",
     "text": [
      "Epoch 163, Train Loss: 0.0030, Validation Loss: 0.0015, Validation F1: 0.9999, Validation F1 Micro: 0.9999, Validation F1 Macro: 0.7624\n"
     ]
    },
    {
     "name": "stderr",
     "output_type": "stream",
     "text": [
      "                                                               \r"
     ]
    },
    {
     "name": "stdout",
     "output_type": "stream",
     "text": [
      "Epoch 164, Train Loss: 0.0033, Validation Loss: 0.0015, Validation F1: 0.9999, Validation F1 Micro: 0.9999, Validation F1 Macro: 0.7624\n"
     ]
    },
    {
     "name": "stderr",
     "output_type": "stream",
     "text": [
      "                                                               \r"
     ]
    },
    {
     "name": "stdout",
     "output_type": "stream",
     "text": [
      "Epoch 165, Train Loss: 0.0035, Validation Loss: 0.0014, Validation F1: 0.9999, Validation F1 Micro: 0.9999, Validation F1 Macro: 0.7624\n"
     ]
    },
    {
     "name": "stderr",
     "output_type": "stream",
     "text": [
      "                                                               \r"
     ]
    },
    {
     "name": "stdout",
     "output_type": "stream",
     "text": [
      "Epoch 166, Train Loss: 0.0033, Validation Loss: 0.0014, Validation F1: 0.9999, Validation F1 Micro: 0.9999, Validation F1 Macro: 0.7624\n"
     ]
    },
    {
     "name": "stderr",
     "output_type": "stream",
     "text": [
      "                                                               \r"
     ]
    },
    {
     "name": "stdout",
     "output_type": "stream",
     "text": [
      "Epoch 167, Train Loss: 0.0039, Validation Loss: 0.0014, Validation F1: 0.9999, Validation F1 Micro: 0.9999, Validation F1 Macro: 0.7624\n"
     ]
    },
    {
     "name": "stderr",
     "output_type": "stream",
     "text": [
      "                                                               \r"
     ]
    },
    {
     "name": "stdout",
     "output_type": "stream",
     "text": [
      "Epoch 168, Train Loss: 0.0033, Validation Loss: 0.0014, Validation F1: 0.9999, Validation F1 Micro: 0.9999, Validation F1 Macro: 0.7625\n"
     ]
    },
    {
     "name": "stderr",
     "output_type": "stream",
     "text": [
      "                                                               \r"
     ]
    },
    {
     "name": "stdout",
     "output_type": "stream",
     "text": [
      "Epoch 169, Train Loss: 0.0034, Validation Loss: 0.0013, Validation F1: 0.9999, Validation F1 Micro: 0.9999, Validation F1 Macro: 0.7625\n"
     ]
    },
    {
     "name": "stderr",
     "output_type": "stream",
     "text": [
      "                                                               \r"
     ]
    },
    {
     "name": "stdout",
     "output_type": "stream",
     "text": [
      "Epoch 170, Train Loss: 0.0033, Validation Loss: 0.0013, Validation F1: 0.9999, Validation F1 Micro: 0.9999, Validation F1 Macro: 0.7625\n"
     ]
    },
    {
     "name": "stderr",
     "output_type": "stream",
     "text": [
      "                                                               \r"
     ]
    },
    {
     "name": "stdout",
     "output_type": "stream",
     "text": [
      "Epoch 171, Train Loss: 0.0038, Validation Loss: 0.0013, Validation F1: 0.9999, Validation F1 Micro: 0.9999, Validation F1 Macro: 0.9509\n"
     ]
    },
    {
     "name": "stderr",
     "output_type": "stream",
     "text": [
      "                                                               \r"
     ]
    },
    {
     "name": "stdout",
     "output_type": "stream",
     "text": [
      "Epoch 172, Train Loss: 0.0033, Validation Loss: 0.0014, Validation F1: 0.9999, Validation F1 Micro: 0.9999, Validation F1 Macro: 0.9508\n"
     ]
    },
    {
     "name": "stderr",
     "output_type": "stream",
     "text": [
      "                                                               \r"
     ]
    },
    {
     "name": "stdout",
     "output_type": "stream",
     "text": [
      "Epoch 173, Train Loss: 0.0044, Validation Loss: 0.0014, Validation F1: 0.9999, Validation F1 Micro: 0.9999, Validation F1 Macro: 0.9508\n"
     ]
    },
    {
     "name": "stderr",
     "output_type": "stream",
     "text": [
      "                                                               \r"
     ]
    },
    {
     "name": "stdout",
     "output_type": "stream",
     "text": [
      "Epoch 174, Train Loss: 0.0034, Validation Loss: 0.0014, Validation F1: 0.9999, Validation F1 Micro: 0.9999, Validation F1 Macro: 0.9508\n"
     ]
    },
    {
     "name": "stderr",
     "output_type": "stream",
     "text": [
      "                                                               \r"
     ]
    },
    {
     "name": "stdout",
     "output_type": "stream",
     "text": [
      "Epoch 175, Train Loss: 0.0042, Validation Loss: 0.0014, Validation F1: 0.9999, Validation F1 Micro: 0.9999, Validation F1 Macro: 0.9508\n"
     ]
    },
    {
     "name": "stderr",
     "output_type": "stream",
     "text": [
      "                                                               \r"
     ]
    },
    {
     "name": "stdout",
     "output_type": "stream",
     "text": [
      "Epoch 176, Train Loss: 0.0031, Validation Loss: 0.0014, Validation F1: 0.9999, Validation F1 Micro: 0.9999, Validation F1 Macro: 0.7624\n"
     ]
    },
    {
     "name": "stderr",
     "output_type": "stream",
     "text": [
      "                                                               \r"
     ]
    },
    {
     "name": "stdout",
     "output_type": "stream",
     "text": [
      "Epoch 177, Train Loss: 0.0033, Validation Loss: 0.0014, Validation F1: 0.9999, Validation F1 Micro: 0.9999, Validation F1 Macro: 0.7624\n"
     ]
    },
    {
     "name": "stderr",
     "output_type": "stream",
     "text": [
      "                                                               \r"
     ]
    },
    {
     "name": "stdout",
     "output_type": "stream",
     "text": [
      "Epoch 178, Train Loss: 0.0044, Validation Loss: 0.0014, Validation F1: 0.9999, Validation F1 Micro: 0.9999, Validation F1 Macro: 0.7624\n"
     ]
    },
    {
     "name": "stderr",
     "output_type": "stream",
     "text": [
      "                                                               \r"
     ]
    },
    {
     "name": "stdout",
     "output_type": "stream",
     "text": [
      "Epoch 179, Train Loss: 0.0043, Validation Loss: 0.0014, Validation F1: 0.9999, Validation F1 Micro: 0.9999, Validation F1 Macro: 0.7624\n"
     ]
    },
    {
     "name": "stderr",
     "output_type": "stream",
     "text": [
      "                                                               \r"
     ]
    },
    {
     "name": "stdout",
     "output_type": "stream",
     "text": [
      "Epoch 180, Train Loss: 0.0035, Validation Loss: 0.0014, Validation F1: 0.9999, Validation F1 Micro: 0.9999, Validation F1 Macro: 0.7624\n"
     ]
    },
    {
     "name": "stderr",
     "output_type": "stream",
     "text": [
      "                                                               \r"
     ]
    },
    {
     "name": "stdout",
     "output_type": "stream",
     "text": [
      "Epoch 181 Saved best model. Best F1: 0.9999426128945773\n",
      "Epoch 181, Train Loss: 0.0031, Validation Loss: 0.0014, Validation F1: 0.9999, Validation F1 Micro: 0.9999, Validation F1 Macro: 0.7625\n"
     ]
    },
    {
     "name": "stderr",
     "output_type": "stream",
     "text": [
      "                                                               \r"
     ]
    },
    {
     "name": "stdout",
     "output_type": "stream",
     "text": [
      "Epoch 182, Train Loss: 0.0042, Validation Loss: 0.0014, Validation F1: 0.9999, Validation F1 Micro: 0.9999, Validation F1 Macro: 0.7625\n"
     ]
    },
    {
     "name": "stderr",
     "output_type": "stream",
     "text": [
      "                                                               \r"
     ]
    },
    {
     "name": "stdout",
     "output_type": "stream",
     "text": [
      "Epoch 183, Train Loss: 0.0043, Validation Loss: 0.0014, Validation F1: 0.9999, Validation F1 Micro: 0.9999, Validation F1 Macro: 0.7625\n"
     ]
    },
    {
     "name": "stderr",
     "output_type": "stream",
     "text": [
      "                                                               \r"
     ]
    },
    {
     "name": "stdout",
     "output_type": "stream",
     "text": [
      "Epoch 184, Train Loss: 0.0040, Validation Loss: 0.0014, Validation F1: 0.9999, Validation F1 Micro: 0.9999, Validation F1 Macro: 0.7625\n"
     ]
    },
    {
     "name": "stderr",
     "output_type": "stream",
     "text": [
      "                                                               \r"
     ]
    },
    {
     "name": "stdout",
     "output_type": "stream",
     "text": [
      "Epoch 185, Train Loss: 0.0033, Validation Loss: 0.0014, Validation F1: 0.9999, Validation F1 Micro: 0.9999, Validation F1 Macro: 0.7625\n"
     ]
    },
    {
     "name": "stderr",
     "output_type": "stream",
     "text": [
      "                                                               \r"
     ]
    },
    {
     "name": "stdout",
     "output_type": "stream",
     "text": [
      "Epoch 186, Train Loss: 0.0032, Validation Loss: 0.0014, Validation F1: 0.9999, Validation F1 Micro: 0.9999, Validation F1 Macro: 0.7625\n"
     ]
    },
    {
     "name": "stderr",
     "output_type": "stream",
     "text": [
      "                                                               \r"
     ]
    },
    {
     "name": "stdout",
     "output_type": "stream",
     "text": [
      "Epoch 187, Train Loss: 0.0036, Validation Loss: 0.0014, Validation F1: 0.9999, Validation F1 Micro: 0.9999, Validation F1 Macro: 0.7625\n"
     ]
    },
    {
     "name": "stderr",
     "output_type": "stream",
     "text": [
      "                                                               \r"
     ]
    },
    {
     "name": "stdout",
     "output_type": "stream",
     "text": [
      "Epoch 188, Train Loss: 0.0037, Validation Loss: 0.0014, Validation F1: 0.9999, Validation F1 Micro: 0.9999, Validation F1 Macro: 0.7625\n"
     ]
    },
    {
     "name": "stderr",
     "output_type": "stream",
     "text": [
      "                                                               \r"
     ]
    },
    {
     "name": "stdout",
     "output_type": "stream",
     "text": [
      "Epoch 189, Train Loss: 0.0040, Validation Loss: 0.0014, Validation F1: 0.9999, Validation F1 Micro: 0.9999, Validation F1 Macro: 0.7625\n"
     ]
    },
    {
     "name": "stderr",
     "output_type": "stream",
     "text": [
      "                                                               \r"
     ]
    },
    {
     "name": "stdout",
     "output_type": "stream",
     "text": [
      "Epoch 190, Train Loss: 0.0036, Validation Loss: 0.0014, Validation F1: 0.9999, Validation F1 Micro: 0.9999, Validation F1 Macro: 0.7625\n"
     ]
    },
    {
     "name": "stderr",
     "output_type": "stream",
     "text": [
      "                                                               \r"
     ]
    },
    {
     "name": "stdout",
     "output_type": "stream",
     "text": [
      "Epoch 191, Train Loss: 0.0040, Validation Loss: 0.0014, Validation F1: 0.9999, Validation F1 Micro: 0.9999, Validation F1 Macro: 0.7625\n"
     ]
    },
    {
     "name": "stderr",
     "output_type": "stream",
     "text": [
      "                                                               \r"
     ]
    },
    {
     "name": "stdout",
     "output_type": "stream",
     "text": [
      "Epoch 192, Train Loss: 0.0031, Validation Loss: 0.0014, Validation F1: 0.9999, Validation F1 Micro: 0.9999, Validation F1 Macro: 0.7625\n"
     ]
    },
    {
     "name": "stderr",
     "output_type": "stream",
     "text": [
      "                                                               \r"
     ]
    },
    {
     "name": "stdout",
     "output_type": "stream",
     "text": [
      "Epoch 193, Train Loss: 0.0032, Validation Loss: 0.0014, Validation F1: 0.9999, Validation F1 Micro: 0.9999, Validation F1 Macro: 0.7625\n"
     ]
    },
    {
     "name": "stderr",
     "output_type": "stream",
     "text": [
      "                                                               \r"
     ]
    },
    {
     "name": "stdout",
     "output_type": "stream",
     "text": [
      "Epoch 194, Train Loss: 0.0031, Validation Loss: 0.0014, Validation F1: 0.9999, Validation F1 Micro: 0.9999, Validation F1 Macro: 0.7625\n"
     ]
    },
    {
     "name": "stderr",
     "output_type": "stream",
     "text": [
      "                                                               \r"
     ]
    },
    {
     "name": "stdout",
     "output_type": "stream",
     "text": [
      "Epoch 195, Train Loss: 0.0035, Validation Loss: 0.0014, Validation F1: 0.9999, Validation F1 Micro: 0.9999, Validation F1 Macro: 0.7625\n"
     ]
    },
    {
     "name": "stderr",
     "output_type": "stream",
     "text": [
      "                                                               \r"
     ]
    },
    {
     "name": "stdout",
     "output_type": "stream",
     "text": [
      "Epoch 196, Train Loss: 0.0031, Validation Loss: 0.0014, Validation F1: 0.9999, Validation F1 Micro: 0.9999, Validation F1 Macro: 0.7625\n"
     ]
    },
    {
     "name": "stderr",
     "output_type": "stream",
     "text": [
      "                                                               \r"
     ]
    },
    {
     "name": "stdout",
     "output_type": "stream",
     "text": [
      "Epoch 197, Train Loss: 0.0031, Validation Loss: 0.0014, Validation F1: 0.9999, Validation F1 Micro: 0.9999, Validation F1 Macro: 0.7625\n"
     ]
    },
    {
     "name": "stderr",
     "output_type": "stream",
     "text": [
      "                                                               \r"
     ]
    },
    {
     "name": "stdout",
     "output_type": "stream",
     "text": [
      "Epoch 198, Train Loss: 0.0035, Validation Loss: 0.0014, Validation F1: 0.9999, Validation F1 Micro: 0.9999, Validation F1 Macro: 0.7625\n"
     ]
    },
    {
     "name": "stderr",
     "output_type": "stream",
     "text": [
      "                                                               \r"
     ]
    },
    {
     "name": "stdout",
     "output_type": "stream",
     "text": [
      "Epoch 199, Train Loss: 0.0034, Validation Loss: 0.0014, Validation F1: 0.9999, Validation F1 Micro: 0.9999, Validation F1 Macro: 0.7625\n",
      "Model training completed and saved.\n"
     ]
    }
   ],
   "source": [
    "# Best parameters from the grid search\n",
    "best_hidden_dim = 256  # Replace with the best hidden_dim found\n",
    "best_learning_rate = 0.01  # Replace with the best learning_rate found\n",
    "best_drop_out = 0.3  # Replace with the best drop_out found\n",
    "if FIRST_RUN:\n",
    "\n",
    "    max_epochs = 200\n",
    "    # patience = 10\n",
    "\n",
    "    print(\"Number of train graphs: \", len(train_graph_dataset))\n",
    "\n",
    "    # Initialize the model with the best parameters\n",
    "    model = EGraphSAGE(node_in_channels=num_features, \n",
    "                    edge_in_channels=num_features,\n",
    "                    hidden_channels=best_hidden_dim,\n",
    "                    dropout = best_drop_out,\n",
    "                    out_channels=num_classes).to(device)\n",
    "\n",
    "    model.apply(init_weights)\n",
    "\n",
    "    # Normalize class weights\n",
    "    class_weights = th.FloatTensor(train_graph_dataset.class_weights).to(device)\n",
    "    print(\"Class weights:\", class_weights)\n",
    "\n",
    "    # Define the loss function and optimizer\n",
    "    criterion = nn.CrossEntropyLoss(weight=class_weights)\n",
    "    optimizer = th.optim.Adam(model.parameters(), lr=best_learning_rate)\n",
    "    scheduler = th.optim.lr_scheduler.ReduceLROnPlateau(\n",
    "        optimizer,\n",
    "        mode='min',\n",
    "        factor=0.6,\n",
    "        patience=5,\n",
    "        min_lr=1e-6,\n",
    "    )\n",
    "\n",
    "    # ===== Load checkpoint if exists =====\n",
    "    start_epoch = 0\n",
    "    best_f1 = 0\n",
    "\n",
    "    # patience_counter = 0\n",
    "    best_val_loss = float('inf')\n",
    "    train_ended = False\n",
    "\n",
    "    train_loss_history = []\n",
    "    val_loss_history = []\n",
    "    val_f1_history = []\n",
    "    saved_model_epochs = []\n",
    "\n",
    "    if os.path.exists(checkpoint_path):\n",
    "        checkpoint = th.load(checkpoint_path)\n",
    "        model.load_state_dict(checkpoint['model_state_dict'])\n",
    "        optimizer.load_state_dict(checkpoint['optimizer_state_dict'])\n",
    "        scheduler.load_state_dict(checkpoint['scheduler_state_dict'])\n",
    "\n",
    "        train_ended = checkpoint['train_ended']\n",
    "        best_f1 = checkpoint['best_f1']\n",
    "\n",
    "        assert max_epochs == checkpoint['max_epochs'], \"Checkpoint max_epochs does not match the current setting.\"\n",
    "        # assert patience == checkpoint['patience'], \"Checkpoint patience does not match the current setting.\"\n",
    "\n",
    "        # patience_counter = checkpoint['patience_counter']\n",
    "        # best_val_loss = checkpoint['best_val_loss']\n",
    "\n",
    "        start_epoch = checkpoint['epoch'] + 1\n",
    "\n",
    "        train_loss_history = checkpoint['train_loss_history']\n",
    "        val_loss_history = checkpoint['val_loss_history']\n",
    "        val_f1_history = checkpoint['val_f1_history']\n",
    "        saved_model_epochs = checkpoint['saved_model_epochs']\n",
    "        print(f\"Resumed training from epoch {start_epoch}\")\n",
    "\n",
    "    if train_ended:\n",
    "        model.load_state_dict(th.load(best_model_path))\n",
    "        print(\"Training has already ended. Loaded the best model state.\")\n",
    "        print(\"Training history loaded successfully.\")\n",
    "\n",
    "    else:\n",
    "        # ===== Start Training =====\n",
    "        num_train_graphs = len(train_graph_dataset)\n",
    "        num_val_graphs = len(val_graph_dataset)\n",
    "\n",
    "        for epoch in range(start_epoch, max_epochs):\n",
    "\n",
    "            model.train()\n",
    "\n",
    "            train_loss = 0\n",
    "            val_loss = 0\n",
    "\n",
    "            optimizer.zero_grad()\n",
    "            for G_pyg_train in tqdm(train_graph_dataset, desc=\"Training\", leave=False):\n",
    "\n",
    "                # Move the graph data to the device\n",
    "                G_pyg_train = G_pyg_train.to(device)\n",
    "                G_pyg_train.edge_label = G_pyg_train.edge_label.to(device)\n",
    "                G_pyg_train.edge_attr = G_pyg_train.edge_attr.to(device)\n",
    "\n",
    "                out = model(G_pyg_train)\n",
    "                loss = criterion(out, G_pyg_train.edge_label) / num_train_graphs\n",
    "                \n",
    "                train_loss += loss.item()\n",
    "                loss.backward()\n",
    "\n",
    "            optimizer.step()\n",
    "            \n",
    "            test_label_list = []\n",
    "            pred_label_list = []\n",
    "\n",
    "            model.eval()\n",
    "            with th.no_grad():\n",
    "                for G_pyg_val in tqdm(val_graph_dataset, desc=\"Evaluation\", leave=False):\n",
    "                    G_pyg_val = G_pyg_val.to(device)\n",
    "                    G_pyg_val.edge_label = G_pyg_val.edge_label.to(device)\n",
    "                    G_pyg_val.edge_attr = G_pyg_val.edge_attr.to(device)\n",
    "\n",
    "                    out = model(G_pyg_val)\n",
    "                    loss = criterion(out, G_pyg_val.edge_label) / num_val_graphs\n",
    "                    val_loss += loss.item()\n",
    "\n",
    "                    test_label_list.append(G_pyg_val.edge_label.cpu())\n",
    "                    pred_label_list.append(out.argmax(dim=1).cpu())\n",
    "\n",
    "            test_label = th.cat(test_label_list)\n",
    "            pred_label = th.cat(pred_label_list)\n",
    "\n",
    "            val_f1 = f1_score(test_label, pred_label, average='weighted')\n",
    "            val_f1_micro = f1_score(test_label, pred_label, average='micro')\n",
    "            val_f1_macro = f1_score(test_label, pred_label, average='macro')\n",
    "\n",
    "            train_loss_history.append(train_loss)\n",
    "            val_loss_history.append(val_loss)\n",
    "            val_f1_history.append((val_f1, val_f1_micro, val_f1_macro))\n",
    "\n",
    "            # Schedule step\n",
    "            scheduler.step(val_loss)\n",
    "\n",
    "            if val_f1 > best_f1:\n",
    "                best_f1 = val_f1  # Update the best F1 score for this fold\n",
    "                best_model_state = model.state_dict()\n",
    "                saved_model_epochs.append(epoch)\n",
    "\n",
    "                save_checkpoint()\n",
    "                th.save(best_model_state, best_model_path)\n",
    "                print(f\"Epoch {epoch} Saved best model. Best F1:\", best_f1)\n",
    "\n",
    "            print(f'Epoch {epoch}, Train Loss: {train_loss:.4f}, Validation Loss: {val_loss:.4f}, Validation F1: {val_f1:.4f}, Validation F1 Micro: {val_f1_micro:.4f}, Validation F1 Macro: {val_f1_macro:.4f}')\n",
    "            \n",
    "            if epoch % 10 == 0:\n",
    "                save_checkpoint()\n",
    "\n",
    "            # # Early stopping condition\n",
    "            # if val_loss < best_val_loss:\n",
    "            #     best_val_loss = val_loss\n",
    "            #     patience_counter = 0\n",
    "            # else:\n",
    "            #     patience_counter += 1\n",
    "\n",
    "            # if patience_counter >= patience:\n",
    "            #     print(f\"\\n🛑 Early stopping triggered at epoch {epoch}.\")\n",
    "            #     train_ended = True\n",
    "            #     break\n",
    "\n",
    "        # Save the trained model\n",
    "        train_ended = True\n",
    "        save_checkpoint()\n",
    "        print(\"Model training completed and saved.\")"
   ]
  },
  {
   "cell_type": "code",
   "execution_count": 26,
   "id": "f64c2932",
   "metadata": {},
   "outputs": [],
   "source": [
    "def plot_training_process():\n",
    "    checkpoint = th.load(checkpoint_path)\n",
    "\n",
    "    train_loss_history = checkpoint['train_loss_history']\n",
    "    val_loss_history = checkpoint['val_loss_history']\n",
    "    val_f1_history = checkpoint['val_f1_history']\n",
    "    saved_model_epochs = checkpoint['saved_model_epochs']\n",
    "\n",
    "    fig, axs = plt.subplots(2, 1, figsize=(10, 8), sharex=True)\n",
    "\n",
    "    # Plot Train Loss\n",
    "    axs[0].plot(train_loss_history, label='Train Loss', color='blue')\n",
    "    axs[0].plot(val_loss_history, label='Validation Loss', color='red')\n",
    "    axs[0].set_ylabel('Train Loss')\n",
    "    axs[0].set_title('Training Loss')\n",
    "    axs[0].legend()\n",
    "    axs[0].grid()\n",
    "\n",
    "    val_f1_weighted_history = []\n",
    "    val_f1_micro_history = []\n",
    "    val_f1_macro_history = []\n",
    "\n",
    "    for val_f1_weighted, val_f1_micro, val_f1_macro in val_f1_history:\n",
    "        val_f1_weighted_history.append(val_f1_weighted)\n",
    "        val_f1_micro_history.append(val_f1_micro)\n",
    "        val_f1_macro_history.append(val_f1_macro)\n",
    "    \n",
    "    # Plot Validation F1\n",
    "\n",
    "    axs[1].plot(val_f1_weighted_history, label='Validation F1 Weighted', color='green')\n",
    "    axs[1].plot(val_f1_micro_history, label='Validation F1 Micro', color='blue')\n",
    "    axs[1].plot(val_f1_macro_history, label='Validation F1 Macro', color='red')\n",
    "    axs[1].set_xlabel('Epochs')\n",
    "    axs[1].set_ylabel('Validation F1')\n",
    "    axs[1].set_title('Validation F1 Score')\n",
    "    axs[1].legend()\n",
    "    axs[1].grid()\n",
    "\n",
    "    # Add scatter for saved model epochs (e.g., F1 weighted here)\n",
    "    axs[1].scatter(saved_model_epochs, [val_f1_weighted_history[i] for i in saved_model_epochs],\n",
    "                   color='black', marker='o', label='Saved Model')\n",
    "    axs[1].legend()\n",
    "\n",
    "    print(len(train_loss_history))\n",
    "\n",
    "    plt.tight_layout()\n",
    "    plt.show()"
   ]
  },
  {
   "cell_type": "code",
   "execution_count": 27,
   "id": "2572f236",
   "metadata": {},
   "outputs": [
    {
     "name": "stdout",
     "output_type": "stream",
     "text": [
      "200\n"
     ]
    },
    {
     "data": {
      "image/png": "[encoded data removed]",
      "text/plain": [
       "<Figure size 1000x800 with 2 Axes>"
      ]
     },
     "metadata": {},
     "output_type": "display_data"
    }
   ],
   "source": [
    "plot_training_process()"
   ]
  },
  {
   "cell_type": "code",
   "execution_count": 28,
   "id": "f060684d",
   "metadata": {},
   "outputs": [
    {
     "name": "stdout",
     "output_type": "stream",
     "text": [
      "Average, Min, and Max Degrees Across All Graphs:\n",
      "  Attack Class ['DDoS']:\n",
      "    Avg Out-Degree (src): 1.0004 | Min: 1 | Max: 119\n",
      "    Avg In-Degree (dst): 688.8361 | Min: 1 | Max: 1000\n",
      "    Influence: 0.0000 | Min: 0.0000 | Max: 14.1610\n",
      "  Attack Class ['DoS']:\n",
      "    Avg Out-Degree (src): 1.0001 | Min: 1 | Max: 34\n",
      "    Avg In-Degree (dst): 287.3696 | Min: 1 | Max: 1000\n",
      "    Influence: 0.0000 | Min: 0.0000 | Max: 1.1560\n",
      "  Attack Class ['Normal']:\n",
      "    Avg Out-Degree (src): 1.0149 | Min: 1 | Max: 2\n",
      "    Avg In-Degree (dst): 2.2667 | Min: 1 | Max: 20\n",
      "    Influence: 0.0005 | Min: 0.0000 | Max: 0.0040\n",
      "  Attack Class ['Reconnaissance']:\n",
      "    Avg Out-Degree (src): 5.6958 | Min: 1 | Max: 906\n",
      "    Avg In-Degree (dst): 1.4206 | Min: 1 | Max: 995\n",
      "    Influence: 0.0228 | Min: 0.0000 | Max: 820.8352\n"
     ]
    }
   ],
   "source": [
    "import torch\n",
    "from torch_geometric.utils import degree\n",
    "from collections import defaultdict\n",
    "\n",
    "def check_global_avg_degrees_per_class(graph_dataset):\n",
    "    # Dictionaries to hold total degree sums and counts per class\n",
    "    total_out_deg = defaultdict(float)\n",
    "    total_in_deg = defaultdict(float)\n",
    "    count_out_nodes = defaultdict(int)\n",
    "    count_in_nodes = defaultdict(int)\n",
    "    min_out_deg = defaultdict(lambda: float('inf'))\n",
    "    max_out_deg = defaultdict(lambda: float('-inf'))\n",
    "    min_in_deg = defaultdict(lambda: float('inf'))\n",
    "    max_in_deg = defaultdict(lambda: float('-inf'))\n",
    "\n",
    "    for graph in graph_dataset:\n",
    "        edge_index = graph.edge_index\n",
    "        edge_label = graph.edge_label\n",
    "        num_nodes = graph.num_nodes\n",
    "\n",
    "        unique_classes = torch.unique(edge_label)\n",
    "\n",
    "        for cls in unique_classes:\n",
    "            cls = int(cls)\n",
    "            mask = (edge_label == cls)\n",
    "\n",
    "            src_nodes = edge_index[0][mask]\n",
    "            dst_nodes = edge_index[1][mask]\n",
    "\n",
    "            out_deg = degree(src_nodes, num_nodes=num_nodes)\n",
    "            in_deg = degree(dst_nodes, num_nodes=num_nodes)\n",
    "\n",
    "            involved_src = out_deg > 0\n",
    "            involved_dst = in_deg > 0\n",
    "\n",
    "            total_out_deg[cls] += out_deg[involved_src].sum().item()\n",
    "            total_in_deg[cls] += in_deg[involved_dst].sum().item()\n",
    "            count_out_nodes[cls] += involved_src.sum().item()\n",
    "            count_in_nodes[cls] += involved_dst.sum().item()\n",
    "\n",
    "            if involved_src.any():\n",
    "                min_out_deg[cls] = min(min_out_deg[cls], out_deg[involved_src].min().item())\n",
    "                max_out_deg[cls] = max(max_out_deg[cls], out_deg[involved_src].max().item())\n",
    "            if involved_dst.any():\n",
    "                min_in_deg[cls] = min(min_in_deg[cls], in_deg[involved_dst].min().item())\n",
    "                max_in_deg[cls] = max(max_in_deg[cls], in_deg[involved_dst].max().item())\n",
    "\n",
    "    print(\"Average, Min, and Max Degrees Across All Graphs:\")\n",
    "    class_degree_report = {}\n",
    "    for cls in sorted(total_out_deg.keys()):\n",
    "        avg_out = total_out_deg[cls] / count_out_nodes[cls] if count_out_nodes[cls] > 0 else 0.0\n",
    "        avg_in = total_in_deg[cls] / count_in_nodes[cls] if count_in_nodes[cls] > 0 else 0.0\n",
    "        min_out = min_out_deg[cls] if min_out_deg[cls] != float('inf') else 0.0\n",
    "        max_out = max_out_deg[cls] if max_out_deg[cls] != float('-inf') else 0.0\n",
    "        min_in = min_in_deg[cls] if min_in_deg[cls] != float('inf') else 0.0\n",
    "        max_in = max_in_deg[cls] if max_in_deg[cls] != float('-inf') else 0.0\n",
    "\n",
    "        epsilon = 1e-6 # to avoid division by zero\n",
    "        avg_influence = (avg_out ** 2) / ((avg_in + epsilon) * WINDOW_SIZE)\n",
    "        max_influence = (max_out ** 2) / ((min_in + epsilon) * WINDOW_SIZE)\n",
    "        min_influence = (min_out ** 2) / ((max_in + epsilon) * WINDOW_SIZE)\n",
    "\n",
    "        print(f\"  Attack Class {le.inverse_transform([cls])}:\")\n",
    "        print(f\"    Avg Out-Degree (src): {avg_out:.4f} | Min: {min_out:.0f} | Max: {max_out:.0f}\")\n",
    "        print(f\"    Avg In-Degree (dst): {avg_in:.4f} | Min: {min_in:.0f} | Max: {max_in:.0f}\")\n",
    "        print(f\"    Influence: {avg_influence:.4f} | Min: {min_influence:.4f} | Max: {max_influence:.4f}\")\n",
    "\n",
    "        class_degree_report[le.inverse_transform([cls])[0]] = {\n",
    "            \"avg_out\": avg_out,\n",
    "            \"min_out\": min_out,\n",
    "            \"max_out\": max_out,\n",
    "            \"avg_in\": avg_in,\n",
    "            \"min_in\": min_in,\n",
    "            \"max_in\": max_in,\n",
    "            \"avg_influence\": avg_influence,\n",
    "            \"min_influence\": min_influence,\n",
    "            \"max_influence\": max_influence\n",
    "        }\n",
    "\n",
    "    return class_degree_report\n",
    "\n",
    "class_degree_report = check_global_avg_degrees_per_class(test_graph_dataset)"
   ]
  },
  {
   "cell_type": "code",
   "execution_count": 29,
   "id": "857f271a-612b-4cd6-a85a-e4236dec9d80",
   "metadata": {},
   "outputs": [
    {
     "name": "stdout",
     "output_type": "stream",
     "text": [
      "Number of test graphs:  552\n",
      "Loading model from /vol/bitbucket/shc20/FYP/GNN-Adversarial-Attack/Models/E_GraphSAGE_edge/BoT_IoT/saved/strat_window_endpoint_1000/best_model.pth\n",
      "inference start\n"
     ]
    },
    {
     "name": "stderr",
     "output_type": "stream",
     "text": [
      "Evaluation:   0%|          | 0/552 [00:00<?, ?it/s]"
     ]
    },
    {
     "name": "stderr",
     "output_type": "stream",
     "text": [
      "                                                              \r"
     ]
    },
    {
     "name": "stdout",
     "output_type": "stream",
     "text": [
      "Test Accuracy: 0.9979\n",
      "class_map ['DDoS' 'DoS' 'Normal' 'Reconnaissance' 'Theft']\n",
      "[[289986      0      4     10      0]\n",
      " [  1000 246997      2      1      0]\n",
      " [     0      1     66      1      0]\n",
      " [    51     12     40  13813     16]\n",
      " [     0      0      0      0      0]]\n",
      "                precision    recall  f1-score   support\n",
      "\n",
      "          DDoS     0.9964    1.0000    0.9982    290000\n",
      "           DoS     0.9999    0.9960    0.9979    248000\n",
      "        Normal     0.5893    0.9706    0.7333        68\n",
      "Reconnaissance     0.9991    0.9915    0.9953     13932\n",
      "         Theft     0.0000    0.0000    0.0000         0\n",
      "\n",
      "      accuracy                         0.9979    552000\n",
      "     macro avg     0.7170    0.7916    0.7449    552000\n",
      "  weighted avg     0.9980    0.9979    0.9980    552000\n",
      "\n"
     ]
    },
    {
     "name": "stderr",
     "output_type": "stream",
     "text": [
      "/vol/bitbucket/shc20/FYP/GNN-Adversarial-Attack/.venv/lib/python3.12/site-packages/sklearn/metrics/_classification.py:1565: UndefinedMetricWarning: Recall is ill-defined and being set to 0.0 in labels with no true samples. Use `zero_division` parameter to control this behavior.\n",
      "  _warn_prf(average, modifier, f\"{metric.capitalize()} is\", len(result))\n",
      "/vol/bitbucket/shc20/FYP/GNN-Adversarial-Attack/.venv/lib/python3.12/site-packages/sklearn/metrics/_classification.py:1565: UndefinedMetricWarning: Recall is ill-defined and being set to 0.0 in labels with no true samples. Use `zero_division` parameter to control this behavior.\n",
      "  _warn_prf(average, modifier, f\"{metric.capitalize()} is\", len(result))\n",
      "/vol/bitbucket/shc20/FYP/GNN-Adversarial-Attack/.venv/lib/python3.12/site-packages/sklearn/metrics/_classification.py:1565: UndefinedMetricWarning: Recall is ill-defined and being set to 0.0 in labels with no true samples. Use `zero_division` parameter to control this behavior.\n",
      "  _warn_prf(average, modifier, f\"{metric.capitalize()} is\", len(result))\n",
      "/vol/bitbucket/shc20/FYP/GNN-Adversarial-Attack/.venv/lib/python3.12/site-packages/sklearn/metrics/_classification.py:1565: UndefinedMetricWarning: Recall is ill-defined and being set to 0.0 in labels with no true samples. Use `zero_division` parameter to control this behavior.\n",
      "  _warn_prf(average, modifier, f\"{metric.capitalize()} is\", len(result))\n",
      "/vol/bitbucket/shc20/FYP/GNN-Adversarial-Attack/.venv/lib/python3.12/site-packages/sklearn/metrics/_classification.py:1565: UndefinedMetricWarning: Recall is ill-defined and being set to 0.0 in labels with no true samples. Use `zero_division` parameter to control this behavior.\n",
      "  _warn_prf(average, modifier, f\"{metric.capitalize()} is\", len(result))\n",
      "/vol/bitbucket/shc20/FYP/GNN-Adversarial-Attack/.venv/lib/python3.12/site-packages/sklearn/metrics/_classification.py:1565: UndefinedMetricWarning: Recall is ill-defined and being set to 0.0 in labels with no true samples. Use `zero_division` parameter to control this behavior.\n",
      "  _warn_prf(average, modifier, f\"{metric.capitalize()} is\", len(result))\n"
     ]
    }
   ],
   "source": [
    "from torch_geometric.utils import subgraph\n",
    "from torch_geometric.data import Data\n",
    "from sklearn.metrics import confusion_matrix\n",
    "from sklearn.metrics import classification_report\n",
    "\n",
    "def compute_accuracy(pred, labels):\n",
    "    return (pred.argmax(1) == labels).float().mean().item()\n",
    "\n",
    "def eval(dataset, adversarial=False):\n",
    "\n",
    "    # Check if dataset is a list of (data, label) tuples or just data objects\n",
    "    if isinstance(dataset[0], (list, tuple)):\n",
    "        data_obj = dataset[0][0]\n",
    "    else:\n",
    "        data_obj = dataset[0]\n",
    "\n",
    "    num_features = data_obj.edge_attr.shape[1]\n",
    "    best_model = EGraphSAGE(node_in_channels=num_features, \n",
    "                       edge_in_channels=num_features,\n",
    "                       hidden_channels=best_hidden_dim, \n",
    "                       out_channels=len(class_map)).to(device)\n",
    "\n",
    "    print(\"Loading model from\", best_model_path)\n",
    "    best_model.load_state_dict(th.load(best_model_path))\n",
    "\n",
    "    best_model.eval()\n",
    "\n",
    "    print(\"inference start\")\n",
    "    with th.no_grad():\n",
    "        all_pred_logits = []\n",
    "        all_test_labels = []\n",
    "        for G_pyg in tqdm(dataset, desc=\"Evaluation\", leave=False):\n",
    "            try:\n",
    "                # Move the graph data to the device\n",
    "                G_pyg = G_pyg.to(device)\n",
    "                G_pyg.edge_label = G_pyg.edge_label.to(device)\n",
    "                G_pyg.edge_attr = G_pyg.edge_attr.to(device)\n",
    "                out = best_model(G_pyg)\n",
    "                \n",
    "            except Exception as forward_error:\n",
    "                print(f\"Error during forward/backward pass at {forward_error}\")\n",
    "\n",
    "            all_pred_logits.append(out.cpu())\n",
    "            all_test_labels.append(G_pyg.edge_label.cpu())\n",
    "\n",
    "        all_pred_logits = th.cat(all_pred_logits).to(device)\n",
    "        all_test_labels = th.cat(all_test_labels).to(device)\n",
    "        test_accuracy = compute_accuracy(all_pred_logits, all_test_labels)\n",
    "        print(f'Test Accuracy: {test_accuracy:.4f}')\n",
    "\n",
    "        pred_labels = all_pred_logits.argmax(dim=1).cpu()\n",
    "        all_test_labels = all_test_labels.cpu()\n",
    "    \n",
    "    if adversarial:\n",
    "\n",
    "        # Create a boolean mask where the label is NOT equal to the adversarial class\n",
    "        adversarial_mask = all_test_labels == ADVERSARIAL_CLASS_LABEL\n",
    "\n",
    "        # Print the class that the adversarial samples are classified as\n",
    "        cm_adversarial = confusion_matrix(all_test_labels[adversarial_mask], pred_labels[adversarial_mask], labels=range(len(class_map) + 1))\n",
    "        print(\"Adversarial confusion matrix:\", cm_adversarial)\n",
    "\n",
    "        # Apply the mask to both labels and predictions\n",
    "        all_test_labels = all_test_labels[~adversarial_mask]\n",
    "        pred_labels = pred_labels[~adversarial_mask]\n",
    "\n",
    "    print(\"class_map\", class_map)\n",
    "    # Generate a report\n",
    "    cm = confusion_matrix(all_test_labels, pred_labels, labels=range(len(class_map)))\n",
    "    print(cm)\n",
    "\n",
    "    report = classification_report(all_test_labels, pred_labels, target_names=class_map, digits=4, labels=range(len(class_map)))\n",
    "    print(report)\n",
    "    \n",
    "    return classification_report(all_test_labels, pred_labels, target_names=class_map, digits=4, output_dict=True, labels=range(len(class_map)))\n",
    "\n",
    "\n",
    "print(\"Number of test graphs: \", len(test_graph_dataset))\n",
    "normal_report = eval(test_graph_dataset)\n"
   ]
  },
  {
   "cell_type": "code",
   "execution_count": 30,
   "id": "cff736d0",
   "metadata": {},
   "outputs": [],
   "source": [
    "def inject_traffic_to_node(graph, ratio=0.1, num_injected_nodes=1, to_node_type='both', random_seed=42):\n",
    "    edge_index = graph.edge_index.clone()\n",
    "    edge_attr = graph.edge_attr.clone()\n",
    "    edge_label = graph.edge_label.clone()\n",
    "    x = graph.x.clone()\n",
    "\n",
    "    num_edges = edge_index.size(1)\n",
    "    feature_dim = graph.x.size(1)\n",
    "\n",
    "    # Get all src nodes\n",
    "    if to_node_type == 'src':\n",
    "         to_nodes = edge_index[0]\n",
    "\n",
    "    elif to_node_type == 'dst':\n",
    "         to_nodes = edge_index[1]\n",
    "\n",
    "    elif to_node_type == 'both':\n",
    "         to_nodes = th.cat([edge_index[0], edge_index[1]])\n",
    "\n",
    "    else:\n",
    "        raise ValueError(\"to_node_type must be 'src', 'dst', or 'both'.\")\n",
    "\n",
    "    original_num_nodes = x.size(0)\n",
    "\n",
    "    new_node_feats = th.ones((num_injected_nodes, feature_dim))\n",
    "    x = th.cat([x, new_node_feats], dim=0)\n",
    "\n",
    "    # 4. Inject edges from injected nodes to attacker nodes\n",
    "    num_to_inject = max(1, int(ratio * num_edges))\n",
    "    new_edges = []\n",
    "    new_attrs = []\n",
    "    new_labels = []\n",
    "    \n",
    "    for i in range(num_to_inject):\n",
    "        rng = random.Random(random_seed + i)  # ensure different seed per iteration\n",
    "        src = rng.randint(original_num_nodes, original_num_nodes + num_injected_nodes - 1)  # from injected nodes\n",
    "        dst = rng.choice(to_nodes.tolist())  # to existing nodes\n",
    "\n",
    "        new_edges.append([src, dst])\n",
    "        attr = th.rand(feature_dim)  # random feature for the new edge\n",
    "        new_attrs.append(attr)\n",
    "        new_labels.append(ADVERSARIAL_CLASS_LABEL)\n",
    "\n",
    "    # Create a new empty graph to store the injected edges\n",
    "    new_graph = Data()\n",
    "\n",
    "    # 5. Merge into graph\n",
    "    if new_edges:\n",
    "        new_edges = th.tensor(new_edges, dtype=th.long).t().contiguous()\n",
    "        new_attrs = th.stack(new_attrs)\n",
    "        new_labels = th.tensor(new_labels, dtype=th.long)\n",
    "\n",
    "        new_graph.edge_index = th.cat([edge_index, new_edges], dim=1)\n",
    "        new_graph.edge_attr = th.cat([edge_attr, new_attrs], dim=0)\n",
    "        new_graph.edge_label = th.cat([edge_label, new_labels], dim=0)\n",
    "        new_graph.x = x\n",
    "\n",
    "    return new_graph\n",
    "\n"
   ]
  },
  {
   "cell_type": "code",
   "execution_count": 31,
   "id": "c0a4cf4a",
   "metadata": {},
   "outputs": [
    {
     "name": "stdout",
     "output_type": "stream",
     "text": [
      "Loading model from /vol/bitbucket/shc20/FYP/GNN-Adversarial-Attack/Models/E_GraphSAGE_edge/BoT_IoT/saved/strat_window_endpoint_1000/best_model.pth\n",
      "inference start\n"
     ]
    },
    {
     "name": "stderr",
     "output_type": "stream",
     "text": [
      "/vol/bitbucket/shc20/FYP/GNN-Adversarial-Attack/.venv/lib/python3.12/site-packages/sklearn/metrics/_classification.py:1565: UndefinedMetricWarning: Recall is ill-defined and being set to 0.0 in labels with no true samples. Use `zero_division` parameter to control this behavior.\n",
      "  _warn_prf(average, modifier, f\"{metric.capitalize()} is\", len(result))\n",
      "/vol/bitbucket/shc20/FYP/GNN-Adversarial-Attack/.venv/lib/python3.12/site-packages/sklearn/metrics/_classification.py:1565: UndefinedMetricWarning: Recall is ill-defined and being set to 0.0 in labels with no true samples. Use `zero_division` parameter to control this behavior.\n",
      "  _warn_prf(average, modifier, f\"{metric.capitalize()} is\", len(result))\n",
      "/vol/bitbucket/shc20/FYP/GNN-Adversarial-Attack/.venv/lib/python3.12/site-packages/sklearn/metrics/_classification.py:1565: UndefinedMetricWarning: Recall is ill-defined and being set to 0.0 in labels with no true samples. Use `zero_division` parameter to control this behavior.\n",
      "  _warn_prf(average, modifier, f\"{metric.capitalize()} is\", len(result))\n",
      "/vol/bitbucket/shc20/FYP/GNN-Adversarial-Attack/.venv/lib/python3.12/site-packages/sklearn/metrics/_classification.py:1565: UndefinedMetricWarning: Recall is ill-defined and being set to 0.0 in labels with no true samples. Use `zero_division` parameter to control this behavior.\n",
      "  _warn_prf(average, modifier, f\"{metric.capitalize()} is\", len(result))\n",
      "/vol/bitbucket/shc20/FYP/GNN-Adversarial-Attack/.venv/lib/python3.12/site-packages/sklearn/metrics/_classification.py:1565: UndefinedMetricWarning: Recall is ill-defined and being set to 0.0 in labels with no true samples. Use `zero_division` parameter to control this behavior.\n",
      "  _warn_prf(average, modifier, f\"{metric.capitalize()} is\", len(result))\n"
     ]
    },
    {
     "name": "stdout",
     "output_type": "stream",
     "text": [
      "Test Accuracy: 0.8921\n",
      "Adversarial confusion matrix: [[    0     0     0     0     0     0]\n",
      " [    0     0     0     0     0     0]\n",
      " [    0     0     0     0     0     0]\n",
      " [    0     0     0     0     0     0]\n",
      " [    0     0     0     0     0     0]\n",
      " [13385 10640    76 31099     0     0]]\n",
      "class_map ['DDoS' 'DoS' 'Normal' 'Reconnaissance' 'Theft']\n",
      "[[289986      0      4     10      0]\n",
      " [ 10091 237880      2     27      0]\n",
      " [     0      1     66      1      0]\n",
      " [   120      0     30  13766     16]\n",
      " [     0      0      0      0      0]]\n",
      "                precision    recall  f1-score   support\n",
      "\n",
      "          DDoS     0.9660    1.0000    0.9827    290000\n",
      "           DoS     1.0000    0.9592    0.9792    248000\n",
      "        Normal     0.6471    0.9706    0.7765        68\n",
      "Reconnaissance     0.9972    0.9881    0.9926     13932\n",
      "         Theft     0.0000    0.0000    0.0000         0\n",
      "\n",
      "      accuracy                         0.9813    552000\n",
      "     macro avg     0.7221    0.7836    0.7462    552000\n",
      "  weighted avg     0.9820    0.9813    0.9813    552000\n",
      "\n"
     ]
    },
    {
     "name": "stderr",
     "output_type": "stream",
     "text": [
      "/vol/bitbucket/shc20/FYP/GNN-Adversarial-Attack/.venv/lib/python3.12/site-packages/sklearn/metrics/_classification.py:1565: UndefinedMetricWarning: Recall is ill-defined and being set to 0.0 in labels with no true samples. Use `zero_division` parameter to control this behavior.\n",
      "  _warn_prf(average, modifier, f\"{metric.capitalize()} is\", len(result))\n"
     ]
    }
   ],
   "source": [
    "# Inject Attack Traffic to Attacker Nodes\n",
    "inject_both_graph_dataset = [inject_traffic_to_node(g.cpu(), 0.1, num_injected_nodes=1, to_node_type='both') for g in test_graph_dataset]\n",
    "inject_both_report = eval(inject_both_graph_dataset, adversarial=True)"
   ]
  },
  {
   "cell_type": "code",
   "execution_count": 32,
   "id": "90b60cd6",
   "metadata": {},
   "outputs": [
    {
     "name": "stdout",
     "output_type": "stream",
     "text": [
      "Loading model from /vol/bitbucket/shc20/FYP/GNN-Adversarial-Attack/Models/E_GraphSAGE_edge/BoT_IoT/saved/strat_window_endpoint_1000/best_model.pth\n",
      "inference start\n"
     ]
    },
    {
     "name": "stderr",
     "output_type": "stream",
     "text": [
      "/vol/bitbucket/shc20/FYP/GNN-Adversarial-Attack/.venv/lib/python3.12/site-packages/sklearn/metrics/_classification.py:1565: UndefinedMetricWarning: Recall is ill-defined and being set to 0.0 in labels with no true samples. Use `zero_division` parameter to control this behavior.\n",
      "  _warn_prf(average, modifier, f\"{metric.capitalize()} is\", len(result))\n",
      "/vol/bitbucket/shc20/FYP/GNN-Adversarial-Attack/.venv/lib/python3.12/site-packages/sklearn/metrics/_classification.py:1565: UndefinedMetricWarning: Recall is ill-defined and being set to 0.0 in labels with no true samples. Use `zero_division` parameter to control this behavior.\n",
      "  _warn_prf(average, modifier, f\"{metric.capitalize()} is\", len(result))\n",
      "/vol/bitbucket/shc20/FYP/GNN-Adversarial-Attack/.venv/lib/python3.12/site-packages/sklearn/metrics/_classification.py:1565: UndefinedMetricWarning: Recall is ill-defined and being set to 0.0 in labels with no true samples. Use `zero_division` parameter to control this behavior.\n",
      "  _warn_prf(average, modifier, f\"{metric.capitalize()} is\", len(result))\n",
      "/vol/bitbucket/shc20/FYP/GNN-Adversarial-Attack/.venv/lib/python3.12/site-packages/sklearn/metrics/_classification.py:1565: UndefinedMetricWarning: Recall is ill-defined and being set to 0.0 in labels with no true samples. Use `zero_division` parameter to control this behavior.\n",
      "  _warn_prf(average, modifier, f\"{metric.capitalize()} is\", len(result))\n",
      "/vol/bitbucket/shc20/FYP/GNN-Adversarial-Attack/.venv/lib/python3.12/site-packages/sklearn/metrics/_classification.py:1565: UndefinedMetricWarning: Recall is ill-defined and being set to 0.0 in labels with no true samples. Use `zero_division` parameter to control this behavior.\n",
      "  _warn_prf(average, modifier, f\"{metric.capitalize()} is\", len(result))\n"
     ]
    },
    {
     "name": "stdout",
     "output_type": "stream",
     "text": [
      "Test Accuracy: 0.8857\n",
      "Adversarial confusion matrix: [[    0     0     0     0     0     0]\n",
      " [    0     0     0     0     0     0]\n",
      " [    0     0     0     0     0     0]\n",
      " [    0     0     0     0     0     0]\n",
      " [    0     0     0     0     0     0]\n",
      " [ 1523    24   140 53513     0     0]]\n",
      "class_map ['DDoS' 'DoS' 'Normal' 'Reconnaissance' 'Theft']\n",
      "[[289986      0      4     10      0]\n",
      " [ 14023 233929      2     46      0]\n",
      " [     0      1     66      1      0]\n",
      " [    76      0     34  13806     16]\n",
      " [     0      0      0      0      0]]\n",
      "                precision    recall  f1-score   support\n",
      "\n",
      "          DDoS     0.9536    1.0000    0.9762    290000\n",
      "           DoS     1.0000    0.9433    0.9708    248000\n",
      "        Normal     0.6226    0.9706    0.7586        68\n",
      "Reconnaissance     0.9959    0.9910    0.9934     13932\n",
      "         Theft     0.0000    0.0000    0.0000         0\n",
      "\n",
      "      accuracy                         0.9743    552000\n",
      "     macro avg     0.7144    0.7810    0.7398    552000\n",
      "  weighted avg     0.9755    0.9743    0.9742    552000\n",
      "\n"
     ]
    },
    {
     "name": "stderr",
     "output_type": "stream",
     "text": [
      "/vol/bitbucket/shc20/FYP/GNN-Adversarial-Attack/.venv/lib/python3.12/site-packages/sklearn/metrics/_classification.py:1565: UndefinedMetricWarning: Recall is ill-defined and being set to 0.0 in labels with no true samples. Use `zero_division` parameter to control this behavior.\n",
      "  _warn_prf(average, modifier, f\"{metric.capitalize()} is\", len(result))\n"
     ]
    }
   ],
   "source": [
    "# Inject Attack Traffic to Attacker Nodes\n",
    "inject_src_graph_dataset = [inject_traffic_to_node(g.cpu(), 0.1, num_injected_nodes=1, to_node_type='src') for g in test_graph_dataset]\n",
    "inject_src_report = eval(inject_src_graph_dataset, adversarial=True)"
   ]
  },
  {
   "cell_type": "code",
   "execution_count": 33,
   "id": "70287333",
   "metadata": {},
   "outputs": [
    {
     "name": "stdout",
     "output_type": "stream",
     "text": [
      "Loading model from /vol/bitbucket/shc20/FYP/GNN-Adversarial-Attack/Models/E_GraphSAGE_edge/BoT_IoT/saved/strat_window_endpoint_1000/best_model.pth\n",
      "inference start\n"
     ]
    },
    {
     "name": "stderr",
     "output_type": "stream",
     "text": [
      "/vol/bitbucket/shc20/FYP/GNN-Adversarial-Attack/.venv/lib/python3.12/site-packages/sklearn/metrics/_classification.py:1565: UndefinedMetricWarning: Recall is ill-defined and being set to 0.0 in labels with no true samples. Use `zero_division` parameter to control this behavior.\n",
      "  _warn_prf(average, modifier, f\"{metric.capitalize()} is\", len(result))\n",
      "/vol/bitbucket/shc20/FYP/GNN-Adversarial-Attack/.venv/lib/python3.12/site-packages/sklearn/metrics/_classification.py:1565: UndefinedMetricWarning: Recall is ill-defined and being set to 0.0 in labels with no true samples. Use `zero_division` parameter to control this behavior.\n",
      "  _warn_prf(average, modifier, f\"{metric.capitalize()} is\", len(result))\n",
      "/vol/bitbucket/shc20/FYP/GNN-Adversarial-Attack/.venv/lib/python3.12/site-packages/sklearn/metrics/_classification.py:1565: UndefinedMetricWarning: Recall is ill-defined and being set to 0.0 in labels with no true samples. Use `zero_division` parameter to control this behavior.\n",
      "  _warn_prf(average, modifier, f\"{metric.capitalize()} is\", len(result))\n",
      "/vol/bitbucket/shc20/FYP/GNN-Adversarial-Attack/.venv/lib/python3.12/site-packages/sklearn/metrics/_classification.py:1565: UndefinedMetricWarning: Recall is ill-defined and being set to 0.0 in labels with no true samples. Use `zero_division` parameter to control this behavior.\n",
      "  _warn_prf(average, modifier, f\"{metric.capitalize()} is\", len(result))\n"
     ]
    },
    {
     "name": "stdout",
     "output_type": "stream",
     "text": [
      "Test Accuracy: 0.9056\n",
      "Adversarial confusion matrix: [[    0     0     0     0     0     0]\n",
      " [    0     0     0     0     0     0]\n",
      " [    0     0     0     0     0     0]\n",
      " [    0     0     0     0     0     0]\n",
      " [    0     0     0     0     0     0]\n",
      " [29195 24600    16  1389     0     0]]\n",
      "class_map ['DDoS' 'DoS' 'Normal' 'Reconnaissance' 'Theft']\n",
      "[[289986      0      4     10      0]\n",
      " [  1960 246036      2      2      0]\n",
      " [     0      1     66      1      0]\n",
      " [    50     12     40  13814     16]\n",
      " [     0      0      0      0      0]]\n",
      "                precision    recall  f1-score   support\n",
      "\n",
      "          DDoS     0.9931    1.0000    0.9965    290000\n",
      "           DoS     0.9999    0.9921    0.9960    248000\n",
      "        Normal     0.5893    0.9706    0.7333        68\n",
      "Reconnaissance     0.9991    0.9915    0.9953     13932\n",
      "         Theft     0.0000    0.0000    0.0000         0\n",
      "\n",
      "      accuracy                         0.9962    552000\n",
      "     macro avg     0.7163    0.7908    0.7442    552000\n",
      "  weighted avg     0.9963    0.9962    0.9962    552000\n",
      "\n"
     ]
    },
    {
     "name": "stderr",
     "output_type": "stream",
     "text": [
      "/vol/bitbucket/shc20/FYP/GNN-Adversarial-Attack/.venv/lib/python3.12/site-packages/sklearn/metrics/_classification.py:1565: UndefinedMetricWarning: Recall is ill-defined and being set to 0.0 in labels with no true samples. Use `zero_division` parameter to control this behavior.\n",
      "  _warn_prf(average, modifier, f\"{metric.capitalize()} is\", len(result))\n",
      "/vol/bitbucket/shc20/FYP/GNN-Adversarial-Attack/.venv/lib/python3.12/site-packages/sklearn/metrics/_classification.py:1565: UndefinedMetricWarning: Recall is ill-defined and being set to 0.0 in labels with no true samples. Use `zero_division` parameter to control this behavior.\n",
      "  _warn_prf(average, modifier, f\"{metric.capitalize()} is\", len(result))\n"
     ]
    }
   ],
   "source": [
    "# Inject Attack Traffic to Attacker Nodes\n",
    "inject_dst_graph_dataset = [inject_traffic_to_node(g.cpu(), 0.1, num_injected_nodes=1, to_node_type='dst') for g in test_graph_dataset]\n",
    "inject_dst_report = eval(inject_dst_graph_dataset, adversarial=True)"
   ]
  },
  {
   "cell_type": "code",
   "execution_count": 34,
   "id": "579e0eb1",
   "metadata": {},
   "outputs": [],
   "source": [
    "# Edge Attribute Perturbation\n",
    "def perturb_edge_attributes(graph, affected_edge_ratio=0.1, perturbation_ratio=0.1, random_seed=42):\n",
    "    edge_index = graph.edge_index.clone()\n",
    "    edge_attr = graph.edge_attr.clone()\n",
    "    edge_label = graph.edge_label.clone()\n",
    "\n",
    "    num_edges = edge_index.size(1)\n",
    "    feature_dim = edge_attr.size(1)\n",
    "\n",
    "    # Randomly select edges to perturb\n",
    "    num_to_perturb = max(1, int(affected_edge_ratio * num_edges))\n",
    "    rng = random.Random(random_seed)\n",
    "    indices_to_perturb = rng.sample(range(num_edges), num_to_perturb)\n",
    "\n",
    "    for idx in indices_to_perturb:\n",
    "        # Perturb the edge attributes by adding noise\n",
    "        noise = th.randn(feature_dim) * perturbation_ratio  # Adjust the scale of noise as needed\n",
    "        edge_attr[idx] += noise\n",
    "\n",
    "    # Create a new graph with perturbed attributes\n",
    "    perturbed_graph = Data(edge_index=edge_index, edge_attr=edge_attr, edge_label=edge_label, x=graph.x)\n",
    "\n",
    "    return perturbed_graph"
   ]
  },
  {
   "cell_type": "code",
   "execution_count": 35,
   "id": "eb68c7fe",
   "metadata": {},
   "outputs": [
    {
     "name": "stdout",
     "output_type": "stream",
     "text": [
      "Loading model from /vol/bitbucket/shc20/FYP/GNN-Adversarial-Attack/Models/E_GraphSAGE_edge/BoT_IoT/saved/strat_window_endpoint_1000/best_model.pth\n",
      "inference start\n"
     ]
    },
    {
     "name": "stderr",
     "output_type": "stream",
     "text": [
      "/vol/bitbucket/shc20/FYP/GNN-Adversarial-Attack/.venv/lib/python3.12/site-packages/sklearn/metrics/_classification.py:1565: UndefinedMetricWarning: Recall is ill-defined and being set to 0.0 in labels with no true samples. Use `zero_division` parameter to control this behavior.\n",
      "  _warn_prf(average, modifier, f\"{metric.capitalize()} is\", len(result))\n",
      "/vol/bitbucket/shc20/FYP/GNN-Adversarial-Attack/.venv/lib/python3.12/site-packages/sklearn/metrics/_classification.py:1565: UndefinedMetricWarning: Recall is ill-defined and being set to 0.0 in labels with no true samples. Use `zero_division` parameter to control this behavior.\n",
      "  _warn_prf(average, modifier, f\"{metric.capitalize()} is\", len(result))\n",
      "/vol/bitbucket/shc20/FYP/GNN-Adversarial-Attack/.venv/lib/python3.12/site-packages/sklearn/metrics/_classification.py:1565: UndefinedMetricWarning: Recall is ill-defined and being set to 0.0 in labels with no true samples. Use `zero_division` parameter to control this behavior.\n",
      "  _warn_prf(average, modifier, f\"{metric.capitalize()} is\", len(result))\n",
      "/vol/bitbucket/shc20/FYP/GNN-Adversarial-Attack/.venv/lib/python3.12/site-packages/sklearn/metrics/_classification.py:1565: UndefinedMetricWarning: Recall is ill-defined and being set to 0.0 in labels with no true samples. Use `zero_division` parameter to control this behavior.\n",
      "  _warn_prf(average, modifier, f\"{metric.capitalize()} is\", len(result))\n",
      "/vol/bitbucket/shc20/FYP/GNN-Adversarial-Attack/.venv/lib/python3.12/site-packages/sklearn/metrics/_classification.py:1565: UndefinedMetricWarning: Recall is ill-defined and being set to 0.0 in labels with no true samples. Use `zero_division` parameter to control this behavior.\n",
      "  _warn_prf(average, modifier, f\"{metric.capitalize()} is\", len(result))\n"
     ]
    },
    {
     "name": "stdout",
     "output_type": "stream",
     "text": [
      "Test Accuracy: 0.9036\n",
      "Adversarial confusion matrix: [[0 0 0 0 0 0]\n",
      " [0 0 0 0 0 0]\n",
      " [0 0 0 0 0 0]\n",
      " [0 0 0 0 0 0]\n",
      " [0 0 0 0 0 0]\n",
      " [0 0 0 0 0 0]]\n",
      "class_map ['DDoS' 'DoS' 'Normal' 'Reconnaissance' 'Theft']\n",
      "[[281916   7014     42   1028      0]\n",
      " [ 33233 210799   1249   2719      0]\n",
      " [     0      1     65      2      0]\n",
      " [  2123   1322   4388   6000     99]\n",
      " [     0      0      0      0      0]]\n",
      "                precision    recall  f1-score   support\n",
      "\n",
      "          DDoS     0.8886    0.9721    0.9285    290000\n",
      "           DoS     0.9620    0.8500    0.9025    248000\n",
      "        Normal     0.0113    0.9559    0.0224        68\n",
      "Reconnaissance     0.6154    0.4307    0.5067     13932\n",
      "         Theft     0.0000    0.0000    0.0000         0\n",
      "\n",
      "      accuracy                         0.9036    552000\n",
      "     macro avg     0.4955    0.6417    0.4720    552000\n",
      "  weighted avg     0.9145    0.9036    0.9061    552000\n",
      "\n"
     ]
    },
    {
     "name": "stderr",
     "output_type": "stream",
     "text": [
      "/vol/bitbucket/shc20/FYP/GNN-Adversarial-Attack/.venv/lib/python3.12/site-packages/sklearn/metrics/_classification.py:1565: UndefinedMetricWarning: Recall is ill-defined and being set to 0.0 in labels with no true samples. Use `zero_division` parameter to control this behavior.\n",
      "  _warn_prf(average, modifier, f\"{metric.capitalize()} is\", len(result))\n"
     ]
    }
   ],
   "source": [
    "# Edge Attribute Perturbation\n",
    "edge_perturb_graph_dataset = [perturb_edge_attributes(g.cpu(), affected_edge_ratio=1, perturbation_ratio=5) for g in test_graph_dataset]\n",
    "edge_perturb_report = eval(edge_perturb_graph_dataset, adversarial=True)"
   ]
  },
  {
   "cell_type": "code",
   "execution_count": 36,
   "id": "dc04f5a9",
   "metadata": {},
   "outputs": [],
   "source": [
    "# Inject Random Edges\n",
    "def inject_random_edges(graph, ratio=0.1, random_seed=42):\n",
    "    edge_index = graph.edge_index.clone()\n",
    "    edge_attr = graph.edge_attr.clone()\n",
    "    edge_label = graph.edge_label.clone()\n",
    "    x = graph.x.clone()\n",
    "\n",
    "    num_nodes = x.size(0)\n",
    "    feature_dim = graph.x.size(1)\n",
    "\n",
    "    new_edge_indices = []\n",
    "    new_edge_attrs = []\n",
    "    new_edge_labels = []\n",
    "\n",
    "    num_edges = edge_index.size(1)\n",
    "    num_injected_edges = max(1, int(ratio * num_edges))\n",
    "\n",
    "    for i in range(num_injected_edges):\n",
    "        rng = random.Random(random_seed + i)  # ensure different seed per edge\n",
    "        src = rng.randint(0, num_nodes - 1)  # Random source node\n",
    "        dst = rng.randint(0, num_nodes - 1)  # Random destination node\n",
    "\n",
    "        new_edge_indices.append([src, dst])\n",
    "        new_edge_attrs.append(th.rand(feature_dim))  # Random feature for the new edge\n",
    "        new_edge_labels.append(ADVERSARIAL_CLASS_LABEL)\n",
    "\n",
    "    if new_edge_indices:\n",
    "        new_edge_indices = th.tensor(new_edge_indices, dtype=th.long).t().contiguous()\n",
    "        new_edge_attrs = th.stack(new_edge_attrs)\n",
    "        new_edge_labels = th.tensor(new_edge_labels, dtype=th.long)\n",
    "\n",
    "        edge_index = th.cat([edge_index, new_edge_indices], dim=1)\n",
    "        edge_attr = th.cat([edge_attr, new_edge_attrs], dim=0)\n",
    "        edge_label = th.cat([edge_label, new_edge_labels], dim=0)\n",
    "\n",
    "    return Data(x=x, edge_index=edge_index, edge_attr=edge_attr, edge_label=edge_label)"
   ]
  },
  {
   "cell_type": "code",
   "execution_count": 37,
   "id": "b25073bf",
   "metadata": {},
   "outputs": [
    {
     "name": "stdout",
     "output_type": "stream",
     "text": [
      "Loading model from /vol/bitbucket/shc20/FYP/GNN-Adversarial-Attack/Models/E_GraphSAGE_edge/BoT_IoT/saved/strat_window_endpoint_1000/best_model.pth\n",
      "inference start\n"
     ]
    },
    {
     "name": "stderr",
     "output_type": "stream",
     "text": [
      "/vol/bitbucket/shc20/FYP/GNN-Adversarial-Attack/.venv/lib/python3.12/site-packages/sklearn/metrics/_classification.py:1565: UndefinedMetricWarning: Recall is ill-defined and being set to 0.0 in labels with no true samples. Use `zero_division` parameter to control this behavior.\n",
      "  _warn_prf(average, modifier, f\"{metric.capitalize()} is\", len(result))\n",
      "/vol/bitbucket/shc20/FYP/GNN-Adversarial-Attack/.venv/lib/python3.12/site-packages/sklearn/metrics/_classification.py:1565: UndefinedMetricWarning: Recall is ill-defined and being set to 0.0 in labels with no true samples. Use `zero_division` parameter to control this behavior.\n",
      "  _warn_prf(average, modifier, f\"{metric.capitalize()} is\", len(result))\n",
      "/vol/bitbucket/shc20/FYP/GNN-Adversarial-Attack/.venv/lib/python3.12/site-packages/sklearn/metrics/_classification.py:1565: UndefinedMetricWarning: Recall is ill-defined and being set to 0.0 in labels with no true samples. Use `zero_division` parameter to control this behavior.\n",
      "  _warn_prf(average, modifier, f\"{metric.capitalize()} is\", len(result))\n",
      "/vol/bitbucket/shc20/FYP/GNN-Adversarial-Attack/.venv/lib/python3.12/site-packages/sklearn/metrics/_classification.py:1565: UndefinedMetricWarning: Recall is ill-defined and being set to 0.0 in labels with no true samples. Use `zero_division` parameter to control this behavior.\n",
      "  _warn_prf(average, modifier, f\"{metric.capitalize()} is\", len(result))\n"
     ]
    },
    {
     "name": "stdout",
     "output_type": "stream",
     "text": [
      "Test Accuracy: 0.8864\n",
      "Adversarial confusion matrix: [[    0     0     0     0     0     0]\n",
      " [    0     0     0     0     0     0]\n",
      " [    0     0     0     0     0     0]\n",
      " [    0     0     0     0     0     0]\n",
      " [    0     0     0     0     0     0]\n",
      " [ 2657    99   129 52315     0     0]]\n",
      "class_map ['DDoS' 'DoS' 'Normal' 'Reconnaissance' 'Theft']\n",
      "[[289986      0      4     10      0]\n",
      " [ 13633 234334      1     32      0]\n",
      " [     0      1     66      1      0]\n",
      " [    51      9     38  13818     16]\n",
      " [     0      0      0      0      0]]\n",
      "                precision    recall  f1-score   support\n",
      "\n",
      "          DDoS     0.9549    1.0000    0.9769    290000\n",
      "           DoS     1.0000    0.9449    0.9716    248000\n",
      "        Normal     0.6055    0.9706    0.7458        68\n",
      "Reconnaissance     0.9969    0.9918    0.9944     13932\n",
      "         Theft     0.0000    0.0000    0.0000         0\n",
      "\n",
      "      accuracy                         0.9750    552000\n",
      "     macro avg     0.7115    0.7815    0.7377    552000\n",
      "  weighted avg     0.9762    0.9750    0.9750    552000\n",
      "\n"
     ]
    },
    {
     "name": "stderr",
     "output_type": "stream",
     "text": [
      "/vol/bitbucket/shc20/FYP/GNN-Adversarial-Attack/.venv/lib/python3.12/site-packages/sklearn/metrics/_classification.py:1565: UndefinedMetricWarning: Recall is ill-defined and being set to 0.0 in labels with no true samples. Use `zero_division` parameter to control this behavior.\n",
      "  _warn_prf(average, modifier, f\"{metric.capitalize()} is\", len(result))\n",
      "/vol/bitbucket/shc20/FYP/GNN-Adversarial-Attack/.venv/lib/python3.12/site-packages/sklearn/metrics/_classification.py:1565: UndefinedMetricWarning: Recall is ill-defined and being set to 0.0 in labels with no true samples. Use `zero_division` parameter to control this behavior.\n",
      "  _warn_prf(average, modifier, f\"{metric.capitalize()} is\", len(result))\n"
     ]
    }
   ],
   "source": [
    "# Inject Random Edges\n",
    "random_edge_graph_dataset = [inject_random_edges(g.cpu(), 0.1) for g in test_graph_dataset]\n",
    "random_edge_report = eval(random_edge_graph_dataset, adversarial=True)"
   ]
  },
  {
   "cell_type": "code",
   "execution_count": 38,
   "id": "e8c66190",
   "metadata": {},
   "outputs": [
    {
     "name": "stdout",
     "output_type": "stream",
     "text": [
      "Comparison of Overall Metrics:\n"
     ]
    },
    {
     "data": {
      "text/html": [
       "<style type=\"text/css\">\n",
       "</style>\n",
       "<table id=\"T_6397d\">\n",
       "  <caption>Metrics Under Adversarial Attacks</caption>\n",
       "  <thead>\n",
       "    <tr>\n",
       "      <th class=\"blank level0\" >&nbsp;</th>\n",
       "      <th id=\"T_6397d_level0_col0\" class=\"col_heading level0 col0\" >Class</th>\n",
       "      <th id=\"T_6397d_level0_col1\" class=\"col_heading level0 col1\" >Min Influence</th>\n",
       "      <th id=\"T_6397d_level0_col2\" class=\"col_heading level0 col2\" >Avg Influence</th>\n",
       "      <th id=\"T_6397d_level0_col3\" class=\"col_heading level0 col3\" >Max Influence</th>\n",
       "      <th id=\"T_6397d_level0_col4\" class=\"col_heading level0 col4\" >Normal precision</th>\n",
       "      <th id=\"T_6397d_level0_col5\" class=\"col_heading level0 col5\" >To Both precision</th>\n",
       "      <th id=\"T_6397d_level0_col6\" class=\"col_heading level0 col6\" >To Both precision Drop (%)</th>\n",
       "      <th id=\"T_6397d_level0_col7\" class=\"col_heading level0 col7\" >To Src precision</th>\n",
       "      <th id=\"T_6397d_level0_col8\" class=\"col_heading level0 col8\" >To Src precision Drop (%)</th>\n",
       "      <th id=\"T_6397d_level0_col9\" class=\"col_heading level0 col9\" >To Dst precision</th>\n",
       "      <th id=\"T_6397d_level0_col10\" class=\"col_heading level0 col10\" >To Dst precision Drop (%)</th>\n",
       "      <th id=\"T_6397d_level0_col11\" class=\"col_heading level0 col11\" >Edge Perturbation precision</th>\n",
       "      <th id=\"T_6397d_level0_col12\" class=\"col_heading level0 col12\" >Edge Perturbation precision Drop (%)</th>\n",
       "      <th id=\"T_6397d_level0_col13\" class=\"col_heading level0 col13\" >Random Edge precision</th>\n",
       "      <th id=\"T_6397d_level0_col14\" class=\"col_heading level0 col14\" >Random Edge precision Drop (%)</th>\n",
       "      <th id=\"T_6397d_level0_col15\" class=\"col_heading level0 col15\" >Normal recall</th>\n",
       "      <th id=\"T_6397d_level0_col16\" class=\"col_heading level0 col16\" >To Both recall</th>\n",
       "      <th id=\"T_6397d_level0_col17\" class=\"col_heading level0 col17\" >To Both recall Drop (%)</th>\n",
       "      <th id=\"T_6397d_level0_col18\" class=\"col_heading level0 col18\" >To Src recall</th>\n",
       "      <th id=\"T_6397d_level0_col19\" class=\"col_heading level0 col19\" >To Src recall Drop (%)</th>\n",
       "      <th id=\"T_6397d_level0_col20\" class=\"col_heading level0 col20\" >To Dst recall</th>\n",
       "      <th id=\"T_6397d_level0_col21\" class=\"col_heading level0 col21\" >To Dst recall Drop (%)</th>\n",
       "      <th id=\"T_6397d_level0_col22\" class=\"col_heading level0 col22\" >Edge Perturbation recall</th>\n",
       "      <th id=\"T_6397d_level0_col23\" class=\"col_heading level0 col23\" >Edge Perturbation recall Drop (%)</th>\n",
       "      <th id=\"T_6397d_level0_col24\" class=\"col_heading level0 col24\" >Random Edge recall</th>\n",
       "      <th id=\"T_6397d_level0_col25\" class=\"col_heading level0 col25\" >Random Edge recall Drop (%)</th>\n",
       "      <th id=\"T_6397d_level0_col26\" class=\"col_heading level0 col26\" >Normal f1-score</th>\n",
       "      <th id=\"T_6397d_level0_col27\" class=\"col_heading level0 col27\" >To Both f1-score</th>\n",
       "      <th id=\"T_6397d_level0_col28\" class=\"col_heading level0 col28\" >To Both f1-score Drop (%)</th>\n",
       "      <th id=\"T_6397d_level0_col29\" class=\"col_heading level0 col29\" >To Src f1-score</th>\n",
       "      <th id=\"T_6397d_level0_col30\" class=\"col_heading level0 col30\" >To Src f1-score Drop (%)</th>\n",
       "      <th id=\"T_6397d_level0_col31\" class=\"col_heading level0 col31\" >To Dst f1-score</th>\n",
       "      <th id=\"T_6397d_level0_col32\" class=\"col_heading level0 col32\" >To Dst f1-score Drop (%)</th>\n",
       "      <th id=\"T_6397d_level0_col33\" class=\"col_heading level0 col33\" >Edge Perturbation f1-score</th>\n",
       "      <th id=\"T_6397d_level0_col34\" class=\"col_heading level0 col34\" >Edge Perturbation f1-score Drop (%)</th>\n",
       "      <th id=\"T_6397d_level0_col35\" class=\"col_heading level0 col35\" >Random Edge f1-score</th>\n",
       "      <th id=\"T_6397d_level0_col36\" class=\"col_heading level0 col36\" >Random Edge f1-score Drop (%)</th>\n",
       "      <th id=\"T_6397d_level0_col37\" class=\"col_heading level0 col37\" >support</th>\n",
       "    </tr>\n",
       "  </thead>\n",
       "  <tbody>\n",
       "    <tr>\n",
       "      <th id=\"T_6397d_level0_row0\" class=\"row_heading level0 row0\" >0</th>\n",
       "      <td id=\"T_6397d_row0_col0\" class=\"data row0 col0\" >DDoS</td>\n",
       "      <td id=\"T_6397d_row0_col1\" class=\"data row0 col1\" >0.00</td>\n",
       "      <td id=\"T_6397d_row0_col2\" class=\"data row0 col2\" >0.00</td>\n",
       "      <td id=\"T_6397d_row0_col3\" class=\"data row0 col3\" >14.16</td>\n",
       "      <td id=\"T_6397d_row0_col4\" class=\"data row0 col4\" >1.00</td>\n",
       "      <td id=\"T_6397d_row0_col5\" class=\"data row0 col5\" >0.97</td>\n",
       "      <td id=\"T_6397d_row0_col6\" class=\"data row0 col6\" >3.05</td>\n",
       "      <td id=\"T_6397d_row0_col7\" class=\"data row0 col7\" >0.95</td>\n",
       "      <td id=\"T_6397d_row0_col8\" class=\"data row0 col8\" >4.29</td>\n",
       "      <td id=\"T_6397d_row0_col9\" class=\"data row0 col9\" >0.99</td>\n",
       "      <td id=\"T_6397d_row0_col10\" class=\"data row0 col10\" >0.33</td>\n",
       "      <td id=\"T_6397d_row0_col11\" class=\"data row0 col11\" >0.89</td>\n",
       "      <td id=\"T_6397d_row0_col12\" class=\"data row0 col12\" >10.82</td>\n",
       "      <td id=\"T_6397d_row0_col13\" class=\"data row0 col13\" >0.95</td>\n",
       "      <td id=\"T_6397d_row0_col14\" class=\"data row0 col14\" >4.16</td>\n",
       "      <td id=\"T_6397d_row0_col15\" class=\"data row0 col15\" >1.00</td>\n",
       "      <td id=\"T_6397d_row0_col16\" class=\"data row0 col16\" >1.00</td>\n",
       "      <td id=\"T_6397d_row0_col17\" class=\"data row0 col17\" >0.00</td>\n",
       "      <td id=\"T_6397d_row0_col18\" class=\"data row0 col18\" >1.00</td>\n",
       "      <td id=\"T_6397d_row0_col19\" class=\"data row0 col19\" >0.00</td>\n",
       "      <td id=\"T_6397d_row0_col20\" class=\"data row0 col20\" >1.00</td>\n",
       "      <td id=\"T_6397d_row0_col21\" class=\"data row0 col21\" >0.00</td>\n",
       "      <td id=\"T_6397d_row0_col22\" class=\"data row0 col22\" >0.97</td>\n",
       "      <td id=\"T_6397d_row0_col23\" class=\"data row0 col23\" >2.78</td>\n",
       "      <td id=\"T_6397d_row0_col24\" class=\"data row0 col24\" >1.00</td>\n",
       "      <td id=\"T_6397d_row0_col25\" class=\"data row0 col25\" >0.00</td>\n",
       "      <td id=\"T_6397d_row0_col26\" class=\"data row0 col26\" >1.00</td>\n",
       "      <td id=\"T_6397d_row0_col27\" class=\"data row0 col27\" >0.98</td>\n",
       "      <td id=\"T_6397d_row0_col28\" class=\"data row0 col28\" >1.55</td>\n",
       "      <td id=\"T_6397d_row0_col29\" class=\"data row0 col29\" >0.98</td>\n",
       "      <td id=\"T_6397d_row0_col30\" class=\"data row0 col30\" >2.20</td>\n",
       "      <td id=\"T_6397d_row0_col31\" class=\"data row0 col31\" >1.00</td>\n",
       "      <td id=\"T_6397d_row0_col32\" class=\"data row0 col32\" >0.16</td>\n",
       "      <td id=\"T_6397d_row0_col33\" class=\"data row0 col33\" >0.93</td>\n",
       "      <td id=\"T_6397d_row0_col34\" class=\"data row0 col34\" >6.98</td>\n",
       "      <td id=\"T_6397d_row0_col35\" class=\"data row0 col35\" >0.98</td>\n",
       "      <td id=\"T_6397d_row0_col36\" class=\"data row0 col36\" >2.13</td>\n",
       "      <td id=\"T_6397d_row0_col37\" class=\"data row0 col37\" >290000</td>\n",
       "    </tr>\n",
       "    <tr>\n",
       "      <th id=\"T_6397d_level0_row1\" class=\"row_heading level0 row1\" >1</th>\n",
       "      <td id=\"T_6397d_row1_col0\" class=\"data row1 col0\" >DoS</td>\n",
       "      <td id=\"T_6397d_row1_col1\" class=\"data row1 col1\" >0.00</td>\n",
       "      <td id=\"T_6397d_row1_col2\" class=\"data row1 col2\" >0.00</td>\n",
       "      <td id=\"T_6397d_row1_col3\" class=\"data row1 col3\" >1.16</td>\n",
       "      <td id=\"T_6397d_row1_col4\" class=\"data row1 col4\" >1.00</td>\n",
       "      <td id=\"T_6397d_row1_col5\" class=\"data row1 col5\" >1.00</td>\n",
       "      <td id=\"T_6397d_row1_col6\" class=\"data row1 col6\" >-0.00</td>\n",
       "      <td id=\"T_6397d_row1_col7\" class=\"data row1 col7\" >1.00</td>\n",
       "      <td id=\"T_6397d_row1_col8\" class=\"data row1 col8\" >-0.00</td>\n",
       "      <td id=\"T_6397d_row1_col9\" class=\"data row1 col9\" >1.00</td>\n",
       "      <td id=\"T_6397d_row1_col10\" class=\"data row1 col10\" >0.00</td>\n",
       "      <td id=\"T_6397d_row1_col11\" class=\"data row1 col11\" >0.96</td>\n",
       "      <td id=\"T_6397d_row1_col12\" class=\"data row1 col12\" >3.80</td>\n",
       "      <td id=\"T_6397d_row1_col13\" class=\"data row1 col13\" >1.00</td>\n",
       "      <td id=\"T_6397d_row1_col14\" class=\"data row1 col14\" >-0.00</td>\n",
       "      <td id=\"T_6397d_row1_col15\" class=\"data row1 col15\" >1.00</td>\n",
       "      <td id=\"T_6397d_row1_col16\" class=\"data row1 col16\" >0.96</td>\n",
       "      <td id=\"T_6397d_row1_col17\" class=\"data row1 col17\" >3.69</td>\n",
       "      <td id=\"T_6397d_row1_col18\" class=\"data row1 col18\" >0.94</td>\n",
       "      <td id=\"T_6397d_row1_col19\" class=\"data row1 col19\" >5.29</td>\n",
       "      <td id=\"T_6397d_row1_col20\" class=\"data row1 col20\" >0.99</td>\n",
       "      <td id=\"T_6397d_row1_col21\" class=\"data row1 col21\" >0.39</td>\n",
       "      <td id=\"T_6397d_row1_col22\" class=\"data row1 col22\" >0.85</td>\n",
       "      <td id=\"T_6397d_row1_col23\" class=\"data row1 col23\" >14.66</td>\n",
       "      <td id=\"T_6397d_row1_col24\" class=\"data row1 col24\" >0.94</td>\n",
       "      <td id=\"T_6397d_row1_col25\" class=\"data row1 col25\" >5.13</td>\n",
       "      <td id=\"T_6397d_row1_col26\" class=\"data row1 col26\" >1.00</td>\n",
       "      <td id=\"T_6397d_row1_col27\" class=\"data row1 col27\" >0.98</td>\n",
       "      <td id=\"T_6397d_row1_col28\" class=\"data row1 col28\" >1.88</td>\n",
       "      <td id=\"T_6397d_row1_col29\" class=\"data row1 col29\" >0.97</td>\n",
       "      <td id=\"T_6397d_row1_col30\" class=\"data row1 col30\" >2.72</td>\n",
       "      <td id=\"T_6397d_row1_col31\" class=\"data row1 col31\" >1.00</td>\n",
       "      <td id=\"T_6397d_row1_col32\" class=\"data row1 col32\" >0.20</td>\n",
       "      <td id=\"T_6397d_row1_col33\" class=\"data row1 col33\" >0.90</td>\n",
       "      <td id=\"T_6397d_row1_col34\" class=\"data row1 col34\" >9.56</td>\n",
       "      <td id=\"T_6397d_row1_col35\" class=\"data row1 col35\" >0.97</td>\n",
       "      <td id=\"T_6397d_row1_col36\" class=\"data row1 col36\" >2.64</td>\n",
       "      <td id=\"T_6397d_row1_col37\" class=\"data row1 col37\" >248000</td>\n",
       "    </tr>\n",
       "    <tr>\n",
       "      <th id=\"T_6397d_level0_row2\" class=\"row_heading level0 row2\" >2</th>\n",
       "      <td id=\"T_6397d_row2_col0\" class=\"data row2 col0\" >Normal</td>\n",
       "      <td id=\"T_6397d_row2_col1\" class=\"data row2 col1\" >0.00</td>\n",
       "      <td id=\"T_6397d_row2_col2\" class=\"data row2 col2\" >0.00</td>\n",
       "      <td id=\"T_6397d_row2_col3\" class=\"data row2 col3\" >0.00</td>\n",
       "      <td id=\"T_6397d_row2_col4\" class=\"data row2 col4\" >0.59</td>\n",
       "      <td id=\"T_6397d_row2_col5\" class=\"data row2 col5\" >0.65</td>\n",
       "      <td id=\"T_6397d_row2_col6\" class=\"data row2 col6\" >-9.80</td>\n",
       "      <td id=\"T_6397d_row2_col7\" class=\"data row2 col7\" >0.62</td>\n",
       "      <td id=\"T_6397d_row2_col8\" class=\"data row2 col8\" >-5.66</td>\n",
       "      <td id=\"T_6397d_row2_col9\" class=\"data row2 col9\" >0.59</td>\n",
       "      <td id=\"T_6397d_row2_col10\" class=\"data row2 col10\" >0.00</td>\n",
       "      <td id=\"T_6397d_row2_col11\" class=\"data row2 col11\" >0.01</td>\n",
       "      <td id=\"T_6397d_row2_col12\" class=\"data row2 col12\" >98.08</td>\n",
       "      <td id=\"T_6397d_row2_col13\" class=\"data row2 col13\" >0.61</td>\n",
       "      <td id=\"T_6397d_row2_col14\" class=\"data row2 col14\" >-2.75</td>\n",
       "      <td id=\"T_6397d_row2_col15\" class=\"data row2 col15\" >0.97</td>\n",
       "      <td id=\"T_6397d_row2_col16\" class=\"data row2 col16\" >0.97</td>\n",
       "      <td id=\"T_6397d_row2_col17\" class=\"data row2 col17\" >0.00</td>\n",
       "      <td id=\"T_6397d_row2_col18\" class=\"data row2 col18\" >0.97</td>\n",
       "      <td id=\"T_6397d_row2_col19\" class=\"data row2 col19\" >0.00</td>\n",
       "      <td id=\"T_6397d_row2_col20\" class=\"data row2 col20\" >0.97</td>\n",
       "      <td id=\"T_6397d_row2_col21\" class=\"data row2 col21\" >0.00</td>\n",
       "      <td id=\"T_6397d_row2_col22\" class=\"data row2 col22\" >0.96</td>\n",
       "      <td id=\"T_6397d_row2_col23\" class=\"data row2 col23\" >1.52</td>\n",
       "      <td id=\"T_6397d_row2_col24\" class=\"data row2 col24\" >0.97</td>\n",
       "      <td id=\"T_6397d_row2_col25\" class=\"data row2 col25\" >0.00</td>\n",
       "      <td id=\"T_6397d_row2_col26\" class=\"data row2 col26\" >0.73</td>\n",
       "      <td id=\"T_6397d_row2_col27\" class=\"data row2 col27\" >0.78</td>\n",
       "      <td id=\"T_6397d_row2_col28\" class=\"data row2 col28\" >-5.88</td>\n",
       "      <td id=\"T_6397d_row2_col29\" class=\"data row2 col29\" >0.76</td>\n",
       "      <td id=\"T_6397d_row2_col30\" class=\"data row2 col30\" >-3.45</td>\n",
       "      <td id=\"T_6397d_row2_col31\" class=\"data row2 col31\" >0.73</td>\n",
       "      <td id=\"T_6397d_row2_col32\" class=\"data row2 col32\" >0.00</td>\n",
       "      <td id=\"T_6397d_row2_col33\" class=\"data row2 col33\" >0.02</td>\n",
       "      <td id=\"T_6397d_row2_col34\" class=\"data row2 col34\" >96.95</td>\n",
       "      <td id=\"T_6397d_row2_col35\" class=\"data row2 col35\" >0.75</td>\n",
       "      <td id=\"T_6397d_row2_col36\" class=\"data row2 col36\" >-1.69</td>\n",
       "      <td id=\"T_6397d_row2_col37\" class=\"data row2 col37\" >68</td>\n",
       "    </tr>\n",
       "    <tr>\n",
       "      <th id=\"T_6397d_level0_row3\" class=\"row_heading level0 row3\" >3</th>\n",
       "      <td id=\"T_6397d_row3_col0\" class=\"data row3 col0\" >Reconnaissance</td>\n",
       "      <td id=\"T_6397d_row3_col1\" class=\"data row3 col1\" >0.00</td>\n",
       "      <td id=\"T_6397d_row3_col2\" class=\"data row3 col2\" >0.02</td>\n",
       "      <td id=\"T_6397d_row3_col3\" class=\"data row3 col3\" >820.84</td>\n",
       "      <td id=\"T_6397d_row3_col4\" class=\"data row3 col4\" >1.00</td>\n",
       "      <td id=\"T_6397d_row3_col5\" class=\"data row3 col5\" >1.00</td>\n",
       "      <td id=\"T_6397d_row3_col6\" class=\"data row3 col6\" >0.19</td>\n",
       "      <td id=\"T_6397d_row3_col7\" class=\"data row3 col7\" >1.00</td>\n",
       "      <td id=\"T_6397d_row3_col8\" class=\"data row3 col8\" >0.32</td>\n",
       "      <td id=\"T_6397d_row3_col9\" class=\"data row3 col9\" >1.00</td>\n",
       "      <td id=\"T_6397d_row3_col10\" class=\"data row3 col10\" >0.01</td>\n",
       "      <td id=\"T_6397d_row3_col11\" class=\"data row3 col11\" >0.62</td>\n",
       "      <td id=\"T_6397d_row3_col12\" class=\"data row3 col12\" >38.40</td>\n",
       "      <td id=\"T_6397d_row3_col13\" class=\"data row3 col13\" >1.00</td>\n",
       "      <td id=\"T_6397d_row3_col14\" class=\"data row3 col14\" >0.22</td>\n",
       "      <td id=\"T_6397d_row3_col15\" class=\"data row3 col15\" >0.99</td>\n",
       "      <td id=\"T_6397d_row3_col16\" class=\"data row3 col16\" >0.99</td>\n",
       "      <td id=\"T_6397d_row3_col17\" class=\"data row3 col17\" >0.34</td>\n",
       "      <td id=\"T_6397d_row3_col18\" class=\"data row3 col18\" >0.99</td>\n",
       "      <td id=\"T_6397d_row3_col19\" class=\"data row3 col19\" >0.05</td>\n",
       "      <td id=\"T_6397d_row3_col20\" class=\"data row3 col20\" >0.99</td>\n",
       "      <td id=\"T_6397d_row3_col21\" class=\"data row3 col21\" >-0.01</td>\n",
       "      <td id=\"T_6397d_row3_col22\" class=\"data row3 col22\" >0.43</td>\n",
       "      <td id=\"T_6397d_row3_col23\" class=\"data row3 col23\" >56.56</td>\n",
       "      <td id=\"T_6397d_row3_col24\" class=\"data row3 col24\" >0.99</td>\n",
       "      <td id=\"T_6397d_row3_col25\" class=\"data row3 col25\" >-0.04</td>\n",
       "      <td id=\"T_6397d_row3_col26\" class=\"data row3 col26\" >1.00</td>\n",
       "      <td id=\"T_6397d_row3_col27\" class=\"data row3 col27\" >0.99</td>\n",
       "      <td id=\"T_6397d_row3_col28\" class=\"data row3 col28\" >0.26</td>\n",
       "      <td id=\"T_6397d_row3_col29\" class=\"data row3 col29\" >0.99</td>\n",
       "      <td id=\"T_6397d_row3_col30\" class=\"data row3 col30\" >0.19</td>\n",
       "      <td id=\"T_6397d_row3_col31\" class=\"data row3 col31\" >1.00</td>\n",
       "      <td id=\"T_6397d_row3_col32\" class=\"data row3 col32\" >-0.00</td>\n",
       "      <td id=\"T_6397d_row3_col33\" class=\"data row3 col33\" >0.51</td>\n",
       "      <td id=\"T_6397d_row3_col34\" class=\"data row3 col34\" >49.09</td>\n",
       "      <td id=\"T_6397d_row3_col35\" class=\"data row3 col35\" >0.99</td>\n",
       "      <td id=\"T_6397d_row3_col36\" class=\"data row3 col36\" >0.09</td>\n",
       "      <td id=\"T_6397d_row3_col37\" class=\"data row3 col37\" >13932</td>\n",
       "    </tr>\n",
       "    <tr>\n",
       "      <th id=\"T_6397d_level0_row4\" class=\"row_heading level0 row4\" >4</th>\n",
       "      <td id=\"T_6397d_row4_col0\" class=\"data row4 col0\" >Theft</td>\n",
       "      <td id=\"T_6397d_row4_col1\" class=\"data row4 col1\" >0.00</td>\n",
       "      <td id=\"T_6397d_row4_col2\" class=\"data row4 col2\" >0.00</td>\n",
       "      <td id=\"T_6397d_row4_col3\" class=\"data row4 col3\" >0.00</td>\n",
       "      <td id=\"T_6397d_row4_col4\" class=\"data row4 col4\" >0.00</td>\n",
       "      <td id=\"T_6397d_row4_col5\" class=\"data row4 col5\" >0.00</td>\n",
       "      <td id=\"T_6397d_row4_col6\" class=\"data row4 col6\" >0.00</td>\n",
       "      <td id=\"T_6397d_row4_col7\" class=\"data row4 col7\" >0.00</td>\n",
       "      <td id=\"T_6397d_row4_col8\" class=\"data row4 col8\" >0.00</td>\n",
       "      <td id=\"T_6397d_row4_col9\" class=\"data row4 col9\" >0.00</td>\n",
       "      <td id=\"T_6397d_row4_col10\" class=\"data row4 col10\" >0.00</td>\n",
       "      <td id=\"T_6397d_row4_col11\" class=\"data row4 col11\" >0.00</td>\n",
       "      <td id=\"T_6397d_row4_col12\" class=\"data row4 col12\" >0.00</td>\n",
       "      <td id=\"T_6397d_row4_col13\" class=\"data row4 col13\" >0.00</td>\n",
       "      <td id=\"T_6397d_row4_col14\" class=\"data row4 col14\" >0.00</td>\n",
       "      <td id=\"T_6397d_row4_col15\" class=\"data row4 col15\" >0.00</td>\n",
       "      <td id=\"T_6397d_row4_col16\" class=\"data row4 col16\" >0.00</td>\n",
       "      <td id=\"T_6397d_row4_col17\" class=\"data row4 col17\" >0.00</td>\n",
       "      <td id=\"T_6397d_row4_col18\" class=\"data row4 col18\" >0.00</td>\n",
       "      <td id=\"T_6397d_row4_col19\" class=\"data row4 col19\" >0.00</td>\n",
       "      <td id=\"T_6397d_row4_col20\" class=\"data row4 col20\" >0.00</td>\n",
       "      <td id=\"T_6397d_row4_col21\" class=\"data row4 col21\" >0.00</td>\n",
       "      <td id=\"T_6397d_row4_col22\" class=\"data row4 col22\" >0.00</td>\n",
       "      <td id=\"T_6397d_row4_col23\" class=\"data row4 col23\" >0.00</td>\n",
       "      <td id=\"T_6397d_row4_col24\" class=\"data row4 col24\" >0.00</td>\n",
       "      <td id=\"T_6397d_row4_col25\" class=\"data row4 col25\" >0.00</td>\n",
       "      <td id=\"T_6397d_row4_col26\" class=\"data row4 col26\" >0.00</td>\n",
       "      <td id=\"T_6397d_row4_col27\" class=\"data row4 col27\" >0.00</td>\n",
       "      <td id=\"T_6397d_row4_col28\" class=\"data row4 col28\" >0.00</td>\n",
       "      <td id=\"T_6397d_row4_col29\" class=\"data row4 col29\" >0.00</td>\n",
       "      <td id=\"T_6397d_row4_col30\" class=\"data row4 col30\" >0.00</td>\n",
       "      <td id=\"T_6397d_row4_col31\" class=\"data row4 col31\" >0.00</td>\n",
       "      <td id=\"T_6397d_row4_col32\" class=\"data row4 col32\" >0.00</td>\n",
       "      <td id=\"T_6397d_row4_col33\" class=\"data row4 col33\" >0.00</td>\n",
       "      <td id=\"T_6397d_row4_col34\" class=\"data row4 col34\" >0.00</td>\n",
       "      <td id=\"T_6397d_row4_col35\" class=\"data row4 col35\" >0.00</td>\n",
       "      <td id=\"T_6397d_row4_col36\" class=\"data row4 col36\" >0.00</td>\n",
       "      <td id=\"T_6397d_row4_col37\" class=\"data row4 col37\" >0</td>\n",
       "    </tr>\n",
       "    <tr>\n",
       "      <th id=\"T_6397d_level0_row5\" class=\"row_heading level0 row5\" >5</th>\n",
       "      <td id=\"T_6397d_row5_col0\" class=\"data row5 col0\" >macro avg</td>\n",
       "      <td id=\"T_6397d_row5_col1\" class=\"data row5 col1\" >0.00</td>\n",
       "      <td id=\"T_6397d_row5_col2\" class=\"data row5 col2\" >0.00</td>\n",
       "      <td id=\"T_6397d_row5_col3\" class=\"data row5 col3\" >0.00</td>\n",
       "      <td id=\"T_6397d_row5_col4\" class=\"data row5 col4\" >0.72</td>\n",
       "      <td id=\"T_6397d_row5_col5\" class=\"data row5 col5\" >0.72</td>\n",
       "      <td id=\"T_6397d_row5_col6\" class=\"data row5 col6\" >-0.71</td>\n",
       "      <td id=\"T_6397d_row5_col7\" class=\"data row5 col7\" >0.71</td>\n",
       "      <td id=\"T_6397d_row5_col8\" class=\"data row5 col8\" >0.35</td>\n",
       "      <td id=\"T_6397d_row5_col9\" class=\"data row5 col9\" >0.72</td>\n",
       "      <td id=\"T_6397d_row5_col10\" class=\"data row5 col10\" >0.09</td>\n",
       "      <td id=\"T_6397d_row5_col11\" class=\"data row5 col11\" >0.50</td>\n",
       "      <td id=\"T_6397d_row5_col12\" class=\"data row5 col12\" >30.89</td>\n",
       "      <td id=\"T_6397d_row5_col13\" class=\"data row5 col13\" >0.71</td>\n",
       "      <td id=\"T_6397d_row5_col14\" class=\"data row5 col14\" >0.77</td>\n",
       "      <td id=\"T_6397d_row5_col15\" class=\"data row5 col15\" >0.79</td>\n",
       "      <td id=\"T_6397d_row5_col16\" class=\"data row5 col16\" >0.78</td>\n",
       "      <td id=\"T_6397d_row5_col17\" class=\"data row5 col17\" >1.01</td>\n",
       "      <td id=\"T_6397d_row5_col18\" class=\"data row5 col18\" >0.78</td>\n",
       "      <td id=\"T_6397d_row5_col19\" class=\"data row5 col19\" >1.34</td>\n",
       "      <td id=\"T_6397d_row5_col20\" class=\"data row5 col20\" >0.79</td>\n",
       "      <td id=\"T_6397d_row5_col21\" class=\"data row5 col21\" >0.10</td>\n",
       "      <td id=\"T_6397d_row5_col22\" class=\"data row5 col22\" >0.64</td>\n",
       "      <td id=\"T_6397d_row5_col23\" class=\"data row5 col23\" >18.93</td>\n",
       "      <td id=\"T_6397d_row5_col24\" class=\"data row5 col24\" >0.78</td>\n",
       "      <td id=\"T_6397d_row5_col25\" class=\"data row5 col25\" >1.28</td>\n",
       "      <td id=\"T_6397d_row5_col26\" class=\"data row5 col26\" >0.74</td>\n",
       "      <td id=\"T_6397d_row5_col27\" class=\"data row5 col27\" >0.75</td>\n",
       "      <td id=\"T_6397d_row5_col28\" class=\"data row5 col28\" >-0.17</td>\n",
       "      <td id=\"T_6397d_row5_col29\" class=\"data row5 col29\" >0.74</td>\n",
       "      <td id=\"T_6397d_row5_col30\" class=\"data row5 col30\" >0.69</td>\n",
       "      <td id=\"T_6397d_row5_col31\" class=\"data row5 col31\" >0.74</td>\n",
       "      <td id=\"T_6397d_row5_col32\" class=\"data row5 col32\" >0.10</td>\n",
       "      <td id=\"T_6397d_row5_col33\" class=\"data row5 col33\" >0.47</td>\n",
       "      <td id=\"T_6397d_row5_col34\" class=\"data row5 col34\" >36.64</td>\n",
       "      <td id=\"T_6397d_row5_col35\" class=\"data row5 col35\" >0.74</td>\n",
       "      <td id=\"T_6397d_row5_col36\" class=\"data row5 col36\" >0.97</td>\n",
       "      <td id=\"T_6397d_row5_col37\" class=\"data row5 col37\" >552000</td>\n",
       "    </tr>\n",
       "    <tr>\n",
       "      <th id=\"T_6397d_level0_row6\" class=\"row_heading level0 row6\" >6</th>\n",
       "      <td id=\"T_6397d_row6_col0\" class=\"data row6 col0\" >weighted avg</td>\n",
       "      <td id=\"T_6397d_row6_col1\" class=\"data row6 col1\" >0.00</td>\n",
       "      <td id=\"T_6397d_row6_col2\" class=\"data row6 col2\" >0.00</td>\n",
       "      <td id=\"T_6397d_row6_col3\" class=\"data row6 col3\" >0.00</td>\n",
       "      <td id=\"T_6397d_row6_col4\" class=\"data row6 col4\" >1.00</td>\n",
       "      <td id=\"T_6397d_row6_col5\" class=\"data row6 col5\" >0.98</td>\n",
       "      <td id=\"T_6397d_row6_col6\" class=\"data row6 col6\" >1.60</td>\n",
       "      <td id=\"T_6397d_row6_col7\" class=\"data row6 col7\" >0.98</td>\n",
       "      <td id=\"T_6397d_row6_col8\" class=\"data row6 col8\" >2.26</td>\n",
       "      <td id=\"T_6397d_row6_col9\" class=\"data row6 col9\" >1.00</td>\n",
       "      <td id=\"T_6397d_row6_col10\" class=\"data row6 col10\" >0.17</td>\n",
       "      <td id=\"T_6397d_row6_col11\" class=\"data row6 col11\" >0.91</td>\n",
       "      <td id=\"T_6397d_row6_col12\" class=\"data row6 col12\" >8.36</td>\n",
       "      <td id=\"T_6397d_row6_col13\" class=\"data row6 col13\" >0.98</td>\n",
       "      <td id=\"T_6397d_row6_col14\" class=\"data row6 col14\" >2.19</td>\n",
       "      <td id=\"T_6397d_row6_col15\" class=\"data row6 col15\" >1.00</td>\n",
       "      <td id=\"T_6397d_row6_col16\" class=\"data row6 col16\" >0.98</td>\n",
       "      <td id=\"T_6397d_row6_col17\" class=\"data row6 col17\" >1.66</td>\n",
       "      <td id=\"T_6397d_row6_col18\" class=\"data row6 col18\" >0.97</td>\n",
       "      <td id=\"T_6397d_row6_col19\" class=\"data row6 col19\" >2.37</td>\n",
       "      <td id=\"T_6397d_row6_col20\" class=\"data row6 col20\" >1.00</td>\n",
       "      <td id=\"T_6397d_row6_col21\" class=\"data row6 col21\" >0.17</td>\n",
       "      <td id=\"T_6397d_row6_col22\" class=\"data row6 col22\" >0.90</td>\n",
       "      <td id=\"T_6397d_row6_col23\" class=\"data row6 col23\" >9.45</td>\n",
       "      <td id=\"T_6397d_row6_col24\" class=\"data row6 col24\" >0.98</td>\n",
       "      <td id=\"T_6397d_row6_col25\" class=\"data row6 col25\" >2.30</td>\n",
       "      <td id=\"T_6397d_row6_col26\" class=\"data row6 col26\" >1.00</td>\n",
       "      <td id=\"T_6397d_row6_col27\" class=\"data row6 col27\" >0.98</td>\n",
       "      <td id=\"T_6397d_row6_col28\" class=\"data row6 col28\" >1.67</td>\n",
       "      <td id=\"T_6397d_row6_col29\" class=\"data row6 col29\" >0.97</td>\n",
       "      <td id=\"T_6397d_row6_col30\" class=\"data row6 col30\" >2.38</td>\n",
       "      <td id=\"T_6397d_row6_col31\" class=\"data row6 col31\" >1.00</td>\n",
       "      <td id=\"T_6397d_row6_col32\" class=\"data row6 col32\" >0.17</td>\n",
       "      <td id=\"T_6397d_row6_col33\" class=\"data row6 col33\" >0.91</td>\n",
       "      <td id=\"T_6397d_row6_col34\" class=\"data row6 col34\" >9.21</td>\n",
       "      <td id=\"T_6397d_row6_col35\" class=\"data row6 col35\" >0.97</td>\n",
       "      <td id=\"T_6397d_row6_col36\" class=\"data row6 col36\" >2.30</td>\n",
       "      <td id=\"T_6397d_row6_col37\" class=\"data row6 col37\" >552000</td>\n",
       "    </tr>\n",
       "  </tbody>\n",
       "</table>\n"
      ],
      "text/plain": [
       "<pandas.io.formats.style.Styler at 0x7e41467608c0>"
      ]
     },
     "metadata": {},
     "output_type": "display_data"
    }
   ],
   "source": [
    "def compare_overall_metrics(baseline_report, adversarial_reports, class_degree_report):\n",
    "    rows = []   \n",
    "    metrics = ['precision', 'recall', 'f1-score']\n",
    "    eplison = 1e-10  # To avoid division by zero\n",
    "\n",
    "    for label in list(class_map) + ['macro avg', 'weighted avg']:\n",
    "        row = {\"Class\": label}\n",
    "        row['Class'] = label\n",
    "        row['Min Influence'] = class_degree_report[label]['min_influence'] if label in class_degree_report else 0.0\n",
    "        row['Avg Influence'] = class_degree_report[label]['avg_influence'] if label in class_degree_report else 0.0\n",
    "        row['Max Influence'] = class_degree_report[label]['max_influence'] if label in class_degree_report else 0.0\n",
    "        for metric in metrics:\n",
    "            baseline_val = baseline_report[label][metric]\n",
    "            row[f\"Normal {metric}\"] = baseline_val\n",
    "            for name, report in adversarial_reports.items():\n",
    "                adv_val = report[label][metric]\n",
    "                row[f\"{name} {metric}\"] = adv_val\n",
    "                row[f\"{name} {metric} Drop (%)\"] = ((baseline_val - adv_val) / (baseline_val + eplison)) * 100\n",
    "        row['support'] = int(baseline_report[label]['support'])\n",
    "        rows.append(row)\n",
    "\n",
    "    return pd.DataFrame(rows)\n",
    "\n",
    "adversarial_reports = {\n",
    "    \"To Both\": inject_both_report,\n",
    "    \"To Src\": inject_src_report,\n",
    "    \"To Dst\": inject_dst_report,\n",
    "    \"Edge Perturbation\": edge_perturb_report,\n",
    "    \"Random Edge\": random_edge_report,\n",
    "}\n",
    "\n",
    "comparison_df = compare_overall_metrics(normal_report, adversarial_reports, class_degree_report)\n",
    "\n",
    "class_col = comparison_df['Class']\n",
    "support_df = comparison_df['support']\n",
    "normal_cols = [col for col in comparison_df.columns if col.startswith('Normal')] \n",
    "influence_cols = [col for col in comparison_df.columns if col.endswith('Influence')] \n",
    "influence_df = comparison_df[influence_cols]\n",
    "f1_cols = [col for col in comparison_df.columns if col.endswith('f1-score')]\n",
    "f1_drop_cols = [col for col in comparison_df.columns if col.endswith('f1-score Drop (%)')]\n",
    "\n",
    "baselines_df = pd.concat([class_col, support_df, influence_df], axis=1)\n",
    "\n",
    "f1_df = pd.concat([baselines_df, comparison_df[f1_cols]], axis=1)\n",
    "f1_drop_df = pd.concat([baselines_df, comparison_df[f1_drop_cols]], axis=1)\n",
    "\n",
    "print(\"Comparison of Overall Metrics:\")\n",
    "display(comparison_df.style.set_caption(\"Metrics Under Adversarial Attacks\").format({col: \"{:.2f}\" for col in comparison_df.columns if col not in ['Class', 'support']}))\n"
   ]
  },
  {
   "cell_type": "code",
   "execution_count": 39,
   "id": "3725caaa",
   "metadata": {},
   "outputs": [
    {
     "data": {
      "text/html": [
       "<style type=\"text/css\">\n",
       "#T_b3b38_row0_col5, #T_b3b38_row0_col8, #T_b3b38_row0_col9, #T_b3b38_row1_col5, #T_b3b38_row1_col8, #T_b3b38_row3_col5, #T_b3b38_row3_col6, #T_b3b38_row3_col7, #T_b3b38_row3_col8, #T_b3b38_row3_col10, #T_b3b38_row6_col5, #T_b3b38_row6_col8 {\n",
       "  background-color: #00441b;\n",
       "  color: #f1f1f1;\n",
       "}\n",
       "#T_b3b38_row0_col6, #T_b3b38_row6_col6 {\n",
       "  background-color: #00471c;\n",
       "  color: #f1f1f1;\n",
       "}\n",
       "#T_b3b38_row0_col7, #T_b3b38_row0_col10, #T_b3b38_row6_col7, #T_b3b38_row6_col10 {\n",
       "  background-color: #00491d;\n",
       "  color: #f1f1f1;\n",
       "}\n",
       "#T_b3b38_row1_col6 {\n",
       "  background-color: #00481d;\n",
       "  color: #f1f1f1;\n",
       "}\n",
       "#T_b3b38_row1_col7, #T_b3b38_row1_col10 {\n",
       "  background-color: #004a1e;\n",
       "  color: #f1f1f1;\n",
       "}\n",
       "#T_b3b38_row1_col9 {\n",
       "  background-color: #004d1f;\n",
       "  color: #f1f1f1;\n",
       "}\n",
       "#T_b3b38_row2_col5, #T_b3b38_row2_col8 {\n",
       "  background-color: #268e47;\n",
       "  color: #f1f1f1;\n",
       "}\n",
       "#T_b3b38_row2_col6 {\n",
       "  background-color: #19833e;\n",
       "  color: #f1f1f1;\n",
       "}\n",
       "#T_b3b38_row2_col7 {\n",
       "  background-color: #1f8742;\n",
       "  color: #f1f1f1;\n",
       "}\n",
       "#T_b3b38_row2_col9 {\n",
       "  background-color: #f4fbf1;\n",
       "  color: #000000;\n",
       "}\n",
       "#T_b3b38_row2_col10, #T_b3b38_row5_col5, #T_b3b38_row5_col8 {\n",
       "  background-color: #238b45;\n",
       "  color: #f1f1f1;\n",
       "}\n",
       "#T_b3b38_row3_col9 {\n",
       "  background-color: #62bb6d;\n",
       "  color: #f1f1f1;\n",
       "}\n",
       "#T_b3b38_row4_col5, #T_b3b38_row4_col6, #T_b3b38_row4_col7, #T_b3b38_row4_col8, #T_b3b38_row4_col9, #T_b3b38_row4_col10 {\n",
       "  background-color: #f7fcf5;\n",
       "  color: #000000;\n",
       "}\n",
       "#T_b3b38_row5_col6 {\n",
       "  background-color: #228a44;\n",
       "  color: #f1f1f1;\n",
       "}\n",
       "#T_b3b38_row5_col7 {\n",
       "  background-color: #248c46;\n",
       "  color: #f1f1f1;\n",
       "}\n",
       "#T_b3b38_row5_col9 {\n",
       "  background-color: #70c274;\n",
       "  color: #000000;\n",
       "}\n",
       "#T_b3b38_row5_col10 {\n",
       "  background-color: #258d47;\n",
       "  color: #f1f1f1;\n",
       "}\n",
       "#T_b3b38_row6_col9 {\n",
       "  background-color: #004c1e;\n",
       "  color: #f1f1f1;\n",
       "}\n",
       "</style>\n",
       "<table id=\"T_b3b38\">\n",
       "  <caption>Percentage Drop in Metrics Under Adversarial Attacks</caption>\n",
       "  <thead>\n",
       "    <tr>\n",
       "      <th class=\"blank level0\" >&nbsp;</th>\n",
       "      <th id=\"T_b3b38_level0_col0\" class=\"col_heading level0 col0\" >Class</th>\n",
       "      <th id=\"T_b3b38_level0_col1\" class=\"col_heading level0 col1\" >support</th>\n",
       "      <th id=\"T_b3b38_level0_col2\" class=\"col_heading level0 col2\" >Min Influence</th>\n",
       "      <th id=\"T_b3b38_level0_col3\" class=\"col_heading level0 col3\" >Avg Influence</th>\n",
       "      <th id=\"T_b3b38_level0_col4\" class=\"col_heading level0 col4\" >Max Influence</th>\n",
       "      <th id=\"T_b3b38_level0_col5\" class=\"col_heading level0 col5\" >Normal f1-score</th>\n",
       "      <th id=\"T_b3b38_level0_col6\" class=\"col_heading level0 col6\" >To Both f1-score</th>\n",
       "      <th id=\"T_b3b38_level0_col7\" class=\"col_heading level0 col7\" >To Src f1-score</th>\n",
       "      <th id=\"T_b3b38_level0_col8\" class=\"col_heading level0 col8\" >To Dst f1-score</th>\n",
       "      <th id=\"T_b3b38_level0_col9\" class=\"col_heading level0 col9\" >Edge Perturbation f1-score</th>\n",
       "      <th id=\"T_b3b38_level0_col10\" class=\"col_heading level0 col10\" >Random Edge f1-score</th>\n",
       "    </tr>\n",
       "  </thead>\n",
       "  <tbody>\n",
       "    <tr>\n",
       "      <th id=\"T_b3b38_level0_row0\" class=\"row_heading level0 row0\" >0</th>\n",
       "      <td id=\"T_b3b38_row0_col0\" class=\"data row0 col0\" >DDoS</td>\n",
       "      <td id=\"T_b3b38_row0_col1\" class=\"data row0 col1\" >290000</td>\n",
       "      <td id=\"T_b3b38_row0_col2\" class=\"data row0 col2\" >0.00</td>\n",
       "      <td id=\"T_b3b38_row0_col3\" class=\"data row0 col3\" >0.00</td>\n",
       "      <td id=\"T_b3b38_row0_col4\" class=\"data row0 col4\" >14.16</td>\n",
       "      <td id=\"T_b3b38_row0_col5\" class=\"data row0 col5\" >1.00</td>\n",
       "      <td id=\"T_b3b38_row0_col6\" class=\"data row0 col6\" >0.98</td>\n",
       "      <td id=\"T_b3b38_row0_col7\" class=\"data row0 col7\" >0.98</td>\n",
       "      <td id=\"T_b3b38_row0_col8\" class=\"data row0 col8\" >1.00</td>\n",
       "      <td id=\"T_b3b38_row0_col9\" class=\"data row0 col9\" >0.93</td>\n",
       "      <td id=\"T_b3b38_row0_col10\" class=\"data row0 col10\" >0.98</td>\n",
       "    </tr>\n",
       "    <tr>\n",
       "      <th id=\"T_b3b38_level0_row1\" class=\"row_heading level0 row1\" >1</th>\n",
       "      <td id=\"T_b3b38_row1_col0\" class=\"data row1 col0\" >DoS</td>\n",
       "      <td id=\"T_b3b38_row1_col1\" class=\"data row1 col1\" >248000</td>\n",
       "      <td id=\"T_b3b38_row1_col2\" class=\"data row1 col2\" >0.00</td>\n",
       "      <td id=\"T_b3b38_row1_col3\" class=\"data row1 col3\" >0.00</td>\n",
       "      <td id=\"T_b3b38_row1_col4\" class=\"data row1 col4\" >1.16</td>\n",
       "      <td id=\"T_b3b38_row1_col5\" class=\"data row1 col5\" >1.00</td>\n",
       "      <td id=\"T_b3b38_row1_col6\" class=\"data row1 col6\" >0.98</td>\n",
       "      <td id=\"T_b3b38_row1_col7\" class=\"data row1 col7\" >0.97</td>\n",
       "      <td id=\"T_b3b38_row1_col8\" class=\"data row1 col8\" >1.00</td>\n",
       "      <td id=\"T_b3b38_row1_col9\" class=\"data row1 col9\" >0.90</td>\n",
       "      <td id=\"T_b3b38_row1_col10\" class=\"data row1 col10\" >0.97</td>\n",
       "    </tr>\n",
       "    <tr>\n",
       "      <th id=\"T_b3b38_level0_row2\" class=\"row_heading level0 row2\" >2</th>\n",
       "      <td id=\"T_b3b38_row2_col0\" class=\"data row2 col0\" >Normal</td>\n",
       "      <td id=\"T_b3b38_row2_col1\" class=\"data row2 col1\" >68</td>\n",
       "      <td id=\"T_b3b38_row2_col2\" class=\"data row2 col2\" >0.00</td>\n",
       "      <td id=\"T_b3b38_row2_col3\" class=\"data row2 col3\" >0.00</td>\n",
       "      <td id=\"T_b3b38_row2_col4\" class=\"data row2 col4\" >0.00</td>\n",
       "      <td id=\"T_b3b38_row2_col5\" class=\"data row2 col5\" >0.73</td>\n",
       "      <td id=\"T_b3b38_row2_col6\" class=\"data row2 col6\" >0.78</td>\n",
       "      <td id=\"T_b3b38_row2_col7\" class=\"data row2 col7\" >0.76</td>\n",
       "      <td id=\"T_b3b38_row2_col8\" class=\"data row2 col8\" >0.73</td>\n",
       "      <td id=\"T_b3b38_row2_col9\" class=\"data row2 col9\" >0.02</td>\n",
       "      <td id=\"T_b3b38_row2_col10\" class=\"data row2 col10\" >0.75</td>\n",
       "    </tr>\n",
       "    <tr>\n",
       "      <th id=\"T_b3b38_level0_row3\" class=\"row_heading level0 row3\" >3</th>\n",
       "      <td id=\"T_b3b38_row3_col0\" class=\"data row3 col0\" >Reconnaissance</td>\n",
       "      <td id=\"T_b3b38_row3_col1\" class=\"data row3 col1\" >13932</td>\n",
       "      <td id=\"T_b3b38_row3_col2\" class=\"data row3 col2\" >0.00</td>\n",
       "      <td id=\"T_b3b38_row3_col3\" class=\"data row3 col3\" >0.02</td>\n",
       "      <td id=\"T_b3b38_row3_col4\" class=\"data row3 col4\" >820.84</td>\n",
       "      <td id=\"T_b3b38_row3_col5\" class=\"data row3 col5\" >1.00</td>\n",
       "      <td id=\"T_b3b38_row3_col6\" class=\"data row3 col6\" >0.99</td>\n",
       "      <td id=\"T_b3b38_row3_col7\" class=\"data row3 col7\" >0.99</td>\n",
       "      <td id=\"T_b3b38_row3_col8\" class=\"data row3 col8\" >1.00</td>\n",
       "      <td id=\"T_b3b38_row3_col9\" class=\"data row3 col9\" >0.51</td>\n",
       "      <td id=\"T_b3b38_row3_col10\" class=\"data row3 col10\" >0.99</td>\n",
       "    </tr>\n",
       "    <tr>\n",
       "      <th id=\"T_b3b38_level0_row4\" class=\"row_heading level0 row4\" >4</th>\n",
       "      <td id=\"T_b3b38_row4_col0\" class=\"data row4 col0\" >Theft</td>\n",
       "      <td id=\"T_b3b38_row4_col1\" class=\"data row4 col1\" >0</td>\n",
       "      <td id=\"T_b3b38_row4_col2\" class=\"data row4 col2\" >0.00</td>\n",
       "      <td id=\"T_b3b38_row4_col3\" class=\"data row4 col3\" >0.00</td>\n",
       "      <td id=\"T_b3b38_row4_col4\" class=\"data row4 col4\" >0.00</td>\n",
       "      <td id=\"T_b3b38_row4_col5\" class=\"data row4 col5\" >0.00</td>\n",
       "      <td id=\"T_b3b38_row4_col6\" class=\"data row4 col6\" >0.00</td>\n",
       "      <td id=\"T_b3b38_row4_col7\" class=\"data row4 col7\" >0.00</td>\n",
       "      <td id=\"T_b3b38_row4_col8\" class=\"data row4 col8\" >0.00</td>\n",
       "      <td id=\"T_b3b38_row4_col9\" class=\"data row4 col9\" >0.00</td>\n",
       "      <td id=\"T_b3b38_row4_col10\" class=\"data row4 col10\" >0.00</td>\n",
       "    </tr>\n",
       "    <tr>\n",
       "      <th id=\"T_b3b38_level0_row5\" class=\"row_heading level0 row5\" >5</th>\n",
       "      <td id=\"T_b3b38_row5_col0\" class=\"data row5 col0\" >macro avg</td>\n",
       "      <td id=\"T_b3b38_row5_col1\" class=\"data row5 col1\" >552000</td>\n",
       "      <td id=\"T_b3b38_row5_col2\" class=\"data row5 col2\" >0.00</td>\n",
       "      <td id=\"T_b3b38_row5_col3\" class=\"data row5 col3\" >0.00</td>\n",
       "      <td id=\"T_b3b38_row5_col4\" class=\"data row5 col4\" >0.00</td>\n",
       "      <td id=\"T_b3b38_row5_col5\" class=\"data row5 col5\" >0.74</td>\n",
       "      <td id=\"T_b3b38_row5_col6\" class=\"data row5 col6\" >0.75</td>\n",
       "      <td id=\"T_b3b38_row5_col7\" class=\"data row5 col7\" >0.74</td>\n",
       "      <td id=\"T_b3b38_row5_col8\" class=\"data row5 col8\" >0.74</td>\n",
       "      <td id=\"T_b3b38_row5_col9\" class=\"data row5 col9\" >0.47</td>\n",
       "      <td id=\"T_b3b38_row5_col10\" class=\"data row5 col10\" >0.74</td>\n",
       "    </tr>\n",
       "    <tr>\n",
       "      <th id=\"T_b3b38_level0_row6\" class=\"row_heading level0 row6\" >6</th>\n",
       "      <td id=\"T_b3b38_row6_col0\" class=\"data row6 col0\" >weighted avg</td>\n",
       "      <td id=\"T_b3b38_row6_col1\" class=\"data row6 col1\" >552000</td>\n",
       "      <td id=\"T_b3b38_row6_col2\" class=\"data row6 col2\" >0.00</td>\n",
       "      <td id=\"T_b3b38_row6_col3\" class=\"data row6 col3\" >0.00</td>\n",
       "      <td id=\"T_b3b38_row6_col4\" class=\"data row6 col4\" >0.00</td>\n",
       "      <td id=\"T_b3b38_row6_col5\" class=\"data row6 col5\" >1.00</td>\n",
       "      <td id=\"T_b3b38_row6_col6\" class=\"data row6 col6\" >0.98</td>\n",
       "      <td id=\"T_b3b38_row6_col7\" class=\"data row6 col7\" >0.97</td>\n",
       "      <td id=\"T_b3b38_row6_col8\" class=\"data row6 col8\" >1.00</td>\n",
       "      <td id=\"T_b3b38_row6_col9\" class=\"data row6 col9\" >0.91</td>\n",
       "      <td id=\"T_b3b38_row6_col10\" class=\"data row6 col10\" >0.97</td>\n",
       "    </tr>\n",
       "  </tbody>\n",
       "</table>\n"
      ],
      "text/plain": [
       "<pandas.io.formats.style.Styler at 0x7e3fad0d0620>"
      ]
     },
     "metadata": {},
     "output_type": "display_data"
    }
   ],
   "source": [
    "# Check F1 Scores\n",
    "display(f1_df.style.background_gradient(cmap='Greens', subset=f1_cols, axis=0).set_caption(\"Percentage Drop in Metrics Under Adversarial Attacks\").format({col: \"{:.2f}\" for col in comparison_df.columns if col not in ['Class', 'support']}))"
   ]
  },
  {
   "cell_type": "code",
   "execution_count": 40,
   "id": "4e5c86f3",
   "metadata": {},
   "outputs": [
    {
     "data": {
      "text/html": [
       "<style type=\"text/css\">\n",
       "#T_e74e6_row0_col5 {\n",
       "  background-color: #fdd4c2;\n",
       "  color: #000000;\n",
       "}\n",
       "#T_e74e6_row0_col6 {\n",
       "  background-color: #fcbda4;\n",
       "  color: #000000;\n",
       "}\n",
       "#T_e74e6_row0_col7 {\n",
       "  background-color: #fff5f0;\n",
       "  color: #000000;\n",
       "}\n",
       "#T_e74e6_row0_col8 {\n",
       "  background-color: #67000d;\n",
       "  color: #f1f1f1;\n",
       "}\n",
       "#T_e74e6_row0_col9 {\n",
       "  background-color: #fcbfa7;\n",
       "  color: #000000;\n",
       "}\n",
       "</style>\n",
       "<table id=\"T_e74e6\">\n",
       "  <caption>Percentage Drop in Metrics Under Adversarial Attacks</caption>\n",
       "  <thead>\n",
       "    <tr>\n",
       "      <th class=\"blank level0\" >&nbsp;</th>\n",
       "      <th id=\"T_e74e6_level0_col0\" class=\"col_heading level0 col0\" >Class</th>\n",
       "      <th id=\"T_e74e6_level0_col1\" class=\"col_heading level0 col1\" >support</th>\n",
       "      <th id=\"T_e74e6_level0_col2\" class=\"col_heading level0 col2\" >Min Influence</th>\n",
       "      <th id=\"T_e74e6_level0_col3\" class=\"col_heading level0 col3\" >Avg Influence</th>\n",
       "      <th id=\"T_e74e6_level0_col4\" class=\"col_heading level0 col4\" >Max Influence</th>\n",
       "      <th id=\"T_e74e6_level0_col5\" class=\"col_heading level0 col5\" >To Both f1-score Drop (%)</th>\n",
       "      <th id=\"T_e74e6_level0_col6\" class=\"col_heading level0 col6\" >To Src f1-score Drop (%)</th>\n",
       "      <th id=\"T_e74e6_level0_col7\" class=\"col_heading level0 col7\" >To Dst f1-score Drop (%)</th>\n",
       "      <th id=\"T_e74e6_level0_col8\" class=\"col_heading level0 col8\" >Edge Perturbation f1-score Drop (%)</th>\n",
       "      <th id=\"T_e74e6_level0_col9\" class=\"col_heading level0 col9\" >Random Edge f1-score Drop (%)</th>\n",
       "    </tr>\n",
       "  </thead>\n",
       "  <tbody>\n",
       "    <tr>\n",
       "      <th id=\"T_e74e6_level0_row0\" class=\"row_heading level0 row0\" >6</th>\n",
       "      <td id=\"T_e74e6_row0_col0\" class=\"data row0 col0\" >weighted avg</td>\n",
       "      <td id=\"T_e74e6_row0_col1\" class=\"data row0 col1\" >552000</td>\n",
       "      <td id=\"T_e74e6_row0_col2\" class=\"data row0 col2\" >0.00</td>\n",
       "      <td id=\"T_e74e6_row0_col3\" class=\"data row0 col3\" >0.00</td>\n",
       "      <td id=\"T_e74e6_row0_col4\" class=\"data row0 col4\" >0.00</td>\n",
       "      <td id=\"T_e74e6_row0_col5\" class=\"data row0 col5\" >1.67</td>\n",
       "      <td id=\"T_e74e6_row0_col6\" class=\"data row0 col6\" >2.38</td>\n",
       "      <td id=\"T_e74e6_row0_col7\" class=\"data row0 col7\" >0.17</td>\n",
       "      <td id=\"T_e74e6_row0_col8\" class=\"data row0 col8\" >9.21</td>\n",
       "      <td id=\"T_e74e6_row0_col9\" class=\"data row0 col9\" >2.30</td>\n",
       "    </tr>\n",
       "  </tbody>\n",
       "</table>\n"
      ],
      "text/plain": [
       "<pandas.io.formats.style.Styler at 0x7e3f9c6d9370>"
      ]
     },
     "metadata": {},
     "output_type": "display_data"
    }
   ],
   "source": [
    "# Compare Drops per Adversarial Attack\n",
    "display(f1_drop_df[f1_drop_df['Class'] == 'weighted avg'].style.background_gradient(cmap='Reds', subset=f1_drop_cols, axis=None).set_caption(\"Percentage Drop in Metrics Under Adversarial Attacks\").format({col: \"{:.2f}\" for col in comparison_df.columns if col not in ['Class', 'support']}))"
   ]
  },
  {
   "cell_type": "code",
   "execution_count": 41,
   "id": "bb8033d6",
   "metadata": {},
   "outputs": [
    {
     "data": {
      "text/html": [
       "<style type=\"text/css\">\n",
       "#T_995bf_row0_col5 {\n",
       "  background-color: #7a0510;\n",
       "  color: #f1f1f1;\n",
       "}\n",
       "#T_995bf_row0_col6 {\n",
       "  background-color: #900a12;\n",
       "  color: #f1f1f1;\n",
       "}\n",
       "#T_995bf_row0_col7 {\n",
       "  background-color: #af1117;\n",
       "  color: #f1f1f1;\n",
       "}\n",
       "#T_995bf_row0_col8 {\n",
       "  background-color: #fee9df;\n",
       "  color: #000000;\n",
       "}\n",
       "#T_995bf_row0_col9 {\n",
       "  background-color: #a10e15;\n",
       "  color: #f1f1f1;\n",
       "}\n",
       "#T_995bf_row1_col5, #T_995bf_row1_col6, #T_995bf_row1_col7, #T_995bf_row1_col9, #T_995bf_row2_col8 {\n",
       "  background-color: #67000d;\n",
       "  color: #f1f1f1;\n",
       "}\n",
       "#T_995bf_row1_col8 {\n",
       "  background-color: #fee5d8;\n",
       "  color: #000000;\n",
       "}\n",
       "#T_995bf_row2_col5, #T_995bf_row2_col6, #T_995bf_row2_col7, #T_995bf_row2_col9, #T_995bf_row3_col7, #T_995bf_row4_col7, #T_995bf_row4_col8 {\n",
       "  background-color: #fff5f0;\n",
       "  color: #000000;\n",
       "}\n",
       "#T_995bf_row3_col5 {\n",
       "  background-color: #be151a;\n",
       "  color: #f1f1f1;\n",
       "}\n",
       "#T_995bf_row3_col6 {\n",
       "  background-color: #f34935;\n",
       "  color: #f1f1f1;\n",
       "}\n",
       "#T_995bf_row3_col8 {\n",
       "  background-color: #fa6849;\n",
       "  color: #f1f1f1;\n",
       "}\n",
       "#T_995bf_row3_col9 {\n",
       "  background-color: #fc8666;\n",
       "  color: #f1f1f1;\n",
       "}\n",
       "#T_995bf_row4_col5 {\n",
       "  background-color: #c9181d;\n",
       "  color: #f1f1f1;\n",
       "}\n",
       "#T_995bf_row4_col6 {\n",
       "  background-color: #f5533b;\n",
       "  color: #f1f1f1;\n",
       "}\n",
       "#T_995bf_row4_col9 {\n",
       "  background-color: #fc8d6d;\n",
       "  color: #f1f1f1;\n",
       "}\n",
       "#T_995bf_row5_col5 {\n",
       "  background-color: #cf1c1f;\n",
       "  color: #f1f1f1;\n",
       "}\n",
       "#T_995bf_row5_col6 {\n",
       "  background-color: #e22e27;\n",
       "  color: #f1f1f1;\n",
       "}\n",
       "#T_995bf_row5_col7 {\n",
       "  background-color: #fb6c4c;\n",
       "  color: #f1f1f1;\n",
       "}\n",
       "#T_995bf_row5_col8 {\n",
       "  background-color: #fc9272;\n",
       "  color: #000000;\n",
       "}\n",
       "#T_995bf_row5_col9 {\n",
       "  background-color: #f03f2e;\n",
       "  color: #f1f1f1;\n",
       "}\n",
       "#T_995bf_row6_col5 {\n",
       "  background-color: #75030f;\n",
       "  color: #f1f1f1;\n",
       "}\n",
       "#T_995bf_row6_col6 {\n",
       "  background-color: #820711;\n",
       "  color: #f1f1f1;\n",
       "}\n",
       "#T_995bf_row6_col7 {\n",
       "  background-color: #9c0d14;\n",
       "  color: #f1f1f1;\n",
       "}\n",
       "#T_995bf_row6_col8 {\n",
       "  background-color: #fee5d9;\n",
       "  color: #000000;\n",
       "}\n",
       "#T_995bf_row6_col9 {\n",
       "  background-color: #8c0912;\n",
       "  color: #f1f1f1;\n",
       "}\n",
       "</style>\n",
       "<table id=\"T_995bf\">\n",
       "  <caption>Percentage Drop in Metrics Under Adversarial Attacks</caption>\n",
       "  <thead>\n",
       "    <tr>\n",
       "      <th class=\"blank level0\" >&nbsp;</th>\n",
       "      <th id=\"T_995bf_level0_col0\" class=\"col_heading level0 col0\" >Class</th>\n",
       "      <th id=\"T_995bf_level0_col1\" class=\"col_heading level0 col1\" >support</th>\n",
       "      <th id=\"T_995bf_level0_col2\" class=\"col_heading level0 col2\" >Min Influence</th>\n",
       "      <th id=\"T_995bf_level0_col3\" class=\"col_heading level0 col3\" >Avg Influence</th>\n",
       "      <th id=\"T_995bf_level0_col4\" class=\"col_heading level0 col4\" >Max Influence</th>\n",
       "      <th id=\"T_995bf_level0_col5\" class=\"col_heading level0 col5\" >To Both f1-score Drop (%)</th>\n",
       "      <th id=\"T_995bf_level0_col6\" class=\"col_heading level0 col6\" >To Src f1-score Drop (%)</th>\n",
       "      <th id=\"T_995bf_level0_col7\" class=\"col_heading level0 col7\" >To Dst f1-score Drop (%)</th>\n",
       "      <th id=\"T_995bf_level0_col8\" class=\"col_heading level0 col8\" >Edge Perturbation f1-score Drop (%)</th>\n",
       "      <th id=\"T_995bf_level0_col9\" class=\"col_heading level0 col9\" >Random Edge f1-score Drop (%)</th>\n",
       "    </tr>\n",
       "  </thead>\n",
       "  <tbody>\n",
       "    <tr>\n",
       "      <th id=\"T_995bf_level0_row0\" class=\"row_heading level0 row0\" >0</th>\n",
       "      <td id=\"T_995bf_row0_col0\" class=\"data row0 col0\" >DDoS</td>\n",
       "      <td id=\"T_995bf_row0_col1\" class=\"data row0 col1\" >290000</td>\n",
       "      <td id=\"T_995bf_row0_col2\" class=\"data row0 col2\" >0.00</td>\n",
       "      <td id=\"T_995bf_row0_col3\" class=\"data row0 col3\" >0.00</td>\n",
       "      <td id=\"T_995bf_row0_col4\" class=\"data row0 col4\" >14.16</td>\n",
       "      <td id=\"T_995bf_row0_col5\" class=\"data row0 col5\" >1.55</td>\n",
       "      <td id=\"T_995bf_row0_col6\" class=\"data row0 col6\" >2.20</td>\n",
       "      <td id=\"T_995bf_row0_col7\" class=\"data row0 col7\" >0.16</td>\n",
       "      <td id=\"T_995bf_row0_col8\" class=\"data row0 col8\" >6.98</td>\n",
       "      <td id=\"T_995bf_row0_col9\" class=\"data row0 col9\" >2.13</td>\n",
       "    </tr>\n",
       "    <tr>\n",
       "      <th id=\"T_995bf_level0_row1\" class=\"row_heading level0 row1\" >1</th>\n",
       "      <td id=\"T_995bf_row1_col0\" class=\"data row1 col0\" >DoS</td>\n",
       "      <td id=\"T_995bf_row1_col1\" class=\"data row1 col1\" >248000</td>\n",
       "      <td id=\"T_995bf_row1_col2\" class=\"data row1 col2\" >0.00</td>\n",
       "      <td id=\"T_995bf_row1_col3\" class=\"data row1 col3\" >0.00</td>\n",
       "      <td id=\"T_995bf_row1_col4\" class=\"data row1 col4\" >1.16</td>\n",
       "      <td id=\"T_995bf_row1_col5\" class=\"data row1 col5\" >1.88</td>\n",
       "      <td id=\"T_995bf_row1_col6\" class=\"data row1 col6\" >2.72</td>\n",
       "      <td id=\"T_995bf_row1_col7\" class=\"data row1 col7\" >0.20</td>\n",
       "      <td id=\"T_995bf_row1_col8\" class=\"data row1 col8\" >9.56</td>\n",
       "      <td id=\"T_995bf_row1_col9\" class=\"data row1 col9\" >2.64</td>\n",
       "    </tr>\n",
       "    <tr>\n",
       "      <th id=\"T_995bf_level0_row2\" class=\"row_heading level0 row2\" >2</th>\n",
       "      <td id=\"T_995bf_row2_col0\" class=\"data row2 col0\" >Normal</td>\n",
       "      <td id=\"T_995bf_row2_col1\" class=\"data row2 col1\" >68</td>\n",
       "      <td id=\"T_995bf_row2_col2\" class=\"data row2 col2\" >0.00</td>\n",
       "      <td id=\"T_995bf_row2_col3\" class=\"data row2 col3\" >0.00</td>\n",
       "      <td id=\"T_995bf_row2_col4\" class=\"data row2 col4\" >0.00</td>\n",
       "      <td id=\"T_995bf_row2_col5\" class=\"data row2 col5\" >-5.88</td>\n",
       "      <td id=\"T_995bf_row2_col6\" class=\"data row2 col6\" >-3.45</td>\n",
       "      <td id=\"T_995bf_row2_col7\" class=\"data row2 col7\" >0.00</td>\n",
       "      <td id=\"T_995bf_row2_col8\" class=\"data row2 col8\" >96.95</td>\n",
       "      <td id=\"T_995bf_row2_col9\" class=\"data row2 col9\" >-1.69</td>\n",
       "    </tr>\n",
       "    <tr>\n",
       "      <th id=\"T_995bf_level0_row3\" class=\"row_heading level0 row3\" >3</th>\n",
       "      <td id=\"T_995bf_row3_col0\" class=\"data row3 col0\" >Reconnaissance</td>\n",
       "      <td id=\"T_995bf_row3_col1\" class=\"data row3 col1\" >13932</td>\n",
       "      <td id=\"T_995bf_row3_col2\" class=\"data row3 col2\" >0.00</td>\n",
       "      <td id=\"T_995bf_row3_col3\" class=\"data row3 col3\" >0.02</td>\n",
       "      <td id=\"T_995bf_row3_col4\" class=\"data row3 col4\" >820.84</td>\n",
       "      <td id=\"T_995bf_row3_col5\" class=\"data row3 col5\" >0.26</td>\n",
       "      <td id=\"T_995bf_row3_col6\" class=\"data row3 col6\" >0.19</td>\n",
       "      <td id=\"T_995bf_row3_col7\" class=\"data row3 col7\" >-0.00</td>\n",
       "      <td id=\"T_995bf_row3_col8\" class=\"data row3 col8\" >49.09</td>\n",
       "      <td id=\"T_995bf_row3_col9\" class=\"data row3 col9\" >0.09</td>\n",
       "    </tr>\n",
       "    <tr>\n",
       "      <th id=\"T_995bf_level0_row4\" class=\"row_heading level0 row4\" >4</th>\n",
       "      <td id=\"T_995bf_row4_col0\" class=\"data row4 col0\" >Theft</td>\n",
       "      <td id=\"T_995bf_row4_col1\" class=\"data row4 col1\" >0</td>\n",
       "      <td id=\"T_995bf_row4_col2\" class=\"data row4 col2\" >0.00</td>\n",
       "      <td id=\"T_995bf_row4_col3\" class=\"data row4 col3\" >0.00</td>\n",
       "      <td id=\"T_995bf_row4_col4\" class=\"data row4 col4\" >0.00</td>\n",
       "      <td id=\"T_995bf_row4_col5\" class=\"data row4 col5\" >0.00</td>\n",
       "      <td id=\"T_995bf_row4_col6\" class=\"data row4 col6\" >0.00</td>\n",
       "      <td id=\"T_995bf_row4_col7\" class=\"data row4 col7\" >0.00</td>\n",
       "      <td id=\"T_995bf_row4_col8\" class=\"data row4 col8\" >0.00</td>\n",
       "      <td id=\"T_995bf_row4_col9\" class=\"data row4 col9\" >0.00</td>\n",
       "    </tr>\n",
       "    <tr>\n",
       "      <th id=\"T_995bf_level0_row5\" class=\"row_heading level0 row5\" >5</th>\n",
       "      <td id=\"T_995bf_row5_col0\" class=\"data row5 col0\" >macro avg</td>\n",
       "      <td id=\"T_995bf_row5_col1\" class=\"data row5 col1\" >552000</td>\n",
       "      <td id=\"T_995bf_row5_col2\" class=\"data row5 col2\" >0.00</td>\n",
       "      <td id=\"T_995bf_row5_col3\" class=\"data row5 col3\" >0.00</td>\n",
       "      <td id=\"T_995bf_row5_col4\" class=\"data row5 col4\" >0.00</td>\n",
       "      <td id=\"T_995bf_row5_col5\" class=\"data row5 col5\" >-0.17</td>\n",
       "      <td id=\"T_995bf_row5_col6\" class=\"data row5 col6\" >0.69</td>\n",
       "      <td id=\"T_995bf_row5_col7\" class=\"data row5 col7\" >0.10</td>\n",
       "      <td id=\"T_995bf_row5_col8\" class=\"data row5 col8\" >36.64</td>\n",
       "      <td id=\"T_995bf_row5_col9\" class=\"data row5 col9\" >0.97</td>\n",
       "    </tr>\n",
       "    <tr>\n",
       "      <th id=\"T_995bf_level0_row6\" class=\"row_heading level0 row6\" >6</th>\n",
       "      <td id=\"T_995bf_row6_col0\" class=\"data row6 col0\" >weighted avg</td>\n",
       "      <td id=\"T_995bf_row6_col1\" class=\"data row6 col1\" >552000</td>\n",
       "      <td id=\"T_995bf_row6_col2\" class=\"data row6 col2\" >0.00</td>\n",
       "      <td id=\"T_995bf_row6_col3\" class=\"data row6 col3\" >0.00</td>\n",
       "      <td id=\"T_995bf_row6_col4\" class=\"data row6 col4\" >0.00</td>\n",
       "      <td id=\"T_995bf_row6_col5\" class=\"data row6 col5\" >1.67</td>\n",
       "      <td id=\"T_995bf_row6_col6\" class=\"data row6 col6\" >2.38</td>\n",
       "      <td id=\"T_995bf_row6_col7\" class=\"data row6 col7\" >0.17</td>\n",
       "      <td id=\"T_995bf_row6_col8\" class=\"data row6 col8\" >9.21</td>\n",
       "      <td id=\"T_995bf_row6_col9\" class=\"data row6 col9\" >2.30</td>\n",
       "    </tr>\n",
       "  </tbody>\n",
       "</table>\n"
      ],
      "text/plain": [
       "<pandas.io.formats.style.Styler at 0x7e3fae275910>"
      ]
     },
     "metadata": {},
     "output_type": "display_data"
    }
   ],
   "source": [
    "# Compare Drops per Class\n",
    "display(f1_drop_df.style.background_gradient(cmap='Reds', subset=f1_drop_cols).set_caption(\"Percentage Drop in Metrics Under Adversarial Attacks\").format({col: \"{:.2f}\" for col in comparison_df.columns if col not in ['Class', 'support']}))"
   ]
  },
  {
   "cell_type": "code",
   "execution_count": null,
   "id": "852b5b4f",
   "metadata": {},
   "outputs": [
    {
     "name": "stdout",
     "output_type": "stream",
     "text": [
      "{'DDoS': {'influence': (0.0, 0.0, 14.16),\n",
      "          'out_degree': (1.0, 1.0, 119.0),\n",
      "          'in_degree': (1.0, 688.84, 1000.0),\n",
      "          'normal_f1': 1.0,\n",
      "          'to_both_f1': 0.98,\n",
      "          'to_src_f1': 0.98,\n",
      "          'to_dst_f1': 1.0,\n",
      "          'edge_perturb_f1': 0.93,\n",
      "          'random_edge_f1': 0.98},\n",
      " 'DoS': {'influence': (0.0, 0.0, 1.16),\n",
      "         'out_degree': (1.0, 1.0, 34.0),\n",
      "         'in_degree': (1.0, 287.37, 1000.0),\n",
      "         'normal_f1': 1.0,\n",
      "         'to_both_f1': 0.98,\n",
      "         'to_src_f1': 0.97,\n",
      "         'to_dst_f1': 1.0,\n",
      "         'edge_perturb_f1': 0.9,\n",
      "         'random_edge_f1': 0.97},\n",
      " 'Normal': {'influence': (0.0, 0.0, 0.0),\n",
      "            'out_degree': (1.0, 1.01, 2.0),\n",
      "            'in_degree': (1.0, 2.27, 20.0),\n",
      "            'normal_f1': 0.73,\n",
      "            'to_both_f1': 0.78,\n",
      "            'to_src_f1': 0.76,\n",
      "            'to_dst_f1': 0.73,\n",
      "            'edge_perturb_f1': 0.02,\n",
      "            'random_edge_f1': 0.75},\n",
      " 'Reconnaissance': {'influence': (0.0, 0.02, 820.84),\n",
      "                    'out_degree': (1.0, 5.7, 906.0),\n",
      "                    'in_degree': (1.0, 1.42, 995.0),\n",
      "                    'normal_f1': 1.0,\n",
      "                    'to_both_f1': 0.99,\n",
      "                    'to_src_f1': 0.99,\n",
      "                    'to_dst_f1': 1.0,\n",
      "                    'edge_perturb_f1': 0.51,\n",
      "                    'random_edge_f1': 0.99},\n",
      " 'Theft': {'normal_f1': 0.0,\n",
      "           'to_both_f1': 0.0,\n",
      "           'to_src_f1': 0.0,\n",
      "           'to_dst_f1': 0.0,\n",
      "           'edge_perturb_f1': 0.0,\n",
      "           'random_edge_f1': 0.0},\n",
      " 'macro avg': {'normal_f1': 0.74,\n",
      "               'to_both_f1': 0.75,\n",
      "               'to_src_f1': 0.74,\n",
      "               'to_dst_f1': 0.74,\n",
      "               'edge_perturb_f1': 0.47,\n",
      "               'random_edge_f1': 0.74},\n",
      " 'Weighted Average': {'normal_f1': 1.0,\n",
      "                      'to_both_f1': 0.98,\n",
      "                      'to_src_f1': 0.97,\n",
      "                      'to_dst_f1': 1.0,\n",
      "                      'edge_perturb_f1': 0.91,\n",
      "                      'random_edge_f1': 0.97}}\n"
     ]
    },
    {
     "ename": "",
     "evalue": "",
     "output_type": "error",
     "traceback": [
      "\u001b[1;31mThe Kernel crashed while executing code in the current cell or a previous cell. \n",
      "\u001b[1;31mPlease review the code in the cell(s) to identify a possible cause of the failure. \n",
      "\u001b[1;31mClick <a href='https://aka.ms/vscodeJupyterKernelCrash'>here</a> for more info. \n",
      "\u001b[1;31mView Jupyter <a href='command:jupyter.viewOutput'>log</a> for further details."
     ]
    }
   ],
   "source": [
    "from collections import defaultdict\n",
    "from pprint import pformat\n",
    "\n",
    "def round_tuple(t):\n",
    "    return tuple(round(x, 2) for x in t)\n",
    "\n",
    "def print_results(class_degree_report, comparison_df):\n",
    "    report_dict = defaultdict(dict)\n",
    "\n",
    "    for class_name, metrics in class_degree_report.items():\n",
    "        report_dict[class_name] = {\n",
    "            \"influence\": round_tuple((metrics['min_influence'], metrics['avg_influence'], metrics['max_influence'])),\n",
    "            \"out_degree\": round_tuple((metrics['min_out'], metrics['avg_out'], metrics['max_out'])),\n",
    "            \"in_degree\": round_tuple((metrics['min_in'], metrics['avg_in'], metrics['max_in']))\n",
    "        }\n",
    "\n",
    "    for _, row in comparison_df.iterrows():\n",
    "        class_name = row['Class']\n",
    "        if class_name == 'weighted avg':\n",
    "            class_name = 'Weighted Average'\n",
    "        report_dict[class_name].update({\n",
    "            \"normal_f1\": round(row['Normal f1-score'], 2),\n",
    "            \"to_both_f1\": round(row['To Both f1-score'], 2),\n",
    "            \"to_src_f1\": round(row['To Src f1-score'], 2),\n",
    "            \"to_dst_f1\": round(row['To Dst f1-score'], 2),\n",
    "            \"edge_perturb_f1\": round(row['Edge Perturbation f1-score'], 2),\n",
    "            \"random_edge_f1\": round(row['Random Edge f1-score'], 2),\n",
    "        })\n",
    "\n",
    "    print(pformat(dict(report_dict), sort_dicts=False, indent=1))\n",
    "\n",
    "print_results(class_degree_report, comparison_df)"
   ]
  }
 ],
 "metadata": {
  "kernelspec": {
   "display_name": ".venv",
   "language": "python",
   "name": "python3"
  },
  "language_info": {
   "codemirror_mode": {
    "name": "ipython",
    "version": 3
   },
   "file_extension": ".py",
   "mimetype": "text/x-python",
   "name": "python",
   "nbconvert_exporter": "python",
   "pygments_lexer": "ipython3",
   "version": "3.12.3"
  }
 },
 "nbformat": 4,
 "nbformat_minor": 5
}
