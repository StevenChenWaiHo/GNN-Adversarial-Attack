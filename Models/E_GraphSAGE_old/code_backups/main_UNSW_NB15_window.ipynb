{
 "cells": [
  {
   "cell_type": "code",
   "execution_count": 1,
   "id": "9fb9e1b2-1c5f-49e3-82b4-3bfe52cabad8",
   "metadata": {},
   "outputs": [],
   "source": [
    "from torch_geometric.utils import from_networkx, add_self_loops, degree\n",
    "from torch_geometric.nn import MessagePassing\n",
    "import torch_geometric.transforms as T\n",
    "from torch_geometric.data import DataLoader\n",
    "from torch_geometric.loader import NeighborSampler\n",
    "import torch.nn as nn\n",
    "import torch as th\n",
    "import torch.nn.functional as F\n",
    "# import dgl.function as fn\n",
    "import networkx as nx\n",
    "import pandas as pd\n",
    "import socket\n",
    "import struct\n",
    "import random\n",
    "from sklearn.preprocessing import LabelEncoder\n",
    "from sklearn.preprocessing import StandardScaler\n",
    "from sklearn.model_selection import train_test_split\n",
    "from sklearn.utils import class_weight\n",
    "# import seaborn as sns\n",
    "# import matplotlib.pyplot as plt\n",
    "import numpy as np\n",
    "import os\n",
    "import sys\n",
    "from iterstrat.ml_stratifiers import MultilabelStratifiedShuffleSplit\n",
    "\n",
    "project_root = os.path.abspath(os.path.join(os.getcwd(), '..', '..'))\n",
    "sys.path.append(project_root)\n",
    "\n",
    "from Datasets.UNSW_NB15.UNSW_NB15_config import UNSW_NB15_Config"
   ]
  },
  {
   "cell_type": "code",
   "execution_count": 2,
   "id": "9d9ef09a-d405-43b8-971e-fe9e6a592c9b",
   "metadata": {},
   "outputs": [
    {
     "name": "stderr",
     "output_type": "stream",
     "text": [
      "/tmp/ipykernel_52605/3660995522.py:3: DtypeWarning: Columns (3) have mixed types. Specify dtype option on import or set low_memory=False.\n",
      "  data = pd.read_csv(os.path.join(project_root, \"Datasets\", f\"UNSW_NB15/All/{csv_file_name}.csv\"))\n"
     ]
    },
    {
     "name": "stdout",
     "output_type": "stream",
     "text": [
      "attack_cat\n",
      "Normal            221876\n",
      "Generic           215481\n",
      "Exploits           44525\n",
      "Fuzzers            24246\n",
      "DoS                16353\n",
      "Reconnaissance     13987\n",
      "Analysis            2677\n",
      "Backdoor            1795\n",
      "Shellcode           1511\n",
      "Backdoors            534\n",
      "Worms                174\n",
      "Name: count, dtype: int64\n",
      "label\n",
      "1    321283\n",
      "0    221876\n",
      "Name: count, dtype: int64\n",
      "Class weights: [1.84453085e+01 2.75086857e+01 9.24683350e+01 3.01951268e+00\n",
      " 1.10899699e+00 2.03654586e+00 2.29152876e-01 2.22548139e-01\n",
      " 3.53028461e+00 3.26790807e+01 2.83782132e+02]\n"
     ]
    }
   ],
   "source": [
    "csv_file_name = \"all_raw_downsampled\"\n",
    "\n",
    "data = pd.read_csv(os.path.join(project_root, \"Datasets\", f\"UNSW_NB15/All/{csv_file_name}.csv\"))\n",
    "\n",
    "DATASET_NAME = \"UNSW_NB15\"\n",
    "\n",
    "SOURCE_IP_COL_NAME = UNSW_NB15_Config.SOURCE_IP_COL_NAME\n",
    "DESTINATION_IP_COL_NAME = UNSW_NB15_Config.DESTINATION_IP_COL_NAME\n",
    "SOURCE_PORT_COL_NAME = UNSW_NB15_Config.SOURCE_PORT_COL_NAME\n",
    "DESTINATION_PORT_COL_NAME = UNSW_NB15_Config.DESTINATION_PORT_COL_NAME\n",
    "\n",
    "ATTACK_CLASS_COL_NAME = UNSW_NB15_Config.ATTACK_CLASS_COL_NAME\n",
    "IS_ATTACK_COL_NAME = UNSW_NB15_Config.IS_ATTACK_COL_NAME\n",
    "\n",
    "BENIGN_CLASS_NAME = UNSW_NB15_Config.BENIGN_CLASS_NAME\n",
    "\n",
    "TIME_COLS = UNSW_NB15_Config.TIME_COL_NAMES\n",
    "\n",
    "MULTICLASS = True\n",
    "label_col = ATTACK_CLASS_COL_NAME if MULTICLASS else IS_ATTACK_COL_NAME\n",
    "\n",
    "print(data[ATTACK_CLASS_COL_NAME].value_counts())\n",
    "print(data[IS_ATTACK_COL_NAME].value_counts())\n",
    "\n",
    "if MULTICLASS:\n",
    "    data.drop(columns=[IS_ATTACK_COL_NAME], inplace=True)\n",
    "else:\n",
    "    data.drop(columns=[ATTACK_CLASS_COL_NAME], inplace=True)\n",
    "\n",
    "checkpoint_path = os.path.join(project_root, \"Models/E_GraphSAGE/logs\", DATASET_NAME, f\"main_window/checkpoints_{csv_file_name}.pth\")\n",
    "best_model_path = os.path.join(project_root, \"Models/E_GraphSAGE/logs\", DATASET_NAME, f\"main_window/best_model_{csv_file_name}.pth\")\n",
    "\n",
    "os.makedirs(os.path.dirname(checkpoint_path), exist_ok=True)\n",
    "os.makedirs(os.path.dirname(best_model_path), exist_ok=True)\n",
    "\n",
    "# Compute the class weights\n",
    "CLASS_WEIGHTS = class_weight.compute_class_weight(\n",
    "    class_weight='balanced',\n",
    "    classes=np.unique(data[label_col]),\n",
    "    y=data[label_col]\n",
    ")\n",
    "\n",
    "print(\"Class weights:\", CLASS_WEIGHTS)"
   ]
  },
  {
   "cell_type": "code",
   "execution_count": 3,
   "id": "449a1af1-1d3d-4179-9628-7c2ec551ce0c",
   "metadata": {},
   "outputs": [
    {
     "name": "stdout",
     "output_type": "stream",
     "text": [
      "Index(['srcip', 'sport', 'dstip', 'dsport', 'state', 'dur', 'sbytes', 'dbytes',\n",
      "       'sttl', 'dttl', 'sloss', 'dloss', 'Sload', 'Dload', 'Spkts', 'Dpkts',\n",
      "       'swin', 'dwin', 'stcpb', 'dtcpb', 'smeansz', 'dmeansz', 'trans_depth',\n",
      "       'res_bdy_len', 'Sjit', 'Djit', 'Stime', 'Ltime', 'Sintpkt', 'Dintpkt',\n",
      "       'tcprtt', 'synack', 'ackdat', 'is_sm_ips_ports', 'ct_state_ttl',\n",
      "       'ct_flw_http_mthd', 'is_ftp_login', 'ct_ftp_cmd', 'ct_srv_src',\n",
      "       'ct_srv_dst', 'ct_dst_ltm', 'ct_src_ltm', 'ct_src_dport_ltm',\n",
      "       'ct_dst_sport_ltm', 'ct_dst_src_ltm', 'attack_cat'],\n",
      "      dtype='object')\n"
     ]
    }
   ],
   "source": [
    "data.drop(columns=UNSW_NB15_Config.DROP_COLS,inplace=True)\n",
    "print(data.columns)"
   ]
  },
  {
   "cell_type": "code",
   "execution_count": 4,
   "id": "2a2c690c-86a4-49f7-aa9c-58f94529547d",
   "metadata": {},
   "outputs": [],
   "source": [
    "data[SOURCE_IP_COL_NAME] = data[SOURCE_IP_COL_NAME].apply(str)\n",
    "data[DESTINATION_IP_COL_NAME] = data[DESTINATION_IP_COL_NAME].apply(str)\n",
    "\n",
    "# # Combine Port and IP\n",
    "data[SOURCE_PORT_COL_NAME] = data[SOURCE_PORT_COL_NAME].apply(str)\n",
    "data[DESTINATION_PORT_COL_NAME] = data[DESTINATION_PORT_COL_NAME].apply(str)\n",
    "\n",
    "data[SOURCE_IP_COL_NAME] = data[SOURCE_IP_COL_NAME] + ':' + data[SOURCE_PORT_COL_NAME]\n",
    "data[DESTINATION_IP_COL_NAME] = data[DESTINATION_IP_COL_NAME] + ':' + data[DESTINATION_PORT_COL_NAME]\n",
    "data.drop(columns=[SOURCE_PORT_COL_NAME,DESTINATION_PORT_COL_NAME],inplace=True)\n",
    "\n",
    "# data[SOURCE_PORT_COL_NAME] = pd.to_numeric(data[SOURCE_PORT_COL_NAME], errors='coerce').fillna(0).astype(int)\n",
    "# data[DESTINATION_PORT_COL_NAME] = pd.to_numeric(data[DESTINATION_PORT_COL_NAME], errors='coerce').fillna(0).astype(int)"
   ]
  },
  {
   "cell_type": "code",
   "execution_count": 5,
   "id": "5651ef5b-0a9d-4641-aad7-5738092c46ce",
   "metadata": {},
   "outputs": [
    {
     "name": "stdout",
     "output_type": "stream",
     "text": [
      "<bound method NDFrame.head of                      srcip               dstip state        dur  sbytes  \\\n",
      "0             10.40.85.1:0         224.0.0.5:0   INT  50.004341     384   \n",
      "1          59.166.0.6:2142    149.171.126.4:53   CON   0.001134     132   \n",
      "2       175.45.176.0:13284   149.171.126.16:80   FIN   2.390390    1362   \n",
      "3         59.166.0.3:42587    149.171.126.8:25   FIN  34.077175   37358   \n",
      "4            10.40.170.2:0       10.40.170.2:0   INT   0.000000      46   \n",
      "...                    ...                 ...   ...        ...     ...   \n",
      "543154  175.45.176.0:47439   149.171.126.10:53   INT   0.000001     114   \n",
      "543155  175.45.176.0:47439   149.171.126.10:53   INT   0.000001     114   \n",
      "543156    59.166.0.5:53521    149.171.126.7:21   CON   1.086072    1940   \n",
      "543157  175.45.176.0:17293  149.171.126.17:110   CON   0.942984     574   \n",
      "543158  175.45.176.0:17293  149.171.126.17:110   CON   0.942984     574   \n",
      "\n",
      "        dbytes  sttl  dttl  sloss  dloss  ...  is_ftp_login  ct_ftp_cmd  \\\n",
      "0            0     1     0      0      0  ...           0.0         0.0   \n",
      "1          164    31    29      0      0  ...           0.0         0.0   \n",
      "2          268   254   252      6      1  ...           0.0         0.0   \n",
      "3         3380    31    29     18      8  ...           0.0         0.0   \n",
      "4            0     0     0      0      0  ...           0.0         0.0   \n",
      "...        ...   ...   ...    ...    ...  ...           ...         ...   \n",
      "543154       0   254     0      0      0  ...           0.0         NaN   \n",
      "543155       0   254     0      0      0  ...           0.0         NaN   \n",
      "543156    2404    31    29      8     10  ...           2.0         2.0   \n",
      "543157     676    62   252      5      6  ...           0.0         NaN   \n",
      "543158     676    62   252      5      6  ...           0.0         NaN   \n",
      "\n",
      "        ct_srv_src  ct_srv_dst  ct_dst_ltm  ct_src_ltm  ct_src_dport_ltm  \\\n",
      "0                2           4           4           2                 2   \n",
      "1               12           7           1           2                 2   \n",
      "2                5           2           2           1                 1   \n",
      "3                1           1          12          10                 1   \n",
      "4                2           2           2           2                 2   \n",
      "...            ...         ...         ...         ...               ...   \n",
      "543154          15          15          15          15                15   \n",
      "543155          15          15          15          15                15   \n",
      "543156           2           2           3           3                 2   \n",
      "543157           2           1           2           4                 2   \n",
      "543158           1           1           2           4                 2   \n",
      "\n",
      "        ct_dst_sport_ltm  ct_dst_src_ltm      attack_cat  \n",
      "0                      4               2          Normal  \n",
      "1                      1               1          Normal  \n",
      "2                      1               1  Reconnaissance  \n",
      "3                      1               2          Normal  \n",
      "4                      2               2          Normal  \n",
      "...                  ...             ...             ...  \n",
      "543154                15              15         Generic  \n",
      "543155                15              15         Generic  \n",
      "543156                 2               3          Normal  \n",
      "543157                 2               2        Exploits  \n",
      "543158                 2               2        Exploits  \n",
      "\n",
      "[543159 rows x 44 columns]>\n"
     ]
    }
   ],
   "source": [
    "print(data.head)"
   ]
  },
  {
   "cell_type": "code",
   "execution_count": 6,
   "id": "cb7fb458-ca34-42ca-a8af-f8e1609aff0c",
   "metadata": {},
   "outputs": [],
   "source": [
    "data = pd.get_dummies(data, columns = UNSW_NB15_Config.CATEGORICAL_COLS) # One Hot Encoding for categorical data\n",
    "converted_categorical_cols = [col for col in data.columns if col.startswith(tuple(UNSW_NB15_Config.CATEGORICAL_COLS))]"
   ]
  },
  {
   "cell_type": "code",
   "execution_count": 7,
   "id": "e2d96115-31f9-48cb-b3e6-7853d2d253cf",
   "metadata": {},
   "outputs": [
    {
     "name": "stdout",
     "output_type": "stream",
     "text": [
      "<bound method NDFrame.head of                      srcip               dstip        dur  sbytes  dbytes  \\\n",
      "0             10.40.85.1:0         224.0.0.5:0  50.004341     384       0   \n",
      "1          59.166.0.6:2142    149.171.126.4:53   0.001134     132     164   \n",
      "2       175.45.176.0:13284   149.171.126.16:80   2.390390    1362     268   \n",
      "3         59.166.0.3:42587    149.171.126.8:25  34.077175   37358    3380   \n",
      "4            10.40.170.2:0       10.40.170.2:0   0.000000      46       0   \n",
      "...                    ...                 ...        ...     ...     ...   \n",
      "543154  175.45.176.0:47439   149.171.126.10:53   0.000001     114       0   \n",
      "543155  175.45.176.0:47439   149.171.126.10:53   0.000001     114       0   \n",
      "543156    59.166.0.5:53521    149.171.126.7:21   1.086072    1940    2404   \n",
      "543157  175.45.176.0:17293  149.171.126.17:110   0.942984     574     676   \n",
      "543158  175.45.176.0:17293  149.171.126.17:110   0.942984     574     676   \n",
      "\n",
      "        sttl  dttl  sloss  dloss         Sload  ...  state_ECO  state_FIN  \\\n",
      "0          1     0      0      0  5.119556e+01  ...      False      False   \n",
      "1         31    29      0      0  4.656085e+05  ...      False      False   \n",
      "2        254   252      6      1  4.233619e+03  ...      False       True   \n",
      "3         31    29     18      8  8.601652e+03  ...      False       True   \n",
      "4          0     0      0      0  0.000000e+00  ...      False      False   \n",
      "...      ...   ...    ...    ...           ...  ...        ...        ...   \n",
      "543154   254     0      0      0  4.560000e+08  ...      False      False   \n",
      "543155   254     0      0      0  4.560000e+08  ...      False      False   \n",
      "543156    31    29      8     10  1.387017e+04  ...      False      False   \n",
      "543157    62   252      5      6  4.470914e+03  ...      False      False   \n",
      "543158    62   252      5      6  4.470914e+03  ...      False      False   \n",
      "\n",
      "        state_INT  state_MAS  state_PAR  state_REQ  state_RST  state_TST  \\\n",
      "0            True      False      False      False      False      False   \n",
      "1           False      False      False      False      False      False   \n",
      "2           False      False      False      False      False      False   \n",
      "3           False      False      False      False      False      False   \n",
      "4            True      False      False      False      False      False   \n",
      "...           ...        ...        ...        ...        ...        ...   \n",
      "543154       True      False      False      False      False      False   \n",
      "543155       True      False      False      False      False      False   \n",
      "543156      False      False      False      False      False      False   \n",
      "543157      False      False      False      False      False      False   \n",
      "543158      False      False      False      False      False      False   \n",
      "\n",
      "        state_TXD  state_URH  \n",
      "0           False      False  \n",
      "1           False      False  \n",
      "2           False      False  \n",
      "3           False      False  \n",
      "4           False      False  \n",
      "...           ...        ...  \n",
      "543154      False      False  \n",
      "543155      False      False  \n",
      "543156      False      False  \n",
      "543157      False      False  \n",
      "543158      False      False  \n",
      "\n",
      "[543159 rows x 56 columns]>\n"
     ]
    }
   ],
   "source": [
    "data = data.reset_index()\n",
    "data.replace([np.inf, -np.inf], np.nan,inplace = True)\n",
    "data.fillna(0,inplace = True)\n",
    "data.drop(columns=['index'],inplace=True)\n",
    "print(data.head)"
   ]
  },
  {
   "cell_type": "code",
   "execution_count": 8,
   "id": "b1df5c4c-70a2-4566-ae5e-ee3dcc6037a5",
   "metadata": {},
   "outputs": [
    {
     "name": "stdout",
     "output_type": "stream",
     "text": [
      "                 dur        sbytes        dbytes           sttl  \\\n",
      "count  543159.000000  5.431590e+05  5.431590e+05  543159.000000   \n",
      "mean        0.706760  5.136572e+03  1.936909e+04     157.197364   \n",
      "std        12.637229  1.202311e+05  1.390925e+05     108.452474   \n",
      "min         0.000000  0.000000e+00  0.000000e+00       0.000000   \n",
      "25%         0.000007  1.140000e+02  0.000000e+00      31.000000   \n",
      "50%         0.000011  2.000000e+02  0.000000e+00     254.000000   \n",
      "75%         0.072088  1.580000e+03  1.940000e+03     254.000000   \n",
      "max      8760.776367  1.435577e+07  1.465753e+07     255.000000   \n",
      "\n",
      "                dttl          sloss          dloss         Sload  \\\n",
      "count  543159.000000  543159.000000  543159.000000  5.431590e+05   \n",
      "mean       38.850764       3.800661       8.729770  6.877595e+07   \n",
      "std        77.034389      45.616565      50.136204  1.420534e+08   \n",
      "min         0.000000       0.000000       0.000000  0.000000e+00   \n",
      "25%         0.000000       0.000000       0.000000  3.705672e+05   \n",
      "50%         0.000000       0.000000       0.000000  4.560000e+07   \n",
      "75%        29.000000       3.000000       4.000000  8.888889e+07   \n",
      "max       254.000000    5319.000000    5507.000000  5.988000e+09   \n",
      "\n",
      "              Dload          Spkts  ...  ct_flw_http_mthd   is_ftp_login  \\\n",
      "count  5.431590e+05  543159.000000  ...     543159.000000  543159.000000   \n",
      "mean   1.148111e+06      20.369921  ...          0.088724       0.011490   \n",
      "std    3.127653e+06     101.923505  ...          0.566327       0.109623   \n",
      "min    0.000000e+00       0.000000  ...          0.000000       0.000000   \n",
      "25%    0.000000e+00       2.000000  ...          0.000000       0.000000   \n",
      "50%    0.000000e+00       2.000000  ...          0.000000       0.000000   \n",
      "75%    4.087816e+05      14.000000  ...          0.000000       0.000000   \n",
      "max    2.274587e+07   10646.000000  ...         36.000000       4.000000   \n",
      "\n",
      "          ct_ftp_cmd     ct_srv_src     ct_srv_dst     ct_dst_ltm  \\\n",
      "count  543159.000000  543159.000000  543159.000000  543159.000000   \n",
      "mean        0.013029      15.008556      14.833110      10.306825   \n",
      "std         0.141497      14.229735      14.305878      10.989668   \n",
      "min         0.000000       1.000000       1.000000       1.000000   \n",
      "25%         0.000000       3.000000       3.000000       2.000000   \n",
      "50%         0.000000       9.000000       8.000000       5.000000   \n",
      "75%         0.000000      26.000000      26.000000      17.000000   \n",
      "max         8.000000      67.000000      67.000000      67.000000   \n",
      "\n",
      "          ct_src_ltm  ct_src_dport_ltm  ct_dst_sport_ltm  ct_dst_src_ltm  \n",
      "count  543159.000000     543159.000000     543159.000000   543159.000000  \n",
      "mean       10.837838          9.343288          7.209839       13.766985  \n",
      "std        10.967546         11.391238          8.069018       14.972826  \n",
      "min         1.000000          1.000000          1.000000        1.000000  \n",
      "25%         2.000000          1.000000          1.000000        1.000000  \n",
      "50%         6.000000          2.000000          2.000000        5.000000  \n",
      "75%        17.000000         17.000000         15.000000       26.000000  \n",
      "max        67.000000         67.000000         60.000000       67.000000  \n",
      "\n",
      "[8 rows x 38 columns]\n"
     ]
    }
   ],
   "source": [
    "scaler = StandardScaler()\n",
    "cols_to_norm = UNSW_NB15_Config.COLS_TO_NORM\n",
    "print(data[cols_to_norm].describe()) # Check if there's any too large value"
   ]
  },
  {
   "cell_type": "code",
   "execution_count": 9,
   "id": "9ea95177",
   "metadata": {},
   "outputs": [
    {
     "name": "stdout",
     "output_type": "stream",
     "text": [
      "\n",
      "✅ All other columns processed successfully.\n"
     ]
    }
   ],
   "source": [
    "def check_numeric_issues(df, cols_to_norm):\n",
    "    for col in cols_to_norm:\n",
    "        try:\n",
    "            # Try to coerce to numeric\n",
    "            df[col] = pd.to_numeric(df[col], errors='coerce')\n",
    "            \n",
    "            # Try to clip the column\n",
    "            df[col] = df[col].clip(lower=-1e9, upper=1e9)\n",
    "            \n",
    "        except Exception as e:\n",
    "            print(f\"❌ Column '{col}' failed with error: {e}\")\n",
    "            print(f\"  - Sample values: {df[col].dropna().unique()[:5]}\")\n",
    "            print(f\"  - Data type: {df[col].dtype}\")\n",
    "            continue\n",
    "\n",
    "    print(\"\\n✅ All other columns processed successfully.\")\n",
    "\n",
    "check_numeric_issues(data, UNSW_NB15_Config.COLS_TO_NORM)"
   ]
  },
  {
   "cell_type": "code",
   "execution_count": 10,
   "id": "37256006-abc1-44aa-8e74-46d05dc6ad84",
   "metadata": {},
   "outputs": [],
   "source": [
    "data[cols_to_norm] = scaler.fit_transform(data[cols_to_norm])"
   ]
  },
  {
   "cell_type": "code",
   "execution_count": 11,
   "id": "61c6e17f",
   "metadata": {},
   "outputs": [
    {
     "name": "stdout",
     "output_type": "stream",
     "text": [
      "['Analysis' 'Backdoor' 'Backdoors' 'DoS' 'Exploits' 'Fuzzers' 'Generic'\n",
      " 'Normal' 'Reconnaissance' 'Shellcode' 'Worms']\n",
      "Attack label mapping: {'Analysis': 0, 'Backdoor': 1, 'Backdoors': 2, 'DoS': 3, 'Exploits': 4, 'Fuzzers': 5, 'Generic': 6, 'Normal': 7, 'Reconnaissance': 8, 'Shellcode': 9, 'Worms': 10}\n"
     ]
    }
   ],
   "source": [
    "from sklearn.preprocessing import LabelEncoder\n",
    "\n",
    "num_classes = 2\n",
    "class_map = [0, 1]\n",
    "if MULTICLASS:\n",
    "    le = LabelEncoder()\n",
    "    attack_labels = le.fit_transform(data[ATTACK_CLASS_COL_NAME])\n",
    "    class_map = le.classes_\n",
    "    print(class_map)\n",
    "    print(\"Attack label mapping:\", dict(zip(class_map, range(len(class_map)))))\n",
    "    data[ATTACK_CLASS_COL_NAME] = attack_labels\n",
    "    num_classes = len(class_map)\n",
    "    class_dict = {le.inverse_transform([i])[0]: i for i in range(len(le.classes_))}\n"
   ]
  },
  {
   "cell_type": "code",
   "execution_count": 12,
   "id": "d35f4cdd-2716-431f-af50-b34cc3d2d535",
   "metadata": {},
   "outputs": [
    {
     "name": "stdout",
     "output_type": "stream",
     "text": [
      "Feature Columns: ['dur', 'sbytes', 'dbytes', 'sttl', 'dttl', 'sloss', 'dloss', 'Sload', 'Dload', 'Spkts', 'Dpkts', 'swin', 'dwin', 'stcpb', 'dtcpb', 'smeansz', 'dmeansz', 'trans_depth', 'res_bdy_len', 'Sjit', 'Djit', 'Sintpkt', 'Dintpkt', 'tcprtt', 'synack', 'ackdat', 'is_sm_ips_ports', 'ct_state_ttl', 'ct_flw_http_mthd', 'is_ftp_login', 'ct_ftp_cmd', 'ct_srv_src', 'ct_srv_dst', 'ct_dst_ltm', 'ct_src_ltm', 'ct_src_dport_ltm', 'ct_dst_sport_ltm', 'ct_dst_src_ltm', 'state_ACC', 'state_CLO', 'state_CON', 'state_ECO', 'state_FIN', 'state_INT', 'state_MAS', 'state_PAR', 'state_REQ', 'state_RST', 'state_TST', 'state_TXD', 'state_URH']\n",
      "Number of Features: 51\n"
     ]
    }
   ],
   "source": [
    "# # Maintain the order of the rows in the original dataframe\n",
    "\n",
    "feature_cols = UNSW_NB15_Config.COLS_TO_NORM + converted_categorical_cols\n",
    "\n",
    "print('Feature Columns:', feature_cols)\n",
    "num_features = len(feature_cols)\n",
    "print('Number of Features:', num_features)\n",
    "\n",
    "data['h'] = data[ feature_cols ].values.tolist()"
   ]
  },
  {
   "cell_type": "code",
   "execution_count": 13,
   "id": "743e7faa",
   "metadata": {},
   "outputs": [],
   "source": [
    "def create_graph(df, source_ip_col, destination_ip_col, edge_attr, create_using=nx.MultiDiGraph(), **kwargs):\n",
    "    G_nx = nx.from_pandas_edgelist(df, source_ip_col, destination_ip_col, edge_attr, create_using=create_using, **kwargs)\n",
    "    G_pyg = from_networkx(G_nx)\n",
    "\n",
    "    num_nodes = G_pyg.num_nodes\n",
    "    num_edges = G_pyg.num_edges\n",
    "\n",
    "    G_pyg.x = th.ones(num_nodes, len(df['h'].iloc[0])) \n",
    "\n",
    "    edge_attr_list = []\n",
    "    edge_label_list = []\n",
    "\n",
    "    for u, v, key, data in G_nx.edges(keys=True, data=True):\n",
    "        edge_attr_list.append(data['h']) \n",
    "        edge_label_list.append(data[label_col]) \n",
    "\n",
    "    G_pyg.edge_attr = th.tensor(edge_attr_list, dtype=th.float32)\n",
    "    G_pyg.edge_label = th.tensor(edge_label_list, dtype=th.long)\n",
    "\n",
    "    return G_pyg"
   ]
  },
  {
   "cell_type": "code",
   "execution_count": 34,
   "id": "4e650028",
   "metadata": {},
   "outputs": [],
   "source": [
    "from sklearn.preprocessing import MultiLabelBinarizer\n",
    "\n",
    "from tqdm import tqdm\n",
    "\n",
    "class StratifiedGraphDataset:\n",
    "\n",
    "    def __init__(self, X, y):\n",
    "        self.X = X\n",
    "        self.y = y\n",
    "        self.total_count = len(self.y)\n",
    "\n",
    "    def k_fold_split(self, k: int = 5, test_ratio: float = 0.15, random_state: int = 42):\n",
    "        cv = MultilabelStratifiedShuffleSplit(test_size=test_ratio, random_state=random_state, n_splits=k)\n",
    "\n",
    "        mlb = MultiLabelBinarizer()\n",
    "\n",
    "        y_binary = mlb.fit_transform(self.y)\n",
    "\n",
    "        return cv.split(np.zeros(len(self.X)), y_binary)\n",
    "\n",
    "    def graph_train_test_split(self, test_ratio: float = 0.15, random_state: int = 42):\n",
    "        train_idx, test_idx = next(self.k_fold_split(k = 1, test_ratio = test_ratio, random_state = random_state))\n",
    "        \n",
    "        X_train = [self.X[i] for i in train_idx]\n",
    "        X_test = [self.X[i] for i in test_idx]\n",
    "\n",
    "        y_train = [self.y[i] for i in train_idx]\n",
    "        y_test = [self.y[i] for i in test_idx]\n",
    "\n",
    "        return StratifiedGraphDataset(X_train, y_train), StratifiedGraphDataset(X_test, y_test)\n",
    "    \n",
    "    def __len__(self):\n",
    "        return self.total_count\n",
    "\n",
    "    def __iter__(self):\n",
    "        for g in self.X:\n",
    "            yield g\n",
    "\n",
    "\n",
    "def generate_graph_datasets(\n",
    "    df: pd.DataFrame, \n",
    "    window_size: int = 2000, \n",
    "    overlap_ratio: float = 0.5, \n",
    "    time_cols=TIME_COLS, \n",
    "    label_col=label_col,\n",
    "    build_graph_func=create_graph,\n",
    "    build_graph_func_kwargs: dict = None):\n",
    "\n",
    "    print(\"Feature Columns\", df.columns)\n",
    "    print(\"Time Columns\", time_cols)\n",
    "    assert all(col in df.columns for col in time_cols), \"All timestamp columns are required\"\n",
    "    assert label_col in df.columns, \"Edge label column 'label' is required\"\n",
    "    \n",
    "    df = df.sort_values(time_cols).reset_index(drop=True)\n",
    "    df.drop(columns=time_cols, inplace=True)\n",
    "    window_size = window_size\n",
    "    stride = int(window_size * (1 - overlap_ratio))\n",
    "    \n",
    "    X = []\n",
    "    y = []\n",
    "\n",
    "    for start in tqdm(range(0, len(df), stride), desc=\"Generating graphs\"):\n",
    "        window_df = df.iloc[start: min(start + window_size, len(df))]\n",
    "\n",
    "        window_df = df.iloc[start: start + window_size]\n",
    "        contains_label = window_df[label_col].unique()\n",
    "        G_pyg = build_graph_func(window_df, **build_graph_func_kwargs)\n",
    "\n",
    "        X.append(G_pyg)\n",
    "        y.append(contains_label.tolist())\n",
    "\n",
    "    print(X)\n",
    "    print(y)\n",
    "\n",
    "    return StratifiedGraphDataset(X, y)"
   ]
  },
  {
   "cell_type": "code",
   "execution_count": 35,
   "id": "491e7421",
   "metadata": {},
   "outputs": [
    {
     "name": "stdout",
     "output_type": "stream",
     "text": [
      "Feature Columns Index(['srcip', 'dstip', 'dur', 'sbytes', 'dbytes', 'sttl', 'dttl', 'sloss',\n",
      "       'dloss', 'Sload', 'Dload', 'Spkts', 'Dpkts', 'swin', 'dwin', 'stcpb',\n",
      "       'dtcpb', 'smeansz', 'dmeansz', 'trans_depth', 'res_bdy_len', 'Sjit',\n",
      "       'Djit', 'Stime', 'Ltime', 'Sintpkt', 'Dintpkt', 'tcprtt', 'synack',\n",
      "       'ackdat', 'is_sm_ips_ports', 'ct_state_ttl', 'ct_flw_http_mthd',\n",
      "       'is_ftp_login', 'ct_ftp_cmd', 'ct_srv_src', 'ct_srv_dst', 'ct_dst_ltm',\n",
      "       'ct_src_ltm', 'ct_src_dport_ltm', 'ct_dst_sport_ltm', 'ct_dst_src_ltm',\n",
      "       'attack_cat', 'state_ACC', 'state_CLO', 'state_CON', 'state_ECO',\n",
      "       'state_FIN', 'state_INT', 'state_MAS', 'state_PAR', 'state_REQ',\n",
      "       'state_RST', 'state_TST', 'state_TXD', 'state_URH', 'h'],\n",
      "      dtype='object')\n",
      "Time Columns ['Stime', 'Ltime']\n"
     ]
    },
    {
     "name": "stderr",
     "output_type": "stream",
     "text": [
      "Generating graphs: 100%|██████████| 272/272 [00:20<00:00, 13.22it/s]"
     ]
    },
    {
     "name": "stdout",
     "output_type": "stream",
     "text": [
      "[Data(edge_index=[2, 2000], h=[2000, 51], attack_cat=[2000], num_nodes=2530, x=[2530, 51], edge_attr=[2000, 51], edge_label=[2000]), Data(edge_index=[2, 2000], h=[2000, 51], attack_cat=[2000], num_nodes=2382, x=[2382, 51], edge_attr=[2000, 51], edge_label=[2000]), Data(edge_index=[2, 2000], h=[2000, 51], attack_cat=[2000], num_nodes=2418, x=[2418, 51], edge_attr=[2000, 51], edge_label=[2000]), Data(edge_index=[2, 2000], h=[2000, 51], attack_cat=[2000], num_nodes=2534, x=[2534, 51], edge_attr=[2000, 51], edge_label=[2000]), Data(edge_index=[2, 2000], h=[2000, 51], attack_cat=[2000], num_nodes=2662, x=[2662, 51], edge_attr=[2000, 51], edge_label=[2000]), Data(edge_index=[2, 2000], h=[2000, 51], attack_cat=[2000], num_nodes=2608, x=[2608, 51], edge_attr=[2000, 51], edge_label=[2000]), Data(edge_index=[2, 2000], h=[2000, 51], attack_cat=[2000], num_nodes=1677, x=[1677, 51], edge_attr=[2000, 51], edge_label=[2000]), Data(edge_index=[2, 2000], h=[2000, 51], attack_cat=[2000], num_nodes=366, x=[366, 51], edge_attr=[2000, 51], edge_label=[2000]), Data(edge_index=[2, 2000], h=[2000, 51], attack_cat=[2000], num_nodes=922, x=[922, 51], edge_attr=[2000, 51], edge_label=[2000]), Data(edge_index=[2, 2000], h=[2000, 51], attack_cat=[2000], num_nodes=1439, x=[1439, 51], edge_attr=[2000, 51], edge_label=[2000]), Data(edge_index=[2, 2000], h=[2000, 51], attack_cat=[2000], num_nodes=1776, x=[1776, 51], edge_attr=[2000, 51], edge_label=[2000]), Data(edge_index=[2, 2000], h=[2000, 51], attack_cat=[2000], num_nodes=1818, x=[1818, 51], edge_attr=[2000, 51], edge_label=[2000]), Data(edge_index=[2, 2000], h=[2000, 51], attack_cat=[2000], num_nodes=1427, x=[1427, 51], edge_attr=[2000, 51], edge_label=[2000]), Data(edge_index=[2, 2000], h=[2000, 51], attack_cat=[2000], num_nodes=1255, x=[1255, 51], edge_attr=[2000, 51], edge_label=[2000]), Data(edge_index=[2, 2000], h=[2000, 51], attack_cat=[2000], num_nodes=1428, x=[1428, 51], edge_attr=[2000, 51], edge_label=[2000]), Data(edge_index=[2, 2000], h=[2000, 51], attack_cat=[2000], num_nodes=1776, x=[1776, 51], edge_attr=[2000, 51], edge_label=[2000]), Data(edge_index=[2, 2000], h=[2000, 51], attack_cat=[2000], num_nodes=2276, x=[2276, 51], edge_attr=[2000, 51], edge_label=[2000]), Data(edge_index=[2, 2000], h=[2000, 51], attack_cat=[2000], num_nodes=1877, x=[1877, 51], edge_attr=[2000, 51], edge_label=[2000]), Data(edge_index=[2, 2000], h=[2000, 51], attack_cat=[2000], num_nodes=2463, x=[2463, 51], edge_attr=[2000, 51], edge_label=[2000]), Data(edge_index=[2, 2000], h=[2000, 51], attack_cat=[2000], num_nodes=2855, x=[2855, 51], edge_attr=[2000, 51], edge_label=[2000]), Data(edge_index=[2, 2000], h=[2000, 51], attack_cat=[2000], num_nodes=2743, x=[2743, 51], edge_attr=[2000, 51], edge_label=[2000]), Data(edge_index=[2, 2000], h=[2000, 51], attack_cat=[2000], num_nodes=2903, x=[2903, 51], edge_attr=[2000, 51], edge_label=[2000]), Data(edge_index=[2, 2000], h=[2000, 51], attack_cat=[2000], num_nodes=2854, x=[2854, 51], edge_attr=[2000, 51], edge_label=[2000]), Data(edge_index=[2, 2000], h=[2000, 51], attack_cat=[2000], num_nodes=2811, x=[2811, 51], edge_attr=[2000, 51], edge_label=[2000]), Data(edge_index=[2, 2000], h=[2000, 51], attack_cat=[2000], num_nodes=2907, x=[2907, 51], edge_attr=[2000, 51], edge_label=[2000]), Data(edge_index=[2, 2000], h=[2000, 51], attack_cat=[2000], num_nodes=2920, x=[2920, 51], edge_attr=[2000, 51], edge_label=[2000]), Data(edge_index=[2, 2000], h=[2000, 51], attack_cat=[2000], num_nodes=2986, x=[2986, 51], edge_attr=[2000, 51], edge_label=[2000]), Data(edge_index=[2, 2000], h=[2000, 51], attack_cat=[2000], num_nodes=2863, x=[2863, 51], edge_attr=[2000, 51], edge_label=[2000]), Data(edge_index=[2, 2000], h=[2000, 51], attack_cat=[2000], num_nodes=2851, x=[2851, 51], edge_attr=[2000, 51], edge_label=[2000]), Data(edge_index=[2, 2000], h=[2000, 51], attack_cat=[2000], num_nodes=2856, x=[2856, 51], edge_attr=[2000, 51], edge_label=[2000]), Data(edge_index=[2, 2000], h=[2000, 51], attack_cat=[2000], num_nodes=2738, x=[2738, 51], edge_attr=[2000, 51], edge_label=[2000]), Data(edge_index=[2, 2000], h=[2000, 51], attack_cat=[2000], num_nodes=2304, x=[2304, 51], edge_attr=[2000, 51], edge_label=[2000]), Data(edge_index=[2, 2000], h=[2000, 51], attack_cat=[2000], num_nodes=2263, x=[2263, 51], edge_attr=[2000, 51], edge_label=[2000]), Data(edge_index=[2, 2000], h=[2000, 51], attack_cat=[2000], num_nodes=2359, x=[2359, 51], edge_attr=[2000, 51], edge_label=[2000]), Data(edge_index=[2, 2000], h=[2000, 51], attack_cat=[2000], num_nodes=2660, x=[2660, 51], edge_attr=[2000, 51], edge_label=[2000]), Data(edge_index=[2, 2000], h=[2000, 51], attack_cat=[2000], num_nodes=2918, x=[2918, 51], edge_attr=[2000, 51], edge_label=[2000]), Data(edge_index=[2, 2000], h=[2000, 51], attack_cat=[2000], num_nodes=2968, x=[2968, 51], edge_attr=[2000, 51], edge_label=[2000]), Data(edge_index=[2, 2000], h=[2000, 51], attack_cat=[2000], num_nodes=2779, x=[2779, 51], edge_attr=[2000, 51], edge_label=[2000]), Data(edge_index=[2, 2000], h=[2000, 51], attack_cat=[2000], num_nodes=2912, x=[2912, 51], edge_attr=[2000, 51], edge_label=[2000]), Data(edge_index=[2, 2000], h=[2000, 51], attack_cat=[2000], num_nodes=2954, x=[2954, 51], edge_attr=[2000, 51], edge_label=[2000]), Data(edge_index=[2, 2000], h=[2000, 51], attack_cat=[2000], num_nodes=2813, x=[2813, 51], edge_attr=[2000, 51], edge_label=[2000]), Data(edge_index=[2, 2000], h=[2000, 51], attack_cat=[2000], num_nodes=2844, x=[2844, 51], edge_attr=[2000, 51], edge_label=[2000]), Data(edge_index=[2, 2000], h=[2000, 51], attack_cat=[2000], num_nodes=2914, x=[2914, 51], edge_attr=[2000, 51], edge_label=[2000]), Data(edge_index=[2, 2000], h=[2000, 51], attack_cat=[2000], num_nodes=2789, x=[2789, 51], edge_attr=[2000, 51], edge_label=[2000]), Data(edge_index=[2, 2000], h=[2000, 51], attack_cat=[2000], num_nodes=2786, x=[2786, 51], edge_attr=[2000, 51], edge_label=[2000]), Data(edge_index=[2, 2000], h=[2000, 51], attack_cat=[2000], num_nodes=2810, x=[2810, 51], edge_attr=[2000, 51], edge_label=[2000]), Data(edge_index=[2, 2000], h=[2000, 51], attack_cat=[2000], num_nodes=2856, x=[2856, 51], edge_attr=[2000, 51], edge_label=[2000]), Data(edge_index=[2, 2000], h=[2000, 51], attack_cat=[2000], num_nodes=2871, x=[2871, 51], edge_attr=[2000, 51], edge_label=[2000]), Data(edge_index=[2, 2000], h=[2000, 51], attack_cat=[2000], num_nodes=2754, x=[2754, 51], edge_attr=[2000, 51], edge_label=[2000]), Data(edge_index=[2, 2000], h=[2000, 51], attack_cat=[2000], num_nodes=2862, x=[2862, 51], edge_attr=[2000, 51], edge_label=[2000]), Data(edge_index=[2, 2000], h=[2000, 51], attack_cat=[2000], num_nodes=2885, x=[2885, 51], edge_attr=[2000, 51], edge_label=[2000]), Data(edge_index=[2, 2000], h=[2000, 51], attack_cat=[2000], num_nodes=2852, x=[2852, 51], edge_attr=[2000, 51], edge_label=[2000]), Data(edge_index=[2, 2000], h=[2000, 51], attack_cat=[2000], num_nodes=2737, x=[2737, 51], edge_attr=[2000, 51], edge_label=[2000]), Data(edge_index=[2, 2000], h=[2000, 51], attack_cat=[2000], num_nodes=2657, x=[2657, 51], edge_attr=[2000, 51], edge_label=[2000]), Data(edge_index=[2, 2000], h=[2000, 51], attack_cat=[2000], num_nodes=2840, x=[2840, 51], edge_attr=[2000, 51], edge_label=[2000]), Data(edge_index=[2, 2000], h=[2000, 51], attack_cat=[2000], num_nodes=2830, x=[2830, 51], edge_attr=[2000, 51], edge_label=[2000]), Data(edge_index=[2, 2000], h=[2000, 51], attack_cat=[2000], num_nodes=2929, x=[2929, 51], edge_attr=[2000, 51], edge_label=[2000]), Data(edge_index=[2, 2000], h=[2000, 51], attack_cat=[2000], num_nodes=2799, x=[2799, 51], edge_attr=[2000, 51], edge_label=[2000]), Data(edge_index=[2, 2000], h=[2000, 51], attack_cat=[2000], num_nodes=2918, x=[2918, 51], edge_attr=[2000, 51], edge_label=[2000]), Data(edge_index=[2, 2000], h=[2000, 51], attack_cat=[2000], num_nodes=2903, x=[2903, 51], edge_attr=[2000, 51], edge_label=[2000]), Data(edge_index=[2, 2000], h=[2000, 51], attack_cat=[2000], num_nodes=2626, x=[2626, 51], edge_attr=[2000, 51], edge_label=[2000]), Data(edge_index=[2, 2000], h=[2000, 51], attack_cat=[2000], num_nodes=2831, x=[2831, 51], edge_attr=[2000, 51], edge_label=[2000]), Data(edge_index=[2, 2000], h=[2000, 51], attack_cat=[2000], num_nodes=2697, x=[2697, 51], edge_attr=[2000, 51], edge_label=[2000]), Data(edge_index=[2, 2000], h=[2000, 51], attack_cat=[2000], num_nodes=2827, x=[2827, 51], edge_attr=[2000, 51], edge_label=[2000]), Data(edge_index=[2, 2000], h=[2000, 51], attack_cat=[2000], num_nodes=2518, x=[2518, 51], edge_attr=[2000, 51], edge_label=[2000]), Data(edge_index=[2, 2000], h=[2000, 51], attack_cat=[2000], num_nodes=2464, x=[2464, 51], edge_attr=[2000, 51], edge_label=[2000]), Data(edge_index=[2, 2000], h=[2000, 51], attack_cat=[2000], num_nodes=2743, x=[2743, 51], edge_attr=[2000, 51], edge_label=[2000]), Data(edge_index=[2, 2000], h=[2000, 51], attack_cat=[2000], num_nodes=2652, x=[2652, 51], edge_attr=[2000, 51], edge_label=[2000]), Data(edge_index=[2, 2000], h=[2000, 51], attack_cat=[2000], num_nodes=1498, x=[1498, 51], edge_attr=[2000, 51], edge_label=[2000]), Data(edge_index=[2, 2000], h=[2000, 51], attack_cat=[2000], num_nodes=323, x=[323, 51], edge_attr=[2000, 51], edge_label=[2000]), Data(edge_index=[2, 2000], h=[2000, 51], attack_cat=[2000], num_nodes=255, x=[255, 51], edge_attr=[2000, 51], edge_label=[2000]), Data(edge_index=[2, 2000], h=[2000, 51], attack_cat=[2000], num_nodes=569, x=[569, 51], edge_attr=[2000, 51], edge_label=[2000]), Data(edge_index=[2, 2000], h=[2000, 51], attack_cat=[2000], num_nodes=498, x=[498, 51], edge_attr=[2000, 51], edge_label=[2000]), Data(edge_index=[2, 2000], h=[2000, 51], attack_cat=[2000], num_nodes=863, x=[863, 51], edge_attr=[2000, 51], edge_label=[2000]), Data(edge_index=[2, 2000], h=[2000, 51], attack_cat=[2000], num_nodes=997, x=[997, 51], edge_attr=[2000, 51], edge_label=[2000]), Data(edge_index=[2, 2000], h=[2000, 51], attack_cat=[2000], num_nodes=1301, x=[1301, 51], edge_attr=[2000, 51], edge_label=[2000]), Data(edge_index=[2, 2000], h=[2000, 51], attack_cat=[2000], num_nodes=1262, x=[1262, 51], edge_attr=[2000, 51], edge_label=[2000]), Data(edge_index=[2, 2000], h=[2000, 51], attack_cat=[2000], num_nodes=1019, x=[1019, 51], edge_attr=[2000, 51], edge_label=[2000]), Data(edge_index=[2, 2000], h=[2000, 51], attack_cat=[2000], num_nodes=753, x=[753, 51], edge_attr=[2000, 51], edge_label=[2000]), Data(edge_index=[2, 2000], h=[2000, 51], attack_cat=[2000], num_nodes=855, x=[855, 51], edge_attr=[2000, 51], edge_label=[2000]), Data(edge_index=[2, 2000], h=[2000, 51], attack_cat=[2000], num_nodes=854, x=[854, 51], edge_attr=[2000, 51], edge_label=[2000]), Data(edge_index=[2, 2000], h=[2000, 51], attack_cat=[2000], num_nodes=909, x=[909, 51], edge_attr=[2000, 51], edge_label=[2000]), Data(edge_index=[2, 2000], h=[2000, 51], attack_cat=[2000], num_nodes=1060, x=[1060, 51], edge_attr=[2000, 51], edge_label=[2000]), Data(edge_index=[2, 2000], h=[2000, 51], attack_cat=[2000], num_nodes=1232, x=[1232, 51], edge_attr=[2000, 51], edge_label=[2000]), Data(edge_index=[2, 2000], h=[2000, 51], attack_cat=[2000], num_nodes=1769, x=[1769, 51], edge_attr=[2000, 51], edge_label=[2000]), Data(edge_index=[2, 2000], h=[2000, 51], attack_cat=[2000], num_nodes=1352, x=[1352, 51], edge_attr=[2000, 51], edge_label=[2000]), Data(edge_index=[2, 2000], h=[2000, 51], attack_cat=[2000], num_nodes=2668, x=[2668, 51], edge_attr=[2000, 51], edge_label=[2000]), Data(edge_index=[2, 2000], h=[2000, 51], attack_cat=[2000], num_nodes=2695, x=[2695, 51], edge_attr=[2000, 51], edge_label=[2000]), Data(edge_index=[2, 2000], h=[2000, 51], attack_cat=[2000], num_nodes=2556, x=[2556, 51], edge_attr=[2000, 51], edge_label=[2000]), Data(edge_index=[2, 2000], h=[2000, 51], attack_cat=[2000], num_nodes=2480, x=[2480, 51], edge_attr=[2000, 51], edge_label=[2000]), Data(edge_index=[2, 2000], h=[2000, 51], attack_cat=[2000], num_nodes=2496, x=[2496, 51], edge_attr=[2000, 51], edge_label=[2000]), Data(edge_index=[2, 2000], h=[2000, 51], attack_cat=[2000], num_nodes=2559, x=[2559, 51], edge_attr=[2000, 51], edge_label=[2000]), Data(edge_index=[2, 2000], h=[2000, 51], attack_cat=[2000], num_nodes=2656, x=[2656, 51], edge_attr=[2000, 51], edge_label=[2000]), Data(edge_index=[2, 2000], h=[2000, 51], attack_cat=[2000], num_nodes=2296, x=[2296, 51], edge_attr=[2000, 51], edge_label=[2000]), Data(edge_index=[2, 2000], h=[2000, 51], attack_cat=[2000], num_nodes=481, x=[481, 51], edge_attr=[2000, 51], edge_label=[2000]), Data(edge_index=[2, 2000], h=[2000, 51], attack_cat=[2000], num_nodes=366, x=[366, 51], edge_attr=[2000, 51], edge_label=[2000]), Data(edge_index=[2, 2000], h=[2000, 51], attack_cat=[2000], num_nodes=506, x=[506, 51], edge_attr=[2000, 51], edge_label=[2000]), Data(edge_index=[2, 2000], h=[2000, 51], attack_cat=[2000], num_nodes=288, x=[288, 51], edge_attr=[2000, 51], edge_label=[2000]), Data(edge_index=[2, 2000], h=[2000, 51], attack_cat=[2000], num_nodes=190, x=[190, 51], edge_attr=[2000, 51], edge_label=[2000]), Data(edge_index=[2, 2000], h=[2000, 51], attack_cat=[2000], num_nodes=247, x=[247, 51], edge_attr=[2000, 51], edge_label=[2000]), Data(edge_index=[2, 2000], h=[2000, 51], attack_cat=[2000], num_nodes=815, x=[815, 51], edge_attr=[2000, 51], edge_label=[2000]), Data(edge_index=[2, 2000], h=[2000, 51], attack_cat=[2000], num_nodes=740, x=[740, 51], edge_attr=[2000, 51], edge_label=[2000]), Data(edge_index=[2, 2000], h=[2000, 51], attack_cat=[2000], num_nodes=933, x=[933, 51], edge_attr=[2000, 51], edge_label=[2000]), Data(edge_index=[2, 2000], h=[2000, 51], attack_cat=[2000], num_nodes=1186, x=[1186, 51], edge_attr=[2000, 51], edge_label=[2000]), Data(edge_index=[2, 2000], h=[2000, 51], attack_cat=[2000], num_nodes=660, x=[660, 51], edge_attr=[2000, 51], edge_label=[2000]), Data(edge_index=[2, 2000], h=[2000, 51], attack_cat=[2000], num_nodes=563, x=[563, 51], edge_attr=[2000, 51], edge_label=[2000]), Data(edge_index=[2, 2000], h=[2000, 51], attack_cat=[2000], num_nodes=693, x=[693, 51], edge_attr=[2000, 51], edge_label=[2000]), Data(edge_index=[2, 2000], h=[2000, 51], attack_cat=[2000], num_nodes=775, x=[775, 51], edge_attr=[2000, 51], edge_label=[2000]), Data(edge_index=[2, 2000], h=[2000, 51], attack_cat=[2000], num_nodes=590, x=[590, 51], edge_attr=[2000, 51], edge_label=[2000]), Data(edge_index=[2, 2000], h=[2000, 51], attack_cat=[2000], num_nodes=307, x=[307, 51], edge_attr=[2000, 51], edge_label=[2000]), Data(edge_index=[2, 2000], h=[2000, 51], attack_cat=[2000], num_nodes=429, x=[429, 51], edge_attr=[2000, 51], edge_label=[2000]), Data(edge_index=[2, 2000], h=[2000, 51], attack_cat=[2000], num_nodes=372, x=[372, 51], edge_attr=[2000, 51], edge_label=[2000]), Data(edge_index=[2, 2000], h=[2000, 51], attack_cat=[2000], num_nodes=369, x=[369, 51], edge_attr=[2000, 51], edge_label=[2000]), Data(edge_index=[2, 2000], h=[2000, 51], attack_cat=[2000], num_nodes=432, x=[432, 51], edge_attr=[2000, 51], edge_label=[2000]), Data(edge_index=[2, 2000], h=[2000, 51], attack_cat=[2000], num_nodes=485, x=[485, 51], edge_attr=[2000, 51], edge_label=[2000]), Data(edge_index=[2, 2000], h=[2000, 51], attack_cat=[2000], num_nodes=672, x=[672, 51], edge_attr=[2000, 51], edge_label=[2000]), Data(edge_index=[2, 2000], h=[2000, 51], attack_cat=[2000], num_nodes=587, x=[587, 51], edge_attr=[2000, 51], edge_label=[2000]), Data(edge_index=[2, 2000], h=[2000, 51], attack_cat=[2000], num_nodes=767, x=[767, 51], edge_attr=[2000, 51], edge_label=[2000]), Data(edge_index=[2, 2000], h=[2000, 51], attack_cat=[2000], num_nodes=1203, x=[1203, 51], edge_attr=[2000, 51], edge_label=[2000]), Data(edge_index=[2, 2000], h=[2000, 51], attack_cat=[2000], num_nodes=903, x=[903, 51], edge_attr=[2000, 51], edge_label=[2000]), Data(edge_index=[2, 2000], h=[2000, 51], attack_cat=[2000], num_nodes=676, x=[676, 51], edge_attr=[2000, 51], edge_label=[2000]), Data(edge_index=[2, 2000], h=[2000, 51], attack_cat=[2000], num_nodes=935, x=[935, 51], edge_attr=[2000, 51], edge_label=[2000]), Data(edge_index=[2, 2000], h=[2000, 51], attack_cat=[2000], num_nodes=899, x=[899, 51], edge_attr=[2000, 51], edge_label=[2000]), Data(edge_index=[2, 2000], h=[2000, 51], attack_cat=[2000], num_nodes=762, x=[762, 51], edge_attr=[2000, 51], edge_label=[2000]), Data(edge_index=[2, 2000], h=[2000, 51], attack_cat=[2000], num_nodes=500, x=[500, 51], edge_attr=[2000, 51], edge_label=[2000]), Data(edge_index=[2, 2000], h=[2000, 51], attack_cat=[2000], num_nodes=492, x=[492, 51], edge_attr=[2000, 51], edge_label=[2000]), Data(edge_index=[2, 2000], h=[2000, 51], attack_cat=[2000], num_nodes=554, x=[554, 51], edge_attr=[2000, 51], edge_label=[2000]), Data(edge_index=[2, 2000], h=[2000, 51], attack_cat=[2000], num_nodes=1833, x=[1833, 51], edge_attr=[2000, 51], edge_label=[2000]), Data(edge_index=[2, 2000], h=[2000, 51], attack_cat=[2000], num_nodes=2530, x=[2530, 51], edge_attr=[2000, 51], edge_label=[2000]), Data(edge_index=[2, 2000], h=[2000, 51], attack_cat=[2000], num_nodes=2486, x=[2486, 51], edge_attr=[2000, 51], edge_label=[2000]), Data(edge_index=[2, 2000], h=[2000, 51], attack_cat=[2000], num_nodes=2475, x=[2475, 51], edge_attr=[2000, 51], edge_label=[2000]), Data(edge_index=[2, 2000], h=[2000, 51], attack_cat=[2000], num_nodes=2677, x=[2677, 51], edge_attr=[2000, 51], edge_label=[2000]), Data(edge_index=[2, 2000], h=[2000, 51], attack_cat=[2000], num_nodes=2685, x=[2685, 51], edge_attr=[2000, 51], edge_label=[2000]), Data(edge_index=[2, 2000], h=[2000, 51], attack_cat=[2000], num_nodes=2397, x=[2397, 51], edge_attr=[2000, 51], edge_label=[2000]), Data(edge_index=[2, 2000], h=[2000, 51], attack_cat=[2000], num_nodes=483, x=[483, 51], edge_attr=[2000, 51], edge_label=[2000]), Data(edge_index=[2, 2000], h=[2000, 51], attack_cat=[2000], num_nodes=229, x=[229, 51], edge_attr=[2000, 51], edge_label=[2000]), Data(edge_index=[2, 2000], h=[2000, 51], attack_cat=[2000], num_nodes=248, x=[248, 51], edge_attr=[2000, 51], edge_label=[2000]), Data(edge_index=[2, 2000], h=[2000, 51], attack_cat=[2000], num_nodes=632, x=[632, 51], edge_attr=[2000, 51], edge_label=[2000]), Data(edge_index=[2, 2000], h=[2000, 51], attack_cat=[2000], num_nodes=198, x=[198, 51], edge_attr=[2000, 51], edge_label=[2000]), Data(edge_index=[2, 2000], h=[2000, 51], attack_cat=[2000], num_nodes=186, x=[186, 51], edge_attr=[2000, 51], edge_label=[2000]), Data(edge_index=[2, 2000], h=[2000, 51], attack_cat=[2000], num_nodes=439, x=[439, 51], edge_attr=[2000, 51], edge_label=[2000]), Data(edge_index=[2, 2000], h=[2000, 51], attack_cat=[2000], num_nodes=540, x=[540, 51], edge_attr=[2000, 51], edge_label=[2000]), Data(edge_index=[2, 2000], h=[2000, 51], attack_cat=[2000], num_nodes=680, x=[680, 51], edge_attr=[2000, 51], edge_label=[2000]), Data(edge_index=[2, 2000], h=[2000, 51], attack_cat=[2000], num_nodes=943, x=[943, 51], edge_attr=[2000, 51], edge_label=[2000]), Data(edge_index=[2, 2000], h=[2000, 51], attack_cat=[2000], num_nodes=646, x=[646, 51], edge_attr=[2000, 51], edge_label=[2000]), Data(edge_index=[2, 2000], h=[2000, 51], attack_cat=[2000], num_nodes=795, x=[795, 51], edge_attr=[2000, 51], edge_label=[2000]), Data(edge_index=[2, 2000], h=[2000, 51], attack_cat=[2000], num_nodes=778, x=[778, 51], edge_attr=[2000, 51], edge_label=[2000]), Data(edge_index=[2, 2000], h=[2000, 51], attack_cat=[2000], num_nodes=621, x=[621, 51], edge_attr=[2000, 51], edge_label=[2000]), Data(edge_index=[2, 2000], h=[2000, 51], attack_cat=[2000], num_nodes=386, x=[386, 51], edge_attr=[2000, 51], edge_label=[2000]), Data(edge_index=[2, 2000], h=[2000, 51], attack_cat=[2000], num_nodes=594, x=[594, 51], edge_attr=[2000, 51], edge_label=[2000]), Data(edge_index=[2, 2000], h=[2000, 51], attack_cat=[2000], num_nodes=472, x=[472, 51], edge_attr=[2000, 51], edge_label=[2000]), Data(edge_index=[2, 2000], h=[2000, 51], attack_cat=[2000], num_nodes=490, x=[490, 51], edge_attr=[2000, 51], edge_label=[2000]), Data(edge_index=[2, 2000], h=[2000, 51], attack_cat=[2000], num_nodes=397, x=[397, 51], edge_attr=[2000, 51], edge_label=[2000]), Data(edge_index=[2, 2000], h=[2000, 51], attack_cat=[2000], num_nodes=442, x=[442, 51], edge_attr=[2000, 51], edge_label=[2000]), Data(edge_index=[2, 2000], h=[2000, 51], attack_cat=[2000], num_nodes=404, x=[404, 51], edge_attr=[2000, 51], edge_label=[2000]), Data(edge_index=[2, 2000], h=[2000, 51], attack_cat=[2000], num_nodes=498, x=[498, 51], edge_attr=[2000, 51], edge_label=[2000]), Data(edge_index=[2, 2000], h=[2000, 51], attack_cat=[2000], num_nodes=645, x=[645, 51], edge_attr=[2000, 51], edge_label=[2000]), Data(edge_index=[2, 2000], h=[2000, 51], attack_cat=[2000], num_nodes=733, x=[733, 51], edge_attr=[2000, 51], edge_label=[2000]), Data(edge_index=[2, 2000], h=[2000, 51], attack_cat=[2000], num_nodes=673, x=[673, 51], edge_attr=[2000, 51], edge_label=[2000]), Data(edge_index=[2, 2000], h=[2000, 51], attack_cat=[2000], num_nodes=968, x=[968, 51], edge_attr=[2000, 51], edge_label=[2000]), Data(edge_index=[2, 2000], h=[2000, 51], attack_cat=[2000], num_nodes=1456, x=[1456, 51], edge_attr=[2000, 51], edge_label=[2000]), Data(edge_index=[2, 2000], h=[2000, 51], attack_cat=[2000], num_nodes=932, x=[932, 51], edge_attr=[2000, 51], edge_label=[2000]), Data(edge_index=[2, 2000], h=[2000, 51], attack_cat=[2000], num_nodes=702, x=[702, 51], edge_attr=[2000, 51], edge_label=[2000]), Data(edge_index=[2, 2000], h=[2000, 51], attack_cat=[2000], num_nodes=682, x=[682, 51], edge_attr=[2000, 51], edge_label=[2000]), Data(edge_index=[2, 2000], h=[2000, 51], attack_cat=[2000], num_nodes=784, x=[784, 51], edge_attr=[2000, 51], edge_label=[2000]), Data(edge_index=[2, 2000], h=[2000, 51], attack_cat=[2000], num_nodes=820, x=[820, 51], edge_attr=[2000, 51], edge_label=[2000]), Data(edge_index=[2, 2000], h=[2000, 51], attack_cat=[2000], num_nodes=1383, x=[1383, 51], edge_attr=[2000, 51], edge_label=[2000]), Data(edge_index=[2, 2000], h=[2000, 51], attack_cat=[2000], num_nodes=2733, x=[2733, 51], edge_attr=[2000, 51], edge_label=[2000]), Data(edge_index=[2, 2000], h=[2000, 51], attack_cat=[2000], num_nodes=2628, x=[2628, 51], edge_attr=[2000, 51], edge_label=[2000]), Data(edge_index=[2, 2000], h=[2000, 51], attack_cat=[2000], num_nodes=2428, x=[2428, 51], edge_attr=[2000, 51], edge_label=[2000]), Data(edge_index=[2, 2000], h=[2000, 51], attack_cat=[2000], num_nodes=2445, x=[2445, 51], edge_attr=[2000, 51], edge_label=[2000]), Data(edge_index=[2, 2000], h=[2000, 51], attack_cat=[2000], num_nodes=2727, x=[2727, 51], edge_attr=[2000, 51], edge_label=[2000]), Data(edge_index=[2, 2000], h=[2000, 51], attack_cat=[2000], num_nodes=2700, x=[2700, 51], edge_attr=[2000, 51], edge_label=[2000]), Data(edge_index=[2, 2000], h=[2000, 51], attack_cat=[2000], num_nodes=2119, x=[2119, 51], edge_attr=[2000, 51], edge_label=[2000]), Data(edge_index=[2, 2000], h=[2000, 51], attack_cat=[2000], num_nodes=229, x=[229, 51], edge_attr=[2000, 51], edge_label=[2000]), Data(edge_index=[2, 2000], h=[2000, 51], attack_cat=[2000], num_nodes=182, x=[182, 51], edge_attr=[2000, 51], edge_label=[2000]), Data(edge_index=[2, 2000], h=[2000, 51], attack_cat=[2000], num_nodes=336, x=[336, 51], edge_attr=[2000, 51], edge_label=[2000]), Data(edge_index=[2, 2000], h=[2000, 51], attack_cat=[2000], num_nodes=793, x=[793, 51], edge_attr=[2000, 51], edge_label=[2000]), Data(edge_index=[2, 2000], h=[2000, 51], attack_cat=[2000], num_nodes=227, x=[227, 51], edge_attr=[2000, 51], edge_label=[2000]), Data(edge_index=[2, 2000], h=[2000, 51], attack_cat=[2000], num_nodes=566, x=[566, 51], edge_attr=[2000, 51], edge_label=[2000]), Data(edge_index=[2, 2000], h=[2000, 51], attack_cat=[2000], num_nodes=714, x=[714, 51], edge_attr=[2000, 51], edge_label=[2000]), Data(edge_index=[2, 2000], h=[2000, 51], attack_cat=[2000], num_nodes=1041, x=[1041, 51], edge_attr=[2000, 51], edge_label=[2000]), Data(edge_index=[2, 2000], h=[2000, 51], attack_cat=[2000], num_nodes=1174, x=[1174, 51], edge_attr=[2000, 51], edge_label=[2000]), Data(edge_index=[2, 2000], h=[2000, 51], attack_cat=[2000], num_nodes=1191, x=[1191, 51], edge_attr=[2000, 51], edge_label=[2000]), Data(edge_index=[2, 2000], h=[2000, 51], attack_cat=[2000], num_nodes=703, x=[703, 51], edge_attr=[2000, 51], edge_label=[2000]), Data(edge_index=[2, 2000], h=[2000, 51], attack_cat=[2000], num_nodes=814, x=[814, 51], edge_attr=[2000, 51], edge_label=[2000]), Data(edge_index=[2, 2000], h=[2000, 51], attack_cat=[2000], num_nodes=785, x=[785, 51], edge_attr=[2000, 51], edge_label=[2000]), Data(edge_index=[2, 2000], h=[2000, 51], attack_cat=[2000], num_nodes=438, x=[438, 51], edge_attr=[2000, 51], edge_label=[2000]), Data(edge_index=[2, 2000], h=[2000, 51], attack_cat=[2000], num_nodes=561, x=[561, 51], edge_attr=[2000, 51], edge_label=[2000]), Data(edge_index=[2, 2000], h=[2000, 51], attack_cat=[2000], num_nodes=361, x=[361, 51], edge_attr=[2000, 51], edge_label=[2000]), Data(edge_index=[2, 2000], h=[2000, 51], attack_cat=[2000], num_nodes=514, x=[514, 51], edge_attr=[2000, 51], edge_label=[2000]), Data(edge_index=[2, 2000], h=[2000, 51], attack_cat=[2000], num_nodes=450, x=[450, 51], edge_attr=[2000, 51], edge_label=[2000]), Data(edge_index=[2, 2000], h=[2000, 51], attack_cat=[2000], num_nodes=420, x=[420, 51], edge_attr=[2000, 51], edge_label=[2000]), Data(edge_index=[2, 2000], h=[2000, 51], attack_cat=[2000], num_nodes=612, x=[612, 51], edge_attr=[2000, 51], edge_label=[2000]), Data(edge_index=[2, 2000], h=[2000, 51], attack_cat=[2000], num_nodes=667, x=[667, 51], edge_attr=[2000, 51], edge_label=[2000]), Data(edge_index=[2, 2000], h=[2000, 51], attack_cat=[2000], num_nodes=680, x=[680, 51], edge_attr=[2000, 51], edge_label=[2000]), Data(edge_index=[2, 2000], h=[2000, 51], attack_cat=[2000], num_nodes=884, x=[884, 51], edge_attr=[2000, 51], edge_label=[2000]), Data(edge_index=[2, 2000], h=[2000, 51], attack_cat=[2000], num_nodes=1257, x=[1257, 51], edge_attr=[2000, 51], edge_label=[2000]), Data(edge_index=[2, 2000], h=[2000, 51], attack_cat=[2000], num_nodes=1153, x=[1153, 51], edge_attr=[2000, 51], edge_label=[2000]), Data(edge_index=[2, 2000], h=[2000, 51], attack_cat=[2000], num_nodes=905, x=[905, 51], edge_attr=[2000, 51], edge_label=[2000]), Data(edge_index=[2, 2000], h=[2000, 51], attack_cat=[2000], num_nodes=1158, x=[1158, 51], edge_attr=[2000, 51], edge_label=[2000]), Data(edge_index=[2, 2000], h=[2000, 51], attack_cat=[2000], num_nodes=990, x=[990, 51], edge_attr=[2000, 51], edge_label=[2000]), Data(edge_index=[2, 2000], h=[2000, 51], attack_cat=[2000], num_nodes=522, x=[522, 51], edge_attr=[2000, 51], edge_label=[2000]), Data(edge_index=[2, 2000], h=[2000, 51], attack_cat=[2000], num_nodes=632, x=[632, 51], edge_attr=[2000, 51], edge_label=[2000]), Data(edge_index=[2, 2000], h=[2000, 51], attack_cat=[2000], num_nodes=628, x=[628, 51], edge_attr=[2000, 51], edge_label=[2000]), Data(edge_index=[2, 2000], h=[2000, 51], attack_cat=[2000], num_nodes=498, x=[498, 51], edge_attr=[2000, 51], edge_label=[2000]), Data(edge_index=[2, 2000], h=[2000, 51], attack_cat=[2000], num_nodes=2574, x=[2574, 51], edge_attr=[2000, 51], edge_label=[2000]), Data(edge_index=[2, 2000], h=[2000, 51], attack_cat=[2000], num_nodes=2502, x=[2502, 51], edge_attr=[2000, 51], edge_label=[2000]), Data(edge_index=[2, 2000], h=[2000, 51], attack_cat=[2000], num_nodes=2267, x=[2267, 51], edge_attr=[2000, 51], edge_label=[2000]), Data(edge_index=[2, 2000], h=[2000, 51], attack_cat=[2000], num_nodes=2582, x=[2582, 51], edge_attr=[2000, 51], edge_label=[2000]), Data(edge_index=[2, 2000], h=[2000, 51], attack_cat=[2000], num_nodes=2676, x=[2676, 51], edge_attr=[2000, 51], edge_label=[2000]), Data(edge_index=[2, 2000], h=[2000, 51], attack_cat=[2000], num_nodes=2608, x=[2608, 51], edge_attr=[2000, 51], edge_label=[2000]), Data(edge_index=[2, 2000], h=[2000, 51], attack_cat=[2000], num_nodes=1392, x=[1392, 51], edge_attr=[2000, 51], edge_label=[2000]), Data(edge_index=[2, 2000], h=[2000, 51], attack_cat=[2000], num_nodes=276, x=[276, 51], edge_attr=[2000, 51], edge_label=[2000]), Data(edge_index=[2, 2000], h=[2000, 51], attack_cat=[2000], num_nodes=200, x=[200, 51], edge_attr=[2000, 51], edge_label=[2000]), Data(edge_index=[2, 2000], h=[2000, 51], attack_cat=[2000], num_nodes=294, x=[294, 51], edge_attr=[2000, 51], edge_label=[2000]), Data(edge_index=[2, 2000], h=[2000, 51], attack_cat=[2000], num_nodes=494, x=[494, 51], edge_attr=[2000, 51], edge_label=[2000]), Data(edge_index=[2, 2000], h=[2000, 51], attack_cat=[2000], num_nodes=568, x=[568, 51], edge_attr=[2000, 51], edge_label=[2000]), Data(edge_index=[2, 2000], h=[2000, 51], attack_cat=[2000], num_nodes=748, x=[748, 51], edge_attr=[2000, 51], edge_label=[2000]), Data(edge_index=[2, 2000], h=[2000, 51], attack_cat=[2000], num_nodes=751, x=[751, 51], edge_attr=[2000, 51], edge_label=[2000]), Data(edge_index=[2, 2000], h=[2000, 51], attack_cat=[2000], num_nodes=1302, x=[1302, 51], edge_attr=[2000, 51], edge_label=[2000]), Data(edge_index=[2, 2000], h=[2000, 51], attack_cat=[2000], num_nodes=1222, x=[1222, 51], edge_attr=[2000, 51], edge_label=[2000]), Data(edge_index=[2, 2000], h=[2000, 51], attack_cat=[2000], num_nodes=999, x=[999, 51], edge_attr=[2000, 51], edge_label=[2000]), Data(edge_index=[2, 2000], h=[2000, 51], attack_cat=[2000], num_nodes=675, x=[675, 51], edge_attr=[2000, 51], edge_label=[2000]), Data(edge_index=[2, 2000], h=[2000, 51], attack_cat=[2000], num_nodes=629, x=[629, 51], edge_attr=[2000, 51], edge_label=[2000]), Data(edge_index=[2, 2000], h=[2000, 51], attack_cat=[2000], num_nodes=720, x=[720, 51], edge_attr=[2000, 51], edge_label=[2000]), Data(edge_index=[2, 2000], h=[2000, 51], attack_cat=[2000], num_nodes=471, x=[471, 51], edge_attr=[2000, 51], edge_label=[2000]), Data(edge_index=[2, 2000], h=[2000, 51], attack_cat=[2000], num_nodes=498, x=[498, 51], edge_attr=[2000, 51], edge_label=[2000]), Data(edge_index=[2, 2000], h=[2000, 51], attack_cat=[2000], num_nodes=532, x=[532, 51], edge_attr=[2000, 51], edge_label=[2000]), Data(edge_index=[2, 2000], h=[2000, 51], attack_cat=[2000], num_nodes=502, x=[502, 51], edge_attr=[2000, 51], edge_label=[2000]), Data(edge_index=[2, 2000], h=[2000, 51], attack_cat=[2000], num_nodes=680, x=[680, 51], edge_attr=[2000, 51], edge_label=[2000]), Data(edge_index=[2, 2000], h=[2000, 51], attack_cat=[2000], num_nodes=724, x=[724, 51], edge_attr=[2000, 51], edge_label=[2000]), Data(edge_index=[2, 2000], h=[2000, 51], attack_cat=[2000], num_nodes=893, x=[893, 51], edge_attr=[2000, 51], edge_label=[2000]), Data(edge_index=[2, 2000], h=[2000, 51], attack_cat=[2000], num_nodes=1309, x=[1309, 51], edge_attr=[2000, 51], edge_label=[2000]), Data(edge_index=[2, 2000], h=[2000, 51], attack_cat=[2000], num_nodes=1272, x=[1272, 51], edge_attr=[2000, 51], edge_label=[2000]), Data(edge_index=[2, 2000], h=[2000, 51], attack_cat=[2000], num_nodes=923, x=[923, 51], edge_attr=[2000, 51], edge_label=[2000]), Data(edge_index=[2, 2000], h=[2000, 51], attack_cat=[2000], num_nodes=923, x=[923, 51], edge_attr=[2000, 51], edge_label=[2000]), Data(edge_index=[2, 2000], h=[2000, 51], attack_cat=[2000], num_nodes=649, x=[649, 51], edge_attr=[2000, 51], edge_label=[2000]), Data(edge_index=[2, 2000], h=[2000, 51], attack_cat=[2000], num_nodes=994, x=[994, 51], edge_attr=[2000, 51], edge_label=[2000]), Data(edge_index=[2, 2000], h=[2000, 51], attack_cat=[2000], num_nodes=676, x=[676, 51], edge_attr=[2000, 51], edge_label=[2000]), Data(edge_index=[2, 2000], h=[2000, 51], attack_cat=[2000], num_nodes=733, x=[733, 51], edge_attr=[2000, 51], edge_label=[2000]), Data(edge_index=[2, 2000], h=[2000, 51], attack_cat=[2000], num_nodes=2432, x=[2432, 51], edge_attr=[2000, 51], edge_label=[2000]), Data(edge_index=[2, 2000], h=[2000, 51], attack_cat=[2000], num_nodes=2474, x=[2474, 51], edge_attr=[2000, 51], edge_label=[2000]), Data(edge_index=[2, 2000], h=[2000, 51], attack_cat=[2000], num_nodes=2377, x=[2377, 51], edge_attr=[2000, 51], edge_label=[2000]), Data(edge_index=[2, 2000], h=[2000, 51], attack_cat=[2000], num_nodes=2540, x=[2540, 51], edge_attr=[2000, 51], edge_label=[2000]), Data(edge_index=[2, 2000], h=[2000, 51], attack_cat=[2000], num_nodes=2683, x=[2683, 51], edge_attr=[2000, 51], edge_label=[2000]), Data(edge_index=[2, 2000], h=[2000, 51], attack_cat=[2000], num_nodes=2745, x=[2745, 51], edge_attr=[2000, 51], edge_label=[2000]), Data(edge_index=[2, 2000], h=[2000, 51], attack_cat=[2000], num_nodes=1282, x=[1282, 51], edge_attr=[2000, 51], edge_label=[2000]), Data(edge_index=[2, 2000], h=[2000, 51], attack_cat=[2000], num_nodes=275, x=[275, 51], edge_attr=[2000, 51], edge_label=[2000]), Data(edge_index=[2, 2000], h=[2000, 51], attack_cat=[2000], num_nodes=278, x=[278, 51], edge_attr=[2000, 51], edge_label=[2000]), Data(edge_index=[2, 2000], h=[2000, 51], attack_cat=[2000], num_nodes=722, x=[722, 51], edge_attr=[2000, 51], edge_label=[2000]), Data(edge_index=[2, 2000], h=[2000, 51], attack_cat=[2000], num_nodes=271, x=[271, 51], edge_attr=[2000, 51], edge_label=[2000]), Data(edge_index=[2, 2000], h=[2000, 51], attack_cat=[2000], num_nodes=354, x=[354, 51], edge_attr=[2000, 51], edge_label=[2000]), Data(edge_index=[2, 2000], h=[2000, 51], attack_cat=[2000], num_nodes=783, x=[783, 51], edge_attr=[2000, 51], edge_label=[2000]), Data(edge_index=[2, 2000], h=[2000, 51], attack_cat=[2000], num_nodes=779, x=[779, 51], edge_attr=[2000, 51], edge_label=[2000]), Data(edge_index=[2, 2000], h=[2000, 51], attack_cat=[2000], num_nodes=1253, x=[1253, 51], edge_attr=[2000, 51], edge_label=[2000]), Data(edge_index=[2, 2000], h=[2000, 51], attack_cat=[2000], num_nodes=1136, x=[1136, 51], edge_attr=[2000, 51], edge_label=[2000]), Data(edge_index=[2, 2000], h=[2000, 51], attack_cat=[2000], num_nodes=997, x=[997, 51], edge_attr=[2000, 51], edge_label=[2000]), Data(edge_index=[2, 2000], h=[2000, 51], attack_cat=[2000], num_nodes=891, x=[891, 51], edge_attr=[2000, 51], edge_label=[2000]), Data(edge_index=[2, 2000], h=[2000, 51], attack_cat=[2000], num_nodes=846, x=[846, 51], edge_attr=[2000, 51], edge_label=[2000]), Data(edge_index=[2, 2000], h=[2000, 51], attack_cat=[2000], num_nodes=768, x=[768, 51], edge_attr=[2000, 51], edge_label=[2000]), Data(edge_index=[2, 2000], h=[2000, 51], attack_cat=[2000], num_nodes=596, x=[596, 51], edge_attr=[2000, 51], edge_label=[2000]), Data(edge_index=[2, 2000], h=[2000, 51], attack_cat=[2000], num_nodes=705, x=[705, 51], edge_attr=[2000, 51], edge_label=[2000]), Data(edge_index=[2, 2000], h=[2000, 51], attack_cat=[2000], num_nodes=495, x=[495, 51], edge_attr=[2000, 51], edge_label=[2000]), Data(edge_index=[2, 2000], h=[2000, 51], attack_cat=[2000], num_nodes=636, x=[636, 51], edge_attr=[2000, 51], edge_label=[2000]), Data(edge_index=[2, 2000], h=[2000, 51], attack_cat=[2000], num_nodes=818, x=[818, 51], edge_attr=[2000, 51], edge_label=[2000]), Data(edge_index=[2, 2000], h=[2000, 51], attack_cat=[2000], num_nodes=802, x=[802, 51], edge_attr=[2000, 51], edge_label=[2000]), Data(edge_index=[2, 2000], h=[2000, 51], attack_cat=[2000], num_nodes=1433, x=[1433, 51], edge_attr=[2000, 51], edge_label=[2000]), Data(edge_index=[2, 2000], h=[2000, 51], attack_cat=[2000], num_nodes=1259, x=[1259, 51], edge_attr=[2000, 51], edge_label=[2000]), Data(edge_index=[2, 2000], h=[2000, 51], attack_cat=[2000], num_nodes=1010, x=[1010, 51], edge_attr=[2000, 51], edge_label=[2000]), Data(edge_index=[2, 2000], h=[2000, 51], attack_cat=[2000], num_nodes=1139, x=[1139, 51], edge_attr=[2000, 51], edge_label=[2000]), Data(edge_index=[2, 1159], h=[1159, 51], attack_cat=[1159], num_nodes=545, x=[545, 51], edge_attr=[1159, 51], edge_label=[1159])]\n",
      "[[7, 8, 4, 3, 6, 9, 5, 10], [5, 7, 8, 3, 4, 6, 9, 10, 2], [5, 8, 7, 4, 6, 3, 2, 9], [7, 4, 3, 8, 6, 9, 5, 2, 10], [5, 7, 3, 4, 8, 6, 9, 2, 10], [5, 7, 8, 4, 6, 9, 3, 2, 10], [7, 5, 4, 9, 3, 8, 2, 6, 10, 0], [4, 5, 3, 0, 2, 7, 9, 8, 6, 10], [5, 0, 2, 4, 3, 6, 7, 8, 10, 9], [6, 7, 8, 9, 4, 5, 3, 2, 10], [7, 6, 4, 8, 3, 9, 2, 5, 10], [6, 5, 2, 7, 8, 4, 0, 3, 9, 10], [6, 7, 4, 3, 8, 9, 5, 0, 2, 10], [4, 7, 5, 6, 2, 3, 9, 8, 10], [4, 5, 6, 7, 8, 3, 9, 2], [7, 8, 6, 4, 5, 9, 3, 0, 2], [7, 6, 5, 3, 4, 8, 9, 0, 10, 2], [7, 10, 5, 4, 6, 3, 8, 2, 9, 0], [5, 7, 2, 6, 3, 4, 8, 9], [3, 8, 7, 4, 6, 5, 9, 2, 10], [7], [7], [7], [7], [7], [7], [7], [7], [7], [7], [7], [7], [7], [7], [7], [7], [7], [7], [7], [7], [7], [7], [7], [7], [7], [7], [7], [7], [7], [7], [7], [7], [7], [7], [7], [7], [7], [7], [7], [7], [7], [7], [7], [7], [7, 4, 8, 1, 3, 6, 5, 0, 9, 10], [5, 7, 8, 4, 6, 3, 9, 10, 1], [7, 4, 5, 3, 6, 8, 1, 9, 10], [7, 8, 3, 4, 6, 5, 9, 1, 10], [7, 4, 6, 8, 3, 9, 5, 1, 10, 0], [3, 4, 6, 8, 7, 5, 1, 0, 9], [3, 4, 8, 1, 6, 5, 0, 7, 9, 10], [1, 3, 4, 6, 5, 0, 8, 7, 9], [6, 4, 7, 5, 9, 8, 3], [6, 9, 7, 3, 4, 0, 5, 8, 1], [7, 6, 4, 5, 1, 8, 3, 9, 10], [4, 7, 6, 8, 5, 3, 1, 10, 9, 0], [4, 7, 5, 6, 8, 9, 3, 1, 10, 0], [6, 5, 8, 7, 4, 9, 3], [6, 7, 4, 8, 3, 9, 5, 0, 1, 10], [5, 7, 8, 6, 4, 9, 1, 3, 10], [6, 7, 4, 8, 3, 5, 1, 9, 10], [6, 4, 7, 5, 8, 3, 9, 1], [7, 5, 4, 6, 8, 9, 3, 1, 0], [6, 8, 7, 4, 3, 5, 0, 9, 1], [6, 7, 4, 5, 3, 8, 1, 9, 10, 0], [6, 5, 4, 7, 8, 3, 0, 9, 1, 10], [7, 4, 8, 6, 5, 9, 3, 1, 10], [4, 7, 5, 9, 6, 8, 3, 1, 10, 0], [7, 8, 4, 3, 6, 5, 9, 10, 1, 0], [7, 8, 5, 4, 3, 6, 1, 0, 9], [7, 5, 4, 9, 3, 8, 1, 6, 10], [4, 7, 3, 6, 8, 9, 1, 0, 5, 10], [7, 4, 5, 3, 8, 9, 6, 10, 1], [7, 8, 4, 3, 9, 5, 6, 10, 1, 0], [4, 5, 8, 3, 6, 7, 9, 0, 10], [4, 5, 3, 6, 8, 7, 0, 9, 10], [6, 7, 5, 0, 3, 4, 8, 9], [4, 6, 8, 3, 0, 5, 7, 9], [6, 7, 4, 8, 3], [6, 8, 7, 3, 4, 9, 1, 5, 0], [6, 5, 7, 8, 4, 9, 3, 1], [6, 3, 7, 8, 4, 5, 10, 9, 1], [4, 5, 7, 6, 8, 1, 3, 10], [7, 4, 5, 6, 3, 8, 9, 0, 1, 10], [7, 6, 4, 5, 8, 3, 9, 1], [6, 3, 7, 4, 8, 5, 9], [6, 7, 4, 5, 9, 8, 3, 1, 0], [7, 4, 6, 8, 5, 3, 10, 9, 1], [6, 7, 4, 8, 1, 5, 3, 9, 0], [7, 6, 8, 4, 3, 1, 9], [4, 7, 6, 8, 3, 10, 5], [6, 4, 7, 8, 9, 5, 3, 1], [6, 7, 8, 4, 3, 9], [6, 7, 8, 4, 3, 5, 1, 9], [8, 5, 7, 4, 6, 9, 1, 3], [7, 3, 6, 4, 8, 5, 9], [6, 4, 7, 8, 3, 0, 9, 1], [6, 8, 7, 3, 4, 1, 0, 5, 9], [6, 7, 4, 8, 5, 3, 9, 10, 0], [6, 0, 7, 8, 4, 3, 1, 5, 9, 10], [7, 5, 8, 6, 4, 3, 9, 1], [6, 7, 4, 9, 8, 3, 5, 0, 1], [7, 5, 4, 1, 3, 6, 8, 9], [8, 5, 4, 7, 6, 9, 3, 1], [6, 7, 4, 3, 8, 9, 5], [6, 4, 7, 8, 5, 3, 9], [6, 7, 8, 5, 4, 9, 3], [6, 7, 4, 8, 5, 3, 9, 1, 10], [4, 7, 8, 6, 3, 5, 1, 9, 10, 0], [7, 5, 4, 3, 8, 1, 9, 6, 0], [5, 4, 7, 6, 8, 3, 1, 9, 10], [7, 8, 5, 4, 6, 3, 9, 1, 10], [7, 4, 8, 3, 5, 6, 9, 10, 1], [4, 7, 8, 6, 3, 9, 5, 10, 1, 0], [4, 6, 3, 8, 1, 0, 5, 7, 9, 10], [3, 4, 6, 8, 1, 5, 7, 0, 9, 10], [4, 5, 8, 3, 1, 7, 6, 0, 9, 10], [3, 4, 0, 5, 7, 6, 8, 1, 9], [6, 4, 7, 8, 3], [6, 7, 8, 4, 3, 9, 1, 5], [6, 7, 5, 4, 3, 8, 1, 9], [7, 4, 5, 8, 6, 3, 9, 1, 10], [7, 4, 6, 5, 8, 3, 9, 1], [6, 7, 4, 8, 5, 3, 1, 10], [3, 7, 6, 4, 8, 5, 9, 1, 0], [7, 5, 6, 4, 8, 3, 1, 9, 10, 0], [6, 7, 4, 8, 5, 9, 3], [6, 8, 7, 5, 4, 9, 3], [6, 7, 4, 8, 3, 5, 1, 9, 0], [6, 7, 8, 4, 5, 3, 10, 9, 1], [5, 6, 7, 8, 4, 3, 10, 1], [6, 7, 8, 5, 3, 4, 1, 9], [6, 4, 7, 8, 3, 1, 9], [6, 7, 4, 10, 3, 5, 8, 9], [6, 7, 4, 3, 8, 9, 1], [6, 8, 4, 7, 3, 5, 9, 1], [6, 5, 7, 8, 4, 9, 3, 1], [6, 4, 7, 5, 8, 3, 9], [6, 7, 4, 8, 3, 0, 5, 9, 1], [4, 8, 1, 5, 3, 0, 7, 6, 9], [8, 5, 7, 6, 4, 10, 0, 3, 9, 1], [7, 6, 5, 4, 8, 3, 1, 9, 0, 10], [6, 5, 8, 7, 4, 0, 3, 1, 9], [6, 4, 7, 3, 8, 9, 5, 1], [7, 5, 8, 4, 3, 6, 9, 1], [6, 4, 7, 8, 3, 5, 9, 1], [6, 7, 3, 8, 9, 4, 5], [7, 6, 4, 8, 3, 5, 9, 1, 10], [7, 5, 4, 8, 9, 6, 10, 3, 1, 0], [8, 5, 3, 7, 4, 6, 9, 1], [4, 7, 9, 3, 8, 5, 1, 6, 10], [1, 3, 7, 4, 8, 6, 5, 9, 10, 0], [8, 7, 9, 5, 3, 4, 6, 1], [4, 5, 7, 6, 3, 10, 1, 8, 9, 0], [3, 4, 0, 5, 7, 8, 1, 6, 10, 9], [6, 5, 8, 1, 4, 3, 0, 7, 9], [3, 4, 6, 8, 1, 5, 0, 7, 9, 10], [6, 5, 7, 8, 4, 9, 10, 3], [6, 7, 4, 8, 3], [4, 7, 6, 8, 9, 3, 5, 1, 0], [6, 4, 5, 7, 8, 3, 9, 1, 10], [6, 7, 3, 4, 8, 1, 9, 5, 0], [4, 5, 7, 3, 8, 1, 6, 10, 9, 0], [6, 4, 7, 5, 8, 3, 1, 9, 10, 0], [7, 5, 4, 6, 8, 3, 9], [7, 8, 4, 5, 6, 9, 0, 3, 1], [6, 7, 4, 3, 8, 5, 10, 0, 9, 1], [6, 5, 3, 4, 7, 9, 8, 10], [6, 1, 7, 4, 8, 5, 3, 0, 9], [6, 7, 4, 8, 9, 3, 1], [6, 4, 7, 8, 3, 10, 5, 9], [6, 7, 4, 8, 5, 3, 9, 1], [6, 7, 8, 4, 3, 9, 5], [7, 6, 4, 8, 3, 1, 9, 5], [6, 7, 4, 8, 5, 9, 3], [7, 6, 4, 8, 5, 3, 9, 0, 1], [6, 7, 8, 4, 3, 9, 0, 1, 5], [6, 5, 8, 7, 4, 10, 3, 9, 0, 1], [7, 5, 8, 0, 4, 6, 9, 3, 1, 10], [5, 7, 8, 6, 4, 1, 9, 3, 10], [6, 5, 4, 7, 8, 3, 1, 9, 0], [6, 5, 8, 7, 9, 4, 3, 1, 0], [6, 5, 8, 7, 4, 3, 9], [6, 7, 5, 4, 3, 8, 9], [6, 7, 8, 4, 5, 3, 9, 1, 10], [6, 7, 5, 8, 4, 3], [7, 4, 9, 8, 6, 3, 1, 5, 10], [7, 3, 4, 5, 8, 6, 9, 1, 10, 0], [5, 4, 7, 8, 3, 6, 1, 0, 9, 10], [5, 7, 4, 6, 8, 3, 9, 10, 1, 0], [7, 4, 3, 8, 6, 9, 5, 1, 10], [7, 6, 4, 8, 5, 3, 9, 1, 10, 0], [7, 3, 8, 4, 6, 9, 5, 1, 10, 0], [4, 0, 3, 6, 7, 5, 8, 1, 9], [3, 4, 6, 8, 1, 0, 7, 5, 9, 10], [4, 8, 3, 6, 7, 5, 1, 0, 9, 10], [6, 5, 0, 1, 3, 4, 8, 7, 9], [6, 8, 5, 7, 4, 3, 9, 1], [6, 5, 4, 7, 8, 9, 3], [6, 4, 7, 8, 1, 3, 9, 10, 5], [7, 6, 3, 4, 8, 1, 5, 0, 10, 9], [7, 4, 6, 5, 3, 1, 8, 0, 9, 10], [6, 4, 7, 8, 5, 3, 9], [6, 5, 7, 4, 8, 9, 3, 1, 0], [6, 4, 8, 7, 3, 5, 10, 9], [6, 5, 8, 7, 4, 1, 3, 9, 10], [6, 7, 4, 8, 5, 3, 0, 1, 9], [6, 4, 7, 3, 8, 10, 5], [6, 7, 4, 9, 8, 3, 1], [6, 7, 4, 8, 3, 9, 5, 1], [7, 9, 6, 5, 4, 8, 1, 3], [6, 7, 4, 5, 9, 8, 3, 1, 0], [6, 4, 1, 7, 8, 3, 9, 5, 0], [6, 3, 7, 5, 4, 8, 9, 0, 10, 1], [4, 9, 1, 3, 5, 6, 7, 8, 0, 10], [6, 5, 8, 4, 7, 3, 0, 1, 9], [8, 7, 4, 6, 9, 5, 3, 1, 10], [6, 4, 7, 8, 9, 3, 1, 5], [6, 8, 5, 7, 9, 4, 3, 1], [6, 4, 7, 8, 9, 5, 3], [7, 6, 4, 8, 9, 5, 3], [6, 4, 7, 8, 9, 3, 1, 5, 0, 10], [7, 5, 4, 3, 8, 6, 9, 1, 10, 0], [5, 4, 7, 8, 3, 6, 1, 0, 9], [7, 8, 5, 4, 6, 3, 9, 10, 1, 0], [7, 3, 4, 8, 6, 9, 5, 1, 10], [7, 4, 8, 5, 3, 6, 9, 1, 10, 0], [7, 4, 8, 3, 5, 10, 6, 9, 1, 0], [3, 4, 1, 7, 5, 6, 8, 0, 9], [4, 6, 3, 7, 5, 0, 8, 1, 10, 9], [3, 4, 5, 6, 0, 8, 1, 7, 9], [6, 7, 4, 3, 8], [6, 4, 7, 8, 9, 3, 1, 0, 5], [4, 7, 6, 8, 5, 3, 9, 1], [4, 7, 6, 5, 8, 3, 9, 10, 1], [7, 6, 4, 5, 3, 8, 1, 0, 10], [6, 5, 4, 7, 3, 9, 8, 1, 0, 10], [7, 5, 8, 1, 6, 4, 9, 3], [5, 6, 7, 4, 8, 9, 3, 1], [7, 6, 3, 4, 8, 5, 10, 9, 1], [7, 6, 8, 5, 4, 3, 10, 1, 9], [6, 7, 4, 9, 8, 3, 1, 10], [7, 6, 5, 4, 8, 3, 9, 1], [6, 7, 3, 4, 8, 9, 5, 1], [6, 4, 5, 7, 8, 9, 3, 1], [6, 4, 7, 8, 3, 5, 9], [7, 6, 4, 8, 9, 1, 0, 3, 5], [6, 5, 7, 8, 4, 3, 9, 0, 10], [7, 3, 4, 8, 6, 1, 5, 0, 9, 10], [6, 8, 7, 5, 4, 0, 3, 9, 1], [7, 6, 4, 8, 5, 9, 3, 1], [6, 7, 8, 3, 4, 1, 9, 5]]\n",
      "Number of training graphs: 231\n",
      "Number of testing graphs: 41\n"
     ]
    },
    {
     "name": "stderr",
     "output_type": "stream",
     "text": [
      "\n"
     ]
    }
   ],
   "source": [
    "graph_dataset = generate_graph_datasets(data, \n",
    "                                        overlap_ratio=0,\n",
    "                                        build_graph_func_kwargs={\n",
    "                                            'source_ip_col': SOURCE_IP_COL_NAME, \n",
    "                                            'destination_ip_col': DESTINATION_IP_COL_NAME, \n",
    "                                            'edge_attr': ['h', label_col], \n",
    "                                            'create_using': nx.MultiDiGraph()})\n",
    "train_graph_dataset, test_graph_dataset = graph_dataset.graph_train_test_split(test_ratio=0.15, random_state=42)\n",
    "print(\"Number of training graphs:\", len(train_graph_dataset))\n",
    "print(\"Number of testing graphs:\", len(test_graph_dataset))"
   ]
  },
  {
   "cell_type": "code",
   "execution_count": 36,
   "id": "41795339-6036-468f-9b9d-2bb68d78ed7d",
   "metadata": {},
   "outputs": [],
   "source": [
    "class SAGELayerPyG(MessagePassing):\n",
    "    def __init__(self, in_channels, edge_dim, out_channels, activation=F.relu):\n",
    "        super().__init__(aggr='mean')  # mean aggregation\n",
    "        self.W_msg = nn.Linear(in_channels + edge_dim, out_channels)\n",
    "        self.W_apply = nn.Linear(in_channels + out_channels, out_channels)\n",
    "        self.activation = activation\n",
    "\n",
    "    def forward(self, x, edge_index, edge_attr):\n",
    "        # x: [num_nodes, in_channels]\n",
    "        # edge_attr: [num_edges, edge_dim]\n",
    "        return self.propagate(edge_index, x=x, edge_attr=edge_attr)\n",
    "\n",
    "    def message(self, x_j, edge_attr):\n",
    "        # x_j: features of source nodes (neighbours)\n",
    "        msg_input = th.cat([x_j, edge_attr], dim=1)\n",
    "        return self.W_msg(msg_input)\n",
    "\n",
    "    def update(self, aggr_out, x):\n",
    "        # aggr_out: [num_nodes, out_channels]\n",
    "        combined = th.cat([x, aggr_out], dim=1)\n",
    "        out = self.W_apply(combined)\n",
    "        return self.activation(out)\n",
    "    \n",
    "class MLPPredictor(nn.Module):\n",
    "    def __init__(self, in_channels, out_channels):\n",
    "        super(MLPPredictor, self).__init__()\n",
    "        self.lin = nn.Linear(in_channels * 2, out_channels)\n",
    "\n",
    "    def forward(self, data, z):\n",
    "        row, col = data.edge_index\n",
    "        # Concatenate the features of source and target nodes for each edge\n",
    "        edge_feat = th.cat([z[row], z[col]], dim=1)\n",
    "        return self.lin(edge_feat)\n",
    "\n",
    "class EGraphSAGE(nn.Module):\n",
    "    def __init__(self, node_in_channels, edge_in_channels, hidden_channels, out_channels):\n",
    "        super(EGraphSAGE, self).__init__()\n",
    "        self.conv1 = SAGELayerPyG(node_in_channels, edge_in_channels, hidden_channels)\n",
    "        self.conv2 = SAGELayerPyG(hidden_channels, edge_in_channels, hidden_channels)\n",
    "        self.mlp_predictor = MLPPredictor(hidden_channels, out_channels)\n",
    "\n",
    "    def forward(self, data):\n",
    "        x, edge_index, edge_attr = data.x, data.edge_index, data.edge_attr\n",
    "        x = F.relu(self.conv1(x, edge_index, edge_attr))\n",
    "        x = F.dropout(x, p=0.2)\n",
    "        x = self.conv2(x, edge_index, edge_attr)\n",
    "        return self.mlp_predictor(data, x)"
   ]
  },
  {
   "cell_type": "code",
   "execution_count": 37,
   "id": "bca25fef-29d9-40cf-8910-16b24d530693",
   "metadata": {},
   "outputs": [
    {
     "name": "stdout",
     "output_type": "stream",
     "text": [
      "cuda:0\n"
     ]
    }
   ],
   "source": [
    "device = th.device(\"cuda:0\" if th.cuda.is_available() else \"cpu\")\n",
    "print(device)"
   ]
  },
  {
   "cell_type": "code",
   "execution_count": 38,
   "id": "cccdc850-b98d-4836-b82b-67aa4b9e1e02",
   "metadata": {},
   "outputs": [],
   "source": [
    "th.cuda.empty_cache()"
   ]
  },
  {
   "cell_type": "code",
   "execution_count": 39,
   "id": "89157faf-e24b-49d6-9c90-6f71dae515b2",
   "metadata": {},
   "outputs": [],
   "source": [
    "\n",
    "\n",
    "def init_weights(m):\n",
    "    if isinstance(m, nn.Linear):\n",
    "        nn.init.xavier_uniform_(m.weight)\n",
    "        nn.init.constant_(m.bias, 0)\n",
    "\n"
   ]
  },
  {
   "cell_type": "code",
   "execution_count": 40,
   "id": "385d37f0-713b-4abc-8d7a-3e768ae9a2b2",
   "metadata": {},
   "outputs": [
    {
     "name": "stdout",
     "output_type": "stream",
     "text": [
      "Testing with learning rate: 0.005, hidden_dim: 256\n",
      "Fold 1\n",
      "Class weights: tensor([1.8445e+01, 2.7509e+01, 9.2468e+01, 3.0195e+00, 1.1090e+00, 2.0365e+00,\n",
      "        2.2915e-01, 2.2255e-01, 3.5303e+00, 3.2679e+01, 2.8378e+02],\n",
      "       device='cuda:0')\n"
     ]
    },
    {
     "name": "stderr",
     "output_type": "stream",
     "text": [
      "Training:   0%|          | 0/196 [00:00<?, ?it/s]"
     ]
    },
    {
     "name": "stderr",
     "output_type": "stream",
     "text": [
      "                                                            \r"
     ]
    },
    {
     "name": "stdout",
     "output_type": "stream",
     "text": [
      "Best F1 Score at epoch 0: 0.9131, Train Loss: 316.0273, Validation Loss: 41.3991, Parameters: lr=0.005, hidden_dim256\n",
      "Epoch 0, Train Loss: 316.0273, Validation Loss: 41.3991, Validation F1: 0.9131\n"
     ]
    },
    {
     "name": "stderr",
     "output_type": "stream",
     "text": [
      "                                                            \r"
     ]
    },
    {
     "name": "stdout",
     "output_type": "stream",
     "text": [
      "Best F1 Score at epoch 1: 0.9174, Train Loss: 221.3896, Validation Loss: 34.7163, Parameters: lr=0.005, hidden_dim256\n",
      "Epoch 1, Train Loss: 221.3896, Validation Loss: 34.7163, Validation F1: 0.9174\n"
     ]
    },
    {
     "name": "stderr",
     "output_type": "stream",
     "text": [
      "                                                            \r"
     ]
    },
    {
     "name": "stdout",
     "output_type": "stream",
     "text": [
      "Best F1 Score at epoch 2: 0.9193, Train Loss: 280.0376, Validation Loss: 43.1980, Parameters: lr=0.005, hidden_dim256\n",
      "Epoch 2, Train Loss: 280.0376, Validation Loss: 43.1980, Validation F1: 0.9193\n"
     ]
    },
    {
     "name": "stderr",
     "output_type": "stream",
     "text": [
      "                                                            \r"
     ]
    },
    {
     "name": "stdout",
     "output_type": "stream",
     "text": [
      "Epoch 3, Train Loss: 219.7124, Validation Loss: 34.8417, Validation F1: 0.9127\n"
     ]
    },
    {
     "name": "stderr",
     "output_type": "stream",
     "text": [
      "                                                            \r"
     ]
    },
    {
     "name": "stdout",
     "output_type": "stream",
     "text": [
      "Epoch 4, Train Loss: 248.2892, Validation Loss: 37.7054, Validation F1: 0.9098\n"
     ]
    },
    {
     "name": "stderr",
     "output_type": "stream",
     "text": [
      "                                                            \r"
     ]
    },
    {
     "name": "stdout",
     "output_type": "stream",
     "text": [
      "Epoch 5, Train Loss: 260.3529, Validation Loss: 42.0671, Validation F1: 0.8900\n"
     ]
    },
    {
     "name": "stderr",
     "output_type": "stream",
     "text": [
      "                                                            \r"
     ]
    },
    {
     "name": "stdout",
     "output_type": "stream",
     "text": [
      "Epoch 6, Train Loss: 233.2375, Validation Loss: 41.9801, Validation F1: 0.8947\n"
     ]
    },
    {
     "name": "stderr",
     "output_type": "stream",
     "text": [
      "                                                            \r"
     ]
    },
    {
     "name": "stdout",
     "output_type": "stream",
     "text": [
      "Epoch 7, Train Loss: 250.7881, Validation Loss: 40.4123, Validation F1: 0.8989\n"
     ]
    },
    {
     "name": "stderr",
     "output_type": "stream",
     "text": [
      "                                                            \r"
     ]
    },
    {
     "name": "stdout",
     "output_type": "stream",
     "text": [
      "Epoch 8, Train Loss: 225.6525, Validation Loss: 37.0919, Validation F1: 0.9000\n"
     ]
    },
    {
     "name": "stderr",
     "output_type": "stream",
     "text": [
      "                                                            \r"
     ]
    },
    {
     "name": "stdout",
     "output_type": "stream",
     "text": [
      "Epoch 9, Train Loss: 215.1970, Validation Loss: 37.8326, Validation F1: 0.9011\n",
      "Fold 2\n",
      "Class weights: tensor([1.8445e+01, 2.7509e+01, 9.2468e+01, 3.0195e+00, 1.1090e+00, 2.0365e+00,\n",
      "        2.2915e-01, 2.2255e-01, 3.5303e+00, 3.2679e+01, 2.8378e+02],\n",
      "       device='cuda:0')\n"
     ]
    },
    {
     "name": "stderr",
     "output_type": "stream",
     "text": [
      "                                                            \r"
     ]
    },
    {
     "name": "stdout",
     "output_type": "stream",
     "text": [
      "Best F1 Score at epoch 0: 0.8453, Train Loss: 351.5944, Validation Loss: 39.8916, Parameters: lr=0.005, hidden_dim256\n",
      "Epoch 0, Train Loss: 351.5944, Validation Loss: 39.8916, Validation F1: 0.8453\n"
     ]
    },
    {
     "name": "stderr",
     "output_type": "stream",
     "text": [
      "                                                            \r"
     ]
    },
    {
     "name": "stdout",
     "output_type": "stream",
     "text": [
      "Best F1 Score at epoch 1: 0.8565, Train Loss: 229.2264, Validation Loss: 51.3153, Parameters: lr=0.005, hidden_dim256\n",
      "Epoch 1, Train Loss: 229.2264, Validation Loss: 51.3153, Validation F1: 0.8565\n"
     ]
    },
    {
     "name": "stderr",
     "output_type": "stream",
     "text": [
      "                                                            \r"
     ]
    },
    {
     "name": "stdout",
     "output_type": "stream",
     "text": [
      "Epoch 2, Train Loss: 236.3446, Validation Loss: 37.2584, Validation F1: 0.8557\n"
     ]
    },
    {
     "name": "stderr",
     "output_type": "stream",
     "text": [
      "                                                            \r"
     ]
    },
    {
     "name": "stdout",
     "output_type": "stream",
     "text": [
      "Best F1 Score at epoch 3: 0.8721, Train Loss: 214.6132, Validation Loss: 35.3189, Parameters: lr=0.005, hidden_dim256\n",
      "Epoch 3, Train Loss: 214.6132, Validation Loss: 35.3189, Validation F1: 0.8721\n"
     ]
    },
    {
     "name": "stderr",
     "output_type": "stream",
     "text": [
      "                                                            \r"
     ]
    },
    {
     "name": "stdout",
     "output_type": "stream",
     "text": [
      "Epoch 4, Train Loss: 197.1173, Validation Loss: 32.4649, Validation F1: 0.8638\n"
     ]
    },
    {
     "name": "stderr",
     "output_type": "stream",
     "text": [
      "                                                            \r"
     ]
    },
    {
     "name": "stdout",
     "output_type": "stream",
     "text": [
      "Epoch 5, Train Loss: 248.1978, Validation Loss: 39.2082, Validation F1: 0.8404\n"
     ]
    },
    {
     "name": "stderr",
     "output_type": "stream",
     "text": [
      "                                                            \r"
     ]
    },
    {
     "name": "stdout",
     "output_type": "stream",
     "text": [
      "Epoch 6, Train Loss: 235.1632, Validation Loss: 38.9911, Validation F1: 0.8508\n"
     ]
    },
    {
     "name": "stderr",
     "output_type": "stream",
     "text": [
      "                                                            \r"
     ]
    },
    {
     "name": "stdout",
     "output_type": "stream",
     "text": [
      "Epoch 7, Train Loss: 209.7893, Validation Loss: 34.7382, Validation F1: 0.8571\n"
     ]
    },
    {
     "name": "stderr",
     "output_type": "stream",
     "text": [
      "                                                            \r"
     ]
    },
    {
     "name": "stdout",
     "output_type": "stream",
     "text": [
      "Epoch 8, Train Loss: 192.4975, Validation Loss: 32.6409, Validation F1: 0.8612\n"
     ]
    },
    {
     "name": "stderr",
     "output_type": "stream",
     "text": [
      "                                                           \r"
     ]
    },
    {
     "ename": "KeyboardInterrupt",
     "evalue": "",
     "output_type": "error",
     "traceback": [
      "\u001b[31m---------------------------------------------------------------------------\u001b[39m",
      "\u001b[31mKeyboardInterrupt\u001b[39m                         Traceback (most recent call last)",
      "\u001b[36mCell\u001b[39m\u001b[36m \u001b[39m\u001b[32mIn[40]\u001b[39m\u001b[32m, line 109\u001b[39m\n\u001b[32m    106\u001b[39m learning_rates = [\u001b[32m0.005\u001b[39m]\n\u001b[32m    107\u001b[39m hidden_dims = [\u001b[32m256\u001b[39m, \u001b[32m512\u001b[39m, \u001b[32m1024\u001b[39m]\n\u001b[32m--> \u001b[39m\u001b[32m109\u001b[39m \u001b[43mgrid_search\u001b[49m\u001b[43m(\u001b[49m\u001b[43mtrain_graph_dataset\u001b[49m\u001b[43m,\u001b[49m\u001b[43m \u001b[49m\u001b[43mepochs\u001b[49m\u001b[43m=\u001b[49m\u001b[32;43m10\u001b[39;49m\u001b[43m,\u001b[49m\u001b[43m \u001b[49m\u001b[43mlearning_rates\u001b[49m\u001b[43m=\u001b[49m\u001b[43mlearning_rates\u001b[49m\u001b[43m,\u001b[49m\u001b[43m \u001b[49m\u001b[43mhidden_dims\u001b[49m\u001b[43m=\u001b[49m\u001b[43mhidden_dims\u001b[49m\u001b[43m)\u001b[49m\n",
      "\u001b[36mCell\u001b[39m\u001b[36m \u001b[39m\u001b[32mIn[40]\u001b[39m\u001b[32m, line 64\u001b[39m, in \u001b[36mgrid_search\u001b[39m\u001b[34m(graph_dataset, epochs, learning_rates, hidden_dims, folds)\u001b[39m\n\u001b[32m     61\u001b[39m     optimizer.zero_grad()\n\u001b[32m     62\u001b[39m     loss.backward()\n\u001b[32m---> \u001b[39m\u001b[32m64\u001b[39m     \u001b[43moptimizer\u001b[49m\u001b[43m.\u001b[49m\u001b[43mstep\u001b[49m\u001b[43m(\u001b[49m\u001b[43m)\u001b[49m\n\u001b[32m     66\u001b[39m model.eval()\n\u001b[32m     67\u001b[39m total_f1 = \u001b[32m0\u001b[39m\n",
      "\u001b[36mFile \u001b[39m\u001b[32m/vol/bitbucket/shc20/FYP/GNN-Adversarial-Attack/.venv/lib/python3.12/site-packages/torch/optim/optimizer.py:485\u001b[39m, in \u001b[36mOptimizer.profile_hook_step.<locals>.wrapper\u001b[39m\u001b[34m(*args, **kwargs)\u001b[39m\n\u001b[32m    480\u001b[39m         \u001b[38;5;28;01melse\u001b[39;00m:\n\u001b[32m    481\u001b[39m             \u001b[38;5;28;01mraise\u001b[39;00m \u001b[38;5;167;01mRuntimeError\u001b[39;00m(\n\u001b[32m    482\u001b[39m                 \u001b[33mf\u001b[39m\u001b[33m\"\u001b[39m\u001b[38;5;132;01m{\u001b[39;00mfunc\u001b[38;5;132;01m}\u001b[39;00m\u001b[33m must return None or a tuple of (new_args, new_kwargs), but got \u001b[39m\u001b[38;5;132;01m{\u001b[39;00mresult\u001b[38;5;132;01m}\u001b[39;00m\u001b[33m.\u001b[39m\u001b[33m\"\u001b[39m\n\u001b[32m    483\u001b[39m             )\n\u001b[32m--> \u001b[39m\u001b[32m485\u001b[39m out = \u001b[43mfunc\u001b[49m\u001b[43m(\u001b[49m\u001b[43m*\u001b[49m\u001b[43margs\u001b[49m\u001b[43m,\u001b[49m\u001b[43m \u001b[49m\u001b[43m*\u001b[49m\u001b[43m*\u001b[49m\u001b[43mkwargs\u001b[49m\u001b[43m)\u001b[49m\n\u001b[32m    486\u001b[39m \u001b[38;5;28mself\u001b[39m._optimizer_step_code()\n\u001b[32m    488\u001b[39m \u001b[38;5;66;03m# call optimizer step post hooks\u001b[39;00m\n",
      "\u001b[36mFile \u001b[39m\u001b[32m/vol/bitbucket/shc20/FYP/GNN-Adversarial-Attack/.venv/lib/python3.12/site-packages/torch/optim/optimizer.py:79\u001b[39m, in \u001b[36m_use_grad_for_differentiable.<locals>._use_grad\u001b[39m\u001b[34m(self, *args, **kwargs)\u001b[39m\n\u001b[32m     77\u001b[39m     torch.set_grad_enabled(\u001b[38;5;28mself\u001b[39m.defaults[\u001b[33m\"\u001b[39m\u001b[33mdifferentiable\u001b[39m\u001b[33m\"\u001b[39m])\n\u001b[32m     78\u001b[39m     torch._dynamo.graph_break()\n\u001b[32m---> \u001b[39m\u001b[32m79\u001b[39m     ret = \u001b[43mfunc\u001b[49m\u001b[43m(\u001b[49m\u001b[38;5;28;43mself\u001b[39;49m\u001b[43m,\u001b[49m\u001b[43m \u001b[49m\u001b[43m*\u001b[49m\u001b[43margs\u001b[49m\u001b[43m,\u001b[49m\u001b[43m \u001b[49m\u001b[43m*\u001b[49m\u001b[43m*\u001b[49m\u001b[43mkwargs\u001b[49m\u001b[43m)\u001b[49m\n\u001b[32m     80\u001b[39m \u001b[38;5;28;01mfinally\u001b[39;00m:\n\u001b[32m     81\u001b[39m     torch._dynamo.graph_break()\n",
      "\u001b[36mFile \u001b[39m\u001b[32m/vol/bitbucket/shc20/FYP/GNN-Adversarial-Attack/.venv/lib/python3.12/site-packages/torch/optim/adam.py:246\u001b[39m, in \u001b[36mAdam.step\u001b[39m\u001b[34m(self, closure)\u001b[39m\n\u001b[32m    234\u001b[39m     beta1, beta2 = group[\u001b[33m\"\u001b[39m\u001b[33mbetas\u001b[39m\u001b[33m\"\u001b[39m]\n\u001b[32m    236\u001b[39m     has_complex = \u001b[38;5;28mself\u001b[39m._init_group(\n\u001b[32m    237\u001b[39m         group,\n\u001b[32m    238\u001b[39m         params_with_grad,\n\u001b[32m   (...)\u001b[39m\u001b[32m    243\u001b[39m         state_steps,\n\u001b[32m    244\u001b[39m     )\n\u001b[32m--> \u001b[39m\u001b[32m246\u001b[39m     \u001b[43madam\u001b[49m\u001b[43m(\u001b[49m\n\u001b[32m    247\u001b[39m \u001b[43m        \u001b[49m\u001b[43mparams_with_grad\u001b[49m\u001b[43m,\u001b[49m\n\u001b[32m    248\u001b[39m \u001b[43m        \u001b[49m\u001b[43mgrads\u001b[49m\u001b[43m,\u001b[49m\n\u001b[32m    249\u001b[39m \u001b[43m        \u001b[49m\u001b[43mexp_avgs\u001b[49m\u001b[43m,\u001b[49m\n\u001b[32m    250\u001b[39m \u001b[43m        \u001b[49m\u001b[43mexp_avg_sqs\u001b[49m\u001b[43m,\u001b[49m\n\u001b[32m    251\u001b[39m \u001b[43m        \u001b[49m\u001b[43mmax_exp_avg_sqs\u001b[49m\u001b[43m,\u001b[49m\n\u001b[32m    252\u001b[39m \u001b[43m        \u001b[49m\u001b[43mstate_steps\u001b[49m\u001b[43m,\u001b[49m\n\u001b[32m    253\u001b[39m \u001b[43m        \u001b[49m\u001b[43mamsgrad\u001b[49m\u001b[43m=\u001b[49m\u001b[43mgroup\u001b[49m\u001b[43m[\u001b[49m\u001b[33;43m\"\u001b[39;49m\u001b[33;43mamsgrad\u001b[39;49m\u001b[33;43m\"\u001b[39;49m\u001b[43m]\u001b[49m\u001b[43m,\u001b[49m\n\u001b[32m    254\u001b[39m \u001b[43m        \u001b[49m\u001b[43mhas_complex\u001b[49m\u001b[43m=\u001b[49m\u001b[43mhas_complex\u001b[49m\u001b[43m,\u001b[49m\n\u001b[32m    255\u001b[39m \u001b[43m        \u001b[49m\u001b[43mbeta1\u001b[49m\u001b[43m=\u001b[49m\u001b[43mbeta1\u001b[49m\u001b[43m,\u001b[49m\n\u001b[32m    256\u001b[39m \u001b[43m        \u001b[49m\u001b[43mbeta2\u001b[49m\u001b[43m=\u001b[49m\u001b[43mbeta2\u001b[49m\u001b[43m,\u001b[49m\n\u001b[32m    257\u001b[39m \u001b[43m        \u001b[49m\u001b[43mlr\u001b[49m\u001b[43m=\u001b[49m\u001b[43mgroup\u001b[49m\u001b[43m[\u001b[49m\u001b[33;43m\"\u001b[39;49m\u001b[33;43mlr\u001b[39;49m\u001b[33;43m\"\u001b[39;49m\u001b[43m]\u001b[49m\u001b[43m,\u001b[49m\n\u001b[32m    258\u001b[39m \u001b[43m        \u001b[49m\u001b[43mweight_decay\u001b[49m\u001b[43m=\u001b[49m\u001b[43mgroup\u001b[49m\u001b[43m[\u001b[49m\u001b[33;43m\"\u001b[39;49m\u001b[33;43mweight_decay\u001b[39;49m\u001b[33;43m\"\u001b[39;49m\u001b[43m]\u001b[49m\u001b[43m,\u001b[49m\n\u001b[32m    259\u001b[39m \u001b[43m        \u001b[49m\u001b[43meps\u001b[49m\u001b[43m=\u001b[49m\u001b[43mgroup\u001b[49m\u001b[43m[\u001b[49m\u001b[33;43m\"\u001b[39;49m\u001b[33;43meps\u001b[39;49m\u001b[33;43m\"\u001b[39;49m\u001b[43m]\u001b[49m\u001b[43m,\u001b[49m\n\u001b[32m    260\u001b[39m \u001b[43m        \u001b[49m\u001b[43mmaximize\u001b[49m\u001b[43m=\u001b[49m\u001b[43mgroup\u001b[49m\u001b[43m[\u001b[49m\u001b[33;43m\"\u001b[39;49m\u001b[33;43mmaximize\u001b[39;49m\u001b[33;43m\"\u001b[39;49m\u001b[43m]\u001b[49m\u001b[43m,\u001b[49m\n\u001b[32m    261\u001b[39m \u001b[43m        \u001b[49m\u001b[43mforeach\u001b[49m\u001b[43m=\u001b[49m\u001b[43mgroup\u001b[49m\u001b[43m[\u001b[49m\u001b[33;43m\"\u001b[39;49m\u001b[33;43mforeach\u001b[39;49m\u001b[33;43m\"\u001b[39;49m\u001b[43m]\u001b[49m\u001b[43m,\u001b[49m\n\u001b[32m    262\u001b[39m \u001b[43m        \u001b[49m\u001b[43mcapturable\u001b[49m\u001b[43m=\u001b[49m\u001b[43mgroup\u001b[49m\u001b[43m[\u001b[49m\u001b[33;43m\"\u001b[39;49m\u001b[33;43mcapturable\u001b[39;49m\u001b[33;43m\"\u001b[39;49m\u001b[43m]\u001b[49m\u001b[43m,\u001b[49m\n\u001b[32m    263\u001b[39m \u001b[43m        \u001b[49m\u001b[43mdifferentiable\u001b[49m\u001b[43m=\u001b[49m\u001b[43mgroup\u001b[49m\u001b[43m[\u001b[49m\u001b[33;43m\"\u001b[39;49m\u001b[33;43mdifferentiable\u001b[39;49m\u001b[33;43m\"\u001b[39;49m\u001b[43m]\u001b[49m\u001b[43m,\u001b[49m\n\u001b[32m    264\u001b[39m \u001b[43m        \u001b[49m\u001b[43mfused\u001b[49m\u001b[43m=\u001b[49m\u001b[43mgroup\u001b[49m\u001b[43m[\u001b[49m\u001b[33;43m\"\u001b[39;49m\u001b[33;43mfused\u001b[39;49m\u001b[33;43m\"\u001b[39;49m\u001b[43m]\u001b[49m\u001b[43m,\u001b[49m\n\u001b[32m    265\u001b[39m \u001b[43m        \u001b[49m\u001b[43mgrad_scale\u001b[49m\u001b[43m=\u001b[49m\u001b[38;5;28;43mgetattr\u001b[39;49m\u001b[43m(\u001b[49m\u001b[38;5;28;43mself\u001b[39;49m\u001b[43m,\u001b[49m\u001b[43m \u001b[49m\u001b[33;43m\"\u001b[39;49m\u001b[33;43mgrad_scale\u001b[39;49m\u001b[33;43m\"\u001b[39;49m\u001b[43m,\u001b[49m\u001b[43m \u001b[49m\u001b[38;5;28;43;01mNone\u001b[39;49;00m\u001b[43m)\u001b[49m\u001b[43m,\u001b[49m\n\u001b[32m    266\u001b[39m \u001b[43m        \u001b[49m\u001b[43mfound_inf\u001b[49m\u001b[43m=\u001b[49m\u001b[38;5;28;43mgetattr\u001b[39;49m\u001b[43m(\u001b[49m\u001b[38;5;28;43mself\u001b[39;49m\u001b[43m,\u001b[49m\u001b[43m \u001b[49m\u001b[33;43m\"\u001b[39;49m\u001b[33;43mfound_inf\u001b[39;49m\u001b[33;43m\"\u001b[39;49m\u001b[43m,\u001b[49m\u001b[43m \u001b[49m\u001b[38;5;28;43;01mNone\u001b[39;49;00m\u001b[43m)\u001b[49m\u001b[43m,\u001b[49m\n\u001b[32m    267\u001b[39m \u001b[43m        \u001b[49m\u001b[43mdecoupled_weight_decay\u001b[49m\u001b[43m=\u001b[49m\u001b[43mgroup\u001b[49m\u001b[43m[\u001b[49m\u001b[33;43m\"\u001b[39;49m\u001b[33;43mdecoupled_weight_decay\u001b[39;49m\u001b[33;43m\"\u001b[39;49m\u001b[43m]\u001b[49m\u001b[43m,\u001b[49m\n\u001b[32m    268\u001b[39m \u001b[43m    \u001b[49m\u001b[43m)\u001b[49m\n\u001b[32m    270\u001b[39m \u001b[38;5;28;01mreturn\u001b[39;00m loss\n",
      "\u001b[36mFile \u001b[39m\u001b[32m/vol/bitbucket/shc20/FYP/GNN-Adversarial-Attack/.venv/lib/python3.12/site-packages/torch/optim/optimizer.py:147\u001b[39m, in \u001b[36m_disable_dynamo_if_unsupported.<locals>.wrapper.<locals>.maybe_fallback\u001b[39m\u001b[34m(*args, **kwargs)\u001b[39m\n\u001b[32m    145\u001b[39m     \u001b[38;5;28;01mreturn\u001b[39;00m disabled_func(*args, **kwargs)\n\u001b[32m    146\u001b[39m \u001b[38;5;28;01melse\u001b[39;00m:\n\u001b[32m--> \u001b[39m\u001b[32m147\u001b[39m     \u001b[38;5;28;01mreturn\u001b[39;00m \u001b[43mfunc\u001b[49m\u001b[43m(\u001b[49m\u001b[43m*\u001b[49m\u001b[43margs\u001b[49m\u001b[43m,\u001b[49m\u001b[43m \u001b[49m\u001b[43m*\u001b[49m\u001b[43m*\u001b[49m\u001b[43mkwargs\u001b[49m\u001b[43m)\u001b[49m\n",
      "\u001b[36mFile \u001b[39m\u001b[32m/vol/bitbucket/shc20/FYP/GNN-Adversarial-Attack/.venv/lib/python3.12/site-packages/torch/optim/adam.py:933\u001b[39m, in \u001b[36madam\u001b[39m\u001b[34m(params, grads, exp_avgs, exp_avg_sqs, max_exp_avg_sqs, state_steps, foreach, capturable, differentiable, fused, grad_scale, found_inf, has_complex, decoupled_weight_decay, amsgrad, beta1, beta2, lr, weight_decay, eps, maximize)\u001b[39m\n\u001b[32m    930\u001b[39m \u001b[38;5;28;01melse\u001b[39;00m:\n\u001b[32m    931\u001b[39m     func = _single_tensor_adam\n\u001b[32m--> \u001b[39m\u001b[32m933\u001b[39m \u001b[43mfunc\u001b[49m\u001b[43m(\u001b[49m\n\u001b[32m    934\u001b[39m \u001b[43m    \u001b[49m\u001b[43mparams\u001b[49m\u001b[43m,\u001b[49m\n\u001b[32m    935\u001b[39m \u001b[43m    \u001b[49m\u001b[43mgrads\u001b[49m\u001b[43m,\u001b[49m\n\u001b[32m    936\u001b[39m \u001b[43m    \u001b[49m\u001b[43mexp_avgs\u001b[49m\u001b[43m,\u001b[49m\n\u001b[32m    937\u001b[39m \u001b[43m    \u001b[49m\u001b[43mexp_avg_sqs\u001b[49m\u001b[43m,\u001b[49m\n\u001b[32m    938\u001b[39m \u001b[43m    \u001b[49m\u001b[43mmax_exp_avg_sqs\u001b[49m\u001b[43m,\u001b[49m\n\u001b[32m    939\u001b[39m \u001b[43m    \u001b[49m\u001b[43mstate_steps\u001b[49m\u001b[43m,\u001b[49m\n\u001b[32m    940\u001b[39m \u001b[43m    \u001b[49m\u001b[43mamsgrad\u001b[49m\u001b[43m=\u001b[49m\u001b[43mamsgrad\u001b[49m\u001b[43m,\u001b[49m\n\u001b[32m    941\u001b[39m \u001b[43m    \u001b[49m\u001b[43mhas_complex\u001b[49m\u001b[43m=\u001b[49m\u001b[43mhas_complex\u001b[49m\u001b[43m,\u001b[49m\n\u001b[32m    942\u001b[39m \u001b[43m    \u001b[49m\u001b[43mbeta1\u001b[49m\u001b[43m=\u001b[49m\u001b[43mbeta1\u001b[49m\u001b[43m,\u001b[49m\n\u001b[32m    943\u001b[39m \u001b[43m    \u001b[49m\u001b[43mbeta2\u001b[49m\u001b[43m=\u001b[49m\u001b[43mbeta2\u001b[49m\u001b[43m,\u001b[49m\n\u001b[32m    944\u001b[39m \u001b[43m    \u001b[49m\u001b[43mlr\u001b[49m\u001b[43m=\u001b[49m\u001b[43mlr\u001b[49m\u001b[43m,\u001b[49m\n\u001b[32m    945\u001b[39m \u001b[43m    \u001b[49m\u001b[43mweight_decay\u001b[49m\u001b[43m=\u001b[49m\u001b[43mweight_decay\u001b[49m\u001b[43m,\u001b[49m\n\u001b[32m    946\u001b[39m \u001b[43m    \u001b[49m\u001b[43meps\u001b[49m\u001b[43m=\u001b[49m\u001b[43meps\u001b[49m\u001b[43m,\u001b[49m\n\u001b[32m    947\u001b[39m \u001b[43m    \u001b[49m\u001b[43mmaximize\u001b[49m\u001b[43m=\u001b[49m\u001b[43mmaximize\u001b[49m\u001b[43m,\u001b[49m\n\u001b[32m    948\u001b[39m \u001b[43m    \u001b[49m\u001b[43mcapturable\u001b[49m\u001b[43m=\u001b[49m\u001b[43mcapturable\u001b[49m\u001b[43m,\u001b[49m\n\u001b[32m    949\u001b[39m \u001b[43m    \u001b[49m\u001b[43mdifferentiable\u001b[49m\u001b[43m=\u001b[49m\u001b[43mdifferentiable\u001b[49m\u001b[43m,\u001b[49m\n\u001b[32m    950\u001b[39m \u001b[43m    \u001b[49m\u001b[43mgrad_scale\u001b[49m\u001b[43m=\u001b[49m\u001b[43mgrad_scale\u001b[49m\u001b[43m,\u001b[49m\n\u001b[32m    951\u001b[39m \u001b[43m    \u001b[49m\u001b[43mfound_inf\u001b[49m\u001b[43m=\u001b[49m\u001b[43mfound_inf\u001b[49m\u001b[43m,\u001b[49m\n\u001b[32m    952\u001b[39m \u001b[43m    \u001b[49m\u001b[43mdecoupled_weight_decay\u001b[49m\u001b[43m=\u001b[49m\u001b[43mdecoupled_weight_decay\u001b[49m\u001b[43m,\u001b[49m\n\u001b[32m    953\u001b[39m \u001b[43m\u001b[49m\u001b[43m)\u001b[49m\n",
      "\u001b[36mFile \u001b[39m\u001b[32m/vol/bitbucket/shc20/FYP/GNN-Adversarial-Attack/.venv/lib/python3.12/site-packages/torch/optim/adam.py:739\u001b[39m, in \u001b[36m_multi_tensor_adam\u001b[39m\u001b[34m(params, grads, exp_avgs, exp_avg_sqs, max_exp_avg_sqs, state_steps, grad_scale, found_inf, amsgrad, has_complex, beta1, beta2, lr, weight_decay, eps, maximize, capturable, differentiable, decoupled_weight_decay)\u001b[39m\n\u001b[32m    736\u001b[39m     torch._foreach_addcdiv_(device_params, device_exp_avgs, exp_avg_sq_sqrt)\n\u001b[32m    737\u001b[39m \u001b[38;5;28;01melse\u001b[39;00m:\n\u001b[32m    738\u001b[39m     bias_correction1 = [\n\u001b[32m--> \u001b[39m\u001b[32m739\u001b[39m         \u001b[32m1\u001b[39m - beta1 ** \u001b[43m_get_value\u001b[49m\u001b[43m(\u001b[49m\u001b[43mstep\u001b[49m\u001b[43m)\u001b[49m \u001b[38;5;28;01mfor\u001b[39;00m step \u001b[38;5;129;01min\u001b[39;00m device_state_steps\n\u001b[32m    740\u001b[39m     ]\n\u001b[32m    741\u001b[39m     bias_correction2 = [\n\u001b[32m    742\u001b[39m         \u001b[32m1\u001b[39m - beta2 ** _get_value(step) \u001b[38;5;28;01mfor\u001b[39;00m step \u001b[38;5;129;01min\u001b[39;00m device_state_steps\n\u001b[32m    743\u001b[39m     ]\n\u001b[32m    745\u001b[39m     step_size = _stack_if_compiling([(lr / bc) * -\u001b[32m1\u001b[39m \u001b[38;5;28;01mfor\u001b[39;00m bc \u001b[38;5;129;01min\u001b[39;00m bias_correction1])\n",
      "\u001b[36mFile \u001b[39m\u001b[32m/vol/bitbucket/shc20/FYP/GNN-Adversarial-Attack/.venv/lib/python3.12/site-packages/torch/optim/optimizer.py:91\u001b[39m, in \u001b[36m_get_value\u001b[39m\u001b[34m(x)\u001b[39m\n\u001b[32m     89\u001b[39m \u001b[38;5;28;01mdef\u001b[39;00m\u001b[38;5;250m \u001b[39m\u001b[34m_get_value\u001b[39m(x):\n\u001b[32m     90\u001b[39m     \u001b[38;5;66;03m# item is significantly faster than a cpu tensor in eager mode\u001b[39;00m\n\u001b[32m---> \u001b[39m\u001b[32m91\u001b[39m     \u001b[38;5;28;01mif\u001b[39;00m \u001b[38;5;129;01mnot\u001b[39;00m \u001b[43mtorch\u001b[49m\u001b[43m.\u001b[49m\u001b[43mjit\u001b[49m\u001b[43m.\u001b[49m\u001b[43mis_scripting\u001b[49m\u001b[43m(\u001b[49m\u001b[43m)\u001b[49m \u001b[38;5;129;01mand\u001b[39;00m torch.compiler.is_compiling():\n\u001b[32m     92\u001b[39m         \u001b[38;5;28;01mreturn\u001b[39;00m x\n\u001b[32m     93\u001b[39m     \u001b[38;5;28;01melse\u001b[39;00m:\n",
      "\u001b[36mFile \u001b[39m\u001b[32m/vol/bitbucket/shc20/FYP/GNN-Adversarial-Attack/.venv/lib/python3.12/site-packages/torch/_jit_internal.py:101\u001b[39m, in \u001b[36mis_scripting\u001b[39m\u001b[34m()\u001b[39m\n\u001b[32m     97\u001b[39m \u001b[38;5;28;01mfor\u001b[39;00m i \u001b[38;5;129;01min\u001b[39;00m \u001b[38;5;28mrange\u001b[39m(\u001b[32m2\u001b[39m, \u001b[32m7\u001b[39m):\n\u001b[32m     98\u001b[39m     \u001b[38;5;28mglobals\u001b[39m()[\u001b[33mf\u001b[39m\u001b[33m\"\u001b[39m\u001b[33mBroadcastingList\u001b[39m\u001b[38;5;132;01m{\u001b[39;00mi\u001b[38;5;132;01m}\u001b[39;00m\u001b[33m\"\u001b[39m] = BroadcastingList1\n\u001b[32m--> \u001b[39m\u001b[32m101\u001b[39m \u001b[38;5;28;01mdef\u001b[39;00m\u001b[38;5;250m \u001b[39m\u001b[34mis_scripting\u001b[39m() -> \u001b[38;5;28mbool\u001b[39m:\n\u001b[32m    102\u001b[39m \u001b[38;5;250m    \u001b[39m\u001b[33mr\u001b[39m\u001b[33;03m\"\"\"\u001b[39;00m\n\u001b[32m    103\u001b[39m \u001b[33;03m    Function that returns True when in compilation and False otherwise. This\u001b[39;00m\n\u001b[32m    104\u001b[39m \u001b[33;03m    is useful especially with the @unused decorator to leave code in your\u001b[39;00m\n\u001b[32m   (...)\u001b[39m\u001b[32m    118\u001b[39m \u001b[33;03m                return unsupported_linear_op(x)\u001b[39;00m\n\u001b[32m    119\u001b[39m \u001b[33;03m    \"\"\"\u001b[39;00m\n\u001b[32m    120\u001b[39m     \u001b[38;5;28;01mreturn\u001b[39;00m \u001b[38;5;28;01mFalse\u001b[39;00m\n",
      "\u001b[31mKeyboardInterrupt\u001b[39m: "
     ]
    }
   ],
   "source": [
    "from sklearn.metrics import f1_score\n",
    "from sklearn.model_selection import StratifiedKFold\n",
    "\n",
    "def compute_accuracy(pred, labels):\n",
    "    return (pred.argmax(1) == labels).float().mean().item()\n",
    "\n",
    "def grid_search(graph_dataset, epochs, learning_rates, hidden_dims, folds=3):\n",
    "    global CLASS_WEIGHTS\n",
    "    global num_features\n",
    "    \n",
    "    best_params = {}\n",
    "    best_f1 = 0\n",
    "\n",
    "    # Precompute the train and validation graphs for all folds\n",
    "    folds_list = []\n",
    "    for i in range(folds):\n",
    "        train_graph_dataset, val_graph_dataset = graph_dataset.graph_train_test_split(test_ratio=0.15, random_state=i)\n",
    "        folds_list.append((train_graph_dataset, val_graph_dataset))\n",
    "\n",
    "    params_results = {}\n",
    "    for lr in learning_rates:\n",
    "        for hidden_dim in hidden_dims:\n",
    "            print(f\"Testing with learning rate: {lr}, hidden_dim: {hidden_dim}\")\n",
    "            fold_f1_scores = []\n",
    "\n",
    "            for fold, (train_graph_dataset, val_graph_dataset) in enumerate(folds_list):\n",
    "                print(f\"Fold {fold + 1}\")\n",
    "\n",
    "                model = EGraphSAGE(node_in_channels=num_features,\n",
    "                                   edge_in_channels=num_features,\n",
    "                                   hidden_channels=hidden_dim,\n",
    "                                   out_channels=num_classes).to(device)\n",
    "\n",
    "                model.apply(init_weights)\n",
    "\n",
    "                # Normalize to stabilize training\n",
    "                class_weights = th.FloatTensor(CLASS_WEIGHTS).to(device)\n",
    "                print(\"Class weights:\", class_weights)\n",
    "\n",
    "                criterion = nn.CrossEntropyLoss(weight=class_weights)\n",
    "                optimizer = th.optim.Adam(model.parameters(), lr=lr)\n",
    "\n",
    "                best_epoch_f1 = 0  # Track the best F1 score for this fold\n",
    "\n",
    "                for epoch in range(epochs):\n",
    "                    try:\n",
    "                        total_train_loss = 0\n",
    "                        total_val_loss = 0\n",
    "\n",
    "                        model.train()\n",
    "                        for G_pyg_train in tqdm(train_graph_dataset, desc=\"Training\", leave=False):\n",
    "                            G_pyg_train = G_pyg_train.to(device)\n",
    "\n",
    "                            G_pyg_train.edge_label = G_pyg_train.edge_label.to(device)\n",
    "                            G_pyg_train.edge_attr = G_pyg_train.edge_attr.to(device)\n",
    "                            \n",
    "                            out = model(G_pyg_train)\n",
    "                            loss = criterion(out, G_pyg_train.edge_label)\n",
    "                            total_train_loss += loss.item()\n",
    "\n",
    "                            optimizer.zero_grad()\n",
    "                            loss.backward()\n",
    "\n",
    "                            optimizer.step()\n",
    "                        \n",
    "                        model.eval()\n",
    "                        total_f1 = 0\n",
    "                        with th.no_grad():\n",
    "                            for G_pyg_val in tqdm(val_graph_dataset, desc=\"Validation\", leave=False):\n",
    "\n",
    "                                G_pyg_val.to(device)\n",
    "                                G_pyg_val.edge_label = G_pyg_val.edge_label.to(device)\n",
    "                                G_pyg_val.edge_attr = G_pyg_val.edge_attr.to(device)\n",
    "\n",
    "                                out = model(G_pyg_val)\n",
    "                                loss = criterion(out, G_pyg_val.edge_label)\n",
    "                                total_val_loss += loss.item()\n",
    "\n",
    "                                total_f1 += f1_score(G_pyg_val.edge_label.cpu(), out.argmax(dim=1).cpu(), average='weighted')\n",
    "\n",
    "                        avg_f1 = total_f1 / len(val_graph_dataset)\n",
    "                        if avg_f1 > best_epoch_f1:\n",
    "                            best_epoch_f1 = avg_f1  # Update the best F1 score for this fold\n",
    "                            print(f\"Best F1 Score at epoch {epoch}: {best_epoch_f1:.4f}, Train Loss: {total_train_loss:.4f}, Validation Loss: {total_val_loss:.4f}, Parameters: lr={lr}, hidden_dim{hidden_dim}\")\n",
    "\n",
    "                        print(f'Epoch {epoch}, Train Loss: {total_train_loss:.4f}, Validation Loss: {total_val_loss:.4f}, Validation F1: {avg_f1:.4f}')\n",
    "\n",
    "                    except Exception as e:\n",
    "                        print(f\"An error occurred at epoch {epoch}: {str(e)}\")\n",
    "                        break\n",
    "\n",
    "                fold_f1_scores.append(best_epoch_f1)  # Append the best F1 score for this fold\n",
    "            \n",
    "            avg_f1 = sum(fold_f1_scores) / len(fold_f1_scores)\n",
    "            params_results[(lr, hidden_dim)] = {'folds': fold_f1_scores, 'avg_f1': avg_f1}\n",
    "            print(f\"Average F1 Score for learning rate {lr}, hidden_dim {hidden_dim}: {avg_f1:.4f}\")\n",
    "\n",
    "            if avg_f1 > best_f1:\n",
    "                best_f1 = avg_f1\n",
    "                best_params = {'learning_rate': lr, 'hidden_dim': hidden_dim}\n",
    "\n",
    "    print(f\"Best Parameters: {best_params}, Best F1 Score: {best_f1:.4f}\")\n",
    "    print(\"All results:\", params_results)\n",
    "\n",
    "\n",
    "learning_rates = [0.005]\n",
    "hidden_dims = [256, 512, 1024]\n",
    "\n",
    "grid_search(train_graph_dataset, epochs=10, learning_rates=learning_rates, hidden_dims=hidden_dims)\n"
   ]
  },
  {
   "cell_type": "code",
   "execution_count": 44,
   "id": "f52b2fbf",
   "metadata": {},
   "outputs": [
    {
     "name": "stdout",
     "output_type": "stream",
     "text": [
      "Number of train graphs:  231\n",
      "Class weights: tensor([1.8445e+01, 2.7509e+01, 9.2468e+01, 3.0195e+00, 1.1090e+00, 2.0365e+00,\n",
      "        2.2915e-01, 2.2255e-01, 3.5303e+00, 3.2679e+01, 2.8378e+02],\n",
      "       device='cuda:0')\n",
      "Resumed training from epoch 2\n"
     ]
    },
    {
     "name": "stderr",
     "output_type": "stream",
     "text": [
      "Training:   0%|          | 0/231 [00:00<?, ?it/s]"
     ]
    },
    {
     "name": "stderr",
     "output_type": "stream",
     "text": [
      "                                                            \r"
     ]
    },
    {
     "name": "stdout",
     "output_type": "stream",
     "text": [
      "Saved best model. Lowest Loss: 205.85997266638515\n",
      "Epoch 2, Loss: 205.8600\n"
     ]
    },
    {
     "name": "stderr",
     "output_type": "stream",
     "text": [
      "                                                            \r"
     ]
    },
    {
     "name": "stdout",
     "output_type": "stream",
     "text": [
      "Saved best model. Lowest Loss: 198.5308462749963\n",
      "Epoch 3, Loss: 198.5308\n"
     ]
    },
    {
     "name": "stderr",
     "output_type": "stream",
     "text": [
      "                                                            \r"
     ]
    },
    {
     "name": "stdout",
     "output_type": "stream",
     "text": [
      "Saved best model. Lowest Loss: 190.5529824016021\n",
      "Epoch 4, Loss: 190.5530\n"
     ]
    },
    {
     "name": "stderr",
     "output_type": "stream",
     "text": [
      "                                                            \r"
     ]
    },
    {
     "name": "stdout",
     "output_type": "stream",
     "text": [
      "Saved best model. Lowest Loss: 187.81704581041186\n",
      "Epoch 5, Loss: 187.8170\n"
     ]
    },
    {
     "name": "stderr",
     "output_type": "stream",
     "text": [
      "                                                            \r"
     ]
    },
    {
     "name": "stdout",
     "output_type": "stream",
     "text": [
      "Saved best model. Lowest Loss: 182.94741404174601\n",
      "Epoch 6, Loss: 182.9474\n"
     ]
    },
    {
     "name": "stderr",
     "output_type": "stream",
     "text": [
      "                                                            \r"
     ]
    },
    {
     "name": "stdout",
     "output_type": "stream",
     "text": [
      "Saved best model. Lowest Loss: 181.86611750505693\n",
      "Epoch 7, Loss: 181.8661\n"
     ]
    },
    {
     "name": "stderr",
     "output_type": "stream",
     "text": [
      "                                                            \r"
     ]
    },
    {
     "name": "stdout",
     "output_type": "stream",
     "text": [
      "Saved best model. Lowest Loss: 177.8723961001374\n",
      "Epoch 8, Loss: 177.8724\n"
     ]
    },
    {
     "name": "stderr",
     "output_type": "stream",
     "text": [
      "                                                            \r"
     ]
    },
    {
     "name": "stdout",
     "output_type": "stream",
     "text": [
      "Epoch 9, Loss: 178.2035\n"
     ]
    },
    {
     "name": "stderr",
     "output_type": "stream",
     "text": [
      "                                                            \r"
     ]
    },
    {
     "name": "stdout",
     "output_type": "stream",
     "text": [
      "Saved best model. Lowest Loss: 173.689441958702\n",
      "Epoch 10, Loss: 173.6894\n"
     ]
    },
    {
     "name": "stderr",
     "output_type": "stream",
     "text": [
      "                                                            \r"
     ]
    },
    {
     "name": "stdout",
     "output_type": "stream",
     "text": [
      "Saved best model. Lowest Loss: 171.77075338117638\n",
      "Epoch 11, Loss: 171.7708\n"
     ]
    },
    {
     "name": "stderr",
     "output_type": "stream",
     "text": [
      "                                                            \r"
     ]
    },
    {
     "name": "stdout",
     "output_type": "stream",
     "text": [
      "Saved best model. Lowest Loss: 170.24774501076342\n",
      "Epoch 12, Loss: 170.2477\n"
     ]
    },
    {
     "name": "stderr",
     "output_type": "stream",
     "text": [
      "                                                            \r"
     ]
    },
    {
     "name": "stdout",
     "output_type": "stream",
     "text": [
      "Saved best model. Lowest Loss: 168.90820198744325\n",
      "Epoch 13, Loss: 168.9082\n"
     ]
    },
    {
     "name": "stderr",
     "output_type": "stream",
     "text": [
      "                                                            \r"
     ]
    },
    {
     "name": "stdout",
     "output_type": "stream",
     "text": [
      "Saved best model. Lowest Loss: 164.93952312786388\n",
      "Epoch 14, Loss: 164.9395\n"
     ]
    },
    {
     "name": "stderr",
     "output_type": "stream",
     "text": [
      "                                                            \r"
     ]
    },
    {
     "name": "stdout",
     "output_type": "stream",
     "text": [
      "Saved best model. Lowest Loss: 162.7693509720039\n",
      "Epoch 15, Loss: 162.7694\n"
     ]
    },
    {
     "name": "stderr",
     "output_type": "stream",
     "text": [
      "                                                            \r"
     ]
    },
    {
     "name": "stdout",
     "output_type": "stream",
     "text": [
      "Saved best model. Lowest Loss: 161.92309366298161\n",
      "Epoch 16, Loss: 161.9231\n"
     ]
    },
    {
     "name": "stderr",
     "output_type": "stream",
     "text": [
      "                                                            \r"
     ]
    },
    {
     "name": "stdout",
     "output_type": "stream",
     "text": [
      "Epoch 17, Loss: 164.9943\n"
     ]
    },
    {
     "name": "stderr",
     "output_type": "stream",
     "text": [
      "                                                            \r"
     ]
    },
    {
     "name": "stdout",
     "output_type": "stream",
     "text": [
      "Saved best model. Lowest Loss: 161.3563362832986\n",
      "Epoch 18, Loss: 161.3563\n"
     ]
    },
    {
     "name": "stderr",
     "output_type": "stream",
     "text": [
      "                                                            \r"
     ]
    },
    {
     "name": "stdout",
     "output_type": "stream",
     "text": [
      "Saved best model. Lowest Loss: 157.84928398214146\n",
      "Epoch 19, Loss: 157.8493\n"
     ]
    },
    {
     "name": "stderr",
     "output_type": "stream",
     "text": [
      "                                                            \r"
     ]
    },
    {
     "name": "stdout",
     "output_type": "stream",
     "text": [
      "Saved best model. Lowest Loss: 154.13038092648318\n",
      "Epoch 20, Loss: 154.1304\n"
     ]
    },
    {
     "name": "stderr",
     "output_type": "stream",
     "text": [
      "                                                            \r"
     ]
    },
    {
     "name": "stdout",
     "output_type": "stream",
     "text": [
      "Epoch 21, Loss: 155.9118\n"
     ]
    },
    {
     "name": "stderr",
     "output_type": "stream",
     "text": [
      "                                                            \r"
     ]
    },
    {
     "name": "stdout",
     "output_type": "stream",
     "text": [
      "Epoch 22, Loss: 154.6428\n"
     ]
    },
    {
     "name": "stderr",
     "output_type": "stream",
     "text": [
      "                                                            \r"
     ]
    },
    {
     "name": "stdout",
     "output_type": "stream",
     "text": [
      "Saved best model. Lowest Loss: 152.1936210675257\n",
      "Epoch 23, Loss: 152.1936\n"
     ]
    },
    {
     "name": "stderr",
     "output_type": "stream",
     "text": [
      "                                                            \r"
     ]
    },
    {
     "name": "stdout",
     "output_type": "stream",
     "text": [
      "Saved best model. Lowest Loss: 149.3834681076325\n",
      "Epoch 24, Loss: 149.3835\n"
     ]
    },
    {
     "name": "stderr",
     "output_type": "stream",
     "text": [
      "                                                            \r"
     ]
    },
    {
     "name": "stdout",
     "output_type": "stream",
     "text": [
      "Epoch 25, Loss: 150.2028\n"
     ]
    },
    {
     "name": "stderr",
     "output_type": "stream",
     "text": [
      "                                                            \r"
     ]
    },
    {
     "name": "stdout",
     "output_type": "stream",
     "text": [
      "Epoch 26, Loss: 151.4116\n"
     ]
    },
    {
     "name": "stderr",
     "output_type": "stream",
     "text": [
      "                                                            \r"
     ]
    },
    {
     "name": "stdout",
     "output_type": "stream",
     "text": [
      "Epoch 27, Loss: 149.9590\n"
     ]
    },
    {
     "name": "stderr",
     "output_type": "stream",
     "text": [
      "                                                            \r"
     ]
    },
    {
     "name": "stdout",
     "output_type": "stream",
     "text": [
      "Saved best model. Lowest Loss: 145.69245694624283\n",
      "Epoch 28, Loss: 145.6925\n"
     ]
    },
    {
     "name": "stderr",
     "output_type": "stream",
     "text": [
      "                                                            \r"
     ]
    },
    {
     "name": "stdout",
     "output_type": "stream",
     "text": [
      "Saved best model. Lowest Loss: 144.16323033155112\n",
      "Epoch 29, Loss: 144.1632\n"
     ]
    },
    {
     "name": "stderr",
     "output_type": "stream",
     "text": [
      "                                                            \r"
     ]
    },
    {
     "name": "stdout",
     "output_type": "stream",
     "text": [
      "Epoch 30, Loss: 145.7490\n"
     ]
    },
    {
     "name": "stderr",
     "output_type": "stream",
     "text": [
      "                                                            \r"
     ]
    },
    {
     "name": "stdout",
     "output_type": "stream",
     "text": [
      "Saved best model. Lowest Loss: 142.42284342605748\n",
      "Epoch 31, Loss: 142.4228\n"
     ]
    },
    {
     "name": "stderr",
     "output_type": "stream",
     "text": [
      "                                                            \r"
     ]
    },
    {
     "name": "stdout",
     "output_type": "stream",
     "text": [
      "Saved best model. Lowest Loss: 140.4948887602967\n",
      "Epoch 32, Loss: 140.4949\n"
     ]
    },
    {
     "name": "stderr",
     "output_type": "stream",
     "text": [
      "                                                            \r"
     ]
    },
    {
     "name": "stdout",
     "output_type": "stream",
     "text": [
      "Saved best model. Lowest Loss: 138.9841586634858\n",
      "Epoch 33, Loss: 138.9842\n"
     ]
    },
    {
     "name": "stderr",
     "output_type": "stream",
     "text": [
      "                                                            \r"
     ]
    },
    {
     "name": "stdout",
     "output_type": "stream",
     "text": [
      "Epoch 34, Loss: 139.2231\n"
     ]
    },
    {
     "name": "stderr",
     "output_type": "stream",
     "text": [
      "                                                            \r"
     ]
    },
    {
     "name": "stdout",
     "output_type": "stream",
     "text": [
      "Saved best model. Lowest Loss: 136.1045540743787\n",
      "Epoch 35, Loss: 136.1046\n"
     ]
    },
    {
     "name": "stderr",
     "output_type": "stream",
     "text": [
      "                                                            \r"
     ]
    },
    {
     "name": "stdout",
     "output_type": "stream",
     "text": [
      "Epoch 36, Loss: 142.3975\n"
     ]
    },
    {
     "name": "stderr",
     "output_type": "stream",
     "text": [
      "                                                            \r"
     ]
    },
    {
     "name": "stdout",
     "output_type": "stream",
     "text": [
      "Saved best model. Lowest Loss: 134.96302094593423\n",
      "Epoch 37, Loss: 134.9630\n"
     ]
    },
    {
     "name": "stderr",
     "output_type": "stream",
     "text": [
      "                                                            \r"
     ]
    },
    {
     "name": "stdout",
     "output_type": "stream",
     "text": [
      "Epoch 38, Loss: 136.0231\n"
     ]
    },
    {
     "name": "stderr",
     "output_type": "stream",
     "text": [
      "                                                            \r"
     ]
    },
    {
     "name": "stdout",
     "output_type": "stream",
     "text": [
      "Saved best model. Lowest Loss: 134.39009580527105\n",
      "Epoch 39, Loss: 134.3901\n"
     ]
    },
    {
     "name": "stderr",
     "output_type": "stream",
     "text": [
      "                                                            \r"
     ]
    },
    {
     "name": "stdout",
     "output_type": "stream",
     "text": [
      "Epoch 40, Loss: 134.5490\n"
     ]
    },
    {
     "name": "stderr",
     "output_type": "stream",
     "text": [
      "                                                            \r"
     ]
    },
    {
     "name": "stdout",
     "output_type": "stream",
     "text": [
      "Saved best model. Lowest Loss: 133.24340115670532\n",
      "Epoch 41, Loss: 133.2434\n"
     ]
    },
    {
     "name": "stderr",
     "output_type": "stream",
     "text": [
      "                                                            \r"
     ]
    },
    {
     "name": "stdout",
     "output_type": "stream",
     "text": [
      "Saved best model. Lowest Loss: 130.24287296859242\n",
      "Epoch 42, Loss: 130.2429\n"
     ]
    },
    {
     "name": "stderr",
     "output_type": "stream",
     "text": [
      "                                                            \r"
     ]
    },
    {
     "name": "stdout",
     "output_type": "stream",
     "text": [
      "Epoch 43, Loss: 130.3389\n"
     ]
    },
    {
     "name": "stderr",
     "output_type": "stream",
     "text": [
      "                                                            \r"
     ]
    },
    {
     "name": "stdout",
     "output_type": "stream",
     "text": [
      "Epoch 44, Loss: 149.7709\n"
     ]
    },
    {
     "name": "stderr",
     "output_type": "stream",
     "text": [
      "                                                            \r"
     ]
    },
    {
     "name": "stdout",
     "output_type": "stream",
     "text": [
      "Epoch 45, Loss: 134.5361\n"
     ]
    },
    {
     "name": "stderr",
     "output_type": "stream",
     "text": [
      "                                                            \r"
     ]
    },
    {
     "name": "stdout",
     "output_type": "stream",
     "text": [
      "Saved best model. Lowest Loss: 129.77003862615763\n",
      "Epoch 46, Loss: 129.7700\n"
     ]
    },
    {
     "name": "stderr",
     "output_type": "stream",
     "text": [
      "                                                            \r"
     ]
    },
    {
     "name": "stdout",
     "output_type": "stream",
     "text": [
      "Saved best model. Lowest Loss: 128.02166829517768\n",
      "Epoch 47, Loss: 128.0217\n"
     ]
    },
    {
     "name": "stderr",
     "output_type": "stream",
     "text": [
      "                                                            \r"
     ]
    },
    {
     "name": "stdout",
     "output_type": "stream",
     "text": [
      "Saved best model. Lowest Loss: 126.94937335503266\n",
      "Epoch 48, Loss: 126.9494\n"
     ]
    },
    {
     "name": "stderr",
     "output_type": "stream",
     "text": [
      "                                                            \r"
     ]
    },
    {
     "name": "stdout",
     "output_type": "stream",
     "text": [
      "Saved best model. Lowest Loss: 126.05136575173641\n",
      "Epoch 49, Loss: 126.0514\n"
     ]
    },
    {
     "name": "stderr",
     "output_type": "stream",
     "text": [
      "                                                            \r"
     ]
    },
    {
     "name": "stdout",
     "output_type": "stream",
     "text": [
      "Saved best model. Lowest Loss: 124.60657049660281\n",
      "Epoch 50, Loss: 124.6066\n"
     ]
    },
    {
     "name": "stderr",
     "output_type": "stream",
     "text": [
      "                                                            \r"
     ]
    },
    {
     "name": "stdout",
     "output_type": "stream",
     "text": [
      "Epoch 51, Loss: 132.4133\n"
     ]
    },
    {
     "name": "stderr",
     "output_type": "stream",
     "text": [
      "                                                            \r"
     ]
    },
    {
     "name": "stdout",
     "output_type": "stream",
     "text": [
      "Epoch 52, Loss: 128.4624\n"
     ]
    },
    {
     "name": "stderr",
     "output_type": "stream",
     "text": [
      "                                                            \r"
     ]
    },
    {
     "name": "stdout",
     "output_type": "stream",
     "text": [
      "Epoch 53, Loss: 126.4392\n"
     ]
    },
    {
     "name": "stderr",
     "output_type": "stream",
     "text": [
      "                                                            \r"
     ]
    },
    {
     "name": "stdout",
     "output_type": "stream",
     "text": [
      "Saved best model. Lowest Loss: 123.99367274388982\n",
      "Epoch 54, Loss: 123.9937\n"
     ]
    },
    {
     "name": "stderr",
     "output_type": "stream",
     "text": [
      "                                                            \r"
     ]
    },
    {
     "name": "stdout",
     "output_type": "stream",
     "text": [
      "Saved best model. Lowest Loss: 123.94449099977308\n",
      "Epoch 55, Loss: 123.9445\n"
     ]
    },
    {
     "name": "stderr",
     "output_type": "stream",
     "text": [
      "                                                            \r"
     ]
    },
    {
     "name": "stdout",
     "output_type": "stream",
     "text": [
      "Saved best model. Lowest Loss: 123.31996661040067\n",
      "Epoch 56, Loss: 123.3200\n"
     ]
    },
    {
     "name": "stderr",
     "output_type": "stream",
     "text": [
      "                                                            \r"
     ]
    },
    {
     "name": "stdout",
     "output_type": "stream",
     "text": [
      "Saved best model. Lowest Loss: 123.23184221528486\n",
      "Epoch 57, Loss: 123.2318\n"
     ]
    },
    {
     "name": "stderr",
     "output_type": "stream",
     "text": [
      "                                                            \r"
     ]
    },
    {
     "name": "stdout",
     "output_type": "stream",
     "text": [
      "Epoch 58, Loss: 123.8234\n"
     ]
    },
    {
     "name": "stderr",
     "output_type": "stream",
     "text": [
      "                                                            \r"
     ]
    },
    {
     "name": "stdout",
     "output_type": "stream",
     "text": [
      "Saved best model. Lowest Loss: 122.74235260021553\n",
      "Epoch 59, Loss: 122.7424\n"
     ]
    },
    {
     "name": "stderr",
     "output_type": "stream",
     "text": [
      "                                                            \r"
     ]
    },
    {
     "name": "stdout",
     "output_type": "stream",
     "text": [
      "Epoch 60, Loss: 123.8818\n"
     ]
    },
    {
     "name": "stderr",
     "output_type": "stream",
     "text": [
      "                                                            \r"
     ]
    },
    {
     "name": "stdout",
     "output_type": "stream",
     "text": [
      "Epoch 61, Loss: 124.0355\n"
     ]
    },
    {
     "name": "stderr",
     "output_type": "stream",
     "text": [
      "                                                            \r"
     ]
    },
    {
     "name": "stdout",
     "output_type": "stream",
     "text": [
      "Epoch 62, Loss: 123.0241\n"
     ]
    },
    {
     "name": "stderr",
     "output_type": "stream",
     "text": [
      "                                                            \r"
     ]
    },
    {
     "name": "stdout",
     "output_type": "stream",
     "text": [
      "Epoch 63, Loss: 123.1453\n"
     ]
    },
    {
     "name": "stderr",
     "output_type": "stream",
     "text": [
      "                                                            \r"
     ]
    },
    {
     "name": "stdout",
     "output_type": "stream",
     "text": [
      "Saved best model. Lowest Loss: 121.72864008365742\n",
      "Epoch 64, Loss: 121.7286\n"
     ]
    },
    {
     "name": "stderr",
     "output_type": "stream",
     "text": [
      "                                                            \r"
     ]
    },
    {
     "name": "stdout",
     "output_type": "stream",
     "text": [
      "Epoch 65, Loss: 129.6205\n"
     ]
    },
    {
     "name": "stderr",
     "output_type": "stream",
     "text": [
      "                                                            \r"
     ]
    },
    {
     "name": "stdout",
     "output_type": "stream",
     "text": [
      "Epoch 66, Loss: 122.5817\n"
     ]
    },
    {
     "name": "stderr",
     "output_type": "stream",
     "text": [
      "                                                            \r"
     ]
    },
    {
     "name": "stdout",
     "output_type": "stream",
     "text": [
      "Epoch 67, Loss: 122.9991\n"
     ]
    },
    {
     "name": "stderr",
     "output_type": "stream",
     "text": [
      "                                                            \r"
     ]
    },
    {
     "name": "stdout",
     "output_type": "stream",
     "text": [
      "Saved best model. Lowest Loss: 120.86050204053112\n",
      "Epoch 68, Loss: 120.8605\n"
     ]
    },
    {
     "name": "stderr",
     "output_type": "stream",
     "text": [
      "                                                            \r"
     ]
    },
    {
     "name": "stdout",
     "output_type": "stream",
     "text": [
      "Saved best model. Lowest Loss: 119.92221228322987\n",
      "Epoch 69, Loss: 119.9222\n"
     ]
    },
    {
     "name": "stderr",
     "output_type": "stream",
     "text": [
      "                                                            \r"
     ]
    },
    {
     "name": "stdout",
     "output_type": "stream",
     "text": [
      "Epoch 70, Loss: 120.6253\n"
     ]
    },
    {
     "name": "stderr",
     "output_type": "stream",
     "text": [
      "                                                            \r"
     ]
    },
    {
     "name": "stdout",
     "output_type": "stream",
     "text": [
      "Epoch 71, Loss: 120.3192\n"
     ]
    },
    {
     "name": "stderr",
     "output_type": "stream",
     "text": [
      "                                                            \r"
     ]
    },
    {
     "name": "stdout",
     "output_type": "stream",
     "text": [
      "Epoch 72, Loss: 120.2114\n"
     ]
    },
    {
     "name": "stderr",
     "output_type": "stream",
     "text": [
      "                                                            \r"
     ]
    },
    {
     "name": "stdout",
     "output_type": "stream",
     "text": [
      "Saved best model. Lowest Loss: 119.61392538402963\n",
      "Epoch 73, Loss: 119.6139\n"
     ]
    },
    {
     "name": "stderr",
     "output_type": "stream",
     "text": [
      "                                                            \r"
     ]
    },
    {
     "name": "stdout",
     "output_type": "stream",
     "text": [
      "Epoch 74, Loss: 120.5759\n"
     ]
    },
    {
     "name": "stderr",
     "output_type": "stream",
     "text": [
      "                                                            \r"
     ]
    },
    {
     "name": "stdout",
     "output_type": "stream",
     "text": [
      "Saved best model. Lowest Loss: 118.46795713229801\n",
      "Epoch 75, Loss: 118.4680\n"
     ]
    },
    {
     "name": "stderr",
     "output_type": "stream",
     "text": [
      "                                                            \r"
     ]
    },
    {
     "name": "stdout",
     "output_type": "stream",
     "text": [
      "Epoch 76, Loss: 119.0346\n"
     ]
    },
    {
     "name": "stderr",
     "output_type": "stream",
     "text": [
      "                                                            \r"
     ]
    },
    {
     "name": "stdout",
     "output_type": "stream",
     "text": [
      "Saved best model. Lowest Loss: 116.72479962429064\n",
      "Epoch 77, Loss: 116.7248\n"
     ]
    },
    {
     "name": "stderr",
     "output_type": "stream",
     "text": [
      "                                                            \r"
     ]
    },
    {
     "name": "stdout",
     "output_type": "stream",
     "text": [
      "Saved best model. Lowest Loss: 116.15532604922359\n",
      "Epoch 78, Loss: 116.1553\n"
     ]
    },
    {
     "name": "stderr",
     "output_type": "stream",
     "text": [
      "                                                            \r"
     ]
    },
    {
     "name": "stdout",
     "output_type": "stream",
     "text": [
      "Epoch 79, Loss: 119.4063\n"
     ]
    },
    {
     "name": "stderr",
     "output_type": "stream",
     "text": [
      "                                                            \r"
     ]
    },
    {
     "name": "stdout",
     "output_type": "stream",
     "text": [
      "Epoch 80, Loss: 121.9028\n"
     ]
    },
    {
     "name": "stderr",
     "output_type": "stream",
     "text": [
      "                                                            \r"
     ]
    },
    {
     "name": "stdout",
     "output_type": "stream",
     "text": [
      "Epoch 81, Loss: 116.9083\n"
     ]
    },
    {
     "name": "stderr",
     "output_type": "stream",
     "text": [
      "                                                            \r"
     ]
    },
    {
     "name": "stdout",
     "output_type": "stream",
     "text": [
      "Epoch 82, Loss: 118.0421\n"
     ]
    },
    {
     "name": "stderr",
     "output_type": "stream",
     "text": [
      "                                                            \r"
     ]
    },
    {
     "name": "stdout",
     "output_type": "stream",
     "text": [
      "Epoch 83, Loss: 119.0530\n"
     ]
    },
    {
     "name": "stderr",
     "output_type": "stream",
     "text": [
      "                                                            \r"
     ]
    },
    {
     "name": "stdout",
     "output_type": "stream",
     "text": [
      "Saved best model. Lowest Loss: 115.19917683588221\n",
      "Epoch 84, Loss: 115.1992\n"
     ]
    },
    {
     "name": "stderr",
     "output_type": "stream",
     "text": [
      "                                                            \r"
     ]
    },
    {
     "name": "stdout",
     "output_type": "stream",
     "text": [
      "Saved best model. Lowest Loss: 114.16575751947828\n",
      "Epoch 85, Loss: 114.1658\n"
     ]
    },
    {
     "name": "stderr",
     "output_type": "stream",
     "text": [
      "                                                            \r"
     ]
    },
    {
     "name": "stdout",
     "output_type": "stream",
     "text": [
      "Saved best model. Lowest Loss: 113.37052055385264\n",
      "Epoch 86, Loss: 113.3705\n"
     ]
    },
    {
     "name": "stderr",
     "output_type": "stream",
     "text": [
      "                                                            \r"
     ]
    },
    {
     "name": "stdout",
     "output_type": "stream",
     "text": [
      "Epoch 87, Loss: 114.2373\n"
     ]
    },
    {
     "name": "stderr",
     "output_type": "stream",
     "text": [
      "                                                            \r"
     ]
    },
    {
     "name": "stdout",
     "output_type": "stream",
     "text": [
      "Epoch 88, Loss: 115.5538\n"
     ]
    },
    {
     "name": "stderr",
     "output_type": "stream",
     "text": [
      "                                                            \r"
     ]
    },
    {
     "name": "stdout",
     "output_type": "stream",
     "text": [
      "Epoch 89, Loss: 114.5814\n"
     ]
    },
    {
     "name": "stderr",
     "output_type": "stream",
     "text": [
      "                                                            \r"
     ]
    },
    {
     "name": "stdout",
     "output_type": "stream",
     "text": [
      "Epoch 90, Loss: 115.1920\n"
     ]
    },
    {
     "name": "stderr",
     "output_type": "stream",
     "text": [
      "                                                            \r"
     ]
    },
    {
     "name": "stdout",
     "output_type": "stream",
     "text": [
      "Saved best model. Lowest Loss: 112.96326940480972\n",
      "Epoch 91, Loss: 112.9633\n"
     ]
    },
    {
     "name": "stderr",
     "output_type": "stream",
     "text": [
      "                                                            \r"
     ]
    },
    {
     "name": "stdout",
     "output_type": "stream",
     "text": [
      "Epoch 92, Loss: 116.9985\n"
     ]
    },
    {
     "name": "stderr",
     "output_type": "stream",
     "text": [
      "                                                            \r"
     ]
    },
    {
     "name": "stdout",
     "output_type": "stream",
     "text": [
      "Epoch 93, Loss: 114.3252\n"
     ]
    },
    {
     "name": "stderr",
     "output_type": "stream",
     "text": [
      "                                                            \r"
     ]
    },
    {
     "name": "stdout",
     "output_type": "stream",
     "text": [
      "Saved best model. Lowest Loss: 112.47395187413515\n",
      "Epoch 94, Loss: 112.4740\n"
     ]
    },
    {
     "name": "stderr",
     "output_type": "stream",
     "text": [
      "                                                            \r"
     ]
    },
    {
     "name": "stdout",
     "output_type": "stream",
     "text": [
      "Saved best model. Lowest Loss: 111.566766040054\n",
      "Epoch 95, Loss: 111.5668\n"
     ]
    },
    {
     "name": "stderr",
     "output_type": "stream",
     "text": [
      "                                                            \r"
     ]
    },
    {
     "name": "stdout",
     "output_type": "stream",
     "text": [
      "Epoch 96, Loss: 115.0825\n"
     ]
    },
    {
     "name": "stderr",
     "output_type": "stream",
     "text": [
      "                                                            \r"
     ]
    },
    {
     "name": "stdout",
     "output_type": "stream",
     "text": [
      "Epoch 97, Loss: 113.2589\n"
     ]
    },
    {
     "name": "stderr",
     "output_type": "stream",
     "text": [
      "                                                            \r"
     ]
    },
    {
     "name": "stdout",
     "output_type": "stream",
     "text": [
      "Epoch 98, Loss: 113.5656\n"
     ]
    },
    {
     "name": "stderr",
     "output_type": "stream",
     "text": [
      "                                                            \r"
     ]
    },
    {
     "name": "stdout",
     "output_type": "stream",
     "text": [
      "Epoch 99, Loss: 112.0957\n",
      "Model training completed and saved.\n"
     ]
    }
   ],
   "source": [
    "# Extract the best parameters from the grid search\n",
    "best_hidden_dim = 256  # Replace with the best hidden_dim found\n",
    "best_learning_rate = 0.001  # Replace with the best learning_rate found\n",
    "\n",
    "print(\"Number of train graphs: \", len(train_graph_dataset))\n",
    "\n",
    "# Initialize the model with the best parameters\n",
    "model = EGraphSAGE(node_in_channels=num_features, \n",
    "                   edge_in_channels=num_features,\n",
    "                   hidden_channels=best_hidden_dim,\n",
    "                   out_channels=num_classes).to(device)\n",
    "\n",
    "model.apply(init_weights)\n",
    "\n",
    "# Normalize class weights\n",
    "class_weights = th.FloatTensor(CLASS_WEIGHTS).to(device)\n",
    "print(\"Class weights:\", class_weights)\n",
    "\n",
    "# Define the loss function and optimizer\n",
    "criterion = nn.CrossEntropyLoss(weight=class_weights)\n",
    "optimizer = th.optim.Adam(model.parameters(), lr=best_learning_rate)\n",
    "\n",
    "lowest_loss = float('inf')\n",
    "best_model_state = None\n",
    "\n",
    "# Load checkpoint if exists\n",
    "start_epoch = 0\n",
    "epochs = 100\n",
    "\n",
    "if os.path.exists(checkpoint_path):\n",
    "    checkpoint = th.load(checkpoint_path)\n",
    "    model.load_state_dict(checkpoint['model_state_dict'])\n",
    "    optimizer.load_state_dict(checkpoint['optimizer_state_dict'])\n",
    "    start_epoch = checkpoint['epoch'] + 1\n",
    "    lowest_loss = checkpoint['lowest_loss']\n",
    "    print(f\"Resumed training from epoch {start_epoch}\")\n",
    "\n",
    "for epoch in range(start_epoch, epochs):\n",
    "    model.train()\n",
    "\n",
    "    total_loss = 0\n",
    "    for G_pyg_train in tqdm(train_graph_dataset, desc=\"Training\", leave=False):\n",
    "\n",
    "        # Move the graph data to the device\n",
    "        G_pyg_train = G_pyg_train.to(device)\n",
    "        G_pyg_train.edge_label = G_pyg_train.edge_label.to(device)\n",
    "        G_pyg_train.edge_attr = G_pyg_train.edge_attr.to(device)\n",
    "\n",
    "        optimizer.zero_grad()\n",
    "        out = model(G_pyg_train)\n",
    "        loss = criterion(out, G_pyg_train.edge_label)\n",
    "        \n",
    "        total_loss += loss.item()\n",
    "        loss.backward()\n",
    "        optimizer.step()\n",
    "\n",
    "    # Save the best model based on the lowest loss\n",
    "    if total_loss < lowest_loss:  # Here, lowest_loss is used to track the lowest loss\n",
    "        lowest_loss = total_loss\n",
    "        best_model_state = model.state_dict()\n",
    "        th.save(best_model_state, best_model_path)\n",
    "        print(\"Saved best model. Lowest Loss:\", lowest_loss)\n",
    "\n",
    "    print(f'Epoch {epoch}, Loss: {total_loss:.4f}')\n",
    "\n",
    "    # Save checkpoint\n",
    "    th.save({\n",
    "        'epoch': epoch,\n",
    "        'model_state_dict': model.state_dict(),\n",
    "        'optimizer_state_dict': optimizer.state_dict(),\n",
    "        'lowest_loss': lowest_loss\n",
    "    }, checkpoint_path)\n",
    "\n",
    "# Save the trained model\n",
    "print(\"Model training completed and saved.\")"
   ]
  },
  {
   "cell_type": "code",
   "execution_count": 45,
   "id": "70243f05",
   "metadata": {},
   "outputs": [],
   "source": [
    "th.save(model.state_dict(), best_model_path)"
   ]
  },
  {
   "cell_type": "code",
   "execution_count": 46,
   "id": "857f271a-612b-4cd6-a85a-e4236dec9d80",
   "metadata": {},
   "outputs": [
    {
     "name": "stdout",
     "output_type": "stream",
     "text": [
      "Number of train graphs:  231\n",
      "Loading model from /vol/bitbucket/shc20/FYP/GNN-Adversarial-Attack/Models/E_GraphSAGE/logs/UNSW_NB15/main_window/best_model_all_raw_downsampled.pth\n",
      "inference start\n"
     ]
    },
    {
     "name": "stderr",
     "output_type": "stream",
     "text": [
      "Evaluation:  23%|██▎       | 53/231 [00:00<00:00, 528.40it/s]"
     ]
    },
    {
     "name": "stderr",
     "output_type": "stream",
     "text": [
      "                                                              \r"
     ]
    },
    {
     "name": "stdout",
     "output_type": "stream",
     "text": [
      "Test Accuracy: 0.8888\n",
      "[[   506   1292    242     76      5      1      0      0      3      8\n",
      "       2]\n",
      " [     1   1387      0     15     12      7      0      0     10     33\n",
      "      22]\n",
      " [     0     15    263      5      3      5      0      0      1      2\n",
      "       5]\n",
      " [    26   9698    280    907   1279    150     26      0    178    375\n",
      "     869]\n",
      " [   233  12275    562   1223  15131    609     16      0   1016    902\n",
      "    5515]\n",
      " [    27   1482    494    100    114  17270      5      0     33     41\n",
      "     765]\n",
      " [    95   1539     10    242   1335    173 179408      1    149    212\n",
      "    1032]\n",
      " [   251     17      0      6     99   2114      2 186360     62     31\n",
      "      54]\n",
      " [    23   1714     12    112    531     86      5      0   8201    245\n",
      "     924]\n",
      " [     0     86      0      0      8     33      0      0     72   1054\n",
      "      29]\n",
      " [     1      0      0      1     15      5      0      0      1      2\n",
      "     126]]\n",
      "                precision    recall  f1-score   support\n",
      "\n",
      "      Analysis     0.4351    0.2370    0.3069      2135\n",
      "      Backdoor     0.0470    0.9328    0.0895      1487\n",
      "     Backdoors     0.1412    0.8796    0.2433       299\n",
      "           DoS     0.3376    0.0658    0.1101     13788\n",
      "      Exploits     0.8165    0.4037    0.5403     37482\n",
      "       Fuzzers     0.8444    0.8494    0.8469     20331\n",
      "       Generic     0.9997    0.9740    0.9867    184196\n",
      "        Normal     1.0000    0.9861    0.9930    188996\n",
      "Reconnaissance     0.8432    0.6919    0.7601     11853\n",
      "     Shellcode     0.3628    0.8222    0.5035      1282\n",
      "         Worms     0.0135    0.8344    0.0265       151\n",
      "\n",
      "      accuracy                         0.8888    462000\n",
      "     macro avg     0.5310    0.6979    0.4915    462000\n",
      "  weighted avg     0.9460    0.8888    0.9067    462000\n",
      "\n",
      "Number of test graphs:  41\n",
      "Loading model from /vol/bitbucket/shc20/FYP/GNN-Adversarial-Attack/Models/E_GraphSAGE/logs/UNSW_NB15/main_window/best_model_all_raw_downsampled.pth\n",
      "inference start\n"
     ]
    },
    {
     "name": "stderr",
     "output_type": "stream",
     "text": [
      "                                                  "
     ]
    },
    {
     "name": "stdout",
     "output_type": "stream",
     "text": [
      "Test Accuracy: 0.8712\n",
      "[[  106   208   226     0     0     2     0     0     0     0     0]\n",
      " [    4   277     0     1     8     5     0     0     1     4     8]\n",
      " [    0     6   228     0     1     0     0     0     0     0     0]\n",
      " [   29  1712   229    80   225    50     0     0    31    59   150]\n",
      " [   88  2179   458    69  2717   141     3     0   151   173  1064]\n",
      " [   16   258   452    50    30  2887     1     0     0    10   211]\n",
      " [   13   255     1    22   255    39 30430     0    19    46   205]\n",
      " [   59     1     0     2    16   418     1 32366     2     6     9]\n",
      " [    8   366     2     6   101    12     1     0  1423    52   163]\n",
      " [    0    15     0     1     0    10     0     0    13   186     4]\n",
      " [    0     2     0     0     8     3     0     0     1     0     9]]\n",
      "                precision    recall  f1-score   support\n",
      "\n",
      "      Analysis     0.3282    0.1956    0.2451       542\n",
      "      Backdoor     0.0525    0.8994    0.0992       308\n",
      "     Backdoors     0.1429    0.9702    0.2490       235\n",
      "           DoS     0.3463    0.0312    0.0572      2565\n",
      "      Exploits     0.8084    0.3858    0.5223      7043\n",
      "       Fuzzers     0.8094    0.7374    0.7717      3915\n",
      "       Generic     0.9998    0.9727    0.9861     31285\n",
      "        Normal     1.0000    0.9844    0.9921     32880\n",
      "Reconnaissance     0.8672    0.6668    0.7539      2134\n",
      "     Shellcode     0.3470    0.8122    0.4863       229\n",
      "         Worms     0.0049    0.3913    0.0098        23\n",
      "\n",
      "      accuracy                         0.8712     81159\n",
      "     macro avg     0.5188    0.6406    0.4702     81159\n",
      "  weighted avg     0.9373    0.8712    0.8903     81159\n",
      "\n"
     ]
    },
    {
     "name": "stderr",
     "output_type": "stream",
     "text": [
      "\r"
     ]
    }
   ],
   "source": [
    "from torch_geometric.utils import subgraph\n",
    "from torch_geometric.data import Data\n",
    "from sklearn.metrics import confusion_matrix\n",
    "from sklearn.metrics import classification_report\n",
    "\n",
    "def compute_accuracy(pred, labels):\n",
    "    return (pred.argmax(1) == labels).float().mean().item()\n",
    "\n",
    "def eval(dataset, adversarial=False):\n",
    "\n",
    "    best_model = EGraphSAGE(node_in_channels=num_features, \n",
    "                       edge_in_channels=num_features,\n",
    "                       hidden_channels=best_hidden_dim, \n",
    "                       out_channels=num_classes).to(device)\n",
    "\n",
    "    print(\"Loading model from\", best_model_path)\n",
    "    best_model.load_state_dict(th.load(best_model_path, weights_only=True))\n",
    "\n",
    "    best_model.eval()\n",
    "\n",
    "    print(\"inference start\")\n",
    "    with th.no_grad():\n",
    "        all_pred_logits = []\n",
    "        all_test_labels = []\n",
    "        for G_pyg in tqdm(dataset, desc=\"Evaluation\", leave=False):\n",
    "            try:\n",
    "                # Move the graph data to the device\n",
    "                G_pyg = G_pyg.to(device)\n",
    "                G_pyg.edge_label = G_pyg.edge_label.to(device)\n",
    "                G_pyg.edge_attr = G_pyg.edge_attr.to(device)\n",
    "                out = best_model(G_pyg)\n",
    "                \n",
    "            except Exception as forward_error:\n",
    "                print(f\"Error during forward/backward pass at {forward_error}\")\n",
    "\n",
    "            all_pred_logits.append(out.cpu())\n",
    "            all_test_labels.append(G_pyg.edge_label.cpu())\n",
    "\n",
    "        all_pred_logits = th.cat(all_pred_logits).to(device)\n",
    "        all_test_labels = th.cat(all_test_labels).to(device)\n",
    "        test_accuracy = compute_accuracy(all_pred_logits, all_test_labels)\n",
    "        print(f'Test Accuracy: {test_accuracy:.4f}')\n",
    "\n",
    "        pred_labels = all_pred_logits.argmax(dim=1).cpu()\n",
    "        all_test_labels = all_test_labels.cpu()\n",
    "    \n",
    "    global class_map\n",
    "    class_map_2 = class_map\n",
    "    if adversarial:\n",
    "        class_map_2 = np.append(class_map, \"Adversarial\")\n",
    "\n",
    "    # Generate a report\n",
    "    cm = confusion_matrix(all_test_labels, pred_labels, labels=range(len(class_map_2)))\n",
    "    print(cm)\n",
    "    report = classification_report(all_test_labels, pred_labels, target_names=class_map_2, digits=4)\n",
    "    print(report)\n",
    "\n",
    "print(\"Number of train graphs: \", len(train_graph_dataset))\n",
    "eval(train_graph_dataset)\n",
    "print(\"Number of test graphs: \", len(test_graph_dataset))\n",
    "eval(test_graph_dataset)\n"
   ]
  }
 ],
 "metadata": {
  "kernelspec": {
   "display_name": ".venv",
   "language": "python",
   "name": "python3"
  },
  "language_info": {
   "codemirror_mode": {
    "name": "ipython",
    "version": 3
   },
   "file_extension": ".py",
   "mimetype": "text/x-python",
   "name": "python",
   "nbconvert_exporter": "python",
   "pygments_lexer": "ipython3",
   "version": "3.12.3"
  }
 },
 "nbformat": 4,
 "nbformat_minor": 5
}
