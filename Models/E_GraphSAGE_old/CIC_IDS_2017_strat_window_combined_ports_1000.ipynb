{
 "cells": [
  {
   "cell_type": "code",
   "execution_count": 1,
   "id": "9fb9e1b2-1c5f-49e3-82b4-3bfe52cabad8",
   "metadata": {},
   "outputs": [],
   "source": [
    "'''\n",
    "=====Experiment=====\n",
    "Dataset: CIC-IDS-2017 dataset\n",
    "\n",
    "Downsample 90% normal traffic randomly\n",
    "Split train and test subgraph stratigically\n",
    "Training in chronological window subgraph\n",
    "\n",
    "IP + Port number as node\n",
    "'''\n",
    "\n",
    "from torch_geometric.utils import from_networkx, add_self_loops, degree\n",
    "from torch_geometric.nn import MessagePassing\n",
    "import torch_geometric.transforms as T\n",
    "from torch_geometric.data import DataLoader\n",
    "from torch_geometric.loader import NeighborSampler\n",
    "import torch.nn as nn\n",
    "import torch as th\n",
    "import torch.nn.functional as F\n",
    "# import dgl.function as fn\n",
    "import networkx as nx\n",
    "import pandas as pd\n",
    "import socket\n",
    "import struct\n",
    "import matplotlib.pyplot as plt\n",
    "import random\n",
    "from sklearn.preprocessing import LabelEncoder\n",
    "from sklearn.preprocessing import StandardScaler\n",
    "from sklearn.model_selection import train_test_split\n",
    "from sklearn.utils import class_weight\n",
    "# import seaborn as sns\n",
    "# import matplotlib.pyplot as plt\n",
    "import numpy as np\n",
    "import os\n",
    "import sys\n",
    "from iterstrat.ml_stratifiers import MultilabelStratifiedShuffleSplit\n",
    "from torch_geometric.loader import DataLoader\n",
    "\n",
    "\n",
    "project_root = os.path.abspath(os.path.join(os.getcwd(), '..', '..'))\n",
    "sys.path.append(project_root)\n",
    "\n",
    "from Datasets.CIC_IDS_2017.CIC_IDS_2017_config import CIC_IDS_2017_Config"
   ]
  },
  {
   "cell_type": "code",
   "execution_count": 2,
   "id": "9d9ef09a-d405-43b8-971e-fe9e6a592c9b",
   "metadata": {},
   "outputs": [
    {
     "name": "stdout",
     "output_type": "stream",
     "text": [
      "Label\n",
      "DoS Hulk                      231073\n",
      "BENIGN                        227310\n",
      "PortScan                      158930\n",
      "DDoS                          128027\n",
      "DoS GoldenEye                  10293\n",
      "FTP-Patator                     7938\n",
      "SSH-Patator                     5897\n",
      "DoS slowloris                   5796\n",
      "DoS Slowhttptest                5499\n",
      "Bot                             1966\n",
      "Web Attack - Brute Force        1507\n",
      "Web Attack - XSS                 652\n",
      "Infiltration                      36\n",
      "Web Attack - Sql Injection        21\n",
      "Heartbleed                        11\n",
      "Name: count, dtype: int64\n"
     ]
    }
   ],
   "source": [
    "csv_file_name = \"all_downsampled\"\n",
    "\n",
    "data = pd.read_csv(os.path.join(project_root, \"Datasets\", f\"CIC_IDS_2017/All/{csv_file_name}.csv\"))\n",
    "\n",
    "DATASET_NAME = \"CIC_IDS_2017\"\n",
    "EXPERIMENT_NAME = \"strat_window_combined_port_1000\"\n",
    "\n",
    "SOURCE_FILE_ID_COL_NAME = CIC_IDS_2017_Config.SOURCE_FILE_ID_COL_NAME\n",
    "\n",
    "SOURCE_IP_COL_NAME = CIC_IDS_2017_Config.SOURCE_IP_COL_NAME\n",
    "DESTINATION_IP_COL_NAME = CIC_IDS_2017_Config.DESTINATION_IP_COL_NAME\n",
    "SOURCE_PORT_COL_NAME = CIC_IDS_2017_Config.SOURCE_PORT_COL_NAME\n",
    "DESTINATION_PORT_COL_NAME = CIC_IDS_2017_Config.DESTINATION_PORT_COL_NAME\n",
    "\n",
    "ATTACK_CLASS_COL_NAME = CIC_IDS_2017_Config.ATTACK_CLASS_COL_NAME\n",
    "\n",
    "BENIGN_CLASS_NAME = CIC_IDS_2017_Config.BENIGN_CLASS_NAME\n",
    "\n",
    "TIME_COLS = CIC_IDS_2017_Config.TIME_COL_NAMES\n",
    "\n",
    "print(data[ATTACK_CLASS_COL_NAME].value_counts())\n",
    "\n",
    "MULTICLASS = True\n",
    "\n",
    "label_col = ATTACK_CLASS_COL_NAME\n",
    "\n",
    "\n",
    "saves_path = os.path.join(project_root, \"Models/E_GraphSAGE/logs\", DATASET_NAME, EXPERIMENT_NAME)\n",
    "\n",
    "checkpoint_path = os.path.join(saves_path, f\"checkpoints_{csv_file_name}.pth\")\n",
    "best_model_path = os.path.join(saves_path, f\"best_model_{csv_file_name}.pth\")\n",
    "\n",
    "os.makedirs(saves_path, exist_ok=True)"
   ]
  },
  {
   "cell_type": "code",
   "execution_count": 3,
   "id": "449a1af1-1d3d-4179-9628-7c2ec551ce0c",
   "metadata": {},
   "outputs": [
    {
     "name": "stdout",
     "output_type": "stream",
     "text": [
      "Index(['Flow ID', 'Source IP', 'Source Port', 'Destination IP',\n",
      "       'Destination Port', 'Protocol', 'Timestamp', 'Flow Duration',\n",
      "       'Total Length of Fwd Packets', 'Fwd Packet Length Mean',\n",
      "       'Fwd Packet Length Std', 'Bwd Packet Length Min',\n",
      "       'Bwd Packet Length Std', 'Flow Packets/s', 'Flow IAT Mean',\n",
      "       'Flow IAT Std', 'Flow IAT Min', 'Fwd IAT Min', 'Bwd IAT Mean',\n",
      "       'Fwd PSH Flags', 'SYN Flag Count', 'PSH Flag Count', 'ACK Flag Count',\n",
      "       'Average Packet Size', 'Fwd Header Length.1', 'Subflow Fwd Packets',\n",
      "       'Subflow Fwd Bytes', 'Subflow Bwd Bytes', 'Init_Win_bytes_forward',\n",
      "       'Active Mean', 'Active Min', 'Label', 'source_file_id'],\n",
      "      dtype='object')\n"
     ]
    }
   ],
   "source": [
    "data.drop(columns=CIC_IDS_2017_Config.DROP_COLS,inplace=True)\n",
    "print(data.columns)"
   ]
  },
  {
   "cell_type": "code",
   "execution_count": 4,
   "id": "2a2c690c-86a4-49f7-aa9c-58f94529547d",
   "metadata": {},
   "outputs": [],
   "source": [
    "data[SOURCE_IP_COL_NAME] = data[SOURCE_IP_COL_NAME].apply(str)\n",
    "data[DESTINATION_IP_COL_NAME] = data[DESTINATION_IP_COL_NAME].apply(str)\n",
    "\n",
    "# # Combine Port and IP\n",
    "data[SOURCE_PORT_COL_NAME] = data[SOURCE_PORT_COL_NAME].apply(str)\n",
    "data[DESTINATION_PORT_COL_NAME] = data[DESTINATION_PORT_COL_NAME].apply(str)\n",
    "\n",
    "data[SOURCE_IP_COL_NAME] = data[SOURCE_IP_COL_NAME] + ':' + data[SOURCE_PORT_COL_NAME]\n",
    "data[DESTINATION_IP_COL_NAME] = data[DESTINATION_IP_COL_NAME] + ':' + data[DESTINATION_PORT_COL_NAME]\n",
    "data.drop(columns=[SOURCE_PORT_COL_NAME,DESTINATION_PORT_COL_NAME],inplace=True)\n",
    "\n",
    "data = pd.get_dummies(data, columns = CIC_IDS_2017_Config.CATEGORICAL_COLS) # One Hot Encoding for categorical data\n",
    "converted_categorical_cols = [col for col in data.columns if col.startswith(tuple(CIC_IDS_2017_Config.CATEGORICAL_COLS))]"
   ]
  },
  {
   "cell_type": "code",
   "execution_count": 5,
   "id": "5651ef5b-0a9d-4641-aad7-5738092c46ce",
   "metadata": {},
   "outputs": [
    {
     "name": "stdout",
     "output_type": "stream",
     "text": [
      "<bound method NDFrame.head of                                          Flow ID              Source IP  \\\n",
      "0        192.168.10.14-23.208.79.179-51174-443-6  192.168.10.14_4:51174   \n",
      "1           192.168.10.5-72.247.71.12-53469-80-6      72.247.71.12_7:80   \n",
      "2       192.168.10.17-104.19.194.102-58257-443-6  192.168.10.17_4:58257   \n",
      "3          192.168.10.8-93.184.215.13-58377-80-6   192.168.10.8_4:58377   \n",
      "4        192.168.10.12-34.198.61.240-40382-443-6    34.198.61.240_1:443   \n",
      "...                                          ...                    ...   \n",
      "784951      172.16.0.1-192.168.10.50-42006-445-6     172.16.0.1_7:42006   \n",
      "784952       172.16.0.1-192.168.10.50-57546-80-6     172.16.0.1_7:57546   \n",
      "784953      172.16.0.1-192.168.10.50-49768-139-6     172.16.0.1_7:49768   \n",
      "784954     172.16.0.1-192.168.10.50-44870-2000-6     172.16.0.1_7:44870   \n",
      "784955       172.16.0.1-192.168.10.50-57546-80-6     172.16.0.1_7:57546   \n",
      "\n",
      "               Destination IP            Timestamp  Flow Duration  \\\n",
      "0         23.208.79.179_4:443       5/7/2017 10:09        5796235   \n",
      "1        192.168.10.5_7:53469        7/7/2017 2:11             30   \n",
      "2        104.19.194.102_4:443        5/7/2017 2:04      117057923   \n",
      "3          93.184.215.13_4:80        5/7/2017 2:36         600037   \n",
      "4       192.168.10.12_1:40382  03/07/2017 10:58:08             54   \n",
      "...                       ...                  ...            ...   \n",
      "784951    192.168.10.50_7:445        7/7/2017 3:23        6026748   \n",
      "784952     192.168.10.50_7:80        7/7/2017 3:23        6007698   \n",
      "784953    192.168.10.50_7:139        7/7/2017 3:23        8439702   \n",
      "784954   192.168.10.50_7:2000        7/7/2017 3:23             57   \n",
      "784955     192.168.10.50_7:80        7/7/2017 3:23          18632   \n",
      "\n",
      "        Total Length of Fwd Packets  Fwd Packet Length Mean  \\\n",
      "0                             378.0               42.000000   \n",
      "1                               6.0                6.000000   \n",
      "2                             996.0               71.142857   \n",
      "3                              12.0                6.000000   \n",
      "4                               0.0                0.000000   \n",
      "...                             ...                     ...   \n",
      "784951                        168.0               33.600000   \n",
      "784952                         18.0                6.000000   \n",
      "784953                         18.0                4.500000   \n",
      "784954                          0.0                0.000000   \n",
      "784955                          0.0                0.000000   \n",
      "\n",
      "        Fwd Packet Length Std  Bwd Packet Length Min  Bwd Packet Length Std  \\\n",
      "0                   68.576600                    0.0             770.816126   \n",
      "1                    0.000000                    6.0               0.000000   \n",
      "2                  126.478248                    0.0             725.951972   \n",
      "3                    0.000000                    0.0               0.000000   \n",
      "4                    0.000000                    0.0               0.000000   \n",
      "...                       ...                    ...                    ...   \n",
      "784951              75.131884                    0.0              73.323484   \n",
      "784952              10.392305                    0.0            2181.008184   \n",
      "784953               9.000000                    0.0               0.000000   \n",
      "784954               0.000000                    6.0               0.000000   \n",
      "784955               0.000000                    0.0               0.000000   \n",
      "\n",
      "        ...  Subflow Fwd Bytes  Subflow Bwd Bytes  Init_Win_bytes_forward  \\\n",
      "0       ...                378               4689                    8192   \n",
      "1       ...                  6                  6                    1013   \n",
      "2       ...                996               6127                   29200   \n",
      "3       ...                 12                  0                   16425   \n",
      "4       ...                  0                  0                     115   \n",
      "...     ...                ...                ...                     ...   \n",
      "784951  ...                168                127                   29200   \n",
      "784952  ...                 18              11595                   29200   \n",
      "784953  ...                 18                  0                   29200   \n",
      "784954  ...                  0                  6                   64240   \n",
      "784955  ...                  0                  0                     251   \n",
      "\n",
      "        Active Mean  Active Min     Label  source_file_id  Protocol_0  \\\n",
      "0          127600.0    127600.0    BENIGN               4       False   \n",
      "1               0.0         0.0    BENIGN               7       False   \n",
      "2           71936.5     15365.0    BENIGN               4       False   \n",
      "3               0.0         0.0    BENIGN               4       False   \n",
      "4               0.0         0.0    BENIGN               1       False   \n",
      "...             ...         ...       ...             ...         ...   \n",
      "784951        596.0       596.0  PortScan               7       False   \n",
      "784952        606.0       606.0  PortScan               7       False   \n",
      "784953        598.0       598.0  PortScan               7       False   \n",
      "784954          0.0         0.0  PortScan               7       False   \n",
      "784955          0.0         0.0  PortScan               7       False   \n",
      "\n",
      "        Protocol_6  Protocol_17  \n",
      "0             True        False  \n",
      "1             True        False  \n",
      "2             True        False  \n",
      "3             True        False  \n",
      "4             True        False  \n",
      "...            ...          ...  \n",
      "784951        True        False  \n",
      "784952        True        False  \n",
      "784953        True        False  \n",
      "784954        True        False  \n",
      "784955        True        False  \n",
      "\n",
      "[784956 rows x 33 columns]>\n"
     ]
    }
   ],
   "source": [
    "print(data.head)"
   ]
  },
  {
   "cell_type": "code",
   "execution_count": 6,
   "id": "e2d96115-31f9-48cb-b3e6-7853d2d253cf",
   "metadata": {},
   "outputs": [
    {
     "name": "stdout",
     "output_type": "stream",
     "text": [
      "<bound method NDFrame.head of                                          Flow ID              Source IP  \\\n",
      "0        192.168.10.14-23.208.79.179-51174-443-6  192.168.10.14_4:51174   \n",
      "1           192.168.10.5-72.247.71.12-53469-80-6      72.247.71.12_7:80   \n",
      "2       192.168.10.17-104.19.194.102-58257-443-6  192.168.10.17_4:58257   \n",
      "3          192.168.10.8-93.184.215.13-58377-80-6   192.168.10.8_4:58377   \n",
      "4        192.168.10.12-34.198.61.240-40382-443-6    34.198.61.240_1:443   \n",
      "...                                          ...                    ...   \n",
      "784951      172.16.0.1-192.168.10.50-42006-445-6     172.16.0.1_7:42006   \n",
      "784952       172.16.0.1-192.168.10.50-57546-80-6     172.16.0.1_7:57546   \n",
      "784953      172.16.0.1-192.168.10.50-49768-139-6     172.16.0.1_7:49768   \n",
      "784954     172.16.0.1-192.168.10.50-44870-2000-6     172.16.0.1_7:44870   \n",
      "784955       172.16.0.1-192.168.10.50-57546-80-6     172.16.0.1_7:57546   \n",
      "\n",
      "               Destination IP            Timestamp  Flow Duration  \\\n",
      "0         23.208.79.179_4:443       5/7/2017 10:09        5796235   \n",
      "1        192.168.10.5_7:53469        7/7/2017 2:11             30   \n",
      "2        104.19.194.102_4:443        5/7/2017 2:04      117057923   \n",
      "3          93.184.215.13_4:80        5/7/2017 2:36         600037   \n",
      "4       192.168.10.12_1:40382  03/07/2017 10:58:08             54   \n",
      "...                       ...                  ...            ...   \n",
      "784951    192.168.10.50_7:445        7/7/2017 3:23        6026748   \n",
      "784952     192.168.10.50_7:80        7/7/2017 3:23        6007698   \n",
      "784953    192.168.10.50_7:139        7/7/2017 3:23        8439702   \n",
      "784954   192.168.10.50_7:2000        7/7/2017 3:23             57   \n",
      "784955     192.168.10.50_7:80        7/7/2017 3:23          18632   \n",
      "\n",
      "        Total Length of Fwd Packets  Fwd Packet Length Mean  \\\n",
      "0                             378.0               42.000000   \n",
      "1                               6.0                6.000000   \n",
      "2                             996.0               71.142857   \n",
      "3                              12.0                6.000000   \n",
      "4                               0.0                0.000000   \n",
      "...                             ...                     ...   \n",
      "784951                        168.0               33.600000   \n",
      "784952                         18.0                6.000000   \n",
      "784953                         18.0                4.500000   \n",
      "784954                          0.0                0.000000   \n",
      "784955                          0.0                0.000000   \n",
      "\n",
      "        Fwd Packet Length Std  Bwd Packet Length Min  Bwd Packet Length Std  \\\n",
      "0                   68.576600                    0.0             770.816126   \n",
      "1                    0.000000                    6.0               0.000000   \n",
      "2                  126.478248                    0.0             725.951972   \n",
      "3                    0.000000                    0.0               0.000000   \n",
      "4                    0.000000                    0.0               0.000000   \n",
      "...                       ...                    ...                    ...   \n",
      "784951              75.131884                    0.0              73.323484   \n",
      "784952              10.392305                    0.0            2181.008184   \n",
      "784953               9.000000                    0.0               0.000000   \n",
      "784954               0.000000                    6.0               0.000000   \n",
      "784955               0.000000                    0.0               0.000000   \n",
      "\n",
      "        ...  Subflow Fwd Bytes  Subflow Bwd Bytes  Init_Win_bytes_forward  \\\n",
      "0       ...                378               4689                    8192   \n",
      "1       ...                  6                  6                    1013   \n",
      "2       ...                996               6127                   29200   \n",
      "3       ...                 12                  0                   16425   \n",
      "4       ...                  0                  0                     115   \n",
      "...     ...                ...                ...                     ...   \n",
      "784951  ...                168                127                   29200   \n",
      "784952  ...                 18              11595                   29200   \n",
      "784953  ...                 18                  0                   29200   \n",
      "784954  ...                  0                  6                   64240   \n",
      "784955  ...                  0                  0                     251   \n",
      "\n",
      "        Active Mean  Active Min     Label  source_file_id  Protocol_0  \\\n",
      "0          127600.0    127600.0    BENIGN               4       False   \n",
      "1               0.0         0.0    BENIGN               7       False   \n",
      "2           71936.5     15365.0    BENIGN               4       False   \n",
      "3               0.0         0.0    BENIGN               4       False   \n",
      "4               0.0         0.0    BENIGN               1       False   \n",
      "...             ...         ...       ...             ...         ...   \n",
      "784951        596.0       596.0  PortScan               7       False   \n",
      "784952        606.0       606.0  PortScan               7       False   \n",
      "784953        598.0       598.0  PortScan               7       False   \n",
      "784954          0.0         0.0  PortScan               7       False   \n",
      "784955          0.0         0.0  PortScan               7       False   \n",
      "\n",
      "        Protocol_6  Protocol_17  \n",
      "0             True        False  \n",
      "1             True        False  \n",
      "2             True        False  \n",
      "3             True        False  \n",
      "4             True        False  \n",
      "...            ...          ...  \n",
      "784951        True        False  \n",
      "784952        True        False  \n",
      "784953        True        False  \n",
      "784954        True        False  \n",
      "784955        True        False  \n",
      "\n",
      "[784956 rows x 33 columns]>\n"
     ]
    }
   ],
   "source": [
    "data = data.reset_index()\n",
    "data.replace([np.inf, -np.inf], np.nan,inplace = True)\n",
    "data.fillna(0,inplace = True)\n",
    "data.drop(columns=['index'],inplace=True)\n",
    "print(data.head)"
   ]
  },
  {
   "cell_type": "code",
   "execution_count": 7,
   "id": "b1df5c4c-70a2-4566-ae5e-ee3dcc6037a5",
   "metadata": {},
   "outputs": [
    {
     "name": "stdout",
     "output_type": "stream",
     "text": [
      "       Bwd Packet Length Min  Subflow Fwd Packets  \\\n",
      "count          784956.000000        784956.000000   \n",
      "mean               16.079970             5.867280   \n",
      "std                47.215745           423.380115   \n",
      "min                 0.000000             1.000000   \n",
      "25%                 0.000000             1.000000   \n",
      "50%                 0.000000             3.000000   \n",
      "75%                 6.000000             6.000000   \n",
      "max              2896.000000        209916.000000   \n",
      "\n",
      "       Total Length of Fwd Packets  Fwd Packet Length Mean  \\\n",
      "count                 7.849560e+05           784956.000000   \n",
      "mean                  3.177689e+02               36.806877   \n",
      "std                   6.370183e+03              124.200090   \n",
      "min                   0.000000e+00                0.000000   \n",
      "25%                   2.000000e+00                2.000000   \n",
      "50%                   2.600000e+01                8.666667   \n",
      "75%                   3.220000e+02               47.000000   \n",
      "max                   2.866110e+06             5940.857143   \n",
      "\n",
      "       Total Length of Fwd Packets  Fwd Packet Length Std   Fwd IAT Min  \\\n",
      "count                 7.849560e+05          784956.000000  7.849560e+05   \n",
      "mean                  3.177689e+02              54.092176  7.200132e+05   \n",
      "std                   6.370183e+03             179.832306  7.480002e+06   \n",
      "min                   0.000000e+00               0.000000 -1.200000e+01   \n",
      "25%                   2.000000e+00               0.000000  0.000000e+00   \n",
      "50%                   2.600000e+01               0.000000  2.000000e+00   \n",
      "75%                   3.220000e+02             108.187337  4.800000e+01   \n",
      "max                   2.866110e+06            7049.469004  1.200000e+08   \n",
      "\n",
      "       Flow IAT Min  Flow IAT Mean  Bwd Packet Length Std  ...   Active Mean  \\\n",
      "count  7.849560e+05   7.849560e+05          784956.000000  ...  7.849560e+05   \n",
      "mean   2.010515e+05   2.314479e+06             888.199204  ...  9.422461e+04   \n",
      "std    3.538292e+06   5.260519e+06            1386.441838  ...  6.588593e+05   \n",
      "min   -1.300000e+01  -1.200000e+01               0.000000  ...  0.000000e+00   \n",
      "25%    2.000000e+00   5.400000e+01               0.000000  ...  0.000000e+00   \n",
      "50%    5.000000e+00   1.789056e+04               0.000000  ...  0.000000e+00   \n",
      "75%    4.900000e+01   2.917921e+06            1760.597234  ...  8.800000e+02   \n",
      "max    1.200000e+08   1.200000e+08            8194.660487  ...  1.020000e+08   \n",
      "\n",
      "       Bwd IAT Mean  Subflow Bwd Bytes  Init_Win_bytes_forward  \\\n",
      "count  7.849560e+05       7.849560e+05           784956.000000   \n",
      "mean   1.870857e+06       8.760160e+03             7237.375389   \n",
      "std    8.011958e+06       1.244004e+06            12679.556553   \n",
      "min    0.000000e+00       0.000000e+00               -1.000000   \n",
      "25%    0.000000e+00       0.000000e+00              251.000000   \n",
      "50%    1.000000e+00       7.400000e+01              274.000000   \n",
      "75%    3.511512e+04       1.159500e+04             8192.000000   \n",
      "max    1.200000e+08       6.176585e+08            65535.000000   \n",
      "\n",
      "       ACK Flag Count  Fwd PSH Flags  SYN Flag Count  Flow Packets/s  \\\n",
      "count   784956.000000  784956.000000   784956.000000    7.849560e+05   \n",
      "mean         0.390531       0.024274        0.024274    8.658184e+04   \n",
      "std          0.487870       0.153899        0.153899    2.892078e+05   \n",
      "min          0.000000       0.000000        0.000000   -2.000000e+06   \n",
      "25%          0.000000       0.000000        0.000000    3.988248e-01   \n",
      "50%          0.000000       0.000000        0.000000    7.268762e+01   \n",
      "75%          1.000000       0.000000        0.000000    3.508772e+04   \n",
      "max          1.000000       1.000000        1.000000    3.000000e+06   \n",
      "\n",
      "       PSH Flag Count  Average Packet Size  \n",
      "count   784956.000000        784956.000000  \n",
      "mean         0.402430           368.879063  \n",
      "std          0.490388           502.979522  \n",
      "min          0.000000             0.000000  \n",
      "25%          0.000000             4.500000  \n",
      "50%          0.000000            54.250000  \n",
      "75%          1.000000           853.571429  \n",
      "max          1.000000          2847.000000  \n",
      "\n",
      "[8 rows x 24 columns]\n"
     ]
    }
   ],
   "source": [
    "scaler = StandardScaler()\n",
    "cols_to_norm = CIC_IDS_2017_Config.COLS_TO_NORM\n",
    "print(data[cols_to_norm].describe()) # Check if there's any too large value"
   ]
  },
  {
   "cell_type": "code",
   "execution_count": 8,
   "id": "9ea95177",
   "metadata": {},
   "outputs": [
    {
     "name": "stdout",
     "output_type": "stream",
     "text": [
      "\n",
      "✅ All other columns processed successfully.\n"
     ]
    }
   ],
   "source": [
    "def check_numeric_issues(df, cols_to_norm):\n",
    "    for col in cols_to_norm:\n",
    "        try:\n",
    "            # Try to coerce to numeric\n",
    "            df[col] = pd.to_numeric(df[col], errors='coerce')\n",
    "            \n",
    "            # Try to clip the column\n",
    "            df[col] = df[col].clip(lower=-1e9, upper=1e9)\n",
    "            \n",
    "        except Exception as e:\n",
    "            print(f\"❌ Column '{col}' failed with error: {e}\")\n",
    "            print(f\"  - Sample values: {df[col].dropna().unique()[:5]}\")\n",
    "            print(f\"  - Data type: {df[col].dtype}\")\n",
    "            continue\n",
    "\n",
    "    print(\"\\n✅ All other columns processed successfully.\")\n",
    "\n",
    "check_numeric_issues(data, CIC_IDS_2017_Config.COLS_TO_NORM)"
   ]
  },
  {
   "cell_type": "code",
   "execution_count": 9,
   "id": "37256006-abc1-44aa-8e74-46d05dc6ad84",
   "metadata": {},
   "outputs": [],
   "source": [
    "data[cols_to_norm] = scaler.fit_transform(data[cols_to_norm])"
   ]
  },
  {
   "cell_type": "code",
   "execution_count": 10,
   "id": "61c6e17f",
   "metadata": {},
   "outputs": [
    {
     "name": "stdout",
     "output_type": "stream",
     "text": [
      "['BENIGN' 'Bot' 'DDoS' 'DoS GoldenEye' 'DoS Hulk' 'DoS Slowhttptest'\n",
      " 'DoS slowloris' 'FTP-Patator' 'Heartbleed' 'Infiltration' 'PortScan'\n",
      " 'SSH-Patator' 'Web Attack - Brute Force' 'Web Attack - Sql Injection'\n",
      " 'Web Attack - XSS']\n",
      "Attack label mapping: {'BENIGN': 0, 'Bot': 1, 'DDoS': 2, 'DoS GoldenEye': 3, 'DoS Hulk': 4, 'DoS Slowhttptest': 5, 'DoS slowloris': 6, 'FTP-Patator': 7, 'Heartbleed': 8, 'Infiltration': 9, 'PortScan': 10, 'SSH-Patator': 11, 'Web Attack - Brute Force': 12, 'Web Attack - Sql Injection': 13, 'Web Attack - XSS': 14}\n"
     ]
    }
   ],
   "source": [
    "from sklearn.preprocessing import LabelEncoder\n",
    "\n",
    "num_classes = 2\n",
    "class_map = [0, 1]\n",
    "if MULTICLASS:\n",
    "    le = LabelEncoder()\n",
    "    attack_labels = le.fit_transform(data[ATTACK_CLASS_COL_NAME])\n",
    "    class_map = le.classes_\n",
    "    print(class_map)\n",
    "    print(\"Attack label mapping:\", dict(zip(class_map, range(len(class_map)))))\n",
    "    data[ATTACK_CLASS_COL_NAME] = attack_labels\n",
    "    num_classes = len(class_map)\n",
    "    class_dict = {le.inverse_transform([i])[0]: i for i in range(len(le.classes_))}\n",
    "\n",
    "BENIGN_CLASS_LABEL = le.transform([BENIGN_CLASS_NAME])[0] if MULTICLASS else 0\n",
    "ADVERSARIAL_CLASS_LABEL = len(class_map)"
   ]
  },
  {
   "cell_type": "code",
   "execution_count": 11,
   "id": "d35f4cdd-2716-431f-af50-b34cc3d2d535",
   "metadata": {},
   "outputs": [
    {
     "name": "stdout",
     "output_type": "stream",
     "text": [
      "Feature Columns: ['Bwd Packet Length Min', 'Subflow Fwd Packets', 'Total Length of Fwd Packets', 'Fwd Packet Length Mean', 'Total Length of Fwd Packets', 'Fwd Packet Length Std', 'Fwd IAT Min', 'Flow IAT Min', 'Flow IAT Mean', 'Bwd Packet Length Std', 'Subflow Fwd Bytes', 'Flow Duration', 'Flow IAT Std', 'Active Min', 'Active Mean', 'Bwd IAT Mean', 'Subflow Bwd Bytes', 'Init_Win_bytes_forward', 'ACK Flag Count', 'Fwd PSH Flags', 'SYN Flag Count', 'Flow Packets/s', 'PSH Flag Count', 'Average Packet Size', 'Protocol_0', 'Protocol_6', 'Protocol_17']\n",
      "Number of Features: 27\n"
     ]
    }
   ],
   "source": [
    "# # Maintain the order of the rows in the original dataframe\n",
    "\n",
    "feature_cols = cols_to_norm + converted_categorical_cols\n",
    "\n",
    "print('Feature Columns:', feature_cols)\n",
    "num_features = len(feature_cols)\n",
    "print('Number of Features:', num_features)\n",
    "\n",
    "data['h'] = data[ feature_cols ].values.tolist()"
   ]
  },
  {
   "cell_type": "code",
   "execution_count": 12,
   "id": "743e7faa",
   "metadata": {},
   "outputs": [],
   "source": [
    "def create_graph(df):\n",
    "\n",
    "    G_nx = nx.from_pandas_edgelist(df, SOURCE_IP_COL_NAME, DESTINATION_IP_COL_NAME, ['h', label_col], create_using=nx.MultiDiGraph())\n",
    "    G_pyg = from_networkx(G_nx)\n",
    "\n",
    "    num_nodes = G_pyg.num_nodes\n",
    "    num_edges = G_pyg.num_edges\n",
    "\n",
    "    G_pyg.x = th.ones(num_nodes, len(df['h'].iloc[0])) \n",
    "\n",
    "    edge_attr_list = []\n",
    "    edge_label_list = []\n",
    "\n",
    "    for u, v, key, data in G_nx.edges(keys=True, data=True):\n",
    "        edge_attr_list.append(data['h']) \n",
    "        edge_label_list.append(data[label_col]) \n",
    "\n",
    "    G_pyg.edge_attr = th.tensor(edge_attr_list, dtype=th.float32)\n",
    "    G_pyg.edge_label = th.tensor(edge_label_list, dtype=th.long)\n",
    "\n",
    "    return G_pyg"
   ]
  },
  {
   "cell_type": "code",
   "execution_count": 13,
   "id": "4e650028",
   "metadata": {},
   "outputs": [],
   "source": [
    "from collections import defaultdict\n",
    "from typing import Counter\n",
    "from sklearn.preprocessing import MultiLabelBinarizer\n",
    "\n",
    "from tqdm import tqdm\n",
    "\n",
    "class StratifiedGraphDataset:\n",
    "\n",
    "    def __init__(self, X, y, test=False):\n",
    "        self.X = X\n",
    "        self.y = y\n",
    "        self.total_count = len(self.y)\n",
    "        self.test = test\n",
    "\n",
    "        # Compute class weights\n",
    "        labels = []\n",
    "\n",
    "        for graph in self.X:\n",
    "            labels.append(graph.edge_label.tolist())\n",
    "\n",
    "        labels = np.concatenate(labels)\n",
    "\n",
    "        self.class_counts = Counter(labels)\n",
    "\n",
    "        # Compute the class weights\n",
    "        self.class_weights = class_weight.compute_class_weight(\n",
    "            class_weight='balanced',\n",
    "            classes=np.unique(labels),\n",
    "            y=labels\n",
    "        )\n",
    "\n",
    "    def k_fold_split(self, k: int = 5, test_ratio: float = 0.15, random_state: int = 42):\n",
    "        cv = MultilabelStratifiedShuffleSplit(test_size=test_ratio, random_state=random_state, n_splits=k)\n",
    "\n",
    "        mlb = MultiLabelBinarizer()\n",
    "\n",
    "        y_binary = mlb.fit_transform(self.y)\n",
    "\n",
    "        return cv.split(np.zeros(len(self.X)), y_binary)\n",
    "\n",
    "    def graph_train_test_split(self, test_ratio: float = 0.15, random_state: int = 42):\n",
    "        train_idx, test_idx = next(self.k_fold_split(k = 1, test_ratio = test_ratio, random_state = random_state))\n",
    "        \n",
    "        X_train = [self.X[i] for i in train_idx]\n",
    "        X_test = [self.X[i] for i in test_idx]\n",
    "\n",
    "        y_train = [self.y[i] for i in train_idx]\n",
    "        y_test = [self.y[i] for i in test_idx]\n",
    "\n",
    "        return StratifiedGraphDataset(X_train, y_train), StratifiedGraphDataset(X_test, y_test, True)\n",
    "    \n",
    "    def print_class_distribution_and_weights(self):\n",
    "        # Use the label encoder to inverse transform the class labels\n",
    "        class_counts_named = {cls: count for cls, count in self.class_counts.items()}\n",
    "        class_weights_named = {cls: weight for cls, weight in enumerate(self.class_weights)}\n",
    "        print(\"Class Counts and Weights:\")\n",
    "        for cls_label in class_counts_named.keys():\n",
    "            count = class_counts_named[cls_label]\n",
    "            if self.test:\n",
    "                print(f\"{cls_label:<2}  {le.inverse_transform([cls_label])[0]:<15}: Count = {count:<10}\")\n",
    "            else:\n",
    "                weight = class_weights_named[cls_label]\n",
    "                print(f\"{cls_label:<2}  {le.inverse_transform([cls_label])[0]:<15}: Count = {count:<10}, Weight = {weight:<10.4f}\")\n",
    "    \n",
    "    def __len__(self):\n",
    "        return self.total_count\n",
    "\n",
    "    def __iter__(self):\n",
    "        for g in self.X:\n",
    "            yield g\n",
    "            \n",
    "    def __getitem__(self, idx):\n",
    "        if isinstance(idx, int):\n",
    "            return self.X[idx], self.y[idx]\n",
    "        elif isinstance(idx, slice):\n",
    "            return [self.X[i] for i in range(len(self.X))][idx], [self.y[i] for i in range(len(self.y))][idx]\n",
    "        else:\n",
    "            raise TypeError(\"Index must be an integer or a slice.\")\n",
    "\n",
    "def generate_graph_datasets(\n",
    "    df: pd.DataFrame, \n",
    "    window_size: int = 1000, \n",
    "    # overlap_ratio: float = 0, \n",
    "    feature_cols=feature_cols,\n",
    "    ordering_cols= [SOURCE_FILE_ID_COL_NAME] + TIME_COLS, \n",
    "    label_col=label_col,\n",
    "    build_graph_func=create_graph,\n",
    "    # downsampler=downsampler\n",
    "    ):\n",
    "\n",
    "    print(\"All Columns: \", df.columns)\n",
    "    print(\"Ordering Columns: \", ordering_cols)\n",
    "    assert all(col in df.columns for col in ordering_cols), \"All timestamp columns are required\"\n",
    "    assert label_col in df.columns, \"Edge label column 'label' is required\"\n",
    "    \n",
    "    df = df.sort_values(ordering_cols).reset_index(drop=True)\n",
    "    window_size = int(window_size)\n",
    "    \n",
    "    df.drop(columns=set(df.columns) - set(feature_cols) - set(label_col))\n",
    "\n",
    "    print(\"Final Columns: \", df.columns)\n",
    "    \n",
    "    label_counts_list = []\n",
    "    X = []\n",
    "    y = []\n",
    "\n",
    "    progress_bar = tqdm(range(0, len(df), window_size), desc=f\"Generating graphs\")\n",
    "    for start in progress_bar:\n",
    "        window_df = df[start: min(start + window_size, len(df))]\n",
    "        contains_label = window_df[label_col].unique()\n",
    "\n",
    "        G_pyg = build_graph_func(window_df)\n",
    "\n",
    "        label_counts = window_df[label_col].value_counts()\n",
    "\n",
    "        label_counts_list.append(label_counts)\n",
    "        X.append(G_pyg)\n",
    "        y.append(contains_label.tolist())\n",
    "\n",
    "    # X, y = downsampler.downsample(label_counts_list, X, y)\n",
    "        \n",
    "    return StratifiedGraphDataset(X, y)"
   ]
  },
  {
   "cell_type": "code",
   "execution_count": 14,
   "id": "491e7421",
   "metadata": {},
   "outputs": [
    {
     "name": "stdout",
     "output_type": "stream",
     "text": [
      "All Columns:  Index(['Flow ID', 'Source IP', 'Destination IP', 'Timestamp', 'Flow Duration',\n",
      "       'Total Length of Fwd Packets', 'Fwd Packet Length Mean',\n",
      "       'Fwd Packet Length Std', 'Bwd Packet Length Min',\n",
      "       'Bwd Packet Length Std', 'Flow Packets/s', 'Flow IAT Mean',\n",
      "       'Flow IAT Std', 'Flow IAT Min', 'Fwd IAT Min', 'Bwd IAT Mean',\n",
      "       'Fwd PSH Flags', 'SYN Flag Count', 'PSH Flag Count', 'ACK Flag Count',\n",
      "       'Average Packet Size', 'Fwd Header Length.1', 'Subflow Fwd Packets',\n",
      "       'Subflow Fwd Bytes', 'Subflow Bwd Bytes', 'Init_Win_bytes_forward',\n",
      "       'Active Mean', 'Active Min', 'Label', 'source_file_id', 'Protocol_0',\n",
      "       'Protocol_6', 'Protocol_17', 'h'],\n",
      "      dtype='object')\n",
      "Ordering Columns:  ['source_file_id', 'Timestamp']\n",
      "Final Columns:  Index(['Flow ID', 'Source IP', 'Destination IP', 'Timestamp', 'Flow Duration',\n",
      "       'Total Length of Fwd Packets', 'Fwd Packet Length Mean',\n",
      "       'Fwd Packet Length Std', 'Bwd Packet Length Min',\n",
      "       'Bwd Packet Length Std', 'Flow Packets/s', 'Flow IAT Mean',\n",
      "       'Flow IAT Std', 'Flow IAT Min', 'Fwd IAT Min', 'Bwd IAT Mean',\n",
      "       'Fwd PSH Flags', 'SYN Flag Count', 'PSH Flag Count', 'ACK Flag Count',\n",
      "       'Average Packet Size', 'Fwd Header Length.1', 'Subflow Fwd Packets',\n",
      "       'Subflow Fwd Bytes', 'Subflow Bwd Bytes', 'Init_Win_bytes_forward',\n",
      "       'Active Mean', 'Active Min', 'Label', 'source_file_id', 'Protocol_0',\n",
      "       'Protocol_6', 'Protocol_17', 'h'],\n",
      "      dtype='object')\n"
     ]
    },
    {
     "name": "stderr",
     "output_type": "stream",
     "text": [
      "Generating graphs: 100%|██████████| 785/785 [00:29<00:00, 26.83it/s]\n"
     ]
    }
   ],
   "source": [
    "graph_dataset = generate_graph_datasets(data)\n",
    "full_train_graph_dataset, test_graph_dataset = graph_dataset.graph_train_test_split(test_ratio=0.15, random_state=42)\n"
   ]
  },
  {
   "cell_type": "code",
   "execution_count": 15,
   "id": "365fd330",
   "metadata": {},
   "outputs": [
    {
     "name": "stdout",
     "output_type": "stream",
     "text": [
      "Class Distrubution: Label\n",
      "4     231073\n",
      "0     227310\n",
      "10    158930\n",
      "2     128027\n",
      "3      10293\n",
      "7       7938\n",
      "11      5897\n",
      "6       5796\n",
      "5       5499\n",
      "1       1966\n",
      "12      1507\n",
      "14       652\n",
      "9         36\n",
      "13        21\n",
      "8         11\n",
      "Name: count, dtype: int64\n",
      "Number of graphs after downsampling: 785\n",
      "Class Counts and Weights:\n",
      "0   BENIGN         : Count = 227310    , Weight = 0.2302    \n",
      "2   DDoS           : Count = 128027    , Weight = 0.4087    \n",
      "12  Web Attack - Brute Force: Count = 1507      , Weight = 34.7249   \n",
      "14  Web Attack - XSS: Count = 652       , Weight = 80.2613   \n",
      "13  Web Attack - Sql Injection: Count = 21        , Weight = 2491.9238 \n",
      "9   Infiltration   : Count = 36        , Weight = 1453.6222 \n",
      "6   DoS slowloris  : Count = 5796      , Weight = 9.0287    \n",
      "5   DoS Slowhttptest: Count = 5499      , Weight = 9.5163    \n",
      "4   DoS Hulk       : Count = 231073    , Weight = 0.2265    \n",
      "3   DoS GoldenEye  : Count = 10293     , Weight = 5.0841    \n",
      "8   Heartbleed     : Count = 11        , Weight = 4757.3091 \n",
      "1   Bot            : Count = 1966      , Weight = 26.6177   \n",
      "7   FTP-Patator    : Count = 7938      , Weight = 6.5924    \n",
      "11  SSH-Patator    : Count = 5897      , Weight = 8.8741    \n",
      "10  PortScan       : Count = 158930    , Weight = 0.3293    \n",
      "Number of training graphs: 667\n",
      "Class Counts and Weights:\n",
      "0   BENIGN         : Count = 192966    , Weight = 0.2304    \n",
      "2   DDoS           : Count = 108593    , Weight = 0.4095    \n",
      "12  Web Attack - Brute Force: Count = 1322      , Weight = 33.6337   \n",
      "14  Web Attack - XSS: Count = 652       , Weight = 68.1959   \n",
      "13  Web Attack - Sql Injection: Count = 21        , Weight = 2117.3206 \n",
      "9   Infiltration   : Count = 33        , Weight = 1347.3859 \n",
      "6   DoS slowloris  : Count = 5170      , Weight = 8.6003    \n",
      "5   DoS Slowhttptest: Count = 5353      , Weight = 8.3063    \n",
      "4   DoS Hulk       : Count = 196562    , Weight = 0.2262    \n",
      "3   DoS GoldenEye  : Count = 8293      , Weight = 5.3616    \n",
      "8   Heartbleed     : Count = 7         , Weight = 6351.9619 \n",
      "1   Bot            : Count = 1654      , Weight = 26.8825   \n",
      "7   FTP-Patator    : Count = 6974      , Weight = 6.3756    \n",
      "11  SSH-Patator    : Count = 5049      , Weight = 8.8064    \n",
      "10  PortScan       : Count = 134307    , Weight = 0.3311    \n",
      "Number of testing graphs: 118\n",
      "Class Counts and Weights:\n",
      "0   BENIGN         : Count = 34344     \n",
      "2   DDoS           : Count = 19434     \n",
      "12  Web Attack - Brute Force: Count = 185       \n",
      "9   Infiltration   : Count = 3         \n",
      "6   DoS slowloris  : Count = 626       \n",
      "5   DoS Slowhttptest: Count = 146       \n",
      "4   DoS Hulk       : Count = 34511     \n",
      "3   DoS GoldenEye  : Count = 2000      \n",
      "8   Heartbleed     : Count = 4         \n",
      "1   Bot            : Count = 312       \n",
      "7   FTP-Patator    : Count = 964       \n",
      "11  SSH-Patator    : Count = 848       \n",
      "10  PortScan       : Count = 24623     \n"
     ]
    }
   ],
   "source": [
    "print(\"Class Distrubution:\", data[label_col].value_counts())\n",
    "\n",
    "print(\"Number of graphs after downsampling:\", len(graph_dataset))\n",
    "graph_dataset.print_class_distribution_and_weights()\n",
    "print(\"Number of training graphs:\", len(full_train_graph_dataset))\n",
    "full_train_graph_dataset.print_class_distribution_and_weights()\n",
    "print(\"Number of testing graphs:\", len(test_graph_dataset))\n",
    "test_graph_dataset.print_class_distribution_and_weights()"
   ]
  },
  {
   "cell_type": "code",
   "execution_count": 16,
   "id": "41795339-6036-468f-9b9d-2bb68d78ed7d",
   "metadata": {},
   "outputs": [],
   "source": [
    "class SAGELayerPyG(MessagePassing):\n",
    "    def __init__(self, in_channels, edge_dim, out_channels, activation=F.relu):\n",
    "        super().__init__(aggr='mean')  # mean aggregation\n",
    "        self.W_msg = nn.Linear(in_channels + edge_dim, out_channels)\n",
    "        self.W_apply = nn.Linear(in_channels + out_channels, out_channels)\n",
    "        self.activation = activation\n",
    "\n",
    "    def forward(self, x, edge_index, edge_attr):\n",
    "        # x: [num_nodes, in_channels]\n",
    "        # edge_attr: [num_edges, edge_dim]\n",
    "        return self.propagate(edge_index, x=x, edge_attr=edge_attr)\n",
    "\n",
    "    def message(self, x_j, edge_attr):\n",
    "        # x_j: features of source nodes (neighbours)\n",
    "        msg_input = th.cat([x_j, edge_attr], dim=1)\n",
    "        return self.W_msg(msg_input)\n",
    "\n",
    "    def update(self, aggr_out, x):\n",
    "        # aggr_out: [num_nodes, out_channels]\n",
    "        combined = th.cat([x, aggr_out], dim=1)\n",
    "        out = self.W_apply(combined)\n",
    "        return self.activation(out)\n",
    "    \n",
    "class MLPPredictor(nn.Module):\n",
    "    def __init__(self, in_channels, out_channels):\n",
    "        super(MLPPredictor, self).__init__()\n",
    "        self.lin = nn.Linear(in_channels * 2, out_channels)\n",
    "\n",
    "    def forward(self, data, z):\n",
    "        row, col = data.edge_index\n",
    "        # Concatenate the features of source and target nodes for each edge\n",
    "        edge_feat = th.cat([z[row], z[col]], dim=1)\n",
    "        return self.lin(edge_feat)\n",
    "\n",
    "class EGraphSAGE(nn.Module):\n",
    "    def __init__(self, node_in_channels, edge_in_channels, hidden_channels, out_channels, dropout=0.2):\n",
    "        super(EGraphSAGE, self).__init__()\n",
    "        self.dropout = dropout\n",
    "        self.conv1 = SAGELayerPyG(node_in_channels, edge_in_channels, hidden_channels)\n",
    "        self.conv2 = SAGELayerPyG(hidden_channels, edge_in_channels, hidden_channels)\n",
    "        self.mlp_predictor = MLPPredictor(hidden_channels, out_channels)\n",
    "\n",
    "    def forward(self, data):\n",
    "        x, edge_index, edge_attr = data.x, data.edge_index, data.edge_attr\n",
    "        x = F.relu(self.conv1(x, edge_index, edge_attr))\n",
    "        x = F.dropout(x, p=self.dropout, training=self.training)\n",
    "        x = self.conv2(x, edge_index, edge_attr)\n",
    "        return self.mlp_predictor(data, x)"
   ]
  },
  {
   "cell_type": "code",
   "execution_count": 17,
   "id": "bca25fef-29d9-40cf-8910-16b24d530693",
   "metadata": {},
   "outputs": [
    {
     "name": "stdout",
     "output_type": "stream",
     "text": [
      "cuda:0\n"
     ]
    }
   ],
   "source": [
    "device = th.device(\"cuda:0\" if th.cuda.is_available() else \"cpu\")\n",
    "print(device)"
   ]
  },
  {
   "cell_type": "code",
   "execution_count": 18,
   "id": "cccdc850-b98d-4836-b82b-67aa4b9e1e02",
   "metadata": {},
   "outputs": [],
   "source": [
    "th.cuda.empty_cache()"
   ]
  },
  {
   "cell_type": "code",
   "execution_count": 19,
   "id": "89157faf-e24b-49d6-9c90-6f71dae515b2",
   "metadata": {},
   "outputs": [],
   "source": [
    "\n",
    "\n",
    "def init_weights(m):\n",
    "    if isinstance(m, nn.Linear):\n",
    "        nn.init.xavier_uniform_(m.weight)\n",
    "        nn.init.constant_(m.bias, 0)\n",
    "\n"
   ]
  },
  {
   "cell_type": "code",
   "execution_count": 20,
   "id": "385d37f0-713b-4abc-8d7a-3e768ae9a2b2",
   "metadata": {},
   "outputs": [],
   "source": [
    "from sklearn.metrics import f1_score\n",
    "from sklearn.model_selection import StratifiedKFold\n",
    "\n",
    "def compute_accuracy(pred, labels):\n",
    "    return (pred.argmax(1) == labels).float().mean().item()\n",
    "\n",
    "def grid_search(graph_dataset, epochs, learning_rates, hidden_dims, folds=3):\n",
    "    global num_features\n",
    "    \n",
    "    best_params = {}\n",
    "    best_f1 = 0\n",
    "\n",
    "    # Precompute the train and validation graphs for all folds\n",
    "    folds_list = []\n",
    "    for i in range(folds):\n",
    "        train_graph_dataset, val_graph_dataset = graph_dataset.graph_train_test_split(test_ratio=0.15, random_state=i)\n",
    "        folds_list.append((train_graph_dataset, val_graph_dataset))\n",
    "\n",
    "    params_results = {}\n",
    "    for lr in learning_rates:\n",
    "        for hidden_dim in hidden_dims:\n",
    "            for drop_out in drop_outs:\n",
    "                print(f\"Testing with learning rate: {lr}, hidden_dim: {hidden_dim}\")\n",
    "                fold_f1_scores = []\n",
    "\n",
    "                for fold, (train_graph_dataset, val_graph_dataset) in enumerate(folds_list):\n",
    "                    print(f\"Fold {fold + 1}\")\n",
    "\n",
    "                    model = EGraphSAGE(node_in_channels=num_features,\n",
    "                                    edge_in_channels=num_features,\n",
    "                                    hidden_channels=hidden_dim,\n",
    "                                    dropout = drop_out,\n",
    "                                    out_channels=num_classes).to(device)\n",
    "\n",
    "                    model.apply(init_weights)\n",
    "\n",
    "                    # Normalize to stabilize training\n",
    "                    class_weights = th.FloatTensor(train_graph_dataset.class_weights).to(device)\n",
    "                    print(\"Class weights:\", class_weights)\n",
    "\n",
    "                    criterion = nn.CrossEntropyLoss(weight=class_weights)\n",
    "                    optimizer = th.optim.Adam(model.parameters(), lr=lr)\n",
    "                    scheduler = th.optim.lr_scheduler.CosineAnnealingLR(optimizer, T_max=epochs, eta_min=1e-6)\n",
    "\n",
    "                    best_epoch_f1 = 0  # Track the best F1 score for this fold\n",
    "\n",
    "                    for epoch in range(epochs):\n",
    "                        try:\n",
    "                            total_train_loss = 0\n",
    "                            total_val_loss = 0\n",
    "\n",
    "                            model.train()\n",
    "                            for G_pyg_train in tqdm(train_graph_dataset, desc=\"Training\", leave=False):\n",
    "                                G_pyg_train = G_pyg_train.to(device)\n",
    "\n",
    "                                G_pyg_train.edge_label = G_pyg_train.edge_label.to(device)\n",
    "                                G_pyg_train.edge_attr = G_pyg_train.edge_attr.to(device)\n",
    "                                \n",
    "                                out = model(G_pyg_train)\n",
    "                                loss = criterion(out, G_pyg_train.edge_label)\n",
    "                                total_train_loss += loss.item()\n",
    "\n",
    "                                optimizer.zero_grad()\n",
    "                                loss.backward()\n",
    "\n",
    "                                optimizer.step()\n",
    "                                scheduler.step()\n",
    "                            \n",
    "                            model.eval()\n",
    "\n",
    "                            test_label_list = []\n",
    "                            pred_label_list = []\n",
    "\n",
    "                            with th.no_grad():\n",
    "                                for G_pyg_val in tqdm(val_graph_dataset, desc=\"Validation\", leave=False):\n",
    "\n",
    "                                    G_pyg_val.to(device)\n",
    "                                    G_pyg_val.edge_label = G_pyg_val.edge_label.to(device)\n",
    "                                    G_pyg_val.edge_attr = G_pyg_val.edge_attr.to(device)\n",
    "\n",
    "                                    out = model(G_pyg_val)\n",
    "                                    loss = criterion(out, G_pyg_val.edge_label)\n",
    "                                    total_val_loss += loss.item()\n",
    "\n",
    "                            test_label = th.cat(test_label_list)\n",
    "                            pred_label = th.cat(pred_label_list)\n",
    "\n",
    "                            val_f1 = f1_score(test_label.cpu(), pred_label.cpu(), average='weighted')\n",
    "\n",
    "                            if val_f1 > best_epoch_f1:\n",
    "                                best_epoch_f1 = val_f1  # Update the best F1 score for this fold\n",
    "                                print(f\"Best F1 Score at epoch {epoch}: {best_epoch_f1:.4f}, Train Loss: {total_train_loss:.4f}, Validation Loss: {total_val_loss:.4f}, Parameters: lr={lr}, hidden_dim={hidden_dim}, drop_out={drop_out}\")\n",
    "\n",
    "                            print(f'Epoch {epoch}, Train Loss: {total_train_loss:.4f}, Validation Loss: {total_val_loss:.4f}, Validation F1: {avg_f1:.4f}')\n",
    "\n",
    "                        except Exception as e:\n",
    "                            print(f\"An error occurred at epoch {epoch}: {str(e)}\")\n",
    "                            break\n",
    "\n",
    "                    fold_f1_scores.append(best_epoch_f1)  # Append the best F1 score for this fold\n",
    "                \n",
    "                avg_f1 = sum(fold_f1_scores) / len(fold_f1_scores)\n",
    "                params_results[(drop_out, lr, hidden_dim)] = {'folds': fold_f1_scores, 'avg_f1': avg_f1}\n",
    "                print(f\"Average F1 Score for drop_out {drop_out}, learning rate {lr}, hidden_dim {hidden_dim}: {avg_f1:.4f}\")\n",
    "\n",
    "                if avg_f1 > best_f1:\n",
    "                    best_f1 = avg_f1\n",
    "                    best_params = {'learning_rate': lr, 'hidden_dim': hidden_dim, 'drop_out': drop_out}\n",
    "\n",
    "    print(f\"Best Parameters: {best_params}, Best F1 Score: {best_f1:.4f}\")\n",
    "    print(\"All results:\", params_results)\n",
    "\n",
    "\n",
    "learning_rates = [0.001, 0.005, 0.01, 0.05]\n",
    "hidden_dims = [128, 256, 512]\n",
    "drop_outs = [0.2, 0.3, 0.4]\n",
    "\n",
    "# grid_search(full_train_graph_dataset, epochs=10, learning_rates=learning_rates, hidden_dims=hidden_dims, drop_outs=drop_outs)\n"
   ]
  },
  {
   "cell_type": "code",
   "execution_count": 21,
   "id": "b158d936",
   "metadata": {},
   "outputs": [],
   "source": [
    "train_graph_dataset, val_graph_dataset = full_train_graph_dataset.graph_train_test_split(test_ratio=0.15, random_state=42)"
   ]
  },
  {
   "cell_type": "code",
   "execution_count": 22,
   "id": "c6ec4a82",
   "metadata": {},
   "outputs": [],
   "source": [
    "import pickle\n",
    "\n",
    "def save_progress(epoch, model, optimizer, scheduler, best_f1, train_loss_history, val_loss_history, val_f1_history, saved_model_epochs):\n",
    "    global checkpoint_path, train_loss_history_path, val_loss_history_path, val_f1_history_path, saved_model_epochs_path\n",
    "\n",
    "    # Save checkpoint\n",
    "    th.save({\n",
    "        'epoch': epoch,\n",
    "        'model_state_dict': model.state_dict(),\n",
    "        'optimizer_state_dict': optimizer.state_dict(),\n",
    "        'scheduler_state_dict': scheduler.state_dict(),\n",
    "        'best_f1': best_f1\n",
    "    }, checkpoint_path)\n",
    "    with open(train_loss_history_path, 'wb') as f:\n",
    "        pickle.dump(train_loss_history, f)\n",
    "    with open(val_loss_history_path, 'wb') as f:\n",
    "        pickle.dump(val_loss_history, f)\n",
    "    with open(val_f1_history_path, 'wb') as f:\n",
    "        pickle.dump(val_f1_history, f)\n",
    "    with open(saved_model_epochs_path, 'wb') as f:\n",
    "        pickle.dump(saved_model_epochs, f)"
   ]
  },
  {
   "cell_type": "code",
   "execution_count": 23,
   "id": "f52b2fbf",
   "metadata": {},
   "outputs": [
    {
     "name": "stdout",
     "output_type": "stream",
     "text": [
      "Number of train graphs:  566\n",
      "Class weights: tensor([2.2891e-01, 2.5843e+01, 4.0719e-01, 5.7940e+00, 2.2585e-01, 7.6486e+00,\n",
      "        8.5712e+00, 6.6532e+00, 5.3901e+03, 1.2577e+03, 3.3515e-01, 9.4562e+00,\n",
      "        3.2695e+01, 1.7967e+03, 5.7869e+01], device='cuda:0')\n"
     ]
    },
    {
     "name": "stderr",
     "output_type": "stream",
     "text": [
      "                                                             \r"
     ]
    },
    {
     "name": "stdout",
     "output_type": "stream",
     "text": [
      "Epoch 0 Saved best model. Best F1: 0.6247636248403812\n",
      "Epoch 0, Train Loss: 2.8626, Validation Loss: 1.9543, Validation F1: 0.6248\n"
     ]
    },
    {
     "name": "stderr",
     "output_type": "stream",
     "text": [
      "                                                             \r"
     ]
    },
    {
     "name": "stdout",
     "output_type": "stream",
     "text": [
      "Epoch 4 Saved best model. Best F1: 0.6725307077764066\n"
     ]
    },
    {
     "name": "stderr",
     "output_type": "stream",
     "text": [
      "                                                             \r"
     ]
    },
    {
     "name": "stdout",
     "output_type": "stream",
     "text": [
      "Epoch 6 Saved best model. Best F1: 0.824026222872768\n"
     ]
    },
    {
     "name": "stderr",
     "output_type": "stream",
     "text": [
      "                                                             \r"
     ]
    },
    {
     "name": "stdout",
     "output_type": "stream",
     "text": [
      "Epoch 7 Saved best model. Best F1: 0.8801658842569117\n"
     ]
    },
    {
     "name": "stderr",
     "output_type": "stream",
     "text": [
      "                                                             \r"
     ]
    },
    {
     "name": "stdout",
     "output_type": "stream",
     "text": [
      "Epoch 9 Saved best model. Best F1: 0.8826770853089494\n"
     ]
    },
    {
     "name": "stderr",
     "output_type": "stream",
     "text": [
      "                                                             \r"
     ]
    },
    {
     "name": "stdout",
     "output_type": "stream",
     "text": [
      "Epoch 10 Saved best model. Best F1: 0.9053273633264949\n",
      "Epoch 10, Train Loss: 0.4597, Validation Loss: 0.3554, Validation F1: 0.9053\n"
     ]
    },
    {
     "name": "stderr",
     "output_type": "stream",
     "text": [
      "                                                             \r"
     ]
    },
    {
     "name": "stdout",
     "output_type": "stream",
     "text": [
      "Epoch 12 Saved best model. Best F1: 0.9339473487961669\n"
     ]
    },
    {
     "name": "stderr",
     "output_type": "stream",
     "text": [
      "                                                             \r"
     ]
    },
    {
     "name": "stdout",
     "output_type": "stream",
     "text": [
      "Epoch 14 Saved best model. Best F1: 0.9358994986345431\n"
     ]
    },
    {
     "name": "stderr",
     "output_type": "stream",
     "text": [
      "                                                             \r"
     ]
    },
    {
     "name": "stdout",
     "output_type": "stream",
     "text": [
      "Epoch 18 Saved best model. Best F1: 0.9465857027203877\n"
     ]
    },
    {
     "name": "stderr",
     "output_type": "stream",
     "text": [
      "                                                             \r"
     ]
    },
    {
     "name": "stdout",
     "output_type": "stream",
     "text": [
      "Epoch 19 Saved best model. Best F1: 0.9473535219961695\n"
     ]
    },
    {
     "name": "stderr",
     "output_type": "stream",
     "text": [
      "                                                             \r"
     ]
    },
    {
     "name": "stdout",
     "output_type": "stream",
     "text": [
      "Epoch 20 Saved best model. Best F1: 0.9632048034591184\n",
      "Epoch 20, Train Loss: 0.2213, Validation Loss: 0.3607, Validation F1: 0.9632\n"
     ]
    },
    {
     "name": "stderr",
     "output_type": "stream",
     "text": [
      "                                                             \r"
     ]
    },
    {
     "name": "stdout",
     "output_type": "stream",
     "text": [
      "Epoch 23 Saved best model. Best F1: 0.9687961300556654\n"
     ]
    },
    {
     "name": "stderr",
     "output_type": "stream",
     "text": [
      "                                                             \r"
     ]
    },
    {
     "name": "stdout",
     "output_type": "stream",
     "text": [
      "Epoch 24 Saved best model. Best F1: 0.9693947984208316\n"
     ]
    },
    {
     "name": "stderr",
     "output_type": "stream",
     "text": [
      "                                                             \r"
     ]
    },
    {
     "name": "stdout",
     "output_type": "stream",
     "text": [
      "Epoch 28 Saved best model. Best F1: 0.9695515804495726\n"
     ]
    },
    {
     "name": "stderr",
     "output_type": "stream",
     "text": [
      "                                                             \r"
     ]
    },
    {
     "name": "stdout",
     "output_type": "stream",
     "text": [
      "Epoch 30, Train Loss: 0.1329, Validation Loss: 0.3979, Validation F1: 0.9659\n"
     ]
    },
    {
     "name": "stderr",
     "output_type": "stream",
     "text": [
      "                                                             \r"
     ]
    },
    {
     "name": "stdout",
     "output_type": "stream",
     "text": [
      "Epoch 32 Saved best model. Best F1: 0.971385741249435\n"
     ]
    },
    {
     "name": "stderr",
     "output_type": "stream",
     "text": [
      "                                                             \r"
     ]
    },
    {
     "name": "stdout",
     "output_type": "stream",
     "text": [
      "Epoch 40, Train Loss: 0.0863, Validation Loss: 0.4691, Validation F1: 0.9694\n"
     ]
    },
    {
     "name": "stderr",
     "output_type": "stream",
     "text": [
      "                                                             \r"
     ]
    },
    {
     "name": "stdout",
     "output_type": "stream",
     "text": [
      "Epoch 42 Saved best model. Best F1: 0.9715192208577607\n"
     ]
    },
    {
     "name": "stderr",
     "output_type": "stream",
     "text": [
      "                                                             \r"
     ]
    },
    {
     "name": "stdout",
     "output_type": "stream",
     "text": [
      "Epoch 43 Saved best model. Best F1: 0.9722869639302719\n"
     ]
    },
    {
     "name": "stderr",
     "output_type": "stream",
     "text": [
      "                                                             \r"
     ]
    },
    {
     "name": "stdout",
     "output_type": "stream",
     "text": [
      "Epoch 50, Train Loss: 0.0691, Validation Loss: 0.3976, Validation F1: 0.9704\n"
     ]
    },
    {
     "name": "stderr",
     "output_type": "stream",
     "text": [
      "                                                             \r"
     ]
    },
    {
     "name": "stdout",
     "output_type": "stream",
     "text": [
      "Epoch 53 Saved best model. Best F1: 0.972685125380843\n"
     ]
    },
    {
     "name": "stderr",
     "output_type": "stream",
     "text": [
      "                                                             \r"
     ]
    },
    {
     "name": "stdout",
     "output_type": "stream",
     "text": [
      "Epoch 54 Saved best model. Best F1: 0.9738086982364307\n"
     ]
    },
    {
     "name": "stderr",
     "output_type": "stream",
     "text": [
      "                                                             \r"
     ]
    },
    {
     "name": "stdout",
     "output_type": "stream",
     "text": [
      "Epoch 60, Train Loss: 0.0572, Validation Loss: 0.4839, Validation F1: 0.9724\n"
     ]
    },
    {
     "name": "stderr",
     "output_type": "stream",
     "text": [
      "                                                             \r"
     ]
    },
    {
     "name": "stdout",
     "output_type": "stream",
     "text": [
      "Epoch 65 Saved best model. Best F1: 0.9754071046176138\n"
     ]
    },
    {
     "name": "stderr",
     "output_type": "stream",
     "text": [
      "                                                             \r"
     ]
    },
    {
     "name": "stdout",
     "output_type": "stream",
     "text": [
      "Epoch 69 Saved best model. Best F1: 0.9761354541753788\n"
     ]
    },
    {
     "name": "stderr",
     "output_type": "stream",
     "text": [
      "                                                             \r"
     ]
    },
    {
     "name": "stdout",
     "output_type": "stream",
     "text": [
      "Epoch 70 Saved best model. Best F1: 0.9765409017378003\n",
      "Epoch 70, Train Loss: 0.0546, Validation Loss: 0.6263, Validation F1: 0.9765\n"
     ]
    },
    {
     "name": "stderr",
     "output_type": "stream",
     "text": [
      "                                                             \r"
     ]
    },
    {
     "name": "stdout",
     "output_type": "stream",
     "text": [
      "Epoch 80, Train Loss: 0.0389, Validation Loss: 0.7292, Validation F1: 0.9733\n"
     ]
    },
    {
     "name": "stderr",
     "output_type": "stream",
     "text": [
      "                                                             \r"
     ]
    },
    {
     "name": "stdout",
     "output_type": "stream",
     "text": [
      "Epoch 90, Train Loss: 0.0306, Validation Loss: 0.7730, Validation F1: 0.9748\n"
     ]
    },
    {
     "name": "stderr",
     "output_type": "stream",
     "text": [
      "                                                             \r"
     ]
    },
    {
     "name": "stdout",
     "output_type": "stream",
     "text": [
      "Epoch 100, Train Loss: 0.0299, Validation Loss: 0.8187, Validation F1: 0.9750\n"
     ]
    },
    {
     "name": "stderr",
     "output_type": "stream",
     "text": [
      "                                                             \r"
     ]
    },
    {
     "name": "stdout",
     "output_type": "stream",
     "text": [
      "Epoch 110, Train Loss: 0.0403, Validation Loss: 0.6378, Validation F1: 0.9762\n"
     ]
    },
    {
     "name": "stderr",
     "output_type": "stream",
     "text": [
      "                                                             \r"
     ]
    },
    {
     "name": "stdout",
     "output_type": "stream",
     "text": [
      "Epoch 120, Train Loss: 0.0442, Validation Loss: 0.7837, Validation F1: 0.9762\n"
     ]
    },
    {
     "name": "stderr",
     "output_type": "stream",
     "text": [
      "                                                             \r"
     ]
    },
    {
     "name": "stdout",
     "output_type": "stream",
     "text": [
      "Epoch 127 Saved best model. Best F1: 0.9766201270129978\n"
     ]
    },
    {
     "name": "stderr",
     "output_type": "stream",
     "text": [
      "                                                             \r"
     ]
    },
    {
     "name": "stdout",
     "output_type": "stream",
     "text": [
      "Epoch 130, Train Loss: 0.0365, Validation Loss: 0.9613, Validation F1: 0.9761\n"
     ]
    },
    {
     "name": "stderr",
     "output_type": "stream",
     "text": [
      "                                                             \r"
     ]
    },
    {
     "name": "stdout",
     "output_type": "stream",
     "text": [
      "Epoch 134 Saved best model. Best F1: 0.9767147232251135\n"
     ]
    },
    {
     "name": "stderr",
     "output_type": "stream",
     "text": [
      "                                                             \r"
     ]
    },
    {
     "name": "stdout",
     "output_type": "stream",
     "text": [
      "Epoch 140, Train Loss: 0.0341, Validation Loss: 1.0147, Validation F1: 0.9763\n"
     ]
    },
    {
     "name": "stderr",
     "output_type": "stream",
     "text": [
      "                                                             \r"
     ]
    },
    {
     "name": "stdout",
     "output_type": "stream",
     "text": [
      "Epoch 150, Train Loss: 0.0302, Validation Loss: 1.0562, Validation F1: 0.9760\n"
     ]
    },
    {
     "name": "stderr",
     "output_type": "stream",
     "text": [
      "                                                             \r"
     ]
    },
    {
     "name": "stdout",
     "output_type": "stream",
     "text": [
      "Epoch 160, Train Loss: 0.0296, Validation Loss: 1.1074, Validation F1: 0.9767\n"
     ]
    },
    {
     "name": "stderr",
     "output_type": "stream",
     "text": [
      "                                                             \r"
     ]
    },
    {
     "name": "stdout",
     "output_type": "stream",
     "text": [
      "Epoch 170, Train Loss: 0.0275, Validation Loss: 1.1439, Validation F1: 0.9766\n"
     ]
    },
    {
     "name": "stderr",
     "output_type": "stream",
     "text": [
      "                                                             \r"
     ]
    },
    {
     "name": "stdout",
     "output_type": "stream",
     "text": [
      "Epoch 180, Train Loss: 0.0259, Validation Loss: 1.1559, Validation F1: 0.9767\n"
     ]
    },
    {
     "name": "stderr",
     "output_type": "stream",
     "text": [
      "                                                             \r"
     ]
    },
    {
     "name": "stdout",
     "output_type": "stream",
     "text": [
      "Epoch 190, Train Loss: 0.0258, Validation Loss: 1.1573, Validation F1: 0.9766\n"
     ]
    },
    {
     "name": "stderr",
     "output_type": "stream",
     "text": [
      "                                                             \r"
     ]
    },
    {
     "name": "stdout",
     "output_type": "stream",
     "text": [
      "Model training completed and saved.\n"
     ]
    }
   ],
   "source": [
    "# Extract the best parameters from the grid search\n",
    "import pickle\n",
    "\n",
    "\n",
    "best_hidden_dim = 512  # Replace with the best hidden_dim found\n",
    "best_learning_rate = 0.005  # Replace with the best learning_rate found\n",
    "best_drop_out = 0.3  # Replace with the best drop_out found\n",
    "epochs = 200\n",
    "\n",
    "print(\"Number of train graphs: \", len(train_graph_dataset))\n",
    "\n",
    "# Initialize the model with the best parameters\n",
    "model = EGraphSAGE(node_in_channels=num_features, \n",
    "                   edge_in_channels=num_features,\n",
    "                   hidden_channels=best_hidden_dim,\n",
    "                   dropout = best_drop_out,\n",
    "                   out_channels=num_classes).to(device)\n",
    "\n",
    "model.apply(init_weights)\n",
    "\n",
    "# Normalize class weights\n",
    "class_weights = th.FloatTensor(train_graph_dataset.class_weights).to(device)\n",
    "print(\"Class weights:\", class_weights)\n",
    "\n",
    "# Define the loss function and optimizer\n",
    "criterion = nn.CrossEntropyLoss(weight=class_weights)\n",
    "optimizer = th.optim.Adam(model.parameters(), lr=best_learning_rate)\n",
    "scheduler = th.optim.lr_scheduler.CosineAnnealingLR(optimizer, T_max=epochs, eta_min=1e-6)\n",
    "\n",
    "# ===== Load checkpoint if exists =====\n",
    "best_f1 = 0\n",
    "start_epoch = 0\n",
    "\n",
    "if os.path.exists(checkpoint_path):\n",
    "    checkpoint = th.load(checkpoint_path)\n",
    "    model.load_state_dict(checkpoint['model_state_dict'])\n",
    "    optimizer.load_state_dict(checkpoint['optimizer_state_dict'])\n",
    "    scheduler.load_state_dict(checkpoint['scheduler_state_dict'])\n",
    "    start_epoch = checkpoint['epoch'] + 1\n",
    "    best_f1 = checkpoint['best_f1']\n",
    "    print(f\"Resumed training from epoch {start_epoch}\")\n",
    "\n",
    "train_loss_history = []\n",
    "val_loss_history = []\n",
    "val_f1_history = []\n",
    "saved_model_epochs = []\n",
    "\n",
    "train_loss_history_path = os.path.join(saves_path, 'train_loss_history.pkl')\n",
    "val_loss_history_path = os.path.join(saves_path, 'val_loss_history.pkl')\n",
    "val_f1_history_path = os.path.join(saves_path, 'val_f1_history.pkl')\n",
    "saved_model_epochs_path = os.path.join(saves_path, 'saved_model_epochs.pkl')\n",
    "\n",
    "if os.path.exists(train_loss_history_path) and os.path.exists(val_loss_history_path) and os.path.exists(val_f1_history_path) and os.path.exists(saved_model_epochs_path):\n",
    "    with open(train_loss_history_path, 'rb') as f:\n",
    "        train_loss_history = pickle.load(f)\n",
    "    with open(val_loss_history_path, 'rb') as f:\n",
    "        val_loss_history = pickle.load(f)\n",
    "    with open(val_f1_history_path, 'rb') as f:\n",
    "        val_f1_history = pickle.load(f)\n",
    "    with open(saved_model_epochs_path, 'rb') as f:\n",
    "        saved_model_epochs = pickle.load(f)\n",
    "\n",
    "# ===== Start Training =====\n",
    "for epoch in range(start_epoch, epochs):\n",
    "    model.train()\n",
    "\n",
    "    train_loss = 0\n",
    "    num_train_graphs = len(train_graph_dataset)\n",
    "\n",
    "    val_loss = 0\n",
    "    num_val_graphs = len(val_graph_dataset)\n",
    "\n",
    "    optimizer.zero_grad()\n",
    "    for G_pyg_train in tqdm(train_graph_dataset, desc=\"Training\", leave=False):\n",
    "\n",
    "        # Move the graph data to the device\n",
    "        G_pyg_train = G_pyg_train.to(device)\n",
    "        G_pyg_train.edge_label = G_pyg_train.edge_label.to(device)\n",
    "        G_pyg_train.edge_attr = G_pyg_train.edge_attr.to(device)\n",
    "\n",
    "        out = model(G_pyg_train)\n",
    "        loss = criterion(out, G_pyg_train.edge_label) / num_train_graphs\n",
    "        \n",
    "        train_loss += loss.item()\n",
    "        loss.backward()\n",
    "\n",
    "    optimizer.step()\n",
    "    scheduler.step()\n",
    "\n",
    "    test_label_list = []\n",
    "    pred_label_list = []\n",
    "\n",
    "    model.eval()\n",
    "    with th.no_grad():\n",
    "        for G_pyg_val in tqdm(val_graph_dataset, desc=\"Evaluation\", leave=False):\n",
    "            G_pyg_val = G_pyg_val.to(device)\n",
    "            G_pyg_val.edge_label = G_pyg_val.edge_label.to(device)\n",
    "            G_pyg_val.edge_attr = G_pyg_val.edge_attr.to(device)\n",
    "\n",
    "            out = model(G_pyg_val)\n",
    "            loss = criterion(out, G_pyg_val.edge_label) / num_val_graphs\n",
    "            val_loss += loss.item()\n",
    "\n",
    "            test_label_list.append(G_pyg_val.edge_label.cpu())\n",
    "            pred_label_list.append(out.argmax(dim=1).cpu())\n",
    "\n",
    "    test_label = th.cat(test_label_list)\n",
    "    pred_label = th.cat(pred_label_list)\n",
    "\n",
    "    val_f1 = f1_score(test_label, pred_label, average='weighted')\n",
    "    val_f1_micro = f1_score(test_label, pred_label, average='micro')\n",
    "    val_f1_macro = f1_score(test_label, pred_label, average='macro')\n",
    "    \n",
    "    train_loss_history.append(train_loss)\n",
    "    val_loss_history.append(val_loss)\n",
    "    val_f1_history.append((val_f1, val_f1_micro, val_f1_macro))\n",
    "\n",
    "    if val_f1 > best_f1:\n",
    "        best_f1 = val_f1  # Update the best F1 score for this fold\n",
    "        best_model_state = model.state_dict()\n",
    "        saved_model_epochs.append(epoch)\n",
    "\n",
    "        save_progress(epoch, model, optimizer, scheduler, best_f1, train_loss_history, val_loss_history, val_f1_history, saved_model_epochs)\n",
    "        th.save(best_model_state, best_model_path)\n",
    "        print(f\"Epoch {epoch} Saved best model. Best F1:\", best_f1)\n",
    "\n",
    "    if epoch % 10 == 0:\n",
    "        # Save checkpoint\n",
    "        print(f'Epoch {epoch}, Train Loss: {train_loss:.4f}, Validation Loss: {val_loss:.4f}, Validation F1: {val_f1:.4f}')\n",
    "        save_progress(epoch, model, optimizer, scheduler, best_f1, train_loss_history, val_loss_history, val_f1_history, saved_model_epochs)\n",
    "\n",
    "# Save the trained model\n",
    "end_epoch = epochs\n",
    "save_progress(end_epoch, model, optimizer, scheduler, best_f1, train_loss_history, val_loss_history, val_f1_history, saved_model_epochs)\n",
    "print(\"Model training completed and saved.\")"
   ]
  },
  {
   "cell_type": "code",
   "execution_count": 24,
   "id": "f64c2932",
   "metadata": {},
   "outputs": [],
   "source": [
    "def plot_training_process(train_losses, val_losses, val_f1, saved_model_epochs):\n",
    "    fig, axs = plt.subplots(2, 1, figsize=(10, 8), sharex=True)\n",
    "\n",
    "    # Plot Train Loss\n",
    "    axs[0].plot(train_losses, label='Train Loss', color='blue')\n",
    "    axs[0].plot(val_losses, label='Validation Loss', color='red')\n",
    "    axs[0].set_ylabel('Train Loss')\n",
    "    axs[0].set_title('Training Loss')\n",
    "    axs[0].legend()\n",
    "    axs[0].grid()\n",
    "\n",
    "    val_f1_weighted_history = []\n",
    "    val_f1_micro_history = []\n",
    "    val_f1_macro_history = []\n",
    "\n",
    "    for val_f1_weighted, val_f1_micro, val_f1_macro in val_f1:\n",
    "        val_f1_weighted_history.append(val_f1_weighted)\n",
    "        val_f1_micro_history.append(val_f1_micro)\n",
    "        val_f1_macro_history.append(val_f1_macro)\n",
    "    \n",
    "    # Plot Validation F1\n",
    "\n",
    "    axs[1].plot(val_f1_weighted_history, label='Validation F1 Weighted', color='green')\n",
    "    axs[1].plot(val_f1_micro_history, label='Validation F1 Micro', color='blue')\n",
    "    axs[1].plot(val_f1_macro_history, label='Validation F1 Macro', color='red')\n",
    "    axs[1].set_xlabel('Epochs')\n",
    "    axs[1].set_ylabel('Validation F1')\n",
    "    axs[1].set_title('Validation F1 Score')\n",
    "    axs[1].legend()\n",
    "    axs[1].grid()\n",
    "\n",
    "    # Add scatter for saved model epochs (e.g., F1 weighted here)\n",
    "    axs[1].scatter(saved_model_epochs, [val_f1_weighted_history[i] for i in saved_model_epochs],\n",
    "                   color='black', marker='o', label='Saved Model')\n",
    "    axs[1].legend()\n",
    "\n",
    "    print(len(train_losses))\n",
    "\n",
    "    plt.tight_layout()\n",
    "    plt.show()"
   ]
  },
  {
   "cell_type": "code",
   "execution_count": 25,
   "id": "2572f236",
   "metadata": {},
   "outputs": [
    {
     "name": "stdout",
     "output_type": "stream",
     "text": [
      "200\n"
     ]
    },
    {
     "data": {
      "image/png": "[encoded data removed]",
      "text/plain": [
       "<Figure size 1000x800 with 2 Axes>"
      ]
     },
     "metadata": {},
     "output_type": "display_data"
    }
   ],
   "source": [
    "plot_training_process(train_loss_history, val_loss_history, val_f1_history, saved_model_epochs)"
   ]
  },
  {
   "cell_type": "code",
   "execution_count": 26,
   "id": "ecab59c8",
   "metadata": {},
   "outputs": [
    {
     "name": "stdout",
     "output_type": "stream",
     "text": [
      "Average, Min, and Max Degrees Across All Graphs:\n",
      "  Attack Class ['BENIGN']:\n",
      "    Avg Out-Degree (src): 1.1332 | Min: 1 | Max: 202\n",
      "    Avg In-Degree (dst): 2.2951 | Min: 1 | Max: 448\n",
      "  Attack Class ['Bot']:\n",
      "    Avg Out-Degree (src): 1.5880 | Min: 1 | Max: 227\n",
      "    Avg In-Degree (dst): 2.7155 | Min: 1 | Max: 254\n",
      "  Attack Class ['DDoS']:\n",
      "    Avg Out-Degree (src): 1.5012 | Min: 1 | Max: 3\n",
      "    Avg In-Degree (dst): 934.5036 | Min: 1 | Max: 1000\n",
      "  Attack Class ['DoS GoldenEye']:\n",
      "    Avg Out-Degree (src): 1.2137 | Min: 1 | Max: 2\n",
      "    Avg In-Degree (dst): 857.7500 | Min: 359 | Max: 1000\n",
      "  Attack Class ['DoS Hulk']:\n",
      "    Avg Out-Degree (src): 1.1662 | Min: 1 | Max: 4\n",
      "    Avg In-Degree (dst): 987.4915 | Min: 347 | Max: 1000\n",
      "  Attack Class ['DoS Slowhttptest']:\n",
      "    Avg Out-Degree (src): 1.0749 | Min: 1 | Max: 5\n",
      "    Avg In-Degree (dst): 611.0000 | Min: 146 | Max: 845\n",
      "  Attack Class ['DoS slowloris']:\n",
      "    Avg Out-Degree (src): 1.0313 | Min: 1 | Max: 5\n",
      "    Avg In-Degree (dst): 483.0000 | Min: 1 | Max: 758\n",
      "  Attack Class ['FTP-Patator']:\n",
      "    Avg Out-Degree (src): 1.8401 | Min: 1 | Max: 2\n",
      "    Avg In-Degree (dst): 396.9000 | Min: 1 | Max: 627\n",
      "  Attack Class ['Heartbleed']:\n",
      "    Avg Out-Degree (src): 2.7500 | Min: 2 | Max: 4\n",
      "    Avg In-Degree (dst): 2.7500 | Min: 2 | Max: 4\n",
      "  Attack Class ['Infiltration']:\n",
      "    Avg Out-Degree (src): 1.8000 | Min: 1 | Max: 4\n",
      "    Avg In-Degree (dst): 2.4000 | Min: 1 | Max: 9\n",
      "  Attack Class ['PortScan']:\n",
      "    Avg Out-Degree (src): 2.0407 | Min: 1 | Max: 992\n",
      "    Avg In-Degree (dst): 1.1696 | Min: 1 | Max: 62\n",
      "  Attack Class ['SSH-Patator']:\n",
      "    Avg Out-Degree (src): 1.8579 | Min: 1 | Max: 3\n",
      "    Avg In-Degree (dst): 421.2143 | Min: 135 | Max: 580\n",
      "  Attack Class ['Web Attack - Brute Force']:\n",
      "    Avg Out-Degree (src): 1.0992 | Min: 1 | Max: 2\n",
      "    Avg In-Degree (dst): 188.3750 | Min: 7 | Max: 299\n",
      "  Attack Class ['Web Attack - Sql Injection']:\n",
      "    Avg Out-Degree (src): 1.7500 | Min: 1 | Max: 2\n",
      "    Avg In-Degree (dst): 21.0000 | Min: 21 | Max: 21\n",
      "  Attack Class ['Web Attack - XSS']:\n",
      "    Avg Out-Degree (src): 1.0300 | Min: 1 | Max: 2\n",
      "    Avg In-Degree (dst): 217.3333 | Min: 117 | Max: 345\n"
     ]
    }
   ],
   "source": [
    "import torch\n",
    "from torch_geometric.utils import degree\n",
    "from collections import defaultdict\n",
    "\n",
    "def check_global_avg_degrees_per_class(graph_dataset):\n",
    "    # Dictionaries to hold total degree sums and counts per class\n",
    "    total_out_deg = defaultdict(float)\n",
    "    total_in_deg = defaultdict(float)\n",
    "    count_out_nodes = defaultdict(int)\n",
    "    count_in_nodes = defaultdict(int)\n",
    "    min_out_deg = defaultdict(lambda: float('inf'))\n",
    "    max_out_deg = defaultdict(lambda: float('-inf'))\n",
    "    min_in_deg = defaultdict(lambda: float('inf'))\n",
    "    max_in_deg = defaultdict(lambda: float('-inf'))\n",
    "\n",
    "    for graph in graph_dataset:\n",
    "        edge_index = graph.edge_index\n",
    "        edge_label = graph.edge_label\n",
    "        num_nodes = graph.num_nodes\n",
    "\n",
    "        unique_classes = torch.unique(edge_label)\n",
    "\n",
    "        for cls in unique_classes:\n",
    "            cls = int(cls)\n",
    "            mask = (edge_label == cls)\n",
    "\n",
    "            src_nodes = edge_index[0][mask]\n",
    "            dst_nodes = edge_index[1][mask]\n",
    "\n",
    "            out_deg = degree(src_nodes, num_nodes=num_nodes)\n",
    "            in_deg = degree(dst_nodes, num_nodes=num_nodes)\n",
    "\n",
    "            involved_src = out_deg > 0\n",
    "            involved_dst = in_deg > 0\n",
    "\n",
    "            total_out_deg[cls] += out_deg[involved_src].sum().item()\n",
    "            total_in_deg[cls] += in_deg[involved_dst].sum().item()\n",
    "            count_out_nodes[cls] += involved_src.sum().item()\n",
    "            count_in_nodes[cls] += involved_dst.sum().item()\n",
    "\n",
    "            if involved_src.any():\n",
    "                min_out_deg[cls] = min(min_out_deg[cls], out_deg[involved_src].min().item())\n",
    "                max_out_deg[cls] = max(max_out_deg[cls], out_deg[involved_src].max().item())\n",
    "            if involved_dst.any():\n",
    "                min_in_deg[cls] = min(min_in_deg[cls], in_deg[involved_dst].min().item())\n",
    "                max_in_deg[cls] = max(max_in_deg[cls], in_deg[involved_dst].max().item())\n",
    "\n",
    "    print(\"Average, Min, and Max Degrees Across All Graphs:\")\n",
    "    for cls in sorted(total_out_deg.keys()):\n",
    "        avg_out = total_out_deg[cls] / count_out_nodes[cls] if count_out_nodes[cls] > 0 else 0.0\n",
    "        avg_in = total_in_deg[cls] / count_in_nodes[cls] if count_in_nodes[cls] > 0 else 0.0\n",
    "        min_out = min_out_deg[cls] if min_out_deg[cls] != float('inf') else 0.0\n",
    "        max_out = max_out_deg[cls] if max_out_deg[cls] != float('-inf') else 0.0\n",
    "        min_in = min_in_deg[cls] if min_in_deg[cls] != float('inf') else 0.0\n",
    "        max_in = max_in_deg[cls] if max_in_deg[cls] != float('-inf') else 0.0\n",
    "\n",
    "        print(f\"  Attack Class {le.inverse_transform([cls])}:\")\n",
    "        print(f\"    Avg Out-Degree (src): {avg_out:.4f} | Min: {min_out:.0f} | Max: {max_out:.0f}\")\n",
    "        print(f\"    Avg In-Degree (dst): {avg_in:.4f} | Min: {min_in:.0f} | Max: {max_in:.0f}\")\n",
    "\n",
    "check_global_avg_degrees_per_class(graph_dataset)"
   ]
  },
  {
   "cell_type": "code",
   "execution_count": 27,
   "id": "857f271a-612b-4cd6-a85a-e4236dec9d80",
   "metadata": {},
   "outputs": [
    {
     "name": "stdout",
     "output_type": "stream",
     "text": [
      "Number of test graphs:  118\n",
      "Loading model from /vol/bitbucket/shc20/FYP/GNN-Adversarial-Attack/Models/E_GraphSAGE/logs/CIC_IDS_2017/strat_window_combined_port_1000/best_model_all_downsampled.pth\n",
      "inference start\n"
     ]
    },
    {
     "name": "stderr",
     "output_type": "stream",
     "text": [
      "                                                             "
     ]
    },
    {
     "name": "stdout",
     "output_type": "stream",
     "text": [
      "Test Accuracy: 0.9829\n",
      "class_map ['BENIGN' 'Bot' 'DDoS' 'DoS GoldenEye' 'DoS Hulk' 'DoS Slowhttptest'\n",
      " 'DoS slowloris' 'FTP-Patator' 'Heartbleed' 'Infiltration' 'PortScan'\n",
      " 'SSH-Patator' 'Web Attack - Brute Force' 'Web Attack - Sql Injection'\n",
      " 'Web Attack - XSS']\n",
      "[[33504    81    20     4     9    25     0    26     2    43   574    30\n",
      "      8     5    13]\n",
      " [    1   311     0     0     0     0     0     0     0     0     0     0\n",
      "      0     0     0]\n",
      " [    0     0 19434     0     0     0     0     0     0     0     0     0\n",
      "      0     0     0]\n",
      " [    0     0     0  2000     0     0     0     0     0     0     0     0\n",
      "      0     0     0]\n",
      " [  992     0     0     0 33519     0     0     0     0     0     0     0\n",
      "      0     0     0]\n",
      " [  146     0     0     0     0     0     0     0     0     0     0     0\n",
      "      0     0     0]\n",
      " [    5     0     0     0     0     0   621     0     0     0     0     0\n",
      "      0     0     0]\n",
      " [    1     0     0     0     0     0     0   963     0     0     0     0\n",
      "      0     0     0]\n",
      " [    0     0     0     0     0     0     0     0     4     0     0     0\n",
      "      0     0     0]\n",
      " [    0     0     0     0     0     0     0     0     0     3     0     0\n",
      "      0     0     0]\n",
      " [   30     0     0     0     0     0     0     0     0     0 24593     0\n",
      "      0     0     0]\n",
      " [    0     0     0     0     0     0     0     0     0     0     0   848\n",
      "      0     0     0]\n",
      " [    0     0     0     0     0     0     0     0     0     0     0     0\n",
      "    185     0     0]\n",
      " [    0     0     0     0     0     0     0     0     0     0     0     0\n",
      "      0     0     0]\n",
      " [    0     0     0     0     0     0     0     0     0     0     0     0\n",
      "      0     0     0]]\n",
      "                            precision    recall  f1-score   support\n",
      "\n",
      "                    BENIGN     0.9661    0.9755    0.9708     34344\n",
      "                       Bot     0.7934    0.9968    0.8835       312\n",
      "                      DDoS     0.9990    1.0000    0.9995     19434\n",
      "             DoS GoldenEye     0.9980    1.0000    0.9990      2000\n",
      "                  DoS Hulk     0.9997    0.9713    0.9853     34511\n",
      "          DoS Slowhttptest     0.0000    0.0000    0.0000       146\n",
      "             DoS slowloris     1.0000    0.9920    0.9960       626\n",
      "               FTP-Patator     0.9737    0.9990    0.9862       964\n",
      "                Heartbleed     0.6667    1.0000    0.8000         4\n",
      "              Infiltration     0.0652    1.0000    0.1224         3\n",
      "                  PortScan     0.9772    0.9988    0.9879     24623\n",
      "               SSH-Patator     0.9658    1.0000    0.9826       848\n",
      "  Web Attack - Brute Force     0.9585    1.0000    0.9788       185\n",
      "Web Attack - Sql Injection     0.0000    0.0000    0.0000         0\n",
      "          Web Attack - XSS     0.0000    0.0000    0.0000         0\n",
      "\n",
      "                  accuracy                         0.9829    118000\n",
      "                 macro avg     0.6909    0.7956    0.7128    118000\n",
      "              weighted avg     0.9828    0.9829    0.9827    118000\n",
      "\n"
     ]
    },
    {
     "name": "stderr",
     "output_type": "stream",
     "text": [
      "/vol/bitbucket/shc20/FYP/GNN-Adversarial-Attack/.venv/lib/python3.12/site-packages/sklearn/metrics/_classification.py:1565: UndefinedMetricWarning: Recall is ill-defined and being set to 0.0 in labels with no true samples. Use `zero_division` parameter to control this behavior.\n",
      "  _warn_prf(average, modifier, f\"{metric.capitalize()} is\", len(result))\n",
      "/vol/bitbucket/shc20/FYP/GNN-Adversarial-Attack/.venv/lib/python3.12/site-packages/sklearn/metrics/_classification.py:1565: UndefinedMetricWarning: Recall is ill-defined and being set to 0.0 in labels with no true samples. Use `zero_division` parameter to control this behavior.\n",
      "  _warn_prf(average, modifier, f\"{metric.capitalize()} is\", len(result))\n",
      "/vol/bitbucket/shc20/FYP/GNN-Adversarial-Attack/.venv/lib/python3.12/site-packages/sklearn/metrics/_classification.py:1565: UndefinedMetricWarning: Recall is ill-defined and being set to 0.0 in labels with no true samples. Use `zero_division` parameter to control this behavior.\n",
      "  _warn_prf(average, modifier, f\"{metric.capitalize()} is\", len(result))\n"
     ]
    }
   ],
   "source": [
    "from torch_geometric.utils import subgraph\n",
    "from torch_geometric.data import Data\n",
    "from sklearn.metrics import confusion_matrix\n",
    "from sklearn.metrics import classification_report\n",
    "\n",
    "def compute_accuracy(pred, labels):\n",
    "    return (pred.argmax(1) == labels).float().mean().item()\n",
    "\n",
    "def eval(dataset, adversarial=False):\n",
    "\n",
    "    best_model = EGraphSAGE(node_in_channels=num_features, \n",
    "                       edge_in_channels=num_features,\n",
    "                       hidden_channels=best_hidden_dim, \n",
    "                       out_channels=num_classes).to(device)\n",
    "\n",
    "    print(\"Loading model from\", best_model_path)\n",
    "    best_model.load_state_dict(th.load(best_model_path, weights_only=True))\n",
    "\n",
    "    best_model.eval()\n",
    "\n",
    "    print(\"inference start\")\n",
    "    with th.no_grad():\n",
    "        all_pred_logits = []\n",
    "        all_test_labels = []\n",
    "        for G_pyg in tqdm(dataset, desc=\"Evaluation\", leave=False):\n",
    "            try:\n",
    "                # Move the graph data to the device\n",
    "                G_pyg = G_pyg.to(device)\n",
    "                G_pyg.edge_label = G_pyg.edge_label.to(device)\n",
    "                G_pyg.edge_attr = G_pyg.edge_attr.to(device)\n",
    "                out = best_model(G_pyg)\n",
    "                \n",
    "            except Exception as forward_error:\n",
    "                print(f\"Error during forward/backward pass at {forward_error}\")\n",
    "\n",
    "            all_pred_logits.append(out.cpu())\n",
    "            all_test_labels.append(G_pyg.edge_label.cpu())\n",
    "\n",
    "        all_pred_logits = th.cat(all_pred_logits).to(device)\n",
    "        all_test_labels = th.cat(all_test_labels).to(device)\n",
    "        test_accuracy = compute_accuracy(all_pred_logits, all_test_labels)\n",
    "        print(f'Test Accuracy: {test_accuracy:.4f}')\n",
    "\n",
    "        pred_labels = all_pred_logits.argmax(dim=1).cpu()\n",
    "        all_test_labels = all_test_labels.cpu()\n",
    "    \n",
    "    if adversarial:\n",
    "\n",
    "        # Create a boolean mask where the label is NOT equal to the adversarial class\n",
    "        adversarial_mask = all_test_labels == ADVERSARIAL_CLASS_LABEL\n",
    "\n",
    "        # Print the class that the adversarial samples are classified as\n",
    "        cm_adversarial = confusion_matrix(all_test_labels[adversarial_mask], pred_labels[adversarial_mask], labels=range(len(class_map) + 1))\n",
    "        print(\"Adversarial confusion matrix:\", cm_adversarial)\n",
    "\n",
    "        # Apply the mask to both labels and predictions\n",
    "        all_test_labels = all_test_labels[~adversarial_mask]\n",
    "        pred_labels = pred_labels[~adversarial_mask]\n",
    "\n",
    "    print(\"class_map\", class_map)\n",
    "    # Generate a report\n",
    "    cm = confusion_matrix(all_test_labels, pred_labels, labels=range(len(class_map)))\n",
    "    print(cm)\n",
    "\n",
    "\n",
    "    report = classification_report(all_test_labels, pred_labels, target_names=class_map, digits=4, labels=range(len(class_map)))\n",
    "    print(report)\n",
    "\n",
    "print(\"Number of test graphs: \", len(test_graph_dataset))\n",
    "eval(test_graph_dataset)\n"
   ]
  },
  {
   "cell_type": "code",
   "execution_count": 28,
   "id": "cff736d0",
   "metadata": {},
   "outputs": [],
   "source": [
    "def inject_traffic_to_node(graph, ratio=0.1, num_injected_nodes=1, to_src=False):\n",
    "    edge_index = graph.edge_index.clone()\n",
    "    edge_attr = graph.edge_attr.clone()\n",
    "    edge_label = graph.edge_label.clone()\n",
    "    x = graph.x.clone()\n",
    "\n",
    "    num_edges = edge_index.size(1)\n",
    "    feature_dim = graph.x.size(1)\n",
    "\n",
    "    # Get all src nodes\n",
    "    src_nodes = edge_index[0] if to_src else edge_index[1]\n",
    "\n",
    "    original_num_nodes = x.size(0)\n",
    "\n",
    "    new_node_feats = th.ones((num_injected_nodes, feature_dim))\n",
    "    x = th.cat([x, new_node_feats], dim=0)\n",
    "\n",
    "    # 4. Inject edges from injected nodes to attacker nodes\n",
    "    num_to_inject = max(1, int(ratio * num_edges))\n",
    "    new_edges = []\n",
    "    new_attrs = []\n",
    "    new_labels = []\n",
    "\n",
    "    \n",
    "    for _ in range(num_to_inject):\n",
    "        src = random.randint(original_num_nodes, original_num_nodes + num_injected_nodes - 1)  # from injected nodes\n",
    "        dst = random.choice(src_nodes)  # to existing nodes \n",
    "\n",
    "        new_edges.append([src, dst])\n",
    "        attr = th.rand(feature_dim)  # random feature for the new edge\n",
    "        new_attrs.append(attr)\n",
    "        new_labels.append(ADVERSARIAL_CLASS_LABEL)\n",
    "\n",
    "    # Create a new empty graph to store the injected edges\n",
    "    new_graph = Data()\n",
    "\n",
    "    # 5. Merge into graph\n",
    "    if new_edges:\n",
    "        new_edges = th.tensor(new_edges, dtype=th.long).t().contiguous()\n",
    "        new_attrs = th.stack(new_attrs)\n",
    "        new_labels = th.tensor(new_labels, dtype=th.long)\n",
    "\n",
    "        new_graph.edge_index = th.cat([edge_index, new_edges], dim=1)\n",
    "        new_graph.edge_attr = th.cat([edge_attr, new_attrs], dim=0)\n",
    "        new_graph.edge_label = th.cat([edge_label, new_labels], dim=0)\n",
    "        new_graph.x = x\n",
    "\n",
    "    return new_graph\n",
    "\n"
   ]
  },
  {
   "cell_type": "code",
   "execution_count": 33,
   "id": "c0a4cf4a",
   "metadata": {},
   "outputs": [
    {
     "name": "stdout",
     "output_type": "stream",
     "text": [
      "Loading model from /vol/bitbucket/shc20/FYP/GNN-Adversarial-Attack/Models/E_GraphSAGE/logs/CIC_IDS_2017/strat_window_combined_port_1000/best_model_all_downsampled.pth\n",
      "inference start\n"
     ]
    },
    {
     "name": "stderr",
     "output_type": "stream",
     "text": [
      "Evaluation:   0%|          | 0/118 [00:00<?, ?it/s]"
     ]
    },
    {
     "name": "stderr",
     "output_type": "stream",
     "text": [
      "                                                             "
     ]
    },
    {
     "name": "stdout",
     "output_type": "stream",
     "text": [
      "Test Accuracy: 0.7209\n",
      "Adversarial confusion matrix: [[    0     0     0     0     0     0     0     0     0     0     0     0\n",
      "      0     0     0     0]\n",
      " [    0     0     0     0     0     0     0     0     0     0     0     0\n",
      "      0     0     0     0]\n",
      " [    0     0     0     0     0     0     0     0     0     0     0     0\n",
      "      0     0     0     0]\n",
      " [    0     0     0     0     0     0     0     0     0     0     0     0\n",
      "      0     0     0     0]\n",
      " [    0     0     0     0     0     0     0     0     0     0     0     0\n",
      "      0     0     0     0]\n",
      " [    0     0     0     0     0     0     0     0     0     0     0     0\n",
      "      0     0     0     0]\n",
      " [    0     0     0     0     0     0     0     0     0     0     0     0\n",
      "      0     0     0     0]\n",
      " [    0     0     0     0     0     0     0     0     0     0     0     0\n",
      "      0     0     0     0]\n",
      " [    0     0     0     0     0     0     0     0     0     0     0     0\n",
      "      0     0     0     0]\n",
      " [    0     0     0     0     0     0     0     0     0     0     0     0\n",
      "      0     0     0     0]\n",
      " [    0     0     0     0     0     0     0     0     0     0     0     0\n",
      "      0     0     0     0]\n",
      " [    0     0     0     0     0     0     0     0     0     0     0     0\n",
      "      0     0     0     0]\n",
      " [    0     0     0     0     0     0     0     0     0     0     0     0\n",
      "      0     0     0     0]\n",
      " [    0     0     0     0     0     0     0     0     0     0     0     0\n",
      "      0     0     0     0]\n",
      " [    0     0     0     0     0     0     0     0     0     0     0     0\n",
      "      0     0     0     0]\n",
      " [11314    14    40   339    75     2     2     1     6     3     3     0\n",
      "      0     0     1     0]]\n",
      "class_map ['BENIGN' 'Bot' 'DDoS' 'DoS GoldenEye' 'DoS Hulk' 'DoS Slowhttptest'\n",
      " 'DoS slowloris' 'FTP-Patator' 'Heartbleed' 'Infiltration' 'PortScan'\n",
      " 'SSH-Patator' 'Web Attack - Brute Force' 'Web Attack - Sql Injection'\n",
      " 'Web Attack - XSS']\n",
      "[[34052    55    15     6     8    16     0    20     2    42    61    13\n",
      "      1     5    48]\n",
      " [    5   307     0     0     0     0     0     0     0     0     0     0\n",
      "      0     0     0]\n",
      " [   70     0 19364     0     0     0     0     0     0     0     0     0\n",
      "      0     0     0]\n",
      " [   43     0     0  1957     0     0     0     0     0     0     0     0\n",
      "      0     0     0]\n",
      " [ 6647     0     0   882 26982     0     0     0     0     0     0     0\n",
      "      0     0     0]\n",
      " [  146     0     0     0     0     0     0     0     0     0     0     0\n",
      "      0     0     0]\n",
      " [    5     0     0     0     0     0   621     0     0     0     0     0\n",
      "      0     0     0]\n",
      " [  142     0     0     0     0     0     0   822     0     0     0     0\n",
      "      0     0     0]\n",
      " [    0     0     0     0     0     0     0     0     4     0     0     0\n",
      "      0     0     0]\n",
      " [    0     0     0     0     0     0     0     0     0     3     0     0\n",
      "      0     0     0]\n",
      " [15153     0     0     0     0     0     0     0     0     0  9463     0\n",
      "      0     0     7]\n",
      " [  848     0     0     0     0     0     0     0     0     0     0     0\n",
      "      0     0     0]\n",
      " [   22     0     0     0     0     0     0     0     0     0     0     0\n",
      "      0     0   163]\n",
      " [    0     0     0     0     0     0     0     0     0     0     0     0\n",
      "      0     0     0]\n",
      " [    0     0     0     0     0     0     0     0     0     0     0     0\n",
      "      0     0     0]]\n",
      "                            precision    recall  f1-score   support\n",
      "\n",
      "                    BENIGN     0.5960    0.9915    0.7445     34344\n",
      "                       Bot     0.8481    0.9840    0.9110       312\n",
      "                      DDoS     0.9992    0.9964    0.9978     19434\n",
      "             DoS GoldenEye     0.6879    0.9785    0.8078      2000\n",
      "                  DoS Hulk     0.9997    0.7818    0.8774     34511\n",
      "          DoS Slowhttptest     0.0000    0.0000    0.0000       146\n",
      "             DoS slowloris     1.0000    0.9920    0.9960       626\n",
      "               FTP-Patator     0.9762    0.8527    0.9103       964\n",
      "                Heartbleed     0.6667    1.0000    0.8000         4\n",
      "              Infiltration     0.0667    1.0000    0.1250         3\n",
      "                  PortScan     0.9936    0.3843    0.5543     24623\n",
      "               SSH-Patator     0.0000    0.0000    0.0000       848\n",
      "  Web Attack - Brute Force     0.0000    0.0000    0.0000       185\n",
      "Web Attack - Sql Injection     0.0000    0.0000    0.0000         0\n",
      "          Web Attack - XSS     0.0000    0.0000    0.0000         0\n",
      "\n",
      "                  accuracy                         0.7930    118000\n",
      "                 macro avg     0.5223    0.5974    0.5149    118000\n",
      "              weighted avg     0.8650    0.7930    0.7822    118000\n",
      "\n"
     ]
    },
    {
     "name": "stderr",
     "output_type": "stream",
     "text": [
      "/vol/bitbucket/shc20/FYP/GNN-Adversarial-Attack/.venv/lib/python3.12/site-packages/sklearn/metrics/_classification.py:1565: UndefinedMetricWarning: Recall is ill-defined and being set to 0.0 in labels with no true samples. Use `zero_division` parameter to control this behavior.\n",
      "  _warn_prf(average, modifier, f\"{metric.capitalize()} is\", len(result))\n",
      "/vol/bitbucket/shc20/FYP/GNN-Adversarial-Attack/.venv/lib/python3.12/site-packages/sklearn/metrics/_classification.py:1565: UndefinedMetricWarning: Recall is ill-defined and being set to 0.0 in labels with no true samples. Use `zero_division` parameter to control this behavior.\n",
      "  _warn_prf(average, modifier, f\"{metric.capitalize()} is\", len(result))\n",
      "/vol/bitbucket/shc20/FYP/GNN-Adversarial-Attack/.venv/lib/python3.12/site-packages/sklearn/metrics/_classification.py:1565: UndefinedMetricWarning: Recall is ill-defined and being set to 0.0 in labels with no true samples. Use `zero_division` parameter to control this behavior.\n",
      "  _warn_prf(average, modifier, f\"{metric.capitalize()} is\", len(result))\n"
     ]
    }
   ],
   "source": [
    "# Inject Attack Traffic to Attacker Nodes\n",
    "injected_graph_dataset = [inject_traffic_to_node(g.cpu(), 0.1, num_injected_nodes=1, to_src=True) for g in test_graph_dataset]\n",
    "eval(injected_graph_dataset, adversarial=True)"
   ]
  },
  {
   "cell_type": "code",
   "execution_count": 34,
   "id": "90b60cd6",
   "metadata": {},
   "outputs": [
    {
     "name": "stdout",
     "output_type": "stream",
     "text": [
      "Loading model from /vol/bitbucket/shc20/FYP/GNN-Adversarial-Attack/Models/E_GraphSAGE/logs/CIC_IDS_2017/strat_window_combined_port_1000/best_model_all_downsampled.pth\n",
      "inference start\n"
     ]
    },
    {
     "name": "stderr",
     "output_type": "stream",
     "text": [
      "                                                             "
     ]
    },
    {
     "name": "stdout",
     "output_type": "stream",
     "text": [
      "Test Accuracy: 0.8744\n",
      "Adversarial confusion matrix: [[   0    0    0    0    0    0    0    0    0    0    0    0    0    0\n",
      "     0    0]\n",
      " [   0    0    0    0    0    0    0    0    0    0    0    0    0    0\n",
      "     0    0]\n",
      " [   0    0    0    0    0    0    0    0    0    0    0    0    0    0\n",
      "     0    0]\n",
      " [   0    0    0    0    0    0    0    0    0    0    0    0    0    0\n",
      "     0    0]\n",
      " [   0    0    0    0    0    0    0    0    0    0    0    0    0    0\n",
      "     0    0]\n",
      " [   0    0    0    0    0    0    0    0    0    0    0    0    0    0\n",
      "     0    0]\n",
      " [   0    0    0    0    0    0    0    0    0    0    0    0    0    0\n",
      "     0    0]\n",
      " [   0    0    0    0    0    0    0    0    0    0    0    0    0    0\n",
      "     0    0]\n",
      " [   0    0    0    0    0    0    0    0    0    0    0    0    0    0\n",
      "     0    0]\n",
      " [   0    0    0    0    0    0    0    0    0    0    0    0    0    0\n",
      "     0    0]\n",
      " [   0    0    0    0    0    0    0    0    0    0    0    0    0    0\n",
      "     0    0]\n",
      " [   0    0    0    0    0    0    0    0    0    0    0    0    0    0\n",
      "     0    0]\n",
      " [   0    0    0    0    0    0    0    0    0    0    0    0    0    0\n",
      "     0    0]\n",
      " [   0    0    0    0    0    0    0    0    0    0    0    0    0    0\n",
      "     0    0]\n",
      " [   0    0    0    0    0    0    0    0    0    0    0    0    0    0\n",
      "     0    0]\n",
      " [5872   20 1951  205 3353    1   65   94    1    1  127   89   19    2\n",
      "     0    0]]\n",
      "class_map ['BENIGN' 'Bot' 'DDoS' 'DoS GoldenEye' 'DoS Hulk' 'DoS Slowhttptest'\n",
      " 'DoS slowloris' 'FTP-Patator' 'Heartbleed' 'Infiltration' 'PortScan'\n",
      " 'SSH-Patator' 'Web Attack - Brute Force' 'Web Attack - Sql Injection'\n",
      " 'Web Attack - XSS']\n",
      "[[33632    55    18     8    11    22     0    20     2    38   492    23\n",
      "      8     5    10]\n",
      " [    1   311     0     0     0     0     0     0     0     0     0     0\n",
      "      0     0     0]\n",
      " [    0     0 19434     0     0     0     0     0     0     0     0     0\n",
      "      0     0     0]\n",
      " [    0     0     0  2000     0     0     0     0     0     0     0     0\n",
      "      0     0     0]\n",
      " [  992     0     0     0 33519     0     0     0     0     0     0     0\n",
      "      0     0     0]\n",
      " [  146     0     0     0     0     0     0     0     0     0     0     0\n",
      "      0     0     0]\n",
      " [    5     0     0     0     0     0   621     0     0     0     0     0\n",
      "      0     0     0]\n",
      " [    1     0     0     0     0     0     0   963     0     0     0     0\n",
      "      0     0     0]\n",
      " [    0     0     0     0     0     0     0     0     4     0     0     0\n",
      "      0     0     0]\n",
      " [    0     0     0     0     0     0     0     0     0     3     0     0\n",
      "      0     0     0]\n",
      " [ 2645     0     0     1     1     0     3     0     0     0 21973     0\n",
      "      0     0     0]\n",
      " [    0     0     0     0     0     0     0     0     0     0     0   848\n",
      "      0     0     0]\n",
      " [    0     0     0     0     0     0     0     0     0     0     0     0\n",
      "    185     0     0]\n",
      " [    0     0     0     0     0     0     0     0     0     0     0     0\n",
      "      0     0     0]\n",
      " [    0     0     0     0     0     0     0     0     0     0     0     0\n",
      "      0     0     0]]\n",
      "                            precision    recall  f1-score   support\n",
      "\n",
      "                    BENIGN     0.8987    0.9793    0.9373     34344\n",
      "                       Bot     0.8497    0.9968    0.9174       312\n",
      "                      DDoS     0.9991    1.0000    0.9995     19434\n",
      "             DoS GoldenEye     0.9955    1.0000    0.9978      2000\n",
      "                  DoS Hulk     0.9996    0.9713    0.9852     34511\n",
      "          DoS Slowhttptest     0.0000    0.0000    0.0000       146\n",
      "             DoS slowloris     0.9952    0.9920    0.9936       626\n",
      "               FTP-Patator     0.9797    0.9990    0.9892       964\n",
      "                Heartbleed     0.6667    1.0000    0.8000         4\n",
      "              Infiltration     0.0732    1.0000    0.1364         3\n",
      "                  PortScan     0.9781    0.8924    0.9333     24623\n",
      "               SSH-Patator     0.9736    1.0000    0.9866       848\n",
      "  Web Attack - Brute Force     0.9585    1.0000    0.9788       185\n",
      "Web Attack - Sql Injection     0.0000    0.0000    0.0000         0\n",
      "          Web Attack - XSS     0.0000    0.0000    0.0000         0\n",
      "\n",
      "                  accuracy                         0.9618    118000\n",
      "                 macro avg     0.6912    0.7887    0.7103    118000\n",
      "              weighted avg     0.9635    0.9618    0.9617    118000\n",
      "\n"
     ]
    },
    {
     "name": "stderr",
     "output_type": "stream",
     "text": [
      "/vol/bitbucket/shc20/FYP/GNN-Adversarial-Attack/.venv/lib/python3.12/site-packages/sklearn/metrics/_classification.py:1565: UndefinedMetricWarning: Recall is ill-defined and being set to 0.0 in labels with no true samples. Use `zero_division` parameter to control this behavior.\n",
      "  _warn_prf(average, modifier, f\"{metric.capitalize()} is\", len(result))\n",
      "/vol/bitbucket/shc20/FYP/GNN-Adversarial-Attack/.venv/lib/python3.12/site-packages/sklearn/metrics/_classification.py:1565: UndefinedMetricWarning: Recall is ill-defined and being set to 0.0 in labels with no true samples. Use `zero_division` parameter to control this behavior.\n",
      "  _warn_prf(average, modifier, f\"{metric.capitalize()} is\", len(result))\n",
      "/vol/bitbucket/shc20/FYP/GNN-Adversarial-Attack/.venv/lib/python3.12/site-packages/sklearn/metrics/_classification.py:1565: UndefinedMetricWarning: Recall is ill-defined and being set to 0.0 in labels with no true samples. Use `zero_division` parameter to control this behavior.\n",
      "  _warn_prf(average, modifier, f\"{metric.capitalize()} is\", len(result))\n"
     ]
    }
   ],
   "source": [
    "# Inject Attack Traffic to Attacker Nodes\n",
    "injected_graph_dataset = [inject_traffic_to_node(g.cpu(), 0.1, num_injected_nodes=1, to_src=False) for g in test_graph_dataset]\n",
    "eval(injected_graph_dataset, adversarial=True)"
   ]
  },
  {
   "cell_type": "code",
   "execution_count": 35,
   "id": "00842cc1",
   "metadata": {},
   "outputs": [],
   "source": [
    "# Inject Random Edges\n",
    "def inject_random_edges(graph, ratio=0.1):\n",
    "    edge_index = graph.edge_index.clone()\n",
    "    edge_attr = graph.edge_attr.clone()\n",
    "    edge_label = graph.edge_label.clone()\n",
    "    x = graph.x.clone()\n",
    "\n",
    "    num_nodes = x.size(0)\n",
    "    feature_dim = graph.x.size(1)\n",
    "\n",
    "    new_edge_indices = []\n",
    "    new_edge_attrs = []\n",
    "    new_edge_labels = []\n",
    "\n",
    "    num_edges = edge_index.size(1)\n",
    "    num_injected_edges = max(1, int(ratio * num_edges))\n",
    "\n",
    "    for _ in range(num_injected_edges):\n",
    "        src = random.randint(0, num_nodes - 1)  # Random source node\n",
    "        dst = random.randint(0, num_nodes - 1)  # Random destination node\n",
    "\n",
    "        new_edge_indices.append([src, dst])\n",
    "        new_edge_attrs.append(th.rand(feature_dim))  # Random feature for the new edge\n",
    "        new_edge_labels.append(ADVERSARIAL_CLASS_LABEL)\n",
    "\n",
    "    if new_edge_indices:\n",
    "        new_edge_indices = th.tensor(new_edge_indices, dtype=th.long).t().contiguous()\n",
    "        new_edge_attrs = th.stack(new_edge_attrs)\n",
    "        new_edge_labels = th.tensor(new_edge_labels, dtype=th.long)\n",
    "\n",
    "        edge_index = th.cat([edge_index, new_edge_indices], dim=1)\n",
    "        edge_attr = th.cat([edge_attr, new_edge_attrs], dim=0)\n",
    "        edge_label = th.cat([edge_label, new_edge_labels], dim=0)\n",
    "\n",
    "    return Data(x=x, edge_index=edge_index, edge_attr=edge_attr, edge_label=edge_label)"
   ]
  },
  {
   "cell_type": "code",
   "execution_count": 36,
   "id": "b0623f28",
   "metadata": {},
   "outputs": [
    {
     "name": "stdout",
     "output_type": "stream",
     "text": [
      "Loading model from /vol/bitbucket/shc20/FYP/GNN-Adversarial-Attack/Models/E_GraphSAGE/logs/CIC_IDS_2017/strat_window_combined_port_1000/best_model_all_downsampled.pth\n",
      "inference start\n"
     ]
    },
    {
     "name": "stderr",
     "output_type": "stream",
     "text": [
      "Evaluation:  75%|███████▍  | 88/118 [00:00<00:00, 874.27it/s]"
     ]
    },
    {
     "name": "stderr",
     "output_type": "stream",
     "text": [
      "                                                             "
     ]
    },
    {
     "name": "stdout",
     "output_type": "stream",
     "text": [
      "Test Accuracy: 0.7873\n",
      "Adversarial confusion matrix: [[    0     0     0     0     0     0     0     0     0     0     0     0\n",
      "      0     0     0     0]\n",
      " [    0     0     0     0     0     0     0     0     0     0     0     0\n",
      "      0     0     0     0]\n",
      " [    0     0     0     0     0     0     0     0     0     0     0     0\n",
      "      0     0     0     0]\n",
      " [    0     0     0     0     0     0     0     0     0     0     0     0\n",
      "      0     0     0     0]\n",
      " [    0     0     0     0     0     0     0     0     0     0     0     0\n",
      "      0     0     0     0]\n",
      " [    0     0     0     0     0     0     0     0     0     0     0     0\n",
      "      0     0     0     0]\n",
      " [    0     0     0     0     0     0     0     0     0     0     0     0\n",
      "      0     0     0     0]\n",
      " [    0     0     0     0     0     0     0     0     0     0     0     0\n",
      "      0     0     0     0]\n",
      " [    0     0     0     0     0     0     0     0     0     0     0     0\n",
      "      0     0     0     0]\n",
      " [    0     0     0     0     0     0     0     0     0     0     0     0\n",
      "      0     0     0     0]\n",
      " [    0     0     0     0     0     0     0     0     0     0     0     0\n",
      "      0     0     0     0]\n",
      " [    0     0     0     0     0     0     0     0     0     0     0     0\n",
      "      0     0     0     0]\n",
      " [    0     0     0     0     0     0     0     0     0     0     0     0\n",
      "      0     0     0     0]\n",
      " [    0     0     0     0     0     0     0     0     0     0     0     0\n",
      "      0     0     0     0]\n",
      " [    0     0     0     0     0     0     0     0     0     0     0     0\n",
      "      0     0     0     0]\n",
      " [11423    46     3   246    49     3     3     0     1     2    22     0\n",
      "      0     0     2     0]]\n",
      "class_map ['BENIGN' 'Bot' 'DDoS' 'DoS GoldenEye' 'DoS Hulk' 'DoS Slowhttptest'\n",
      " 'DoS slowloris' 'FTP-Patator' 'Heartbleed' 'Infiltration' 'PortScan'\n",
      " 'SSH-Patator' 'Web Attack - Brute Force' 'Web Attack - Sql Injection'\n",
      " 'Web Attack - XSS']\n",
      "[[33664    89    21     7     8    20     0    20     2    37   416    19\n",
      "      8     2    31]\n",
      " [   11   301     0     0     0     0     0     0     0     0     0     0\n",
      "      0     0     0]\n",
      " [  328     0 19106     0     0     0     0     0     0     0     0     0\n",
      "      0     0     0]\n",
      " [   67     0     0  1933     0     0     0     0     0     0     0     0\n",
      "      0     0     0]\n",
      " [ 6549     0     2   883 27077     0     0     0     0     0     0     0\n",
      "      0     0     0]\n",
      " [  146     0     0     0     0     0     0     0     0     0     0     0\n",
      "      0     0     0]\n",
      " [    5     0     0     0     0     0   621     0     0     0     0     0\n",
      "      0     0     0]\n",
      " [   48     0     0     0     0     0     0   916     0     0     0     0\n",
      "      0     0     0]\n",
      " [    0     0     0     0     0     0     0     0     4     0     0     0\n",
      "      0     0     0]\n",
      " [    1     0     0     0     0     0     0     0     0     2     0     0\n",
      "      0     0     0]\n",
      " [ 5228   821     0     0     0     0     1     0     0     0 18563     0\n",
      "      3     0     7]\n",
      " [  848     0     0     0     0     0     0     0     0     0     0     0\n",
      "      0     0     0]\n",
      " [   15     0     0     0     0     0     1     0     0     0     0     0\n",
      "      0     0   169]\n",
      " [    0     0     0     0     0     0     0     0     0     0     0     0\n",
      "      0     0     0]\n",
      " [    0     0     0     0     0     0     0     0     0     0     0     0\n",
      "      0     0     0]]\n",
      "                            precision    recall  f1-score   support\n",
      "\n",
      "                    BENIGN     0.7176    0.9802    0.8286     34344\n",
      "                       Bot     0.2486    0.9647    0.3953       312\n",
      "                      DDoS     0.9988    0.9831    0.9909     19434\n",
      "             DoS GoldenEye     0.6847    0.9665    0.8016      2000\n",
      "                  DoS Hulk     0.9997    0.7846    0.8792     34511\n",
      "          DoS Slowhttptest     0.0000    0.0000    0.0000       146\n",
      "             DoS slowloris     0.9968    0.9920    0.9944       626\n",
      "               FTP-Patator     0.9786    0.9502    0.9642       964\n",
      "                Heartbleed     0.6667    1.0000    0.8000         4\n",
      "              Infiltration     0.0513    0.6667    0.0952         3\n",
      "                  PortScan     0.9781    0.7539    0.8515     24623\n",
      "               SSH-Patator     0.0000    0.0000    0.0000       848\n",
      "  Web Attack - Brute Force     0.0000    0.0000    0.0000       185\n",
      "Web Attack - Sql Injection     0.0000    0.0000    0.0000         0\n",
      "          Web Attack - XSS     0.0000    0.0000    0.0000         0\n",
      "\n",
      "                  accuracy                         0.8660    118000\n",
      "                 macro avg     0.4881    0.6028    0.5067    118000\n",
      "              weighted avg     0.8954    0.8660    0.8670    118000\n",
      "\n"
     ]
    },
    {
     "name": "stderr",
     "output_type": "stream",
     "text": [
      "/vol/bitbucket/shc20/FYP/GNN-Adversarial-Attack/.venv/lib/python3.12/site-packages/sklearn/metrics/_classification.py:1565: UndefinedMetricWarning: Recall is ill-defined and being set to 0.0 in labels with no true samples. Use `zero_division` parameter to control this behavior.\n",
      "  _warn_prf(average, modifier, f\"{metric.capitalize()} is\", len(result))\n",
      "/vol/bitbucket/shc20/FYP/GNN-Adversarial-Attack/.venv/lib/python3.12/site-packages/sklearn/metrics/_classification.py:1565: UndefinedMetricWarning: Recall is ill-defined and being set to 0.0 in labels with no true samples. Use `zero_division` parameter to control this behavior.\n",
      "  _warn_prf(average, modifier, f\"{metric.capitalize()} is\", len(result))\n",
      "/vol/bitbucket/shc20/FYP/GNN-Adversarial-Attack/.venv/lib/python3.12/site-packages/sklearn/metrics/_classification.py:1565: UndefinedMetricWarning: Recall is ill-defined and being set to 0.0 in labels with no true samples. Use `zero_division` parameter to control this behavior.\n",
      "  _warn_prf(average, modifier, f\"{metric.capitalize()} is\", len(result))\n"
     ]
    }
   ],
   "source": [
    "# Inject Random Edges\n",
    "injected_random_graph_dataset = [inject_random_edges(g.cpu(), 0.1) for g in test_graph_dataset]\n",
    "eval(injected_random_graph_dataset, adversarial=True)"
   ]
  }
 ],
 "metadata": {
  "kernelspec": {
   "display_name": ".venv",
   "language": "python",
   "name": "python3"
  },
  "language_info": {
   "codemirror_mode": {
    "name": "ipython",
    "version": 3
   },
   "file_extension": ".py",
   "mimetype": "text/x-python",
   "name": "python",
   "nbconvert_exporter": "python",
   "pygments_lexer": "ipython3",
   "version": "3.12.3"
  }
 },
 "nbformat": 4,
 "nbformat_minor": 5
}
